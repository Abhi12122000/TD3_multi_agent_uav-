{
  "cells": [
    {
      "cell_type": "markdown",
      "metadata": {
        "id": "view-in-github",
        "colab_type": "text"
      },
      "source": [
        "<a href=\"https://colab.research.google.com/github/Abhi12122000/TD3_multi_agent_uav-/blob/main/TD3_UAV_Multi_Agent.ipynb\" target=\"_parent\"><img src=\"https://colab.research.google.com/assets/colab-badge.svg\" alt=\"Open In Colab\"/></a>"
      ]
    },
    {
      "cell_type": "markdown",
      "metadata": {
        "id": "WXu1r8qvSzWf"
      },
      "source": [
        "# Twin-Delayed DDPG"
      ]
    },
    {
      "cell_type": "markdown",
      "metadata": {
        "id": "YRzQUhuUTc0J"
      },
      "source": [
        "## Installing the packages"
      ]
    },
    {
      "cell_type": "code",
      "execution_count": 6,
      "metadata": {
        "colab": {
          "base_uri": "https://localhost:8080/"
        },
        "id": "HAHMB0Ze8fU0",
        "outputId": "cee96f72-78f6-4a07-e3f9-cbfa7efc7da0"
      },
      "outputs": [
        {
          "output_type": "stream",
          "name": "stdout",
          "text": [
            "Looking in indexes: https://pypi.org/simple, https://us-python.pkg.dev/colab-wheels/public/simple/\n",
            "Collecting pybullet\n",
            "  Downloading pybullet-3.2.5-cp38-cp38-manylinux_2_5_x86_64.manylinux1_x86_64.whl (91.7 MB)\n",
            "\u001b[2K     \u001b[90m━━━━━━━━━━━━━━━━━━━━━━━━━━━━━━━━━━━━━━━━\u001b[0m \u001b[32m91.7/91.7 MB\u001b[0m \u001b[31m6.5 MB/s\u001b[0m eta \u001b[36m0:00:00\u001b[0m\n",
            "\u001b[?25hInstalling collected packages: pybullet\n",
            "Successfully installed pybullet-3.2.5\n"
          ]
        }
      ],
      "source": [
        "!pip install pybullet"
      ]
    },
    {
      "cell_type": "code",
      "source": [
        "!pip install gym==0.15.3"
      ],
      "metadata": {
        "colab": {
          "base_uri": "https://localhost:8080/"
        },
        "id": "eemS4LIUmID9",
        "outputId": "ee037860-c641-4e58-c401-666bdbd6704f"
      },
      "execution_count": 7,
      "outputs": [
        {
          "output_type": "stream",
          "name": "stdout",
          "text": [
            "Looking in indexes: https://pypi.org/simple, https://us-python.pkg.dev/colab-wheels/public/simple/\n",
            "Collecting gym==0.15.3\n",
            "  Downloading gym-0.15.3.tar.gz (1.6 MB)\n",
            "\u001b[2K     \u001b[90m━━━━━━━━━━━━━━━━━━━━━━━━━━━━━━━━━━━━━━━━\u001b[0m \u001b[32m1.6/1.6 MB\u001b[0m \u001b[31m26.8 MB/s\u001b[0m eta \u001b[36m0:00:00\u001b[0m\n",
            "\u001b[?25h  Preparing metadata (setup.py) ... \u001b[?25l\u001b[?25hdone\n",
            "Requirement already satisfied: scipy in /usr/local/lib/python3.8/dist-packages (from gym==0.15.3) (1.7.3)\n",
            "Requirement already satisfied: numpy>=1.10.4 in /usr/local/lib/python3.8/dist-packages (from gym==0.15.3) (1.21.6)\n",
            "Requirement already satisfied: six in /usr/local/lib/python3.8/dist-packages (from gym==0.15.3) (1.15.0)\n",
            "Collecting pyglet<=1.3.2,>=1.2.0\n",
            "  Downloading pyglet-1.3.2-py2.py3-none-any.whl (1.0 MB)\n",
            "\u001b[2K     \u001b[90m━━━━━━━━━━━━━━━━━━━━━━━━━━━━━━━━━━━━━━━━\u001b[0m \u001b[32m1.0/1.0 MB\u001b[0m \u001b[31m35.9 MB/s\u001b[0m eta \u001b[36m0:00:00\u001b[0m\n",
            "\u001b[?25hCollecting cloudpickle~=1.2.0\n",
            "  Downloading cloudpickle-1.2.2-py2.py3-none-any.whl (25 kB)\n",
            "Requirement already satisfied: future in /usr/local/lib/python3.8/dist-packages (from pyglet<=1.3.2,>=1.2.0->gym==0.15.3) (0.16.0)\n",
            "Building wheels for collected packages: gym\n",
            "  Building wheel for gym (setup.py) ... \u001b[?25l\u001b[?25hdone\n",
            "  Created wheel for gym: filename=gym-0.15.3-py3-none-any.whl size=1644968 sha256=572ba8d5539cb5648326ab18c50747673912bee159e523c223b76bee36d8f9ca\n",
            "  Stored in directory: /root/.cache/pip/wheels/9b/b4/52/f4cce4bdc360a2289a3433deaa062ceb13dbe429c342866e97\n",
            "Successfully built gym\n",
            "Installing collected packages: cloudpickle, pyglet, gym\n",
            "  Attempting uninstall: cloudpickle\n",
            "    Found existing installation: cloudpickle 2.2.0\n",
            "    Uninstalling cloudpickle-2.2.0:\n",
            "      Successfully uninstalled cloudpickle-2.2.0\n",
            "  Attempting uninstall: gym\n",
            "    Found existing installation: gym 0.25.2\n",
            "    Uninstalling gym-0.25.2:\n",
            "      Successfully uninstalled gym-0.25.2\n",
            "\u001b[31mERROR: pip's dependency resolver does not currently take into account all the packages that are installed. This behaviour is the source of the following dependency conflicts.\n",
            "tensorflow-probability 0.17.0 requires cloudpickle>=1.3, but you have cloudpickle 1.2.2 which is incompatible.\n",
            "distributed 2022.2.1 requires cloudpickle>=1.5.0, but you have cloudpickle 1.2.2 which is incompatible.\u001b[0m\u001b[31m\n",
            "\u001b[0mSuccessfully installed cloudpickle-1.2.2 gym-0.15.3 pyglet-1.3.2\n"
          ]
        }
      ]
    },
    {
      "cell_type": "markdown",
      "metadata": {
        "id": "Xjm2onHdT-Av"
      },
      "source": [
        "## Importing the libraries"
      ]
    },
    {
      "cell_type": "code",
      "execution_count": 8,
      "metadata": {
        "id": "Ikr2p0Js8iB4"
      },
      "outputs": [],
      "source": [
        "import os\n",
        "import time\n",
        "import math\n",
        "import random\n",
        "import numpy as np\n",
        "import matplotlib\n",
        "import matplotlib.pyplot as plt\n",
        "import pybullet_envs\n",
        "import gym\n",
        "import torch\n",
        "import torch.nn as nn\n",
        "import torch.nn.functional as F\n",
        "from gym import wrappers, Env, spaces\n",
        "from torch.autograd import Variable\n",
        "from collections import deque"
      ]
    },
    {
      "cell_type": "markdown",
      "metadata": {
        "id": "Y2nGdtlKVydr"
      },
      "source": [
        "## Step 1: Initializing Experience Replay memory"
      ]
    },
    {
      "cell_type": "code",
      "execution_count": 352,
      "metadata": {
        "id": "u5rW0IDB8nTO"
      },
      "outputs": [],
      "source": [
        "class ReplayBuffer(object):\n",
        "\n",
        "  def __init__(self, max_size=1e6):\n",
        "    self.storage = []\n",
        "    self.max_size = max_size\n",
        "    self.ptr = 0\n",
        "\n",
        "  def add(self, transition):\n",
        "    if len(self.storage) == self.max_size:\n",
        "      self.storage[int(self.ptr)] = transition\n",
        "      self.ptr = (self.ptr + 1) % self.max_size\n",
        "    else:\n",
        "      self.storage.append(transition)\n",
        "\n",
        "  def sample(self, batch_size):\n",
        "    ind = np.random.randint(0, len(self.storage), size=batch_size)\n",
        "    batch_states, batch_next_states, batch_actions, batch_rewards, batch_dones = [], [], [], [], []\n",
        "    for i in ind: \n",
        "      state, next_state, action, reward, done = self.storage[i]\n",
        "      batch_states.append(np.array(state, copy=False))  # 3D array - (batch_size, UAV_count, 3)\n",
        "      batch_next_states.append(np.array(next_state, copy=False))  \n",
        "      batch_actions.append(np.array(action, copy=False))  # 3D array - (batch_size, UAV_count, (UE_count * EC_count) + 4)\n",
        "      batch_rewards.append(np.array(reward, copy=False))  # (batch_size, 1)\n",
        "      batch_dones.append(np.array(done, copy=False))  # (batch_size, 1)\n",
        "    return np.array(batch_states), np.array(batch_next_states), np.array(batch_actions), np.array(batch_rewards).reshape(-1, 1), np.array(batch_dones).reshape(-1, 1)"
      ]
    },
    {
      "cell_type": "markdown",
      "metadata": {
        "id": "Jb7TTaHxWbQD"
      },
      "source": [
        "## Step 2: Actor Critic Networks"
      ]
    },
    {
      "cell_type": "code",
      "source": [
        "# Selecting the device (CPU or GPU)\n",
        "device = torch.device(\"cuda\" if torch.cuda.is_available() else \"cpu\")"
      ],
      "metadata": {
        "id": "rFR12OuO6iAk"
      },
      "execution_count": 353,
      "outputs": []
    },
    {
      "cell_type": "code",
      "execution_count": 354,
      "metadata": {
        "id": "4CeRW4D79HL0"
      },
      "outputs": [],
      "source": [
        "class Actor(nn.Module):\n",
        "  \n",
        "  def __init__(self, state_dim, action_dim, max_action, min_action):\n",
        "    super(Actor, self).__init__()\n",
        "    self.layer_1 = nn.Linear(state_dim, 400)\n",
        "    self.layer_2 = nn.Linear(400, 300)\n",
        "    self.layer_3 = nn.Linear(300, action_dim)\n",
        "    self.max_action = torch.from_numpy(max_action).to(device)\n",
        "    self.min_action = torch.from_numpy(min_action).to(device)\n",
        "\n",
        "  def forward(self, x):\n",
        "    # print(x)\n",
        "    # print(\"before layer 1\")\n",
        "    x = F.relu(self.layer_1(x))\n",
        "    # print(\"after layer 1\")\n",
        "    x = F.relu(self.layer_2(x))\n",
        "    # print(\"actor output: \", torch.tanh(self.layer_3(x)))\n",
        "    # print(\"after layer 2\")\n",
        "    # x = torch.tanh(self.layer_3(x))\n",
        "    # print(\"after layer 3\")\n",
        "    x = (((self.max_action - self.min_action) * (torch.tanh(self.layer_3(x)) + 1)) / 2) + self.min_action\n",
        "    # print(\"actor output SCALED: \", x) \n",
        "    return x"
      ]
    },
    {
      "cell_type": "code",
      "execution_count": 355,
      "metadata": {
        "id": "OCee7gwR9Jrs"
      },
      "outputs": [],
      "source": [
        "class Critic(nn.Module):\n",
        "  \n",
        "  def __init__(self, state_dim, action_dim):\n",
        "    super(Critic, self).__init__()\n",
        "    # Defining the first Critic neural network\n",
        "    self.layer_1 = nn.Linear(state_dim + action_dim, 400)\n",
        "    self.layer_2 = nn.Linear(400, 300)\n",
        "    self.layer_3 = nn.Linear(300, 1)\n",
        "    # Defining the second Critic neural network\n",
        "    self.layer_4 = nn.Linear(state_dim + action_dim, 400)\n",
        "    self.layer_5 = nn.Linear(400, 300)\n",
        "    self.layer_6 = nn.Linear(300, 1)\n",
        "\n",
        "  def forward(self, x, u):\n",
        "    xu = torch.cat([x, u], 1)\n",
        "    # Forward-Propagation on the first Critic Neural Network\n",
        "    x1 = F.relu(self.layer_1(xu))\n",
        "    x1 = F.relu(self.layer_2(x1))\n",
        "    x1 = self.layer_3(x1)\n",
        "    # Forward-Propagation on the second Critic Neural Network\n",
        "    x2 = F.relu(self.layer_4(xu))\n",
        "    x2 = F.relu(self.layer_5(x2))\n",
        "    x2 = self.layer_6(x2)\n",
        "    return x1, x2\n",
        "\n",
        "  def Q1(self, x, u):\n",
        "    xu = torch.cat([x, u], 1)\n",
        "    x1 = F.relu(self.layer_1(xu))\n",
        "    x1 = F.relu(self.layer_2(x1))\n",
        "    x1 = self.layer_3(x1)\n",
        "    return x1"
      ]
    },
    {
      "cell_type": "markdown",
      "metadata": {
        "id": "MsbbXWQsl_3_"
      },
      "source": [
        "## Single Agent UAV Environment Creation\n",
        "\n",
        "TO-DO: Make a function in the environment to generate fabricated positions of UEs (to better monitor model training)"
      ]
    },
    {
      "cell_type": "code",
      "execution_count": 356,
      "metadata": {
        "id": "oI25CkA0l_3_"
      },
      "outputs": [],
      "source": [
        "# Environment Parameters\n",
        "\n",
        "UE_seed = 1\n",
        "UAV_count = 2\n",
        "UE_count = 5\n",
        "EC_count = 1\n",
        "C_min = 100\n",
        "C_max = 200\n",
        "D_m_min = 1e6 # in bits\n",
        "D_m_max = 5e6 # in bits\n",
        "Z_max = 100\n",
        "Z_min = 50\n",
        "L_h_max = 49\n",
        "L_v_max = 12\n",
        "D_min = 100\n",
        "lambda_m = 1\n",
        "phi_n = np.radians(42.44)  # in degrees\n",
        "g_0 = 1e-5 # in power gain # -50 in dB\n",
        "B_u = 10 * 1e6  # in Hz\n",
        "B_k = 0.5 * 1e6  # in Hz\n",
        "P_max = 5\n",
        "P_m = 0.1\n",
        "P_r_n = 0.1\n",
        "F_u = 3e9 # in Hz\n",
        "F_e_k_max = 9e9 # in Hz\n",
        "F_e_k_min = 6e9 # in Hz\n",
        "kappa = (1e-28) # check if float maintains this precision\n",
        "sigma_squared_u = (1e-13) # in watt # -100 in dBm\n",
        "sigma_squared_e = (1e-13) # in watt # -100 in dBm\n",
        "w1 = w2 = 1\n",
        "eta_1 = 5\n",
        "eta_2 = 5\n",
        "eta_3 = 5\n",
        "boundary_x = boundary_y = 400.\n",
        "\n",
        "\n",
        "# plotting parameters\n",
        "plotting_boundary_buffer = 5.\n",
        "UAV_coverage_circle_color = 'lavender'\n",
        "EC_concentrated_region_color = 'mistyrose'"
      ]
    },
    {
      "cell_type": "code",
      "execution_count": 357,
      "metadata": {
        "id": "TIpx2SPcl_4A"
      },
      "outputs": [],
      "source": [
        "# Environment Bounds\n",
        "# TO DO\n",
        "action_space_single_agent_lb = np.zeros(4 + (EC_count * UE_count))\n",
        "action_space_single_agent_lb[2] = -L_v_max\n",
        "action_space_single_agent_lb[3] = 1e-2\n",
        "action_space_lb = np.array([action_space_single_agent_lb for _ in range(UAV_count)])\n",
        "\n",
        "action_space_single_agent_ub = np.ones(4 + (EC_count * UE_count))\n",
        "action_space_single_agent_ub[0:4] = [L_h_max, 2 * math.pi, L_v_max, P_max]\n",
        "action_space_ub = np.array([action_space_single_agent_ub for _ in range(UAV_count)])\n",
        "\n",
        "state_space_single_agent_lb = np.array(np.array([0, 0, Z_min]))\n",
        "state_space_lb = np.array([state_space_single_agent_lb for _ in range(UAV_count)])\n",
        "\n",
        "state_space_single_agent_ub = np.array([boundary_x, boundary_y, Z_max])\n",
        "state_space_ub = np.array([state_space_single_agent_ub for _ in range(UAV_count)])"
      ]
    },
    {
      "cell_type": "code",
      "execution_count": 358,
      "metadata": {
        "id": "GXBSk-KCl_4A"
      },
      "outputs": [],
      "source": [
        "# Environment Class\n",
        "class Multi_Agent_UAV(Env):\n",
        "    def __init__(self, initial_UAV_system_state = None):\n",
        "#         self.state_shape = \n",
        "#         defining action space\n",
        "        self.state_space = gym.spaces.box.Box(low = state_space_lb, high = state_space_ub)\n",
        "#         defining observation space\n",
        "        self.action_space = gym.spaces.box.Box(low = action_space_lb, high = action_space_ub)\n",
        "        \n",
        "        self.timesteps_in_episode = 0\n",
        "        self.done = False\n",
        "        self.last_action = self.action_space.sample()\n",
        "\n",
        "        self.UE_positions = []\n",
        "        self.EC_positions = []\n",
        "        self.EC_F_e_k = []\n",
        "        self.D_array = []\n",
        "        self.C_array = []\n",
        "#         initialize grid dimensions (400 x 400) \n",
        "        if initial_UAV_system_state is not None:\n",
        "          self.current_state = np.array(initial_UAV_system_state)\n",
        "        else:\n",
        "          self.current_state = self.select_random_state()\n",
        "        \n",
        "        self.previous_state = self.current_state\n",
        "        print(\"initial state of UAV: \", self.current_state)\n",
        "    \n",
        "#         call function to place UEs on the grid and specify (D_m, C_m, lambda_m) for UAVs\n",
        "        self.place_UEs(position=\"centered\", desired_z_coord = (Z_min + Z_max) / 2, center = None)\n",
        "        self.place_ECs_randomly()\n",
        "\n",
        "\n",
        "    def render_bar_plot(self, ax, plot_number, idx):\n",
        "        # TO DO\n",
        "        x_indices = np.arange(UE_count)\n",
        "        width = 0.5\n",
        "\n",
        "        gamma_array = (np.array(self.last_action[4:])).reshape((UE_count, EC_count))\n",
        "        gamma_zeros = (1 - gamma_array.sum(axis = 1))\n",
        "        \n",
        "        ax[plot_number, idx].bar(x_indices, gamma_zeros, width=width)\n",
        "        for i in range(EC_count):\n",
        "            ax[plot_number, idx].bar(x_indices, gamma_array[:, i], width=width)\n",
        "        \n",
        "    \n",
        "    def render_position_plot(self, ax, plot_number, idx):\n",
        "        # TO DO\n",
        "        C_max_t = (self.current_state[2] / np.tan(phi_n))\n",
        "        buffer = 5.\n",
        "        ax[plot_number, idx].set_xlim(-buffer, boundary_x+buffer)\n",
        "        ax[plot_number, idx].set_ylim(-buffer, boundary_y+buffer)\n",
        "        ax[plot_number, idx].grid()\n",
        "        UE_x = self.UE_positions[:, 0]\n",
        "        UE_y = self.UE_positions[:, 1]\n",
        "        ax[plot_number, idx].plot(UE_x, UE_y, color='black', marker='o', markersize=6, linestyle = '', label = \"UE\")\n",
        "        \n",
        "        EC_x = self.EC_positions[:, 0]\n",
        "        EC_y = self.EC_positions[:, 1]\n",
        "        ax[plot_number, idx].plot(EC_x, EC_y, color='red', marker='D', markersize=7, linestyle = '', label = \"EC\")\n",
        "        \n",
        "        ax[plot_number, idx].plot(self.current_state[0], self.current_state[1], color='blue', marker='x', markersize=9, linestyle = '', label = \"UAV\")\n",
        "        \n",
        "        UAV_coverage_area = plt.Circle((self.current_state[0] , self.current_state[1] ), C_max_t, color = UAV_coverage_circle_color)\n",
        "        ax[plot_number, idx].add_artist(UAV_coverage_area)\n",
        "      \n",
        "      # For testing: To plot the circle and visualize UE points inside it\n",
        "        if self.UE_center is not None:\n",
        "            Test_UE_allotment_circle = plt.Circle((self.UE_center[0] , self.UE_center[1]), self.UE_radius, color = EC_concentrated_region_color)\n",
        "            ax[plot_number, idx].add_artist(Test_UE_allotment_circle)\n",
        "      # End\n",
        "\n",
        "        ax[plot_number, idx].set_aspect(1)\n",
        "        # naming the x axis\n",
        "        ax[plot_number, idx].set_xlabel('X pos (m)')\n",
        "        # naming the y axis\n",
        "        ax[plot_number, idx].set_ylabel('Y pos (m)')\n",
        "        # giving a title to my graph\n",
        "        # plt.title('Visually Appealing!')\n",
        "\n",
        "        # show a legend on the plot\n",
        "        ax[plot_number, idx].legend()\n",
        "        # plt.show()\n",
        "\n",
        "\n",
        "    def render(self, **kwargs):\n",
        "      # TO DO\n",
        "        if 'fig' not in kwargs:\n",
        "            fig, ax = plt.subplots(1, 2, figsize=(20,10))\n",
        "            ax = np.array([ax])\n",
        "            kwargs['fig'] = fig\n",
        "            kwargs['ax'] = ax\n",
        "            kwargs['i'] = 0\n",
        "        \n",
        "        self.render_position_plot(kwargs['ax'], kwargs['i'], 0)\n",
        "        if(self.timesteps_in_episode != 0):\n",
        "            self.render_bar_plot(kwargs['ax'], kwargs['i'], 1)\n",
        "\n",
        "\n",
        "    def reset(self):\n",
        "          # TODO: add functionality to give UAV positions as custom input to this function\n",
        "#         we should only reassign the position of UAV here\n",
        "        self.current_state = self.select_random_state()\n",
        "        # print(\"new initial state of UAV (after resetting): \", self.current_state)\n",
        "        self.timesteps_in_episode = 0\n",
        "        self.done = False\n",
        "        return self.current_state\n",
        "    \n",
        "    \n",
        "    def step(self, action):\n",
        "        # print(\"printing action in step function: \", action)\n",
        "        action = np.array(action)\n",
        "#         action is a numpy array of individual actions of the UAVs\n",
        "#         action[i] is of the form [l_n(t), v_n(t), del_z_n(t), P_t_n(t), gamma_0_1(t), ..., gamma_0_k(t), gamma_1_1(t), ..., gamma_1_k(t), ..., gamma_m_k(t)]\n",
        "#         What happens if (sum of gamma_n_m_k != 1) ?\n",
        "#         The above problem has been dealt by not including gamma_i_0(t) in predicted action.\n",
        "#         Rather, we evaluate it as:- gamma_i_0(t) = 1 - summation(gamma_i_k(t))\n",
        "        \n",
        "        self.timesteps_in_episode += 1\n",
        "        # print(\"P_t of action: \", action[3])\n",
        "        for i in range(action.shape[0]):\n",
        "            action[i] = self.move(action[i], i)\n",
        "        self.last_action = action\n",
        "        # print(\"action after moving: \", action)\n",
        "        \n",
        "        gamma_array = action[:, 4:].reshape((UAV_count, UE_count, EC_count))\n",
        "        # gamma_array = (np.array(action[4:])).reshape((UE_count, EC_count))\n",
        "        gamma_zeros = (1 - gamma_array.sum(axis = 2))\n",
        "        # print(\"gamma zeros: \", gamma_zeros)\n",
        "        \n",
        "# REMOVED CODE\n",
        "#         gamma_array = []\n",
        "#         gamma_zeros = []\n",
        "#         for i in range(len(self.UE_positions)):\n",
        "#             base = 4\n",
        "#             sum_gamma_i = 0\n",
        "#             gamma_i_array = []\n",
        "#             for j in range(EC_count):\n",
        "#                 gamma_i_array.append(action[base + (i * EC_count) + j])\n",
        "#                 sum_gamma_i += gamma_i_array[-1]\n",
        "#             gamma_array.append(np.array(gamma_i_array))\n",
        "#             gamma_zeros.append(1 - sum_gamma_i)\n",
        "    \n",
        "#         gamma_zeros = np.array(gamma_zeros)\n",
        "#         gamma_array = np.array(gamma_array)\n",
        "# END OF REMOVED CODE\n",
        "        \n",
        "#         calculate C_max_t for UAV (using correct formula)\n",
        "        C_max_t_array = (self.current_state[:, 2] / np.tan(phi_n))\n",
        "        \n",
        "        ground_UAV_state = np.zeros((UAV_count, 3))\n",
        "        ground_UAV_state[:, :2] = self.current_state[:, :2]\n",
        "        horizontal_dist_UE_UAV = []\n",
        "        dist_UE_UAV = []\n",
        "        for i in range(UAV_count):\n",
        "            horizontal_dist_UE_ith_UAV = np.linalg.norm(self.UE_positions - ground_UAV_state[i], axis = 1)\n",
        "            horizontal_dist_UE_UAV.append(horizontal_dist_UE_ith_UAV)\n",
        "            dist_UE_ith_UAV = np.linalg.norm(self.UE_positions - self.current_state[i], axis = 1)           \n",
        "            dist_UE_UAV.append(dist_UE_ith_UAV)\n",
        "\n",
        "        horizontal_dist_UE_UAV = np.array(horizontal_dist_UE_UAV)\n",
        "        # horizontal_dist_UE_UAV = np.linalg.norm(self.UE_positions - ground_UAV_state, axis = 1)\n",
        "        dist_UE_UAV = np.array(dist_UE_UAV)\n",
        "        # dist_UE_UAV = np.linalg.norm(self.UE_positions - self.current_state, axis = 1)\n",
        "        # print(\"horizontal distance b/w UEs and UAV: \", horizontal_dist_UE_UAV)\n",
        "        # print(\"distance b/w UEs and UAV: \", dist_UE_UAV)\n",
        "        rho_matrix = (horizontal_dist_UE_UAV <= (C_max_t_array[:, None])) * 1  # binary association vector [(n_uav x n_ue) dimensions]\n",
        "        Mn_t = ((rho_matrix.sum(axis = 1) >= 1) * 1) \n",
        "        M_t = Mn_t.sum()  # total no. of UEs served by all the agent collectively\n",
        "\n",
        "        # print(\"M_t: \", M_t, \" C_max_t: \", C_max_t)\n",
        "\n",
        "        overlapping_array = np.zeros(UAV_count)\n",
        "        collision_array = np.zeros(UAV_count)\n",
        "        for i in range(UAV_count):\n",
        "            for j in range(i+1, UAV_count):\n",
        "                horizontal_dist_i_j = np.linalg.norm(self.current_state[i][:2] - self.current_state[j][:2])\n",
        "                if (horizontal_dist_i_j < (C_max_t_array[i] + C_max_t_array[j])):\n",
        "                    overlapping_array[i] = 1\n",
        "                    overlapping_array[j] = 1\n",
        "                if horizontal_dist_i_j < D_min:\n",
        "                    collision_array[i] = 1\n",
        "                    collision_array[j] = 1\n",
        "        \n",
        "        \n",
        "        try:\n",
        "            if(M_t != UE_count):\n",
        "                raise ValueError(\"-----All UEs are not served in the present UAVs configuration-----\")\n",
        "        \n",
        "        except ValueError:\n",
        "            #Reward: \n",
        "            coverage_penalty = -1 * (UE_count - M_t) * eta_3  # coverage constraint penalty\n",
        "    \n",
        "            overlapping_penalty = -1 * overlapping_array.sum() * eta_1\n",
        "            collision_penalty = -1 * collision_array.sum() * eta_2\n",
        "\n",
        "\n",
        "            reward = coverage_penalty + overlapping_penalty + collision_penalty\n",
        "            self.is_done()\n",
        "            # if(self.done):\n",
        "            #   print(\"------------------------\", \"reward in episode's last step: \", reward, \"------------------------\")\n",
        "    \n",
        "            return self.current_state, reward, self.done, None\n",
        "            \n",
        "        dist_EC_UAV = []\n",
        "        for i in range(UAV_count): \n",
        "            dist_UE_ith_UAV = np.linalg.norm(self.UE_positions - self.current_state[i], axis = 1)\n",
        "            dist_EC_UAV.append(dist_UE_ith_UAV)        \n",
        "        dist_EC_UAV = np.array(dist_EC_UAV)\n",
        "        # print(\"distance b/w ECs and UAV: \", dist_EC_UAV)\n",
        "\n",
        "# REMOVED CODE\n",
        "#         for current_UE in self.UE_positions:\n",
        "#             dist_i = np.linalg.norm(current_UE - self.current_state)\n",
        "#             dist_UE_UAV.append(dist_i)\n",
        "#             if(np.square(C_max_t) >= dist_i):\n",
        "#                 M_t += 1\n",
        "        \n",
        "#         for current_EC in self.EC_positions:\n",
        "#             dist_i = np.linalg.norm(current_EC - self.current_state) \n",
        "#             dist_EC_UAV.append(dist_i)\n",
        "        \n",
        "#         dist_UE_UAV = np.array(dist_UE_UAV)\n",
        "#         dist_EC_UAV = np.array(dist_EC_UAV)\n",
        "# END OF REMOVED CODE\n",
        "\n",
        "        \n",
        "# Calculating Reward here\n",
        "        \n",
        "#     A.) G2A Transmission from UEs to UAVs\n",
        "\n",
        "        # print(\"-------displaying stats for UAV-1:------- \")\n",
        "        h_mn = g_0 / np.square(dist_UE_UAV)\n",
        "        # print(\"h_m: \", h_m[0])\n",
        "        R_mn = (B_u * np.log2(1 + ((h_mn * P_m) / sigma_squared_u))) / M_t   # shannon channel capacity equation\n",
        "        # print(\"R_m: \", R_m[0])\n",
        "        # print(\"D_array: \", self.D_array[0], self.D_array.shape)\n",
        "        # print(\"R_m: \", R_m[0], R_m.shape)\n",
        "        T_G2A_t_list = R_mn\n",
        "        for i in range(UAV_count):\n",
        "            T_G2A_t_list[i] = (self.D_array / R_mn[i])\n",
        "        # print(\"printing array division: \", (self.D_array / R_m))\n",
        "        # print(\"T_G2A_t: \", T_G2A_t_list[0])\n",
        "        E_G2A_t_list = (P_r_n * T_G2A_t_list)\n",
        "        \n",
        "    \n",
        "#     B.) Computation at UAVs\n",
        "        \n",
        "        f_i = F_u / Mn_t\n",
        "        # print(\"f_i: \", f_i)\n",
        "        E_UAV_helper_constant = kappa * (f_i ** 3)\n",
        "        T_UAV_t_list = ((gamma_zeros * self.D_array * self.C_array)/f_i[:, None])\n",
        "        E_UAV_t_list = (T_UAV_t_list * E_UAV_helper_constant[:, None])\n",
        "            \n",
        "    \n",
        "#     C.) A2G Transmission from UAVs to ECs\n",
        "        \n",
        "        h_kn = g_0 / (np.square(dist_EC_UAV))\n",
        "        R_kn = (B_k * np.log2(1 + (((h_kn * (action[:, 3])[:, None])) / sigma_squared_e)))\n",
        "        # print(\"power P_t: \", action[3])\n",
        "        # print(\"R_k for A2G Transmission: \", R_k)\n",
        "        T_A2G_t_list = np.zeros((UAV_count, UE_count, EC_count))  \n",
        "        E_A2G_t_list = np.zeros((UAV_count, UE_count, EC_count))\n",
        "        for i in range(UAV_count):\n",
        "          T_A2G_t_list[i] = (gamma_array[i] * (self.D_array)[:, None]) / R_kn[i]  #each element of the list is a numpy array describing each UE\n",
        "          E_A2G_t_list[i] = (T_A2G_t_list[i] * action[i][3])\n",
        "    \n",
        "    \n",
        "#     D.) Computation at the ECs\n",
        "        T_EC_t_list = np.zeros((UAV_count, UE_count, EC_count))\n",
        "        for i in range(UAV_count):\n",
        "          T_EC_t_list[i] = ((gamma_array[i] * (self.D_array)[:, None]) * (self.C_array)[:, None]) / (self.EC_F_e_k / UE_count)\n",
        "    \n",
        "    \n",
        "\n",
        "        # print(\"rho_matrix: \", rho_matrix)\n",
        "        # print(\"T_G2A_t_list\", T_G2A_t_list)\n",
        "        # print(\"E_G2A_t_list\", E_G2A_t_list)\n",
        "        # print(\"T_UAV_t_list\", T_UAV_t_list)\n",
        "        # print(\"E_UAV_t_list\", E_UAV_t_list)\n",
        "        # print(\"T_A2G_t_list\", T_A2G_t_list)\n",
        "        # print(\"E_A2G_t_list\", E_A2G_t_list)\n",
        "\n",
        "        reward_array = np.zeros(UAV_count)\n",
        "        for i in range(UAV_count):\n",
        "            if max(overlapping_array[i], collision_array[i]) == 0:\n",
        "                # if UAV i follows both overlapping and collision constraints, then it's reward R_n = -1 * U_n\n",
        "                E_i = (rho_matrix[i] * (E_G2A_t_list[i] + E_UAV_t_list[i] + E_A2G_t_list[i].sum(axis = 1)))\n",
        "                T_i = (rho_matrix[i] * (T_G2A_t_list[i] + np.maximum(T_UAV_t_list[i], (T_A2G_t_list[i] + T_EC_t_list[i]).max(axis = 1))))\n",
        "                reward_array[i] = (w1 * E_i) + (w2 * T_i)\n",
        "            else:\n",
        "                reward_array[i] = (eta_2 * collision_array[i]) + (eta_1 * overlapping_array[i])\n",
        "        \n",
        "        reward = -1 * (reward_array.sum())  # objective function\n",
        "        \n",
        "        # print(\"reward: \", reward)\n",
        "            \n",
        "        self.is_done()\n",
        "\n",
        "        # if(self.done):\n",
        "        #   print(\"------------------------\", \"reward in episode's last step: \", reward, \"------------------------\")\n",
        "        \n",
        "        return self.current_state, reward, self.done, None\n",
        "    \n",
        "    \n",
        "    def is_done(self):\n",
        "        if(self.timesteps_in_episode >= max_episode_steps):\n",
        "            self.done = True\n",
        "    \n",
        "    \n",
        "    def select_random_state(self):\n",
        "        UAV_pos_list = []\n",
        "        for _ in range(UAV_count):\n",
        "            new_x = np.random.uniform(0.0, boundary_x)\n",
        "            new_y = np.random.uniform(0.0, boundary_y)\n",
        "            new_z = np.random.uniform(Z_min, Z_max)\n",
        "            UAV_pos_list.append(np.array([new_x, new_y, new_z]))\n",
        "#         new_x = math.floor(np.random.uniform(0.0, boundary_x) * 100) / 100\n",
        "#         new_y = math.floor(np.random.uniform(0.0, boundary_y) * 100) / 100\n",
        "#         new_z = math.floor(np.random.uniform(Z_min, Z_max) * 100) / 100\n",
        "        \n",
        "        return np.array(UAV_pos_list)\n",
        "    \n",
        "    \n",
        "    def move(self, action, UAV_idx):\n",
        "#         evaluates new state reached upon performing the move and saves it in self.current_state\n",
        "#         returns the clamped action\n",
        "\n",
        "        action = np.array(action)\n",
        "        self.previous_state = self.current_state\n",
        "        # print(\"current state before moving: \", self.previous_state)\n",
        "    # updating vertical flight new state:\n",
        "        delta_z = action[2] = np.clip(action[2], -L_v_max, L_v_max)\n",
        "        z_next = np.clip(self.current_state[UAV_idx][2] + delta_z, Z_min, Z_max)\n",
        "    # updating gamma parameters in action:\n",
        "        action[3] = np.clip(action[3], 0, P_max)\n",
        "        gamma_remaining = np.ones(UE_count, dtype = np.float32)\n",
        "        gamma_array = np.clip((np.array(action[4:])).reshape((UE_count, EC_count)), 0.0, 1.0)\n",
        "        for m in range(UE_count):\n",
        "            for k in range(EC_count):\n",
        "                gamma_array[m][k] = np.clip(gamma_array[m][k], 0.0, gamma_remaining[m])\n",
        "                gamma_remaining[m] -= gamma_array[m][k]    \n",
        "        action[4:] = gamma_array.flatten()\n",
        "    \n",
        "    # updating horizontal_fly_distance and horizontal_direction_angle\n",
        "        action[0] = horizontal_fly_distance = np.clip(action[0], 0, L_h_max)\n",
        "        action[1] = horizontal_direction_angle = np.clip(action[1], 0, 2 * math.pi)\n",
        "        # print(\"horizontal direction angle: \", horizontal_direction_angle)\n",
        "        x_next_dash = self.current_state[UAV_idx][0] + (horizontal_fly_distance * np.cos(horizontal_direction_angle)) \n",
        "        y_next_dash = self.current_state[UAV_idx][1] + (horizontal_fly_distance * np.sin(horizontal_direction_angle))\n",
        "    \n",
        "    # updating horizontal_direction_angle if the new move is out of boundary\n",
        "        if((x_next_dash < 0) or (x_next_dash > boundary_x) or (y_next_dash < 0) or (y_next_dash > boundary_y)):\n",
        "            action[1] = horizontal_direction_angle = np.random.uniform(0, 2 * math.pi)\n",
        "        \n",
        "    # updating new planar co-ordinates (x_next, y_next)\n",
        "        x_next = np.clip(self.current_state[UAV_idx][0] + (horizontal_fly_distance * np.cos(horizontal_direction_angle)), 0., boundary_x)\n",
        "        y_next = np.clip(self.current_state[UAV_idx][1] + (horizontal_fly_distance * np.sin(horizontal_direction_angle)), 0., boundary_y)\n",
        "        \n",
        "        self.current_state[UAV_idx] = np.array([x_next, y_next, z_next])\n",
        "        \n",
        "        # print(\"new state after move: \", self.current_state)\n",
        "        \n",
        "        # print(\"action: \", action)\n",
        "        return action\n",
        "        \n",
        "    def helper_assign_Dm_Cm_to_UEs(self):\n",
        "        for _ in range(UE_count):\n",
        "            D_m = np.random.randint(D_m_min, D_m_max)\n",
        "            self.D_array.append(D_m)\n",
        "            C_m = np.random.randint(100, 200)\n",
        "            self.C_array.append(C_m)\n",
        "        self.D_array = np.array(self.D_array)\n",
        "        self.C_array = np.array(self.C_array)\n",
        "        # W = [D_m, C_m, lambda_m]\n",
        "        return\n",
        "\n",
        "    \n",
        "    def place_UEs_centered(self, desired_z_coord = None, center = None):\n",
        "        # focuses the UEs inside the circular region\n",
        "        if(desired_z_coord == None): \n",
        "          height_ = Z_max\n",
        "        else:\n",
        "          height_ = desired_z_coord\n",
        "        radius = C_max_t = (height_ / np.tan(phi_n))\n",
        "        if(center == None):\n",
        "            # (x, y) co-ordinates\n",
        "            x = np.random.uniform(0, boundary_x)\n",
        "#             x = math.ceil(x*100)/100\n",
        "            y = np.random.uniform(0, boundary_y)\n",
        "#             y = math.ceil(y*100)/100\n",
        "            center = np.array([x, y])\n",
        "\n",
        "        r = radius * np.sqrt(np.random.uniform(size = UE_count))\n",
        "        theta = np.random.uniform(size = UE_count) * 2 * math.pi\n",
        "\n",
        "      # For testing: To plot the circle and visualize UE points inside it\n",
        "        self.UE_center = center\n",
        "        self.UE_radius = radius\n",
        "        # print(\"self.UE_center: \", self.UE_center, \" self.UE_radius: \", self.UE_radius)\n",
        "      # End\n",
        "\n",
        "        self.UE_positions = np.zeros((UE_count, 3))\n",
        "        self.UE_positions[:, 0] = np.clip(center[0] + r * np.cos(theta), 0., boundary_x) \n",
        "        self.UE_positions[:, 1] = np.clip(center[1] + r * np.sin(theta), 0., boundary_y)\n",
        "        return\n",
        "\n",
        "\n",
        "    def place_UEs_randomly(self):\n",
        "        # places UE_count UEs on grid randomly\n",
        "        for _ in range(UE_count):\n",
        "            #(x, y) co-ordinates\n",
        "            x = np.random.uniform(0, boundary_x)\n",
        "#             x = math.ceil(x*100)/100\n",
        "            y = np.random.uniform(0, boundary_y)\n",
        "#             y = math.ceil(y*100)/100\n",
        "            coords = np.array((x, y, 0.))\n",
        "            self.UE_positions.append(coords)\n",
        "        self.UE_positions = np.array(self.UE_positions)\n",
        "\n",
        "\n",
        "    def place_UEs(self, position=\"random\", desired_z_coord = None, center = None):\n",
        "        self.UE_center = None  # initializing for non-centered generation algorithms\n",
        "\n",
        "        if(position==\"centered\"):\n",
        "            self.place_UEs_centered(desired_z_coord, center)\n",
        "        elif(position==\"random\"):\n",
        "            self.place_UEs_randomly()\n",
        "\n",
        "        # saves in self.UE_coord_list, assigns (D_m, C_m, lambda_m) to them\n",
        "        self.UE_positions = np.array(self.UE_positions)\n",
        "        self.helper_assign_Dm_Cm_to_UEs()\n",
        "        # print(\"UE positions: \", self.UE_positions)\n",
        "        # print(\"D_m array: \", self.D_array)\n",
        "        # print(\"C_m array: \", self.C_array)\n",
        "        return\n",
        "        \n",
        "\n",
        "    def place_ECs_randomly(self):\n",
        "#         places EC_count ECs in random locations\n",
        "#         randomly assigns F_e_k for all ECs\n",
        "        for _ in range(EC_count):\n",
        "            x = np.random.uniform(0, boundary_x)\n",
        "#             x = math.ceil(x*100)/100\n",
        "            y = np.random.uniform(0, boundary_y)\n",
        "#             y = math.ceil(y*100)/100\n",
        "            coords = np.array((x, y, 0.))\n",
        "            # coords[:2] = self.UE_center\n",
        "\n",
        "            #TESTING CODE\n",
        "            self.EC_positions.append(coords)\n",
        "            #END\n",
        "\n",
        "            self.EC_F_e_k.append(np.random.randint(F_e_k_min, F_e_k_max, dtype = np.int64))\n",
        "        self.EC_F_e_k = np.array(self.EC_F_e_k)\n",
        "        self.EC_positions = np.array(self.EC_positions)\n",
        "        \n",
        "        # print(\"EC positions: \", self.EC_positions)\n",
        "        # print(\"Computation resource at ECs F^e_k: \", self.EC_F_e_k)\n",
        "        \n",
        "        return"
      ]
    },
    {
      "cell_type": "code",
      "source": [
        "# a = np.array([[1, 2], [3, 4], [9, 10]])  # dimensions = (2 x 3 x 2)\n",
        "# b = np.array([2, 3])\n",
        "# c = np.array([2, 3])\n",
        "# d = np.array()\n",
        "# # a[1].sum(axis = 1)\n",
        "# a * b * c\n",
        "# # T_UAV_t_list = ((a * self.D_array * self.C_array)/f_i[:, None])"
      ],
      "metadata": {
        "id": "E8xQ8Gt4bGeF"
      },
      "execution_count": 359,
      "outputs": []
    },
    {
      "cell_type": "code",
      "source": [
        "# a = np.array([[2, 3], [3, 4], [5, 6]])\n",
        "# a.sum(axis = 1)\n",
        "# # b = ((a.sum(axis = 0) >= 4) * 1) "
      ],
      "metadata": {
        "id": "pG_iPRyJpssW"
      },
      "execution_count": 360,
      "outputs": []
    },
    {
      "cell_type": "code",
      "source": [
        "# a = np.array([[[1, 2], [3, 4], [9, 10]], [[5, 6], [7, 8], [11, 12]]])  # dimensions = (2 x 3 x 2)\n",
        "# b = np.array([2, 1, 2])\n",
        "# c = np.array([3, 4])  # dimensions = (2 x 2)\n",
        "# d_i = (a[1] * b[:, None])  # dimensions = (3 x 2)\n",
        "# print(d_i)\n",
        "# t_i = d_i / c\n",
        "# t_i, t_i.shape"
      ],
      "metadata": {
        "id": "SO35X_2jfMcK"
      },
      "execution_count": 361,
      "outputs": []
    },
    {
      "cell_type": "markdown",
      "metadata": {
        "id": "NzIDuONodenW"
      },
      "source": [
        "## Step 3: TD3 Training Class"
      ]
    },
    {
      "cell_type": "markdown",
      "metadata": {
        "id": "gTuHlLXol_37"
      },
      "source": [
        "TODO: See how to improve noise addition to the target action"
      ]
    },
    {
      "cell_type": "code",
      "execution_count": 451,
      "metadata": {
        "id": "zzd0H1xukdKe"
      },
      "outputs": [],
      "source": [
        "# Building the whole Training Process into a class\n",
        "\n",
        "class TD3(object):\n",
        "  \n",
        "  def __init__(self, state_dim, action_dim, max_action, min_action):\n",
        "    self.actor_list = []\n",
        "    self.actor_target_list = []\n",
        "    self.actor_optimizer_list = []\n",
        "    self.critic_list = []\n",
        "    self.critic_target_list = []\n",
        "    self.critic_optimizer_list = []\n",
        "    for _ in range(UAV_count):\n",
        "      self.actor_list.append(Actor(state_dim, action_dim, max_action, min_action).to(device))\n",
        "      self.actor_target_list.append(Actor(state_dim, action_dim, max_action, min_action).to(device))\n",
        "      self.actor_target_list[-1].load_state_dict(self.actor_list[-1].state_dict())\n",
        "      self.actor_optimizer_list.append(torch.optim.Adam(self.actor_list[-1].parameters(), lr = learning_rate))\n",
        "      self.critic_list.append(Critic(state_dim, action_dim).to(device))\n",
        "      self.critic_target_list.append(Critic(state_dim, action_dim).to(device))\n",
        "      self.critic_target_list[-1].load_state_dict(self.critic_list[-1].state_dict())\n",
        "      self.critic_optimizer_list.append(torch.optim.Adam(self.critic_list[-1].parameters(), lr = learning_rate))\n",
        "    self.max_action = torch.from_numpy(max_action).to(device)\n",
        "    self.min_action = torch.from_numpy(min_action).to(device)\n",
        "\n",
        "  def select_action(self, state):\n",
        "    # state = torch.Tensor(state.reshape(1, -1)).to(device)\n",
        "    action_vector = []\n",
        "    for i in range(UAV_count):\n",
        "      state_i = torch.Tensor(state[i]).to(device)\n",
        "      action_vector.append(self.actor_list[i](state_i).cpu().data.numpy().flatten())  # if this \".cpu()\" is not included, this error is thrown:- \n",
        "                                                                            # TypeError: can't convert cuda:0 device type tensor to numpy. Use Tensor.cpu() to copy the tensor to host memory first.\n",
        "    \n",
        "    return np.array(action_vector)\n",
        "\n",
        "\n",
        "  # def squash_actor_output(self, action):\n",
        "  #     '''\n",
        "  #     Incomplete Function\n",
        "  #     '''\n",
        "  #     x = (((self.max_action - self.min_action) * (torch.tanh(self.layer_3(x)) + 1)) / 2) + self.min_action\n",
        "  #     pass\n",
        "\n",
        "  def train(self, replay_buffer, iterations, batch_size=100, discount=0.99, tau=0.005, policy_noise=0.2, noise_clip=0.5, policy_freq=2):\n",
        "    \n",
        "    # print(\"---------------------------entered training step---------------------------\")\n",
        "    for it in range(iterations):\n",
        "      \n",
        "      # Step 4: We sample a batch of transitions (s, s’, a, r) from the memory\n",
        "      batch_states, batch_next_states, batch_action_vectors, batch_rewards, batch_dones = replay_buffer.sample(batch_size)\n",
        "      state = torch.Tensor(batch_states).to(device)\n",
        "      next_state = torch.Tensor(batch_next_states).to(device)\n",
        "      reward = torch.Tensor(batch_rewards).to(device)\n",
        "      done = torch.Tensor(batch_dones).to(device)\n",
        "\n",
        "      for i in range(UAV_count):\n",
        "        batch_action_UAV_i = torch.Tensor(batch_action_vectors[:, i]).to(device)\n",
        "      \n",
        "        # Step 5: From the next state s’, the Actor target plays the next action a’\n",
        "        next_action_UAV_i = self.actor_target_list[i](next_state[:, i])\n",
        "\n",
        "        # Step 6: We add Gaussian noise to this next action a’ and we clamp it in a range of values supported by the environment\n",
        "        noise = torch.Tensor(batch_action_UAV_i).data.normal_(0, policy_noise).to(device)\n",
        "        noise = noise.clamp(-noise_clip, noise_clip)\n",
        "        # print(\"shape of noise: \", noise.shape)\n",
        "        # print(\"shape of next action: \", next_action_UAV_i.shape)\n",
        "        next_action_UAV_i = (next_action_UAV_i + noise).clamp(self.min_action, self.max_action)\n",
        "        next_action_UAV_i = torch.Tensor(next_action_UAV_i).to(device)\n",
        "      \n",
        "        # Step 7: The two Critic targets take each the couple (s’, a’) as input and return two Q-values Qt1(s’,a’) and Qt2(s’,a’) as outputs\n",
        "        target_Q1_i, target_Q2_i = self.critic_target_list[i](next_state[:, i], next_action_UAV_i)\n",
        "        \n",
        "        # Step 8: We keep the minimum of these two Q-values: min(Qt1, Qt2)\n",
        "        target_Q_i = torch.min(target_Q1_i, target_Q2_i)\n",
        "        \n",
        "        # Step 9: We get the final target of the two Critic models, which is: Qt = r + γ * min(Qt1, Qt2), where γ is the discount factor\n",
        "        target_Q_i = reward + ((1 - done) * discount * target_Q_i).detach()\n",
        "        \n",
        "        # Step 10: The two Critic models take each the couple (s, a) as input and return two Q-values Q1(s,a) and Q2(s,a) as outputs\n",
        "        current_Q1_i, current_Q2_i = self.critic_list[i](state[:, i], batch_action_UAV_i)\n",
        "        \n",
        "        # Step 11: We compute the loss coming from the two Critic models: Critic Loss = MSE_Loss(Q1(s,a), Qt) + MSE_Loss(Q2(s,a), Qt)\n",
        "        critic_loss_i = F.mse_loss(current_Q1_i, target_Q_i) + F.mse_loss(current_Q2_i, target_Q_i)\n",
        "        # if(total_timesteps % 5000 == 0):\n",
        "        #     print(\"timesteps: \", total_timesteps, \", critic loss: \", critic_loss)\n",
        "      \n",
        "        # Step 12: We backpropagate this Critic loss and update the parameters of the two Critic models with a SGD optimizer\n",
        "        self.critic_optimizer_list[i].zero_grad()\n",
        "        critic_loss_i.backward()\n",
        "        self.critic_optimizer_list[i].step()\n",
        "      \n",
        "        # Step 13: Once every two iterations, we update our Actor model by performing gradient ascent on the output of the first Critic model\n",
        "        if it % policy_freq == 0:\n",
        "          actor_loss_i = -self.critic_list[i].Q1(state[:, i], self.actor_list[i](state[:, i])).mean()\n",
        "          # if(total_timesteps % 5000 == 0):\n",
        "          #     print(\"timesteps: \", total_timesteps, \", actor loss: \", actor_loss)\n",
        "          self.actor_optimizer_list[i].zero_grad()\n",
        "          actor_loss_i.backward()\n",
        "          self.actor_optimizer_list[i].step()\n",
        "          \n",
        "          # Step 14: Still once every two iterations, we update the weights of the Actor target by polyak averaging\n",
        "          for param_i, target_param_i in zip(self.actor_list[i].parameters(), self.actor_target_list[i].parameters()):\n",
        "            target_param_i.data.copy_(tau * param_i.data + (1 - tau) * target_param_i.data)\n",
        "          \n",
        "          # Step 15: Still once every two iterations, we update the weights of the Critic target by polyak averaging\n",
        "          for param_i, target_param_i in zip(self.critic_list[i].parameters(), self.critic_target_list[i].parameters()):\n",
        "            target_param_i.data.copy_(tau * param_i.data + (1 - tau) * target_param_i.data)\n",
        "    # print(\"---------------------------ending training step---------------------------\")\n",
        "  \n",
        "  # # Making a save method to save a trained model\n",
        "  # def save(self, filename, directory):\n",
        "  #   torch.save(self.actor.state_dict(), '%s/%s_actor.pth' % (directory, filename))\n",
        "  #   torch.save(self.critic.state_dict(), '%s/%s_critic.pth' % (directory, filename))\n",
        "  \n",
        "  # # Making a load method to load a pre-trained model\n",
        "  # def load(self, filename, directory):\n",
        "  #   self.actor.load_state_dict(torch.load('%s/%s_actor.pth' % (directory, filename)))\n",
        "  #   self.critic.load_state_dict(torch.load('%s/%s_critic.pth' % (directory, filename)))"
      ]
    },
    {
      "cell_type": "markdown",
      "metadata": {
        "id": "ka-ZRtQvjBex"
      },
      "source": [
        "## Helper Evaluation Functions"
      ]
    },
    {
      "cell_type": "code",
      "execution_count": 452,
      "metadata": {
        "id": "qabqiYdp9wDM"
      },
      "outputs": [],
      "source": [
        "def evaluate_policy(policy, eval_episodes=10):\n",
        "  '''\n",
        "  Function that evaluates the policy by calculating its average reward over 10 episodes\n",
        "  '''\n",
        "  # print(\"Evaluating now\")\n",
        "  avg_reward = 0.\n",
        "  for _ in range(eval_episodes):\n",
        "    this_reward = 0.\n",
        "    obs = env.reset()\n",
        "    # print(\"state after env reset: \", obs)\n",
        "    done = False\n",
        "    i = 0\n",
        "    while not done:\n",
        "      i += 1\n",
        "      # print(\"reached here\")\n",
        "      action = policy.select_action(np.array(obs))\n",
        "      # print(\"action: \", action)\n",
        "      # print(\"P_t selected by action: \", action[3])\n",
        "      #print(action)\n",
        "      obs, reward, done, _ = env.step(action)\n",
        "      # print(\"action taken\")\n",
        "      # print(\"step over\")\n",
        "      this_reward += reward\n",
        "    avg_reward += (this_reward / i)\n",
        "  avg_reward /= eval_episodes\n",
        "  print (\"---------------------------------------\")\n",
        "  print (\"Average Reward over the Evaluation Step: %f\" % (avg_reward))\n",
        "  print (\"---------------------------------------\")\n",
        "  # print(\"Evaluation done!\")\n",
        "  return avg_reward"
      ]
    },
    {
      "cell_type": "code",
      "source": [
        "def run_random_episode(policy):\n",
        "    '''\n",
        "    Helper function to visualize training\n",
        "    '''\n",
        "    obs = env.reset()\n",
        "    gap_ = max_episode_steps / 10\n",
        "    done = False\n",
        "    i = 0\n",
        "    fig, axes = plt.subplots(10, 2, figsize=(10, 100))\n",
        "    while not done:\n",
        "        action = policy.select_action(np.array(obs))\n",
        "        if(i % gap_ == 0):\n",
        "            env.render(fig = fig, ax = axes, i = int(i // gap_))\n",
        "        obs, reward, done, _ = env.step(action)\n",
        "        i += 1\n",
        "    return"
      ],
      "metadata": {
        "id": "92ICW8Ovh3Zw"
      },
      "execution_count": 453,
      "outputs": []
    },
    {
      "cell_type": "markdown",
      "metadata": {
        "id": "gGuKmH_ijf7U"
      },
      "source": [
        "### Training Parameters"
      ]
    },
    {
      "cell_type": "code",
      "execution_count": 454,
      "metadata": {
        "id": "E605Hxhkl_39"
      },
      "outputs": [],
      "source": [
        "seed = 0 # Random seed number\n",
        "start_timesteps = 1e4 # Number of iterations/timesteps before which the model randomly chooses an action, and after which it starts to use the policy network\n",
        "eval_freq = 200 # How often the evaluation step is performed (after how many timesteps)\n",
        "max_timesteps = 1e5 # Total number of iterations/timesteps\n",
        "save_models = False # Boolean checker whether or not to save the pre-trained model\n",
        "expl_noise = 0.1 # Exploration noise - STD value of exploration Gaussian noise\n",
        "batch_size = 100 # Size of the batch\n",
        "discount = 0.99 # Discount factor gamma, used in the calculation of the total discounted reward\n",
        "tau = 0.005 # Target network update rate\n",
        "policy_noise = 0.2 # STD of Gaussian noise added to the actions for the exploration purposes\n",
        "noise_clip = 0.5 # Maximum value of the Gaussian noise added to the actions (policy)\n",
        "policy_freq = 2 # Number of iterations to wait before the policy network (Actor model) is updated\n",
        "max_episode_steps = 200 # Maximum number of steps in a single episode, after which environment returns done = True\n",
        "learning_rate = 1e-4\n",
        "total_episodes = int(max_timesteps // max_episode_steps) \n",
        "buffer_size = 1e5 # Maximum buffer capacity\n",
        "optimizer_type = \"AdamOptimizer\"\n",
        "env_name = \"custom_UAV_Single_Agent\""
      ]
    },
    {
      "cell_type": "markdown",
      "metadata": {
        "id": "Hjwf2HCol3XP"
      },
      "source": [
        "### Saving the Model"
      ]
    },
    {
      "cell_type": "code",
      "execution_count": 455,
      "metadata": {
        "colab": {
          "base_uri": "https://localhost:8080/"
        },
        "id": "1fyH8N5z-o3o",
        "outputId": "a84e9e30-c7ed-419b-8bf3-f9fc6cd9200e"
      },
      "outputs": [
        {
          "output_type": "stream",
          "name": "stdout",
          "text": [
            "---------------------------------------\n",
            "Settings: TD3_custom_UAV_Single_Agent_0\n",
            "---------------------------------------\n"
          ]
        }
      ],
      "source": [
        "# create a file name for the two saved models: the Actor and Critic models\n",
        "file_name = \"%s_%s_%s\" % (\"TD3\", env_name, str(seed))\n",
        "print (\"---------------------------------------\")\n",
        "print (\"Settings: %s\" % (file_name))\n",
        "print (\"---------------------------------------\")\n",
        "\n",
        "\n",
        "# create a folder inside which will be saved the trained models\n",
        "if not os.path.exists(\"./results\"):\n",
        "  os.makedirs(\"./results\")\n",
        "if save_models and not os.path.exists(\"./pytorch_models\"):\n",
        "  os.makedirs(\"./pytorch_models\")"
      ]
    },
    {
      "cell_type": "code",
      "source": [
        "# import numpy as np"
      ],
      "metadata": {
        "id": "JuO4ql38tsbl"
      },
      "execution_count": 456,
      "outputs": []
    },
    {
      "cell_type": "code",
      "source": [
        "# a = np.array([[[1., 3, 4, 5], [1, 2, 4, 3]], [[3, 1, 1, 5], [2, 2, 8, 5]]])\n",
        "# b = a[:, 2:].reshape((2, 2, 3))\n",
        "# b"
      ],
      "metadata": {
        "id": "yWy1KcZZ4EIj"
      },
      "execution_count": 457,
      "outputs": []
    },
    {
      "cell_type": "code",
      "source": [
        "\n",
        "# T_A2G_t_list = (gamma_array * (self.D_array)[:, np.newaxis]) / R_kn  #each element of the list is a numpy array describing each UE"
      ],
      "metadata": {
        "id": "TzTcxWDNIl_q"
      },
      "execution_count": 458,
      "outputs": []
    },
    {
      "cell_type": "code",
      "source": [
        "# c = np.array([2., 1, 4, 1, 4, 8, 3, 1])\n",
        "# d = np.array([1, 2])\n",
        "# e = a * c\n",
        "# f = e/d[:, None]\n",
        "# print(e, f) "
      ],
      "metadata": {
        "id": "7nEtjmJVjY_C"
      },
      "execution_count": 459,
      "outputs": []
    },
    {
      "cell_type": "code",
      "source": [
        "# gz = (20 - b.sum(axis = 2))\n",
        "# g"
      ],
      "metadata": {
        "id": "YEHXSSig9yHo"
      },
      "execution_count": 460,
      "outputs": []
    },
    {
      "cell_type": "code",
      "source": [
        "# a = np.array([[[1, 3, 4, 5], [1, 2, 4, 3], [6, 3, 4, 5]], [[3, 1, 1, 5], [2, 2, 8, 5], [9, 10, 11, 12]]])\n",
        "# b = (1 - a.sum(axis = 2))\n",
        "# b"
      ],
      "metadata": {
        "id": "-Ijr4TwUtVu2"
      },
      "execution_count": 461,
      "outputs": []
    },
    {
      "cell_type": "code",
      "source": [
        "# # rho_array = (horizontal_dist_UE_UAV <= (C_max_t_array))\n",
        "# a = np.array([[1, 3, 4, 5], [9, 10, 11, 12]])\n",
        "# b = np.array([4, 10])\n",
        "# c = (a <= b[:, None]) * 1\n",
        "# print(c.sum(axis = 0))\n",
        "# ((c.sum(axis = 0) >= 2) * 1).sum()"
      ],
      "metadata": {
        "id": "yS6VpLPmtx8v"
      },
      "execution_count": 462,
      "outputs": []
    },
    {
      "cell_type": "code",
      "execution_count": 463,
      "metadata": {
        "colab": {
          "base_uri": "https://localhost:8080/"
        },
        "id": "CyQXJUIs-6BV",
        "outputId": "8ba0734b-1717-4369-8a83-606a606147a6"
      },
      "outputs": [
        {
          "output_type": "stream",
          "name": "stdout",
          "text": [
            "initial state of UAV:  [[135.0589115   86.42301139  82.42173487]\n",
            " [ 83.47958456  86.84626084  61.96796484]]\n",
            "env.step(random_action) returns:  (array([[100.65462438, 119.11951884,  78.45457989],\n",
            "       [ 89.95240891,  71.87545056,  53.94560499]]), -40.0, False, None)\n"
          ]
        }
      ],
      "source": [
        "# Creating Environment Object\n",
        "env = Multi_Agent_UAV()\n",
        "\n",
        "# Sample random action from action space\n",
        "action = env.action_space.sample()\n",
        "print(\"env.step(random_action) returns: \", env.step(action))"
      ]
    },
    {
      "cell_type": "code",
      "source": [
        "# env.render()"
      ],
      "metadata": {
        "id": "Yjdjw6xzW9W-"
      },
      "execution_count": 464,
      "outputs": []
    },
    {
      "cell_type": "markdown",
      "metadata": {
        "id": "5YdPG4HXnNsh"
      },
      "source": [
        "## We set seeds and we get the necessary information on the states and actions in the chosen environment"
      ]
    },
    {
      "cell_type": "code",
      "execution_count": 465,
      "metadata": {
        "id": "Z3RufYec_ADj"
      },
      "outputs": [],
      "source": [
        "# env.seed(seed)\n",
        "torch.manual_seed(seed)\n",
        "# np.random.seed(seed)\n",
        "state_dim = env.state_space.shape[1]\n",
        "action_dim = env.action_space.shape[1]\n",
        "max_action = env.action_space.high[0]\n",
        "min_action = env.action_space.low[0]\n",
        "# print(state_dim, action_dim, max_action, min_action)"
      ]
    },
    {
      "cell_type": "markdown",
      "metadata": {
        "id": "HWEgDAQxnbem"
      },
      "source": [
        "## We create the policy network (the Actor model)"
      ]
    },
    {
      "cell_type": "code",
      "execution_count": 466,
      "metadata": {
        "id": "wTVvG7F8_EWg"
      },
      "outputs": [],
      "source": [
        "policy = TD3(state_dim, action_dim, max_action, min_action)"
      ]
    },
    {
      "cell_type": "markdown",
      "metadata": {
        "id": "ZI60VN2Unklh"
      },
      "source": [
        "## We create the Experience Replay memory"
      ]
    },
    {
      "cell_type": "code",
      "execution_count": 467,
      "metadata": {
        "id": "sd-ZsdXR_LgV"
      },
      "outputs": [],
      "source": [
        "replay_buffer = ReplayBuffer()"
      ]
    },
    {
      "cell_type": "markdown",
      "metadata": {
        "id": "QYOpCyiDnw7s"
      },
      "source": [
        "## We define a list where all the evaluation results over 10 episodes are stored"
      ]
    },
    {
      "cell_type": "code",
      "execution_count": 468,
      "metadata": {
        "colab": {
          "base_uri": "https://localhost:8080/"
        },
        "id": "dhC_5XJ__Orp",
        "outputId": "041b2ea4-5680-4c9a-eb85-bae49d52f50a"
      },
      "outputs": [
        {
          "output_type": "stream",
          "name": "stdout",
          "text": [
            "---------------------------------------\n",
            "Average Reward over the Evaluation Step: -34.190000\n",
            "---------------------------------------\n"
          ]
        }
      ],
      "source": [
        "evaluations = [evaluate_policy(policy)]"
      ]
    },
    {
      "cell_type": "code",
      "source": [
        "# run_random_episode(policy)"
      ],
      "metadata": {
        "id": "ZxXGqx30K30_"
      },
      "execution_count": 469,
      "outputs": []
    },
    {
      "cell_type": "markdown",
      "metadata": {
        "id": "xm-4b3p6rglE"
      },
      "source": [
        "## We create a new folder directory in which the final results (videos of the agent) will be populated"
      ]
    },
    {
      "cell_type": "code",
      "execution_count": 470,
      "metadata": {
        "id": "MTL9uMd0ru03"
      },
      "outputs": [],
      "source": [
        "# def mkdir(base, name):\n",
        "#     path = os.path.join(base, name)\n",
        "#     if not os.path.exists(path):\n",
        "#         os.makedirs(path)\n",
        "#     return path\n",
        "# work_dir = mkdir('exp', 'brs')\n",
        "# monitor_dir = mkdir(work_dir, 'monitor')\n",
        "# max_episode_steps = env._max_episode_steps\n",
        "# save_env_vid = False\n",
        "# if save_env_vid:\n",
        "#   env = wrappers.Monitor(env, monitor_dir, force = True)\n",
        "#   env.reset()"
      ]
    },
    {
      "cell_type": "markdown",
      "metadata": {
        "id": "31n5eb03p-Fm"
      },
      "source": [
        "## We initialize the variables"
      ]
    },
    {
      "cell_type": "code",
      "execution_count": 471,
      "metadata": {
        "id": "1vN5EvxK_QhT"
      },
      "outputs": [],
      "source": [
        "total_timesteps = 0\n",
        "timesteps_since_eval = 0\n",
        "episode_num = 0\n",
        "done = True\n",
        "t0 = time.time()"
      ]
    },
    {
      "cell_type": "markdown",
      "metadata": {
        "id": "q9gsjvtPqLgT"
      },
      "source": [
        "## Training"
      ]
    },
    {
      "cell_type": "code",
      "execution_count": null,
      "metadata": {
        "colab": {
          "base_uri": "https://localhost:8080/"
        },
        "id": "y_ouY4NH_Y0I",
        "outputId": "ae1ef07b-1de3-4758-a2f0-02347bcb4ea3"
      },
      "outputs": [
        {
          "output_type": "stream",
          "name": "stdout",
          "text": [
            "Total Timesteps: 200 Episode Num: 1 Reward: -5265.0\n",
            "---------------------------------------\n",
            "Average Reward over the Evaluation Step: -27.212500\n",
            "---------------------------------------\n",
            "Total Timesteps: 400 Episode Num: 2 Reward: -5895.0\n",
            "---------------------------------------\n",
            "Average Reward over the Evaluation Step: -30.877500\n",
            "---------------------------------------\n",
            "Total Timesteps: 600 Episode Num: 3 Reward: -6705.0\n",
            "---------------------------------------\n",
            "Average Reward over the Evaluation Step: -31.147500\n",
            "---------------------------------------\n",
            "Total Timesteps: 800 Episode Num: 4 Reward: -4890.0\n",
            "---------------------------------------\n",
            "Average Reward over the Evaluation Step: -30.195000\n",
            "---------------------------------------\n",
            "Total Timesteps: 1000 Episode Num: 5 Reward: -5445.0\n",
            "---------------------------------------\n",
            "Average Reward over the Evaluation Step: -24.417500\n",
            "---------------------------------------\n",
            "Total Timesteps: 1200 Episode Num: 6 Reward: -7470.0\n",
            "---------------------------------------\n",
            "Average Reward over the Evaluation Step: -26.575000\n",
            "---------------------------------------\n",
            "Total Timesteps: 1400 Episode Num: 7 Reward: -6050.0\n",
            "---------------------------------------\n",
            "Average Reward over the Evaluation Step: -27.705000\n",
            "---------------------------------------\n",
            "Total Timesteps: 1600 Episode Num: 8 Reward: -6710.0\n",
            "---------------------------------------\n",
            "Average Reward over the Evaluation Step: -26.912500\n",
            "---------------------------------------\n",
            "Total Timesteps: 1800 Episode Num: 9 Reward: -5375.0\n",
            "---------------------------------------\n",
            "Average Reward over the Evaluation Step: -25.550000\n",
            "---------------------------------------\n",
            "Total Timesteps: 2000 Episode Num: 10 Reward: -6930.0\n",
            "---------------------------------------\n",
            "Average Reward over the Evaluation Step: -25.572500\n",
            "---------------------------------------\n",
            "Total Timesteps: 2200 Episode Num: 11 Reward: -5195.0\n",
            "---------------------------------------\n",
            "Average Reward over the Evaluation Step: -26.725000\n",
            "---------------------------------------\n",
            "Total Timesteps: 2400 Episode Num: 12 Reward: -5730.0\n",
            "---------------------------------------\n",
            "Average Reward over the Evaluation Step: -29.485000\n",
            "---------------------------------------\n",
            "Total Timesteps: 2600 Episode Num: 13 Reward: -7220.0\n",
            "---------------------------------------\n",
            "Average Reward over the Evaluation Step: -31.000000\n",
            "---------------------------------------\n",
            "Total Timesteps: 2800 Episode Num: 14 Reward: -4720.0\n",
            "---------------------------------------\n",
            "Average Reward over the Evaluation Step: -31.487500\n",
            "---------------------------------------\n",
            "Total Timesteps: 3000 Episode Num: 15 Reward: -5135.0\n",
            "---------------------------------------\n",
            "Average Reward over the Evaluation Step: -30.000000\n",
            "---------------------------------------\n",
            "Total Timesteps: 3200 Episode Num: 16 Reward: -4725.0\n",
            "---------------------------------------\n",
            "Average Reward over the Evaluation Step: -28.995000\n",
            "---------------------------------------\n",
            "Total Timesteps: 3400 Episode Num: 17 Reward: -6295.0\n",
            "---------------------------------------\n",
            "Average Reward over the Evaluation Step: -31.002500\n",
            "---------------------------------------\n",
            "Total Timesteps: 3600 Episode Num: 18 Reward: -6360.0\n",
            "---------------------------------------\n",
            "Average Reward over the Evaluation Step: -29.000000\n",
            "---------------------------------------\n",
            "Total Timesteps: 3800 Episode Num: 19 Reward: -5615.0\n",
            "---------------------------------------\n",
            "Average Reward over the Evaluation Step: -33.990000\n",
            "---------------------------------------\n",
            "Total Timesteps: 4000 Episode Num: 20 Reward: -5645.0\n",
            "---------------------------------------\n",
            "Average Reward over the Evaluation Step: -32.997500\n",
            "---------------------------------------\n",
            "Total Timesteps: 4200 Episode Num: 21 Reward: -5620.0\n",
            "---------------------------------------\n",
            "Average Reward over the Evaluation Step: -26.985000\n",
            "---------------------------------------\n",
            "Total Timesteps: 4400 Episode Num: 22 Reward: -5715.0\n",
            "---------------------------------------\n",
            "Average Reward over the Evaluation Step: -29.495000\n",
            "---------------------------------------\n",
            "Total Timesteps: 4600 Episode Num: 23 Reward: -4370.0\n",
            "---------------------------------------\n",
            "Average Reward over the Evaluation Step: -29.002500\n",
            "---------------------------------------\n",
            "Total Timesteps: 4800 Episode Num: 24 Reward: -4840.0\n",
            "---------------------------------------\n",
            "Average Reward over the Evaluation Step: -29.982500\n",
            "---------------------------------------\n",
            "Total Timesteps: 5000 Episode Num: 25 Reward: -4360.0\n",
            "---------------------------------------\n",
            "Average Reward over the Evaluation Step: -27.500000\n",
            "---------------------------------------\n",
            "Total Timesteps: 5200 Episode Num: 26 Reward: -5535.0\n",
            "---------------------------------------\n",
            "Average Reward over the Evaluation Step: -32.000000\n",
            "---------------------------------------\n",
            "Total Timesteps: 5400 Episode Num: 27 Reward: -5665.0\n",
            "---------------------------------------\n",
            "Average Reward over the Evaluation Step: -27.990000\n",
            "---------------------------------------\n",
            "Total Timesteps: 5600 Episode Num: 28 Reward: -5000.0\n",
            "---------------------------------------\n",
            "Average Reward over the Evaluation Step: -29.500000\n",
            "---------------------------------------\n",
            "Total Timesteps: 5800 Episode Num: 29 Reward: -4670.0\n",
            "---------------------------------------\n",
            "Average Reward over the Evaluation Step: -31.505000\n",
            "---------------------------------------\n",
            "Total Timesteps: 6000 Episode Num: 30 Reward: -6060.0\n",
            "---------------------------------------\n",
            "Average Reward over the Evaluation Step: -29.502500\n",
            "---------------------------------------\n",
            "Total Timesteps: 6200 Episode Num: 31 Reward: -5970.0\n",
            "---------------------------------------\n",
            "Average Reward over the Evaluation Step: -26.475000\n",
            "---------------------------------------\n",
            "Total Timesteps: 6400 Episode Num: 32 Reward: -4465.0\n",
            "---------------------------------------\n",
            "Average Reward over the Evaluation Step: -25.502500\n",
            "---------------------------------------\n",
            "Total Timesteps: 6600 Episode Num: 33 Reward: -6385.0\n",
            "---------------------------------------\n",
            "Average Reward over the Evaluation Step: -23.495000\n",
            "---------------------------------------\n",
            "Total Timesteps: 6800 Episode Num: 34 Reward: -6505.0\n",
            "---------------------------------------\n",
            "Average Reward over the Evaluation Step: -32.002500\n",
            "---------------------------------------\n",
            "Total Timesteps: 7000 Episode Num: 35 Reward: -5160.0\n",
            "---------------------------------------\n",
            "Average Reward over the Evaluation Step: -28.990000\n",
            "---------------------------------------\n",
            "Total Timesteps: 7200 Episode Num: 36 Reward: -5790.0\n",
            "---------------------------------------\n",
            "Average Reward over the Evaluation Step: -32.002500\n",
            "---------------------------------------\n",
            "Total Timesteps: 7400 Episode Num: 37 Reward: -6325.0\n",
            "---------------------------------------\n",
            "Average Reward over the Evaluation Step: -35.995000\n",
            "---------------------------------------\n",
            "Total Timesteps: 7600 Episode Num: 38 Reward: -5960.0\n",
            "---------------------------------------\n",
            "Average Reward over the Evaluation Step: -26.985000\n",
            "---------------------------------------\n",
            "Total Timesteps: 7800 Episode Num: 39 Reward: -5540.0\n",
            "---------------------------------------\n",
            "Average Reward over the Evaluation Step: -31.505000\n",
            "---------------------------------------\n",
            "Total Timesteps: 8000 Episode Num: 40 Reward: -4875.0\n"
          ]
        }
      ],
      "source": [
        "# We start the main loop over 500,000 timesteps\n",
        "while total_timesteps < max_timesteps:\n",
        "  \n",
        "  # If the episode is done\n",
        "  if done:\n",
        "\n",
        "    # If we are not at the very beginning, we start the training process of the model\n",
        "    if total_timesteps != 0:\n",
        "      print(\"Total Timesteps: {} Episode Num: {} Reward: {}\".format(total_timesteps, episode_num, episode_reward))\n",
        "      policy.train(replay_buffer, episode_timesteps, batch_size, discount, tau, policy_noise, noise_clip, policy_freq)\n",
        "\n",
        "    # We evaluate the episode and we save the policy\n",
        "    if timesteps_since_eval >= eval_freq:\n",
        "      # print(\"!!!!!!!!!!!!!!!!!!!!!!!!!!!!!!\")\n",
        "      # print(\"total timesteps now: \", total_timesteps)\n",
        "      # print(\"timesteps since last evaluation: \", timesteps_since_eval)\n",
        "      # print(\"!!!!!!!!!!!!!!!!!!!!!!!!!!!!!!\")\n",
        "      # timesteps_since_eval %= eval_freq\n",
        "      evaluations.append(evaluate_policy(policy))\n",
        "      # policy.save(file_name, directory=\"./pytorch_models\")\n",
        "      # np.save(\"./results/%s\" % (file_name), evaluations)\n",
        "    \n",
        "    # When the training step is done, we reset the state of the environment\n",
        "    obs = env.reset()\n",
        "    \n",
        "    # Set the Done to False\n",
        "    done = False\n",
        "    \n",
        "    # Set rewards and episode timesteps to zero\n",
        "    episode_reward = 0\n",
        "    episode_timesteps = 0\n",
        "    episode_num += 1\n",
        "  \n",
        "  # Before 10000 timesteps, we play random actions\n",
        "  if total_timesteps < start_timesteps:\n",
        "    action_vector = np.array(env.action_space.sample())\n",
        "  else: # After 10000 timesteps, we switch to the model\n",
        "    action_vector = policy.select_action(np.array(obs))\n",
        "    # If the explore_noise parameter is not 0, we add noise to the action and we clip it\n",
        "    if expl_noise != 0:\n",
        "      action_vector = (action_vector + np.random.normal(0, expl_noise, size=env.action_space.shape)).clip(env.action_space.low, env.action_space.high)\n",
        "  \n",
        "  # The agent performs the action in the environment, then reaches the next state and receives the reward\n",
        "  new_obs, reward, done, _ = env.step(action_vector)\n",
        "  \n",
        "  # We check if the episode is done\n",
        "  done_bool = 0 if episode_timesteps + 1 == max_episode_steps else float(done)\n",
        "  \n",
        "  # We increase the total reward\n",
        "  episode_reward += reward\n",
        "  \n",
        "  # We store the new transition into the Experience Replay memory (ReplayBuffer)\n",
        "  replay_buffer.add((obs, new_obs, action_vector, reward, done_bool))\n",
        "\n",
        "  # We update the state, the episode timestep, the total timesteps, and the timesteps since the evaluation of the policy\n",
        "  obs = new_obs\n",
        "  episode_timesteps += 1\n",
        "  total_timesteps += 1\n",
        "  timesteps_since_eval += 1\n",
        "\n",
        "# We add the last policy evaluation to our list of evaluations and we save our model\n",
        "evaluations.append(evaluate_policy(policy))\n",
        "if save_models: policy.save(\"%s\" % (file_name), directory=\"./pytorch_models\")\n",
        "np.save(\"./results/%s\" % (file_name), evaluations)"
      ]
    },
    {
      "cell_type": "code",
      "source": [
        "run_random_episode(policy)"
      ],
      "metadata": {
        "colab": {
          "base_uri": "https://localhost:8080/",
          "height": 1000
        },
        "id": "0MBcUH4dqpe2",
        "outputId": "adaf2c09-4712-48ec-8561-44620155fad9"
      },
      "execution_count": null,
      "outputs": [
        {
          "output_type": "display_data",
          "data": {
            "text/plain": [
              "<Figure size 720x7200 with 20 Axes>"
            ],
            "image/png": "[encoded data removed]"
          },
          "metadata": {
            "needs_background": "light"
          }
        }
      ]
    },
    {
      "cell_type": "markdown",
      "metadata": {
        "id": "wi6e2-_pu05e"
      },
      "source": [
        "## Inference"
      ]
    },
    {
      "cell_type": "code",
      "execution_count": null,
      "metadata": {
        "id": "oW4d1YAMqif1"
      },
      "outputs": [],
      "source": [
        "class Actor(nn.Module):\n",
        "  \n",
        "  def __init__(self, state_dim, action_dim, max_action):\n",
        "    super(Actor, self).__init__()\n",
        "    self.layer_1 = nn.Linear(state_dim, 400)\n",
        "    self.layer_2 = nn.Linear(400, 300)\n",
        "    self.layer_3 = nn.Linear(300, action_dim)\n",
        "    self.max_action = max_action\n",
        "\n",
        "  def forward(self, x):\n",
        "    x = F.relu(self.layer_1(x))\n",
        "    x = F.relu(self.layer_2(x))\n",
        "    x = self.max_action * torch.tanh(self.layer_3(x)) \n",
        "    return x\n",
        "\n",
        "class Critic(nn.Module):\n",
        "  \n",
        "  def __init__(self, state_dim, action_dim):\n",
        "    super(Critic, self).__init__()\n",
        "    # Defining the first Critic neural network\n",
        "    self.layer_1 = nn.Linear(state_dim + action_dim, 400)\n",
        "    self.layer_2 = nn.Linear(400, 300)\n",
        "    self.layer_3 = nn.Linear(300, 1)\n",
        "    # Defining the second Critic neural network\n",
        "    self.layer_4 = nn.Linear(state_dim + action_dim, 400)\n",
        "    self.layer_5 = nn.Linear(400, 300)\n",
        "    self.layer_6 = nn.Linear(300, 1)\n",
        "\n",
        "  def forward(self, x, u):\n",
        "    xu = torch.cat([x, u], 1)\n",
        "    # Forward-Propagation on the first Critic Neural Network\n",
        "    x1 = F.relu(self.layer_1(xu))\n",
        "    x1 = F.relu(self.layer_2(x1))\n",
        "    x1 = self.layer_3(x1)\n",
        "    # Forward-Propagation on the second Critic Neural Network\n",
        "    x2 = F.relu(self.layer_4(xu))\n",
        "    x2 = F.relu(self.layer_5(x2))\n",
        "    x2 = self.layer_6(x2)\n",
        "    return x1, x2\n",
        "\n",
        "  def Q1(self, x, u):\n",
        "    xu = torch.cat([x, u], 1)\n",
        "    x1 = F.relu(self.layer_1(xu))\n",
        "    x1 = F.relu(self.layer_2(x1))\n",
        "    x1 = self.layer_3(x1)\n",
        "    return x1\n",
        "\n",
        "# Selecting the device (CPU or GPU)\n",
        "device = torch.device(\"cuda\" if torch.cuda.is_available() else \"cpu\")\n",
        "\n",
        "# Building the whole Training Process into a class\n",
        "\n",
        "class TD3(object):\n",
        "  \n",
        "  def __init__(self, state_dim, action_dim, max_action):\n",
        "    self.actor = Actor(state_dim, action_dim, max_action).to(device)\n",
        "    self.actor_target = Actor(state_dim, action_dim, max_action).to(device)\n",
        "    self.actor_target.load_state_dict(self.actor.state_dict())\n",
        "    self.actor_optimizer = torch.optim.Adam(self.actor.parameters())\n",
        "    self.critic = Critic(state_dim, action_dim).to(device)\n",
        "    self.critic_target = Critic(state_dim, action_dim).to(device)\n",
        "    self.critic_target.load_state_dict(self.critic.state_dict())\n",
        "    self.critic_optimizer = torch.optim.Adam(self.critic.parameters())\n",
        "    self.max_action = max_action\n",
        "\n",
        "  def select_action(self, state):\n",
        "    state = torch.Tensor(state.reshape(1, -1)).to(device)\n",
        "    return self.actor(state).cpu().data.numpy().flatten()\n",
        "\n",
        "  def train(self, replay_buffer, iterations, batch_size=100, discount=0.99, tau=0.005, policy_noise=0.2, noise_clip=0.5, policy_freq=2):\n",
        "    \n",
        "    for it in range(iterations):\n",
        "      \n",
        "      # Step 4: We sample a batch of transitions (s, s’, a, r) from the memory\n",
        "      batch_states, batch_next_states, batch_actions, batch_rewards, batch_dones = replay_buffer.sample(batch_size)\n",
        "      state = torch.Tensor(batch_states).to(device)\n",
        "      next_state = torch.Tensor(batch_next_states).to(device)\n",
        "      action = torch.Tensor(batch_actions).to(device)\n",
        "      reward = torch.Tensor(batch_rewards).to(device)\n",
        "      done = torch.Tensor(batch_dones).to(device)\n",
        "      \n",
        "      # Step 5: From the next state s’, the Actor target plays the next action a’\n",
        "      next_action = self.actor_target(next_state)\n",
        "      \n",
        "      # Step 6: We add Gaussian noise to this next action a’ and we clamp it in a range of values supported by the environment\n",
        "      noise = torch.Tensor(batch_actions).data.normal_(0, policy_noise).to(device)\n",
        "      noise = noise.clamp(-noise_clip, noise_clip)\n",
        "      next_action = (next_action + noise).clamp(-self.max_action, self.max_action)\n",
        "      \n",
        "      # Step 7: The two Critic targets take each the couple (s’, a’) as input and return two Q-values Qt1(s’,a’) and Qt2(s’,a’) as outputs\n",
        "      target_Q1, target_Q2 = self.critic_target(next_state, next_action)\n",
        "      \n",
        "      # Step 8: We keep the minimum of these two Q-values: min(Qt1, Qt2)\n",
        "      target_Q = torch.min(target_Q1, target_Q2)\n",
        "      \n",
        "      # Step 9: We get the final target of the two Critic models, which is: Qt = r + γ * min(Qt1, Qt2), where γ is the discount factor\n",
        "      target_Q = reward + ((1 - done) * discount * target_Q).detach()\n",
        "      \n",
        "      # Step 10: The two Critic models take each the couple (s, a) as input and return two Q-values Q1(s,a) and Q2(s,a) as outputs\n",
        "      current_Q1, current_Q2 = self.critic(state, action)\n",
        "      \n",
        "      # Step 11: We compute the loss coming from the two Critic models: Critic Loss = MSE_Loss(Q1(s,a), Qt) + MSE_Loss(Q2(s,a), Qt)\n",
        "      critic_loss = F.mse_loss(current_Q1, target_Q) + F.mse_loss(current_Q2, target_Q)\n",
        "      \n",
        "      # Step 12: We backpropagate this Critic loss and update the parameters of the two Critic models with a SGD optimizer\n",
        "      self.critic_optimizer.zero_grad()\n",
        "      critic_loss.backward()\n",
        "      self.critic_optimizer.step()\n",
        "      \n",
        "      # Step 13: Once every two iterations, we update our Actor model by performing gradient ascent on the output of the first Critic model\n",
        "      if it % policy_freq == 0:\n",
        "        actor_loss = -self.critic.Q1(state, self.actor(state)).mean()\n",
        "        self.actor_optimizer.zero_grad()\n",
        "        actor_loss.backward()\n",
        "        self.actor_optimizer.step()\n",
        "        \n",
        "        # Step 14: Still once every two iterations, we update the weights of the Actor target by polyak averaging\n",
        "        for param, target_param in zip(self.critic.parameters(), self.critic_target.parameters()):\n",
        "          target_param.data.copy_(tau * param.data + (1 - tau) * target_param.data)\n",
        "        \n",
        "        # Step 15: Still once every two iterations, we update the weights of the Critic target by polyak averaging\n",
        "        for param, target_param in zip(self.actor.parameters(), self.actor_target.parameters()):\n",
        "          target_param.data.copy_(tau * param.data + (1 - tau) * target_param.data)\n",
        "  \n",
        "  # Making a save method to save a trained model\n",
        "  def save(self, filename, directory):\n",
        "    torch.save(self.actor.state_dict(), '%s/%s_actor.pth' % (directory, filename))\n",
        "    torch.save(self.critic.state_dict(), '%s/%s_critic.pth' % (directory, filename))\n",
        "  \n",
        "  # Making a load method to load a pre-trained model\n",
        "  def load(self, filename, directory):\n",
        "    self.actor.load_state_dict(torch.load('%s/%s_actor.pth' % (directory, filename)))\n",
        "    self.critic.load_state_dict(torch.load('%s/%s_critic.pth' % (directory, filename)))\n",
        "\n",
        "def evaluate_policy(policy, eval_episodes=10):\n",
        "  avg_reward = 0.\n",
        "  for _ in range(eval_episodes):\n",
        "    obs = env.reset()\n",
        "    done = False\n",
        "    while not done:\n",
        "      action = policy.select_action(np.array(obs))\n",
        "      obs, reward, done, _ = env.step(action)\n",
        "      avg_reward += reward\n",
        "  avg_reward /= eval_episodes\n",
        "  print (\"---------------------------------------\")\n",
        "  print (\"Average Reward over the Evaluation Step: %f\" % (avg_reward))\n",
        "  print (\"---------------------------------------\")\n",
        "  return avg_reward\n",
        "\n",
        "env_name = \"HalfCheetahBulletEnv-v0\"\n",
        "seed = 0\n",
        "\n",
        "file_name = \"%s_%s_%s\" % (\"TD3\", env_name, str(seed))\n",
        "print (\"---------------------------------------\")\n",
        "print (\"Settings: %s\" % (file_name))\n",
        "print (\"---------------------------------------\")\n",
        "\n",
        "eval_episodes = 10\n",
        "# save_env_vid = True\n",
        "env = gym.make(env_name)\n",
        "max_episode_steps = env._max_episode_steps\n",
        "# if save_env_vid:\n",
        "#   env = wrappers.Monitor(env, monitor_dir, force = True)\n",
        "#   env.reset()\n",
        "env.seed(seed)\n",
        "torch.manual_seed(seed)\n",
        "np.random.seed(seed)\n",
        "state_dim = env.observation_space.shape[0]\n",
        "action_dim = env.action_space.shape[0]\n",
        "max_action = float(env.action_space.high[0])\n",
        "policy = TD3(state_dim, action_dim, max_action)\n",
        "policy.load(file_name, './pytorch_models/')\n",
        "_ = evaluate_policy(policy, eval_episodes=eval_episodes)"
      ]
    },
    {
      "cell_type": "code",
      "execution_count": null,
      "metadata": {
        "id": "L7R_eAsUl_4F"
      },
      "outputs": [],
      "source": [
        "np.load('results/TD3_HalfCheetahBulletEnv-v0_0.npy')"
      ]
    },
    {
      "cell_type": "code",
      "execution_count": null,
      "metadata": {
        "id": "mphbaBaBl_4F"
      },
      "outputs": [],
      "source": []
    },
    {
      "cell_type": "markdown",
      "metadata": {
        "id": "E3k9KiTll_4F"
      },
      "source": [
        "## Testing the Environment"
      ]
    },
    {
      "cell_type": "code",
      "execution_count": null,
      "metadata": {
        "id": "hc85-Au1l_4G",
        "outputId": "4d863271-7bcb-4336-f118-63e09f4fecce"
      },
      "outputs": [
        {
          "name": "stdout",
          "output_type": "stream",
          "text": [
            "UE positions:  [[54.35376114 55.99166477  0.        ]\n",
            " [10.14254108  7.16943038  0.        ]\n",
            " [45.30858012 48.09036623  0.        ]\n",
            " [55.47647174 27.52536019  0.        ]\n",
            " [48.7308606  51.15937027  0.        ]]\n",
            "D_m array:  [2746138 3669390 2686372 1886120 4082719]\n",
            "C_m array:  [128 157 128 155 197]\n",
            "EC positions:  [[41.88348475 43.55857918  0.        ]]\n",
            "Computation resource at ECs F^e_k:  [8393880710]\n",
            "initial state of UAV:  [49.77613488 22.74202633 32.89648829]\n"
          ]
        }
      ],
      "source": [
        "obj1 = Single_Agent_UAV()"
      ]
    },
    {
      "cell_type": "code",
      "execution_count": null,
      "metadata": {
        "id": "FvrTAmcul_4G",
        "outputId": "6b49cf16-909b-45d1-800a-fc943e45fc64"
      },
      "outputs": [
        {
          "name": "stdout",
          "output_type": "stream",
          "text": [
            "current state before moving:  [30.10190021 53.35031999 43.37526131]\n",
            "horizontal direction angle:  1.202695608139038\n",
            "new state after move:  [ 0.        60.        43.2236653]\n",
            "action:  [46.115753    2.9937944  -0.15159601  4.2502594   0.08178703  0.08880728\n",
            "  0.6835574   0.8782801   0.62439686]\n",
            "gamma zeros:  [0.91821295 0.9111927  0.3164426  0.1217199  0.37560314]\n",
            "horizontal distance b/w UEs and UAV:  [54.50135871 53.79535506 46.84769801 64.28251043 49.52629109]\n",
            "distance b/w UEs and UAV:  [69.56064507 69.00887963 63.74160376 77.46306468 65.7353691 ]\n",
            "M_t:  1  C_max_t:  47.26963761756768\n",
            "distance b/w ECs and UAV:  [62.3925625]\n",
            "-------displaying stats for UAV-1:------- \n",
            "h_m:  2.0666779143659992e-09\n",
            "R_m:  110137957.5680606\n",
            "D_array:  2746138 (5,)\n",
            "R_m:  110137957.5680606 (5,)\n",
            "printing array division:  [0.02493362 0.03324698 0.02384547 0.01762154 0.03652811]\n",
            "T_G2A_t:  0.024933620167261614\n",
            "f_i:  3000000000.0\n",
            "rho_array:  [0 0 1 0 0]\n",
            "T_G2A_t_list [0.02493362 0.03324698 0.02384547 0.01762154 0.03652811]\n",
            "E_G2A_t_list [0.00249336 0.0033247  0.00238455 0.00176215 0.00365281]\n",
            "T_UAV_t_list [0.10758568 0.17497762 0.03627019 0.01186155 0.10069866]\n",
            "E_UAV_t_list [0.29048135 0.47243958 0.09792951 0.03202618 0.27188637]\n",
            "T_A2G_t_list [[0.02683955]\n",
            " [0.03894133]\n",
            " [0.21943681]\n",
            " [0.19795693]\n",
            " [0.30463412]]\n",
            "E_A2G_t_list [[0.11407503]\n",
            " [0.16551077]\n",
            " [0.93266337]\n",
            " [0.84136831]\n",
            " [1.29477405]]\n",
            "U_t:  1.4162694712597215\n",
            "coverage penalty:  -20\n",
            "reward:  -20\n"
          ]
        },
        {
          "data": {
            "text/plain": [
              "(array([ 0.       , 60.       , 43.2236653]), -20, False, None)"
            ]
          },
          "execution_count": 695,
          "metadata": {},
          "output_type": "execute_result"
        }
      ],
      "source": [
        "action = obj1.action_space.sample()\n",
        "obj1.step(action)"
      ]
    },
    {
      "cell_type": "code",
      "execution_count": null,
      "metadata": {
        "id": "rBnrMdJJl_4G",
        "outputId": "3ad61526-79c6-414f-dcbe-874d3233ce62"
      },
      "outputs": [
        {
          "data": {
            "text/plain": [
              "8"
            ]
          },
          "execution_count": 696,
          "metadata": {},
          "output_type": "execute_result"
        }
      ],
      "source": [
        "obj1.timesteps_in_episode"
      ]
    },
    {
      "cell_type": "code",
      "execution_count": null,
      "metadata": {
        "id": "qYkawA9Ol_4G"
      },
      "outputs": [],
      "source": [
        "a_space = gym.spaces.box.Box(low = np.array([-2, -100]), high = np.array([-1, -50]))\n",
        "a_space.sample()"
      ]
    },
    {
      "cell_type": "code",
      "execution_count": null,
      "metadata": {
        "id": "bT0nhghUl_4G"
      },
      "outputs": [],
      "source": [
        "[47.06536908 66.48387642"
      ]
    },
    {
      "cell_type": "code",
      "execution_count": null,
      "metadata": {
        "id": "OgUVAUvGl_4H"
      },
      "outputs": [],
      "source": [
        "obj1.current_state"
      ]
    },
    {
      "cell_type": "code",
      "execution_count": null,
      "metadata": {
        "id": "06T9Tmvml_4H"
      },
      "outputs": [],
      "source": [
        "a[2] = 4\n",
        "obj1.step(a)"
      ]
    },
    {
      "cell_type": "code",
      "execution_count": null,
      "metadata": {
        "id": "CdU6Nv4zl_4I",
        "outputId": "4f2ae69c-ce4d-4bf1-aebe-7e3d8cbb81be"
      },
      "outputs": [
        {
          "data": {
            "text/plain": [
              "1"
            ]
          },
          "execution_count": 478,
          "metadata": {},
          "output_type": "execute_result"
        }
      ],
      "source": [
        "obj1.timesteps_in_episode"
      ]
    },
    {
      "cell_type": "code",
      "execution_count": null,
      "metadata": {
        "id": "7dAq18-6l_4I"
      },
      "outputs": [],
      "source": [
        "obj1.current_state[:2] = np.zeros(2)"
      ]
    },
    {
      "cell_type": "code",
      "execution_count": null,
      "metadata": {
        "id": "DOv4SA3El_4J",
        "outputId": "312e1b1e-7878-4a6c-a183-a0321456f591"
      },
      "outputs": [
        {
          "data": {
            "text/plain": [
              "24.99999999999997"
            ]
          },
          "execution_count": 479,
          "metadata": {},
          "output_type": "execute_result"
        }
      ],
      "source": [
        "a = np.array([64.52, 261.24])\n",
        "b = np.array([65.06030231, 262.08147098])\n",
        "np.linalg.norm(obj1.current_state-obj1.previous_state)"
      ]
    },
    {
      "cell_type": "markdown",
      "metadata": {
        "id": "ffmol6akl_4J"
      },
      "source": [
        "## To-Do "
      ]
    },
    {
      "cell_type": "code",
      "execution_count": null,
      "metadata": {
        "id": "AGk1c8Vpl_4M"
      },
      "outputs": [],
      "source": [
        "# To-Do:\n",
        "# 1. Take care of units\n",
        "# 2. How to reward cases having (sum of gamma != 1)?\n",
        "# 3. Hyperparameters?\n",
        "# 4. D_m should be integer or not?\n",
        "# 5. Efficient algorithm to print penalties?\n",
        "# 6. Convert everything to numpy.\n",
        "# 7. How to get kappa? (given in paper, now confirm if the precision holds)\n",
        "# 8. Complete move() and step() functions (reward calculation part left).\n",
        "# 9. C_max_t formula is not correct in the paper. Change it in the code. (IMP) (change made)\n",
        "# 10. Should we truncate? Right now, no truncation is being made.\n",
        "# 11. Fix units (MHz, GHz, Mbits, bits) (understood now, doing it now)\n",
        "# 12. Script dB to Power Gain converter and dBm to watt converter\n",
        "# 13. Separate environment parameters and training parameters\n",
        "# 14. Make a function in the environment to generate fabricated positions of UEs (to better monitor model training)"
      ]
    },
    {
      "cell_type": "markdown",
      "metadata": {
        "id": "L4fOfU_Ul_4M"
      },
      "source": [
        "# Kachra"
      ]
    },
    {
      "cell_type": "code",
      "execution_count": null,
      "metadata": {
        "id": "-N9-CuuXl_4M"
      },
      "outputs": [],
      "source": [
        "point1 = np.array((1, 2, 3))\n",
        "point2 = np.array((1, 1, 1))\n",
        " \n",
        "# calculating Euclidean distance\n",
        "# using linalg.norm()\n",
        "dist = np.linalg.norm(point1 - point2)"
      ]
    },
    {
      "cell_type": "code",
      "execution_count": null,
      "metadata": {
        "id": "EJbERvkSl_4N",
        "outputId": "0cddf33a-49a4-4152-f096-373d489cd017"
      },
      "outputs": [
        {
          "data": {
            "text/plain": [
              "numpy.float64"
            ]
          },
          "execution_count": 83,
          "metadata": {},
          "output_type": "execute_result"
        }
      ],
      "source": [
        "type(dist)"
      ]
    },
    {
      "cell_type": "code",
      "execution_count": null,
      "metadata": {
        "id": "Rth1xue9l_4N",
        "outputId": "0ba4e68f-c44f-466e-82e1-0dd895123242"
      },
      "outputs": [
        {
          "data": {
            "text/plain": [
              "numpy.float64"
            ]
          },
          "execution_count": 87,
          "metadata": {},
          "output_type": "execute_result"
        }
      ],
      "source": [
        "type(np.radians(90.))"
      ]
    },
    {
      "cell_type": "code",
      "execution_count": null,
      "metadata": {
        "id": "3TjfjTljl_4N",
        "outputId": "77657e62-9107-42b6-8e9d-22380308d6db"
      },
      "outputs": [
        {
          "data": {
            "text/plain": [
              "array([[0.5       , 0.66666667, 0.75      ],\n",
              "       [2.        , 1.66666667, 1.5       ]])"
            ]
          },
          "execution_count": 118,
          "metadata": {},
          "output_type": "execute_result"
        }
      ],
      "source": [
        "a = np.array([[1, 2, 3], [4, 5, 6]])\n",
        "a = np.array(a)\n",
        "b = np.array([2, 3, 4])\n",
        "a/b"
      ]
    },
    {
      "cell_type": "code",
      "execution_count": null,
      "metadata": {
        "id": "-ObebCScl_4N",
        "outputId": "94b790e5-d847-4d15-c95e-a0d382d3d049"
      },
      "outputs": [
        {
          "data": {
            "text/plain": [
              "array([2, 8, 6])"
            ]
          },
          "execution_count": 121,
          "metadata": {},
          "output_type": "execute_result"
        }
      ],
      "source": [
        "a = np.array([1, 4, 3])\n",
        "b = np.array([2, 2, 2])\n",
        "a*b"
      ]
    },
    {
      "cell_type": "code",
      "execution_count": null,
      "metadata": {
        "id": "bQ5XQjNrl_4N",
        "outputId": "80d7e06c-58e7-4dfe-8913-487dd0183085"
      },
      "outputs": [
        {
          "data": {
            "text/plain": [
              "array([[1.5       , 4.        , 0.66666667],\n",
              "       [2.        , 5.        , 2.33333333]])"
            ]
          },
          "execution_count": 133,
          "metadata": {},
          "output_type": "execute_result"
        }
      ],
      "source": [
        "a = np.array([[3, 4, 2],\n",
        "[4, 5, 7]])\n",
        "b = np.array([2, 1, 3])\n",
        "a/b"
      ]
    },
    {
      "cell_type": "code",
      "execution_count": null,
      "metadata": {
        "id": "OlCLemuEl_4O",
        "outputId": "6ea74638-7eae-45e1-c58d-bfd92816720e"
      },
      "outputs": [
        {
          "name": "stdout",
          "output_type": "stream",
          "text": [
            "[[ 0  1  2  3]\n",
            " [ 4  5  6  7]\n",
            " [ 8  9 10 11]\n",
            " [12 13 14 15]\n",
            " [16 17 18 19]]\n",
            "[2 1 3 4 5]\n",
            "[[0.         0.5        1.         1.5       ]\n",
            " [4.         5.         6.         7.        ]\n",
            " [2.66666667 3.         3.33333333 3.66666667]\n",
            " [3.         3.25       3.5        3.75      ]\n",
            " [3.2        3.4        3.6        3.8       ]]\n"
          ]
        }
      ],
      "source": [
        "a=np.arange(20).reshape((5,4))\n",
        "print(a)\n",
        "b=np.array([2, 1, 3, 4, 5])\n",
        "print(b)\n",
        "c=a / (b)[:, np.newaxis]\n",
        "print(c)"
      ]
    },
    {
      "cell_type": "code",
      "execution_count": null,
      "metadata": {
        "id": "4BkJrpq8l_4O"
      },
      "outputs": [],
      "source": [
        "for current_UE in self.UE_positions:\n",
        "    dist_i = np.linalg.norm(current_UE - self.current_state)\n",
        "    dist_UE_UAV.append(dist_i)\n",
        "    if(np.square(C_max_t) >= dist_i):\n",
        "        M_t += 1\n",
        "\n",
        "for current_EC in self.EC_positions:\n",
        "    dist_i = np.linalg.norm(current_EC - self.current_state) \n",
        "    dist_EC_UAV.append(dist_i)\n",
        "\n",
        "dist_UE_UAV = np.array(dist_UE_UAV)\n",
        "dist_EC_UAV = np.array(dist_EC_UAV)"
      ]
    },
    {
      "cell_type": "code",
      "execution_count": null,
      "metadata": {
        "id": "2rAh8TLal_4O",
        "outputId": "f7fdae7f-f32b-4c0b-9e1f-f5cededcaab8"
      },
      "outputs": [
        {
          "name": "stdout",
          "output_type": "stream",
          "text": [
            "[[ 0  1  2  3]\n",
            " [ 4  5  6  7]\n",
            " [ 8  9 10 11]\n",
            " [12 13 14 15]\n",
            " [16 17 18 19]]\n",
            "[[-3  0  0  2]\n",
            " [ 1  4  4  6]\n",
            " [ 5  8  8 10]\n",
            " [ 9 12 12 14]\n",
            " [13 16 16 18]]\n"
          ]
        },
        {
          "data": {
            "text/plain": [
              "numpy.int32"
            ]
          },
          "execution_count": 151,
          "metadata": {},
          "output_type": "execute_result"
        }
      ],
      "source": [
        "a = np.arange(20).reshape((5, 4))\n",
        "print(a)\n",
        "b = np.array([3, 1, 2, 1])\n",
        "c = a-b\n",
        "print(c)\n",
        "d = np.linalg.norm(c, axis = 1)\n",
        "e = 3\n",
        "f = (((d <= np.square(e)))*1).sum()"
      ]
    },
    {
      "cell_type": "code",
      "execution_count": null,
      "metadata": {
        "id": "8IS2Qk_kl_4O",
        "outputId": "d8963f41-654d-43df-adda-63e1d0941c4c"
      },
      "outputs": [
        {
          "name": "stdout",
          "output_type": "stream",
          "text": [
            "[[ 3.  5.]\n",
            " [10.  4.]\n",
            " [ 7.  9.]\n",
            " [11.  8.]]\n",
            "[ 8. 14. 16. 19.]\n",
            "[ 8. 28. 48. 76.]\n"
          ]
        },
        {
          "data": {
            "text/plain": [
              "(4,)"
            ]
          },
          "execution_count": 177,
          "metadata": {},
          "output_type": "execute_result"
        }
      ],
      "source": [
        "a = [2., 1., 3., 5, 10, 4, 7, 9, 11, 8]\n",
        "b = (np.array(a[2:])).reshape((4, 2))\n",
        "print(b)\n",
        "c = b.sum(axis = 1)\n",
        "print(c)\n",
        "d = [1, 2, 3, 4]\n",
        "print(c * d)\n",
        "(c+d).shape"
      ]
    },
    {
      "cell_type": "code",
      "execution_count": null,
      "metadata": {
        "id": "k2uUg6eYl_4O",
        "outputId": "235cf7a2-1f16-4aac-fa99-3fead0315a6e"
      },
      "outputs": [
        {
          "data": {
            "text/plain": [
              "array([3, 8])"
            ]
          },
          "execution_count": 189,
          "metadata": {},
          "output_type": "execute_result"
        }
      ],
      "source": [
        "a = np.array([2, 8])\n",
        "b = np.array([3, 1])\n",
        "np.maximum(a, b)"
      ]
    },
    {
      "cell_type": "code",
      "execution_count": null,
      "metadata": {
        "id": "8U7ysEfal_4O",
        "outputId": "28bdc57f-e214-4ec6-f796-d81d4b872c62"
      },
      "outputs": [
        {
          "name": "stdout",
          "output_type": "stream",
          "text": [
            "[[ 7  4]\n",
            " [12 24]\n",
            " [28  6]]\n"
          ]
        },
        {
          "data": {
            "text/plain": [
              "array([ 7, 24, 28])"
            ]
          },
          "execution_count": 188,
          "metadata": {},
          "output_type": "execute_result"
        }
      ],
      "source": [
        "a = np.array([[2, 3], [8, 11], [13, 4]])\n",
        "b = np.array([[5, 1], [4, 13], [15, 2]])\n",
        "c= (a+b)\n",
        "print(c)\n",
        "c.max(axis=1)"
      ]
    },
    {
      "cell_type": "code",
      "execution_count": null,
      "metadata": {
        "id": "cEbkDnoml_4P",
        "outputId": "e46c1a56-6a60-4bc5-845b-eb6d51c54022"
      },
      "outputs": [
        {
          "data": {
            "text/plain": [
              "numpy.float64"
            ]
          },
          "execution_count": 202,
          "metadata": {},
          "output_type": "execute_result"
        }
      ],
      "source": [
        "a = np.ones(5) - 0.3\n",
        "type(a[0])"
      ]
    },
    {
      "cell_type": "code",
      "execution_count": null,
      "metadata": {
        "id": "zBV7heRBl_4P",
        "outputId": "63dabc72-151d-4cb2-d663-202d99d8f3ec"
      },
      "outputs": [
        {
          "data": {
            "text/plain": [
              "array([[1, 1, 1],\n",
              "       [1, 1, 1]])"
            ]
          },
          "execution_count": 204,
          "metadata": {},
          "output_type": "execute_result"
        }
      ],
      "source": [
        "\n",
        "np.clip(a, 0, 1)"
      ]
    },
    {
      "cell_type": "code",
      "execution_count": null,
      "metadata": {
        "id": "YMYD8GZFl_4P",
        "outputId": "a73da0b8-d728-45b1-8701-32f55afff0ef"
      },
      "outputs": [
        {
          "name": "stdout",
          "output_type": "stream",
          "text": [
            "[2 2 3 4 5 4 2] <class 'numpy.ndarray'>\n"
          ]
        }
      ],
      "source": [
        "a = np.array([2, 3, 4, 5, 6, 7, 8])\n",
        "b = np.array([[2, 3, 4], [5, 4, 2]])\n",
        "a[1:] = b.flatten()\n",
        "print(a, type(b))"
      ]
    },
    {
      "cell_type": "code",
      "execution_count": null,
      "metadata": {
        "id": "j1gVUk-ol_4P",
        "outputId": "3004a8b3-263f-4547-8c26-87030c502e71"
      },
      "outputs": [
        {
          "name": "stdout",
          "output_type": "stream",
          "text": [
            "1\n",
            "<class 'str'>\n"
          ]
        }
      ],
      "source": [
        "a = input()\n",
        "print(type(a))"
      ]
    },
    {
      "cell_type": "code",
      "execution_count": null,
      "metadata": {
        "id": "xnh5T4o_l_4P",
        "outputId": "f3e17e3f-c2d1-474f-b5f7-4ed31eac5577"
      },
      "outputs": [
        {
          "data": {
            "text/plain": [
              "array([2, 3, 4, 5])"
            ]
          },
          "execution_count": 250,
          "metadata": {},
          "output_type": "execute_result"
        }
      ],
      "source": [
        "a = np.array([1, 2, 3, 4])\n",
        "a[0:4] = [2, 3, 4, 5]\n",
        "a"
      ]
    },
    {
      "cell_type": "code",
      "execution_count": null,
      "metadata": {
        "id": "xEAv1Wu6l_4Q",
        "outputId": "a652c559-88c9-4eae-d09c-6fc30382ea70"
      },
      "outputs": [
        {
          "data": {
            "text/plain": [
              "array([0.5, 3. , 1.5, 1.4])"
            ]
          },
          "execution_count": 552,
          "metadata": {},
          "output_type": "execute_result"
        }
      ],
      "source": [
        "a = np.array([2, 3, 6, 7])\n",
        "b = np.array([4, 1, 4, 5])\n",
        "c = a/b\n",
        "c"
      ]
    },
    {
      "cell_type": "code",
      "execution_count": null,
      "metadata": {
        "id": "FXfFmdpZl_4Q"
      },
      "outputs": [],
      "source": []
    },
    {
      "cell_type": "code",
      "execution_count": null,
      "metadata": {
        "id": "t04OP0Oil_4Q"
      },
      "outputs": [],
      "source": [
        "import math\n",
        "import warnings\n",
        "from typing import TYPE_CHECKING, Optional\n",
        "\n",
        "import numpy as np\n",
        "\n",
        "import gym\n",
        "from gym import error, spaces\n",
        "from gym.error import DependencyNotInstalled\n",
        "from gym.utils import EzPickle, colorize\n",
        "# from gym.utils.step_api_compatibility import step_api_compatibility"
      ]
    },
    {
      "cell_type": "code",
      "execution_count": null,
      "metadata": {
        "id": "pA-NY7Wol_4Q"
      },
      "outputs": [],
      "source": [
        "class HalfCheetahEnv(MuJocoPyEnv, utils.EzPickle):\n",
        "    metadata = {\n",
        "        \"render_modes\": [\n",
        "            \"human\",\n",
        "            \"rgb_array\",\n",
        "            \"depth_array\",\n",
        "        ],\n",
        "        \"render_fps\": 20,\n",
        "    }\n",
        "\n",
        "    def __init__(self, **kwargs):\n",
        "        observation_space = Box(low=-np.inf, high=np.inf, shape=(17,), dtype=np.float64)\n",
        "        MuJocoPyEnv.__init__(\n",
        "            self, \"half_cheetah.xml\", 5, observation_space=observation_space, **kwargs\n",
        "        )\n",
        "        utils.EzPickle.__init__(self, **kwargs)\n",
        "\n",
        "    def step(self, action):\n",
        "        xposbefore = self.sim.data.qpos[0]\n",
        "        self.do_simulation(action, self.frame_skip)\n",
        "        xposafter = self.sim.data.qpos[0]\n",
        "\n",
        "        ob = self._get_obs()\n",
        "        reward_ctrl = -0.1 * np.square(action).sum()\n",
        "        reward_run = (xposafter - xposbefore) / self.dt\n",
        "        reward = reward_ctrl + reward_run\n",
        "        terminated = False\n",
        "\n",
        "        if self.render_mode == \"human\":\n",
        "            self.render()\n",
        "        return (\n",
        "            ob,\n",
        "            reward,\n",
        "            terminated,\n",
        "            False,\n",
        "            dict(reward_run=reward_run, reward_ctrl=reward_ctrl),\n",
        "        )\n",
        "\n",
        "    def _get_obs(self):\n",
        "        return np.concatenate(\n",
        "            [\n",
        "                self.sim.data.qpos.flat[1:],\n",
        "                self.sim.data.qvel.flat,\n",
        "            ]\n",
        "        )\n",
        "\n",
        "    def reset_model(self):\n",
        "        qpos = self.init_qpos + self.np_random.uniform(\n",
        "            low=-0.1, high=0.1, size=self.model.nq\n",
        "        )\n",
        "        qvel = self.init_qvel + self.np_random.standard_normal(self.model.nv) * 0.1\n",
        "        self.set_state(qpos, qvel)\n",
        "        return self._get_obs()\n",
        "\n",
        "    def viewer_setup(self):\n",
        "        assert self.viewer is not None\n",
        "        self.viewer.cam.distance = self.model.stat.extent * 0.5"
      ]
    },
    {
      "cell_type": "code",
      "source": [],
      "metadata": {
        "id": "PPXbCgl_pFK-"
      },
      "execution_count": null,
      "outputs": []
    }
  ],
  "metadata": {
    "colab": {
      "provenance": [],
      "toc_visible": true,
      "collapsed_sections": [
        "wi6e2-_pu05e",
        "E3k9KiTll_4F",
        "ffmol6akl_4J",
        "L4fOfU_Ul_4M"
      ],
      "include_colab_link": true
    },
    "kernelspec": {
      "display_name": "Python 3 (ipykernel)",
      "language": "python",
      "name": "python3"
    },
    "language_info": {
      "codemirror_mode": {
        "name": "ipython",
        "version": 3
      },
      "file_extension": ".py",
      "mimetype": "text/x-python",
      "name": "python",
      "nbconvert_exporter": "python",
      "pygments_lexer": "ipython3",
      "version": "3.9.7"
    },
    "gpuClass": "standard"
  },
  "nbformat": 4,
  "nbformat_minor": 0
}