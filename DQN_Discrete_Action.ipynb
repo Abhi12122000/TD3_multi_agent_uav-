{
  "cells": [
    {
      "cell_type": "markdown",
      "metadata": {
        "id": "view-in-github",
        "colab_type": "text"
      },
      "source": [
        "<a href=\"https://colab.research.google.com/github/Abhi12122000/TD3_multi_agent_uav-/blob/main/DQN_Discrete_Action.ipynb\" target=\"_parent\"><img src=\"https://colab.research.google.com/assets/colab-badge.svg\" alt=\"Open In Colab\"/></a>"
      ]
    },
    {
      "cell_type": "markdown",
      "metadata": {
        "id": "ujmwKQ0DZw4o"
      },
      "source": [
        "## Import the necessary software libraries:"
      ]
    },
    {
      "cell_type": "code",
      "source": [
        "!pip install gym==0.15.3"
      ],
      "metadata": {
        "colab": {
          "base_uri": "https://localhost:8080/"
        },
        "id": "hQ9UtLxWmWDz",
        "outputId": "465185b5-c31b-4f99-e4a8-b9e025981489"
      },
      "execution_count": 1,
      "outputs": [
        {
          "output_type": "stream",
          "name": "stdout",
          "text": [
            "Looking in indexes: https://pypi.org/simple, https://us-python.pkg.dev/colab-wheels/public/simple/\n",
            "Requirement already satisfied: gym==0.15.3 in /usr/local/lib/python3.8/dist-packages (0.15.3)\n",
            "Requirement already satisfied: scipy in /usr/local/lib/python3.8/dist-packages (from gym==0.15.3) (1.7.3)\n",
            "Requirement already satisfied: cloudpickle~=1.2.0 in /usr/local/lib/python3.8/dist-packages (from gym==0.15.3) (1.2.2)\n",
            "Requirement already satisfied: numpy>=1.10.4 in /usr/local/lib/python3.8/dist-packages (from gym==0.15.3) (1.22.4)\n",
            "Requirement already satisfied: pyglet<=1.3.2,>=1.2.0 in /usr/local/lib/python3.8/dist-packages (from gym==0.15.3) (1.3.2)\n",
            "Requirement already satisfied: six in /usr/local/lib/python3.8/dist-packages (from gym==0.15.3) (1.15.0)\n",
            "Requirement already satisfied: future in /usr/local/lib/python3.8/dist-packages (from pyglet<=1.3.2,>=1.2.0->gym==0.15.3) (0.16.0)\n"
          ]
        }
      ]
    },
    {
      "cell_type": "code",
      "execution_count": 2,
      "metadata": {
        "id": "lgcMITndZw4p"
      },
      "outputs": [],
      "source": [
        "import random\n",
        "import copy\n",
        "import gym\n",
        "import torch\n",
        "import torch.nn.functional as F\n",
        "import math\n",
        "import matplotlib.pyplot as plt\n",
        "from torch import nn as nn\n",
        "from torch.optim import AdamW\n",
        "from tqdm import tqdm\n",
        "import numpy as np\n",
        "from gym import wrappers, Env, spaces\n",
        "# from utils import test_agent, plot_stats, seed_everything"
      ]
    },
    {
      "cell_type": "markdown",
      "metadata": {
        "id": "ecN67F7oZw4q"
      },
      "source": [
        "## Create and prepare the environment"
      ]
    },
    {
      "cell_type": "markdown",
      "metadata": {
        "id": "R0-U9o86Zw4q"
      },
      "source": [
        "### Create the environment"
      ]
    },
    {
      "cell_type": "code",
      "execution_count": 3,
      "metadata": {
        "id": "oPtCGfTmZw4q"
      },
      "outputs": [],
      "source": [
        "import os\n",
        "os.environ[\"KMP_DUPLICATE_LIB_OK\"]=\"TRUE\""
      ]
    },
    {
      "cell_type": "code",
      "source": [
        "# class Single_Agent_UAV(Env):\n",
        "#     def __init__(self, initial_UAV_state = None):\n",
        "#         super(Single_Agent_UAV, self).__init__()\n",
        "\n",
        "#         #self.initial_UAV_state = initial_UAV_state\n",
        "#         self.initial_UAV_state = np.array([50,50])\n",
        "#         self.UE_count = 30\n",
        "#         self.Z = 20\n",
        "#         self.horizontal_dist_max = 20\n",
        "#         self.max_angle = 2 * math.pi\n",
        "#         # self.dz_max = 20\n",
        "#         self.phi_n = np.radians(42.44)  # in degrees\n",
        "#         self.C_max_t = (self.Z / np.tan(self.phi_n))\n",
        "#         self.boundary_x = self.boundary_y = 100.\n",
        "#         self.max_episode_steps = 20 # Maximum number of steps in a single episode, after which environment returns done = True\n",
        "#         self.current_episode_timestep = 0\n",
        "#         self.done = False\n",
        "#         self.action_step_size = self.boundary_x / 25.\n",
        "\n",
        "#         # self.action_space_coversion_lb = np.array([0, 0])\n",
        "#         # self.action_space_coversion_ub = np.array([self.horizontal_dist_max, self.max_angle])\n",
        "\n",
        "#         # self.action_space_lb = -1 * np.ones(2)\n",
        "#         # self.action_space_ub = np.ones(2)\n",
        "#         self.state_space_lb = np.array([0 for i in range(self.UE_count + 2)])\n",
        "#         self.state_space_ub = [self.boundary_x, self.boundary_y]\n",
        "#         for i in range(self.UE_count):\n",
        "#             self.state_space_ub.append(1)\n",
        "#         self.state_space_ub = np.array(self.state_space_ub)\n",
        "        \n",
        "#         # plotting parameters\n",
        "#         self.plotting_boundary_buffer = 5.\n",
        "#         self.UAV_coverage_circle_color = 'lavender'\n",
        "#         self.EC_concentrated_region_color = 'mistyrose'\n",
        "#         self.UAV_path_color = 'green'\n",
        "\n",
        "\n",
        "# #         defining action space\n",
        "#         self.state_space = gym.spaces.box.Box(low = self.state_space_lb, high = self.state_space_ub)\n",
        "# #         defining observation space\n",
        "#         self.action_space = spaces.Discrete(9)\n",
        "\n",
        "#         self.place_UEs(position=\"centered\", center = None)\n",
        "#         self.action_conversion()\n",
        "\n",
        "\n",
        "#     def action_conversion(self):\n",
        "#         self.n_actions = self.action_space.n\n",
        "#         # HARDCODED FOR n=9\n",
        "#         diag = (1 / math.sqrt(2))\n",
        "#         self.index_to_action_mapper = [(0, 0 ), (1, 0), (diag, diag), (0, 1), (-diag, diag), (-1, 0), (-diag, -diag), (0, -1), (diag, -diag)]  # angle changes in clockwise fashion\n",
        "#         return\n",
        "\n",
        "\n",
        "#     def reset(self):\n",
        "#         self.current_state = np.array(self.initial_UAV_state)\n",
        "#         horizontal_dist_UE_UAV = np.linalg.norm(self.UE_positions - self.current_state[:2], axis = 1)\n",
        "#         rho_array = (horizontal_dist_UE_UAV <= (self.C_max_t)) * 1  # binary association vector\n",
        "#         self.current_state = np.concatenate((self.current_state[:2], rho_array))\n",
        "#         self.timesteps_in_episode = 0\n",
        "#         self.done = False\n",
        "#         return self.current_state\n",
        "    \n",
        "    \n",
        "#     def get_count_of_UEs_covered(self):\n",
        "#         '''\n",
        "#         Returns count of UEs covered under UAV's current configuration\n",
        "#         '''\n",
        "\n",
        "#         ground_UAV_state = self.current_state[:2]\n",
        "#         horizontal_dist_UE_UAV = np.linalg.norm(self.UE_positions - ground_UAV_state, axis = 1)\n",
        "#         # print(\"horizontal distance b/w UEs and UAV: \", horizontal_dist_UE_UAV)\n",
        "#         rho_array = (horizontal_dist_UE_UAV <= (self.C_max_t)) * 1  # binary association vector\n",
        "#         M_t = rho_array.sum()\n",
        "\n",
        "#         return M_t\n",
        "\n",
        "\n",
        "#     def render(self, **kwargs):\n",
        "#         '''\n",
        "#         Function to visualize UAV position\n",
        "#         (this function has different configurations for different use cases)\n",
        "#         '''\n",
        "\n",
        "#         if 'UAV_positions_list' in kwargs:\n",
        "#             self.render_UAV_movement_through_episode(UAV_positions_list = kwargs['UAV_positions_list'])\n",
        "\n",
        "#         if 'fig' not in kwargs:\n",
        "#             fig, ax = plt.subplots(1, 2, figsize=(20,10))\n",
        "#             ax = np.array([ax])\n",
        "#             kwargs['fig'] = fig\n",
        "#             kwargs['ax'] = ax\n",
        "#             kwargs['i'] = 0\n",
        "        \n",
        "#         if 'reward' not in kwargs:\n",
        "#             kwargs['reward'] = 'Not known'\n",
        "#         self.render_position_plot(**kwargs)\n",
        "\n",
        "\n",
        "#     def step(self, action):\n",
        "#         '''\n",
        "#         Takes action moving environment from current_state to next_state\n",
        "#         Arguments: `action` to be taken\n",
        "#         Returns: new_state, reward, done, info(=None)\n",
        "#         '''\n",
        "#         # action = action.numpy().flatten()\n",
        "#         err_msg = f\"{action!r} ({type(action)}) invalid\"\n",
        "#         assert self.action_space.contains(action), err_msg\n",
        "#         assert self.current_state is not None, \"Call reset before using step method.\"\n",
        "\n",
        "\n",
        "#         self.timesteps_in_episode += 1\n",
        "#         prev_UAV_state = self.current_state\n",
        "#         _, inside_bounds = self.move(action)\n",
        "#         # print(type(self.current_state), type(prev_UAV_state))\n",
        "#         if not inside_bounds:\n",
        "#             # MENTIONED OUTPUT IS OUT OF BOUNDS\n",
        "#             self.is_done(end = True)\n",
        "#             reward = -500\n",
        "#             return self.current_state, reward, self.done, None\n",
        "\n",
        "#         ground_UAV_state = self.current_state[:2]\n",
        "#         horizontal_dist_UE_UAV = np.linalg.norm(self.UE_positions - ground_UAV_state, axis = 1)\n",
        "#         rho_array = (horizontal_dist_UE_UAV <= (self.C_max_t)) * 1  # binary association vector\n",
        "#         self.current_state = np.concatenate((self.current_state[:2], rho_array))\n",
        "#         M_t = rho_array.sum()  # no. of UEs served by the agent\n",
        "\n",
        "#         reward = M_t * 10         \n",
        "#         self.is_done(M_t)\n",
        "        \n",
        "#         return self.current_state, reward, self.done, None\n",
        "    \n",
        "\n",
        "#     def move(self, action):\n",
        "#         '''\n",
        "#         Helper function to step() function.\n",
        "#         Clips the passed action to fit within action space bounds.\n",
        "#         Calculates new state after performing the passed action, and updates UAV position accordingly. \n",
        "#         '''\n",
        "# #         evaluates new state reached upon performing the move and saves it in self.current_state\n",
        "#         # ACTION = [dx, dy]\n",
        "#         x_next = self.current_state[0] + (self.index_to_action_mapper[action][0] * self.action_step_size)\n",
        "#         y_next = self.current_state[1] + (self.index_to_action_mapper[action][1] * self.action_step_size)\n",
        "        \n",
        "#     # updating horizontal_direction_angle if the new move is out of boundary\n",
        "#         if((x_next < 0) or (x_next > self.boundary_x) or (y_next < 0) or (y_next > self.boundary_y)):\n",
        "#             # UAV REMAINS IN ITS CURRENT POSITION\n",
        "#             return action, False\n",
        "\n",
        "#         self.current_state[:2] = np.array([x_next, y_next])\n",
        "#         return action, True\n",
        "\n",
        "\n",
        "#     def is_done(self, M_t=0, end=False):\n",
        "#         '''\n",
        "#         Helper function to check if episode needs to be terminated\n",
        "#         '''\n",
        "#         if end == True:\n",
        "#             self.done = True\n",
        "#         # if M_t >= int(0.6 * self.UE_count):\n",
        "#         #     self.done = True\n",
        "#         elif(self.timesteps_in_episode >= self.max_episode_steps):\n",
        "#             self.done = True\n",
        "#         return\n",
        "\n",
        "    \n",
        "#     def select_random_state(self):\n",
        "#         '''\n",
        "#         Selects (and returns) random initial state (within bounds) for the UAV\n",
        "#         '''\n",
        "#         new_x = np.random.uniform(0.0, self.boundary_x)\n",
        "#         new_y = np.random.uniform(0.0, self.boundary_y)\n",
        "#         return np.array([new_x, new_y])\n",
        "    \n",
        "\n",
        "#     def place_UEs_centered(self, center = None, centered_UE_count = None):\n",
        "#         '''\n",
        "#         Helper function to place_UEs\n",
        "#         Places `centered_UE_count` UEs within a circle with center `center` and radius `C_max_t`.\n",
        "#         Places remaining UEs (UE_count - centered_UE_count) randomly inside the area barring the above circular region\n",
        "#         Arguments: \n",
        "#             desired_z_coord: Z coordinate with which to calculate radius C_max_t for centering UEs\n",
        "#             center: Provides center of circular region in which UEs will be scattered\n",
        "#             centered_UE_count: Number of UEs to be placed within the circular region created using previous arguments\n",
        "#         '''\n",
        "\n",
        "#         if centered_UE_count is None:\n",
        "#           centered_UE_count = self.UE_count\n",
        "#         # focuses the UEs inside the circular region\n",
        "#         radius = self.C_max_t\n",
        "#         if(center == None):\n",
        "#             # (x, y) co-ordinates\n",
        "#             x = np.random.uniform(0, self.boundary_x)\n",
        "#             y = np.random.uniform(0, self.boundary_y)\n",
        "#             center = np.array([x, y])\n",
        "\n",
        "#         r = radius * np.sqrt(np.random.uniform(size = centered_UE_count))\n",
        "#         theta = np.random.uniform(size = centered_UE_count) * 2 * math.pi\n",
        "\n",
        "#         self.UE_center = center\n",
        "#         self.UE_radius = radius\n",
        "        \n",
        "\n",
        "#         self.UE_positions = np.zeros((centered_UE_count, 2))\n",
        "#         self.UE_positions[:, 0] = np.clip(center[0] + r * np.cos(theta), 0., self.boundary_x) \n",
        "#         self.UE_positions[:, 1] = np.clip(center[1] + r * np.sin(theta), 0., self.boundary_y)\n",
        "#         return\n",
        "\n",
        "\n",
        "#     def place_UEs_randomly(self, random_UE_count = None, **kwargs):\n",
        "#         '''\n",
        "#         Helper function to place_UEs\n",
        "#         places `random_UE_count` UEs randomly onto the rectangular region\n",
        "#         if kwargs has the key `exclude_center`, then the circular region spanned by `exclude_center` \\\n",
        "#         and `exclude_radius` is excluded\n",
        "\n",
        "#         '''\n",
        "\n",
        "#         if random_UE_count is None:\n",
        "#           random_UE_count = self.UE_count\n",
        "\n",
        "#         # places UE_count UEs on grid randomly\n",
        "#         if type(self.UE_positions) == np.ndarray:\n",
        "#             self.UE_positions = self.UE_positions.tolist()\n",
        "\n",
        "#         randomly_placed_count = 0\n",
        "#         while(randomly_placed_count < random_UE_count):\n",
        "#             x = np.random.uniform(0, self.boundary_x)\n",
        "#             y = np.random.uniform(0, self.boundary_y)\n",
        "#             coords = np.array([x, y])\n",
        "#             if 'exclude_center' in kwargs:\n",
        "#                 if (np.linalg.norm(coords - kwargs['exclude_center']) <= kwargs['exclude_radius']):\n",
        "#                     continue\n",
        "#             self.UE_positions.append(coords)\n",
        "#             randomly_placed_count += 1\n",
        "\n",
        "#         self.UE_positions = np.array(self.UE_positions)\n",
        "\n",
        "\n",
        "#     def place_UEs(self, position=\"random\", center = None):\n",
        "#         '''\n",
        "#         Function to place UEs onto the rectangular region\n",
        "#         Arguments:\n",
        "#             position: has 2 modes, \"random\" and \"centered\", representing the two configuration for scattering UEs\n",
        "#             desired_z_coord: if position=\"centered\", this argument gives height with which to calculate radius of circular region\n",
        "#             center: if position=\"centered\", this argument provides center of circular region\n",
        "#         '''\n",
        "\n",
        "#         self.UE_center = None  # initializing for non-centered generation algorithms\n",
        "\n",
        "#         if(position==\"centered\"):\n",
        "#             ratio = 0.65\n",
        "#             centered_count = int(ratio * self.UE_count)\n",
        "#             self.place_UEs_centered(center, centered_count)\n",
        "#             if(self.UE_count - centered_count > 0):\n",
        "#                 self.place_UEs_randomly(self.UE_count - centered_count, exclude_center = self.UE_center, exclude_radius = self.UE_radius)\n",
        "#         elif(position==\"random\"):\n",
        "#             self.place_UEs_randomly()\n",
        "\n",
        "#         # saves in self.UE_positions\n",
        "#         self.UE_positions = np.array(self.UE_positions)\n",
        "#         return\n",
        "\n",
        "\n",
        "#     def render_policy_plot(self, **kwargs):\n",
        "\n",
        "#         fig, ax = plt.subplots(1, figsize=(10,10))\n",
        "#         position_action_list = kwargs['position_action_list']\n",
        "#         for position_action in position_action_list:\n",
        "#             position = position_action[0]\n",
        "#             action = position_action[1]\n",
        "#             new_state = self.move(action, get_new_state=True)\n",
        "#             ax.arrow(position[0], position[1], new_state[0] - position[0], new_state[1] - position[1], head_width=0.09, head_length=0.1)\n",
        "#         plt.show()\n",
        "#         return\n",
        "\n",
        "\n",
        "#     def render_bar_plot(self, ax, plot_number, idx):\n",
        "#         '''\n",
        "#         Plotting bar graph of each UE's fraction of tasks assigned to UAV and to EC, by the last action input given to step() function\n",
        "#         '''\n",
        "#         x_indices = np.arange(self.UE_count)\n",
        "#         width = 0.5\n",
        "\n",
        "#         gamma_array = (np.array(self.last_action[4:])).reshape((self.UE_count, self.EC_count))\n",
        "#         gamma_zeros = (1 - gamma_array.sum(axis = 1))\n",
        "        \n",
        "#         ax[plot_number, idx].bar(x_indices, gamma_zeros, width=width)\n",
        "#         for i in range(self.EC_count):\n",
        "#             ax[plot_number, idx].bar(x_indices, gamma_array[:, i], width=width)\n",
        "        \n",
        "    \n",
        "#     def render_position_plot(self, **kwargs):\n",
        "#         '''\n",
        "#         Helper function to render(), plots the current position plot on given axes. \n",
        "#         Plotting position plot of UAV's current position and coverage\n",
        "#         '''\n",
        "#         ax = kwargs['ax']\n",
        "#         plot_number = kwargs['i']\n",
        "#         idx = 0\n",
        "#         reward = kwargs['reward']\n",
        "\n",
        "#         buffer = 5.\n",
        "#         ax[plot_number, idx].set_xlim(-buffer, self.boundary_x+buffer)\n",
        "#         ax[plot_number, idx].set_ylim(-buffer, self.boundary_y+buffer)\n",
        "#         ax[plot_number, idx].grid()\n",
        "#         UE_x = self.UE_positions[:, 0]\n",
        "#         UE_y = self.UE_positions[:, 1]\n",
        "#         ax[plot_number, idx].plot(UE_x, UE_y, color='black', marker='o', markersize=6, linestyle = '', label = \"UE\")\n",
        "        \n",
        "#         ax[plot_number, idx].plot(self.current_state[0], self.current_state[1], color='blue', marker='x', markersize=9, linestyle = '', label = \"UAV\")\n",
        "        \n",
        "#         UAV_coverage_area = plt.Circle((self.current_state[0] , self.current_state[1] ), self.C_max_t, color = self.UAV_coverage_circle_color)\n",
        "#         ax[plot_number, idx].add_artist(UAV_coverage_area)\n",
        "      \n",
        "#       # For testing: To plot the circle and visualize UE points inside it\n",
        "#         if self.UE_center is not None:\n",
        "#             Test_UE_allotment_circle = plt.Circle((self.UE_center[0] , self.UE_center[1]), self.UE_radius, color = self.EC_concentrated_region_color)\n",
        "#             ax[plot_number, idx].add_artist(Test_UE_allotment_circle)\n",
        "#       # End\n",
        "\n",
        "#         if 'learnt_policy_visualization' in kwargs:\n",
        "#             position_action_list = kwargs['position_action_list']\n",
        "#             for position_action in position_action_list:\n",
        "#                 position = position_action[0]\n",
        "#                 action = position_action[1]\n",
        "#                 action = np.clip(action, self.action_space_lb, self.action_space_ub)\n",
        "#                 action = (((self.action_space_coversion_ub - self.action_space_coversion_lb) * (action + 1)) / 2) + self.action_space_coversion_lb\n",
        "#                 print(\"scaled action: \", action)\n",
        "#                 # print(\"action after scaling: \", action)\n",
        "#                 new_state = self.move(action, get_new_state=True, provided_center=position)\n",
        "#                 print(\"previous state: \", position, \", new state: \", new_state)\n",
        "#                 # print(\"new_state: \", new_state)\n",
        "#                 ax[plot_number, idx].plot(position[0], position[1], color='blue', marker='o', markersize=6, linestyle = '')\n",
        "#                 ax[plot_number, idx].plot(new_state[0], new_state[1], color='orange', marker='o', markersize=6, linestyle = '')\n",
        "#                 ax[plot_number, idx].arrow(position[0], position[1], new_state[0] - position[0], new_state[1] - position[1], head_width=0.2, head_length=0.1)\n",
        "\n",
        "\n",
        "#         ax[plot_number, idx].set_aspect(1)\n",
        "#         # naming the x axis\n",
        "#         ax[plot_number, idx].set_xlabel('X pos (m)')\n",
        "#         # naming the y axis\n",
        "#         ax[plot_number, idx].set_ylabel('Y pos (m)')\n",
        "#         ax[plot_number, idx].set_title('reward: ' + str(reward))\n",
        "#         # giving a title to my graph\n",
        "#         # plt.title('Visually Appealing!')\n",
        "\n",
        "#         # show a legend on the plot\n",
        "#         ax[plot_number, idx].legend()\n",
        "#         # plt.show()"
      ],
      "metadata": {
        "id": "asK2dn_xcpMr"
      },
      "execution_count": 4,
      "outputs": []
    },
    {
      "cell_type": "code",
      "source": [
        "class Single_Agent_UAV(Env):\n",
        "    def __init__(self, initial_UAV_state = None):\n",
        "        super(Single_Agent_UAV, self).__init__()\n",
        "\n",
        "        self.UAV_count = 3\n",
        "        #self.initial_UAV_state = initial_UAV_state\n",
        "        self.initial_UAV_state = np.array([[50,50] for i in range(self.UAV_count)])\n",
        "        self.current_state = self.initial_UAV_state\n",
        "        self.UE_count = 200\n",
        "        self.Z = 20\n",
        "        self.horizontal_dist_max = 20\n",
        "        self.max_angle = 2 * math.pi\n",
        "        # self.dz_max = 20\n",
        "        self.phi_n = np.radians(42.44)  # in degrees\n",
        "        self.C_max_t = (self.Z / np.tan(self.phi_n))\n",
        "        self.D_min = (2 * C_max_t) + self.boundary_x / 25.\n",
        "        self.C_max_t_array = np.array([self.C_max_t for _ in range(self.UAV_count)])\n",
        "        self.boundary_x = self.boundary_y = 150.\n",
        "        self.max_episode_steps = 50 # Maximum number of steps in a single episode, after which environment returns done = True\n",
        "        self.current_episode_timestep = 0\n",
        "        self.done = False\n",
        "        self.action_step_size = self.boundary_x / 25.\n",
        "\n",
        "        # self.action_space_coversion_lb = np.array([0, 0])\n",
        "        # self.action_space_coversion_ub = np.array([self.horizontal_dist_max, self.max_angle])\n",
        "\n",
        "        # self.action_space_lb = -1 * np.ones(2)\n",
        "        # self.action_space_ub = np.ones(2)\n",
        "        self.state_space_lb = np.array([0, 0], dtype = np.float32)\n",
        "        self.state_space_ub = np.array([self.boundary_x, self.boundary_y], dtype = np.float32)\n",
        "        \n",
        "        # plotting parameters\n",
        "        self.plotting_boundary_buffer = 5.\n",
        "        self.UAV_coverage_circle_color = 'lavender'\n",
        "        self.EC_concentrated_region_color = 'mistyrose'\n",
        "        self.UAV_path_color = 'green'\n",
        "\n",
        "\n",
        "#         defining action space\n",
        "        self.state_space = np.array([gym.spaces.box.Box(low = self.state_space_lb, high = self.state_space_ub) for i in range(self.UAV_count)])\n",
        "#         defining observation space\n",
        "        self.action_space = np.array([spaces.Discrete(9) for i in range(self.UAV_count)])\n",
        "\n",
        "        self.place_UEs(position=\"centered\", center = None)\n",
        "        self.action_conversion()\n",
        "\n",
        "\n",
        "    def action_conversion(self):\n",
        "        self.n_actions = self.action_space[0].n\n",
        "        # HARDCODED FOR n=9\n",
        "        diag = (1 / math.sqrt(2))\n",
        "        self.index_to_action_mapper = [(0, 0 ), (1, 0), (diag, diag), (0, 1), (-diag, diag), (-1, 0), (-diag, -diag), (0, -1), (diag, -diag)]  # angle changes in clockwise fashion\n",
        "        return\n",
        "\n",
        "\n",
        "    def reset(self):\n",
        "        # RANDOMLY SELECTS UAV STARTING POSITION\n",
        "        self.current_state = self.select_random_state()\n",
        "        \n",
        "        # RESETS UAV STARTING POSITION TO self.initial_UAV_state\n",
        "        # self.current_state = np.array(self.initial_UAV_state)\n",
        "\n",
        "        # FOLLOWING 3 LINES ARE USED IF THE STATE SPACE INVOLVES THE UE COVERED BINARY VECTOR\n",
        "        # horizontal_dist_UE_UAV = np.linalg.norm(self.UE_positions - self.current_state[:2], axis = 1)\n",
        "        # rho_array = (horizontal_dist_UE_UAV <= (self.C_max_t)) * 1  # binary association vector\n",
        "        # self.current_state = np.concatenate((self.current_state[:2], rho_array))\n",
        "        self.timesteps_in_episode = 0\n",
        "        self.done = False\n",
        "        return self.current_state\n",
        "    \n",
        "    \n",
        "    def get_count_of_UEs_covered(self):\n",
        "        '''\n",
        "        Returns count of UEs covered under UAV's current configuration\n",
        "        '''\n",
        "        ground_UAV_state = self.current_state[:, :2]\n",
        "        horizontal_dist_UE_UAV = np.array([np.linalg.norm(self.UE_positions - ground_UAV_state[i], axis = 1) for i in range(self.UAV_count)])\n",
        "        rho_matrix = (horizontal_dist_UE_UAV <= (self.C_max_t_array[:, None])) * 1  # binary association vector [(n_uav x n_ue) dimensions]\n",
        "        Mn_t = ((rho_matrix.sum(axis = 0) >= 1) * 1) \n",
        "        M_t = Mn_t.sum()  # total no. of UEs served by all the agent collectively\n",
        "        return M_t\n",
        "\n",
        "\n",
        "    def render(self, **kwargs):\n",
        "        '''\n",
        "        Function to visualize UAV position\n",
        "        (this function has different configurations for different use cases)\n",
        "        '''\n",
        "\n",
        "        if 'UAV_positions_list' in kwargs:\n",
        "            self.render_UAV_movement_through_episode(UAV_positions_list = kwargs['UAV_positions_list'])\n",
        "\n",
        "        if 'fig' not in kwargs:\n",
        "            fig, ax = plt.subplots(1, 2, figsize=(20,10))\n",
        "            ax = np.array([ax])\n",
        "            kwargs['fig'] = fig\n",
        "            kwargs['ax'] = ax\n",
        "            kwargs['i'] = 0\n",
        "        \n",
        "        if 'reward' not in kwargs:\n",
        "            kwargs['reward'] = 'Not known'\n",
        "        self.render_position_plot(**kwargs)\n",
        "\n",
        "\n",
        "    def step(self, action):\n",
        "        '''\n",
        "        Takes action moving environment from current_state to next_state\n",
        "        Arguments: `action` to be taken\n",
        "        Returns: new_state, reward, done, info(=None)\n",
        "        '''\n",
        "        # action = action.numpy().flatten()\n",
        "        # print(\"action inside step: \", action)\n",
        "        for i in range(self.UAV_count):\n",
        "            err_msg = f\"{action[i]!r} ({type(action[i])}) for UAV {i} invalid\"\n",
        "            assert self.action_space[i].contains(action[i]), err_msg\n",
        "        assert self.current_state is not None, \"Call reset before using step method.\"\n",
        "\n",
        "        self.timesteps_in_episode += 1\n",
        "        prev_UAV_state = self.current_state\n",
        "        _, inside_bounds = self.move(action)\n",
        "        # print(type(self.current_state), type(prev_UAV_state))\n",
        "        if inside_bounds != 0:\n",
        "            # MENTIONED OUTPUT IS OUT OF BOUNDS\n",
        "\n",
        "            # self.is_done(end = True)\n",
        "            reward = -1000\n",
        "            return self.current_state, reward, self.done, None\n",
        "\n",
        "        ground_UAV_state = self.current_state[:, :2]\n",
        "        horizontal_dist_UE_UAV = np.array([np.linalg.norm(self.UE_positions - ground_UAV_state[i], axis = 1) for i in range(self.UAV_count)])\n",
        "        rho_matrix = (horizontal_dist_UE_UAV <= (self.C_max_t_array[:, None])) * 1  # binary association vector [(n_uav x n_ue) dimensions]\n",
        "        Mn_t = ((rho_matrix.sum(axis = 0) >= 1) * 1) \n",
        "        M_t = Mn_t.sum()  # total no. of UEs served by all the agent collectively\n",
        "\n",
        "        reward = M_t * 10         \n",
        "        self.is_done(M_t)\n",
        "\n",
        "        return self.current_state, reward, self.done, None\n",
        "    \n",
        "\n",
        "    def move(self, action):\n",
        "        '''\n",
        "        Helper function to step() function.\n",
        "        Clips the passed action to fit within action space bounds.\n",
        "        Calculates new state after performing the passed action, and updates UAV position accordingly. \n",
        "        '''\n",
        "#         evaluates new state reached upon performing the move and saves it in self.current_state\n",
        "        # ACTION = [dx, dy]\n",
        "        x_next_array = np.array([(self.current_state[i][0] + (self.index_to_action_mapper[action[i]][0] * self.action_step_size)) for i in range(self.UAV_count)], dtype=np.float32)\n",
        "        y_next_array = np.array([(self.current_state[i][1] + (self.index_to_action_mapper[action[i]][1] * self.action_step_size)) for i in range(self.UAV_count)], dtype=np.float32)\n",
        "        \n",
        "    # updating horizontal_direction_angle if the new move is out of boundary\n",
        "        positive_reward = True\n",
        "        if ((x_next_array < 0).any()) or ((y_next_array < 0).any()) or ((x_next_array > self.boundary_x).any()) or ((y_next_array > self.boundary_y).any()):\n",
        "            # UAV REMAINS IN ITS CURRENT POSITION\n",
        "            positive_reward = False\n",
        "\n",
        "        x_next_array = np.clip(x_next_array, a_min=np.array([0 for i in range(self.UAV_count)]), a_max=np.array([self.boundary_x for i in range(self.UAV_count)]))\n",
        "        y_next_array = np.clip(y_next_array, a_min=np.array([0 for i in range(self.UAV_count)]), a_max=np.array([self.boundary_y for i in range(self.UAV_count)]))\n",
        "        self.current_state[:, :2] = np.array([[x_next_array[i], y_next_array[i]] for i in range(self.UAV_count)])\n",
        "        return action, positive_reward\n",
        "\n",
        "\n",
        "    def is_done(self, M_t=0, end=False):\n",
        "        '''\n",
        "        Helper function to check if episode needs to be terminated\n",
        "        '''\n",
        "        if end == True:\n",
        "            self.done = True\n",
        "        # if M_t >= int(0.6 * self.UE_count):\n",
        "        #     self.done = True\n",
        "        elif(self.timesteps_in_episode >= self.max_episode_steps):\n",
        "            self.done = True\n",
        "        return\n",
        "\n",
        "    \n",
        "    def select_random_state(self):\n",
        "        '''\n",
        "        Selects (and returns) random initial state (within bounds) for the UAV\n",
        "        '''\n",
        "        UAV_pos_list = []\n",
        "        for _ in range(self.UAV_count):\n",
        "            new_x = np.random.uniform(0.0, self.boundary_x)\n",
        "            new_y = np.random.uniform(0.0, self.boundary_y)\n",
        "            UAV_pos_list.append(np.array([new_x, new_y]))\n",
        "\n",
        "        return np.array(UAV_pos_list)\n",
        "\n",
        "\n",
        "    def place_UEs_centered(self, center = None, centered_UE_count = None, radius = None):\n",
        "        '''\n",
        "        Helper function to place_UEs\n",
        "        Places `centered_UE_count` UEs within a circle with center `center` and radius `C_max_t`.\n",
        "        Places remaining UEs (UE_count - centered_UE_count) randomly inside the area barring the above circular region\n",
        "        Arguments: \n",
        "            desired_z_coord: Z coordinate with which to calculate radius C_max_t for centering UEs\n",
        "            center: Provides center of circular region in which UEs will be scattered\n",
        "            centered_UE_count: Number of UEs to be placed within the circular region created using previous arguments\n",
        "        '''\n",
        "\n",
        "        if centered_UE_count is None:\n",
        "          centered_UE_count = self.UE_count\n",
        "        # focuses the UEs inside the circular region\n",
        "        if radius is None:\n",
        "            radius = (2 * self.C_max_t) / 3\n",
        "        if center is None:\n",
        "            # (x, y) co-ordinates\n",
        "            x = np.random.uniform(0, self.boundary_x)\n",
        "            y = np.random.uniform(0, self.boundary_y)\n",
        "            center = np.array([x, y])\n",
        "\n",
        "        r = radius * np.sqrt(np.random.uniform(size = centered_UE_count))\n",
        "        theta = np.random.uniform(size = centered_UE_count) * 2 * math.pi\n",
        "\n",
        "        if self.UE_center is None:\n",
        "            self.UE_center = []\n",
        "            self.UE_radius = []\n",
        "        self.UE_center.append(center)\n",
        "        self.UE_radius.append(radius)\n",
        "\n",
        "        if self.UE_positions is None: \n",
        "            self.UE_positions = np.zeros((centered_UE_count, 2))\n",
        "            self.UE_positions[:, 0] = np.clip(center[0] + r * np.cos(theta), 0., self.boundary_x) \n",
        "            self.UE_positions[:, 1] = np.clip(center[1] + r * np.sin(theta), 0., self.boundary_y)\n",
        "        else:\n",
        "            current_iteration_UE_positions = np.zeros((centered_UE_count, 2))\n",
        "            current_iteration_UE_positions[:, 0] = np.clip(center[0] + r * np.cos(theta), 0., self.boundary_x) \n",
        "            current_iteration_UE_positions[:, 1] = np.clip(center[1] + r * np.sin(theta), 0., self.boundary_y)\n",
        "            # print(\"self.UE_positions: \", self.UE_positions)\n",
        "            # print(\"current_iteration_UE_positions: \", current_iteration_UE_positions) \n",
        "            self.UE_positions = np.concatenate((self.UE_positions, current_iteration_UE_positions))\n",
        "\n",
        "        return\n",
        "\n",
        "\n",
        "    def place_UEs_randomly(self, random_UE_count = None, **kwargs):\n",
        "        '''\n",
        "        Helper function to place_UEs\n",
        "        places `random_UE_count` UEs randomly onto the rectangular region\n",
        "        if kwargs has the key `exclude_center`, then the circular region spanned by `exclude_center` \\\n",
        "        and `exclude_radius` is excluded\n",
        "\n",
        "        '''\n",
        "\n",
        "        if random_UE_count is None:\n",
        "          random_UE_count = self.UE_count\n",
        "\n",
        "        # places UE_count UEs on grid randomly\n",
        "        if type(self.UE_positions) == np.ndarray:\n",
        "            self.UE_positions = self.UE_positions.tolist()\n",
        "\n",
        "        randomly_placed_count = 0\n",
        "        while(randomly_placed_count < random_UE_count):\n",
        "            x = np.random.uniform(0, self.boundary_x)\n",
        "            y = np.random.uniform(0, self.boundary_y)\n",
        "            coords = np.array([x, y])\n",
        "            if 'exclude_center' in kwargs:\n",
        "                if (np.linalg.norm(coords - kwargs['exclude_center']) <= kwargs['exclude_radius']):\n",
        "                    continue\n",
        "            self.UE_positions.append(coords)\n",
        "            randomly_placed_count += 1\n",
        "\n",
        "        self.UE_positions = np.array(self.UE_positions)\n",
        "\n",
        "\n",
        "    def get_UE_cluster_center(self, current_cluster_radius, exclude_center_list = None, exclude_radius_list = None):\n",
        "        \n",
        "        buffer = 20.\n",
        "        max_allowed_iterations = 10000\n",
        "        idx = 0\n",
        "        while True:\n",
        "            if idx >= max_allowed_iterations:\n",
        "                break\n",
        "            idx += 1\n",
        "            new_x = np.random.uniform(0.0, self.boundary_x)\n",
        "            new_y = np.random.uniform(0.0, self.boundary_y)\n",
        "            if exclude_center_list is not None:\n",
        "                # print(\"exclude_center_list: \", exclude_center_list)\n",
        "                # print(\"chosen coordinate: \", np.array([new_x, new_y]))\n",
        "                chosen_center_to_excluded_centers_dist_list = np.linalg.norm(exclude_center_list - np.array([new_x, new_y]), axis = 1)\n",
        "                if ((chosen_center_to_excluded_centers_dist_list <= (exclude_radius_list + current_cluster_radius + buffer)) * 1).any():\n",
        "                    continue\n",
        "                break\n",
        "\n",
        "        return np.array([new_x, new_y])\n",
        "\n",
        "\n",
        "    def place_UEs(self, position=\"random\", center = None, num_centers = 3):\n",
        "        '''\n",
        "        Function to place UEs onto the rectangular region\n",
        "        Arguments:\n",
        "            position: has 2 modes, \"random\" and \"centered\", representing the two configuration for scattering UEs\n",
        "            desired_z_coord: if position=\"centered\", this argument gives height with which to calculate radius of circular region\n",
        "            center: if position=\"centered\", this argument provides center of circular region\n",
        "        '''\n",
        "\n",
        "        self.UE_center = None  # initializing for non-centered generation algorithms\n",
        "        self.UE_positions = None\n",
        "\n",
        "        if(position==\"centered\"):\n",
        "            ratio = 0.75\n",
        "            centered_count = int(ratio * self.UE_count)\n",
        "            per_center_count = int(centered_count / num_centers)\n",
        "            exclude_center_list = None\n",
        "            exclude_radius_list = None\n",
        "            for i in range(num_centers):\n",
        "                current_UE_cluster_center = self.get_UE_cluster_center(self.C_max_t, exclude_center_list = exclude_center_list, exclude_radius_list = exclude_radius_list)\n",
        "                # print(i, \"th cluster center: \", current_UE_cluster_center)\n",
        "                self.place_UEs_centered(center = current_UE_cluster_center, centered_UE_count = per_center_count)\n",
        "                if exclude_center_list is None:\n",
        "                    exclude_center_list = np.array([current_UE_cluster_center])\n",
        "                    exclude_radius_list = np.array([self.UE_radius[-1]])\n",
        "                else:\n",
        "                    exclude_center_list = np.concatenate((exclude_center_list, np.array([current_UE_cluster_center])))\n",
        "                    # print(\"exclude_radius_list: \", exclude_radius_list)\n",
        "                    # print(\"current_radius: \", np.array(self.UE_radius[-1]))\n",
        "                    exclude_radius_list = np.concatenate((exclude_radius_list, [np.array(self.UE_radius[-1])]))\n",
        "\n",
        "            # Placing remaining UAVs randomly\n",
        "            if((self.UE_count - (per_center_count * num_centers)) > 0):\n",
        "                self.place_UEs_randomly(self.UE_count - (per_center_count * num_centers))\n",
        "        \n",
        "        elif(position==\"random\"):\n",
        "            self.place_UEs_randomly()\n",
        "\n",
        "        # saves in self.UE_positions\n",
        "        self.UE_positions = np.array(self.UE_positions)\n",
        "        return\n",
        "\n",
        "\n",
        "    def render_UAV_movement_through_episode(self, **kwargs):\n",
        "        '''\n",
        "        Helper function to visualize UAV movement through an episode\n",
        "        Arguments: A list specifying UAV positions throughout the episode\n",
        "        '''\n",
        "\n",
        "        if 'reward' not in kwargs:\n",
        "            kwargs['reward'] = 'Not known'\n",
        "        \n",
        "        buffer = 5.\n",
        "        fig, ax = plt.subplots(1, figsize=(10,10))\n",
        "        ax.set_xlim(-buffer, self.boundary_x+buffer)\n",
        "        ax.set_ylim(-buffer, self.boundary_y+buffer)\n",
        "        ax.grid()\n",
        "        UE_x = self.UE_positions[:, 0]\n",
        "        UE_y = self.UE_positions[:, 1]\n",
        "        ax.plot(UE_x, UE_y, color='black', marker='o', markersize=6, linestyle = '', label = \"UE\")\n",
        "        \n",
        "        for i in range(self.UAV_count):\n",
        "            ax.plot(kwargs['UAV_positions_list'][:, i, 0] , kwargs['UAV_positions_list'][:, i, 1], color=self.UAV_path_color, markersize=6, linestyle = '-') #, label = \"UAV Path Color\")\n",
        "            ax.plot(kwargs['UAV_positions_list'][-1, i, 0], kwargs['UAV_positions_list'][-1, i, 1], color='blue', marker='x', markersize=9, linestyle = '') #, label = \"UAV ending position\")\n",
        "            \n",
        "            UAV_coverage_area = plt.Circle((kwargs['UAV_positions_list'][-1, i, 0], kwargs['UAV_positions_list'][-1, i, 1]), self.C_max_t, color = self.UAV_coverage_circle_color)\n",
        "            ax.add_artist(UAV_coverage_area)\n",
        "      \n",
        "      # For testing: To plot the circle and visualize UE points inside it\n",
        "        if self.UE_center is not None:\n",
        "            for i in range(len(self.UE_center)):\n",
        "                Test_UE_allotment_circle = plt.Circle((self.UE_center[i][0] , self.UE_center[i][1]), self.UE_radius[i], color = self.EC_concentrated_region_color)\n",
        "                ax.add_artist(Test_UE_allotment_circle)\n",
        "      # End\n",
        "\n",
        "        ax.set_aspect(1)\n",
        "        # naming the x axis\n",
        "        ax.set_xlabel('X pos (m)')\n",
        "        # naming the y axis\n",
        "        ax.set_ylabel('Y pos (m)')\n",
        "        ax.set_title('UAV movement through episode')\n",
        "        # giving a title to my graph\n",
        "        # plt.title('Visually Appealing!')\n",
        "\n",
        "        # show a legend on the plot\n",
        "        ax.legend()\n",
        "        # plt.show()\n",
        "        return\n",
        "\n",
        "\n",
        "    def render_policy_plot(self, **kwargs):\n",
        "\n",
        "        fig, ax = plt.subplots(1, figsize=(10,10))\n",
        "        position_action_list = kwargs['position_action_list']\n",
        "        for position_action in position_action_list:\n",
        "            position = position_action[0]\n",
        "            action = position_action[1]\n",
        "            new_state = self.move(action, get_new_state=True)\n",
        "            ax.arrow(position[0], position[1], new_state[0] - position[0], new_state[1] - position[1], head_width=0.09, head_length=0.1)\n",
        "        plt.show()\n",
        "        return\n",
        "\n",
        "\n",
        "    def render_bar_plot(self, ax, plot_number, idx):\n",
        "        '''\n",
        "        Plotting bar graph of each UE's fraction of tasks assigned to UAV and to EC, by the last action input given to step() function\n",
        "        '''\n",
        "        x_indices = np.arange(self.UE_count)\n",
        "        width = 0.5\n",
        "\n",
        "        gamma_array = (np.array(self.last_action[4:])).reshape((self.UE_count, self.EC_count))\n",
        "        gamma_zeros = (1 - gamma_array.sum(axis = 1))\n",
        "        \n",
        "        ax[plot_number, idx].bar(x_indices, gamma_zeros, width=width)\n",
        "        for i in range(self.EC_count):\n",
        "            ax[plot_number, idx].bar(x_indices, gamma_array[:, i], width=width)\n",
        "        \n",
        "    \n",
        "    def render_position_plot(self, **kwargs):\n",
        "        '''\n",
        "        Helper function to render(), plots the current position plot on given axes. \n",
        "        Plotting position plot of UAV's current position and coverage\n",
        "        '''\n",
        "        ax = kwargs['ax']\n",
        "        plot_number = kwargs['i']\n",
        "        idx = 0\n",
        "        reward = kwargs['reward']\n",
        "\n",
        "        buffer = 5.\n",
        "        ax[plot_number, idx].set_xlim(-buffer, self.boundary_x+buffer)\n",
        "        ax[plot_number, idx].set_ylim(-buffer, self.boundary_y+buffer)\n",
        "        ax[plot_number, idx].grid()\n",
        "        UE_x = self.UE_positions[:, 0]\n",
        "        UE_y = self.UE_positions[:, 1]\n",
        "        ax[plot_number, idx].plot(UE_x, UE_y, color='black', marker='o', markersize=6, linestyle = '', label = \"UE\")\n",
        "        \n",
        "        for i in range(self.UAV_count):\n",
        "            ax[plot_number, idx].plot(self.current_state[i][0], self.current_state[i][1], color='blue', marker='x', markersize=9, linestyle = '', label = \"UAV\")\n",
        "            UAV_coverage_area = plt.Circle((self.current_state[i][0] , self.current_state[i][1] ), self.C_max_t, color = self.UAV_coverage_circle_color)\n",
        "            ax[plot_number, idx].add_artist(UAV_coverage_area)\n",
        "      \n",
        "      # For testing: To plot the circle and visualize UE points inside it\n",
        "        if self.UE_center is not None:\n",
        "            for i in range(len(self.UE_center)):\n",
        "                # print(\"self.UE_radius inside render_position_plot: \", self.UE_radius)\n",
        "                Test_UE_allotment_circle = plt.Circle((self.UE_center[i][0] , self.UE_center[i][1]), self.UE_radius[i], color = self.EC_concentrated_region_color)\n",
        "                ax[plot_number, idx].add_artist(Test_UE_allotment_circle)\n",
        "      # End\n",
        "\n",
        "        if 'learnt_policy_visualization' in kwargs:\n",
        "            position_action_list = kwargs['position_action_list']\n",
        "            for position_action in position_action_list:\n",
        "                position = position_action[0]\n",
        "                action = position_action[1]\n",
        "                action = np.clip(action, self.action_space_lb, self.action_space_ub)\n",
        "                action = (((self.action_space_coversion_ub - self.action_space_coversion_lb) * (action + 1)) / 2) + self.action_space_coversion_lb\n",
        "                print(\"scaled action: \", action)\n",
        "                # print(\"action after scaling: \", action)\n",
        "                new_state = self.move(action, get_new_state=True, provided_center=position)\n",
        "                print(\"previous state: \", position, \", new state: \", new_state)\n",
        "                # print(\"new_state: \", new_state)\n",
        "                ax[plot_number, idx].plot(position[0], position[1], color='blue', marker='o', markersize=6, linestyle = '')\n",
        "                ax[plot_number, idx].plot(new_state[0], new_state[1], color='orange', marker='o', markersize=6, linestyle = '')\n",
        "                ax[plot_number, idx].arrow(position[0], position[1], new_state[0] - position[0], new_state[1] - position[1], head_width=0.2, head_length=0.1)\n",
        "\n",
        "\n",
        "        ax[plot_number, idx].set_aspect(1)\n",
        "        # naming the x axis\n",
        "        ax[plot_number, idx].set_xlabel('X pos (m)')\n",
        "        # naming the y axis\n",
        "        ax[plot_number, idx].set_ylabel('Y pos (m)')\n",
        "        ax[plot_number, idx].set_title('reward: ' + str(reward))\n",
        "        # giving a title to my graph\n",
        "        # plt.title('Visually Appealing!')\n",
        "\n",
        "        # show a legend on the plot\n",
        "        ax[plot_number, idx].legend()\n",
        "        # plt.show()"
      ],
      "metadata": {
        "id": "x6KVPUgwXTqh"
      },
      "execution_count": 5,
      "outputs": []
    },
    {
      "cell_type": "code",
      "source": [
        "env = Single_Agent_UAV()\n",
        "env.reset()"
      ],
      "metadata": {
        "colab": {
          "base_uri": "https://localhost:8080/"
        },
        "id": "FMIpSO4OdELG",
        "outputId": "26c356e6-d404-4858-9064-203c69681a83"
      },
      "execution_count": 6,
      "outputs": [
        {
          "output_type": "execute_result",
          "data": {
            "text/plain": [
              "array([[ 96.62196589, 133.90105991],\n",
              "       [ 36.73639288, 115.4462152 ],\n",
              "       [135.34811373,  36.77782713]])"
            ]
          },
          "metadata": {},
          "execution_count": 6
        }
      ]
    },
    {
      "cell_type": "code",
      "execution_count": 7,
      "metadata": {
        "colab": {
          "base_uri": "https://localhost:8080/",
          "height": 586
        },
        "id": "ByDx6-aJZw4q",
        "outputId": "df0420b1-b0bd-46d3-d3c9-d8e82cbf7fce"
      },
      "outputs": [
        {
          "output_type": "display_data",
          "data": {
            "text/plain": [
              "<Figure size 1440x720 with 2 Axes>"
            ],
            "image/png": "[encoded data removed]"
          },
          "metadata": {
            "needs_background": "light"
          }
        }
      ],
      "source": [
        "env.render()"
      ]
    },
    {
      "cell_type": "code",
      "source": [
        "env.get_count_of_UEs_covered()"
      ],
      "metadata": {
        "colab": {
          "base_uri": "https://localhost:8080/"
        },
        "id": "KFoPtW80L4bA",
        "outputId": "f012c709-8032-4524-8dd3-e6c3a9f07bfb"
      },
      "execution_count": 8,
      "outputs": [
        {
          "output_type": "execute_result",
          "data": {
            "text/plain": [
              "13"
            ]
          },
          "metadata": {},
          "execution_count": 8
        }
      ]
    },
    {
      "cell_type": "code",
      "execution_count": 9,
      "metadata": {
        "colab": {
          "base_uri": "https://localhost:8080/"
        },
        "id": "oniXtKH9Zw4r",
        "outputId": "8ebc56ff-5b51-439c-8397-9ae86aa48717"
      },
      "outputs": [
        {
          "output_type": "stream",
          "name": "stdout",
          "text": [
            "Single Agent UAV env: State dimension: 2, Number of actions: 9\n"
          ]
        }
      ],
      "source": [
        "state_dims = env.state_space[0].shape[0]\n",
        "num_actions = env.action_space[0].n\n",
        "print(f\"Single Agent UAV env: State dimension: {state_dims}, Number of actions: {num_actions}\")"
      ]
    },
    {
      "cell_type": "markdown",
      "metadata": {
        "id": "SUX9NnTRZw4s"
      },
      "source": [
        "### Prepare the environment to work with PyTorch"
      ]
    },
    {
      "cell_type": "code",
      "execution_count": 10,
      "metadata": {
        "colab": {
          "base_uri": "https://localhost:8080/"
        },
        "id": "uG8d3beMZw4s",
        "outputId": "e13ef385-5081-464c-bfaa-935166cb5df2"
      },
      "outputs": [
        {
          "output_type": "stream",
          "name": "stdout",
          "text": [
            "Sample state: [[ 97.77570313 121.66156827]\n",
            " [ 65.33580664  78.39778197]\n",
            " [  6.88239605 124.9472217 ]]\n",
            "Next state: [[102.01834106 125.90420532]\n",
            " [ 69.57844543  82.64041901]\n",
            " [ 11.12503719 129.18986511]], Reward: -10000, Done: False\n"
          ]
        }
      ],
      "source": [
        "state = env.reset()\n",
        "action = [2 for i in range(env.UAV_count)] \n",
        "print(f\"Sample state: {state}\")\n",
        "next_state, reward, done, _ = env.step(action)\n",
        "print(f\"Next state: {next_state}, Reward: {reward}, Done: {done}\")"
      ]
    },
    {
      "cell_type": "code",
      "execution_count": 11,
      "metadata": {
        "colab": {
          "base_uri": "https://localhost:8080/"
        },
        "id": "khs7jcRIZw4s",
        "outputId": "40e97677-283f-420f-a577-5ed99483b20e"
      },
      "outputs": [
        {
          "output_type": "stream",
          "name": "stdout",
          "text": [
            "<class 'numpy.ndarray'>\n"
          ]
        }
      ],
      "source": [
        "action_vector = np.array([torch.tensor(0) for _ in range(env.UAV_count)])\n",
        "action_vector = np.array([action_vector[i].item() for i in range(env.UAV_count)])\n",
        "print(type(action_vector))"
      ]
    },
    {
      "cell_type": "code",
      "execution_count": 12,
      "metadata": {
        "id": "GMoMHQh_Zw4s"
      },
      "outputs": [],
      "source": [
        "class PreprocessEnv(gym.Wrapper):\n",
        "    \n",
        "    def __init__(self, env):\n",
        "        gym.Wrapper.__init__(self, env)\n",
        "    \n",
        "    def reset(self):\n",
        "        obs = self.env.reset()\n",
        "        # print(\"obs: \", obs)\n",
        "        return torch.from_numpy(obs).unsqueeze(dim=0).float()\n",
        "    \n",
        "    def step(self, action):\n",
        "        # print(\"type of action inside wrapper: \", type(action))\n",
        "        # action = action.item()\n",
        "        next_state, reward, done, info = self.env.step(action)\n",
        "        # print(next_state, reward, done)\n",
        "        next_state = torch.from_numpy(next_state).unsqueeze(dim=0).float()\n",
        "        reward = torch.tensor(reward).view(1, -1).float()\n",
        "        done = torch.tensor(done).view(1, -1)\n",
        "        return next_state, reward, done, info"
      ]
    },
    {
      "cell_type": "code",
      "execution_count": 13,
      "metadata": {
        "id": "s01dFrxxZw4t"
      },
      "outputs": [],
      "source": [
        "env = PreprocessEnv(env)"
      ]
    },
    {
      "cell_type": "code",
      "execution_count": 14,
      "metadata": {
        "colab": {
          "base_uri": "https://localhost:8080/"
        },
        "id": "-hzDyxHAZw4t",
        "outputId": "0be48282-78fd-4e5c-8048-24e79e566626"
      },
      "outputs": [
        {
          "output_type": "stream",
          "name": "stdout",
          "text": [
            "Sample state: tensor([[ 64.2932,  61.3876],\n",
            "        [ 58.0894,  74.7602],\n",
            "        [142.2354, 145.1915]])\n",
            "Next state: tensor([[ 58.2932,  61.3876],\n",
            "        [ 52.0894,  74.7602],\n",
            "        [136.2354, 145.1915]]), Reward: tensor([[-10000.]]), Done: tensor([[False]])\n"
          ]
        }
      ],
      "source": [
        "state = env.reset()\n",
        "action_vector = np.array([torch.tensor(5) for _ in range(env.UAV_count)])\n",
        "print(f\"Sample state: {state[0]}\")\n",
        "next_state, reward, done, _ = env.step(action_vector)\n",
        "print(f\"Next state: {next_state[0]}, Reward: {reward}, Done: {done}\")"
      ]
    },
    {
      "cell_type": "markdown",
      "metadata": {
        "id": "9JK70lRCZw4t"
      },
      "source": [
        "## Create the Q-Network and policy\n",
        "\n",
        "<br><br>"
      ]
    },
    {
      "cell_type": "markdown",
      "metadata": {
        "id": "uLGNWBoxZw4t"
      },
      "source": [
        "### Create the Q-Network: $\\hat q(s,a| \\theta)$"
      ]
    },
    {
      "cell_type": "code",
      "execution_count": 15,
      "metadata": {
        "id": "n0dKR_w8Zw4u"
      },
      "outputs": [],
      "source": [
        "q_networks = [nn.Sequential(\n",
        "    nn.Linear(state_dims, 64),\n",
        "    nn.ReLU(),\n",
        "    nn.Linear(64,64),\n",
        "    nn.ReLU(),\n",
        "    nn.Linear(64,64),\n",
        "    nn.ReLU(),\n",
        "    nn.Linear(64,64),\n",
        "    nn.ReLU(),\n",
        "    nn.Linear(64, num_actions)   \n",
        ") for i in range(env.UAV_count)]"
      ]
    },
    {
      "cell_type": "markdown",
      "metadata": {
        "id": "AHKnQ3VdZw4u"
      },
      "source": [
        "### Create the target Q-Network: $\\hat q(s, a|\\theta_{targ})$"
      ]
    },
    {
      "cell_type": "code",
      "execution_count": 16,
      "metadata": {
        "id": "LYr5lGR6Zw4u"
      },
      "outputs": [],
      "source": [
        "target_q_networks = [copy.deepcopy(q_networks[i]).eval() for i in range(env.UAV_count)]"
      ]
    },
    {
      "cell_type": "markdown",
      "metadata": {
        "id": "y42KnEx-Zw4u"
      },
      "source": [
        "### Create the exploratory policy: $b(s)$"
      ]
    },
    {
      "cell_type": "code",
      "execution_count": 17,
      "metadata": {
        "id": "aGzS66hvZw4u"
      },
      "outputs": [],
      "source": [
        "def policy(state, epsilon=0., UAV_index=0):\n",
        "    if torch.rand(1) < epsilon:\n",
        "        return torch.randint(num_actions, (1, 1))\n",
        "    else:\n",
        "        av = q_networks[UAV_index](state).detach()\n",
        "        return torch.argmax(av, dim=-1, keepdim=True)"
      ]
    },
    {
      "cell_type": "markdown",
      "metadata": {
        "id": "PklMoP-_Zw4u"
      },
      "source": [
        "## Create the Experience Replay buffer"
      ]
    },
    {
      "cell_type": "code",
      "execution_count": 18,
      "metadata": {
        "id": "7WYHyi3PZw4v"
      },
      "outputs": [],
      "source": [
        "class ReplayMemory:\n",
        "    \n",
        "    def __init__(self, capacity=100000):\n",
        "        self.capacity = capacity\n",
        "        self.memory = []\n",
        "        self.position = 0\n",
        "\n",
        "    def insert(self, transition):\n",
        "        if len(self.memory) < self.capacity:\n",
        "            self.memory.append(None)\n",
        "        self.memory[self.position] = transition\n",
        "        self.position = (self.position + 1) % self.capacity\n",
        "\n",
        "    def sample(self, batch_size):\n",
        "        assert self.can_sample(batch_size)\n",
        "\n",
        "        batch = random.sample(self.memory, batch_size)\n",
        "        batch = zip(*batch)\n",
        "        # print(\"printing batch inside sample() function: \", batch)\n",
        "        return_ls = []\n",
        "        for items in batch:\n",
        "            # print(\"printing items: \", items)\n",
        "            # print(\"printing concatenation: \", torch.cat(items))\n",
        "            return_ls.append(torch.cat(items))\n",
        "        # print(\"printing given concat operation: \", [torch.cat(items) for items in batch])\n",
        "        # return [torch.cat(items) for items in batch]\n",
        "        return return_ls\n",
        "\n",
        "    def can_sample(self, batch_size):\n",
        "        return len(self.memory) >= batch_size * 10\n",
        "\n",
        "    def __len__(self):\n",
        "        return len(self.memory)"
      ]
    },
    {
      "cell_type": "markdown",
      "metadata": {
        "scrolled": false,
        "id": "Cw2mANDZZw4v"
      },
      "source": [
        "## Implement the algorithm\n",
        "\n",
        "</br></br>"
      ]
    },
    {
      "cell_type": "code",
      "execution_count": 19,
      "metadata": {
        "id": "a8O_k4lDZw4v"
      },
      "outputs": [],
      "source": [
        "def deep_q_learning(q_networks, policy, episodes, alpha = 0.001,\n",
        "                    batch_size = 32, gamma = 0.99, epsilon = 0.2):\n",
        "    optims = [AdamW(q_networks[i].parameters(), lr= alpha) for i in range(env.UAV_count)]\n",
        "    memory = ReplayMemory()\n",
        "    stats= {'MSE Loss': [], 'Average_Returns': []}\n",
        "    \n",
        "    for episode in tqdm(range(1, episodes+1)):\n",
        "        state = env.reset()\n",
        "        # print(\"state after reset: \", state)\n",
        "        # print(\"printing state type inside deep_q_learning() function: \", state)\n",
        "        done = False\n",
        "        ep_return = 0.\n",
        "        print(\"-----------------------------episode \", episode, \"-----------------------------\")\n",
        "        while not done:\n",
        "            np_state = torch.flatten(state, end_dim=-2).numpy()\n",
        "            # print(\"test print here: \", torch.flatten(state, end_dim=-2)[0])\n",
        "            # print(\"policy output of 0th network: \", policy(torch.flatten(state, end_dim=-2)[0], epsilon, 0))\n",
        "            action = torch.tensor([[[policy(torch.flatten(state, end_dim=-2)[i], epsilon, i)] for i in range(env.UAV_count)]])\n",
        "            np_action = [act.item() for act in action[0]]\n",
        "            # print(\"current state: \", state)\n",
        "            # print(\"current action being taken: \", action)\n",
        "            # print(\"numpy version of the action: \", np_action)\n",
        "            # print(\"extra printing: \", action[0][0])\n",
        "            # print(\"action inside deep_q_learning(): \", action)\n",
        "            next_state, reward, done, _ = env.step(np_action)\n",
        "            # print(\"UEs covered: \", env.get_count_of_UEs_covered())\n",
        "            # print(\"next state: \", next_state)\n",
        "            memory.insert([state, action, reward, done, next_state])\n",
        "            \n",
        "            if memory.can_sample(batch_size):\n",
        "                state_b, action_b, reward_b, done_b, next_state_b = memory.sample(batch_size)\n",
        "                # action_b = torch.flatten(action_b, end_dim = -2)\n",
        "                # print(\"UAV action tensor: \", action_b)\n",
        "                # print(\"state sample 0th UAV: \", state_b[:, 0, :])\n",
        "                # print(\"action sample 0th UAV: \", action_b[:, 0, :])\n",
        "                # print(\"Entering gradient descent:-\\n state: \", state_b[:, 0, :], \"action: \", action_b[:, 0, :])\n",
        "                loss_sum = 0\n",
        "                for i in range(env.UAV_count):\n",
        "                    # qsa_input_action = \n",
        "                    qsa_b = q_networks[i](state_b[:, i, :]).gather(1, action_b[:, i, :])\n",
        "                    \n",
        "                    next_qsa_b = target_q_networks[i](next_state_b[:, i, :])\n",
        "                    next_qsa_b = torch.max(next_qsa_b, dim =-1, keepdim=True)[0]\n",
        "                    \n",
        "                    # print(\"printing inverse of done values: \", ~done_b)\n",
        "                    target_b = reward_b + (~done_b) * gamma * next_qsa_b\n",
        "                    # print(\"printing target: \", target_b)\n",
        "                    # print(\"reward[0]: \", reward_b[1], \"done: \", done_b[1], \"gamma: \", gamma, \"next_qsa_b: \", next_qsa_b[1])\n",
        "                    loss = F.mse_loss(qsa_b, target_b)\n",
        "                    q_networks[i].zero_grad()\n",
        "                    loss.backward()\n",
        "                    optims[i].step()\n",
        "                    loss_sum += loss\n",
        "                stats['MSE Loss'].append(loss_sum)\n",
        "            \n",
        "            state = next_state\n",
        "            ep_return +=reward.item()\n",
        "        \n",
        "        print(\"no. of UEs covered (Reward): \", reward.item())\n",
        "        stats['Average_Returns'].append(float(ep_return) / env.timesteps_in_episode)\n",
        "    \n",
        "        if episode % 10 ==0:\n",
        "            for i in range(env.UAV_count):\n",
        "                target_q_networks[i].load_state_dict(q_networks[i].state_dict())\n",
        "    return stats"
      ]
    },
    {
      "cell_type": "code",
      "execution_count": 25,
      "metadata": {
        "scrolled": true,
        "colab": {
          "base_uri": "https://localhost:8080/",
          "height": 1000
        },
        "id": "XSmC6msxZw4v",
        "outputId": "d8238d27-6b4b-4f65-a231-651ca1125fb6"
      },
      "outputs": [
        {
          "output_type": "stream",
          "name": "stderr",
          "text": [
            "  0%|          | 1/900 [00:00<02:24,  6.21it/s]"
          ]
        },
        {
          "output_type": "stream",
          "name": "stdout",
          "text": [
            "-----------------------------episode  1 -----------------------------\n",
            "no. of UEs covered (Reward):  280.0\n",
            "-----------------------------episode  2 -----------------------------\n"
          ]
        },
        {
          "output_type": "stream",
          "name": "stderr",
          "text": [
            "  0%|          | 3/900 [00:00<02:02,  7.31it/s]"
          ]
        },
        {
          "output_type": "stream",
          "name": "stdout",
          "text": [
            "no. of UEs covered (Reward):  90.0\n",
            "-----------------------------episode  3 -----------------------------\n",
            "no. of UEs covered (Reward):  50.0\n",
            "-----------------------------episode  4 -----------------------------\n"
          ]
        },
        {
          "output_type": "stream",
          "name": "stderr",
          "text": [
            "  1%|          | 6/900 [00:00<01:49,  8.15it/s]"
          ]
        },
        {
          "output_type": "stream",
          "name": "stdout",
          "text": [
            "no. of UEs covered (Reward):  350.0\n",
            "-----------------------------episode  5 -----------------------------\n",
            "no. of UEs covered (Reward):  270.0\n",
            "-----------------------------episode  6 -----------------------------\n",
            "no. of UEs covered (Reward):  10.0\n",
            "-----------------------------episode  7 -----------------------------\n"
          ]
        },
        {
          "output_type": "stream",
          "name": "stderr",
          "text": [
            "\r  1%|          | 7/900 [00:01<03:39,  4.07it/s]"
          ]
        },
        {
          "output_type": "stream",
          "name": "stdout",
          "text": [
            "no. of UEs covered (Reward):  10.0\n",
            "-----------------------------episode  8 -----------------------------\n"
          ]
        },
        {
          "output_type": "stream",
          "name": "stderr",
          "text": [
            "\r  1%|          | 8/900 [00:02<06:43,  2.21it/s]"
          ]
        },
        {
          "output_type": "stream",
          "name": "stdout",
          "text": [
            "no. of UEs covered (Reward):  340.0\n",
            "-----------------------------episode  9 -----------------------------\n"
          ]
        },
        {
          "output_type": "stream",
          "name": "stderr",
          "text": [
            "\r  1%|          | 9/900 [00:03<08:18,  1.79it/s]"
          ]
        },
        {
          "output_type": "stream",
          "name": "stdout",
          "text": [
            "no. of UEs covered (Reward):  20.0\n",
            "-----------------------------episode  10 -----------------------------\n"
          ]
        },
        {
          "output_type": "stream",
          "name": "stderr",
          "text": [
            "\r  1%|          | 10/900 [00:03<08:51,  1.67it/s]"
          ]
        },
        {
          "output_type": "stream",
          "name": "stdout",
          "text": [
            "no. of UEs covered (Reward):  110.0\n",
            "-----------------------------episode  11 -----------------------------\n"
          ]
        },
        {
          "output_type": "stream",
          "name": "stderr",
          "text": [
            "\r  1%|          | 11/900 [00:04<07:56,  1.86it/s]"
          ]
        },
        {
          "output_type": "stream",
          "name": "stdout",
          "text": [
            "no. of UEs covered (Reward):  280.0\n",
            "-----------------------------episode  12 -----------------------------\n"
          ]
        },
        {
          "output_type": "stream",
          "name": "stderr",
          "text": [
            "\r  1%|▏         | 12/900 [00:04<07:47,  1.90it/s]"
          ]
        },
        {
          "output_type": "stream",
          "name": "stdout",
          "text": [
            "no. of UEs covered (Reward):  320.0\n",
            "-----------------------------episode  13 -----------------------------\n"
          ]
        },
        {
          "output_type": "stream",
          "name": "stderr",
          "text": [
            "\r  1%|▏         | 13/900 [00:05<07:58,  1.85it/s]"
          ]
        },
        {
          "output_type": "stream",
          "name": "stdout",
          "text": [
            "no. of UEs covered (Reward):  60.0\n",
            "-----------------------------episode  14 -----------------------------\n"
          ]
        },
        {
          "output_type": "stream",
          "name": "stderr",
          "text": [
            "\r  2%|▏         | 14/900 [00:05<08:10,  1.81it/s]"
          ]
        },
        {
          "output_type": "stream",
          "name": "stdout",
          "text": [
            "no. of UEs covered (Reward):  300.0\n",
            "-----------------------------episode  15 -----------------------------\n"
          ]
        },
        {
          "output_type": "stream",
          "name": "stderr",
          "text": [
            "\r  2%|▏         | 15/900 [00:06<08:16,  1.78it/s]"
          ]
        },
        {
          "output_type": "stream",
          "name": "stdout",
          "text": [
            "no. of UEs covered (Reward):  30.0\n",
            "-----------------------------episode  16 -----------------------------\n"
          ]
        },
        {
          "output_type": "stream",
          "name": "stderr",
          "text": [
            "\r  2%|▏         | 16/900 [00:07<08:22,  1.76it/s]"
          ]
        },
        {
          "output_type": "stream",
          "name": "stdout",
          "text": [
            "no. of UEs covered (Reward):  270.0\n",
            "-----------------------------episode  17 -----------------------------\n"
          ]
        },
        {
          "output_type": "stream",
          "name": "stderr",
          "text": [
            "\r  2%|▏         | 17/900 [00:07<08:05,  1.82it/s]"
          ]
        },
        {
          "output_type": "stream",
          "name": "stdout",
          "text": [
            "no. of UEs covered (Reward):  510.0\n",
            "-----------------------------episode  18 -----------------------------\n"
          ]
        },
        {
          "output_type": "stream",
          "name": "stderr",
          "text": [
            "\r  2%|▏         | 18/900 [00:07<07:26,  1.98it/s]"
          ]
        },
        {
          "output_type": "stream",
          "name": "stdout",
          "text": [
            "no. of UEs covered (Reward):  40.0\n",
            "-----------------------------episode  19 -----------------------------\n"
          ]
        },
        {
          "output_type": "stream",
          "name": "stderr",
          "text": [
            "\r  2%|▏         | 19/900 [00:08<06:52,  2.14it/s]"
          ]
        },
        {
          "output_type": "stream",
          "name": "stdout",
          "text": [
            "no. of UEs covered (Reward):  10.0\n",
            "-----------------------------episode  20 -----------------------------\n"
          ]
        },
        {
          "output_type": "stream",
          "name": "stderr",
          "text": [
            "\r  2%|▏         | 20/900 [00:08<06:27,  2.27it/s]"
          ]
        },
        {
          "output_type": "stream",
          "name": "stdout",
          "text": [
            "no. of UEs covered (Reward):  40.0\n",
            "-----------------------------episode  21 -----------------------------\n"
          ]
        },
        {
          "output_type": "stream",
          "name": "stderr",
          "text": [
            "\r  2%|▏         | 21/900 [00:09<06:17,  2.33it/s]"
          ]
        },
        {
          "output_type": "stream",
          "name": "stdout",
          "text": [
            "no. of UEs covered (Reward):  440.0\n",
            "-----------------------------episode  22 -----------------------------\n"
          ]
        },
        {
          "output_type": "stream",
          "name": "stderr",
          "text": [
            "\r  2%|▏         | 22/900 [00:09<06:06,  2.39it/s]"
          ]
        },
        {
          "output_type": "stream",
          "name": "stdout",
          "text": [
            "no. of UEs covered (Reward):  300.0\n",
            "-----------------------------episode  23 -----------------------------\n"
          ]
        },
        {
          "output_type": "stream",
          "name": "stderr",
          "text": [
            "\r  3%|▎         | 23/900 [00:09<06:00,  2.43it/s]"
          ]
        },
        {
          "output_type": "stream",
          "name": "stdout",
          "text": [
            "no. of UEs covered (Reward):  290.0\n",
            "-----------------------------episode  24 -----------------------------\n"
          ]
        },
        {
          "output_type": "stream",
          "name": "stderr",
          "text": [
            "\r  3%|▎         | 24/900 [00:10<05:51,  2.49it/s]"
          ]
        },
        {
          "output_type": "stream",
          "name": "stdout",
          "text": [
            "no. of UEs covered (Reward):  80.0\n",
            "-----------------------------episode  25 -----------------------------\n"
          ]
        },
        {
          "output_type": "stream",
          "name": "stderr",
          "text": [
            "\r  3%|▎         | 25/900 [00:10<05:54,  2.47it/s]"
          ]
        },
        {
          "output_type": "stream",
          "name": "stdout",
          "text": [
            "no. of UEs covered (Reward):  410.0\n",
            "-----------------------------episode  26 -----------------------------\n"
          ]
        },
        {
          "output_type": "stream",
          "name": "stderr",
          "text": [
            "\r  3%|▎         | 26/900 [00:11<05:55,  2.46it/s]"
          ]
        },
        {
          "output_type": "stream",
          "name": "stdout",
          "text": [
            "no. of UEs covered (Reward):  10.0\n",
            "-----------------------------episode  27 -----------------------------\n"
          ]
        },
        {
          "output_type": "stream",
          "name": "stderr",
          "text": [
            "\r  3%|▎         | 27/900 [00:11<05:50,  2.49it/s]"
          ]
        },
        {
          "output_type": "stream",
          "name": "stdout",
          "text": [
            "no. of UEs covered (Reward):  150.0\n",
            "-----------------------------episode  28 -----------------------------\n"
          ]
        },
        {
          "output_type": "stream",
          "name": "stderr",
          "text": [
            "\r  3%|▎         | 28/900 [00:11<05:48,  2.50it/s]"
          ]
        },
        {
          "output_type": "stream",
          "name": "stdout",
          "text": [
            "no. of UEs covered (Reward):  280.0\n",
            "-----------------------------episode  29 -----------------------------\n"
          ]
        },
        {
          "output_type": "stream",
          "name": "stderr",
          "text": [
            "\r  3%|▎         | 29/900 [00:12<05:40,  2.55it/s]"
          ]
        },
        {
          "output_type": "stream",
          "name": "stdout",
          "text": [
            "no. of UEs covered (Reward):  370.0\n",
            "-----------------------------episode  30 -----------------------------\n"
          ]
        },
        {
          "output_type": "stream",
          "name": "stderr",
          "text": [
            "\r  3%|▎         | 30/900 [00:12<05:47,  2.50it/s]"
          ]
        },
        {
          "output_type": "stream",
          "name": "stdout",
          "text": [
            "no. of UEs covered (Reward):  380.0\n",
            "-----------------------------episode  31 -----------------------------\n"
          ]
        },
        {
          "output_type": "stream",
          "name": "stderr",
          "text": [
            "\r  3%|▎         | 31/900 [00:13<05:47,  2.50it/s]"
          ]
        },
        {
          "output_type": "stream",
          "name": "stdout",
          "text": [
            "no. of UEs covered (Reward):  30.0\n",
            "-----------------------------episode  32 -----------------------------\n"
          ]
        },
        {
          "output_type": "stream",
          "name": "stderr",
          "text": [
            "\r  4%|▎         | 32/900 [00:13<05:41,  2.54it/s]"
          ]
        },
        {
          "output_type": "stream",
          "name": "stdout",
          "text": [
            "no. of UEs covered (Reward):  750.0\n",
            "-----------------------------episode  33 -----------------------------\n"
          ]
        },
        {
          "output_type": "stream",
          "name": "stderr",
          "text": [
            "\r  4%|▎         | 33/900 [00:13<05:37,  2.57it/s]"
          ]
        },
        {
          "output_type": "stream",
          "name": "stdout",
          "text": [
            "no. of UEs covered (Reward):  640.0\n",
            "-----------------------------episode  34 -----------------------------\n"
          ]
        },
        {
          "output_type": "stream",
          "name": "stderr",
          "text": [
            "\r  4%|▍         | 34/900 [00:14<05:38,  2.56it/s]"
          ]
        },
        {
          "output_type": "stream",
          "name": "stdout",
          "text": [
            "no. of UEs covered (Reward):  280.0\n",
            "-----------------------------episode  35 -----------------------------\n"
          ]
        },
        {
          "output_type": "stream",
          "name": "stderr",
          "text": [
            "\r  4%|▍         | 35/900 [00:14<05:37,  2.56it/s]"
          ]
        },
        {
          "output_type": "stream",
          "name": "stdout",
          "text": [
            "no. of UEs covered (Reward):  90.0\n",
            "-----------------------------episode  36 -----------------------------\n"
          ]
        },
        {
          "output_type": "stream",
          "name": "stderr",
          "text": [
            "\r  4%|▍         | 36/900 [00:15<05:41,  2.53it/s]"
          ]
        },
        {
          "output_type": "stream",
          "name": "stdout",
          "text": [
            "no. of UEs covered (Reward):  40.0\n",
            "-----------------------------episode  37 -----------------------------\n"
          ]
        },
        {
          "output_type": "stream",
          "name": "stderr",
          "text": [
            "\r  4%|▍         | 37/900 [00:15<05:35,  2.57it/s]"
          ]
        },
        {
          "output_type": "stream",
          "name": "stdout",
          "text": [
            "no. of UEs covered (Reward):  400.0\n",
            "-----------------------------episode  38 -----------------------------\n"
          ]
        },
        {
          "output_type": "stream",
          "name": "stderr",
          "text": [
            "\r  4%|▍         | 38/900 [00:15<05:29,  2.62it/s]"
          ]
        },
        {
          "output_type": "stream",
          "name": "stdout",
          "text": [
            "no. of UEs covered (Reward):  250.0\n",
            "-----------------------------episode  39 -----------------------------\n"
          ]
        },
        {
          "output_type": "stream",
          "name": "stderr",
          "text": [
            "\r  4%|▍         | 39/900 [00:16<05:34,  2.57it/s]"
          ]
        },
        {
          "output_type": "stream",
          "name": "stdout",
          "text": [
            "no. of UEs covered (Reward):  320.0\n",
            "-----------------------------episode  40 -----------------------------\n"
          ]
        },
        {
          "output_type": "stream",
          "name": "stderr",
          "text": [
            "\r  4%|▍         | 40/900 [00:16<05:30,  2.60it/s]"
          ]
        },
        {
          "output_type": "stream",
          "name": "stdout",
          "text": [
            "no. of UEs covered (Reward):  240.0\n",
            "-----------------------------episode  41 -----------------------------\n"
          ]
        },
        {
          "output_type": "stream",
          "name": "stderr",
          "text": [
            "\r  5%|▍         | 41/900 [00:16<05:26,  2.63it/s]"
          ]
        },
        {
          "output_type": "stream",
          "name": "stdout",
          "text": [
            "no. of UEs covered (Reward):  270.0\n",
            "-----------------------------episode  42 -----------------------------\n"
          ]
        },
        {
          "output_type": "stream",
          "name": "stderr",
          "text": [
            "\r  5%|▍         | 42/900 [00:17<05:25,  2.63it/s]"
          ]
        },
        {
          "output_type": "stream",
          "name": "stdout",
          "text": [
            "no. of UEs covered (Reward):  310.0\n",
            "-----------------------------episode  43 -----------------------------\n"
          ]
        },
        {
          "output_type": "stream",
          "name": "stderr",
          "text": [
            "\r  5%|▍         | 43/900 [00:17<06:06,  2.34it/s]"
          ]
        },
        {
          "output_type": "stream",
          "name": "stdout",
          "text": [
            "no. of UEs covered (Reward):  500.0\n",
            "-----------------------------episode  44 -----------------------------\n"
          ]
        },
        {
          "output_type": "stream",
          "name": "stderr",
          "text": [
            "\r  5%|▍         | 44/900 [00:18<06:44,  2.12it/s]"
          ]
        },
        {
          "output_type": "stream",
          "name": "stdout",
          "text": [
            "no. of UEs covered (Reward):  250.0\n",
            "-----------------------------episode  45 -----------------------------\n"
          ]
        },
        {
          "output_type": "stream",
          "name": "stderr",
          "text": [
            "\r  5%|▌         | 45/900 [00:19<07:20,  1.94it/s]"
          ]
        },
        {
          "output_type": "stream",
          "name": "stdout",
          "text": [
            "no. of UEs covered (Reward):  100.0\n",
            "-----------------------------episode  46 -----------------------------\n"
          ]
        },
        {
          "output_type": "stream",
          "name": "stderr",
          "text": [
            "\r  5%|▌         | 46/900 [00:19<07:43,  1.84it/s]"
          ]
        },
        {
          "output_type": "stream",
          "name": "stdout",
          "text": [
            "no. of UEs covered (Reward):  310.0\n",
            "-----------------------------episode  47 -----------------------------\n"
          ]
        },
        {
          "output_type": "stream",
          "name": "stderr",
          "text": [
            "\r  5%|▌         | 47/900 [00:20<08:01,  1.77it/s]"
          ]
        },
        {
          "output_type": "stream",
          "name": "stdout",
          "text": [
            "no. of UEs covered (Reward):  10.0\n",
            "-----------------------------episode  48 -----------------------------\n"
          ]
        },
        {
          "output_type": "stream",
          "name": "stderr",
          "text": [
            "\r  5%|▌         | 48/900 [00:20<07:22,  1.92it/s]"
          ]
        },
        {
          "output_type": "stream",
          "name": "stdout",
          "text": [
            "no. of UEs covered (Reward):  300.0\n",
            "-----------------------------episode  49 -----------------------------\n"
          ]
        },
        {
          "output_type": "stream",
          "name": "stderr",
          "text": [
            "\r  5%|▌         | 49/900 [00:21<06:53,  2.06it/s]"
          ]
        },
        {
          "output_type": "stream",
          "name": "stdout",
          "text": [
            "no. of UEs covered (Reward):  270.0\n",
            "-----------------------------episode  50 -----------------------------\n"
          ]
        },
        {
          "output_type": "stream",
          "name": "stderr",
          "text": [
            "\r  6%|▌         | 50/900 [00:21<06:34,  2.15it/s]"
          ]
        },
        {
          "output_type": "stream",
          "name": "stdout",
          "text": [
            "no. of UEs covered (Reward):  40.0\n",
            "-----------------------------episode  51 -----------------------------\n"
          ]
        },
        {
          "output_type": "stream",
          "name": "stderr",
          "text": [
            "\r  6%|▌         | 51/900 [00:21<06:20,  2.23it/s]"
          ]
        },
        {
          "output_type": "stream",
          "name": "stdout",
          "text": [
            "no. of UEs covered (Reward):  260.0\n",
            "-----------------------------episode  52 -----------------------------\n"
          ]
        },
        {
          "output_type": "stream",
          "name": "stderr",
          "text": [
            "\r  6%|▌         | 52/900 [00:22<06:14,  2.27it/s]"
          ]
        },
        {
          "output_type": "stream",
          "name": "stdout",
          "text": [
            "no. of UEs covered (Reward):  280.0\n",
            "-----------------------------episode  53 -----------------------------\n"
          ]
        },
        {
          "output_type": "stream",
          "name": "stderr",
          "text": [
            "\r  6%|▌         | 53/900 [00:22<06:04,  2.32it/s]"
          ]
        },
        {
          "output_type": "stream",
          "name": "stdout",
          "text": [
            "no. of UEs covered (Reward):  40.0\n",
            "-----------------------------episode  54 -----------------------------\n"
          ]
        },
        {
          "output_type": "stream",
          "name": "stderr",
          "text": [
            "\r  6%|▌         | 54/900 [00:23<05:57,  2.36it/s]"
          ]
        },
        {
          "output_type": "stream",
          "name": "stdout",
          "text": [
            "no. of UEs covered (Reward):  60.0\n",
            "-----------------------------episode  55 -----------------------------\n"
          ]
        },
        {
          "output_type": "stream",
          "name": "stderr",
          "text": [
            "\r  6%|▌         | 55/900 [00:23<05:50,  2.41it/s]"
          ]
        },
        {
          "output_type": "stream",
          "name": "stdout",
          "text": [
            "no. of UEs covered (Reward):  500.0\n",
            "-----------------------------episode  56 -----------------------------\n"
          ]
        },
        {
          "output_type": "stream",
          "name": "stderr",
          "text": [
            "\r  6%|▌         | 56/900 [00:23<05:46,  2.44it/s]"
          ]
        },
        {
          "output_type": "stream",
          "name": "stdout",
          "text": [
            "no. of UEs covered (Reward):  100.0\n",
            "-----------------------------episode  57 -----------------------------\n"
          ]
        },
        {
          "output_type": "stream",
          "name": "stderr",
          "text": [
            "\r  6%|▋         | 57/900 [00:24<05:44,  2.45it/s]"
          ]
        },
        {
          "output_type": "stream",
          "name": "stdout",
          "text": [
            "no. of UEs covered (Reward):  90.0\n",
            "-----------------------------episode  58 -----------------------------\n"
          ]
        },
        {
          "output_type": "stream",
          "name": "stderr",
          "text": [
            "\r  6%|▋         | 58/900 [00:24<05:36,  2.50it/s]"
          ]
        },
        {
          "output_type": "stream",
          "name": "stdout",
          "text": [
            "no. of UEs covered (Reward):  30.0\n",
            "-----------------------------episode  59 -----------------------------\n"
          ]
        },
        {
          "output_type": "stream",
          "name": "stderr",
          "text": [
            "\r  7%|▋         | 59/900 [00:25<05:33,  2.52it/s]"
          ]
        },
        {
          "output_type": "stream",
          "name": "stdout",
          "text": [
            "no. of UEs covered (Reward):  250.0\n",
            "-----------------------------episode  60 -----------------------------\n"
          ]
        },
        {
          "output_type": "stream",
          "name": "stderr",
          "text": [
            "\r  7%|▋         | 60/900 [00:25<05:41,  2.46it/s]"
          ]
        },
        {
          "output_type": "stream",
          "name": "stdout",
          "text": [
            "no. of UEs covered (Reward):  80.0\n",
            "-----------------------------episode  61 -----------------------------\n"
          ]
        },
        {
          "output_type": "stream",
          "name": "stderr",
          "text": [
            "\r  7%|▋         | 61/900 [00:25<05:34,  2.51it/s]"
          ]
        },
        {
          "output_type": "stream",
          "name": "stdout",
          "text": [
            "no. of UEs covered (Reward):  190.0\n",
            "-----------------------------episode  62 -----------------------------\n"
          ]
        },
        {
          "output_type": "stream",
          "name": "stderr",
          "text": [
            "\r  7%|▋         | 62/900 [00:26<05:33,  2.51it/s]"
          ]
        },
        {
          "output_type": "stream",
          "name": "stdout",
          "text": [
            "no. of UEs covered (Reward):  40.0\n",
            "-----------------------------episode  63 -----------------------------\n"
          ]
        },
        {
          "output_type": "stream",
          "name": "stderr",
          "text": [
            "\r  7%|▋         | 63/900 [00:26<05:29,  2.54it/s]"
          ]
        },
        {
          "output_type": "stream",
          "name": "stdout",
          "text": [
            "no. of UEs covered (Reward):  10.0\n",
            "-----------------------------episode  64 -----------------------------\n"
          ]
        },
        {
          "output_type": "stream",
          "name": "stderr",
          "text": [
            "\r  7%|▋         | 64/900 [00:27<05:25,  2.57it/s]"
          ]
        },
        {
          "output_type": "stream",
          "name": "stdout",
          "text": [
            "no. of UEs covered (Reward):  280.0\n",
            "-----------------------------episode  65 -----------------------------\n"
          ]
        },
        {
          "output_type": "stream",
          "name": "stderr",
          "text": [
            "\r  7%|▋         | 65/900 [00:27<05:25,  2.57it/s]"
          ]
        },
        {
          "output_type": "stream",
          "name": "stdout",
          "text": [
            "no. of UEs covered (Reward):  40.0\n",
            "-----------------------------episode  66 -----------------------------\n"
          ]
        },
        {
          "output_type": "stream",
          "name": "stderr",
          "text": [
            "\r  7%|▋         | 66/900 [00:27<05:22,  2.59it/s]"
          ]
        },
        {
          "output_type": "stream",
          "name": "stdout",
          "text": [
            "no. of UEs covered (Reward):  420.0\n",
            "-----------------------------episode  67 -----------------------------\n"
          ]
        },
        {
          "output_type": "stream",
          "name": "stderr",
          "text": [
            "\r  7%|▋         | 67/900 [00:28<05:18,  2.62it/s]"
          ]
        },
        {
          "output_type": "stream",
          "name": "stdout",
          "text": [
            "no. of UEs covered (Reward):  300.0\n",
            "-----------------------------episode  68 -----------------------------\n"
          ]
        },
        {
          "output_type": "stream",
          "name": "stderr",
          "text": [
            "\r  8%|▊         | 68/900 [00:28<05:22,  2.58it/s]"
          ]
        },
        {
          "output_type": "stream",
          "name": "stdout",
          "text": [
            "no. of UEs covered (Reward):  150.0\n",
            "-----------------------------episode  69 -----------------------------\n"
          ]
        },
        {
          "output_type": "stream",
          "name": "stderr",
          "text": [
            "\r  8%|▊         | 69/900 [00:29<05:26,  2.54it/s]"
          ]
        },
        {
          "output_type": "stream",
          "name": "stdout",
          "text": [
            "no. of UEs covered (Reward):  400.0\n",
            "-----------------------------episode  70 -----------------------------\n"
          ]
        },
        {
          "output_type": "stream",
          "name": "stderr",
          "text": [
            "\r  8%|▊         | 70/900 [00:29<05:36,  2.46it/s]"
          ]
        },
        {
          "output_type": "stream",
          "name": "stdout",
          "text": [
            "no. of UEs covered (Reward):  80.0\n",
            "-----------------------------episode  71 -----------------------------\n"
          ]
        },
        {
          "output_type": "stream",
          "name": "stderr",
          "text": [
            "\r  8%|▊         | 71/900 [00:29<05:40,  2.43it/s]"
          ]
        },
        {
          "output_type": "stream",
          "name": "stdout",
          "text": [
            "no. of UEs covered (Reward):  10.0\n",
            "-----------------------------episode  72 -----------------------------\n"
          ]
        },
        {
          "output_type": "stream",
          "name": "stderr",
          "text": [
            "\r  8%|▊         | 72/900 [00:30<05:57,  2.32it/s]"
          ]
        },
        {
          "output_type": "stream",
          "name": "stdout",
          "text": [
            "no. of UEs covered (Reward):  250.0\n",
            "-----------------------------episode  73 -----------------------------\n"
          ]
        },
        {
          "output_type": "stream",
          "name": "stderr",
          "text": [
            "\r  8%|▊         | 73/900 [00:30<06:43,  2.05it/s]"
          ]
        },
        {
          "output_type": "stream",
          "name": "stdout",
          "text": [
            "no. of UEs covered (Reward):  280.0\n",
            "-----------------------------episode  74 -----------------------------\n"
          ]
        },
        {
          "output_type": "stream",
          "name": "stderr",
          "text": [
            "\r  8%|▊         | 74/900 [00:31<07:15,  1.90it/s]"
          ]
        },
        {
          "output_type": "stream",
          "name": "stdout",
          "text": [
            "no. of UEs covered (Reward):  350.0\n",
            "-----------------------------episode  75 -----------------------------\n"
          ]
        },
        {
          "output_type": "stream",
          "name": "stderr",
          "text": [
            "\r  8%|▊         | 75/900 [00:32<07:28,  1.84it/s]"
          ]
        },
        {
          "output_type": "stream",
          "name": "stdout",
          "text": [
            "no. of UEs covered (Reward):  40.0\n",
            "-----------------------------episode  76 -----------------------------\n"
          ]
        },
        {
          "output_type": "stream",
          "name": "stderr",
          "text": [
            "\r  8%|▊         | 76/900 [00:32<07:38,  1.80it/s]"
          ]
        },
        {
          "output_type": "stream",
          "name": "stdout",
          "text": [
            "no. of UEs covered (Reward):  530.0\n",
            "-----------------------------episode  77 -----------------------------\n"
          ]
        },
        {
          "output_type": "stream",
          "name": "stderr",
          "text": [
            "\r  9%|▊         | 77/900 [00:33<07:34,  1.81it/s]"
          ]
        },
        {
          "output_type": "stream",
          "name": "stdout",
          "text": [
            "no. of UEs covered (Reward):  330.0\n",
            "-----------------------------episode  78 -----------------------------\n"
          ]
        },
        {
          "output_type": "stream",
          "name": "stderr",
          "text": [
            "\r  9%|▊         | 78/900 [00:33<07:00,  1.96it/s]"
          ]
        },
        {
          "output_type": "stream",
          "name": "stdout",
          "text": [
            "no. of UEs covered (Reward):  280.0\n",
            "-----------------------------episode  79 -----------------------------\n"
          ]
        },
        {
          "output_type": "stream",
          "name": "stderr",
          "text": [
            "\r  9%|▉         | 79/900 [00:34<06:33,  2.09it/s]"
          ]
        },
        {
          "output_type": "stream",
          "name": "stdout",
          "text": [
            "no. of UEs covered (Reward):  580.0\n",
            "-----------------------------episode  80 -----------------------------\n"
          ]
        },
        {
          "output_type": "stream",
          "name": "stderr",
          "text": [
            "\r  9%|▉         | 80/900 [00:34<06:16,  2.18it/s]"
          ]
        },
        {
          "output_type": "stream",
          "name": "stdout",
          "text": [
            "no. of UEs covered (Reward):  290.0\n",
            "-----------------------------episode  81 -----------------------------\n"
          ]
        },
        {
          "output_type": "stream",
          "name": "stderr",
          "text": [
            "\r  9%|▉         | 81/900 [00:34<06:01,  2.27it/s]"
          ]
        },
        {
          "output_type": "stream",
          "name": "stdout",
          "text": [
            "no. of UEs covered (Reward):  270.0\n",
            "-----------------------------episode  82 -----------------------------\n"
          ]
        },
        {
          "output_type": "stream",
          "name": "stderr",
          "text": [
            "\r  9%|▉         | 82/900 [00:35<05:53,  2.32it/s]"
          ]
        },
        {
          "output_type": "stream",
          "name": "stdout",
          "text": [
            "no. of UEs covered (Reward):  130.0\n",
            "-----------------------------episode  83 -----------------------------\n"
          ]
        },
        {
          "output_type": "stream",
          "name": "stderr",
          "text": [
            "\r  9%|▉         | 83/900 [00:35<05:46,  2.36it/s]"
          ]
        },
        {
          "output_type": "stream",
          "name": "stdout",
          "text": [
            "no. of UEs covered (Reward):  120.0\n",
            "-----------------------------episode  84 -----------------------------\n"
          ]
        },
        {
          "output_type": "stream",
          "name": "stderr",
          "text": [
            "\r  9%|▉         | 84/900 [00:36<05:40,  2.40it/s]"
          ]
        },
        {
          "output_type": "stream",
          "name": "stdout",
          "text": [
            "no. of UEs covered (Reward):  250.0\n",
            "-----------------------------episode  85 -----------------------------\n"
          ]
        },
        {
          "output_type": "stream",
          "name": "stderr",
          "text": [
            "\r  9%|▉         | 85/900 [00:36<05:37,  2.41it/s]"
          ]
        },
        {
          "output_type": "stream",
          "name": "stdout",
          "text": [
            "no. of UEs covered (Reward):  70.0\n",
            "-----------------------------episode  86 -----------------------------\n"
          ]
        },
        {
          "output_type": "stream",
          "name": "stderr",
          "text": [
            "\r 10%|▉         | 86/900 [00:36<05:32,  2.45it/s]"
          ]
        },
        {
          "output_type": "stream",
          "name": "stdout",
          "text": [
            "no. of UEs covered (Reward):  40.0\n",
            "-----------------------------episode  87 -----------------------------\n"
          ]
        },
        {
          "output_type": "stream",
          "name": "stderr",
          "text": [
            "\r 10%|▉         | 87/900 [00:37<05:26,  2.49it/s]"
          ]
        },
        {
          "output_type": "stream",
          "name": "stdout",
          "text": [
            "no. of UEs covered (Reward):  270.0\n",
            "-----------------------------episode  88 -----------------------------\n"
          ]
        },
        {
          "output_type": "stream",
          "name": "stderr",
          "text": [
            "\r 10%|▉         | 88/900 [00:37<05:19,  2.54it/s]"
          ]
        },
        {
          "output_type": "stream",
          "name": "stdout",
          "text": [
            "no. of UEs covered (Reward):  120.0\n",
            "-----------------------------episode  89 -----------------------------\n"
          ]
        },
        {
          "output_type": "stream",
          "name": "stderr",
          "text": [
            "\r 10%|▉         | 89/900 [00:38<05:15,  2.57it/s]"
          ]
        },
        {
          "output_type": "stream",
          "name": "stdout",
          "text": [
            "no. of UEs covered (Reward):  10.0\n",
            "-----------------------------episode  90 -----------------------------\n"
          ]
        },
        {
          "output_type": "stream",
          "name": "stderr",
          "text": [
            "\r 10%|█         | 90/900 [00:38<05:16,  2.56it/s]"
          ]
        },
        {
          "output_type": "stream",
          "name": "stdout",
          "text": [
            "no. of UEs covered (Reward):  40.0\n",
            "-----------------------------episode  91 -----------------------------\n"
          ]
        },
        {
          "output_type": "stream",
          "name": "stderr",
          "text": [
            "\r 10%|█         | 91/900 [00:38<05:14,  2.57it/s]"
          ]
        },
        {
          "output_type": "stream",
          "name": "stdout",
          "text": [
            "no. of UEs covered (Reward):  70.0\n",
            "-----------------------------episode  92 -----------------------------\n"
          ]
        },
        {
          "output_type": "stream",
          "name": "stderr",
          "text": [
            "\r 10%|█         | 92/900 [00:39<05:12,  2.59it/s]"
          ]
        },
        {
          "output_type": "stream",
          "name": "stdout",
          "text": [
            "no. of UEs covered (Reward):  260.0\n",
            "-----------------------------episode  93 -----------------------------\n"
          ]
        },
        {
          "output_type": "stream",
          "name": "stderr",
          "text": [
            "\r 10%|█         | 93/900 [00:39<05:11,  2.59it/s]"
          ]
        },
        {
          "output_type": "stream",
          "name": "stdout",
          "text": [
            "no. of UEs covered (Reward):  280.0\n",
            "-----------------------------episode  94 -----------------------------\n"
          ]
        },
        {
          "output_type": "stream",
          "name": "stderr",
          "text": [
            "\r 10%|█         | 94/900 [00:40<05:08,  2.61it/s]"
          ]
        },
        {
          "output_type": "stream",
          "name": "stdout",
          "text": [
            "no. of UEs covered (Reward):  210.0\n",
            "-----------------------------episode  95 -----------------------------\n"
          ]
        },
        {
          "output_type": "stream",
          "name": "stderr",
          "text": [
            "\r 11%|█         | 95/900 [00:40<05:05,  2.63it/s]"
          ]
        },
        {
          "output_type": "stream",
          "name": "stdout",
          "text": [
            "no. of UEs covered (Reward):  50.0\n",
            "-----------------------------episode  96 -----------------------------\n"
          ]
        },
        {
          "output_type": "stream",
          "name": "stderr",
          "text": [
            "\r 11%|█         | 96/900 [00:40<05:06,  2.63it/s]"
          ]
        },
        {
          "output_type": "stream",
          "name": "stdout",
          "text": [
            "no. of UEs covered (Reward):  120.0\n",
            "-----------------------------episode  97 -----------------------------\n"
          ]
        },
        {
          "output_type": "stream",
          "name": "stderr",
          "text": [
            "\r 11%|█         | 97/900 [00:41<05:06,  2.62it/s]"
          ]
        },
        {
          "output_type": "stream",
          "name": "stdout",
          "text": [
            "no. of UEs covered (Reward):  290.0\n",
            "-----------------------------episode  98 -----------------------------\n"
          ]
        },
        {
          "output_type": "stream",
          "name": "stderr",
          "text": [
            "\r 11%|█         | 98/900 [00:41<05:10,  2.58it/s]"
          ]
        },
        {
          "output_type": "stream",
          "name": "stdout",
          "text": [
            "no. of UEs covered (Reward):  40.0\n",
            "-----------------------------episode  99 -----------------------------\n"
          ]
        },
        {
          "output_type": "stream",
          "name": "stderr",
          "text": [
            "\r 11%|█         | 99/900 [00:41<05:12,  2.57it/s]"
          ]
        },
        {
          "output_type": "stream",
          "name": "stdout",
          "text": [
            "no. of UEs covered (Reward):  160.0\n",
            "-----------------------------episode  100 -----------------------------\n"
          ]
        },
        {
          "output_type": "stream",
          "name": "stderr",
          "text": [
            "\r 11%|█         | 100/900 [00:42<05:10,  2.57it/s]"
          ]
        },
        {
          "output_type": "stream",
          "name": "stdout",
          "text": [
            "no. of UEs covered (Reward):  240.0\n",
            "-----------------------------episode  101 -----------------------------\n"
          ]
        },
        {
          "output_type": "stream",
          "name": "stderr",
          "text": [
            "\r 11%|█         | 101/900 [00:42<05:15,  2.53it/s]"
          ]
        },
        {
          "output_type": "stream",
          "name": "stdout",
          "text": [
            "no. of UEs covered (Reward):  40.0\n",
            "-----------------------------episode  102 -----------------------------\n"
          ]
        },
        {
          "output_type": "stream",
          "name": "stderr",
          "text": [
            "\r 11%|█▏        | 102/900 [00:43<05:17,  2.51it/s]"
          ]
        },
        {
          "output_type": "stream",
          "name": "stdout",
          "text": [
            "no. of UEs covered (Reward):  50.0\n",
            "-----------------------------episode  103 -----------------------------\n"
          ]
        },
        {
          "output_type": "stream",
          "name": "stderr",
          "text": [
            "\r 11%|█▏        | 103/900 [00:43<06:14,  2.13it/s]"
          ]
        },
        {
          "output_type": "stream",
          "name": "stdout",
          "text": [
            "no. of UEs covered (Reward):  10.0\n",
            "-----------------------------episode  104 -----------------------------\n"
          ]
        },
        {
          "output_type": "stream",
          "name": "stderr",
          "text": [
            "\r 12%|█▏        | 104/900 [00:44<06:38,  2.00it/s]"
          ]
        },
        {
          "output_type": "stream",
          "name": "stdout",
          "text": [
            "no. of UEs covered (Reward):  230.0\n",
            "-----------------------------episode  105 -----------------------------\n"
          ]
        },
        {
          "output_type": "stream",
          "name": "stderr",
          "text": [
            "\r 12%|█▏        | 105/900 [00:44<06:59,  1.89it/s]"
          ]
        },
        {
          "output_type": "stream",
          "name": "stdout",
          "text": [
            "no. of UEs covered (Reward):  20.0\n",
            "-----------------------------episode  106 -----------------------------\n"
          ]
        },
        {
          "output_type": "stream",
          "name": "stderr",
          "text": [
            "\r 12%|█▏        | 106/900 [00:45<07:21,  1.80it/s]"
          ]
        },
        {
          "output_type": "stream",
          "name": "stdout",
          "text": [
            "no. of UEs covered (Reward):  30.0\n",
            "-----------------------------episode  107 -----------------------------\n"
          ]
        },
        {
          "output_type": "stream",
          "name": "stderr",
          "text": [
            "\r 12%|█▏        | 107/900 [00:46<07:43,  1.71it/s]"
          ]
        },
        {
          "output_type": "stream",
          "name": "stdout",
          "text": [
            "no. of UEs covered (Reward):  40.0\n",
            "-----------------------------episode  108 -----------------------------\n"
          ]
        },
        {
          "output_type": "stream",
          "name": "stderr",
          "text": [
            "\r 12%|█▏        | 108/900 [00:46<07:00,  1.88it/s]"
          ]
        },
        {
          "output_type": "stream",
          "name": "stdout",
          "text": [
            "no. of UEs covered (Reward):  490.0\n",
            "-----------------------------episode  109 -----------------------------\n"
          ]
        },
        {
          "output_type": "stream",
          "name": "stderr",
          "text": [
            "\r 12%|█▏        | 109/900 [00:47<06:32,  2.02it/s]"
          ]
        },
        {
          "output_type": "stream",
          "name": "stdout",
          "text": [
            "no. of UEs covered (Reward):  280.0\n",
            "-----------------------------episode  110 -----------------------------\n"
          ]
        },
        {
          "output_type": "stream",
          "name": "stderr",
          "text": [
            "\r 12%|█▏        | 110/900 [00:47<06:16,  2.10it/s]"
          ]
        },
        {
          "output_type": "stream",
          "name": "stdout",
          "text": [
            "no. of UEs covered (Reward):  100.0\n",
            "-----------------------------episode  111 -----------------------------\n"
          ]
        },
        {
          "output_type": "stream",
          "name": "stderr",
          "text": [
            "\r 12%|█▏        | 111/900 [00:47<05:59,  2.19it/s]"
          ]
        },
        {
          "output_type": "stream",
          "name": "stdout",
          "text": [
            "no. of UEs covered (Reward):  90.0\n",
            "-----------------------------episode  112 -----------------------------\n"
          ]
        },
        {
          "output_type": "stream",
          "name": "stderr",
          "text": [
            "\r 12%|█▏        | 112/900 [00:48<05:44,  2.28it/s]"
          ]
        },
        {
          "output_type": "stream",
          "name": "stdout",
          "text": [
            "no. of UEs covered (Reward):  50.0\n",
            "-----------------------------episode  113 -----------------------------\n"
          ]
        },
        {
          "output_type": "stream",
          "name": "stderr",
          "text": [
            "\r 13%|█▎        | 113/900 [00:48<05:38,  2.32it/s]"
          ]
        },
        {
          "output_type": "stream",
          "name": "stdout",
          "text": [
            "no. of UEs covered (Reward):  150.0\n",
            "-----------------------------episode  114 -----------------------------\n"
          ]
        },
        {
          "output_type": "stream",
          "name": "stderr",
          "text": [
            "\r 13%|█▎        | 114/900 [00:49<05:30,  2.38it/s]"
          ]
        },
        {
          "output_type": "stream",
          "name": "stdout",
          "text": [
            "no. of UEs covered (Reward):  10.0\n",
            "-----------------------------episode  115 -----------------------------\n"
          ]
        },
        {
          "output_type": "stream",
          "name": "stderr",
          "text": [
            "\r 13%|█▎        | 115/900 [00:49<05:29,  2.39it/s]"
          ]
        },
        {
          "output_type": "stream",
          "name": "stdout",
          "text": [
            "no. of UEs covered (Reward):  30.0\n",
            "-----------------------------episode  116 -----------------------------\n"
          ]
        },
        {
          "output_type": "stream",
          "name": "stderr",
          "text": [
            "\r 13%|█▎        | 116/900 [00:50<05:47,  2.25it/s]"
          ]
        },
        {
          "output_type": "stream",
          "name": "stdout",
          "text": [
            "no. of UEs covered (Reward):  40.0\n",
            "-----------------------------episode  117 -----------------------------\n"
          ]
        },
        {
          "output_type": "stream",
          "name": "stderr",
          "text": [
            "\r 13%|█▎        | 117/900 [00:50<05:36,  2.33it/s]"
          ]
        },
        {
          "output_type": "stream",
          "name": "stdout",
          "text": [
            "no. of UEs covered (Reward):  50.0\n",
            "-----------------------------episode  118 -----------------------------\n"
          ]
        },
        {
          "output_type": "stream",
          "name": "stderr",
          "text": [
            "\r 13%|█▎        | 118/900 [00:50<05:27,  2.39it/s]"
          ]
        },
        {
          "output_type": "stream",
          "name": "stdout",
          "text": [
            "no. of UEs covered (Reward):  0.0\n",
            "-----------------------------episode  119 -----------------------------\n"
          ]
        },
        {
          "output_type": "stream",
          "name": "stderr",
          "text": [
            "\r 13%|█▎        | 119/900 [00:51<05:24,  2.40it/s]"
          ]
        },
        {
          "output_type": "stream",
          "name": "stdout",
          "text": [
            "no. of UEs covered (Reward):  510.0\n",
            "-----------------------------episode  120 -----------------------------\n"
          ]
        },
        {
          "output_type": "stream",
          "name": "stderr",
          "text": [
            "\r 13%|█▎        | 120/900 [00:51<05:21,  2.43it/s]"
          ]
        },
        {
          "output_type": "stream",
          "name": "stdout",
          "text": [
            "no. of UEs covered (Reward):  470.0\n",
            "-----------------------------episode  121 -----------------------------\n"
          ]
        },
        {
          "output_type": "stream",
          "name": "stderr",
          "text": [
            "\r 13%|█▎        | 121/900 [00:52<05:19,  2.44it/s]"
          ]
        },
        {
          "output_type": "stream",
          "name": "stdout",
          "text": [
            "no. of UEs covered (Reward):  80.0\n",
            "-----------------------------episode  122 -----------------------------\n"
          ]
        },
        {
          "output_type": "stream",
          "name": "stderr",
          "text": [
            "\r 14%|█▎        | 122/900 [00:52<05:15,  2.46it/s]"
          ]
        },
        {
          "output_type": "stream",
          "name": "stdout",
          "text": [
            "no. of UEs covered (Reward):  100.0\n",
            "-----------------------------episode  123 -----------------------------\n"
          ]
        },
        {
          "output_type": "stream",
          "name": "stderr",
          "text": [
            "\r 14%|█▎        | 123/900 [00:52<05:14,  2.47it/s]"
          ]
        },
        {
          "output_type": "stream",
          "name": "stdout",
          "text": [
            "no. of UEs covered (Reward):  30.0\n",
            "-----------------------------episode  124 -----------------------------\n"
          ]
        },
        {
          "output_type": "stream",
          "name": "stderr",
          "text": [
            "\r 14%|█▍        | 124/900 [00:53<05:11,  2.49it/s]"
          ]
        },
        {
          "output_type": "stream",
          "name": "stdout",
          "text": [
            "no. of UEs covered (Reward):  540.0\n",
            "-----------------------------episode  125 -----------------------------\n"
          ]
        },
        {
          "output_type": "stream",
          "name": "stderr",
          "text": [
            "\r 14%|█▍        | 125/900 [00:53<05:07,  2.52it/s]"
          ]
        },
        {
          "output_type": "stream",
          "name": "stdout",
          "text": [
            "no. of UEs covered (Reward):  230.0\n",
            "-----------------------------episode  126 -----------------------------\n"
          ]
        },
        {
          "output_type": "stream",
          "name": "stderr",
          "text": [
            "\r 14%|█▍        | 126/900 [00:53<05:04,  2.54it/s]"
          ]
        },
        {
          "output_type": "stream",
          "name": "stdout",
          "text": [
            "no. of UEs covered (Reward):  140.0\n",
            "-----------------------------episode  127 -----------------------------\n"
          ]
        },
        {
          "output_type": "stream",
          "name": "stderr",
          "text": [
            "\r 14%|█▍        | 127/900 [00:54<05:05,  2.53it/s]"
          ]
        },
        {
          "output_type": "stream",
          "name": "stdout",
          "text": [
            "no. of UEs covered (Reward):  790.0\n",
            "-----------------------------episode  128 -----------------------------\n"
          ]
        },
        {
          "output_type": "stream",
          "name": "stderr",
          "text": [
            "\r 14%|█▍        | 128/900 [00:54<05:01,  2.56it/s]"
          ]
        },
        {
          "output_type": "stream",
          "name": "stdout",
          "text": [
            "no. of UEs covered (Reward):  410.0\n",
            "-----------------------------episode  129 -----------------------------\n"
          ]
        },
        {
          "output_type": "stream",
          "name": "stderr",
          "text": [
            "\r 14%|█▍        | 129/900 [00:55<05:02,  2.55it/s]"
          ]
        },
        {
          "output_type": "stream",
          "name": "stdout",
          "text": [
            "no. of UEs covered (Reward):  510.0\n",
            "-----------------------------episode  130 -----------------------------\n"
          ]
        },
        {
          "output_type": "stream",
          "name": "stderr",
          "text": [
            "\r 14%|█▍        | 130/900 [00:55<04:57,  2.59it/s]"
          ]
        },
        {
          "output_type": "stream",
          "name": "stdout",
          "text": [
            "no. of UEs covered (Reward):  470.0\n",
            "-----------------------------episode  131 -----------------------------\n"
          ]
        },
        {
          "output_type": "stream",
          "name": "stderr",
          "text": [
            "\r 15%|█▍        | 131/900 [00:55<05:03,  2.54it/s]"
          ]
        },
        {
          "output_type": "stream",
          "name": "stdout",
          "text": [
            "no. of UEs covered (Reward):  600.0\n",
            "-----------------------------episode  132 -----------------------------\n"
          ]
        },
        {
          "output_type": "stream",
          "name": "stderr",
          "text": [
            "\r 15%|█▍        | 132/900 [00:56<05:18,  2.41it/s]"
          ]
        },
        {
          "output_type": "stream",
          "name": "stdout",
          "text": [
            "no. of UEs covered (Reward):  490.0\n",
            "-----------------------------episode  133 -----------------------------\n"
          ]
        },
        {
          "output_type": "stream",
          "name": "stderr",
          "text": [
            "\r 15%|█▍        | 133/900 [00:56<05:50,  2.19it/s]"
          ]
        },
        {
          "output_type": "stream",
          "name": "stdout",
          "text": [
            "no. of UEs covered (Reward):  580.0\n",
            "-----------------------------episode  134 -----------------------------\n"
          ]
        },
        {
          "output_type": "stream",
          "name": "stderr",
          "text": [
            "\r 15%|█▍        | 134/900 [00:57<06:14,  2.05it/s]"
          ]
        },
        {
          "output_type": "stream",
          "name": "stdout",
          "text": [
            "no. of UEs covered (Reward):  40.0\n",
            "-----------------------------episode  135 -----------------------------\n"
          ]
        },
        {
          "output_type": "stream",
          "name": "stderr",
          "text": [
            "\r 15%|█▌        | 135/900 [00:58<06:31,  1.95it/s]"
          ]
        },
        {
          "output_type": "stream",
          "name": "stdout",
          "text": [
            "no. of UEs covered (Reward):  350.0\n",
            "-----------------------------episode  136 -----------------------------\n"
          ]
        },
        {
          "output_type": "stream",
          "name": "stderr",
          "text": [
            "\r 15%|█▌        | 136/900 [00:58<06:45,  1.88it/s]"
          ]
        },
        {
          "output_type": "stream",
          "name": "stdout",
          "text": [
            "no. of UEs covered (Reward):  1010.0\n",
            "-----------------------------episode  137 -----------------------------\n"
          ]
        },
        {
          "output_type": "stream",
          "name": "stderr",
          "text": [
            "\r 15%|█▌        | 137/900 [00:59<07:03,  1.80it/s]"
          ]
        },
        {
          "output_type": "stream",
          "name": "stdout",
          "text": [
            "no. of UEs covered (Reward):  30.0\n",
            "-----------------------------episode  138 -----------------------------\n"
          ]
        },
        {
          "output_type": "stream",
          "name": "stderr",
          "text": [
            "\r 15%|█▌        | 138/900 [00:59<06:27,  1.97it/s]"
          ]
        },
        {
          "output_type": "stream",
          "name": "stdout",
          "text": [
            "no. of UEs covered (Reward):  40.0\n",
            "-----------------------------episode  139 -----------------------------\n"
          ]
        },
        {
          "output_type": "stream",
          "name": "stderr",
          "text": [
            "\r 15%|█▌        | 139/900 [01:00<05:59,  2.12it/s]"
          ]
        },
        {
          "output_type": "stream",
          "name": "stdout",
          "text": [
            "no. of UEs covered (Reward):  180.0\n",
            "-----------------------------episode  140 -----------------------------\n"
          ]
        },
        {
          "output_type": "stream",
          "name": "stderr",
          "text": [
            "\r 16%|█▌        | 140/900 [01:00<05:38,  2.24it/s]"
          ]
        },
        {
          "output_type": "stream",
          "name": "stdout",
          "text": [
            "no. of UEs covered (Reward):  290.0\n",
            "-----------------------------episode  141 -----------------------------\n"
          ]
        },
        {
          "output_type": "stream",
          "name": "stderr",
          "text": [
            "\r 16%|█▌        | 141/900 [01:00<05:21,  2.36it/s]"
          ]
        },
        {
          "output_type": "stream",
          "name": "stdout",
          "text": [
            "no. of UEs covered (Reward):  60.0\n",
            "-----------------------------episode  142 -----------------------------\n"
          ]
        },
        {
          "output_type": "stream",
          "name": "stderr",
          "text": [
            "\r 16%|█▌        | 142/900 [01:01<05:10,  2.44it/s]"
          ]
        },
        {
          "output_type": "stream",
          "name": "stdout",
          "text": [
            "no. of UEs covered (Reward):  280.0\n",
            "-----------------------------episode  143 -----------------------------\n"
          ]
        },
        {
          "output_type": "stream",
          "name": "stderr",
          "text": [
            "\r 16%|█▌        | 143/900 [01:01<05:10,  2.44it/s]"
          ]
        },
        {
          "output_type": "stream",
          "name": "stdout",
          "text": [
            "no. of UEs covered (Reward):  40.0\n",
            "-----------------------------episode  144 -----------------------------\n"
          ]
        },
        {
          "output_type": "stream",
          "name": "stderr",
          "text": [
            "\r 16%|█▌        | 144/900 [01:02<05:07,  2.46it/s]"
          ]
        },
        {
          "output_type": "stream",
          "name": "stdout",
          "text": [
            "no. of UEs covered (Reward):  270.0\n",
            "-----------------------------episode  145 -----------------------------\n"
          ]
        },
        {
          "output_type": "stream",
          "name": "stderr",
          "text": [
            "\r 16%|█▌        | 145/900 [01:02<05:05,  2.47it/s]"
          ]
        },
        {
          "output_type": "stream",
          "name": "stdout",
          "text": [
            "no. of UEs covered (Reward):  760.0\n",
            "-----------------------------episode  146 -----------------------------\n"
          ]
        },
        {
          "output_type": "stream",
          "name": "stderr",
          "text": [
            "\r 16%|█▌        | 146/900 [01:02<05:07,  2.45it/s]"
          ]
        },
        {
          "output_type": "stream",
          "name": "stdout",
          "text": [
            "no. of UEs covered (Reward):  450.0\n",
            "-----------------------------episode  147 -----------------------------\n"
          ]
        },
        {
          "output_type": "stream",
          "name": "stderr",
          "text": [
            "\r 16%|█▋        | 147/900 [01:03<05:03,  2.48it/s]"
          ]
        },
        {
          "output_type": "stream",
          "name": "stdout",
          "text": [
            "no. of UEs covered (Reward):  60.0\n",
            "-----------------------------episode  148 -----------------------------\n"
          ]
        },
        {
          "output_type": "stream",
          "name": "stderr",
          "text": [
            "\r 16%|█▋        | 148/900 [01:03<05:05,  2.46it/s]"
          ]
        },
        {
          "output_type": "stream",
          "name": "stdout",
          "text": [
            "no. of UEs covered (Reward):  450.0\n",
            "-----------------------------episode  149 -----------------------------\n"
          ]
        },
        {
          "output_type": "stream",
          "name": "stderr",
          "text": [
            "\r 17%|█▋        | 149/900 [01:04<05:02,  2.48it/s]"
          ]
        },
        {
          "output_type": "stream",
          "name": "stdout",
          "text": [
            "no. of UEs covered (Reward):  250.0\n",
            "-----------------------------episode  150 -----------------------------\n"
          ]
        },
        {
          "output_type": "stream",
          "name": "stderr",
          "text": [
            "\r 17%|█▋        | 150/900 [01:04<05:00,  2.49it/s]"
          ]
        },
        {
          "output_type": "stream",
          "name": "stdout",
          "text": [
            "no. of UEs covered (Reward):  500.0\n",
            "-----------------------------episode  151 -----------------------------\n"
          ]
        },
        {
          "output_type": "stream",
          "name": "stderr",
          "text": [
            "\r 17%|█▋        | 151/900 [01:04<04:54,  2.54it/s]"
          ]
        },
        {
          "output_type": "stream",
          "name": "stdout",
          "text": [
            "no. of UEs covered (Reward):  510.0\n",
            "-----------------------------episode  152 -----------------------------\n"
          ]
        },
        {
          "output_type": "stream",
          "name": "stderr",
          "text": [
            "\r 17%|█▋        | 152/900 [01:05<04:54,  2.54it/s]"
          ]
        },
        {
          "output_type": "stream",
          "name": "stdout",
          "text": [
            "no. of UEs covered (Reward):  530.0\n",
            "-----------------------------episode  153 -----------------------------\n"
          ]
        },
        {
          "output_type": "stream",
          "name": "stderr",
          "text": [
            "\r 17%|█▋        | 153/900 [01:05<04:56,  2.52it/s]"
          ]
        },
        {
          "output_type": "stream",
          "name": "stdout",
          "text": [
            "no. of UEs covered (Reward):  310.0\n",
            "-----------------------------episode  154 -----------------------------\n"
          ]
        },
        {
          "output_type": "stream",
          "name": "stderr",
          "text": [
            "\r 17%|█▋        | 154/900 [01:06<04:57,  2.51it/s]"
          ]
        },
        {
          "output_type": "stream",
          "name": "stdout",
          "text": [
            "no. of UEs covered (Reward):  10.0\n",
            "-----------------------------episode  155 -----------------------------\n"
          ]
        },
        {
          "output_type": "stream",
          "name": "stderr",
          "text": [
            "\r 17%|█▋        | 155/900 [01:06<04:52,  2.55it/s]"
          ]
        },
        {
          "output_type": "stream",
          "name": "stdout",
          "text": [
            "no. of UEs covered (Reward):  330.0\n",
            "-----------------------------episode  156 -----------------------------\n"
          ]
        },
        {
          "output_type": "stream",
          "name": "stderr",
          "text": [
            "\r 17%|█▋        | 156/900 [01:06<04:51,  2.55it/s]"
          ]
        },
        {
          "output_type": "stream",
          "name": "stdout",
          "text": [
            "no. of UEs covered (Reward):  520.0\n",
            "-----------------------------episode  157 -----------------------------\n"
          ]
        },
        {
          "output_type": "stream",
          "name": "stderr",
          "text": [
            "\r 17%|█▋        | 157/900 [01:07<04:49,  2.56it/s]"
          ]
        },
        {
          "output_type": "stream",
          "name": "stdout",
          "text": [
            "no. of UEs covered (Reward):  10.0\n",
            "-----------------------------episode  158 -----------------------------\n"
          ]
        },
        {
          "output_type": "stream",
          "name": "stderr",
          "text": [
            "\r 18%|█▊        | 158/900 [01:07<04:51,  2.54it/s]"
          ]
        },
        {
          "output_type": "stream",
          "name": "stdout",
          "text": [
            "no. of UEs covered (Reward):  20.0\n",
            "-----------------------------episode  159 -----------------------------\n"
          ]
        },
        {
          "output_type": "stream",
          "name": "stderr",
          "text": [
            "\r 18%|█▊        | 159/900 [01:07<04:48,  2.57it/s]"
          ]
        },
        {
          "output_type": "stream",
          "name": "stdout",
          "text": [
            "no. of UEs covered (Reward):  550.0\n",
            "-----------------------------episode  160 -----------------------------\n"
          ]
        },
        {
          "output_type": "stream",
          "name": "stderr",
          "text": [
            "\r 18%|█▊        | 160/900 [01:08<04:44,  2.60it/s]"
          ]
        },
        {
          "output_type": "stream",
          "name": "stdout",
          "text": [
            "no. of UEs covered (Reward):  530.0\n",
            "-----------------------------episode  161 -----------------------------\n"
          ]
        },
        {
          "output_type": "stream",
          "name": "stderr",
          "text": [
            "\r 18%|█▊        | 161/900 [01:08<04:49,  2.55it/s]"
          ]
        },
        {
          "output_type": "stream",
          "name": "stdout",
          "text": [
            "no. of UEs covered (Reward):  250.0\n",
            "-----------------------------episode  162 -----------------------------\n"
          ]
        },
        {
          "output_type": "stream",
          "name": "stderr",
          "text": [
            "\r 18%|█▊        | 162/900 [01:09<04:48,  2.56it/s]"
          ]
        },
        {
          "output_type": "stream",
          "name": "stdout",
          "text": [
            "no. of UEs covered (Reward):  10.0\n",
            "-----------------------------episode  163 -----------------------------\n"
          ]
        },
        {
          "output_type": "stream",
          "name": "stderr",
          "text": [
            "\r 18%|█▊        | 163/900 [01:09<05:13,  2.35it/s]"
          ]
        },
        {
          "output_type": "stream",
          "name": "stdout",
          "text": [
            "no. of UEs covered (Reward):  30.0\n",
            "-----------------------------episode  164 -----------------------------\n"
          ]
        },
        {
          "output_type": "stream",
          "name": "stderr",
          "text": [
            "\r 18%|█▊        | 164/900 [01:10<05:36,  2.19it/s]"
          ]
        },
        {
          "output_type": "stream",
          "name": "stdout",
          "text": [
            "no. of UEs covered (Reward):  50.0\n",
            "-----------------------------episode  165 -----------------------------\n"
          ]
        },
        {
          "output_type": "stream",
          "name": "stderr",
          "text": [
            "\r 18%|█▊        | 165/900 [01:10<06:04,  2.02it/s]"
          ]
        },
        {
          "output_type": "stream",
          "name": "stdout",
          "text": [
            "no. of UEs covered (Reward):  550.0\n",
            "-----------------------------episode  166 -----------------------------\n"
          ]
        },
        {
          "output_type": "stream",
          "name": "stderr",
          "text": [
            "\r 18%|█▊        | 166/900 [01:11<06:19,  1.94it/s]"
          ]
        },
        {
          "output_type": "stream",
          "name": "stdout",
          "text": [
            "no. of UEs covered (Reward):  520.0\n",
            "-----------------------------episode  167 -----------------------------\n"
          ]
        },
        {
          "output_type": "stream",
          "name": "stderr",
          "text": [
            "\r 19%|█▊        | 167/900 [01:11<06:35,  1.85it/s]"
          ]
        },
        {
          "output_type": "stream",
          "name": "stdout",
          "text": [
            "no. of UEs covered (Reward):  270.0\n",
            "-----------------------------episode  168 -----------------------------\n"
          ]
        },
        {
          "output_type": "stream",
          "name": "stderr",
          "text": [
            "\r 19%|█▊        | 168/900 [01:12<06:33,  1.86it/s]"
          ]
        },
        {
          "output_type": "stream",
          "name": "stdout",
          "text": [
            "no. of UEs covered (Reward):  520.0\n",
            "-----------------------------episode  169 -----------------------------\n"
          ]
        },
        {
          "output_type": "stream",
          "name": "stderr",
          "text": [
            "\r 19%|█▉        | 169/900 [01:12<05:59,  2.03it/s]"
          ]
        },
        {
          "output_type": "stream",
          "name": "stdout",
          "text": [
            "no. of UEs covered (Reward):  560.0\n",
            "-----------------------------episode  170 -----------------------------\n"
          ]
        },
        {
          "output_type": "stream",
          "name": "stderr",
          "text": [
            "\r 19%|█▉        | 170/900 [01:13<05:33,  2.19it/s]"
          ]
        },
        {
          "output_type": "stream",
          "name": "stdout",
          "text": [
            "no. of UEs covered (Reward):  40.0\n",
            "-----------------------------episode  171 -----------------------------\n"
          ]
        },
        {
          "output_type": "stream",
          "name": "stderr",
          "text": [
            "\r 19%|█▉        | 171/900 [01:13<05:15,  2.31it/s]"
          ]
        },
        {
          "output_type": "stream",
          "name": "stdout",
          "text": [
            "no. of UEs covered (Reward):  380.0\n",
            "-----------------------------episode  172 -----------------------------\n"
          ]
        },
        {
          "output_type": "stream",
          "name": "stderr",
          "text": [
            "\r 19%|█▉        | 172/900 [01:13<05:05,  2.38it/s]"
          ]
        },
        {
          "output_type": "stream",
          "name": "stdout",
          "text": [
            "no. of UEs covered (Reward):  440.0\n",
            "-----------------------------episode  173 -----------------------------\n"
          ]
        },
        {
          "output_type": "stream",
          "name": "stderr",
          "text": [
            "\r 19%|█▉        | 173/900 [01:14<04:55,  2.46it/s]"
          ]
        },
        {
          "output_type": "stream",
          "name": "stdout",
          "text": [
            "no. of UEs covered (Reward):  40.0\n",
            "-----------------------------episode  174 -----------------------------\n"
          ]
        },
        {
          "output_type": "stream",
          "name": "stderr",
          "text": [
            "\r 19%|█▉        | 174/900 [01:14<04:57,  2.44it/s]"
          ]
        },
        {
          "output_type": "stream",
          "name": "stdout",
          "text": [
            "no. of UEs covered (Reward):  40.0\n",
            "-----------------------------episode  175 -----------------------------\n"
          ]
        },
        {
          "output_type": "stream",
          "name": "stderr",
          "text": [
            "\r 19%|█▉        | 175/900 [01:15<04:53,  2.47it/s]"
          ]
        },
        {
          "output_type": "stream",
          "name": "stdout",
          "text": [
            "no. of UEs covered (Reward):  40.0\n",
            "-----------------------------episode  176 -----------------------------\n"
          ]
        },
        {
          "output_type": "stream",
          "name": "stderr",
          "text": [
            "\r 20%|█▉        | 176/900 [01:15<04:51,  2.48it/s]"
          ]
        },
        {
          "output_type": "stream",
          "name": "stdout",
          "text": [
            "no. of UEs covered (Reward):  530.0\n",
            "-----------------------------episode  177 -----------------------------\n"
          ]
        },
        {
          "output_type": "stream",
          "name": "stderr",
          "text": [
            "\r 20%|█▉        | 177/900 [01:15<04:46,  2.52it/s]"
          ]
        },
        {
          "output_type": "stream",
          "name": "stdout",
          "text": [
            "no. of UEs covered (Reward):  50.0\n",
            "-----------------------------episode  178 -----------------------------\n"
          ]
        },
        {
          "output_type": "stream",
          "name": "stderr",
          "text": [
            "\r 20%|█▉        | 178/900 [01:16<04:43,  2.55it/s]"
          ]
        },
        {
          "output_type": "stream",
          "name": "stdout",
          "text": [
            "no. of UEs covered (Reward):  40.0\n",
            "-----------------------------episode  179 -----------------------------\n"
          ]
        },
        {
          "output_type": "stream",
          "name": "stderr",
          "text": [
            "\r 20%|█▉        | 179/900 [01:16<04:40,  2.57it/s]"
          ]
        },
        {
          "output_type": "stream",
          "name": "stdout",
          "text": [
            "no. of UEs covered (Reward):  50.0\n",
            "-----------------------------episode  180 -----------------------------\n"
          ]
        },
        {
          "output_type": "stream",
          "name": "stderr",
          "text": [
            "\r 20%|██        | 180/900 [01:17<04:36,  2.60it/s]"
          ]
        },
        {
          "output_type": "stream",
          "name": "stdout",
          "text": [
            "no. of UEs covered (Reward):  550.0\n",
            "-----------------------------episode  181 -----------------------------\n"
          ]
        },
        {
          "output_type": "stream",
          "name": "stderr",
          "text": [
            "\r 20%|██        | 181/900 [01:17<04:33,  2.63it/s]"
          ]
        },
        {
          "output_type": "stream",
          "name": "stdout",
          "text": [
            "no. of UEs covered (Reward):  560.0\n",
            "-----------------------------episode  182 -----------------------------\n"
          ]
        },
        {
          "output_type": "stream",
          "name": "stderr",
          "text": [
            "\r 20%|██        | 182/900 [01:17<04:35,  2.61it/s]"
          ]
        },
        {
          "output_type": "stream",
          "name": "stdout",
          "text": [
            "no. of UEs covered (Reward):  40.0\n",
            "-----------------------------episode  183 -----------------------------\n"
          ]
        },
        {
          "output_type": "stream",
          "name": "stderr",
          "text": [
            "\r 20%|██        | 183/900 [01:18<04:33,  2.62it/s]"
          ]
        },
        {
          "output_type": "stream",
          "name": "stdout",
          "text": [
            "no. of UEs covered (Reward):  270.0\n",
            "-----------------------------episode  184 -----------------------------\n"
          ]
        },
        {
          "output_type": "stream",
          "name": "stderr",
          "text": [
            "\r 20%|██        | 184/900 [01:18<04:32,  2.63it/s]"
          ]
        },
        {
          "output_type": "stream",
          "name": "stdout",
          "text": [
            "no. of UEs covered (Reward):  270.0\n",
            "-----------------------------episode  185 -----------------------------\n"
          ]
        },
        {
          "output_type": "stream",
          "name": "stderr",
          "text": [
            "\r 21%|██        | 185/900 [01:18<04:29,  2.66it/s]"
          ]
        },
        {
          "output_type": "stream",
          "name": "stdout",
          "text": [
            "no. of UEs covered (Reward):  250.0\n",
            "-----------------------------episode  186 -----------------------------\n"
          ]
        },
        {
          "output_type": "stream",
          "name": "stderr",
          "text": [
            "\r 21%|██        | 186/900 [01:19<04:32,  2.62it/s]"
          ]
        },
        {
          "output_type": "stream",
          "name": "stdout",
          "text": [
            "no. of UEs covered (Reward):  130.0\n",
            "-----------------------------episode  187 -----------------------------\n"
          ]
        },
        {
          "output_type": "stream",
          "name": "stderr",
          "text": [
            "\r 21%|██        | 187/900 [01:19<04:37,  2.57it/s]"
          ]
        },
        {
          "output_type": "stream",
          "name": "stdout",
          "text": [
            "no. of UEs covered (Reward):  430.0\n",
            "-----------------------------episode  188 -----------------------------\n"
          ]
        },
        {
          "output_type": "stream",
          "name": "stderr",
          "text": [
            "\r 21%|██        | 188/900 [01:20<04:42,  2.52it/s]"
          ]
        },
        {
          "output_type": "stream",
          "name": "stdout",
          "text": [
            "no. of UEs covered (Reward):  10.0\n",
            "-----------------------------episode  189 -----------------------------\n"
          ]
        },
        {
          "output_type": "stream",
          "name": "stderr",
          "text": [
            "\r 21%|██        | 189/900 [01:20<04:44,  2.50it/s]"
          ]
        },
        {
          "output_type": "stream",
          "name": "stdout",
          "text": [
            "no. of UEs covered (Reward):  520.0\n",
            "-----------------------------episode  190 -----------------------------\n"
          ]
        },
        {
          "output_type": "stream",
          "name": "stderr",
          "text": [
            "\r 21%|██        | 190/900 [01:20<04:45,  2.49it/s]"
          ]
        },
        {
          "output_type": "stream",
          "name": "stdout",
          "text": [
            "no. of UEs covered (Reward):  560.0\n",
            "-----------------------------episode  191 -----------------------------\n"
          ]
        },
        {
          "output_type": "stream",
          "name": "stderr",
          "text": [
            "\r 21%|██        | 191/900 [01:21<04:42,  2.51it/s]"
          ]
        },
        {
          "output_type": "stream",
          "name": "stdout",
          "text": [
            "no. of UEs covered (Reward):  340.0\n",
            "-----------------------------episode  192 -----------------------------\n"
          ]
        },
        {
          "output_type": "stream",
          "name": "stderr",
          "text": [
            "\r 21%|██▏       | 192/900 [01:21<04:40,  2.52it/s]"
          ]
        },
        {
          "output_type": "stream",
          "name": "stdout",
          "text": [
            "no. of UEs covered (Reward):  50.0\n",
            "-----------------------------episode  193 -----------------------------\n"
          ]
        },
        {
          "output_type": "stream",
          "name": "stderr",
          "text": [
            "\r 21%|██▏       | 193/900 [01:22<04:42,  2.50it/s]"
          ]
        },
        {
          "output_type": "stream",
          "name": "stdout",
          "text": [
            "no. of UEs covered (Reward):  550.0\n",
            "-----------------------------episode  194 -----------------------------\n"
          ]
        },
        {
          "output_type": "stream",
          "name": "stderr",
          "text": [
            "\r 22%|██▏       | 194/900 [01:22<05:15,  2.24it/s]"
          ]
        },
        {
          "output_type": "stream",
          "name": "stdout",
          "text": [
            "no. of UEs covered (Reward):  40.0\n",
            "-----------------------------episode  195 -----------------------------\n"
          ]
        },
        {
          "output_type": "stream",
          "name": "stderr",
          "text": [
            "\r 22%|██▏       | 195/900 [01:23<05:35,  2.10it/s]"
          ]
        },
        {
          "output_type": "stream",
          "name": "stdout",
          "text": [
            "no. of UEs covered (Reward):  440.0\n",
            "-----------------------------episode  196 -----------------------------\n"
          ]
        },
        {
          "output_type": "stream",
          "name": "stderr",
          "text": [
            "\r 22%|██▏       | 196/900 [01:23<05:55,  1.98it/s]"
          ]
        },
        {
          "output_type": "stream",
          "name": "stdout",
          "text": [
            "no. of UEs covered (Reward):  60.0\n",
            "-----------------------------episode  197 -----------------------------\n"
          ]
        },
        {
          "output_type": "stream",
          "name": "stderr",
          "text": [
            "\r 22%|██▏       | 197/900 [01:24<06:11,  1.89it/s]"
          ]
        },
        {
          "output_type": "stream",
          "name": "stdout",
          "text": [
            "no. of UEs covered (Reward):  380.0\n",
            "-----------------------------episode  198 -----------------------------\n"
          ]
        },
        {
          "output_type": "stream",
          "name": "stderr",
          "text": [
            "\r 22%|██▏       | 198/900 [01:25<06:22,  1.84it/s]"
          ]
        },
        {
          "output_type": "stream",
          "name": "stdout",
          "text": [
            "no. of UEs covered (Reward):  40.0\n",
            "-----------------------------episode  199 -----------------------------\n"
          ]
        },
        {
          "output_type": "stream",
          "name": "stderr",
          "text": [
            "\r 22%|██▏       | 199/900 [01:25<06:09,  1.90it/s]"
          ]
        },
        {
          "output_type": "stream",
          "name": "stdout",
          "text": [
            "no. of UEs covered (Reward):  250.0\n",
            "-----------------------------episode  200 -----------------------------\n"
          ]
        },
        {
          "output_type": "stream",
          "name": "stderr",
          "text": [
            "\r 22%|██▏       | 200/900 [01:25<05:40,  2.06it/s]"
          ]
        },
        {
          "output_type": "stream",
          "name": "stdout",
          "text": [
            "no. of UEs covered (Reward):  370.0\n",
            "-----------------------------episode  201 -----------------------------\n"
          ]
        },
        {
          "output_type": "stream",
          "name": "stderr",
          "text": [
            "\r 22%|██▏       | 201/900 [01:26<05:25,  2.15it/s]"
          ]
        },
        {
          "output_type": "stream",
          "name": "stdout",
          "text": [
            "no. of UEs covered (Reward):  30.0\n",
            "-----------------------------episode  202 -----------------------------\n"
          ]
        },
        {
          "output_type": "stream",
          "name": "stderr",
          "text": [
            "\r 22%|██▏       | 202/900 [01:26<05:10,  2.25it/s]"
          ]
        },
        {
          "output_type": "stream",
          "name": "stdout",
          "text": [
            "no. of UEs covered (Reward):  270.0\n",
            "-----------------------------episode  203 -----------------------------\n"
          ]
        },
        {
          "output_type": "stream",
          "name": "stderr",
          "text": [
            "\r 23%|██▎       | 203/900 [01:27<04:58,  2.33it/s]"
          ]
        },
        {
          "output_type": "stream",
          "name": "stdout",
          "text": [
            "no. of UEs covered (Reward):  390.0\n",
            "-----------------------------episode  204 -----------------------------\n"
          ]
        },
        {
          "output_type": "stream",
          "name": "stderr",
          "text": [
            " 23%|██▎       | 204/900 [01:27<04:58,  2.33it/s]"
          ]
        },
        {
          "output_type": "stream",
          "name": "stdout",
          "text": [
            "no. of UEs covered (Reward):  260.0\n",
            "-----------------------------episode  205 -----------------------------\n"
          ]
        },
        {
          "output_type": "stream",
          "name": "stderr",
          "text": [
            "\n"
          ]
        },
        {
          "output_type": "error",
          "ename": "KeyboardInterrupt",
          "evalue": "ignored",
          "traceback": [
            "\u001b[0;31m---------------------------------------------------------------------------\u001b[0m",
            "\u001b[0;31mKeyboardInterrupt\u001b[0m                         Traceback (most recent call last)",
            "\u001b[0;32m<ipython-input-25-d7485fa4a689>\u001b[0m in \u001b[0;36m<module>\u001b[0;34m\u001b[0m\n\u001b[0;32m----> 1\u001b[0;31m \u001b[0mstats\u001b[0m \u001b[0;34m=\u001b[0m \u001b[0mdeep_q_learning\u001b[0m\u001b[0;34m(\u001b[0m\u001b[0mq_networks\u001b[0m\u001b[0;34m,\u001b[0m \u001b[0mpolicy\u001b[0m\u001b[0;34m,\u001b[0m \u001b[0;36m900\u001b[0m\u001b[0;34m)\u001b[0m\u001b[0;34m\u001b[0m\u001b[0;34m\u001b[0m\u001b[0m\n\u001b[0m",
            "\u001b[0;32m<ipython-input-19-da5b3104f68e>\u001b[0m in \u001b[0;36mdeep_q_learning\u001b[0;34m(q_networks, policy, episodes, alpha, batch_size, gamma, epsilon)\u001b[0m\n\u001b[1;32m     49\u001b[0m                     \u001b[0mloss\u001b[0m \u001b[0;34m=\u001b[0m \u001b[0mF\u001b[0m\u001b[0;34m.\u001b[0m\u001b[0mmse_loss\u001b[0m\u001b[0;34m(\u001b[0m\u001b[0mqsa_b\u001b[0m\u001b[0;34m,\u001b[0m \u001b[0mtarget_b\u001b[0m\u001b[0;34m)\u001b[0m\u001b[0;34m\u001b[0m\u001b[0;34m\u001b[0m\u001b[0m\n\u001b[1;32m     50\u001b[0m                     \u001b[0mq_networks\u001b[0m\u001b[0;34m[\u001b[0m\u001b[0mi\u001b[0m\u001b[0;34m]\u001b[0m\u001b[0;34m.\u001b[0m\u001b[0mzero_grad\u001b[0m\u001b[0;34m(\u001b[0m\u001b[0;34m)\u001b[0m\u001b[0;34m\u001b[0m\u001b[0;34m\u001b[0m\u001b[0m\n\u001b[0;32m---> 51\u001b[0;31m                     \u001b[0mloss\u001b[0m\u001b[0;34m.\u001b[0m\u001b[0mbackward\u001b[0m\u001b[0;34m(\u001b[0m\u001b[0;34m)\u001b[0m\u001b[0;34m\u001b[0m\u001b[0;34m\u001b[0m\u001b[0m\n\u001b[0m\u001b[1;32m     52\u001b[0m                     \u001b[0moptims\u001b[0m\u001b[0;34m[\u001b[0m\u001b[0mi\u001b[0m\u001b[0;34m]\u001b[0m\u001b[0;34m.\u001b[0m\u001b[0mstep\u001b[0m\u001b[0;34m(\u001b[0m\u001b[0;34m)\u001b[0m\u001b[0;34m\u001b[0m\u001b[0;34m\u001b[0m\u001b[0m\n\u001b[1;32m     53\u001b[0m                     \u001b[0mloss_sum\u001b[0m \u001b[0;34m+=\u001b[0m \u001b[0mloss\u001b[0m\u001b[0;34m\u001b[0m\u001b[0;34m\u001b[0m\u001b[0m\n",
            "\u001b[0;32m/usr/local/lib/python3.8/dist-packages/torch/_tensor.py\u001b[0m in \u001b[0;36mbackward\u001b[0;34m(self, gradient, retain_graph, create_graph, inputs)\u001b[0m\n\u001b[1;32m    486\u001b[0m                 \u001b[0minputs\u001b[0m\u001b[0;34m=\u001b[0m\u001b[0minputs\u001b[0m\u001b[0;34m,\u001b[0m\u001b[0;34m\u001b[0m\u001b[0;34m\u001b[0m\u001b[0m\n\u001b[1;32m    487\u001b[0m             )\n\u001b[0;32m--> 488\u001b[0;31m         torch.autograd.backward(\n\u001b[0m\u001b[1;32m    489\u001b[0m             \u001b[0mself\u001b[0m\u001b[0;34m,\u001b[0m \u001b[0mgradient\u001b[0m\u001b[0;34m,\u001b[0m \u001b[0mretain_graph\u001b[0m\u001b[0;34m,\u001b[0m \u001b[0mcreate_graph\u001b[0m\u001b[0;34m,\u001b[0m \u001b[0minputs\u001b[0m\u001b[0;34m=\u001b[0m\u001b[0minputs\u001b[0m\u001b[0;34m\u001b[0m\u001b[0;34m\u001b[0m\u001b[0m\n\u001b[1;32m    490\u001b[0m         )\n",
            "\u001b[0;32m/usr/local/lib/python3.8/dist-packages/torch/autograd/__init__.py\u001b[0m in \u001b[0;36mbackward\u001b[0;34m(tensors, grad_tensors, retain_graph, create_graph, grad_variables, inputs)\u001b[0m\n\u001b[1;32m    195\u001b[0m     \u001b[0;31m# some Python versions print out the first line of a multi-line function\u001b[0m\u001b[0;34m\u001b[0m\u001b[0;34m\u001b[0m\u001b[0;34m\u001b[0m\u001b[0m\n\u001b[1;32m    196\u001b[0m     \u001b[0;31m# calls in the traceback and some print out the last line\u001b[0m\u001b[0;34m\u001b[0m\u001b[0;34m\u001b[0m\u001b[0;34m\u001b[0m\u001b[0m\n\u001b[0;32m--> 197\u001b[0;31m     Variable._execution_engine.run_backward(  # Calls into the C++ engine to run the backward pass\n\u001b[0m\u001b[1;32m    198\u001b[0m         \u001b[0mtensors\u001b[0m\u001b[0;34m,\u001b[0m \u001b[0mgrad_tensors_\u001b[0m\u001b[0;34m,\u001b[0m \u001b[0mretain_graph\u001b[0m\u001b[0;34m,\u001b[0m \u001b[0mcreate_graph\u001b[0m\u001b[0;34m,\u001b[0m \u001b[0minputs\u001b[0m\u001b[0;34m,\u001b[0m\u001b[0;34m\u001b[0m\u001b[0;34m\u001b[0m\u001b[0m\n\u001b[1;32m    199\u001b[0m         allow_unreachable=True, accumulate_grad=True)  # Calls into the C++ engine to run the backward pass\n",
            "\u001b[0;31mKeyboardInterrupt\u001b[0m: "
          ]
        }
      ],
      "source": [
        "stats = deep_q_learning(q_networks, policy, 500)"
      ]
    },
    {
      "cell_type": "code",
      "execution_count": 26,
      "metadata": {
        "id": "jK4Tm8kKZw4w"
      },
      "outputs": [],
      "source": [
        "def plot_stats1(stats):\n",
        "    rows = len(stats)\n",
        "    cols = 1\n",
        "\n",
        "    fig, ax = plt.subplots(rows, cols, figsize=(12, 6))\n",
        "\n",
        "    for i, key in enumerate(stats):\n",
        "        vals = stats[key]\n",
        "        \n",
        "        for j in range(len(vals)):\n",
        "            if(torch.is_tensor(vals[j])):\n",
        "                vals[j] = vals[j].detach().numpy()\n",
        "        vals = [np.mean(vals[i-10:i+10]) for i in range(10, len(vals)-10)]\n",
        "        if len(stats) > 1:\n",
        "            ax[i].plot(range(len(vals)), vals)\n",
        "            ax[i].set_title(key, size=18)\n",
        "        else:\n",
        "            ax.plot(range(len(vals)), vals)\n",
        "            ax.set_title(key, size=18)\n",
        "    plt.tight_layout()\n",
        "    plt.show()\n"
      ]
    },
    {
      "cell_type": "code",
      "source": [
        "def run_random_episode():\n",
        "  \n",
        "  state = env.reset()\n",
        "  # print(\"beginning state: \", state[0])\n",
        "  done = False\n",
        "  UAV_positions_list = [state.numpy()[0]]\n",
        "  while not done:\n",
        "    print(state.numpy())\n",
        "    action = torch.tensor([[[policy(state=torch.flatten(state, end_dim=-2)[i], epsilon=0., UAV_index=i)] for i in range(env.UAV_count)]])\n",
        "    np_action = [act.item() for act in action[0]]\n",
        "    print(np_action)\n",
        "    # action = policy(state, epsilon=0.)\n",
        "    # print(\"action: \", action)\n",
        "    new_state, reward, done, _ = env.step(np_action)\n",
        "    # print(\"new_state: \", new_state[0][:2])\n",
        "    state = new_state\n",
        "    UAV_positions_list.append(state.numpy()[0])\n",
        "\n",
        "  UAV_positions_list = np.array(UAV_positions_list)\n",
        "  # print(UAV_positions_list)\n",
        "  # print(UAV_positions_list[:, 0, 0])\n",
        "  env.render_UAV_movement_through_episode(UAV_positions_list = UAV_positions_list)\n",
        "  return\n",
        "\n",
        "run_random_episode()"
      ],
      "metadata": {
        "colab": {
          "base_uri": "https://localhost:8080/",
          "height": 1000
        },
        "id": "FZCz5-lo1YU-",
        "outputId": "bbeb1628-04be-4aa5-e2d3-9e87ec25da07"
      },
      "execution_count": 27,
      "outputs": [
        {
          "output_type": "stream",
          "name": "stdout",
          "text": [
            "[[[82.797424  91.92383  ]\n",
            "  [87.20575   62.174973 ]\n",
            "  [47.790516   2.5865347]]]\n",
            "[1, 8, 8]\n",
            "[[[88.797424 91.92383 ]\n",
            "  [91.44839  57.93233 ]\n",
            "  [52.033157  0.      ]]]\n",
            "[2, 8, 8]\n",
            "[[[93.04006  96.166466]\n",
            "  [95.691025 53.68969 ]\n",
            "  [56.2758    0.      ]]]\n",
            "[2, 8, 8]\n",
            "[[[ 97.2827  100.4091 ]\n",
            "  [ 99.93366  49.44705]\n",
            "  [ 60.51844   0.     ]]]\n",
            "[2, 8, 8]\n",
            "[[[101.52534  104.65174 ]\n",
            "  [104.1763    45.204407]\n",
            "  [ 64.76108    0.      ]]]\n",
            "[2, 1, 8]\n",
            "[[[105.767975 108.89438 ]\n",
            "  [110.1763    45.204407]\n",
            "  [ 69.003716   0.      ]]]\n",
            "[2, 1, 8]\n",
            "[[[110.01061  113.13702 ]\n",
            "  [116.1763    45.204407]\n",
            "  [ 73.24635    0.      ]]]\n",
            "[2, 1, 8]\n",
            "[[[114.25325  117.379654]\n",
            "  [122.1763    45.204407]\n",
            "  [ 77.48899    0.      ]]]\n",
            "[2, 1, 8]\n",
            "[[[118.49589  121.62229 ]\n",
            "  [128.1763    45.204407]\n",
            "  [ 81.73163    0.      ]]]\n",
            "[2, 1, 8]\n",
            "[[[122.738525 125.86493 ]\n",
            "  [134.1763    45.204407]\n",
            "  [ 85.974266   0.      ]]]\n",
            "[2, 1, 8]\n",
            "[[[126.98116  130.10757 ]\n",
            "  [140.1763    45.204407]\n",
            "  [ 90.2169     0.      ]]]\n",
            "[2, 8, 8]\n",
            "[[[131.2238   134.35022 ]\n",
            "  [144.41895   40.961765]\n",
            "  [ 94.45954    0.      ]]]\n",
            "[2, 8, 8]\n",
            "[[[135.46645  138.59286 ]\n",
            "  [148.66159   36.719124]\n",
            "  [ 98.70218    0.      ]]]\n",
            "[2, 8, 8]\n",
            "[[[139.70909  142.83551 ]\n",
            "  [150.        32.476482]\n",
            "  [102.94482    0.      ]]]\n",
            "[2, 8, 8]\n",
            "[[[143.95174  147.07816 ]\n",
            "  [150.        28.23384 ]\n",
            "  [107.187454   0.      ]]]\n",
            "[2, 8, 8]\n",
            "[[[148.19438 150.     ]\n",
            "  [150.       23.9912 ]\n",
            "  [111.43009   0.     ]]]\n",
            "[2, 8, 8]\n",
            "[[[150.       150.      ]\n",
            "  [150.        19.748558]\n",
            "  [115.67273    0.      ]]]\n",
            "[2, 8, 8]\n",
            "[[[150.       150.      ]\n",
            "  [150.        15.505918]\n",
            "  [119.91537    0.      ]]]\n",
            "[2, 8, 8]\n",
            "[[[150.       150.      ]\n",
            "  [150.        11.263277]\n",
            "  [124.158005   0.      ]]]\n",
            "[2, 8, 8]\n",
            "[[[150.        150.       ]\n",
            "  [150.          7.0206366]\n",
            "  [128.40065     0.       ]]]\n",
            "[2, 1, 8]\n",
            "[[[150.        150.       ]\n",
            "  [150.          7.0206366]\n",
            "  [132.6433      0.       ]]]\n",
            "[2, 1, 8]\n",
            "[[[150.        150.       ]\n",
            "  [150.          7.0206366]\n",
            "  [136.88594     0.       ]]]\n",
            "[2, 1, 8]\n",
            "[[[150.        150.       ]\n",
            "  [150.          7.0206366]\n",
            "  [141.12859     0.       ]]]\n",
            "[2, 1, 8]\n",
            "[[[150.        150.       ]\n",
            "  [150.          7.0206366]\n",
            "  [145.37123     0.       ]]]\n",
            "[2, 1, 8]\n",
            "[[[150.        150.       ]\n",
            "  [150.          7.0206366]\n",
            "  [149.61388     0.       ]]]\n",
            "[2, 1, 8]\n",
            "[[[150.        150.       ]\n",
            "  [150.          7.0206366]\n",
            "  [150.          0.       ]]]\n",
            "[2, 1, 3]\n",
            "[[[150.        150.       ]\n",
            "  [150.          7.0206366]\n",
            "  [150.          6.       ]]]\n",
            "[2, 1, 8]\n",
            "[[[150.        150.       ]\n",
            "  [150.          7.0206366]\n",
            "  [150.          1.7573593]]]\n",
            "[2, 1, 8]\n",
            "[[[150.        150.       ]\n",
            "  [150.          7.0206366]\n",
            "  [150.          0.       ]]]\n",
            "[2, 1, 3]\n",
            "[[[150.        150.       ]\n",
            "  [150.          7.0206366]\n",
            "  [150.          6.       ]]]\n",
            "[2, 1, 8]\n",
            "[[[150.        150.       ]\n",
            "  [150.          7.0206366]\n",
            "  [150.          1.7573593]]]\n",
            "[2, 1, 8]\n",
            "[[[150.        150.       ]\n",
            "  [150.          7.0206366]\n",
            "  [150.          0.       ]]]\n",
            "[2, 1, 3]\n",
            "[[[150.        150.       ]\n",
            "  [150.          7.0206366]\n",
            "  [150.          6.       ]]]\n",
            "[2, 1, 8]\n",
            "[[[150.        150.       ]\n",
            "  [150.          7.0206366]\n",
            "  [150.          1.7573593]]]\n",
            "[2, 1, 8]\n",
            "[[[150.        150.       ]\n",
            "  [150.          7.0206366]\n",
            "  [150.          0.       ]]]\n",
            "[2, 1, 3]\n",
            "[[[150.        150.       ]\n",
            "  [150.          7.0206366]\n",
            "  [150.          6.       ]]]\n",
            "[2, 1, 8]\n",
            "[[[150.        150.       ]\n",
            "  [150.          7.0206366]\n",
            "  [150.          1.7573593]]]\n",
            "[2, 1, 8]\n",
            "[[[150.        150.       ]\n",
            "  [150.          7.0206366]\n",
            "  [150.          0.       ]]]\n",
            "[2, 1, 3]\n",
            "[[[150.        150.       ]\n",
            "  [150.          7.0206366]\n",
            "  [150.          6.       ]]]\n",
            "[2, 1, 8]\n",
            "[[[150.        150.       ]\n",
            "  [150.          7.0206366]\n",
            "  [150.          1.7573593]]]\n",
            "[2, 1, 8]\n",
            "[[[150.        150.       ]\n",
            "  [150.          7.0206366]\n",
            "  [150.          0.       ]]]\n",
            "[2, 1, 3]\n",
            "[[[150.        150.       ]\n",
            "  [150.          7.0206366]\n",
            "  [150.          6.       ]]]\n",
            "[2, 1, 8]\n",
            "[[[150.        150.       ]\n",
            "  [150.          7.0206366]\n",
            "  [150.          1.7573593]]]\n",
            "[2, 1, 8]\n",
            "[[[150.        150.       ]\n",
            "  [150.          7.0206366]\n",
            "  [150.          0.       ]]]\n",
            "[2, 1, 3]\n",
            "[[[150.        150.       ]\n",
            "  [150.          7.0206366]\n",
            "  [150.          6.       ]]]\n",
            "[2, 1, 8]\n",
            "[[[150.        150.       ]\n",
            "  [150.          7.0206366]\n",
            "  [150.          1.7573593]]]\n",
            "[2, 1, 8]\n",
            "[[[150.        150.       ]\n",
            "  [150.          7.0206366]\n",
            "  [150.          0.       ]]]\n",
            "[2, 1, 3]\n",
            "[[[150.        150.       ]\n",
            "  [150.          7.0206366]\n",
            "  [150.          6.       ]]]\n",
            "[2, 1, 8]\n",
            "[[[150.        150.       ]\n",
            "  [150.          7.0206366]\n",
            "  [150.          1.7573593]]]\n",
            "[2, 1, 8]\n",
            "[[[150.        150.       ]\n",
            "  [150.          7.0206366]\n",
            "  [150.          0.       ]]]\n",
            "[2, 1, 3]\n"
          ]
        },
        {
          "output_type": "display_data",
          "data": {
            "text/plain": [
              "<Figure size 720x720 with 1 Axes>"
            ],
            "image/png": "[encoded data removed]"
          },
          "metadata": {
            "needs_background": "light"
          }
        }
      ]
    },
    {
      "cell_type": "code",
      "source": [
        "env.get_count_of_UEs_covered()"
      ],
      "metadata": {
        "colab": {
          "base_uri": "https://localhost:8080/"
        },
        "id": "YECxdnB0R9-O",
        "outputId": "e1d12e3c-3f78-4472-a402-694ae4366aa3"
      },
      "execution_count": 28,
      "outputs": [
        {
          "output_type": "execute_result",
          "data": {
            "text/plain": [
              "4"
            ]
          },
          "metadata": {},
          "execution_count": 28
        }
      ]
    },
    {
      "cell_type": "markdown",
      "metadata": {
        "id": "_6qBXCOOZw4w"
      },
      "source": [
        "## Show results"
      ]
    },
    {
      "cell_type": "markdown",
      "metadata": {
        "id": "08wmj1aFZw4w"
      },
      "source": [
        "### Plot execution stats"
      ]
    },
    {
      "cell_type": "code",
      "execution_count": 29,
      "metadata": {
        "colab": {
          "base_uri": "https://localhost:8080/",
          "height": 441
        },
        "id": "FFT-dXQdZw4w",
        "outputId": "3db8f1d4-6e3a-4f34-a30b-9569324146b8"
      },
      "outputs": [
        {
          "output_type": "display_data",
          "data": {
            "text/plain": [
              "<Figure size 864x432 with 2 Axes>"
            ],
            "image/png": "[encoded data removed]"
          },
          "metadata": {
            "needs_background": "light"
          }
        }
      ],
      "source": [
        "plot_stats1(stats)"
      ]
    },
    {
      "cell_type": "markdown",
      "metadata": {
        "id": "no0jfGc0Zw4w"
      },
      "source": [
        "### Test the resulting agent"
      ]
    },
    {
      "cell_type": "code",
      "execution_count": null,
      "metadata": {
        "colab": {
          "base_uri": "https://localhost:8080/",
          "height": 166
        },
        "id": "fGXuETsYZw4w",
        "outputId": "9b0a6703-1463-4ae9-9c5b-59ecfd01d11c"
      },
      "outputs": [
        {
          "output_type": "error",
          "ename": "NameError",
          "evalue": "ignored",
          "traceback": [
            "\u001b[0;31m---------------------------------------------------------------------------\u001b[0m",
            "\u001b[0;31mNameError\u001b[0m                                 Traceback (most recent call last)",
            "\u001b[0;32m<ipython-input-84-e6a01ce2437c>\u001b[0m in \u001b[0;36m<module>\u001b[0;34m\u001b[0m\n\u001b[0;32m----> 1\u001b[0;31m \u001b[0mtest_agent\u001b[0m\u001b[0;34m(\u001b[0m\u001b[0menv\u001b[0m\u001b[0;34m,\u001b[0m \u001b[0mpolicy\u001b[0m\u001b[0;34m,\u001b[0m \u001b[0mepisodes\u001b[0m\u001b[0;34m=\u001b[0m\u001b[0;36m2\u001b[0m\u001b[0;34m)\u001b[0m\u001b[0;34m\u001b[0m\u001b[0;34m\u001b[0m\u001b[0m\n\u001b[0m",
            "\u001b[0;31mNameError\u001b[0m: name 'test_agent' is not defined"
          ]
        }
      ],
      "source": [
        "test_agent(env, policy, episodes=2)"
      ]
    },
    {
      "cell_type": "code",
      "execution_count": null,
      "metadata": {
        "id": "cNkcJkZ3Zw4x"
      },
      "outputs": [],
      "source": [
        "env.close()"
      ]
    }
  ],
  "metadata": {
    "kernelspec": {
      "display_name": "Python 3 (ipykernel)",
      "language": "python",
      "name": "python3"
    },
    "language_info": {
      "codemirror_mode": {
        "name": "ipython",
        "version": 3
      },
      "file_extension": ".py",
      "mimetype": "text/x-python",
      "name": "python",
      "nbconvert_exporter": "python",
      "pygments_lexer": "ipython3",
      "version": "3.9.12"
    },
    "colab": {
      "provenance": [],
      "include_colab_link": true
    },
    "gpuClass": "standard",
    "accelerator": "GPU"
  },
  "nbformat": 4,
  "nbformat_minor": 0
}