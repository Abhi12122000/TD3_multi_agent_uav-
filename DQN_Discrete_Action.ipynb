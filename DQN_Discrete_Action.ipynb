{
  "cells": [
    {
      "cell_type": "markdown",
      "metadata": {
        "id": "view-in-github",
        "colab_type": "text"
      },
      "source": [
        "<a href=\"https://colab.research.google.com/github/Abhi12122000/TD3_multi_agent_uav-/blob/main/DQN_Discrete_Action.ipynb\" target=\"_parent\"><img src=\"https://colab.research.google.com/assets/colab-badge.svg\" alt=\"Open In Colab\"/></a>"
      ]
    },
    {
      "cell_type": "markdown",
      "metadata": {
        "pycharm": {
          "name": "#%%\n"
        },
        "id": "i3MuBm0OZw4m"
      },
      "source": [
        "<div style=\"text-align:center\">\n",
        "    <h1>\n",
        "        Deep Q-Learning\n",
        "    </h1>\n",
        "</div>\n",
        "\n",
        "<br><br>\n",
        "\n",
        "<div style=\"text-align:center\">\n",
        "\n",
        "In this notebook, we extend the Q-Learning algorithm to use function approximators (Neural Networks). The resulting algorithm is known as Deep Q-Learning.\n",
        "</div>\n",
        "\n",
        "<br><br>\n",
        "<div style=\"text-align:center\">\n",
        "    <b>This notebook belongs to section 8 of the course \"Reinforcement Learning: beginner to master\".</b>\n",
        "    <br><br>\n",
        "    <a href=\"https://www.udemy.com\">Reinforcement Learning: beginner to master</a> (English)\n",
        "    <br>\n",
        "    <a href=\"https://www.udemy.com\">Reinforcement Learning: de principiante a maestro</a> (Spanish)\n",
        "</div>\n",
        "\n",
        "<br>\n",
        "\n",
        "<table style=\"width:35%\">\n",
        "  <tr style=\"background-color: transparent\">\n",
        "    <td style=\"width: 45%\">\n",
        "        <a target=\"_parent\" href=\"https://www.evlabs.io\" style=\"float: center\">\n",
        "            <img src=\"img/evlabs-square.png\" width=\"75\"/>\n",
        "        </a> \n",
        "    </td>\n",
        "    <td valign=\"bottom\">\n",
        "        <a target=\"_parent\" href=\"https://www.youtube.com/channel/UCksRNSzWuMV5IfdrPlglqqw\">\n",
        "            <img src=\"img/YouTube.png\" width=\"35\"/>\n",
        "        </a> \n",
        "    </td>\n",
        "    <td>\n",
        "        <a target=\"_parent\" href=\"https://www.linkedin.com/company/evlabs\">\n",
        "            <img src=\"img/LinkedIn.png\" width=\"35\"/>\n",
        "        </a> \n",
        "    </td>\n",
        "    <td>\n",
        "        <a target=\"_parent\" href=\"https://twitter.com/evelabs\">\n",
        "            <img src=\"img/Twitter.png\" width=\"35\"/>\n",
        "        </a> \n",
        "    </td>\n",
        "    <td>\n",
        "        <a target=\"_parent\" href=\"https://github.com/escape-velocity-labs/\">\n",
        "            <img src=\"img/GitHub.png\" width=\"35\"/>\n",
        "        </a> \n",
        "    </td>\n",
        "\n",
        "  </tr>\n",
        "  <tr style=\"background-color: transparent\">\n",
        "    <th style=\"text-align: center; width: 70%\">Escape Velocity Labs</th>\n",
        "  </tr>\n",
        "\n",
        "</table>\n",
        "\n",
        "<br>"
      ]
    },
    {
      "cell_type": "markdown",
      "metadata": {
        "id": "ujmwKQ0DZw4o"
      },
      "source": [
        "## Import the necessary software libraries:"
      ]
    },
    {
      "cell_type": "code",
      "source": [
        "!pip install gym==0.15.3"
      ],
      "metadata": {
        "colab": {
          "base_uri": "https://localhost:8080/"
        },
        "id": "hQ9UtLxWmWDz",
        "outputId": "59cd53ed-b8a5-4bed-ff9f-a0586de16c7b"
      },
      "execution_count": 1,
      "outputs": [
        {
          "output_type": "stream",
          "name": "stdout",
          "text": [
            "Looking in indexes: https://pypi.org/simple, https://us-python.pkg.dev/colab-wheels/public/simple/\n",
            "Collecting gym==0.15.3\n",
            "  Downloading gym-0.15.3.tar.gz (1.6 MB)\n",
            "\u001b[2K     \u001b[90m━━━━━━━━━━━━━━━━━━━━━━━━━━━━━━━━━━━━━━━━\u001b[0m \u001b[32m1.6/1.6 MB\u001b[0m \u001b[31m23.3 MB/s\u001b[0m eta \u001b[36m0:00:00\u001b[0m\n",
            "\u001b[?25h  Preparing metadata (setup.py) ... \u001b[?25l\u001b[?25hdone\n",
            "Requirement already satisfied: scipy in /usr/local/lib/python3.8/dist-packages (from gym==0.15.3) (1.7.3)\n",
            "Requirement already satisfied: numpy>=1.10.4 in /usr/local/lib/python3.8/dist-packages (from gym==0.15.3) (1.21.6)\n",
            "Requirement already satisfied: six in /usr/local/lib/python3.8/dist-packages (from gym==0.15.3) (1.15.0)\n",
            "Collecting pyglet<=1.3.2,>=1.2.0\n",
            "  Downloading pyglet-1.3.2-py2.py3-none-any.whl (1.0 MB)\n",
            "\u001b[2K     \u001b[90m━━━━━━━━━━━━━━━━━━━━━━━━━━━━━━━━━━━━━━━━\u001b[0m \u001b[32m1.0/1.0 MB\u001b[0m \u001b[31m71.1 MB/s\u001b[0m eta \u001b[36m0:00:00\u001b[0m\n",
            "\u001b[?25hCollecting cloudpickle~=1.2.0\n",
            "  Downloading cloudpickle-1.2.2-py2.py3-none-any.whl (25 kB)\n",
            "Requirement already satisfied: future in /usr/local/lib/python3.8/dist-packages (from pyglet<=1.3.2,>=1.2.0->gym==0.15.3) (0.16.0)\n",
            "Building wheels for collected packages: gym\n",
            "  Building wheel for gym (setup.py) ... \u001b[?25l\u001b[?25hdone\n",
            "  Created wheel for gym: filename=gym-0.15.3-py3-none-any.whl size=1644968 sha256=9d178a0452b71b427fea0bf9ccef0039152aec89cadc7bc4e3dee134ea5b7bf0\n",
            "  Stored in directory: /root/.cache/pip/wheels/9b/b4/52/f4cce4bdc360a2289a3433deaa062ceb13dbe429c342866e97\n",
            "Successfully built gym\n",
            "Installing collected packages: cloudpickle, pyglet, gym\n",
            "  Attempting uninstall: cloudpickle\n",
            "    Found existing installation: cloudpickle 2.2.1\n",
            "    Uninstalling cloudpickle-2.2.1:\n",
            "      Successfully uninstalled cloudpickle-2.2.1\n",
            "  Attempting uninstall: gym\n",
            "    Found existing installation: gym 0.25.2\n",
            "    Uninstalling gym-0.25.2:\n",
            "      Successfully uninstalled gym-0.25.2\n",
            "\u001b[31mERROR: pip's dependency resolver does not currently take into account all the packages that are installed. This behaviour is the source of the following dependency conflicts.\n",
            "tensorflow-probability 0.19.0 requires cloudpickle>=1.3, but you have cloudpickle 1.2.2 which is incompatible.\n",
            "distributed 2022.2.1 requires cloudpickle>=1.5.0, but you have cloudpickle 1.2.2 which is incompatible.\u001b[0m\u001b[31m\n",
            "\u001b[0mSuccessfully installed cloudpickle-1.2.2 gym-0.15.3 pyglet-1.3.2\n"
          ]
        }
      ]
    },
    {
      "cell_type": "code",
      "execution_count": 2,
      "metadata": {
        "id": "lgcMITndZw4p"
      },
      "outputs": [],
      "source": [
        "import random\n",
        "import copy\n",
        "import gym\n",
        "import torch\n",
        "import torch.nn.functional as F\n",
        "import math\n",
        "import matplotlib.pyplot as plt\n",
        "from torch import nn as nn\n",
        "from torch.optim import AdamW\n",
        "from tqdm import tqdm\n",
        "import numpy as np\n",
        "from gym import wrappers, Env, spaces\n",
        "# from utils import test_agent, plot_stats, seed_everything"
      ]
    },
    {
      "cell_type": "markdown",
      "metadata": {
        "id": "ecN67F7oZw4q"
      },
      "source": [
        "## Create and prepare the environment"
      ]
    },
    {
      "cell_type": "markdown",
      "metadata": {
        "id": "R0-U9o86Zw4q"
      },
      "source": [
        "### Create the environment"
      ]
    },
    {
      "cell_type": "code",
      "execution_count": 3,
      "metadata": {
        "id": "oPtCGfTmZw4q"
      },
      "outputs": [],
      "source": [
        "import os\n",
        "os.environ[\"KMP_DUPLICATE_LIB_OK\"]=\"TRUE\""
      ]
    },
    {
      "cell_type": "code",
      "source": [
        "# class Single_Agent_UAV(Env):\n",
        "#     def __init__(self, initial_UAV_state = None):\n",
        "#         super(Single_Agent_UAV, self).__init__()\n",
        "\n",
        "#         #self.initial_UAV_state = initial_UAV_state\n",
        "#         self.initial_UAV_state = np.array([50,50])\n",
        "#         self.UE_count = 30\n",
        "#         self.Z = 20\n",
        "#         self.horizontal_dist_max = 20\n",
        "#         self.max_angle = 2 * math.pi\n",
        "#         # self.dz_max = 20\n",
        "#         self.phi_n = np.radians(42.44)  # in degrees\n",
        "#         self.C_max_t = (self.Z / np.tan(self.phi_n))\n",
        "#         self.boundary_x = self.boundary_y = 100.\n",
        "#         self.max_episode_steps = 20 # Maximum number of steps in a single episode, after which environment returns done = True\n",
        "#         self.current_episode_timestep = 0\n",
        "#         self.done = False\n",
        "#         self.action_step_size = self.boundary_x / 25.\n",
        "\n",
        "#         # self.action_space_coversion_lb = np.array([0, 0])\n",
        "#         # self.action_space_coversion_ub = np.array([self.horizontal_dist_max, self.max_angle])\n",
        "\n",
        "#         # self.action_space_lb = -1 * np.ones(2)\n",
        "#         # self.action_space_ub = np.ones(2)\n",
        "#         self.state_space_lb = np.array([0 for i in range(self.UE_count + 2)])\n",
        "#         self.state_space_ub = [self.boundary_x, self.boundary_y]\n",
        "#         for i in range(self.UE_count):\n",
        "#             self.state_space_ub.append(1)\n",
        "#         self.state_space_ub = np.array(self.state_space_ub)\n",
        "        \n",
        "#         # plotting parameters\n",
        "#         self.plotting_boundary_buffer = 5.\n",
        "#         self.UAV_coverage_circle_color = 'lavender'\n",
        "#         self.EC_concentrated_region_color = 'mistyrose'\n",
        "#         self.UAV_path_color = 'green'\n",
        "\n",
        "\n",
        "# #         defining action space\n",
        "#         self.state_space = gym.spaces.box.Box(low = self.state_space_lb, high = self.state_space_ub)\n",
        "# #         defining observation space\n",
        "#         self.action_space = spaces.Discrete(9)\n",
        "\n",
        "#         self.place_UEs(position=\"centered\", center = None)\n",
        "#         self.action_conversion()\n",
        "\n",
        "\n",
        "#     def action_conversion(self):\n",
        "#         self.n_actions = self.action_space.n\n",
        "#         # HARDCODED FOR n=9\n",
        "#         diag = (1 / math.sqrt(2))\n",
        "#         self.index_to_action_mapper = [(0, 0 ), (1, 0), (diag, diag), (0, 1), (-diag, diag), (-1, 0), (-diag, -diag), (0, -1), (diag, -diag)]  # angle changes in clockwise fashion\n",
        "#         return\n",
        "\n",
        "\n",
        "#     def reset(self):\n",
        "#         self.current_state = np.array(self.initial_UAV_state)\n",
        "#         horizontal_dist_UE_UAV = np.linalg.norm(self.UE_positions - self.current_state[:2], axis = 1)\n",
        "#         rho_array = (horizontal_dist_UE_UAV <= (self.C_max_t)) * 1  # binary association vector\n",
        "#         self.current_state = np.concatenate((self.current_state[:2], rho_array))\n",
        "#         self.timesteps_in_episode = 0\n",
        "#         self.done = False\n",
        "#         return self.current_state\n",
        "    \n",
        "    \n",
        "#     def get_count_of_UEs_covered(self):\n",
        "#         '''\n",
        "#         Returns count of UEs covered under UAV's current configuration\n",
        "#         '''\n",
        "\n",
        "#         ground_UAV_state = self.current_state[:2]\n",
        "#         horizontal_dist_UE_UAV = np.linalg.norm(self.UE_positions - ground_UAV_state, axis = 1)\n",
        "#         # print(\"horizontal distance b/w UEs and UAV: \", horizontal_dist_UE_UAV)\n",
        "#         rho_array = (horizontal_dist_UE_UAV <= (self.C_max_t)) * 1  # binary association vector\n",
        "#         M_t = rho_array.sum()\n",
        "\n",
        "#         return M_t\n",
        "\n",
        "\n",
        "#     def render(self, **kwargs):\n",
        "#         '''\n",
        "#         Function to visualize UAV position\n",
        "#         (this function has different configurations for different use cases)\n",
        "#         '''\n",
        "\n",
        "#         if 'UAV_positions_list' in kwargs:\n",
        "#             self.render_UAV_movement_through_episode(UAV_positions_list = kwargs['UAV_positions_list'])\n",
        "\n",
        "#         if 'fig' not in kwargs:\n",
        "#             fig, ax = plt.subplots(1, 2, figsize=(20,10))\n",
        "#             ax = np.array([ax])\n",
        "#             kwargs['fig'] = fig\n",
        "#             kwargs['ax'] = ax\n",
        "#             kwargs['i'] = 0\n",
        "        \n",
        "#         if 'reward' not in kwargs:\n",
        "#             kwargs['reward'] = 'Not known'\n",
        "#         self.render_position_plot(**kwargs)\n",
        "\n",
        "\n",
        "#     def step(self, action):\n",
        "#         '''\n",
        "#         Takes action moving environment from current_state to next_state\n",
        "#         Arguments: `action` to be taken\n",
        "#         Returns: new_state, reward, done, info(=None)\n",
        "#         '''\n",
        "#         # action = action.numpy().flatten()\n",
        "#         err_msg = f\"{action!r} ({type(action)}) invalid\"\n",
        "#         assert self.action_space.contains(action), err_msg\n",
        "#         assert self.current_state is not None, \"Call reset before using step method.\"\n",
        "\n",
        "\n",
        "#         self.timesteps_in_episode += 1\n",
        "#         prev_UAV_state = self.current_state\n",
        "#         _, inside_bounds = self.move(action)\n",
        "#         # print(type(self.current_state), type(prev_UAV_state))\n",
        "#         if not inside_bounds:\n",
        "#             # MENTIONED OUTPUT IS OUT OF BOUNDS\n",
        "#             self.is_done(end = True)\n",
        "#             reward = -500\n",
        "#             return self.current_state, reward, self.done, None\n",
        "\n",
        "#         ground_UAV_state = self.current_state[:2]\n",
        "#         horizontal_dist_UE_UAV = np.linalg.norm(self.UE_positions - ground_UAV_state, axis = 1)\n",
        "#         rho_array = (horizontal_dist_UE_UAV <= (self.C_max_t)) * 1  # binary association vector\n",
        "#         self.current_state = np.concatenate((self.current_state[:2], rho_array))\n",
        "#         M_t = rho_array.sum()  # no. of UEs served by the agent\n",
        "\n",
        "#         reward = M_t * 10         \n",
        "#         self.is_done(M_t)\n",
        "        \n",
        "#         return self.current_state, reward, self.done, None\n",
        "    \n",
        "\n",
        "#     def move(self, action):\n",
        "#         '''\n",
        "#         Helper function to step() function.\n",
        "#         Clips the passed action to fit within action space bounds.\n",
        "#         Calculates new state after performing the passed action, and updates UAV position accordingly. \n",
        "#         '''\n",
        "# #         evaluates new state reached upon performing the move and saves it in self.current_state\n",
        "#         # ACTION = [dx, dy]\n",
        "#         x_next = self.current_state[0] + (self.index_to_action_mapper[action][0] * self.action_step_size)\n",
        "#         y_next = self.current_state[1] + (self.index_to_action_mapper[action][1] * self.action_step_size)\n",
        "        \n",
        "#     # updating horizontal_direction_angle if the new move is out of boundary\n",
        "#         if((x_next < 0) or (x_next > self.boundary_x) or (y_next < 0) or (y_next > self.boundary_y)):\n",
        "#             # UAV REMAINS IN ITS CURRENT POSITION\n",
        "#             return action, False\n",
        "\n",
        "#         self.current_state[:2] = np.array([x_next, y_next])\n",
        "#         return action, True\n",
        "\n",
        "\n",
        "#     def is_done(self, M_t=0, end=False):\n",
        "#         '''\n",
        "#         Helper function to check if episode needs to be terminated\n",
        "#         '''\n",
        "#         if end == True:\n",
        "#             self.done = True\n",
        "#         # if M_t >= int(0.6 * self.UE_count):\n",
        "#         #     self.done = True\n",
        "#         elif(self.timesteps_in_episode >= self.max_episode_steps):\n",
        "#             self.done = True\n",
        "#         return\n",
        "\n",
        "    \n",
        "#     def select_random_state(self):\n",
        "#         '''\n",
        "#         Selects (and returns) random initial state (within bounds) for the UAV\n",
        "#         '''\n",
        "#         new_x = np.random.uniform(0.0, self.boundary_x)\n",
        "#         new_y = np.random.uniform(0.0, self.boundary_y)\n",
        "#         return np.array([new_x, new_y])\n",
        "    \n",
        "\n",
        "#     def place_UEs_centered(self, center = None, centered_UE_count = None):\n",
        "#         '''\n",
        "#         Helper function to place_UEs\n",
        "#         Places `centered_UE_count` UEs within a circle with center `center` and radius `C_max_t`.\n",
        "#         Places remaining UEs (UE_count - centered_UE_count) randomly inside the area barring the above circular region\n",
        "#         Arguments: \n",
        "#             desired_z_coord: Z coordinate with which to calculate radius C_max_t for centering UEs\n",
        "#             center: Provides center of circular region in which UEs will be scattered\n",
        "#             centered_UE_count: Number of UEs to be placed within the circular region created using previous arguments\n",
        "#         '''\n",
        "\n",
        "#         if centered_UE_count is None:\n",
        "#           centered_UE_count = self.UE_count\n",
        "#         # focuses the UEs inside the circular region\n",
        "#         radius = self.C_max_t\n",
        "#         if(center == None):\n",
        "#             # (x, y) co-ordinates\n",
        "#             x = np.random.uniform(0, self.boundary_x)\n",
        "#             y = np.random.uniform(0, self.boundary_y)\n",
        "#             center = np.array([x, y])\n",
        "\n",
        "#         r = radius * np.sqrt(np.random.uniform(size = centered_UE_count))\n",
        "#         theta = np.random.uniform(size = centered_UE_count) * 2 * math.pi\n",
        "\n",
        "#         self.UE_center = center\n",
        "#         self.UE_radius = radius\n",
        "        \n",
        "\n",
        "#         self.UE_positions = np.zeros((centered_UE_count, 2))\n",
        "#         self.UE_positions[:, 0] = np.clip(center[0] + r * np.cos(theta), 0., self.boundary_x) \n",
        "#         self.UE_positions[:, 1] = np.clip(center[1] + r * np.sin(theta), 0., self.boundary_y)\n",
        "#         return\n",
        "\n",
        "\n",
        "#     def place_UEs_randomly(self, random_UE_count = None, **kwargs):\n",
        "#         '''\n",
        "#         Helper function to place_UEs\n",
        "#         places `random_UE_count` UEs randomly onto the rectangular region\n",
        "#         if kwargs has the key `exclude_center`, then the circular region spanned by `exclude_center` \\\n",
        "#         and `exclude_radius` is excluded\n",
        "\n",
        "#         '''\n",
        "\n",
        "#         if random_UE_count is None:\n",
        "#           random_UE_count = self.UE_count\n",
        "\n",
        "#         # places UE_count UEs on grid randomly\n",
        "#         if type(self.UE_positions) == np.ndarray:\n",
        "#             self.UE_positions = self.UE_positions.tolist()\n",
        "\n",
        "#         randomly_placed_count = 0\n",
        "#         while(randomly_placed_count < random_UE_count):\n",
        "#             x = np.random.uniform(0, self.boundary_x)\n",
        "#             y = np.random.uniform(0, self.boundary_y)\n",
        "#             coords = np.array([x, y])\n",
        "#             if 'exclude_center' in kwargs:\n",
        "#                 if (np.linalg.norm(coords - kwargs['exclude_center']) <= kwargs['exclude_radius']):\n",
        "#                     continue\n",
        "#             self.UE_positions.append(coords)\n",
        "#             randomly_placed_count += 1\n",
        "\n",
        "#         self.UE_positions = np.array(self.UE_positions)\n",
        "\n",
        "\n",
        "#     def place_UEs(self, position=\"random\", center = None):\n",
        "#         '''\n",
        "#         Function to place UEs onto the rectangular region\n",
        "#         Arguments:\n",
        "#             position: has 2 modes, \"random\" and \"centered\", representing the two configuration for scattering UEs\n",
        "#             desired_z_coord: if position=\"centered\", this argument gives height with which to calculate radius of circular region\n",
        "#             center: if position=\"centered\", this argument provides center of circular region\n",
        "#         '''\n",
        "\n",
        "#         self.UE_center = None  # initializing for non-centered generation algorithms\n",
        "\n",
        "#         if(position==\"centered\"):\n",
        "#             ratio = 0.65\n",
        "#             centered_count = int(ratio * self.UE_count)\n",
        "#             self.place_UEs_centered(center, centered_count)\n",
        "#             if(self.UE_count - centered_count > 0):\n",
        "#                 self.place_UEs_randomly(self.UE_count - centered_count, exclude_center = self.UE_center, exclude_radius = self.UE_radius)\n",
        "#         elif(position==\"random\"):\n",
        "#             self.place_UEs_randomly()\n",
        "\n",
        "#         # saves in self.UE_positions\n",
        "#         self.UE_positions = np.array(self.UE_positions)\n",
        "#         return\n",
        "\n",
        "\n",
        "#     def render_policy_plot(self, **kwargs):\n",
        "\n",
        "#         fig, ax = plt.subplots(1, figsize=(10,10))\n",
        "#         position_action_list = kwargs['position_action_list']\n",
        "#         for position_action in position_action_list:\n",
        "#             position = position_action[0]\n",
        "#             action = position_action[1]\n",
        "#             new_state = self.move(action, get_new_state=True)\n",
        "#             ax.arrow(position[0], position[1], new_state[0] - position[0], new_state[1] - position[1], head_width=0.09, head_length=0.1)\n",
        "#         plt.show()\n",
        "#         return\n",
        "\n",
        "\n",
        "#     def render_bar_plot(self, ax, plot_number, idx):\n",
        "#         '''\n",
        "#         Plotting bar graph of each UE's fraction of tasks assigned to UAV and to EC, by the last action input given to step() function\n",
        "#         '''\n",
        "#         x_indices = np.arange(self.UE_count)\n",
        "#         width = 0.5\n",
        "\n",
        "#         gamma_array = (np.array(self.last_action[4:])).reshape((self.UE_count, self.EC_count))\n",
        "#         gamma_zeros = (1 - gamma_array.sum(axis = 1))\n",
        "        \n",
        "#         ax[plot_number, idx].bar(x_indices, gamma_zeros, width=width)\n",
        "#         for i in range(self.EC_count):\n",
        "#             ax[plot_number, idx].bar(x_indices, gamma_array[:, i], width=width)\n",
        "        \n",
        "    \n",
        "#     def render_position_plot(self, **kwargs):\n",
        "#         '''\n",
        "#         Helper function to render(), plots the current position plot on given axes. \n",
        "#         Plotting position plot of UAV's current position and coverage\n",
        "#         '''\n",
        "#         ax = kwargs['ax']\n",
        "#         plot_number = kwargs['i']\n",
        "#         idx = 0\n",
        "#         reward = kwargs['reward']\n",
        "\n",
        "#         buffer = 5.\n",
        "#         ax[plot_number, idx].set_xlim(-buffer, self.boundary_x+buffer)\n",
        "#         ax[plot_number, idx].set_ylim(-buffer, self.boundary_y+buffer)\n",
        "#         ax[plot_number, idx].grid()\n",
        "#         UE_x = self.UE_positions[:, 0]\n",
        "#         UE_y = self.UE_positions[:, 1]\n",
        "#         ax[plot_number, idx].plot(UE_x, UE_y, color='black', marker='o', markersize=6, linestyle = '', label = \"UE\")\n",
        "        \n",
        "#         ax[plot_number, idx].plot(self.current_state[0], self.current_state[1], color='blue', marker='x', markersize=9, linestyle = '', label = \"UAV\")\n",
        "        \n",
        "#         UAV_coverage_area = plt.Circle((self.current_state[0] , self.current_state[1] ), self.C_max_t, color = self.UAV_coverage_circle_color)\n",
        "#         ax[plot_number, idx].add_artist(UAV_coverage_area)\n",
        "      \n",
        "#       # For testing: To plot the circle and visualize UE points inside it\n",
        "#         if self.UE_center is not None:\n",
        "#             Test_UE_allotment_circle = plt.Circle((self.UE_center[0] , self.UE_center[1]), self.UE_radius, color = self.EC_concentrated_region_color)\n",
        "#             ax[plot_number, idx].add_artist(Test_UE_allotment_circle)\n",
        "#       # End\n",
        "\n",
        "#         if 'learnt_policy_visualization' in kwargs:\n",
        "#             position_action_list = kwargs['position_action_list']\n",
        "#             for position_action in position_action_list:\n",
        "#                 position = position_action[0]\n",
        "#                 action = position_action[1]\n",
        "#                 action = np.clip(action, self.action_space_lb, self.action_space_ub)\n",
        "#                 action = (((self.action_space_coversion_ub - self.action_space_coversion_lb) * (action + 1)) / 2) + self.action_space_coversion_lb\n",
        "#                 print(\"scaled action: \", action)\n",
        "#                 # print(\"action after scaling: \", action)\n",
        "#                 new_state = self.move(action, get_new_state=True, provided_center=position)\n",
        "#                 print(\"previous state: \", position, \", new state: \", new_state)\n",
        "#                 # print(\"new_state: \", new_state)\n",
        "#                 ax[plot_number, idx].plot(position[0], position[1], color='blue', marker='o', markersize=6, linestyle = '')\n",
        "#                 ax[plot_number, idx].plot(new_state[0], new_state[1], color='orange', marker='o', markersize=6, linestyle = '')\n",
        "#                 ax[plot_number, idx].arrow(position[0], position[1], new_state[0] - position[0], new_state[1] - position[1], head_width=0.2, head_length=0.1)\n",
        "\n",
        "\n",
        "#         ax[plot_number, idx].set_aspect(1)\n",
        "#         # naming the x axis\n",
        "#         ax[plot_number, idx].set_xlabel('X pos (m)')\n",
        "#         # naming the y axis\n",
        "#         ax[plot_number, idx].set_ylabel('Y pos (m)')\n",
        "#         ax[plot_number, idx].set_title('reward: ' + str(reward))\n",
        "#         # giving a title to my graph\n",
        "#         # plt.title('Visually Appealing!')\n",
        "\n",
        "#         # show a legend on the plot\n",
        "#         ax[plot_number, idx].legend()\n",
        "#         # plt.show()"
      ],
      "metadata": {
        "id": "asK2dn_xcpMr"
      },
      "execution_count": 4,
      "outputs": []
    },
    {
      "cell_type": "code",
      "source": [
        "class Single_Agent_UAV(Env):\n",
        "    def __init__(self, initial_UAV_state = None):\n",
        "        super(Single_Agent_UAV, self).__init__()\n",
        "\n",
        "        #self.initial_UAV_state = initial_UAV_state\n",
        "        self.initial_UAV_state = np.array([50,50])\n",
        "        self.UE_count = 200\n",
        "        self.Z = 30\n",
        "        self.horizontal_dist_max = 20\n",
        "        self.max_angle = 2 * math.pi\n",
        "        # self.dz_max = 20\n",
        "        self.phi_n = np.radians(42.44)  # in degrees\n",
        "        self.C_max_t = (self.Z / np.tan(self.phi_n))\n",
        "        self.boundary_x = self.boundary_y = 150.\n",
        "        self.max_episode_steps = 50 # Maximum number of steps in a single episode, after which environment returns done = True\n",
        "        self.current_episode_timestep = 0\n",
        "        self.done = False\n",
        "        self.action_step_size = self.boundary_x / 25.\n",
        "\n",
        "        # self.action_space_coversion_lb = np.array([0, 0])\n",
        "        # self.action_space_coversion_ub = np.array([self.horizontal_dist_max, self.max_angle])\n",
        "\n",
        "        # self.action_space_lb = -1 * np.ones(2)\n",
        "        # self.action_space_ub = np.ones(2)\n",
        "        self.state_space_lb = np.array([0, 0], dtype = np.float32)\n",
        "        self.state_space_ub = np.array([self.boundary_x, self.boundary_y], dtype = np.float32)\n",
        "        \n",
        "        # plotting parameters\n",
        "        self.plotting_boundary_buffer = 5.\n",
        "        self.UAV_coverage_circle_color = 'lavender'\n",
        "        self.EC_concentrated_region_color = 'mistyrose'\n",
        "        self.UAV_path_color = 'green'\n",
        "\n",
        "\n",
        "#         defining action space\n",
        "        self.state_space = gym.spaces.box.Box(low = self.state_space_lb, high = self.state_space_ub)\n",
        "#         defining observation space\n",
        "        self.action_space = spaces.Discrete(9)\n",
        "\n",
        "        self.place_UEs(position=\"centered\", center = None)\n",
        "        self.action_conversion()\n",
        "\n",
        "\n",
        "    def action_conversion(self):\n",
        "        self.n_actions = self.action_space.n\n",
        "        # HARDCODED FOR n=9\n",
        "        diag = (1 / math.sqrt(2))\n",
        "        self.index_to_action_mapper = [(0, 0 ), (1, 0), (diag, diag), (0, 1), (-diag, diag), (-1, 0), (-diag, -diag), (0, -1), (diag, -diag)]  # angle changes in clockwise fashion\n",
        "        return\n",
        "\n",
        "\n",
        "    def reset(self):\n",
        "        # RANDOMLY SELECTS UAV STARTING POSITION\n",
        "        self.current_state = self.select_random_state()\n",
        "        \n",
        "        # RESETS UAV STARTING POSITION TO self.initial_UAV_state\n",
        "        # self.current_state = np.array(self.initial_UAV_state)\n",
        "\n",
        "        # FOLLOWING 3 LINES ARE USED IF THE STATE SPACE INVOLVES THE UE COVERED BINARY VECTOR\n",
        "        # horizontal_dist_UE_UAV = np.linalg.norm(self.UE_positions - self.current_state[:2], axis = 1)\n",
        "        # rho_array = (horizontal_dist_UE_UAV <= (self.C_max_t)) * 1  # binary association vector\n",
        "        # self.current_state = np.concatenate((self.current_state[:2], rho_array))\n",
        "        self.timesteps_in_episode = 0\n",
        "        self.done = False\n",
        "        return self.current_state\n",
        "    \n",
        "    \n",
        "    def get_count_of_UEs_covered(self):\n",
        "        '''\n",
        "        Returns count of UEs covered under UAV's current configuration\n",
        "        '''\n",
        "\n",
        "        ground_UAV_state = self.current_state[:2]\n",
        "        horizontal_dist_UE_UAV = np.linalg.norm(self.UE_positions - ground_UAV_state, axis = 1)\n",
        "        # print(\"horizontal distance b/w UEs and UAV: \", horizontal_dist_UE_UAV)\n",
        "        rho_array = (horizontal_dist_UE_UAV <= (self.C_max_t)) * 1  # binary association vector\n",
        "        M_t = rho_array.sum()\n",
        "\n",
        "        return M_t\n",
        "\n",
        "\n",
        "    def render(self, **kwargs):\n",
        "        '''\n",
        "        Function to visualize UAV position\n",
        "        (this function has different configurations for different use cases)\n",
        "        '''\n",
        "\n",
        "        if 'UAV_positions_list' in kwargs:\n",
        "            self.render_UAV_movement_through_episode(UAV_positions_list = kwargs['UAV_positions_list'])\n",
        "\n",
        "        if 'fig' not in kwargs:\n",
        "            fig, ax = plt.subplots(1, 2, figsize=(20,10))\n",
        "            ax = np.array([ax])\n",
        "            kwargs['fig'] = fig\n",
        "            kwargs['ax'] = ax\n",
        "            kwargs['i'] = 0\n",
        "        \n",
        "        if 'reward' not in kwargs:\n",
        "            kwargs['reward'] = 'Not known'\n",
        "        self.render_position_plot(**kwargs)\n",
        "\n",
        "\n",
        "    def step(self, action):\n",
        "        '''\n",
        "        Takes action moving environment from current_state to next_state\n",
        "        Arguments: `action` to be taken\n",
        "        Returns: new_state, reward, done, info(=None)\n",
        "        '''\n",
        "        # action = action.numpy().flatten()\n",
        "        err_msg = f\"{action!r} ({type(action)}) invalid\"\n",
        "        assert self.action_space.contains(action), err_msg\n",
        "        assert self.current_state is not None, \"Call reset before using step method.\"\n",
        "\n",
        "\n",
        "        self.timesteps_in_episode += 1\n",
        "        prev_UAV_state = self.current_state\n",
        "        _, inside_bounds = self.move(action)\n",
        "        # print(type(self.current_state), type(prev_UAV_state))\n",
        "        if not inside_bounds:\n",
        "            # MENTIONED OUTPUT IS OUT OF BOUNDS\n",
        "            # self.is_done(end = True)\n",
        "            reward = -10000\n",
        "            return self.current_state, reward, self.done, None\n",
        "\n",
        "        ground_UAV_state = self.current_state[:2]\n",
        "        horizontal_dist_UE_UAV = np.linalg.norm(self.UE_positions - ground_UAV_state, axis = 1)\n",
        "        rho_array = (horizontal_dist_UE_UAV <= (self.C_max_t)) * 1  # binary association vector\n",
        "        # self.current_state = np.concatenate((self.current_state[:2], rho_array))\n",
        "        M_t = rho_array.sum()  # no. of UEs served by the agent\n",
        "\n",
        "        reward = M_t * 10         \n",
        "        self.is_done(M_t)\n",
        "        \n",
        "        return self.current_state, reward, self.done, None\n",
        "    \n",
        "\n",
        "    def move(self, action):\n",
        "        '''\n",
        "        Helper function to step() function.\n",
        "        Clips the passed action to fit within action space bounds.\n",
        "        Calculates new state after performing the passed action, and updates UAV position accordingly. \n",
        "        '''\n",
        "#         evaluates new state reached upon performing the move and saves it in self.current_state\n",
        "        # ACTION = [dx, dy]\n",
        "        x_next = self.current_state[0] + (self.index_to_action_mapper[action][0] * self.action_step_size)\n",
        "        y_next = self.current_state[1] + (self.index_to_action_mapper[action][1] * self.action_step_size)\n",
        "        \n",
        "    # updating horizontal_direction_angle if the new move is out of boundary\n",
        "        if((x_next < 0) or (x_next > self.boundary_x) or (y_next < 0) or (y_next > self.boundary_y)):\n",
        "            # UAV REMAINS IN ITS CURRENT POSITION\n",
        "            return action, False\n",
        "\n",
        "        self.current_state[:2] = np.array([x_next, y_next])\n",
        "        return action, True\n",
        "\n",
        "\n",
        "    def is_done(self, M_t=0, end=False):\n",
        "        '''\n",
        "        Helper function to check if episode needs to be terminated\n",
        "        '''\n",
        "        if end == True:\n",
        "            self.done = True\n",
        "        # if M_t >= int(0.6 * self.UE_count):\n",
        "        #     self.done = True\n",
        "        elif(self.timesteps_in_episode >= self.max_episode_steps):\n",
        "            self.done = True\n",
        "        return\n",
        "\n",
        "    \n",
        "    def select_random_state(self):\n",
        "        '''\n",
        "        Selects (and returns) random initial state (within bounds) for the UAV\n",
        "        '''\n",
        "        new_x = np.random.uniform(0.0, self.boundary_x)\n",
        "        new_y = np.random.uniform(0.0, self.boundary_y)\n",
        "        return np.array([new_x, new_y])\n",
        "    \n",
        "\n",
        "    def place_UEs_centered(self, center = None, centered_UE_count = None):\n",
        "        '''\n",
        "        Helper function to place_UEs\n",
        "        Places `centered_UE_count` UEs within a circle with center `center` and radius `C_max_t`.\n",
        "        Places remaining UEs (UE_count - centered_UE_count) randomly inside the area barring the above circular region\n",
        "        Arguments: \n",
        "            desired_z_coord: Z coordinate with which to calculate radius C_max_t for centering UEs\n",
        "            center: Provides center of circular region in which UEs will be scattered\n",
        "            centered_UE_count: Number of UEs to be placed within the circular region created using previous arguments\n",
        "        '''\n",
        "\n",
        "        if centered_UE_count is None:\n",
        "          centered_UE_count = self.UE_count\n",
        "        # focuses the UEs inside the circular region\n",
        "        radius = (2 * self.C_max_t) / 3\n",
        "        if(center == None):\n",
        "            # (x, y) co-ordinates\n",
        "            x = np.random.uniform(0, self.boundary_x)\n",
        "            y = np.random.uniform(0, self.boundary_y)\n",
        "            center = np.array([x, y])\n",
        "\n",
        "        r = radius * np.sqrt(np.random.uniform(size = centered_UE_count))\n",
        "        theta = np.random.uniform(size = centered_UE_count) * 2 * math.pi\n",
        "\n",
        "        self.UE_center = center\n",
        "        self.UE_radius = radius\n",
        "        \n",
        "\n",
        "        self.UE_positions = np.zeros((centered_UE_count, 2))\n",
        "        self.UE_positions[:, 0] = np.clip(center[0] + r * np.cos(theta), 0., self.boundary_x) \n",
        "        self.UE_positions[:, 1] = np.clip(center[1] + r * np.sin(theta), 0., self.boundary_y)\n",
        "        return\n",
        "\n",
        "\n",
        "    def place_UEs_randomly(self, random_UE_count = None, **kwargs):\n",
        "        '''\n",
        "        Helper function to place_UEs\n",
        "        places `random_UE_count` UEs randomly onto the rectangular region\n",
        "        if kwargs has the key `exclude_center`, then the circular region spanned by `exclude_center` \\\n",
        "        and `exclude_radius` is excluded\n",
        "\n",
        "        '''\n",
        "\n",
        "        if random_UE_count is None:\n",
        "          random_UE_count = self.UE_count\n",
        "\n",
        "        # places UE_count UEs on grid randomly\n",
        "        if type(self.UE_positions) == np.ndarray:\n",
        "            self.UE_positions = self.UE_positions.tolist()\n",
        "\n",
        "        randomly_placed_count = 0\n",
        "        while(randomly_placed_count < random_UE_count):\n",
        "            x = np.random.uniform(0, self.boundary_x)\n",
        "            y = np.random.uniform(0, self.boundary_y)\n",
        "            coords = np.array([x, y])\n",
        "            if 'exclude_center' in kwargs:\n",
        "                if (np.linalg.norm(coords - kwargs['exclude_center']) <= kwargs['exclude_radius']):\n",
        "                    continue\n",
        "            self.UE_positions.append(coords)\n",
        "            randomly_placed_count += 1\n",
        "\n",
        "        self.UE_positions = np.array(self.UE_positions)\n",
        "\n",
        "\n",
        "    def place_UEs(self, position=\"random\", center = None):\n",
        "        '''\n",
        "        Function to place UEs onto the rectangular region\n",
        "        Arguments:\n",
        "            position: has 2 modes, \"random\" and \"centered\", representing the two configuration for scattering UEs\n",
        "            desired_z_coord: if position=\"centered\", this argument gives height with which to calculate radius of circular region\n",
        "            center: if position=\"centered\", this argument provides center of circular region\n",
        "        '''\n",
        "\n",
        "        self.UE_center = None  # initializing for non-centered generation algorithms\n",
        "\n",
        "        if(position==\"centered\"):\n",
        "            ratio = 0.65\n",
        "            centered_count = int(ratio * self.UE_count)\n",
        "            self.place_UEs_centered(center, centered_count)\n",
        "            if(self.UE_count - centered_count > 0):\n",
        "                self.place_UEs_randomly(self.UE_count - centered_count, exclude_center = self.UE_center, exclude_radius = self.UE_radius)\n",
        "        elif(position==\"random\"):\n",
        "            self.place_UEs_randomly()\n",
        "\n",
        "        # saves in self.UE_positions\n",
        "        self.UE_positions = np.array(self.UE_positions)\n",
        "        return\n",
        "\n",
        "\n",
        "    def render_UAV_movement_through_episode(self, **kwargs):\n",
        "        '''\n",
        "        Helper function to visualize UAV movement through an episode\n",
        "        Arguments: A list specifying UAV positions throughout the episode\n",
        "        '''\n",
        "\n",
        "        if 'reward' not in kwargs:\n",
        "            kwargs['reward'] = 'Not known'\n",
        "        \n",
        "        buffer = 5.\n",
        "        fig, ax = plt.subplots(1, figsize=(10,10))\n",
        "        ax.set_xlim(-buffer, self.boundary_x+buffer)\n",
        "        ax.set_ylim(-buffer, self.boundary_y+buffer)\n",
        "        ax.grid()\n",
        "        UE_x = self.UE_positions[:, 0]\n",
        "        UE_y = self.UE_positions[:, 1]\n",
        "        ax.plot(UE_x, UE_y, color='black', marker='o', markersize=6, linestyle = '', label = \"UE\")\n",
        "        \n",
        "        ax.plot(np.array(kwargs['UAV_positions_list'])[:, 0] , np.array(kwargs['UAV_positions_list'])[:, 1], color=self.UAV_path_color, markersize=6, linestyle = '-', label = \"UAV Path Color\")\n",
        "        ax.plot(kwargs['UAV_positions_list'][-1][0], kwargs['UAV_positions_list'][-1][1], color='blue', marker='x', markersize=9, linestyle = '', label = \"UAV ending position\")\n",
        "        \n",
        "        UAV_coverage_area = plt.Circle((kwargs['UAV_positions_list'][-1][0], kwargs['UAV_positions_list'][-1][1]), self.C_max_t, color = self.UAV_coverage_circle_color)\n",
        "        ax.add_artist(UAV_coverage_area)\n",
        "      \n",
        "      # For testing: To plot the circle and visualize UE points inside it\n",
        "        if self.UE_center is not None:\n",
        "            Test_UE_allotment_circle = plt.Circle((self.UE_center[0] , self.UE_center[1]), self.UE_radius, color = self.EC_concentrated_region_color)\n",
        "            ax.add_artist(Test_UE_allotment_circle)\n",
        "      # End\n",
        "\n",
        "        ax.set_aspect(1)\n",
        "        # naming the x axis\n",
        "        ax.set_xlabel('X pos (m)')\n",
        "        # naming the y axis\n",
        "        ax.set_ylabel('Y pos (m)')\n",
        "        ax.set_title('UAV movement through episode')\n",
        "        # giving a title to my graph\n",
        "        # plt.title('Visually Appealing!')\n",
        "\n",
        "        # show a legend on the plot\n",
        "        ax.legend()\n",
        "        # plt.show()\n",
        "        return\n",
        "\n",
        "\n",
        "    def render_policy_plot(self, **kwargs):\n",
        "\n",
        "        fig, ax = plt.subplots(1, figsize=(10,10))\n",
        "        position_action_list = kwargs['position_action_list']\n",
        "        for position_action in position_action_list:\n",
        "            position = position_action[0]\n",
        "            action = position_action[1]\n",
        "            new_state = self.move(action, get_new_state=True)\n",
        "            ax.arrow(position[0], position[1], new_state[0] - position[0], new_state[1] - position[1], head_width=0.09, head_length=0.1)\n",
        "        plt.show()\n",
        "        return\n",
        "\n",
        "\n",
        "    def render_bar_plot(self, ax, plot_number, idx):\n",
        "        '''\n",
        "        Plotting bar graph of each UE's fraction of tasks assigned to UAV and to EC, by the last action input given to step() function\n",
        "        '''\n",
        "        x_indices = np.arange(self.UE_count)\n",
        "        width = 0.5\n",
        "\n",
        "        gamma_array = (np.array(self.last_action[4:])).reshape((self.UE_count, self.EC_count))\n",
        "        gamma_zeros = (1 - gamma_array.sum(axis = 1))\n",
        "        \n",
        "        ax[plot_number, idx].bar(x_indices, gamma_zeros, width=width)\n",
        "        for i in range(self.EC_count):\n",
        "            ax[plot_number, idx].bar(x_indices, gamma_array[:, i], width=width)\n",
        "        \n",
        "    \n",
        "    def render_position_plot(self, **kwargs):\n",
        "        '''\n",
        "        Helper function to render(), plots the current position plot on given axes. \n",
        "        Plotting position plot of UAV's current position and coverage\n",
        "        '''\n",
        "        ax = kwargs['ax']\n",
        "        plot_number = kwargs['i']\n",
        "        idx = 0\n",
        "        reward = kwargs['reward']\n",
        "\n",
        "        buffer = 5.\n",
        "        ax[plot_number, idx].set_xlim(-buffer, self.boundary_x+buffer)\n",
        "        ax[plot_number, idx].set_ylim(-buffer, self.boundary_y+buffer)\n",
        "        ax[plot_number, idx].grid()\n",
        "        UE_x = self.UE_positions[:, 0]\n",
        "        UE_y = self.UE_positions[:, 1]\n",
        "        ax[plot_number, idx].plot(UE_x, UE_y, color='black', marker='o', markersize=6, linestyle = '', label = \"UE\")\n",
        "        \n",
        "        ax[plot_number, idx].plot(self.current_state[0], self.current_state[1], color='blue', marker='x', markersize=9, linestyle = '', label = \"UAV\")\n",
        "        \n",
        "        UAV_coverage_area = plt.Circle((self.current_state[0] , self.current_state[1] ), self.C_max_t, color = self.UAV_coverage_circle_color)\n",
        "        ax[plot_number, idx].add_artist(UAV_coverage_area)\n",
        "      \n",
        "      # For testing: To plot the circle and visualize UE points inside it\n",
        "        if self.UE_center is not None:\n",
        "            Test_UE_allotment_circle = plt.Circle((self.UE_center[0] , self.UE_center[1]), self.UE_radius, color = self.EC_concentrated_region_color)\n",
        "            ax[plot_number, idx].add_artist(Test_UE_allotment_circle)\n",
        "      # End\n",
        "\n",
        "        if 'learnt_policy_visualization' in kwargs:\n",
        "            position_action_list = kwargs['position_action_list']\n",
        "            for position_action in position_action_list:\n",
        "                position = position_action[0]\n",
        "                action = position_action[1]\n",
        "                action = np.clip(action, self.action_space_lb, self.action_space_ub)\n",
        "                action = (((self.action_space_coversion_ub - self.action_space_coversion_lb) * (action + 1)) / 2) + self.action_space_coversion_lb\n",
        "                print(\"scaled action: \", action)\n",
        "                # print(\"action after scaling: \", action)\n",
        "                new_state = self.move(action, get_new_state=True, provided_center=position)\n",
        "                print(\"previous state: \", position, \", new state: \", new_state)\n",
        "                # print(\"new_state: \", new_state)\n",
        "                ax[plot_number, idx].plot(position[0], position[1], color='blue', marker='o', markersize=6, linestyle = '')\n",
        "                ax[plot_number, idx].plot(new_state[0], new_state[1], color='orange', marker='o', markersize=6, linestyle = '')\n",
        "                ax[plot_number, idx].arrow(position[0], position[1], new_state[0] - position[0], new_state[1] - position[1], head_width=0.2, head_length=0.1)\n",
        "\n",
        "\n",
        "        ax[plot_number, idx].set_aspect(1)\n",
        "        # naming the x axis\n",
        "        ax[plot_number, idx].set_xlabel('X pos (m)')\n",
        "        # naming the y axis\n",
        "        ax[plot_number, idx].set_ylabel('Y pos (m)')\n",
        "        ax[plot_number, idx].set_title('reward: ' + str(reward))\n",
        "        # giving a title to my graph\n",
        "        # plt.title('Visually Appealing!')\n",
        "\n",
        "        # show a legend on the plot\n",
        "        ax[plot_number, idx].legend()\n",
        "        # plt.show()"
      ],
      "metadata": {
        "id": "x6KVPUgwXTqh"
      },
      "execution_count": 20,
      "outputs": []
    },
    {
      "cell_type": "code",
      "source": [
        "env = Single_Agent_UAV()\n",
        "env.reset()"
      ],
      "metadata": {
        "colab": {
          "base_uri": "https://localhost:8080/"
        },
        "id": "FMIpSO4OdELG",
        "outputId": "cc757bda-99ae-49b8-db06-33f554dee154"
      },
      "execution_count": 21,
      "outputs": [
        {
          "output_type": "execute_result",
          "data": {
            "text/plain": [
              "array([ 4.86098076, 63.3775301 ])"
            ]
          },
          "metadata": {},
          "execution_count": 21
        }
      ]
    },
    {
      "cell_type": "code",
      "execution_count": 22,
      "metadata": {
        "colab": {
          "base_uri": "https://localhost:8080/",
          "height": 586
        },
        "id": "ByDx6-aJZw4q",
        "outputId": "f98586b0-9252-4a5f-e3fc-42aaf92d1dbc"
      },
      "outputs": [
        {
          "output_type": "display_data",
          "data": {
            "text/plain": [
              "<Figure size 1440x720 with 2 Axes>"
            ],
            "image/png": "[encoded data removed]"
          },
          "metadata": {
            "needs_background": "light"
          }
        }
      ],
      "source": [
        "env.render()"
      ]
    },
    {
      "cell_type": "code",
      "execution_count": 23,
      "metadata": {
        "colab": {
          "base_uri": "https://localhost:8080/"
        },
        "id": "oniXtKH9Zw4r",
        "outputId": "0fb5d735-0220-43d3-c818-ff181a94c026"
      },
      "outputs": [
        {
          "output_type": "stream",
          "name": "stdout",
          "text": [
            "Single Agent UAV env: State dimension: 2, Number of actions: 9\n"
          ]
        }
      ],
      "source": [
        "state_dims = env.state_space.shape[0]\n",
        "num_actions = env.action_space.n\n",
        "print(f\"Single Agent UAV env: State dimension: {state_dims}, Number of actions: {num_actions}\")"
      ]
    },
    {
      "cell_type": "markdown",
      "metadata": {
        "id": "SUX9NnTRZw4s"
      },
      "source": [
        "### Prepare the environment to work with PyTorch"
      ]
    },
    {
      "cell_type": "code",
      "execution_count": 24,
      "metadata": {
        "colab": {
          "base_uri": "https://localhost:8080/"
        },
        "id": "uG8d3beMZw4s",
        "outputId": "d2da1bc6-214a-41d4-b48b-1bf23ab822d2"
      },
      "outputs": [
        {
          "output_type": "stream",
          "name": "stdout",
          "text": [
            "Sample state: [  5.50159156 146.21364955]\n",
            "Next state: [  5.50159156 146.21364955], Reward: -10000, Done: False\n"
          ]
        }
      ],
      "source": [
        "state = env.reset()\n",
        "action = 2\n",
        "print(f\"Sample state: {state}\")\n",
        "next_state, reward, done, _ = env.step(action)\n",
        "print(f\"Next state: {next_state}, Reward: {reward}, Done: {done}\")"
      ]
    },
    {
      "cell_type": "code",
      "execution_count": 25,
      "metadata": {
        "colab": {
          "base_uri": "https://localhost:8080/"
        },
        "id": "khs7jcRIZw4s",
        "outputId": "1be8f84d-7963-4dfe-df6b-9b90fd57f8e0"
      },
      "outputs": [
        {
          "output_type": "stream",
          "name": "stdout",
          "text": [
            "<class 'int'>\n"
          ]
        }
      ],
      "source": [
        "action = torch.tensor(0)\n",
        "action = action.item()\n",
        "print(type(action))"
      ]
    },
    {
      "cell_type": "code",
      "execution_count": 26,
      "metadata": {
        "id": "GMoMHQh_Zw4s"
      },
      "outputs": [],
      "source": [
        "class PreprocessEnv(gym.Wrapper):\n",
        "    \n",
        "    def __init__(self, env):\n",
        "        gym.Wrapper.__init__(self, env)\n",
        "    \n",
        "    def reset(self):\n",
        "        obs = self.env.reset()\n",
        "        return torch.from_numpy(obs).unsqueeze(dim=0).float()\n",
        "    \n",
        "    def step(self, action):\n",
        "        action = action.item()\n",
        "        next_state, reward, done, info = self.env.step(action)\n",
        "        next_state = torch.from_numpy(next_state).unsqueeze(dim=0).float()\n",
        "        reward = torch.tensor(reward).view(1, -1).float()\n",
        "        done = torch.tensor(done).view(1, -1)\n",
        "        return next_state, reward, done, info"
      ]
    },
    {
      "cell_type": "code",
      "execution_count": 27,
      "metadata": {
        "id": "s01dFrxxZw4t"
      },
      "outputs": [],
      "source": [
        "env = PreprocessEnv(env)"
      ]
    },
    {
      "cell_type": "code",
      "execution_count": 28,
      "metadata": {
        "colab": {
          "base_uri": "https://localhost:8080/"
        },
        "id": "-hzDyxHAZw4t",
        "outputId": "ae4869e2-26aa-4f09-b41c-b72a05aee6fc"
      },
      "outputs": [
        {
          "output_type": "stream",
          "name": "stdout",
          "text": [
            "Sample state: tensor([135.8691,   1.3193])\n",
            "Next state: tensor([129.8691,   1.3193]), Reward: tensor([[40.]]), Done: tensor([[False]])\n"
          ]
        }
      ],
      "source": [
        "state = env.reset()\n",
        "action = torch.tensor(5)\n",
        "print(f\"Sample state: {state[0]}\")\n",
        "next_state, reward, done, _ = env.step(action)\n",
        "print(f\"Next state: {next_state[0]}, Reward: {reward}, Done: {done}\")"
      ]
    },
    {
      "cell_type": "markdown",
      "metadata": {
        "id": "9JK70lRCZw4t"
      },
      "source": [
        "## Create the Q-Network and policy\n",
        "\n",
        "<br><br>"
      ]
    },
    {
      "cell_type": "markdown",
      "metadata": {
        "id": "W7gyXm8WZw4t"
      },
      "source": [
        "![Screenshot%202021-03-11%20at%2020.23.56.png](attachment:Screenshot%202021-03-11%20at%2020.23.56.png)"
      ]
    },
    {
      "cell_type": "markdown",
      "metadata": {
        "id": "uLGNWBoxZw4t"
      },
      "source": [
        "### Create the Q-Network: $\\hat q(s,a| \\theta)$"
      ]
    },
    {
      "cell_type": "code",
      "execution_count": 29,
      "metadata": {
        "id": "n0dKR_w8Zw4u"
      },
      "outputs": [],
      "source": [
        "q_network = nn.Sequential(\n",
        "    nn.Linear(state_dims, 64),\n",
        "    nn.ReLU(),\n",
        "    nn.Linear(64,64),\n",
        "    nn.ReLU(),\n",
        "    nn.Linear(64,64),\n",
        "    nn.ReLU(),\n",
        "    nn.Linear(64,64),\n",
        "    nn.ReLU(),\n",
        "    nn.Linear(64, num_actions)   \n",
        ")"
      ]
    },
    {
      "cell_type": "markdown",
      "metadata": {
        "id": "AHKnQ3VdZw4u"
      },
      "source": [
        "### Create the target Q-Network: $\\hat q(s, a|\\theta_{targ})$"
      ]
    },
    {
      "cell_type": "code",
      "execution_count": 30,
      "metadata": {
        "id": "LYr5lGR6Zw4u"
      },
      "outputs": [],
      "source": [
        "target_q_network = copy.deepcopy(q_network).eval()"
      ]
    },
    {
      "cell_type": "markdown",
      "metadata": {
        "id": "y42KnEx-Zw4u"
      },
      "source": [
        "### Create the exploratory policy: $b(s)$"
      ]
    },
    {
      "cell_type": "code",
      "execution_count": 31,
      "metadata": {
        "id": "aGzS66hvZw4u"
      },
      "outputs": [],
      "source": [
        "def policy(state, epsilon=0.):\n",
        "    if torch.rand(1) < epsilon:\n",
        "        return torch.randint(num_actions, (1, 1))\n",
        "    else:\n",
        "        av = q_network(state).detach()\n",
        "        return torch.argmax(av, dim=-1, keepdim=True)"
      ]
    },
    {
      "cell_type": "markdown",
      "metadata": {
        "id": "PklMoP-_Zw4u"
      },
      "source": [
        "## Create the Experience Replay buffer\n",
        "\n",
        "<br>\n",
        "<div style=\"text-align:center\">\n",
        "    <p>A simple buffer that stores transitions of arbitrary values, adapted from\n",
        "    <a href=\"https://pytorch.org/tutorials/intermediate/reinforcement_q_learning.html#training\">this source.</a></p>\n",
        "</div>\n",
        "\n",
        "![Screenshot%202021-03-11%20at%2020.38.28.png](attachment:Screenshot%202021-03-11%20at%2020.38.28.png)"
      ]
    },
    {
      "cell_type": "code",
      "execution_count": 32,
      "metadata": {
        "id": "7WYHyi3PZw4v"
      },
      "outputs": [],
      "source": [
        "class ReplayMemory:\n",
        "    \n",
        "    def __init__(self, capacity=100000):\n",
        "        self.capacity = capacity\n",
        "        self.memory = []\n",
        "        self.position = 0\n",
        "\n",
        "    def insert(self, transition):\n",
        "        if len(self.memory) < self.capacity:\n",
        "            self.memory.append(None)\n",
        "        self.memory[self.position] = transition\n",
        "        self.position = (self.position + 1) % self.capacity\n",
        "\n",
        "    def sample(self, batch_size):\n",
        "        assert self.can_sample(batch_size)\n",
        "\n",
        "        batch = random.sample(self.memory, batch_size)\n",
        "        batch = zip(*batch)\n",
        "        return [torch.cat(items) for items in batch]\n",
        "\n",
        "    def can_sample(self, batch_size):\n",
        "        return len(self.memory) >= batch_size * 10\n",
        "\n",
        "    def __len__(self):\n",
        "        return len(self.memory)"
      ]
    },
    {
      "cell_type": "markdown",
      "metadata": {
        "scrolled": false,
        "id": "Cw2mANDZZw4v"
      },
      "source": [
        "## Implement the algorithm\n",
        "\n",
        "</br></br>"
      ]
    },
    {
      "cell_type": "markdown",
      "metadata": {
        "id": "FyvremJeZw4v"
      },
      "source": [
        "![Screenshot%202021-03-12%20at%2000.47.39.png](attachment:Screenshot%202021-03-12%20at%2000.47.39.png)"
      ]
    },
    {
      "cell_type": "code",
      "execution_count": 33,
      "metadata": {
        "id": "a8O_k4lDZw4v"
      },
      "outputs": [],
      "source": [
        "def deep_q_learning(q_network, policy, episodes, alpha = 0.001,\n",
        "                    batch_size = 32, gamma = 0.99, epsilon = 0.2):\n",
        "    optim = AdamW(q_network.parameters(), lr= alpha)\n",
        "    memory = ReplayMemory()\n",
        "    stats= {'MSE Loss': [], 'Average_Returns': []}\n",
        "    \n",
        "    for episode in tqdm(range(1, episodes+1)):\n",
        "        state = env.reset()\n",
        "        done = False\n",
        "        ep_return = 0.\n",
        "        print(\"-----------------------------episode \", episode, \"-----------------------------\")\n",
        "        while not done:\n",
        "            action = policy(state, epsilon)\n",
        "            # print(\"current state: \", state[0][:2])\n",
        "            # print(\"current action being taken: \", action[0][:2])\n",
        "            next_state, reward, done, _ = env.step(action)\n",
        "            memory.insert([state, action, reward, done, next_state])\n",
        "            \n",
        "            if memory.can_sample(batch_size):\n",
        "                state_b, action_b, reward_b, done_b, next_state_b = memory.sample(batch_size)\n",
        "                qsa_b = q_network(state_b).gather(1, action_b)\n",
        "                \n",
        "                next_qsa_b = target_q_network(next_state_b)\n",
        "                next_qsa_b = torch.max(next_qsa_b, dim =-1, keepdim=True)[0]\n",
        "                \n",
        "                target_b = reward_b + ~done_b * gamma * next_qsa_b\n",
        "                \n",
        "                loss = F.mse_loss(qsa_b, target_b)\n",
        "                q_network.zero_grad()\n",
        "                loss.backward()\n",
        "                optim.step()\n",
        "            \n",
        "                stats['MSE Loss'].append(loss)\n",
        "            \n",
        "            state = next_state\n",
        "            ep_return +=reward.item()\n",
        "        \n",
        "        print(\"no. of UEs covered (Reward): \", reward.item())\n",
        "        stats['Average_Returns'].append(float(ep_return) / env.timesteps_in_episode)\n",
        "    \n",
        "        if episode % 10 ==0:\n",
        "            target_q_network.load_state_dict(q_network.state_dict())\n",
        "    return stats"
      ]
    },
    {
      "cell_type": "code",
      "execution_count": 34,
      "metadata": {
        "scrolled": true,
        "colab": {
          "base_uri": "https://localhost:8080/",
          "height": 1000
        },
        "id": "XSmC6msxZw4v",
        "outputId": "3a19c5bc-0ead-4d43-ee45-07dab270b600"
      },
      "outputs": [
        {
          "output_type": "stream",
          "name": "stderr",
          "text": [
            "  0%|          | 6/5000 [00:00<02:33, 32.47it/s]"
          ]
        },
        {
          "output_type": "stream",
          "name": "stdout",
          "text": [
            "-----------------------------episode  1 -----------------------------\n",
            "no. of UEs covered (Reward):  860.0\n",
            "-----------------------------episode  2 -----------------------------\n",
            "no. of UEs covered (Reward):  190.0\n",
            "-----------------------------episode  3 -----------------------------\n",
            "no. of UEs covered (Reward):  1300.0\n",
            "-----------------------------episode  4 -----------------------------\n",
            "no. of UEs covered (Reward):  60.0\n",
            "-----------------------------episode  5 -----------------------------\n",
            "no. of UEs covered (Reward):  1140.0\n",
            "-----------------------------episode  6 -----------------------------\n",
            "no. of UEs covered (Reward):  180.0\n",
            "-----------------------------episode  7 -----------------------------\n",
            "no. of UEs covered (Reward):  100.0\n",
            "-----------------------------episode  8 -----------------------------\n",
            "no. of UEs covered (Reward):  1380.0\n",
            "-----------------------------episode  9 -----------------------------\n"
          ]
        },
        {
          "output_type": "stream",
          "name": "stderr",
          "text": [
            "\r  0%|          | 10/5000 [00:00<06:17, 13.21it/s]"
          ]
        },
        {
          "output_type": "stream",
          "name": "stdout",
          "text": [
            "no. of UEs covered (Reward):  110.0\n",
            "-----------------------------episode  10 -----------------------------\n",
            "no. of UEs covered (Reward):  140.0\n",
            "-----------------------------episode  11 -----------------------------\n"
          ]
        },
        {
          "output_type": "stream",
          "name": "stderr",
          "text": [
            "\r  0%|          | 12/5000 [00:00<07:26, 11.16it/s]"
          ]
        },
        {
          "output_type": "stream",
          "name": "stdout",
          "text": [
            "no. of UEs covered (Reward):  600.0\n",
            "-----------------------------episode  12 -----------------------------\n",
            "no. of UEs covered (Reward):  50.0\n",
            "-----------------------------episode  13 -----------------------------\n"
          ]
        },
        {
          "output_type": "stream",
          "name": "stderr",
          "text": [
            "\r  0%|          | 14/5000 [00:01<08:13, 10.11it/s]"
          ]
        },
        {
          "output_type": "stream",
          "name": "stdout",
          "text": [
            "no. of UEs covered (Reward):  60.0\n",
            "-----------------------------episode  14 -----------------------------\n",
            "no. of UEs covered (Reward):  1280.0\n",
            "-----------------------------episode  15 -----------------------------\n"
          ]
        },
        {
          "output_type": "stream",
          "name": "stderr",
          "text": [
            "\r  0%|          | 16/5000 [00:01<08:54,  9.32it/s]"
          ]
        },
        {
          "output_type": "stream",
          "name": "stdout",
          "text": [
            "no. of UEs covered (Reward):  110.0\n",
            "-----------------------------episode  16 -----------------------------\n",
            "no. of UEs covered (Reward):  660.0\n",
            "-----------------------------episode  17 -----------------------------\n"
          ]
        },
        {
          "output_type": "stream",
          "name": "stderr",
          "text": [
            "\r  0%|          | 18/5000 [00:01<09:19,  8.91it/s]"
          ]
        },
        {
          "output_type": "stream",
          "name": "stdout",
          "text": [
            "no. of UEs covered (Reward):  250.0\n",
            "-----------------------------episode  18 -----------------------------\n",
            "no. of UEs covered (Reward):  80.0\n",
            "-----------------------------episode  19 -----------------------------\n"
          ]
        },
        {
          "output_type": "stream",
          "name": "stderr",
          "text": [
            "  0%|          | 20/5000 [00:01<09:39,  8.60it/s]"
          ]
        },
        {
          "output_type": "stream",
          "name": "stdout",
          "text": [
            "no. of UEs covered (Reward):  320.0\n",
            "-----------------------------episode  20 -----------------------------\n",
            "no. of UEs covered (Reward):  240.0\n",
            "-----------------------------episode  21 -----------------------------\n"
          ]
        },
        {
          "output_type": "stream",
          "name": "stderr",
          "text": [
            "\r  0%|          | 21/5000 [00:02<09:43,  8.53it/s]"
          ]
        },
        {
          "output_type": "stream",
          "name": "stdout",
          "text": [
            "no. of UEs covered (Reward):  150.0\n",
            "-----------------------------episode  22 -----------------------------\n"
          ]
        },
        {
          "output_type": "stream",
          "name": "stderr",
          "text": [
            "  0%|          | 23/5000 [00:02<11:49,  7.02it/s]"
          ]
        },
        {
          "output_type": "stream",
          "name": "stdout",
          "text": [
            "no. of UEs covered (Reward):  330.0\n",
            "-----------------------------episode  23 -----------------------------\n",
            "no. of UEs covered (Reward):  50.0\n",
            "-----------------------------episode  24 -----------------------------\n"
          ]
        },
        {
          "output_type": "stream",
          "name": "stderr",
          "text": [
            "  0%|          | 25/5000 [00:02<11:23,  7.27it/s]"
          ]
        },
        {
          "output_type": "stream",
          "name": "stdout",
          "text": [
            "no. of UEs covered (Reward):  50.0\n",
            "-----------------------------episode  25 -----------------------------\n",
            "no. of UEs covered (Reward):  1230.0\n",
            "-----------------------------episode  26 -----------------------------\n"
          ]
        },
        {
          "output_type": "stream",
          "name": "stderr",
          "text": [
            "  1%|          | 27/5000 [00:02<11:03,  7.50it/s]"
          ]
        },
        {
          "output_type": "stream",
          "name": "stdout",
          "text": [
            "no. of UEs covered (Reward):  1270.0\n",
            "-----------------------------episode  27 -----------------------------\n",
            "no. of UEs covered (Reward):  40.0\n",
            "-----------------------------episode  28 -----------------------------\n"
          ]
        },
        {
          "output_type": "stream",
          "name": "stderr",
          "text": [
            "  1%|          | 29/5000 [00:03<10:58,  7.55it/s]"
          ]
        },
        {
          "output_type": "stream",
          "name": "stdout",
          "text": [
            "no. of UEs covered (Reward):  940.0\n",
            "-----------------------------episode  29 -----------------------------\n",
            "no. of UEs covered (Reward):  1360.0\n",
            "-----------------------------episode  30 -----------------------------\n"
          ]
        },
        {
          "output_type": "stream",
          "name": "stderr",
          "text": [
            "  1%|          | 31/5000 [00:03<11:24,  7.26it/s]"
          ]
        },
        {
          "output_type": "stream",
          "name": "stdout",
          "text": [
            "no. of UEs covered (Reward):  390.0\n",
            "-----------------------------episode  31 -----------------------------\n",
            "no. of UEs covered (Reward):  140.0\n",
            "-----------------------------episode  32 -----------------------------\n"
          ]
        },
        {
          "output_type": "stream",
          "name": "stderr",
          "text": [
            "  1%|          | 33/5000 [00:03<13:38,  6.07it/s]"
          ]
        },
        {
          "output_type": "stream",
          "name": "stdout",
          "text": [
            "no. of UEs covered (Reward):  650.0\n",
            "-----------------------------episode  33 -----------------------------\n",
            "no. of UEs covered (Reward):  250.0\n",
            "-----------------------------episode  34 -----------------------------\n"
          ]
        },
        {
          "output_type": "stream",
          "name": "stderr",
          "text": [
            "  1%|          | 35/5000 [00:04<14:51,  5.57it/s]"
          ]
        },
        {
          "output_type": "stream",
          "name": "stdout",
          "text": [
            "no. of UEs covered (Reward):  110.0\n",
            "-----------------------------episode  35 -----------------------------\n",
            "no. of UEs covered (Reward):  1360.0\n",
            "-----------------------------episode  36 -----------------------------\n"
          ]
        },
        {
          "output_type": "stream",
          "name": "stderr",
          "text": [
            "  1%|          | 37/5000 [00:04<15:52,  5.21it/s]"
          ]
        },
        {
          "output_type": "stream",
          "name": "stdout",
          "text": [
            "no. of UEs covered (Reward):  120.0\n",
            "-----------------------------episode  37 -----------------------------\n",
            "no. of UEs covered (Reward):  1170.0\n"
          ]
        },
        {
          "output_type": "stream",
          "name": "stderr",
          "text": [
            "\r  1%|          | 38/5000 [00:04<15:42,  5.26it/s]"
          ]
        },
        {
          "output_type": "stream",
          "name": "stdout",
          "text": [
            "-----------------------------episode  38 -----------------------------\n",
            "no. of UEs covered (Reward):  60.0\n",
            "-----------------------------episode  39 -----------------------------\n"
          ]
        },
        {
          "output_type": "stream",
          "name": "stderr",
          "text": [
            "  1%|          | 40/5000 [00:05<15:50,  5.22it/s]"
          ]
        },
        {
          "output_type": "stream",
          "name": "stdout",
          "text": [
            "no. of UEs covered (Reward):  70.0\n",
            "-----------------------------episode  40 -----------------------------\n",
            "no. of UEs covered (Reward):  70.0\n",
            "-----------------------------episode  41 -----------------------------\n"
          ]
        },
        {
          "output_type": "stream",
          "name": "stderr",
          "text": [
            "  1%|          | 42/5000 [00:05<16:14,  5.09it/s]"
          ]
        },
        {
          "output_type": "stream",
          "name": "stdout",
          "text": [
            "no. of UEs covered (Reward):  130.0\n",
            "-----------------------------episode  42 -----------------------------\n",
            "no. of UEs covered (Reward):  440.0\n",
            "-----------------------------episode  43 -----------------------------\n"
          ]
        },
        {
          "output_type": "stream",
          "name": "stderr",
          "text": [
            "\r  1%|          | 43/5000 [00:05<16:05,  5.13it/s]"
          ]
        },
        {
          "output_type": "stream",
          "name": "stdout",
          "text": [
            "no. of UEs covered (Reward):  450.0\n",
            "-----------------------------episode  44 -----------------------------\n"
          ]
        },
        {
          "output_type": "stream",
          "name": "stderr",
          "text": [
            "  1%|          | 45/5000 [00:06<15:38,  5.28it/s]"
          ]
        },
        {
          "output_type": "stream",
          "name": "stdout",
          "text": [
            "no. of UEs covered (Reward):  740.0\n",
            "-----------------------------episode  45 -----------------------------\n",
            "no. of UEs covered (Reward):  890.0\n",
            "-----------------------------episode  46 -----------------------------\n"
          ]
        },
        {
          "output_type": "stream",
          "name": "stderr",
          "text": [
            "  1%|          | 47/5000 [00:06<13:13,  6.24it/s]"
          ]
        },
        {
          "output_type": "stream",
          "name": "stdout",
          "text": [
            "no. of UEs covered (Reward):  1270.0\n",
            "-----------------------------episode  47 -----------------------------\n",
            "no. of UEs covered (Reward):  1370.0\n",
            "-----------------------------episode  48 -----------------------------\n"
          ]
        },
        {
          "output_type": "stream",
          "name": "stderr",
          "text": [
            "  1%|          | 49/5000 [00:06<12:01,  6.86it/s]"
          ]
        },
        {
          "output_type": "stream",
          "name": "stdout",
          "text": [
            "no. of UEs covered (Reward):  270.0\n",
            "-----------------------------episode  49 -----------------------------\n",
            "no. of UEs covered (Reward):  60.0\n",
            "-----------------------------episode  50 -----------------------------\n"
          ]
        },
        {
          "output_type": "stream",
          "name": "stderr",
          "text": [
            "  1%|          | 51/5000 [00:07<11:40,  7.07it/s]"
          ]
        },
        {
          "output_type": "stream",
          "name": "stdout",
          "text": [
            "no. of UEs covered (Reward):  110.0\n",
            "-----------------------------episode  51 -----------------------------\n",
            "no. of UEs covered (Reward):  490.0\n",
            "-----------------------------episode  52 -----------------------------\n"
          ]
        },
        {
          "output_type": "stream",
          "name": "stderr",
          "text": [
            "  1%|          | 53/5000 [00:07<11:36,  7.10it/s]"
          ]
        },
        {
          "output_type": "stream",
          "name": "stdout",
          "text": [
            "no. of UEs covered (Reward):  900.0\n",
            "-----------------------------episode  53 -----------------------------\n",
            "no. of UEs covered (Reward):  690.0\n",
            "-----------------------------episode  54 -----------------------------\n"
          ]
        },
        {
          "output_type": "stream",
          "name": "stderr",
          "text": [
            "  1%|          | 55/5000 [00:07<11:22,  7.24it/s]"
          ]
        },
        {
          "output_type": "stream",
          "name": "stdout",
          "text": [
            "no. of UEs covered (Reward):  590.0\n",
            "-----------------------------episode  55 -----------------------------\n",
            "no. of UEs covered (Reward):  70.0\n",
            "-----------------------------episode  56 -----------------------------\n"
          ]
        },
        {
          "output_type": "stream",
          "name": "stderr",
          "text": [
            "  1%|          | 57/5000 [00:07<11:25,  7.22it/s]"
          ]
        },
        {
          "output_type": "stream",
          "name": "stdout",
          "text": [
            "no. of UEs covered (Reward):  150.0\n",
            "-----------------------------episode  57 -----------------------------\n",
            "no. of UEs covered (Reward):  90.0\n",
            "-----------------------------episode  58 -----------------------------\n"
          ]
        },
        {
          "output_type": "stream",
          "name": "stderr",
          "text": [
            "  1%|          | 59/5000 [00:08<11:10,  7.37it/s]"
          ]
        },
        {
          "output_type": "stream",
          "name": "stdout",
          "text": [
            "no. of UEs covered (Reward):  500.0\n",
            "-----------------------------episode  59 -----------------------------\n",
            "no. of UEs covered (Reward):  450.0\n",
            "-----------------------------episode  60 -----------------------------\n"
          ]
        },
        {
          "output_type": "stream",
          "name": "stderr",
          "text": [
            "  1%|          | 61/5000 [00:08<11:15,  7.31it/s]"
          ]
        },
        {
          "output_type": "stream",
          "name": "stdout",
          "text": [
            "no. of UEs covered (Reward):  1180.0\n",
            "-----------------------------episode  61 -----------------------------\n",
            "no. of UEs covered (Reward):  320.0\n",
            "-----------------------------episode  62 -----------------------------\n"
          ]
        },
        {
          "output_type": "stream",
          "name": "stderr",
          "text": [
            "  1%|▏         | 63/5000 [00:08<11:11,  7.36it/s]"
          ]
        },
        {
          "output_type": "stream",
          "name": "stdout",
          "text": [
            "no. of UEs covered (Reward):  490.0\n",
            "-----------------------------episode  63 -----------------------------\n",
            "no. of UEs covered (Reward):  410.0\n",
            "-----------------------------episode  64 -----------------------------\n"
          ]
        },
        {
          "output_type": "stream",
          "name": "stderr",
          "text": [
            "  1%|▏         | 65/5000 [00:08<11:55,  6.90it/s]"
          ]
        },
        {
          "output_type": "stream",
          "name": "stdout",
          "text": [
            "no. of UEs covered (Reward):  150.0\n",
            "-----------------------------episode  65 -----------------------------\n",
            "no. of UEs covered (Reward):  90.0\n",
            "-----------------------------episode  66 -----------------------------\n"
          ]
        },
        {
          "output_type": "stream",
          "name": "stderr",
          "text": [
            "  1%|▏         | 67/5000 [00:09<11:36,  7.08it/s]"
          ]
        },
        {
          "output_type": "stream",
          "name": "stdout",
          "text": [
            "no. of UEs covered (Reward):  1240.0\n",
            "-----------------------------episode  67 -----------------------------\n",
            "no. of UEs covered (Reward):  780.0\n",
            "-----------------------------episode  68 -----------------------------\n"
          ]
        },
        {
          "output_type": "stream",
          "name": "stderr",
          "text": [
            "  1%|▏         | 69/5000 [00:09<11:23,  7.22it/s]"
          ]
        },
        {
          "output_type": "stream",
          "name": "stdout",
          "text": [
            "no. of UEs covered (Reward):  1050.0\n",
            "-----------------------------episode  69 -----------------------------\n",
            "no. of UEs covered (Reward):  650.0\n",
            "-----------------------------episode  70 -----------------------------\n"
          ]
        },
        {
          "output_type": "stream",
          "name": "stderr",
          "text": [
            "  1%|▏         | 71/5000 [00:09<11:24,  7.20it/s]"
          ]
        },
        {
          "output_type": "stream",
          "name": "stdout",
          "text": [
            "no. of UEs covered (Reward):  960.0\n",
            "-----------------------------episode  71 -----------------------------\n",
            "no. of UEs covered (Reward):  60.0\n",
            "-----------------------------episode  72 -----------------------------\n"
          ]
        },
        {
          "output_type": "stream",
          "name": "stderr",
          "text": [
            "  1%|▏         | 73/5000 [00:10<11:25,  7.19it/s]"
          ]
        },
        {
          "output_type": "stream",
          "name": "stdout",
          "text": [
            "no. of UEs covered (Reward):  1250.0\n",
            "-----------------------------episode  73 -----------------------------\n",
            "no. of UEs covered (Reward):  950.0\n",
            "-----------------------------episode  74 -----------------------------\n"
          ]
        },
        {
          "output_type": "stream",
          "name": "stderr",
          "text": [
            "  2%|▏         | 75/5000 [00:10<11:30,  7.13it/s]"
          ]
        },
        {
          "output_type": "stream",
          "name": "stdout",
          "text": [
            "no. of UEs covered (Reward):  1080.0\n",
            "-----------------------------episode  75 -----------------------------\n",
            "no. of UEs covered (Reward):  710.0\n",
            "-----------------------------episode  76 -----------------------------\n"
          ]
        },
        {
          "output_type": "stream",
          "name": "stderr",
          "text": [
            "  2%|▏         | 77/5000 [00:10<11:21,  7.22it/s]"
          ]
        },
        {
          "output_type": "stream",
          "name": "stdout",
          "text": [
            "no. of UEs covered (Reward):  870.0\n",
            "-----------------------------episode  77 -----------------------------\n",
            "no. of UEs covered (Reward):  860.0\n",
            "-----------------------------episode  78 -----------------------------\n"
          ]
        },
        {
          "output_type": "stream",
          "name": "stderr",
          "text": [
            "  2%|▏         | 79/5000 [00:10<11:16,  7.28it/s]"
          ]
        },
        {
          "output_type": "stream",
          "name": "stdout",
          "text": [
            "no. of UEs covered (Reward):  90.0\n",
            "-----------------------------episode  79 -----------------------------\n",
            "no. of UEs covered (Reward):  40.0\n",
            "-----------------------------episode  80 -----------------------------\n"
          ]
        },
        {
          "output_type": "stream",
          "name": "stderr",
          "text": [
            "  2%|▏         | 81/5000 [00:11<11:08,  7.36it/s]"
          ]
        },
        {
          "output_type": "stream",
          "name": "stdout",
          "text": [
            "no. of UEs covered (Reward):  860.0\n",
            "-----------------------------episode  81 -----------------------------\n",
            "no. of UEs covered (Reward):  230.0\n",
            "-----------------------------episode  82 -----------------------------\n"
          ]
        },
        {
          "output_type": "stream",
          "name": "stderr",
          "text": [
            "  2%|▏         | 83/5000 [00:11<10:57,  7.48it/s]"
          ]
        },
        {
          "output_type": "stream",
          "name": "stdout",
          "text": [
            "no. of UEs covered (Reward):  1130.0\n",
            "-----------------------------episode  83 -----------------------------\n",
            "no. of UEs covered (Reward):  740.0\n",
            "-----------------------------episode  84 -----------------------------\n"
          ]
        },
        {
          "output_type": "stream",
          "name": "stderr",
          "text": [
            "  2%|▏         | 85/5000 [00:11<11:07,  7.37it/s]"
          ]
        },
        {
          "output_type": "stream",
          "name": "stdout",
          "text": [
            "no. of UEs covered (Reward):  390.0\n",
            "-----------------------------episode  85 -----------------------------\n",
            "no. of UEs covered (Reward):  910.0\n",
            "-----------------------------episode  86 -----------------------------\n"
          ]
        },
        {
          "output_type": "stream",
          "name": "stderr",
          "text": [
            "  2%|▏         | 87/5000 [00:12<10:55,  7.49it/s]"
          ]
        },
        {
          "output_type": "stream",
          "name": "stdout",
          "text": [
            "no. of UEs covered (Reward):  1310.0\n",
            "-----------------------------episode  87 -----------------------------\n",
            "no. of UEs covered (Reward):  1310.0\n",
            "-----------------------------episode  88 -----------------------------\n"
          ]
        },
        {
          "output_type": "stream",
          "name": "stderr",
          "text": [
            "  2%|▏         | 89/5000 [00:12<10:51,  7.54it/s]"
          ]
        },
        {
          "output_type": "stream",
          "name": "stdout",
          "text": [
            "no. of UEs covered (Reward):  360.0\n",
            "-----------------------------episode  89 -----------------------------\n",
            "no. of UEs covered (Reward):  1200.0\n",
            "-----------------------------episode  90 -----------------------------\n"
          ]
        },
        {
          "output_type": "stream",
          "name": "stderr",
          "text": [
            "  2%|▏         | 91/5000 [00:12<10:56,  7.47it/s]"
          ]
        },
        {
          "output_type": "stream",
          "name": "stdout",
          "text": [
            "no. of UEs covered (Reward):  1240.0\n",
            "-----------------------------episode  91 -----------------------------\n",
            "no. of UEs covered (Reward):  160.0\n",
            "-----------------------------episode  92 -----------------------------\n"
          ]
        },
        {
          "output_type": "stream",
          "name": "stderr",
          "text": [
            "  2%|▏         | 93/5000 [00:12<11:03,  7.40it/s]"
          ]
        },
        {
          "output_type": "stream",
          "name": "stdout",
          "text": [
            "no. of UEs covered (Reward):  1290.0\n",
            "-----------------------------episode  93 -----------------------------\n",
            "no. of UEs covered (Reward):  690.0\n",
            "-----------------------------episode  94 -----------------------------\n"
          ]
        },
        {
          "output_type": "stream",
          "name": "stderr",
          "text": [
            "  2%|▏         | 95/5000 [00:13<11:16,  7.25it/s]"
          ]
        },
        {
          "output_type": "stream",
          "name": "stdout",
          "text": [
            "no. of UEs covered (Reward):  1270.0\n",
            "-----------------------------episode  95 -----------------------------\n",
            "no. of UEs covered (Reward):  1330.0\n",
            "-----------------------------episode  96 -----------------------------\n"
          ]
        },
        {
          "output_type": "stream",
          "name": "stderr",
          "text": [
            "  2%|▏         | 97/5000 [00:13<11:05,  7.37it/s]"
          ]
        },
        {
          "output_type": "stream",
          "name": "stdout",
          "text": [
            "no. of UEs covered (Reward):  440.0\n",
            "-----------------------------episode  97 -----------------------------\n",
            "no. of UEs covered (Reward):  490.0\n",
            "-----------------------------episode  98 -----------------------------\n"
          ]
        },
        {
          "output_type": "stream",
          "name": "stderr",
          "text": [
            "  2%|▏         | 99/5000 [00:13<10:57,  7.45it/s]"
          ]
        },
        {
          "output_type": "stream",
          "name": "stdout",
          "text": [
            "no. of UEs covered (Reward):  820.0\n",
            "-----------------------------episode  99 -----------------------------\n",
            "no. of UEs covered (Reward):  70.0\n",
            "-----------------------------episode  100 -----------------------------\n"
          ]
        },
        {
          "output_type": "stream",
          "name": "stderr",
          "text": [
            "  2%|▏         | 101/5000 [00:13<10:51,  7.52it/s]"
          ]
        },
        {
          "output_type": "stream",
          "name": "stdout",
          "text": [
            "no. of UEs covered (Reward):  1150.0\n",
            "-----------------------------episode  101 -----------------------------\n",
            "no. of UEs covered (Reward):  440.0\n",
            "-----------------------------episode  102 -----------------------------\n"
          ]
        },
        {
          "output_type": "stream",
          "name": "stderr",
          "text": [
            "  2%|▏         | 103/5000 [00:14<10:57,  7.44it/s]"
          ]
        },
        {
          "output_type": "stream",
          "name": "stdout",
          "text": [
            "no. of UEs covered (Reward):  110.0\n",
            "-----------------------------episode  103 -----------------------------\n",
            "no. of UEs covered (Reward):  370.0\n",
            "-----------------------------episode  104 -----------------------------\n"
          ]
        },
        {
          "output_type": "stream",
          "name": "stderr",
          "text": [
            "  2%|▏         | 105/5000 [00:14<10:49,  7.53it/s]"
          ]
        },
        {
          "output_type": "stream",
          "name": "stdout",
          "text": [
            "no. of UEs covered (Reward):  550.0\n",
            "-----------------------------episode  105 -----------------------------\n",
            "no. of UEs covered (Reward):  90.0\n",
            "-----------------------------episode  106 -----------------------------\n"
          ]
        },
        {
          "output_type": "stream",
          "name": "stderr",
          "text": [
            "  2%|▏         | 107/5000 [00:14<11:01,  7.39it/s]"
          ]
        },
        {
          "output_type": "stream",
          "name": "stdout",
          "text": [
            "no. of UEs covered (Reward):  1360.0\n",
            "-----------------------------episode  107 -----------------------------\n",
            "no. of UEs covered (Reward):  90.0\n",
            "-----------------------------episode  108 -----------------------------\n"
          ]
        },
        {
          "output_type": "stream",
          "name": "stderr",
          "text": [
            "  2%|▏         | 109/5000 [00:14<11:01,  7.39it/s]"
          ]
        },
        {
          "output_type": "stream",
          "name": "stdout",
          "text": [
            "no. of UEs covered (Reward):  520.0\n",
            "-----------------------------episode  109 -----------------------------\n",
            "no. of UEs covered (Reward):  70.0\n",
            "-----------------------------episode  110 -----------------------------\n"
          ]
        },
        {
          "output_type": "stream",
          "name": "stderr",
          "text": [
            "  2%|▏         | 111/5000 [00:15<11:09,  7.30it/s]"
          ]
        },
        {
          "output_type": "stream",
          "name": "stdout",
          "text": [
            "no. of UEs covered (Reward):  100.0\n",
            "-----------------------------episode  111 -----------------------------\n",
            "no. of UEs covered (Reward):  1230.0\n",
            "-----------------------------episode  112 -----------------------------\n"
          ]
        },
        {
          "output_type": "stream",
          "name": "stderr",
          "text": [
            "  2%|▏         | 113/5000 [00:15<11:12,  7.26it/s]"
          ]
        },
        {
          "output_type": "stream",
          "name": "stdout",
          "text": [
            "no. of UEs covered (Reward):  1330.0\n",
            "-----------------------------episode  113 -----------------------------\n",
            "no. of UEs covered (Reward):  1070.0\n",
            "-----------------------------episode  114 -----------------------------\n"
          ]
        },
        {
          "output_type": "stream",
          "name": "stderr",
          "text": [
            "  2%|▏         | 115/5000 [00:15<11:19,  7.19it/s]"
          ]
        },
        {
          "output_type": "stream",
          "name": "stdout",
          "text": [
            "no. of UEs covered (Reward):  880.0\n",
            "-----------------------------episode  115 -----------------------------\n",
            "no. of UEs covered (Reward):  40.0\n",
            "-----------------------------episode  116 -----------------------------\n"
          ]
        },
        {
          "output_type": "stream",
          "name": "stderr",
          "text": [
            "  2%|▏         | 117/5000 [00:16<11:17,  7.21it/s]"
          ]
        },
        {
          "output_type": "stream",
          "name": "stdout",
          "text": [
            "no. of UEs covered (Reward):  1280.0\n",
            "-----------------------------episode  117 -----------------------------\n",
            "no. of UEs covered (Reward):  900.0\n",
            "-----------------------------episode  118 -----------------------------\n"
          ]
        },
        {
          "output_type": "stream",
          "name": "stderr",
          "text": [
            "  2%|▏         | 119/5000 [00:16<12:59,  6.26it/s]"
          ]
        },
        {
          "output_type": "stream",
          "name": "stdout",
          "text": [
            "no. of UEs covered (Reward):  830.0\n",
            "-----------------------------episode  119 -----------------------------\n",
            "no. of UEs covered (Reward):  150.0\n",
            "-----------------------------episode  120 -----------------------------\n"
          ]
        },
        {
          "output_type": "stream",
          "name": "stderr",
          "text": [
            "\r  2%|▏         | 120/5000 [00:16<13:44,  5.92it/s]"
          ]
        },
        {
          "output_type": "stream",
          "name": "stdout",
          "text": [
            "no. of UEs covered (Reward):  1260.0\n",
            "-----------------------------episode  121 -----------------------------\n"
          ]
        },
        {
          "output_type": "stream",
          "name": "stderr",
          "text": [
            "  2%|▏         | 122/5000 [00:17<15:20,  5.30it/s]"
          ]
        },
        {
          "output_type": "stream",
          "name": "stdout",
          "text": [
            "no. of UEs covered (Reward):  30.0\n",
            "-----------------------------episode  122 -----------------------------\n",
            "no. of UEs covered (Reward):  1240.0\n",
            "-----------------------------episode  123 -----------------------------\n"
          ]
        },
        {
          "output_type": "stream",
          "name": "stderr",
          "text": [
            "  2%|▏         | 124/5000 [00:17<15:08,  5.37it/s]"
          ]
        },
        {
          "output_type": "stream",
          "name": "stdout",
          "text": [
            "no. of UEs covered (Reward):  150.0\n",
            "-----------------------------episode  124 -----------------------------\n",
            "no. of UEs covered (Reward):  50.0\n",
            "-----------------------------episode  125 -----------------------------\n"
          ]
        },
        {
          "output_type": "stream",
          "name": "stderr",
          "text": [
            "  3%|▎         | 126/5000 [00:17<15:14,  5.33it/s]"
          ]
        },
        {
          "output_type": "stream",
          "name": "stdout",
          "text": [
            "no. of UEs covered (Reward):  1350.0\n",
            "-----------------------------episode  126 -----------------------------\n",
            "no. of UEs covered (Reward):  70.0\n",
            "-----------------------------episode  127 -----------------------------\n"
          ]
        },
        {
          "output_type": "stream",
          "name": "stderr",
          "text": [
            "  3%|▎         | 128/5000 [00:18<15:21,  5.29it/s]"
          ]
        },
        {
          "output_type": "stream",
          "name": "stdout",
          "text": [
            "no. of UEs covered (Reward):  80.0\n",
            "-----------------------------episode  128 -----------------------------\n",
            "no. of UEs covered (Reward):  90.0\n",
            "-----------------------------episode  129 -----------------------------\n"
          ]
        },
        {
          "output_type": "stream",
          "name": "stderr",
          "text": [
            "  3%|▎         | 130/5000 [00:18<15:37,  5.20it/s]"
          ]
        },
        {
          "output_type": "stream",
          "name": "stdout",
          "text": [
            "no. of UEs covered (Reward):  1100.0\n",
            "-----------------------------episode  130 -----------------------------\n",
            "no. of UEs covered (Reward):  1180.0\n",
            "-----------------------------episode  131 -----------------------------\n"
          ]
        },
        {
          "output_type": "stream",
          "name": "stderr",
          "text": [
            "  3%|▎         | 132/5000 [00:19<16:08,  5.03it/s]"
          ]
        },
        {
          "output_type": "stream",
          "name": "stdout",
          "text": [
            "no. of UEs covered (Reward):  1220.0\n",
            "-----------------------------episode  132 -----------------------------\n",
            "no. of UEs covered (Reward):  1350.0\n",
            "-----------------------------episode  133 -----------------------------\n"
          ]
        },
        {
          "output_type": "stream",
          "name": "stderr",
          "text": [
            "  3%|▎         | 134/5000 [00:19<13:21,  6.07it/s]"
          ]
        },
        {
          "output_type": "stream",
          "name": "stdout",
          "text": [
            "no. of UEs covered (Reward):  1340.0\n",
            "-----------------------------episode  134 -----------------------------\n",
            "no. of UEs covered (Reward):  1290.0\n",
            "-----------------------------episode  135 -----------------------------\n"
          ]
        },
        {
          "output_type": "stream",
          "name": "stderr",
          "text": [
            "  3%|▎         | 136/5000 [00:19<12:02,  6.74it/s]"
          ]
        },
        {
          "output_type": "stream",
          "name": "stdout",
          "text": [
            "no. of UEs covered (Reward):  90.0\n",
            "-----------------------------episode  136 -----------------------------\n",
            "no. of UEs covered (Reward):  640.0\n",
            "-----------------------------episode  137 -----------------------------\n"
          ]
        },
        {
          "output_type": "stream",
          "name": "stderr",
          "text": [
            "  3%|▎         | 138/5000 [00:19<11:27,  7.07it/s]"
          ]
        },
        {
          "output_type": "stream",
          "name": "stdout",
          "text": [
            "no. of UEs covered (Reward):  1310.0\n",
            "-----------------------------episode  138 -----------------------------\n",
            "no. of UEs covered (Reward):  1340.0\n",
            "-----------------------------episode  139 -----------------------------\n"
          ]
        },
        {
          "output_type": "stream",
          "name": "stderr",
          "text": [
            "  3%|▎         | 140/5000 [00:20<11:11,  7.24it/s]"
          ]
        },
        {
          "output_type": "stream",
          "name": "stdout",
          "text": [
            "no. of UEs covered (Reward):  90.0\n",
            "-----------------------------episode  140 -----------------------------\n",
            "no. of UEs covered (Reward):  720.0\n",
            "-----------------------------episode  141 -----------------------------\n"
          ]
        },
        {
          "output_type": "stream",
          "name": "stderr",
          "text": [
            "  3%|▎         | 142/5000 [00:20<11:48,  6.86it/s]"
          ]
        },
        {
          "output_type": "stream",
          "name": "stdout",
          "text": [
            "no. of UEs covered (Reward):  30.0\n",
            "-----------------------------episode  142 -----------------------------\n",
            "no. of UEs covered (Reward):  1330.0\n",
            "-----------------------------episode  143 -----------------------------\n"
          ]
        },
        {
          "output_type": "stream",
          "name": "stderr",
          "text": [
            "  3%|▎         | 144/5000 [00:20<11:41,  6.92it/s]"
          ]
        },
        {
          "output_type": "stream",
          "name": "stdout",
          "text": [
            "no. of UEs covered (Reward):  970.0\n",
            "-----------------------------episode  144 -----------------------------\n",
            "no. of UEs covered (Reward):  1110.0\n",
            "-----------------------------episode  145 -----------------------------\n"
          ]
        },
        {
          "output_type": "stream",
          "name": "stderr",
          "text": [
            "  3%|▎         | 146/5000 [00:20<11:35,  6.98it/s]"
          ]
        },
        {
          "output_type": "stream",
          "name": "stdout",
          "text": [
            "no. of UEs covered (Reward):  130.0\n",
            "-----------------------------episode  146 -----------------------------\n",
            "no. of UEs covered (Reward):  1230.0\n",
            "-----------------------------episode  147 -----------------------------\n"
          ]
        },
        {
          "output_type": "stream",
          "name": "stderr",
          "text": [
            "  3%|▎         | 148/5000 [00:21<11:13,  7.21it/s]"
          ]
        },
        {
          "output_type": "stream",
          "name": "stdout",
          "text": [
            "no. of UEs covered (Reward):  820.0\n",
            "-----------------------------episode  148 -----------------------------\n",
            "no. of UEs covered (Reward):  1070.0\n",
            "-----------------------------episode  149 -----------------------------\n"
          ]
        },
        {
          "output_type": "stream",
          "name": "stderr",
          "text": [
            "  3%|▎         | 150/5000 [00:21<11:17,  7.15it/s]"
          ]
        },
        {
          "output_type": "stream",
          "name": "stdout",
          "text": [
            "no. of UEs covered (Reward):  60.0\n",
            "-----------------------------episode  150 -----------------------------\n",
            "no. of UEs covered (Reward):  1190.0\n",
            "-----------------------------episode  151 -----------------------------\n"
          ]
        },
        {
          "output_type": "stream",
          "name": "stderr",
          "text": [
            "  3%|▎         | 152/5000 [00:21<11:25,  7.07it/s]"
          ]
        },
        {
          "output_type": "stream",
          "name": "stdout",
          "text": [
            "no. of UEs covered (Reward):  1370.0\n",
            "-----------------------------episode  152 -----------------------------\n",
            "no. of UEs covered (Reward):  1280.0\n",
            "-----------------------------episode  153 -----------------------------\n"
          ]
        },
        {
          "output_type": "stream",
          "name": "stderr",
          "text": [
            "  3%|▎         | 154/5000 [00:22<11:01,  7.33it/s]"
          ]
        },
        {
          "output_type": "stream",
          "name": "stdout",
          "text": [
            "no. of UEs covered (Reward):  1370.0\n",
            "-----------------------------episode  154 -----------------------------\n",
            "no. of UEs covered (Reward):  140.0\n",
            "-----------------------------episode  155 -----------------------------\n"
          ]
        },
        {
          "output_type": "stream",
          "name": "stderr",
          "text": [
            "  3%|▎         | 156/5000 [00:22<10:43,  7.53it/s]"
          ]
        },
        {
          "output_type": "stream",
          "name": "stdout",
          "text": [
            "no. of UEs covered (Reward):  1370.0\n",
            "-----------------------------episode  156 -----------------------------\n",
            "no. of UEs covered (Reward):  40.0\n",
            "-----------------------------episode  157 -----------------------------\n"
          ]
        },
        {
          "output_type": "stream",
          "name": "stderr",
          "text": [
            "  3%|▎         | 158/5000 [00:22<10:45,  7.50it/s]"
          ]
        },
        {
          "output_type": "stream",
          "name": "stdout",
          "text": [
            "no. of UEs covered (Reward):  110.0\n",
            "-----------------------------episode  158 -----------------------------\n",
            "no. of UEs covered (Reward):  130.0\n",
            "-----------------------------episode  159 -----------------------------\n"
          ]
        },
        {
          "output_type": "stream",
          "name": "stderr",
          "text": [
            "  3%|▎         | 160/5000 [00:22<11:01,  7.32it/s]"
          ]
        },
        {
          "output_type": "stream",
          "name": "stdout",
          "text": [
            "no. of UEs covered (Reward):  70.0\n",
            "-----------------------------episode  160 -----------------------------\n",
            "no. of UEs covered (Reward):  1370.0\n",
            "-----------------------------episode  161 -----------------------------\n"
          ]
        },
        {
          "output_type": "stream",
          "name": "stderr",
          "text": [
            "  3%|▎         | 162/5000 [00:23<10:50,  7.43it/s]"
          ]
        },
        {
          "output_type": "stream",
          "name": "stdout",
          "text": [
            "no. of UEs covered (Reward):  650.0\n",
            "-----------------------------episode  162 -----------------------------\n",
            "no. of UEs covered (Reward):  700.0\n",
            "-----------------------------episode  163 -----------------------------\n"
          ]
        },
        {
          "output_type": "stream",
          "name": "stderr",
          "text": [
            "  3%|▎         | 164/5000 [00:23<10:44,  7.51it/s]"
          ]
        },
        {
          "output_type": "stream",
          "name": "stdout",
          "text": [
            "no. of UEs covered (Reward):  610.0\n",
            "-----------------------------episode  164 -----------------------------\n",
            "no. of UEs covered (Reward):  710.0\n",
            "-----------------------------episode  165 -----------------------------\n"
          ]
        },
        {
          "output_type": "stream",
          "name": "stderr",
          "text": [
            "  3%|▎         | 166/5000 [00:23<10:37,  7.58it/s]"
          ]
        },
        {
          "output_type": "stream",
          "name": "stdout",
          "text": [
            "no. of UEs covered (Reward):  780.0\n",
            "-----------------------------episode  166 -----------------------------\n",
            "no. of UEs covered (Reward):  500.0\n",
            "-----------------------------episode  167 -----------------------------\n"
          ]
        },
        {
          "output_type": "stream",
          "name": "stderr",
          "text": [
            "  3%|▎         | 168/5000 [00:23<10:47,  7.46it/s]"
          ]
        },
        {
          "output_type": "stream",
          "name": "stdout",
          "text": [
            "no. of UEs covered (Reward):  520.0\n",
            "-----------------------------episode  168 -----------------------------\n",
            "no. of UEs covered (Reward):  1380.0\n",
            "-----------------------------episode  169 -----------------------------\n"
          ]
        },
        {
          "output_type": "stream",
          "name": "stderr",
          "text": [
            "  3%|▎         | 170/5000 [00:24<10:38,  7.57it/s]"
          ]
        },
        {
          "output_type": "stream",
          "name": "stdout",
          "text": [
            "no. of UEs covered (Reward):  920.0\n",
            "-----------------------------episode  170 -----------------------------\n",
            "no. of UEs covered (Reward):  1110.0\n",
            "-----------------------------episode  171 -----------------------------\n"
          ]
        },
        {
          "output_type": "stream",
          "name": "stderr",
          "text": [
            "  3%|▎         | 172/5000 [00:24<10:54,  7.37it/s]"
          ]
        },
        {
          "output_type": "stream",
          "name": "stdout",
          "text": [
            "no. of UEs covered (Reward):  820.0\n",
            "-----------------------------episode  172 -----------------------------\n",
            "no. of UEs covered (Reward):  620.0\n",
            "-----------------------------episode  173 -----------------------------\n"
          ]
        },
        {
          "output_type": "stream",
          "name": "stderr",
          "text": [
            "  3%|▎         | 174/5000 [00:24<10:55,  7.37it/s]"
          ]
        },
        {
          "output_type": "stream",
          "name": "stdout",
          "text": [
            "no. of UEs covered (Reward):  660.0\n",
            "-----------------------------episode  174 -----------------------------\n",
            "no. of UEs covered (Reward):  170.0\n",
            "-----------------------------episode  175 -----------------------------\n"
          ]
        },
        {
          "output_type": "stream",
          "name": "stderr",
          "text": [
            "  4%|▎         | 176/5000 [00:25<11:02,  7.29it/s]"
          ]
        },
        {
          "output_type": "stream",
          "name": "stdout",
          "text": [
            "no. of UEs covered (Reward):  1370.0\n",
            "-----------------------------episode  176 -----------------------------\n",
            "no. of UEs covered (Reward):  460.0\n",
            "-----------------------------episode  177 -----------------------------\n"
          ]
        },
        {
          "output_type": "stream",
          "name": "stderr",
          "text": [
            "  4%|▎         | 178/5000 [00:25<11:01,  7.29it/s]"
          ]
        },
        {
          "output_type": "stream",
          "name": "stdout",
          "text": [
            "no. of UEs covered (Reward):  1120.0\n",
            "-----------------------------episode  178 -----------------------------\n",
            "no. of UEs covered (Reward):  720.0\n",
            "-----------------------------episode  179 -----------------------------\n"
          ]
        },
        {
          "output_type": "stream",
          "name": "stderr",
          "text": [
            "  4%|▎         | 180/5000 [00:25<10:59,  7.31it/s]"
          ]
        },
        {
          "output_type": "stream",
          "name": "stdout",
          "text": [
            "no. of UEs covered (Reward):  510.0\n",
            "-----------------------------episode  180 -----------------------------\n",
            "no. of UEs covered (Reward):  1250.0\n",
            "-----------------------------episode  181 -----------------------------\n"
          ]
        },
        {
          "output_type": "stream",
          "name": "stderr",
          "text": [
            "  4%|▎         | 182/5000 [00:25<11:08,  7.21it/s]"
          ]
        },
        {
          "output_type": "stream",
          "name": "stdout",
          "text": [
            "no. of UEs covered (Reward):  520.0\n",
            "-----------------------------episode  182 -----------------------------\n",
            "no. of UEs covered (Reward):  430.0\n",
            "-----------------------------episode  183 -----------------------------\n"
          ]
        },
        {
          "output_type": "stream",
          "name": "stderr",
          "text": [
            "  4%|▎         | 184/5000 [00:26<11:00,  7.30it/s]"
          ]
        },
        {
          "output_type": "stream",
          "name": "stdout",
          "text": [
            "no. of UEs covered (Reward):  1370.0\n",
            "-----------------------------episode  184 -----------------------------\n",
            "no. of UEs covered (Reward):  640.0\n",
            "-----------------------------episode  185 -----------------------------\n"
          ]
        },
        {
          "output_type": "stream",
          "name": "stderr",
          "text": [
            "  4%|▎         | 186/5000 [00:26<10:46,  7.45it/s]"
          ]
        },
        {
          "output_type": "stream",
          "name": "stdout",
          "text": [
            "no. of UEs covered (Reward):  1380.0\n",
            "-----------------------------episode  186 -----------------------------\n",
            "no. of UEs covered (Reward):  1370.0\n",
            "-----------------------------episode  187 -----------------------------\n"
          ]
        },
        {
          "output_type": "stream",
          "name": "stderr",
          "text": [
            "  4%|▍         | 188/5000 [00:26<10:40,  7.51it/s]"
          ]
        },
        {
          "output_type": "stream",
          "name": "stdout",
          "text": [
            "no. of UEs covered (Reward):  20.0\n",
            "-----------------------------episode  188 -----------------------------\n",
            "no. of UEs covered (Reward):  130.0\n",
            "-----------------------------episode  189 -----------------------------\n"
          ]
        },
        {
          "output_type": "stream",
          "name": "stderr",
          "text": [
            "  4%|▍         | 190/5000 [00:26<10:49,  7.40it/s]"
          ]
        },
        {
          "output_type": "stream",
          "name": "stdout",
          "text": [
            "no. of UEs covered (Reward):  810.0\n",
            "-----------------------------episode  190 -----------------------------\n",
            "no. of UEs covered (Reward):  740.0\n",
            "-----------------------------episode  191 -----------------------------\n"
          ]
        },
        {
          "output_type": "stream",
          "name": "stderr",
          "text": [
            "  4%|▍         | 192/5000 [00:27<10:30,  7.62it/s]"
          ]
        },
        {
          "output_type": "stream",
          "name": "stdout",
          "text": [
            "no. of UEs covered (Reward):  1370.0\n",
            "-----------------------------episode  192 -----------------------------\n",
            "no. of UEs covered (Reward):  1290.0\n",
            "-----------------------------episode  193 -----------------------------\n"
          ]
        },
        {
          "output_type": "stream",
          "name": "stderr",
          "text": [
            "  4%|▍         | 194/5000 [00:27<10:47,  7.42it/s]"
          ]
        },
        {
          "output_type": "stream",
          "name": "stdout",
          "text": [
            "no. of UEs covered (Reward):  1340.0\n",
            "-----------------------------episode  194 -----------------------------\n",
            "no. of UEs covered (Reward):  580.0\n",
            "-----------------------------episode  195 -----------------------------\n"
          ]
        },
        {
          "output_type": "stream",
          "name": "stderr",
          "text": [
            "  4%|▍         | 196/5000 [00:27<10:46,  7.43it/s]"
          ]
        },
        {
          "output_type": "stream",
          "name": "stdout",
          "text": [
            "no. of UEs covered (Reward):  1000.0\n",
            "-----------------------------episode  196 -----------------------------\n",
            "no. of UEs covered (Reward):  1370.0\n",
            "-----------------------------episode  197 -----------------------------\n"
          ]
        },
        {
          "output_type": "stream",
          "name": "stderr",
          "text": [
            "  4%|▍         | 198/5000 [00:28<10:56,  7.31it/s]"
          ]
        },
        {
          "output_type": "stream",
          "name": "stdout",
          "text": [
            "no. of UEs covered (Reward):  1030.0\n",
            "-----------------------------episode  198 -----------------------------\n",
            "no. of UEs covered (Reward):  1380.0\n",
            "-----------------------------episode  199 -----------------------------\n"
          ]
        },
        {
          "output_type": "stream",
          "name": "stderr",
          "text": [
            "  4%|▍         | 200/5000 [00:28<10:46,  7.43it/s]"
          ]
        },
        {
          "output_type": "stream",
          "name": "stdout",
          "text": [
            "no. of UEs covered (Reward):  1370.0\n",
            "-----------------------------episode  200 -----------------------------\n",
            "no. of UEs covered (Reward):  1180.0\n",
            "-----------------------------episode  201 -----------------------------\n"
          ]
        },
        {
          "output_type": "stream",
          "name": "stderr",
          "text": [
            "  4%|▍         | 202/5000 [00:28<10:40,  7.50it/s]"
          ]
        },
        {
          "output_type": "stream",
          "name": "stdout",
          "text": [
            "no. of UEs covered (Reward):  1030.0\n",
            "-----------------------------episode  202 -----------------------------\n",
            "no. of UEs covered (Reward):  1320.0\n",
            "-----------------------------episode  203 -----------------------------\n"
          ]
        },
        {
          "output_type": "stream",
          "name": "stderr",
          "text": [
            "  4%|▍         | 204/5000 [00:28<10:43,  7.46it/s]"
          ]
        },
        {
          "output_type": "stream",
          "name": "stdout",
          "text": [
            "no. of UEs covered (Reward):  1120.0\n",
            "-----------------------------episode  204 -----------------------------\n",
            "no. of UEs covered (Reward):  1370.0\n",
            "-----------------------------episode  205 -----------------------------\n"
          ]
        },
        {
          "output_type": "stream",
          "name": "stderr",
          "text": [
            "  4%|▍         | 206/5000 [00:29<11:31,  6.93it/s]"
          ]
        },
        {
          "output_type": "stream",
          "name": "stdout",
          "text": [
            "no. of UEs covered (Reward):  560.0\n",
            "-----------------------------episode  206 -----------------------------\n",
            "no. of UEs covered (Reward):  1310.0\n",
            "-----------------------------episode  207 -----------------------------\n"
          ]
        },
        {
          "output_type": "stream",
          "name": "stderr",
          "text": [
            "  4%|▍         | 208/5000 [00:29<13:21,  5.98it/s]"
          ]
        },
        {
          "output_type": "stream",
          "name": "stdout",
          "text": [
            "no. of UEs covered (Reward):  370.0\n",
            "-----------------------------episode  208 -----------------------------\n",
            "no. of UEs covered (Reward):  1260.0\n",
            "-----------------------------episode  209 -----------------------------\n"
          ]
        },
        {
          "output_type": "stream",
          "name": "stderr",
          "text": [
            "  4%|▍         | 210/5000 [00:29<14:08,  5.65it/s]"
          ]
        },
        {
          "output_type": "stream",
          "name": "stdout",
          "text": [
            "no. of UEs covered (Reward):  1390.0\n",
            "-----------------------------episode  210 -----------------------------\n",
            "no. of UEs covered (Reward):  810.0\n",
            "-----------------------------episode  211 -----------------------------\n"
          ]
        },
        {
          "output_type": "stream",
          "name": "stderr",
          "text": [
            "  4%|▍         | 212/5000 [00:30<14:59,  5.32it/s]"
          ]
        },
        {
          "output_type": "stream",
          "name": "stdout",
          "text": [
            "no. of UEs covered (Reward):  420.0\n",
            "-----------------------------episode  212 -----------------------------\n",
            "no. of UEs covered (Reward):  1380.0\n",
            "-----------------------------episode  213 -----------------------------\n"
          ]
        },
        {
          "output_type": "stream",
          "name": "stderr",
          "text": [
            "\r  4%|▍         | 213/5000 [00:30<15:49,  5.04it/s]"
          ]
        },
        {
          "output_type": "stream",
          "name": "stdout",
          "text": [
            "no. of UEs covered (Reward):  890.0\n",
            "-----------------------------episode  214 -----------------------------\n",
            "no. of UEs covered (Reward): "
          ]
        },
        {
          "output_type": "stream",
          "name": "stderr",
          "text": [
            "  4%|▍         | 215/5000 [00:30<15:38,  5.10it/s]"
          ]
        },
        {
          "output_type": "stream",
          "name": "stdout",
          "text": [
            " 760.0\n",
            "-----------------------------episode  215 -----------------------------\n",
            "no. of UEs covered (Reward):  1370.0\n",
            "-----------------------------episode  216 -----------------------------\n"
          ]
        },
        {
          "output_type": "stream",
          "name": "stderr",
          "text": [
            "  4%|▍         | 217/5000 [00:31<15:34,  5.12it/s]"
          ]
        },
        {
          "output_type": "stream",
          "name": "stdout",
          "text": [
            "no. of UEs covered (Reward):  1380.0\n",
            "-----------------------------episode  217 -----------------------------\n",
            "no. of UEs covered (Reward):  280.0\n",
            "-----------------------------episode  218 -----------------------------\n"
          ]
        },
        {
          "output_type": "stream",
          "name": "stderr",
          "text": [
            "  4%|▍         | 219/5000 [00:31<15:37,  5.10it/s]"
          ]
        },
        {
          "output_type": "stream",
          "name": "stdout",
          "text": [
            "no. of UEs covered (Reward):  1380.0\n",
            "-----------------------------episode  219 -----------------------------\n",
            "no. of UEs covered (Reward):  1370.0\n",
            "-----------------------------episode  220 -----------------------------\n"
          ]
        },
        {
          "output_type": "stream",
          "name": "stderr",
          "text": [
            "  4%|▍         | 221/5000 [00:31<13:27,  5.92it/s]"
          ]
        },
        {
          "output_type": "stream",
          "name": "stdout",
          "text": [
            "no. of UEs covered (Reward):  1050.0\n",
            "-----------------------------episode  221 -----------------------------\n",
            "no. of UEs covered (Reward):  1050.0\n",
            "-----------------------------episode  222 -----------------------------\n"
          ]
        },
        {
          "output_type": "stream",
          "name": "stderr",
          "text": [
            "  4%|▍         | 223/5000 [00:32<11:53,  6.70it/s]"
          ]
        },
        {
          "output_type": "stream",
          "name": "stdout",
          "text": [
            "no. of UEs covered (Reward):  1200.0\n",
            "-----------------------------episode  223 -----------------------------\n",
            "no. of UEs covered (Reward):  460.0\n",
            "-----------------------------episode  224 -----------------------------\n"
          ]
        },
        {
          "output_type": "stream",
          "name": "stderr",
          "text": [
            "  4%|▍         | 225/5000 [00:32<11:28,  6.93it/s]"
          ]
        },
        {
          "output_type": "stream",
          "name": "stdout",
          "text": [
            "no. of UEs covered (Reward):  630.0\n",
            "-----------------------------episode  225 -----------------------------\n",
            "no. of UEs covered (Reward):  620.0\n",
            "-----------------------------episode  226 -----------------------------\n"
          ]
        },
        {
          "output_type": "stream",
          "name": "stderr",
          "text": [
            "  5%|▍         | 227/5000 [00:32<10:54,  7.30it/s]"
          ]
        },
        {
          "output_type": "stream",
          "name": "stdout",
          "text": [
            "no. of UEs covered (Reward):  1310.0\n",
            "-----------------------------episode  227 -----------------------------\n",
            "no. of UEs covered (Reward):  1370.0\n",
            "-----------------------------episode  228 -----------------------------\n"
          ]
        },
        {
          "output_type": "stream",
          "name": "stderr",
          "text": [
            "  5%|▍         | 229/5000 [00:33<10:51,  7.33it/s]"
          ]
        },
        {
          "output_type": "stream",
          "name": "stdout",
          "text": [
            "no. of UEs covered (Reward):  1370.0\n",
            "-----------------------------episode  229 -----------------------------\n",
            "no. of UEs covered (Reward):  1310.0\n",
            "-----------------------------episode  230 -----------------------------\n"
          ]
        },
        {
          "output_type": "stream",
          "name": "stderr",
          "text": [
            "  5%|▍         | 231/5000 [00:33<10:58,  7.24it/s]"
          ]
        },
        {
          "output_type": "stream",
          "name": "stdout",
          "text": [
            "no. of UEs covered (Reward):  1180.0\n",
            "-----------------------------episode  231 -----------------------------\n",
            "no. of UEs covered (Reward):  550.0\n",
            "-----------------------------episode  232 -----------------------------\n"
          ]
        },
        {
          "output_type": "stream",
          "name": "stderr",
          "text": [
            "  5%|▍         | 233/5000 [00:33<10:56,  7.26it/s]"
          ]
        },
        {
          "output_type": "stream",
          "name": "stdout",
          "text": [
            "no. of UEs covered (Reward):  1280.0\n",
            "-----------------------------episode  233 -----------------------------\n",
            "no. of UEs covered (Reward):  1350.0\n",
            "-----------------------------episode  234 -----------------------------\n"
          ]
        },
        {
          "output_type": "stream",
          "name": "stderr",
          "text": [
            "  5%|▍         | 235/5000 [00:33<10:46,  7.37it/s]"
          ]
        },
        {
          "output_type": "stream",
          "name": "stdout",
          "text": [
            "no. of UEs covered (Reward):  1380.0\n",
            "-----------------------------episode  235 -----------------------------\n",
            "no. of UEs covered (Reward):  350.0\n",
            "-----------------------------episode  236 -----------------------------\n"
          ]
        },
        {
          "output_type": "stream",
          "name": "stderr",
          "text": [
            "  5%|▍         | 237/5000 [00:34<11:00,  7.21it/s]"
          ]
        },
        {
          "output_type": "stream",
          "name": "stdout",
          "text": [
            "no. of UEs covered (Reward):  1340.0\n",
            "-----------------------------episode  237 -----------------------------\n",
            "no. of UEs covered (Reward):  1380.0\n",
            "-----------------------------episode  238 -----------------------------\n"
          ]
        },
        {
          "output_type": "stream",
          "name": "stderr",
          "text": [
            "  5%|▍         | 239/5000 [00:34<10:48,  7.34it/s]"
          ]
        },
        {
          "output_type": "stream",
          "name": "stdout",
          "text": [
            "no. of UEs covered (Reward):  1170.0\n",
            "-----------------------------episode  239 -----------------------------\n",
            "no. of UEs covered (Reward):  1380.0\n",
            "-----------------------------episode  240 -----------------------------\n"
          ]
        },
        {
          "output_type": "stream",
          "name": "stderr",
          "text": [
            "  5%|▍         | 241/5000 [00:34<10:39,  7.45it/s]"
          ]
        },
        {
          "output_type": "stream",
          "name": "stdout",
          "text": [
            "no. of UEs covered (Reward):  710.0\n",
            "-----------------------------episode  241 -----------------------------\n",
            "no. of UEs covered (Reward):  730.0\n",
            "-----------------------------episode  242 -----------------------------\n"
          ]
        },
        {
          "output_type": "stream",
          "name": "stderr",
          "text": [
            "  5%|▍         | 243/5000 [00:34<10:29,  7.55it/s]"
          ]
        },
        {
          "output_type": "stream",
          "name": "stdout",
          "text": [
            "no. of UEs covered (Reward):  1370.0\n",
            "-----------------------------episode  243 -----------------------------\n",
            "no. of UEs covered (Reward):  1370.0\n",
            "-----------------------------episode  244 -----------------------------\n"
          ]
        },
        {
          "output_type": "stream",
          "name": "stderr",
          "text": [
            "  5%|▍         | 245/5000 [00:35<10:25,  7.60it/s]"
          ]
        },
        {
          "output_type": "stream",
          "name": "stdout",
          "text": [
            "no. of UEs covered (Reward):  850.0\n",
            "-----------------------------episode  245 -----------------------------\n",
            "no. of UEs covered (Reward):  1340.0\n",
            "-----------------------------episode  246 -----------------------------\n"
          ]
        },
        {
          "output_type": "stream",
          "name": "stderr",
          "text": [
            "  5%|▍         | 247/5000 [00:35<10:48,  7.33it/s]"
          ]
        },
        {
          "output_type": "stream",
          "name": "stdout",
          "text": [
            "no. of UEs covered (Reward):  1390.0\n",
            "-----------------------------episode  247 -----------------------------\n",
            "no. of UEs covered (Reward):  1370.0\n",
            "-----------------------------episode  248 -----------------------------\n"
          ]
        },
        {
          "output_type": "stream",
          "name": "stderr",
          "text": [
            "  5%|▍         | 249/5000 [00:35<10:53,  7.27it/s]"
          ]
        },
        {
          "output_type": "stream",
          "name": "stdout",
          "text": [
            "no. of UEs covered (Reward):  730.0\n",
            "-----------------------------episode  249 -----------------------------\n",
            "no. of UEs covered (Reward):  940.0\n",
            "-----------------------------episode  250 -----------------------------\n"
          ]
        },
        {
          "output_type": "stream",
          "name": "stderr",
          "text": [
            "  5%|▌         | 251/5000 [00:36<10:43,  7.39it/s]"
          ]
        },
        {
          "output_type": "stream",
          "name": "stdout",
          "text": [
            "no. of UEs covered (Reward):  1120.0\n",
            "-----------------------------episode  251 -----------------------------\n",
            "no. of UEs covered (Reward):  1300.0\n",
            "-----------------------------episode  252 -----------------------------\n"
          ]
        },
        {
          "output_type": "stream",
          "name": "stderr",
          "text": [
            "  5%|▌         | 253/5000 [00:36<11:02,  7.16it/s]"
          ]
        },
        {
          "output_type": "stream",
          "name": "stdout",
          "text": [
            "no. of UEs covered (Reward):  1380.0\n",
            "-----------------------------episode  253 -----------------------------\n",
            "no. of UEs covered (Reward):  1380.0\n",
            "-----------------------------episode  254 -----------------------------\n"
          ]
        },
        {
          "output_type": "stream",
          "name": "stderr",
          "text": [
            "  5%|▌         | 255/5000 [00:36<11:06,  7.12it/s]"
          ]
        },
        {
          "output_type": "stream",
          "name": "stdout",
          "text": [
            "no. of UEs covered (Reward):  1380.0\n",
            "-----------------------------episode  255 -----------------------------\n",
            "no. of UEs covered (Reward):  710.0\n",
            "-----------------------------episode  256 -----------------------------\n"
          ]
        },
        {
          "output_type": "stream",
          "name": "stderr",
          "text": [
            "  5%|▌         | 257/5000 [00:36<10:48,  7.31it/s]"
          ]
        },
        {
          "output_type": "stream",
          "name": "stdout",
          "text": [
            "no. of UEs covered (Reward):  1370.0\n",
            "-----------------------------episode  257 -----------------------------\n",
            "no. of UEs covered (Reward):  570.0\n",
            "-----------------------------episode  258 -----------------------------\n"
          ]
        },
        {
          "output_type": "stream",
          "name": "stderr",
          "text": [
            "  5%|▌         | 259/5000 [00:37<11:23,  6.93it/s]"
          ]
        },
        {
          "output_type": "stream",
          "name": "stdout",
          "text": [
            "no. of UEs covered (Reward):  550.0\n",
            "-----------------------------episode  259 -----------------------------\n",
            "no. of UEs covered (Reward):  1370.0\n",
            "-----------------------------episode  260 -----------------------------\n"
          ]
        },
        {
          "output_type": "stream",
          "name": "stderr",
          "text": [
            "  5%|▌         | 261/5000 [00:37<11:03,  7.15it/s]"
          ]
        },
        {
          "output_type": "stream",
          "name": "stdout",
          "text": [
            "no. of UEs covered (Reward):  960.0\n",
            "-----------------------------episode  261 -----------------------------\n",
            "no. of UEs covered (Reward):  760.0\n",
            "-----------------------------episode  262 -----------------------------\n"
          ]
        },
        {
          "output_type": "stream",
          "name": "stderr",
          "text": [
            "  5%|▌         | 263/5000 [00:37<10:51,  7.27it/s]"
          ]
        },
        {
          "output_type": "stream",
          "name": "stdout",
          "text": [
            "no. of UEs covered (Reward):  930.0\n",
            "-----------------------------episode  263 -----------------------------\n",
            "no. of UEs covered (Reward):  930.0\n",
            "-----------------------------episode  264 -----------------------------\n"
          ]
        },
        {
          "output_type": "stream",
          "name": "stderr",
          "text": [
            "  5%|▌         | 265/5000 [00:37<10:37,  7.43it/s]"
          ]
        },
        {
          "output_type": "stream",
          "name": "stdout",
          "text": [
            "no. of UEs covered (Reward):  1370.0\n",
            "-----------------------------episode  265 -----------------------------\n",
            "no. of UEs covered (Reward):  1370.0\n",
            "-----------------------------episode  266 -----------------------------\n"
          ]
        },
        {
          "output_type": "stream",
          "name": "stderr",
          "text": [
            "  5%|▌         | 267/5000 [00:38<10:42,  7.37it/s]"
          ]
        },
        {
          "output_type": "stream",
          "name": "stdout",
          "text": [
            "no. of UEs covered (Reward):  450.0\n",
            "-----------------------------episode  267 -----------------------------\n",
            "no. of UEs covered (Reward):  1000.0\n",
            "-----------------------------episode  268 -----------------------------\n"
          ]
        },
        {
          "output_type": "stream",
          "name": "stderr",
          "text": [
            "  5%|▌         | 269/5000 [00:38<10:48,  7.29it/s]"
          ]
        },
        {
          "output_type": "stream",
          "name": "stdout",
          "text": [
            "no. of UEs covered (Reward):  1150.0\n",
            "-----------------------------episode  269 -----------------------------\n",
            "no. of UEs covered (Reward):  1360.0\n",
            "-----------------------------episode  270 -----------------------------\n"
          ]
        },
        {
          "output_type": "stream",
          "name": "stderr",
          "text": [
            "\r  5%|▌         | 270/5000 [00:38<11:00,  7.16it/s]"
          ]
        },
        {
          "output_type": "stream",
          "name": "stdout",
          "text": [
            "no. of UEs covered (Reward):  1370.0\n",
            "-----------------------------episode  271 -----------------------------\n"
          ]
        },
        {
          "output_type": "stream",
          "name": "stderr",
          "text": [
            "  5%|▌         | 272/5000 [00:39<13:20,  5.91it/s]"
          ]
        },
        {
          "output_type": "stream",
          "name": "stdout",
          "text": [
            "no. of UEs covered (Reward):  1020.0\n",
            "-----------------------------episode  272 -----------------------------\n",
            "no. of UEs covered (Reward):  920.0\n",
            "-----------------------------episode  273 -----------------------------\n"
          ]
        },
        {
          "output_type": "stream",
          "name": "stderr",
          "text": [
            "  5%|▌         | 274/5000 [00:39<12:07,  6.50it/s]"
          ]
        },
        {
          "output_type": "stream",
          "name": "stdout",
          "text": [
            "no. of UEs covered (Reward):  690.0\n",
            "-----------------------------episode  274 -----------------------------\n",
            "no. of UEs covered (Reward):  1310.0\n",
            "-----------------------------episode  275 -----------------------------\n"
          ]
        },
        {
          "output_type": "stream",
          "name": "stderr",
          "text": [
            "  6%|▌         | 276/5000 [00:39<11:12,  7.03it/s]"
          ]
        },
        {
          "output_type": "stream",
          "name": "stdout",
          "text": [
            "no. of UEs covered (Reward):  1070.0\n",
            "-----------------------------episode  276 -----------------------------\n",
            "no. of UEs covered (Reward):  1010.0\n",
            "-----------------------------episode  277 -----------------------------\n"
          ]
        },
        {
          "output_type": "stream",
          "name": "stderr",
          "text": [
            "  6%|▌         | 278/5000 [00:39<11:07,  7.08it/s]"
          ]
        },
        {
          "output_type": "stream",
          "name": "stdout",
          "text": [
            "no. of UEs covered (Reward):  540.0\n",
            "-----------------------------episode  278 -----------------------------\n",
            "no. of UEs covered (Reward):  730.0\n",
            "-----------------------------episode  279 -----------------------------\n"
          ]
        },
        {
          "output_type": "stream",
          "name": "stderr",
          "text": [
            "  6%|▌         | 280/5000 [00:40<10:48,  7.28it/s]"
          ]
        },
        {
          "output_type": "stream",
          "name": "stdout",
          "text": [
            "no. of UEs covered (Reward):  710.0\n",
            "-----------------------------episode  280 -----------------------------\n",
            "no. of UEs covered (Reward):  950.0\n",
            "-----------------------------episode  281 -----------------------------\n"
          ]
        },
        {
          "output_type": "stream",
          "name": "stderr",
          "text": [
            "  6%|▌         | 282/5000 [00:40<10:43,  7.33it/s]"
          ]
        },
        {
          "output_type": "stream",
          "name": "stdout",
          "text": [
            "no. of UEs covered (Reward):  1040.0\n",
            "-----------------------------episode  282 -----------------------------\n",
            "no. of UEs covered (Reward):  840.0\n",
            "-----------------------------episode  283 -----------------------------\n"
          ]
        },
        {
          "output_type": "stream",
          "name": "stderr",
          "text": [
            "  6%|▌         | 284/5000 [00:40<10:38,  7.39it/s]"
          ]
        },
        {
          "output_type": "stream",
          "name": "stdout",
          "text": [
            "no. of UEs covered (Reward):  630.0\n",
            "-----------------------------episode  284 -----------------------------\n",
            "no. of UEs covered (Reward):  950.0\n",
            "-----------------------------episode  285 -----------------------------\n"
          ]
        },
        {
          "output_type": "stream",
          "name": "stderr",
          "text": [
            "  6%|▌         | 286/5000 [00:40<10:33,  7.44it/s]"
          ]
        },
        {
          "output_type": "stream",
          "name": "stdout",
          "text": [
            "no. of UEs covered (Reward):  830.0\n",
            "-----------------------------episode  286 -----------------------------\n",
            "no. of UEs covered (Reward):  840.0\n",
            "-----------------------------episode  287 -----------------------------\n"
          ]
        },
        {
          "output_type": "stream",
          "name": "stderr",
          "text": [
            "  6%|▌         | 288/5000 [00:41<10:32,  7.45it/s]"
          ]
        },
        {
          "output_type": "stream",
          "name": "stdout",
          "text": [
            "no. of UEs covered (Reward):  1220.0\n",
            "-----------------------------episode  288 -----------------------------\n",
            "no. of UEs covered (Reward):  1370.0\n",
            "-----------------------------episode  289 -----------------------------\n"
          ]
        },
        {
          "output_type": "stream",
          "name": "stderr",
          "text": [
            "  6%|▌         | 290/5000 [00:41<10:39,  7.37it/s]"
          ]
        },
        {
          "output_type": "stream",
          "name": "stdout",
          "text": [
            "no. of UEs covered (Reward):  890.0\n",
            "-----------------------------episode  290 -----------------------------\n",
            "no. of UEs covered (Reward):  380.0\n",
            "-----------------------------episode  291 -----------------------------\n"
          ]
        },
        {
          "output_type": "stream",
          "name": "stderr",
          "text": [
            "  6%|▌         | 292/5000 [00:41<11:32,  6.80it/s]"
          ]
        },
        {
          "output_type": "stream",
          "name": "stdout",
          "text": [
            "no. of UEs covered (Reward):  540.0\n",
            "-----------------------------episode  292 -----------------------------\n",
            "no. of UEs covered (Reward):  910.0\n",
            "-----------------------------episode  293 -----------------------------\n"
          ]
        },
        {
          "output_type": "stream",
          "name": "stderr",
          "text": [
            "  6%|▌         | 294/5000 [00:42<13:57,  5.62it/s]"
          ]
        },
        {
          "output_type": "stream",
          "name": "stdout",
          "text": [
            "no. of UEs covered (Reward):  550.0\n",
            "-----------------------------episode  294 -----------------------------\n",
            "no. of UEs covered (Reward):  1380.0\n",
            "-----------------------------episode  295 -----------------------------\n"
          ]
        },
        {
          "output_type": "stream",
          "name": "stderr",
          "text": [
            "\r  6%|▌         | 295/5000 [00:42<14:55,  5.26it/s]"
          ]
        },
        {
          "output_type": "stream",
          "name": "stdout",
          "text": [
            "no. of UEs covered (Reward):  1330.0\n",
            "-----------------------------episode  296 -----------------------------\n"
          ]
        },
        {
          "output_type": "stream",
          "name": "stderr",
          "text": [
            "\r  6%|▌         | 296/5000 [00:42<15:42,  4.99it/s]"
          ]
        },
        {
          "output_type": "stream",
          "name": "stdout",
          "text": [
            "no. of UEs covered (Reward):  320.0\n",
            "-----------------------------episode  297 -----------------------------\n",
            "no. of UEs covered (Reward):  "
          ]
        },
        {
          "output_type": "stream",
          "name": "stderr",
          "text": [
            "\r  6%|▌         | 297/5000 [00:42<15:46,  4.97it/s]"
          ]
        },
        {
          "output_type": "stream",
          "name": "stdout",
          "text": [
            "960.0\n",
            "-----------------------------episode  298 -----------------------------\n"
          ]
        },
        {
          "output_type": "stream",
          "name": "stderr",
          "text": [
            "\r  6%|▌         | 298/5000 [00:43<16:02,  4.89it/s]"
          ]
        },
        {
          "output_type": "stream",
          "name": "stdout",
          "text": [
            "no. of UEs covered (Reward):  530.0\n",
            "-----------------------------episode  299 -----------------------------\n"
          ]
        },
        {
          "output_type": "stream",
          "name": "stderr",
          "text": [
            "  6%|▌         | 300/5000 [00:43<15:48,  4.96it/s]"
          ]
        },
        {
          "output_type": "stream",
          "name": "stdout",
          "text": [
            "no. of UEs covered (Reward):  1360.0\n",
            "-----------------------------episode  300 -----------------------------\n",
            "no. of UEs covered (Reward):  1330.0\n",
            "-----------------------------episode  301 -----------------------------\n"
          ]
        },
        {
          "output_type": "stream",
          "name": "stderr",
          "text": [
            "  6%|▌         | 302/5000 [00:43<15:12,  5.15it/s]"
          ]
        },
        {
          "output_type": "stream",
          "name": "stdout",
          "text": [
            "no. of UEs covered (Reward):  1370.0\n",
            "-----------------------------episode  302 -----------------------------\n",
            "no. of UEs covered (Reward):  1110.0\n",
            "-----------------------------episode  303 -----------------------------\n"
          ]
        },
        {
          "output_type": "stream",
          "name": "stderr",
          "text": [
            "  6%|▌         | 304/5000 [00:44<15:18,  5.11it/s]"
          ]
        },
        {
          "output_type": "stream",
          "name": "stdout",
          "text": [
            "no. of UEs covered (Reward):  720.0\n",
            "-----------------------------episode  304 -----------------------------\n",
            "no. of UEs covered (Reward):  990.0\n",
            "-----------------------------episode  305 -----------------------------\n"
          ]
        },
        {
          "output_type": "stream",
          "name": "stderr",
          "text": [
            "  6%|▌         | 306/5000 [00:44<14:29,  5.40it/s]"
          ]
        },
        {
          "output_type": "stream",
          "name": "stdout",
          "text": [
            "no. of UEs covered (Reward):  950.0\n",
            "-----------------------------episode  306 -----------------------------\n",
            "no. of UEs covered (Reward):  1150.0\n",
            "-----------------------------episode  307 -----------------------------\n"
          ]
        },
        {
          "output_type": "stream",
          "name": "stderr",
          "text": [
            "  6%|▌         | 308/5000 [00:44<12:50,  6.09it/s]"
          ]
        },
        {
          "output_type": "stream",
          "name": "stdout",
          "text": [
            "no. of UEs covered (Reward):  1130.0\n",
            "-----------------------------episode  308 -----------------------------\n",
            "no. of UEs covered (Reward):  1380.0\n",
            "-----------------------------episode  309 -----------------------------\n"
          ]
        },
        {
          "output_type": "stream",
          "name": "stderr",
          "text": [
            "  6%|▌         | 310/5000 [00:45<11:50,  6.60it/s]"
          ]
        },
        {
          "output_type": "stream",
          "name": "stdout",
          "text": [
            "no. of UEs covered (Reward):  850.0\n",
            "-----------------------------episode  310 -----------------------------\n",
            "no. of UEs covered (Reward):  830.0\n",
            "-----------------------------episode  311 -----------------------------\n"
          ]
        },
        {
          "output_type": "stream",
          "name": "stderr",
          "text": [
            "  6%|▌         | 312/5000 [00:45<11:07,  7.03it/s]"
          ]
        },
        {
          "output_type": "stream",
          "name": "stdout",
          "text": [
            "no. of UEs covered (Reward):  850.0\n",
            "-----------------------------episode  312 -----------------------------\n",
            "no. of UEs covered (Reward):  980.0\n",
            "-----------------------------episode  313 -----------------------------\n"
          ]
        },
        {
          "output_type": "stream",
          "name": "stderr",
          "text": [
            "  6%|▋         | 314/5000 [00:45<10:42,  7.29it/s]"
          ]
        },
        {
          "output_type": "stream",
          "name": "stdout",
          "text": [
            "no. of UEs covered (Reward):  830.0\n",
            "-----------------------------episode  314 -----------------------------\n",
            "no. of UEs covered (Reward):  620.0\n",
            "-----------------------------episode  315 -----------------------------\n"
          ]
        },
        {
          "output_type": "stream",
          "name": "stderr",
          "text": [
            "  6%|▋         | 316/5000 [00:46<10:33,  7.40it/s]"
          ]
        },
        {
          "output_type": "stream",
          "name": "stdout",
          "text": [
            "no. of UEs covered (Reward):  840.0\n",
            "-----------------------------episode  316 -----------------------------\n",
            "no. of UEs covered (Reward):  1280.0\n",
            "-----------------------------episode  317 -----------------------------\n"
          ]
        },
        {
          "output_type": "stream",
          "name": "stderr",
          "text": [
            "  6%|▋         | 318/5000 [00:46<10:34,  7.38it/s]"
          ]
        },
        {
          "output_type": "stream",
          "name": "stdout",
          "text": [
            "no. of UEs covered (Reward):  1150.0\n",
            "-----------------------------episode  318 -----------------------------\n",
            "no. of UEs covered (Reward):  780.0\n",
            "-----------------------------episode  319 -----------------------------\n"
          ]
        },
        {
          "output_type": "stream",
          "name": "stderr",
          "text": [
            "  6%|▋         | 320/5000 [00:46<10:36,  7.35it/s]"
          ]
        },
        {
          "output_type": "stream",
          "name": "stdout",
          "text": [
            "no. of UEs covered (Reward):  970.0\n",
            "-----------------------------episode  320 -----------------------------\n",
            "no. of UEs covered (Reward):  1360.0\n",
            "-----------------------------episode  321 -----------------------------\n"
          ]
        },
        {
          "output_type": "stream",
          "name": "stderr",
          "text": [
            "  6%|▋         | 322/5000 [00:46<10:28,  7.44it/s]"
          ]
        },
        {
          "output_type": "stream",
          "name": "stdout",
          "text": [
            "no. of UEs covered (Reward):  760.0\n",
            "-----------------------------episode  322 -----------------------------\n",
            "no. of UEs covered (Reward):  880.0\n",
            "-----------------------------episode  323 -----------------------------\n"
          ]
        },
        {
          "output_type": "stream",
          "name": "stderr",
          "text": [
            "  6%|▋         | 324/5000 [00:47<10:28,  7.44it/s]"
          ]
        },
        {
          "output_type": "stream",
          "name": "stdout",
          "text": [
            "no. of UEs covered (Reward):  720.0\n",
            "-----------------------------episode  324 -----------------------------\n",
            "no. of UEs covered (Reward):  890.0\n",
            "-----------------------------episode  325 -----------------------------\n"
          ]
        },
        {
          "output_type": "stream",
          "name": "stderr",
          "text": [
            "  7%|▋         | 326/5000 [00:47<10:29,  7.42it/s]"
          ]
        },
        {
          "output_type": "stream",
          "name": "stdout",
          "text": [
            "no. of UEs covered (Reward):  770.0\n",
            "-----------------------------episode  326 -----------------------------\n",
            "no. of UEs covered (Reward):  1370.0\n",
            "-----------------------------episode  327 -----------------------------\n"
          ]
        },
        {
          "output_type": "stream",
          "name": "stderr",
          "text": [
            "  7%|▋         | 328/5000 [00:47<10:41,  7.28it/s]"
          ]
        },
        {
          "output_type": "stream",
          "name": "stdout",
          "text": [
            "no. of UEs covered (Reward):  550.0\n",
            "-----------------------------episode  328 -----------------------------\n",
            "no. of UEs covered (Reward):  1230.0\n",
            "-----------------------------episode  329 -----------------------------\n"
          ]
        },
        {
          "output_type": "stream",
          "name": "stderr",
          "text": [
            "  7%|▋         | 330/5000 [00:47<10:43,  7.26it/s]"
          ]
        },
        {
          "output_type": "stream",
          "name": "stdout",
          "text": [
            "no. of UEs covered (Reward):  1130.0\n",
            "-----------------------------episode  330 -----------------------------\n",
            "no. of UEs covered (Reward):  1370.0\n",
            "-----------------------------episode  331 -----------------------------\n"
          ]
        },
        {
          "output_type": "stream",
          "name": "stderr",
          "text": [
            "  7%|▋         | 332/5000 [00:48<10:24,  7.47it/s]"
          ]
        },
        {
          "output_type": "stream",
          "name": "stdout",
          "text": [
            "no. of UEs covered (Reward):  970.0\n",
            "-----------------------------episode  332 -----------------------------\n",
            "no. of UEs covered (Reward):  740.0\n",
            "-----------------------------episode  333 -----------------------------\n"
          ]
        },
        {
          "output_type": "stream",
          "name": "stderr",
          "text": [
            "  7%|▋         | 334/5000 [00:48<10:21,  7.50it/s]"
          ]
        },
        {
          "output_type": "stream",
          "name": "stdout",
          "text": [
            "no. of UEs covered (Reward):  730.0\n",
            "-----------------------------episode  334 -----------------------------\n",
            "no. of UEs covered (Reward):  1030.0\n",
            "-----------------------------episode  335 -----------------------------\n"
          ]
        },
        {
          "output_type": "stream",
          "name": "stderr",
          "text": [
            "  7%|▋         | 336/5000 [00:48<10:45,  7.23it/s]"
          ]
        },
        {
          "output_type": "stream",
          "name": "stdout",
          "text": [
            "no. of UEs covered (Reward):  900.0\n",
            "-----------------------------episode  336 -----------------------------\n",
            "no. of UEs covered (Reward):  790.0\n",
            "-----------------------------episode  337 -----------------------------\n"
          ]
        },
        {
          "output_type": "stream",
          "name": "stderr",
          "text": [
            "  7%|▋         | 338/5000 [00:49<10:35,  7.34it/s]"
          ]
        },
        {
          "output_type": "stream",
          "name": "stdout",
          "text": [
            "no. of UEs covered (Reward):  760.0\n",
            "-----------------------------episode  338 -----------------------------\n",
            "no. of UEs covered (Reward):  620.0\n",
            "-----------------------------episode  339 -----------------------------\n"
          ]
        },
        {
          "output_type": "stream",
          "name": "stderr",
          "text": [
            "  7%|▋         | 340/5000 [00:49<10:41,  7.26it/s]"
          ]
        },
        {
          "output_type": "stream",
          "name": "stdout",
          "text": [
            "no. of UEs covered (Reward):  1370.0\n",
            "-----------------------------episode  340 -----------------------------\n",
            "no. of UEs covered (Reward):  790.0\n",
            "-----------------------------episode  341 -----------------------------\n"
          ]
        },
        {
          "output_type": "stream",
          "name": "stderr",
          "text": [
            "  7%|▋         | 342/5000 [00:49<10:32,  7.37it/s]"
          ]
        },
        {
          "output_type": "stream",
          "name": "stdout",
          "text": [
            "no. of UEs covered (Reward):  870.0\n",
            "-----------------------------episode  342 -----------------------------\n",
            "no. of UEs covered (Reward):  700.0\n",
            "-----------------------------episode  343 -----------------------------\n"
          ]
        },
        {
          "output_type": "stream",
          "name": "stderr",
          "text": [
            "  7%|▋         | 344/5000 [00:49<10:37,  7.30it/s]"
          ]
        },
        {
          "output_type": "stream",
          "name": "stdout",
          "text": [
            "no. of UEs covered (Reward):  1050.0\n",
            "-----------------------------episode  344 -----------------------------\n",
            "no. of UEs covered (Reward):  970.0\n",
            "-----------------------------episode  345 -----------------------------\n"
          ]
        },
        {
          "output_type": "stream",
          "name": "stderr",
          "text": [
            "  7%|▋         | 346/5000 [00:50<10:33,  7.35it/s]"
          ]
        },
        {
          "output_type": "stream",
          "name": "stdout",
          "text": [
            "no. of UEs covered (Reward):  1310.0\n",
            "-----------------------------episode  346 -----------------------------\n",
            "no. of UEs covered (Reward):  1380.0\n",
            "-----------------------------episode  347 -----------------------------\n"
          ]
        },
        {
          "output_type": "stream",
          "name": "stderr",
          "text": [
            "  7%|▋         | 348/5000 [00:50<10:27,  7.42it/s]"
          ]
        },
        {
          "output_type": "stream",
          "name": "stdout",
          "text": [
            "no. of UEs covered (Reward):  520.0\n",
            "-----------------------------episode  348 -----------------------------\n",
            "no. of UEs covered (Reward):  780.0\n",
            "-----------------------------episode  349 -----------------------------\n"
          ]
        },
        {
          "output_type": "stream",
          "name": "stderr",
          "text": [
            "  7%|▋         | 350/5000 [00:50<10:41,  7.25it/s]"
          ]
        },
        {
          "output_type": "stream",
          "name": "stdout",
          "text": [
            "no. of UEs covered (Reward):  1000.0\n",
            "-----------------------------episode  350 -----------------------------\n",
            "no. of UEs covered (Reward):  830.0\n",
            "-----------------------------episode  351 -----------------------------\n"
          ]
        },
        {
          "output_type": "stream",
          "name": "stderr",
          "text": [
            "  7%|▋         | 352/5000 [00:50<11:05,  6.98it/s]"
          ]
        },
        {
          "output_type": "stream",
          "name": "stdout",
          "text": [
            "no. of UEs covered (Reward):  1380.0\n",
            "-----------------------------episode  352 -----------------------------\n",
            "no. of UEs covered (Reward):  540.0\n",
            "-----------------------------episode  353 -----------------------------\n"
          ]
        },
        {
          "output_type": "stream",
          "name": "stderr",
          "text": [
            "  7%|▋         | 354/5000 [00:51<10:47,  7.17it/s]"
          ]
        },
        {
          "output_type": "stream",
          "name": "stdout",
          "text": [
            "no. of UEs covered (Reward):  710.0\n",
            "-----------------------------episode  354 -----------------------------\n",
            "no. of UEs covered (Reward):  700.0\n",
            "-----------------------------episode  355 -----------------------------\n"
          ]
        },
        {
          "output_type": "stream",
          "name": "stderr",
          "text": [
            "  7%|▋         | 356/5000 [00:51<10:48,  7.16it/s]"
          ]
        },
        {
          "output_type": "stream",
          "name": "stdout",
          "text": [
            "no. of UEs covered (Reward):  1240.0\n",
            "-----------------------------episode  356 -----------------------------\n",
            "no. of UEs covered (Reward):  1370.0\n",
            "-----------------------------episode  357 -----------------------------\n"
          ]
        },
        {
          "output_type": "stream",
          "name": "stderr",
          "text": [
            "  7%|▋         | 358/5000 [00:51<11:02,  7.01it/s]"
          ]
        },
        {
          "output_type": "stream",
          "name": "stdout",
          "text": [
            "no. of UEs covered (Reward):  990.0\n",
            "-----------------------------episode  358 -----------------------------\n",
            "no. of UEs covered (Reward):  960.0\n",
            "-----------------------------episode  359 -----------------------------\n"
          ]
        },
        {
          "output_type": "stream",
          "name": "stderr",
          "text": [
            "  7%|▋         | 360/5000 [00:52<10:35,  7.30it/s]"
          ]
        },
        {
          "output_type": "stream",
          "name": "stdout",
          "text": [
            "no. of UEs covered (Reward):  1370.0\n",
            "-----------------------------episode  360 -----------------------------\n",
            "no. of UEs covered (Reward):  970.0\n",
            "-----------------------------episode  361 -----------------------------\n"
          ]
        },
        {
          "output_type": "stream",
          "name": "stderr",
          "text": [
            "  7%|▋         | 362/5000 [00:52<10:08,  7.62it/s]"
          ]
        },
        {
          "output_type": "stream",
          "name": "stdout",
          "text": [
            "no. of UEs covered (Reward):  820.0\n",
            "-----------------------------episode  362 -----------------------------\n",
            "no. of UEs covered (Reward):  640.0\n",
            "-----------------------------episode  363 -----------------------------\n"
          ]
        },
        {
          "output_type": "stream",
          "name": "stderr",
          "text": [
            "  7%|▋         | 364/5000 [00:52<09:44,  7.93it/s]"
          ]
        },
        {
          "output_type": "stream",
          "name": "stdout",
          "text": [
            "no. of UEs covered (Reward):  1390.0\n",
            "-----------------------------episode  364 -----------------------------\n",
            "no. of UEs covered (Reward):  1390.0\n",
            "-----------------------------episode  365 -----------------------------\n"
          ]
        },
        {
          "output_type": "stream",
          "name": "stderr",
          "text": [
            "  7%|▋         | 366/5000 [00:52<10:02,  7.69it/s]"
          ]
        },
        {
          "output_type": "stream",
          "name": "stdout",
          "text": [
            "no. of UEs covered (Reward):  1370.0\n",
            "-----------------------------episode  366 -----------------------------\n",
            "no. of UEs covered (Reward):  1130.0\n",
            "-----------------------------episode  367 -----------------------------\n"
          ]
        },
        {
          "output_type": "stream",
          "name": "stderr",
          "text": [
            "  7%|▋         | 368/5000 [00:53<10:13,  7.55it/s]"
          ]
        },
        {
          "output_type": "stream",
          "name": "stdout",
          "text": [
            "no. of UEs covered (Reward):  1380.0\n",
            "-----------------------------episode  368 -----------------------------\n",
            "no. of UEs covered (Reward):  750.0\n",
            "-----------------------------episode  369 -----------------------------\n"
          ]
        },
        {
          "output_type": "stream",
          "name": "stderr",
          "text": [
            "  7%|▋         | 370/5000 [00:53<10:29,  7.36it/s]"
          ]
        },
        {
          "output_type": "stream",
          "name": "stdout",
          "text": [
            "no. of UEs covered (Reward):  1290.0\n",
            "-----------------------------episode  370 -----------------------------\n",
            "no. of UEs covered (Reward):  1280.0\n",
            "-----------------------------episode  371 -----------------------------\n"
          ]
        },
        {
          "output_type": "stream",
          "name": "stderr",
          "text": [
            "  7%|▋         | 372/5000 [00:53<10:38,  7.25it/s]"
          ]
        },
        {
          "output_type": "stream",
          "name": "stdout",
          "text": [
            "no. of UEs covered (Reward):  1090.0\n",
            "-----------------------------episode  372 -----------------------------\n",
            "no. of UEs covered (Reward):  1000.0\n",
            "-----------------------------episode  373 -----------------------------\n"
          ]
        },
        {
          "output_type": "stream",
          "name": "stderr",
          "text": [
            "  7%|▋         | 374/5000 [00:53<10:10,  7.57it/s]"
          ]
        },
        {
          "output_type": "stream",
          "name": "stdout",
          "text": [
            "no. of UEs covered (Reward):  1240.0\n",
            "-----------------------------episode  374 -----------------------------\n",
            "no. of UEs covered (Reward):  1260.0\n",
            "-----------------------------episode  375 -----------------------------\n"
          ]
        },
        {
          "output_type": "stream",
          "name": "stderr",
          "text": [
            "  8%|▊         | 376/5000 [00:54<09:59,  7.71it/s]"
          ]
        },
        {
          "output_type": "stream",
          "name": "stdout",
          "text": [
            "no. of UEs covered (Reward):  1310.0\n",
            "-----------------------------episode  376 -----------------------------\n",
            "no. of UEs covered (Reward):  1090.0\n",
            "-----------------------------episode  377 -----------------------------\n"
          ]
        },
        {
          "output_type": "stream",
          "name": "stderr",
          "text": [
            "  8%|▊         | 378/5000 [00:54<09:54,  7.77it/s]"
          ]
        },
        {
          "output_type": "stream",
          "name": "stdout",
          "text": [
            "no. of UEs covered (Reward):  940.0\n",
            "-----------------------------episode  378 -----------------------------\n",
            "no. of UEs covered (Reward):  1370.0\n",
            "-----------------------------episode  379 -----------------------------\n"
          ]
        },
        {
          "output_type": "stream",
          "name": "stderr",
          "text": [
            "  8%|▊         | 380/5000 [00:54<11:25,  6.74it/s]"
          ]
        },
        {
          "output_type": "stream",
          "name": "stdout",
          "text": [
            "no. of UEs covered (Reward):  1360.0\n",
            "-----------------------------episode  380 -----------------------------\n",
            "no. of UEs covered (Reward):  1290.0\n",
            "-----------------------------episode  381 -----------------------------\n"
          ]
        },
        {
          "output_type": "stream",
          "name": "stderr",
          "text": [
            "  8%|▊         | 382/5000 [00:55<12:44,  6.04it/s]"
          ]
        },
        {
          "output_type": "stream",
          "name": "stdout",
          "text": [
            "no. of UEs covered (Reward):  900.0\n",
            "-----------------------------episode  382 -----------------------------\n",
            "no. of UEs covered (Reward):  1130.0\n",
            "-----------------------------episode  383 -----------------------------\n"
          ]
        },
        {
          "output_type": "stream",
          "name": "stderr",
          "text": [
            "  8%|▊         | 384/5000 [00:55<13:34,  5.67it/s]"
          ]
        },
        {
          "output_type": "stream",
          "name": "stdout",
          "text": [
            "no. of UEs covered (Reward):  1090.0\n",
            "-----------------------------episode  384 -----------------------------\n",
            "no. of UEs covered (Reward):  1320.0\n",
            "-----------------------------episode  385 -----------------------------\n"
          ]
        },
        {
          "output_type": "stream",
          "name": "stderr",
          "text": [
            "  8%|▊         | 386/5000 [00:55<13:56,  5.52it/s]"
          ]
        },
        {
          "output_type": "stream",
          "name": "stdout",
          "text": [
            "no. of UEs covered (Reward):  1280.0\n",
            "-----------------------------episode  386 -----------------------------\n",
            "no. of UEs covered (Reward):  1220.0\n",
            "-----------------------------episode  387 -----------------------------\n"
          ]
        },
        {
          "output_type": "stream",
          "name": "stderr",
          "text": [
            "  8%|▊         | 388/5000 [00:56<14:13,  5.41it/s]"
          ]
        },
        {
          "output_type": "stream",
          "name": "stdout",
          "text": [
            "no. of UEs covered (Reward):  1380.0\n",
            "-----------------------------episode  388 -----------------------------\n",
            "no. of UEs covered (Reward):  1350.0\n",
            "-----------------------------episode  389 -----------------------------\n"
          ]
        },
        {
          "output_type": "stream",
          "name": "stderr",
          "text": [
            "  8%|▊         | 390/5000 [00:56<14:20,  5.36it/s]"
          ]
        },
        {
          "output_type": "stream",
          "name": "stdout",
          "text": [
            "no. of UEs covered (Reward):  990.0\n",
            "-----------------------------episode  390 -----------------------------\n",
            "no. of UEs covered (Reward):  910.0\n",
            "-----------------------------episode  391 -----------------------------\n"
          ]
        },
        {
          "output_type": "stream",
          "name": "stderr",
          "text": [
            "  8%|▊         | 392/5000 [00:57<14:31,  5.29it/s]"
          ]
        },
        {
          "output_type": "stream",
          "name": "stdout",
          "text": [
            "no. of UEs covered (Reward):  1170.0\n",
            "-----------------------------episode  392 -----------------------------\n",
            "no. of UEs covered (Reward):  1380.0\n",
            "-----------------------------episode  393 -----------------------------\n"
          ]
        },
        {
          "output_type": "stream",
          "name": "stderr",
          "text": [
            "  8%|▊         | 394/5000 [00:57<13:09,  5.83it/s]"
          ]
        },
        {
          "output_type": "stream",
          "name": "stdout",
          "text": [
            "no. of UEs covered (Reward):  1370.0\n",
            "-----------------------------episode  394 -----------------------------\n",
            "no. of UEs covered (Reward):  1120.0\n",
            "-----------------------------episode  395 -----------------------------\n"
          ]
        },
        {
          "output_type": "stream",
          "name": "stderr",
          "text": [
            "  8%|▊         | 396/5000 [00:57<11:25,  6.71it/s]"
          ]
        },
        {
          "output_type": "stream",
          "name": "stdout",
          "text": [
            "no. of UEs covered (Reward):  940.0\n",
            "-----------------------------episode  396 -----------------------------\n",
            "no. of UEs covered (Reward):  980.0\n",
            "-----------------------------episode  397 -----------------------------\n"
          ]
        },
        {
          "output_type": "stream",
          "name": "stderr",
          "text": [
            "  8%|▊         | 398/5000 [00:57<10:51,  7.06it/s]"
          ]
        },
        {
          "output_type": "stream",
          "name": "stdout",
          "text": [
            "no. of UEs covered (Reward):  510.0\n",
            "-----------------------------episode  398 -----------------------------\n",
            "no. of UEs covered (Reward):  630.0\n",
            "-----------------------------episode  399 -----------------------------\n"
          ]
        },
        {
          "output_type": "stream",
          "name": "stderr",
          "text": [
            "  8%|▊         | 400/5000 [00:58<10:24,  7.36it/s]"
          ]
        },
        {
          "output_type": "stream",
          "name": "stdout",
          "text": [
            "no. of UEs covered (Reward):  1280.0\n",
            "-----------------------------episode  400 -----------------------------\n",
            "no. of UEs covered (Reward):  430.0\n",
            "-----------------------------episode  401 -----------------------------\n"
          ]
        },
        {
          "output_type": "stream",
          "name": "stderr",
          "text": [
            "  8%|▊         | 402/5000 [00:58<10:10,  7.53it/s]"
          ]
        },
        {
          "output_type": "stream",
          "name": "stdout",
          "text": [
            "no. of UEs covered (Reward):  520.0\n",
            "-----------------------------episode  402 -----------------------------\n",
            "no. of UEs covered (Reward):  1370.0\n",
            "-----------------------------episode  403 -----------------------------\n"
          ]
        },
        {
          "output_type": "stream",
          "name": "stderr",
          "text": [
            "  8%|▊         | 404/5000 [00:58<10:04,  7.60it/s]"
          ]
        },
        {
          "output_type": "stream",
          "name": "stdout",
          "text": [
            "no. of UEs covered (Reward):  760.0\n",
            "-----------------------------episode  404 -----------------------------\n",
            "no. of UEs covered (Reward):  1180.0\n",
            "-----------------------------episode  405 -----------------------------\n"
          ]
        },
        {
          "output_type": "stream",
          "name": "stderr",
          "text": [
            "  8%|▊         | 406/5000 [00:58<10:00,  7.65it/s]"
          ]
        },
        {
          "output_type": "stream",
          "name": "stdout",
          "text": [
            "no. of UEs covered (Reward):  1020.0\n",
            "-----------------------------episode  406 -----------------------------\n",
            "no. of UEs covered (Reward):  670.0\n",
            "-----------------------------episode  407 -----------------------------\n"
          ]
        },
        {
          "output_type": "stream",
          "name": "stderr",
          "text": [
            "  8%|▊         | 408/5000 [00:59<09:47,  7.82it/s]"
          ]
        },
        {
          "output_type": "stream",
          "name": "stdout",
          "text": [
            "no. of UEs covered (Reward):  980.0\n",
            "-----------------------------episode  408 -----------------------------\n",
            "no. of UEs covered (Reward):  1330.0\n",
            "-----------------------------episode  409 -----------------------------\n"
          ]
        },
        {
          "output_type": "stream",
          "name": "stderr",
          "text": [
            "  8%|▊         | 410/5000 [00:59<09:41,  7.90it/s]"
          ]
        },
        {
          "output_type": "stream",
          "name": "stdout",
          "text": [
            "no. of UEs covered (Reward):  880.0\n",
            "-----------------------------episode  410 -----------------------------\n",
            "no. of UEs covered (Reward):  1350.0\n",
            "-----------------------------episode  411 -----------------------------\n"
          ]
        },
        {
          "output_type": "stream",
          "name": "stderr",
          "text": [
            "  8%|▊         | 412/5000 [00:59<09:57,  7.67it/s]"
          ]
        },
        {
          "output_type": "stream",
          "name": "stdout",
          "text": [
            "no. of UEs covered (Reward):  1070.0\n",
            "-----------------------------episode  412 -----------------------------\n",
            "no. of UEs covered (Reward):  1150.0\n",
            "-----------------------------episode  413 -----------------------------\n"
          ]
        },
        {
          "output_type": "stream",
          "name": "stderr",
          "text": [
            "  8%|▊         | 414/5000 [00:59<09:57,  7.68it/s]"
          ]
        },
        {
          "output_type": "stream",
          "name": "stdout",
          "text": [
            "no. of UEs covered (Reward):  1100.0\n",
            "-----------------------------episode  414 -----------------------------\n",
            "no. of UEs covered (Reward):  1000.0\n",
            "-----------------------------episode  415 -----------------------------\n"
          ]
        },
        {
          "output_type": "stream",
          "name": "stderr",
          "text": [
            "  8%|▊         | 416/5000 [01:00<09:50,  7.76it/s]"
          ]
        },
        {
          "output_type": "stream",
          "name": "stdout",
          "text": [
            "no. of UEs covered (Reward):  1000.0\n",
            "-----------------------------episode  416 -----------------------------\n",
            "no. of UEs covered (Reward):  900.0\n",
            "-----------------------------episode  417 -----------------------------\n"
          ]
        },
        {
          "output_type": "stream",
          "name": "stderr",
          "text": [
            "  8%|▊         | 418/5000 [01:00<09:48,  7.79it/s]"
          ]
        },
        {
          "output_type": "stream",
          "name": "stdout",
          "text": [
            "no. of UEs covered (Reward):  1320.0\n",
            "-----------------------------episode  418 -----------------------------\n",
            "no. of UEs covered (Reward):  810.0\n",
            "-----------------------------episode  419 -----------------------------\n"
          ]
        },
        {
          "output_type": "stream",
          "name": "stderr",
          "text": [
            "  8%|▊         | 420/5000 [01:00<09:41,  7.87it/s]"
          ]
        },
        {
          "output_type": "stream",
          "name": "stdout",
          "text": [
            "no. of UEs covered (Reward):  1070.0\n",
            "-----------------------------episode  420 -----------------------------\n",
            "no. of UEs covered (Reward):  920.0\n",
            "-----------------------------episode  421 -----------------------------\n"
          ]
        },
        {
          "output_type": "stream",
          "name": "stderr",
          "text": [
            "  8%|▊         | 422/5000 [01:00<09:49,  7.77it/s]"
          ]
        },
        {
          "output_type": "stream",
          "name": "stdout",
          "text": [
            "no. of UEs covered (Reward):  810.0\n",
            "-----------------------------episode  422 -----------------------------\n",
            "no. of UEs covered (Reward):  1160.0\n",
            "-----------------------------episode  423 -----------------------------\n"
          ]
        },
        {
          "output_type": "stream",
          "name": "stderr",
          "text": [
            "  8%|▊         | 424/5000 [01:01<09:45,  7.81it/s]"
          ]
        },
        {
          "output_type": "stream",
          "name": "stdout",
          "text": [
            "no. of UEs covered (Reward):  1390.0\n",
            "-----------------------------episode  424 -----------------------------\n",
            "no. of UEs covered (Reward):  1000.0\n",
            "-----------------------------episode  425 -----------------------------\n"
          ]
        },
        {
          "output_type": "stream",
          "name": "stderr",
          "text": [
            "  9%|▊         | 426/5000 [01:01<09:39,  7.89it/s]"
          ]
        },
        {
          "output_type": "stream",
          "name": "stdout",
          "text": [
            "no. of UEs covered (Reward):  500.0\n",
            "-----------------------------episode  426 -----------------------------\n",
            "no. of UEs covered (Reward):  830.0\n",
            "-----------------------------episode  427 -----------------------------\n"
          ]
        },
        {
          "output_type": "stream",
          "name": "stderr",
          "text": [
            "  9%|▊         | 428/5000 [01:01<09:35,  7.95it/s]"
          ]
        },
        {
          "output_type": "stream",
          "name": "stdout",
          "text": [
            "no. of UEs covered (Reward):  450.0\n",
            "-----------------------------episode  428 -----------------------------\n",
            "no. of UEs covered (Reward):  840.0\n",
            "-----------------------------episode  429 -----------------------------\n"
          ]
        },
        {
          "output_type": "stream",
          "name": "stderr",
          "text": [
            "  9%|▊         | 430/5000 [01:01<09:46,  7.79it/s]"
          ]
        },
        {
          "output_type": "stream",
          "name": "stdout",
          "text": [
            "no. of UEs covered (Reward):  1370.0\n",
            "-----------------------------episode  430 -----------------------------\n",
            "no. of UEs covered (Reward):  1200.0\n",
            "-----------------------------episode  431 -----------------------------\n"
          ]
        },
        {
          "output_type": "stream",
          "name": "stderr",
          "text": [
            "  9%|▊         | 432/5000 [01:02<09:49,  7.75it/s]"
          ]
        },
        {
          "output_type": "stream",
          "name": "stdout",
          "text": [
            "no. of UEs covered (Reward):  1360.0\n",
            "-----------------------------episode  432 -----------------------------\n",
            "no. of UEs covered (Reward):  660.0\n",
            "-----------------------------episode  433 -----------------------------\n"
          ]
        },
        {
          "output_type": "stream",
          "name": "stderr",
          "text": [
            "  9%|▊         | 434/5000 [01:02<09:48,  7.76it/s]"
          ]
        },
        {
          "output_type": "stream",
          "name": "stdout",
          "text": [
            "no. of UEs covered (Reward):  560.0\n",
            "-----------------------------episode  434 -----------------------------\n",
            "no. of UEs covered (Reward):  820.0\n",
            "-----------------------------episode  435 -----------------------------\n"
          ]
        },
        {
          "output_type": "stream",
          "name": "stderr",
          "text": [
            "  9%|▊         | 436/5000 [01:02<10:26,  7.28it/s]"
          ]
        },
        {
          "output_type": "stream",
          "name": "stdout",
          "text": [
            "no. of UEs covered (Reward):  1230.0\n",
            "-----------------------------episode  436 -----------------------------\n",
            "no. of UEs covered (Reward):  860.0\n",
            "-----------------------------episode  437 -----------------------------\n"
          ]
        },
        {
          "output_type": "stream",
          "name": "stderr",
          "text": [
            "  9%|▉         | 438/5000 [01:03<12:11,  6.23it/s]"
          ]
        },
        {
          "output_type": "stream",
          "name": "stdout",
          "text": [
            "no. of UEs covered (Reward):  900.0\n",
            "-----------------------------episode  438 -----------------------------\n",
            "no. of UEs covered (Reward):  590.0\n",
            "-----------------------------episode  439 -----------------------------\n"
          ]
        },
        {
          "output_type": "stream",
          "name": "stderr",
          "text": [
            "  9%|▉         | 440/5000 [01:03<13:33,  5.61it/s]"
          ]
        },
        {
          "output_type": "stream",
          "name": "stdout",
          "text": [
            "no. of UEs covered (Reward):  1370.0\n",
            "-----------------------------episode  440 -----------------------------\n",
            "no. of UEs covered (Reward):  1380.0\n",
            "-----------------------------episode  441 -----------------------------\n"
          ]
        },
        {
          "output_type": "stream",
          "name": "stderr",
          "text": [
            "  9%|▉         | 442/5000 [01:03<13:41,  5.55it/s]"
          ]
        },
        {
          "output_type": "stream",
          "name": "stdout",
          "text": [
            "no. of UEs covered (Reward):  1040.0\n",
            "-----------------------------episode  442 -----------------------------\n",
            "no. of UEs covered (Reward):  310.0\n",
            "-----------------------------episode  443 -----------------------------\n"
          ]
        },
        {
          "output_type": "stream",
          "name": "stderr",
          "text": [
            "  9%|▉         | 444/5000 [01:04<13:54,  5.46it/s]"
          ]
        },
        {
          "output_type": "stream",
          "name": "stdout",
          "text": [
            "no. of UEs covered (Reward):  430.0\n",
            "-----------------------------episode  444 -----------------------------\n",
            "no. of UEs covered (Reward):  690.0\n",
            "-----------------------------episode  445 -----------------------------\n"
          ]
        },
        {
          "output_type": "stream",
          "name": "stderr",
          "text": [
            "  9%|▉         | 446/5000 [01:04<14:02,  5.41it/s]"
          ]
        },
        {
          "output_type": "stream",
          "name": "stdout",
          "text": [
            "no. of UEs covered (Reward):  1340.0\n",
            "-----------------------------episode  446 -----------------------------\n",
            "no. of UEs covered (Reward):  360.0\n",
            "-----------------------------episode "
          ]
        },
        {
          "output_type": "stream",
          "name": "stderr",
          "text": [
            "\r  9%|▉         | 447/5000 [01:04<13:59,  5.43it/s]"
          ]
        },
        {
          "output_type": "stream",
          "name": "stdout",
          "text": [
            " 447 -----------------------------\n",
            "no. of UEs covered (Reward):  1230.0\n",
            "-----------------------------episode  448 -----------------------------\n"
          ]
        },
        {
          "output_type": "stream",
          "name": "stderr",
          "text": [
            "  9%|▉         | 449/5000 [01:05<14:18,  5.30it/s]"
          ]
        },
        {
          "output_type": "stream",
          "name": "stdout",
          "text": [
            "no. of UEs covered (Reward):  1370.0\n",
            "-----------------------------episode  449 -----------------------------\n",
            "no. of UEs covered (Reward):  280.0\n",
            "-----------------------------episode  450 -----------------------------\n"
          ]
        },
        {
          "output_type": "stream",
          "name": "stderr",
          "text": [
            "  9%|▉         | 451/5000 [01:05<12:29,  6.07it/s]"
          ]
        },
        {
          "output_type": "stream",
          "name": "stdout",
          "text": [
            "no. of UEs covered (Reward):  1370.0\n",
            "-----------------------------episode  451 -----------------------------\n",
            "no. of UEs covered (Reward):  1370.0\n",
            "-----------------------------episode  452 -----------------------------\n"
          ]
        },
        {
          "output_type": "stream",
          "name": "stderr",
          "text": [
            "  9%|▉         | 453/5000 [01:05<11:24,  6.65it/s]"
          ]
        },
        {
          "output_type": "stream",
          "name": "stdout",
          "text": [
            "no. of UEs covered (Reward):  150.0\n",
            "-----------------------------episode  453 -----------------------------\n",
            "no. of UEs covered (Reward):  700.0\n",
            "-----------------------------episode  454 -----------------------------\n"
          ]
        },
        {
          "output_type": "stream",
          "name": "stderr",
          "text": [
            "  9%|▉         | 455/5000 [01:06<10:22,  7.30it/s]"
          ]
        },
        {
          "output_type": "stream",
          "name": "stdout",
          "text": [
            "no. of UEs covered (Reward):  810.0\n",
            "-----------------------------episode  455 -----------------------------\n",
            "no. of UEs covered (Reward):  990.0\n",
            "-----------------------------episode  456 -----------------------------\n"
          ]
        },
        {
          "output_type": "stream",
          "name": "stderr",
          "text": [
            "  9%|▉         | 457/5000 [01:06<09:51,  7.68it/s]"
          ]
        },
        {
          "output_type": "stream",
          "name": "stdout",
          "text": [
            "no. of UEs covered (Reward):  600.0\n",
            "-----------------------------episode  457 -----------------------------\n",
            "no. of UEs covered (Reward):  720.0\n",
            "-----------------------------episode  458 -----------------------------\n"
          ]
        },
        {
          "output_type": "stream",
          "name": "stderr",
          "text": [
            "  9%|▉         | 459/5000 [01:06<09:56,  7.61it/s]"
          ]
        },
        {
          "output_type": "stream",
          "name": "stdout",
          "text": [
            "no. of UEs covered (Reward):  550.0\n",
            "-----------------------------episode  459 -----------------------------\n",
            "no. of UEs covered (Reward):  940.0\n",
            "-----------------------------episode  460 -----------------------------\n"
          ]
        },
        {
          "output_type": "stream",
          "name": "stderr",
          "text": [
            "  9%|▉         | 461/5000 [01:06<10:01,  7.54it/s]"
          ]
        },
        {
          "output_type": "stream",
          "name": "stdout",
          "text": [
            "no. of UEs covered (Reward):  550.0\n",
            "-----------------------------episode  461 -----------------------------\n",
            "no. of UEs covered (Reward):  540.0\n",
            "-----------------------------episode  462 -----------------------------\n"
          ]
        },
        {
          "output_type": "stream",
          "name": "stderr",
          "text": [
            "  9%|▉         | 463/5000 [01:07<09:59,  7.57it/s]"
          ]
        },
        {
          "output_type": "stream",
          "name": "stdout",
          "text": [
            "no. of UEs covered (Reward):  280.0\n",
            "-----------------------------episode  463 -----------------------------\n",
            "no. of UEs covered (Reward):  300.0\n",
            "-----------------------------episode  464 -----------------------------\n"
          ]
        },
        {
          "output_type": "stream",
          "name": "stderr",
          "text": [
            "  9%|▉         | 465/5000 [01:07<11:07,  6.79it/s]"
          ]
        },
        {
          "output_type": "stream",
          "name": "stdout",
          "text": [
            "no. of UEs covered (Reward):  570.0\n",
            "-----------------------------episode  465 -----------------------------\n",
            "no. of UEs covered (Reward):  880.0\n",
            "-----------------------------episode  466 -----------------------------\n"
          ]
        },
        {
          "output_type": "stream",
          "name": "stderr",
          "text": [
            "  9%|▉         | 467/5000 [01:07<12:31,  6.03it/s]"
          ]
        },
        {
          "output_type": "stream",
          "name": "stdout",
          "text": [
            "no. of UEs covered (Reward):  840.0\n",
            "-----------------------------episode  467 -----------------------------\n",
            "no. of UEs covered (Reward):  650.0\n",
            "-----------------------------episode  468 -----------------------------\n"
          ]
        },
        {
          "output_type": "stream",
          "name": "stderr",
          "text": [
            "  9%|▉         | 469/5000 [01:08<13:09,  5.74it/s]"
          ]
        },
        {
          "output_type": "stream",
          "name": "stdout",
          "text": [
            "no. of UEs covered (Reward):  590.0\n",
            "-----------------------------episode  469 -----------------------------\n",
            "no. of UEs covered (Reward):  470.0\n",
            "-----------------------------episode  470 -----------------------------\n"
          ]
        },
        {
          "output_type": "stream",
          "name": "stderr",
          "text": [
            "  9%|▉         | 471/5000 [01:08<13:34,  5.56it/s]"
          ]
        },
        {
          "output_type": "stream",
          "name": "stdout",
          "text": [
            "no. of UEs covered (Reward):  720.0\n",
            "-----------------------------episode  471 -----------------------------\n",
            "no. of UEs covered (Reward):  500.0\n",
            "-----------------------------episode  472 -----------------------------\n"
          ]
        },
        {
          "output_type": "stream",
          "name": "stderr",
          "text": [
            "  9%|▉         | 473/5000 [01:08<13:43,  5.50it/s]"
          ]
        },
        {
          "output_type": "stream",
          "name": "stdout",
          "text": [
            "no. of UEs covered (Reward):  70.0\n",
            "-----------------------------episode  473 -----------------------------\n",
            "no. of UEs covered (Reward):  300.0\n",
            "-----------------------------episode  474 -----------------------------\n"
          ]
        },
        {
          "output_type": "stream",
          "name": "stderr",
          "text": [
            " 10%|▉         | 475/5000 [01:09<14:08,  5.33it/s]"
          ]
        },
        {
          "output_type": "stream",
          "name": "stdout",
          "text": [
            "no. of UEs covered (Reward):  750.0\n",
            "-----------------------------episode  475 -----------------------------\n",
            "no. of UEs covered (Reward):  1050.0\n",
            "-----------------------------episode  476 -----------------------------\n"
          ]
        },
        {
          "output_type": "stream",
          "name": "stderr",
          "text": [
            " 10%|▉         | 477/5000 [01:09<13:45,  5.48it/s]"
          ]
        },
        {
          "output_type": "stream",
          "name": "stdout",
          "text": [
            "no. of UEs covered (Reward):  800.0\n",
            "-----------------------------episode  477 -----------------------------\n",
            "no. of UEs covered (Reward):  650.0\n",
            "-----------------------------episode  478 -----------------------------\n"
          ]
        },
        {
          "output_type": "stream",
          "name": "stderr",
          "text": [
            " 10%|▉         | 479/5000 [01:09<12:58,  5.81it/s]"
          ]
        },
        {
          "output_type": "stream",
          "name": "stdout",
          "text": [
            "no. of UEs covered (Reward):  800.0\n",
            "-----------------------------episode  479 -----------------------------\n",
            "no. of UEs covered (Reward):  80.0\n",
            "-----------------------------episode  480 -----------------------------\n"
          ]
        },
        {
          "output_type": "stream",
          "name": "stderr",
          "text": [
            " 10%|▉         | 481/5000 [01:10<11:25,  6.59it/s]"
          ]
        },
        {
          "output_type": "stream",
          "name": "stdout",
          "text": [
            "no. of UEs covered (Reward):  900.0\n",
            "-----------------------------episode  481 -----------------------------\n",
            "no. of UEs covered (Reward):  620.0\n",
            "-----------------------------episode  482 -----------------------------\n"
          ]
        },
        {
          "output_type": "stream",
          "name": "stderr",
          "text": [
            " 10%|▉         | 483/5000 [01:10<10:51,  6.93it/s]"
          ]
        },
        {
          "output_type": "stream",
          "name": "stdout",
          "text": [
            "no. of UEs covered (Reward):  900.0\n",
            "-----------------------------episode  483 -----------------------------\n",
            "no. of UEs covered (Reward):  400.0\n",
            "-----------------------------episode  484 -----------------------------\n"
          ]
        },
        {
          "output_type": "stream",
          "name": "stderr",
          "text": [
            " 10%|▉         | 485/5000 [01:10<10:16,  7.32it/s]"
          ]
        },
        {
          "output_type": "stream",
          "name": "stdout",
          "text": [
            "no. of UEs covered (Reward):  1340.0\n",
            "-----------------------------episode  485 -----------------------------\n",
            "no. of UEs covered (Reward):  950.0\n",
            "-----------------------------episode  486 -----------------------------\n"
          ]
        },
        {
          "output_type": "stream",
          "name": "stderr",
          "text": [
            " 10%|▉         | 487/5000 [01:11<10:03,  7.47it/s]"
          ]
        },
        {
          "output_type": "stream",
          "name": "stdout",
          "text": [
            "no. of UEs covered (Reward):  420.0\n",
            "-----------------------------episode  487 -----------------------------\n",
            "no. of UEs covered (Reward):  640.0\n",
            "-----------------------------episode  488 -----------------------------\n"
          ]
        },
        {
          "output_type": "stream",
          "name": "stderr",
          "text": [
            " 10%|▉         | 489/5000 [01:11<10:03,  7.47it/s]"
          ]
        },
        {
          "output_type": "stream",
          "name": "stdout",
          "text": [
            "no. of UEs covered (Reward):  1370.0\n",
            "-----------------------------episode  489 -----------------------------\n",
            "no. of UEs covered (Reward):  1140.0\n",
            "-----------------------------episode  490 -----------------------------\n"
          ]
        },
        {
          "output_type": "stream",
          "name": "stderr",
          "text": [
            " 10%|▉         | 491/5000 [01:11<09:46,  7.69it/s]"
          ]
        },
        {
          "output_type": "stream",
          "name": "stdout",
          "text": [
            "no. of UEs covered (Reward):  1340.0\n",
            "-----------------------------episode  491 -----------------------------\n",
            "no. of UEs covered (Reward):  1370.0\n",
            "-----------------------------episode  492 -----------------------------\n"
          ]
        },
        {
          "output_type": "stream",
          "name": "stderr",
          "text": [
            " 10%|▉         | 493/5000 [01:11<09:26,  7.95it/s]"
          ]
        },
        {
          "output_type": "stream",
          "name": "stdout",
          "text": [
            "no. of UEs covered (Reward):  780.0\n",
            "-----------------------------episode  493 -----------------------------\n",
            "no. of UEs covered (Reward):  1350.0\n",
            "-----------------------------episode  494 -----------------------------\n"
          ]
        },
        {
          "output_type": "stream",
          "name": "stderr",
          "text": [
            " 10%|▉         | 495/5000 [01:12<09:24,  7.98it/s]"
          ]
        },
        {
          "output_type": "stream",
          "name": "stdout",
          "text": [
            "no. of UEs covered (Reward):  1080.0\n",
            "-----------------------------episode  495 -----------------------------\n",
            "no. of UEs covered (Reward):  1370.0\n",
            "-----------------------------episode  496 -----------------------------\n"
          ]
        },
        {
          "output_type": "stream",
          "name": "stderr",
          "text": [
            " 10%|▉         | 497/5000 [01:12<09:31,  7.88it/s]"
          ]
        },
        {
          "output_type": "stream",
          "name": "stdout",
          "text": [
            "no. of UEs covered (Reward):  1130.0\n",
            "-----------------------------episode  497 -----------------------------\n",
            "no. of UEs covered (Reward):  1180.0\n",
            "-----------------------------episode  498 -----------------------------\n"
          ]
        },
        {
          "output_type": "stream",
          "name": "stderr",
          "text": [
            " 10%|▉         | 499/5000 [01:12<09:24,  7.97it/s]"
          ]
        },
        {
          "output_type": "stream",
          "name": "stdout",
          "text": [
            "no. of UEs covered (Reward):  390.0\n",
            "-----------------------------episode  499 -----------------------------\n",
            "no. of UEs covered (Reward):  790.0\n",
            "-----------------------------episode  500 -----------------------------\n"
          ]
        },
        {
          "output_type": "stream",
          "name": "stderr",
          "text": [
            " 10%|█         | 501/5000 [01:12<09:16,  8.08it/s]"
          ]
        },
        {
          "output_type": "stream",
          "name": "stdout",
          "text": [
            "no. of UEs covered (Reward):  1280.0\n",
            "-----------------------------episode  501 -----------------------------\n",
            "no. of UEs covered (Reward):  1170.0\n",
            "-----------------------------episode  502 -----------------------------\n"
          ]
        },
        {
          "output_type": "stream",
          "name": "stderr",
          "text": [
            " 10%|█         | 503/5000 [01:13<09:17,  8.07it/s]"
          ]
        },
        {
          "output_type": "stream",
          "name": "stdout",
          "text": [
            "no. of UEs covered (Reward):  780.0\n",
            "-----------------------------episode  503 -----------------------------\n",
            "no. of UEs covered (Reward):  1360.0\n",
            "-----------------------------episode  504 -----------------------------\n"
          ]
        },
        {
          "output_type": "stream",
          "name": "stderr",
          "text": [
            " 10%|█         | 505/5000 [01:13<09:46,  7.66it/s]"
          ]
        },
        {
          "output_type": "stream",
          "name": "stdout",
          "text": [
            "no. of UEs covered (Reward):  810.0\n",
            "-----------------------------episode  505 -----------------------------\n",
            "no. of UEs covered (Reward):  1370.0\n",
            "-----------------------------episode  506 -----------------------------\n"
          ]
        },
        {
          "output_type": "stream",
          "name": "stderr",
          "text": [
            " 10%|█         | 507/5000 [01:13<10:00,  7.48it/s]"
          ]
        },
        {
          "output_type": "stream",
          "name": "stdout",
          "text": [
            "no. of UEs covered (Reward):  1090.0\n",
            "-----------------------------episode  507 -----------------------------\n",
            "no. of UEs covered (Reward):  1330.0\n",
            "-----------------------------episode  508 -----------------------------\n"
          ]
        },
        {
          "output_type": "stream",
          "name": "stderr",
          "text": [
            " 10%|█         | 509/5000 [01:13<09:50,  7.60it/s]"
          ]
        },
        {
          "output_type": "stream",
          "name": "stdout",
          "text": [
            "no. of UEs covered (Reward):  1370.0\n",
            "-----------------------------episode  509 -----------------------------\n",
            "no. of UEs covered (Reward):  1170.0\n",
            "-----------------------------episode  510 -----------------------------\n"
          ]
        },
        {
          "output_type": "stream",
          "name": "stderr",
          "text": [
            " 10%|█         | 511/5000 [01:14<09:38,  7.77it/s]"
          ]
        },
        {
          "output_type": "stream",
          "name": "stdout",
          "text": [
            "no. of UEs covered (Reward):  1070.0\n",
            "-----------------------------episode  511 -----------------------------\n",
            "no. of UEs covered (Reward):  400.0\n",
            "-----------------------------episode  512 -----------------------------\n"
          ]
        },
        {
          "output_type": "stream",
          "name": "stderr",
          "text": [
            " 10%|█         | 513/5000 [01:14<09:44,  7.68it/s]"
          ]
        },
        {
          "output_type": "stream",
          "name": "stdout",
          "text": [
            "no. of UEs covered (Reward):  1260.0\n",
            "-----------------------------episode  513 -----------------------------\n",
            "no. of UEs covered (Reward):  1370.0\n",
            "-----------------------------episode  514 -----------------------------\n"
          ]
        },
        {
          "output_type": "stream",
          "name": "stderr",
          "text": [
            " 10%|█         | 515/5000 [01:14<09:41,  7.72it/s]"
          ]
        },
        {
          "output_type": "stream",
          "name": "stdout",
          "text": [
            "no. of UEs covered (Reward):  1380.0\n",
            "-----------------------------episode  515 -----------------------------\n",
            "no. of UEs covered (Reward):  1180.0\n",
            "-----------------------------episode  516 -----------------------------\n"
          ]
        },
        {
          "output_type": "stream",
          "name": "stderr",
          "text": [
            " 10%|█         | 517/5000 [01:14<09:39,  7.73it/s]"
          ]
        },
        {
          "output_type": "stream",
          "name": "stdout",
          "text": [
            "no. of UEs covered (Reward):  1370.0\n",
            "-----------------------------episode  517 -----------------------------\n",
            "no. of UEs covered (Reward):  1370.0\n",
            "-----------------------------episode  518 -----------------------------\n"
          ]
        },
        {
          "output_type": "stream",
          "name": "stderr",
          "text": [
            " 10%|█         | 519/5000 [01:15<09:39,  7.74it/s]"
          ]
        },
        {
          "output_type": "stream",
          "name": "stdout",
          "text": [
            "no. of UEs covered (Reward):  970.0\n",
            "-----------------------------episode  519 -----------------------------\n",
            "no. of UEs covered (Reward):  1110.0\n",
            "-----------------------------episode  520 -----------------------------\n"
          ]
        },
        {
          "output_type": "stream",
          "name": "stderr",
          "text": [
            "\r 10%|█         | 520/5000 [01:15<09:55,  7.53it/s]"
          ]
        },
        {
          "output_type": "stream",
          "name": "stdout",
          "text": [
            "no. of UEs covered (Reward):  1330.0\n",
            "-----------------------------episode  521 -----------------------------\n"
          ]
        },
        {
          "output_type": "stream",
          "name": "stderr",
          "text": [
            " 10%|█         | 522/5000 [01:15<12:17,  6.07it/s]"
          ]
        },
        {
          "output_type": "stream",
          "name": "stdout",
          "text": [
            "no. of UEs covered (Reward):  1250.0\n",
            "-----------------------------episode  522 -----------------------------\n",
            "no. of UEs covered (Reward):  1380.0\n",
            "-----------------------------episode  523 -----------------------------\n"
          ]
        },
        {
          "output_type": "stream",
          "name": "stderr",
          "text": [
            " 10%|█         | 524/5000 [01:15<10:37,  7.02it/s]"
          ]
        },
        {
          "output_type": "stream",
          "name": "stdout",
          "text": [
            "no. of UEs covered (Reward):  1200.0\n",
            "-----------------------------episode  524 -----------------------------\n",
            "no. of UEs covered (Reward):  770.0\n",
            "-----------------------------episode  525 -----------------------------\n"
          ]
        },
        {
          "output_type": "stream",
          "name": "stderr",
          "text": [
            " 11%|█         | 526/5000 [01:16<10:12,  7.31it/s]"
          ]
        },
        {
          "output_type": "stream",
          "name": "stdout",
          "text": [
            "no. of UEs covered (Reward):  1060.0\n",
            "-----------------------------episode  526 -----------------------------\n",
            "no. of UEs covered (Reward):  1290.0\n",
            "-----------------------------episode  527 -----------------------------\n"
          ]
        },
        {
          "output_type": "stream",
          "name": "stderr",
          "text": [
            " 11%|█         | 528/5000 [01:16<09:46,  7.62it/s]"
          ]
        },
        {
          "output_type": "stream",
          "name": "stdout",
          "text": [
            "no. of UEs covered (Reward):  900.0\n",
            "-----------------------------episode  528 -----------------------------\n",
            "no. of UEs covered (Reward):  920.0\n",
            "-----------------------------episode  529 -----------------------------\n"
          ]
        },
        {
          "output_type": "stream",
          "name": "stderr",
          "text": [
            " 11%|█         | 530/5000 [01:16<09:36,  7.76it/s]"
          ]
        },
        {
          "output_type": "stream",
          "name": "stdout",
          "text": [
            "no. of UEs covered (Reward):  1350.0\n",
            "-----------------------------episode  530 -----------------------------\n",
            "no. of UEs covered (Reward):  900.0\n",
            "-----------------------------episode  531 -----------------------------\n"
          ]
        },
        {
          "output_type": "stream",
          "name": "stderr",
          "text": [
            " 11%|█         | 532/5000 [01:16<09:40,  7.69it/s]"
          ]
        },
        {
          "output_type": "stream",
          "name": "stdout",
          "text": [
            "no. of UEs covered (Reward):  1360.0\n",
            "-----------------------------episode  532 -----------------------------\n",
            "no. of UEs covered (Reward):  1090.0\n",
            "-----------------------------episode  533 -----------------------------\n"
          ]
        },
        {
          "output_type": "stream",
          "name": "stderr",
          "text": [
            " 11%|█         | 534/5000 [01:17<09:32,  7.80it/s]"
          ]
        },
        {
          "output_type": "stream",
          "name": "stdout",
          "text": [
            "no. of UEs covered (Reward):  1290.0\n",
            "-----------------------------episode  534 -----------------------------\n",
            "no. of UEs covered (Reward):  1340.0\n",
            "-----------------------------episode  535 -----------------------------\n"
          ]
        },
        {
          "output_type": "stream",
          "name": "stderr",
          "text": [
            " 11%|█         | 536/5000 [01:17<09:40,  7.69it/s]"
          ]
        },
        {
          "output_type": "stream",
          "name": "stdout",
          "text": [
            "no. of UEs covered (Reward):  930.0\n",
            "-----------------------------episode  536 -----------------------------\n",
            "no. of UEs covered (Reward):  1350.0\n",
            "-----------------------------episode  537 -----------------------------\n"
          ]
        },
        {
          "output_type": "stream",
          "name": "stderr",
          "text": [
            " 11%|█         | 538/5000 [01:17<09:33,  7.78it/s]"
          ]
        },
        {
          "output_type": "stream",
          "name": "stdout",
          "text": [
            "no. of UEs covered (Reward):  650.0\n",
            "-----------------------------episode  538 -----------------------------\n",
            "no. of UEs covered (Reward):  350.0\n",
            "-----------------------------episode  539 -----------------------------\n"
          ]
        },
        {
          "output_type": "stream",
          "name": "stderr",
          "text": [
            " 11%|█         | 540/5000 [01:17<09:26,  7.88it/s]"
          ]
        },
        {
          "output_type": "stream",
          "name": "stdout",
          "text": [
            "no. of UEs covered (Reward):  1310.0\n",
            "-----------------------------episode  540 -----------------------------\n",
            "no. of UEs covered (Reward):  1350.0\n",
            "-----------------------------episode  541 -----------------------------\n"
          ]
        },
        {
          "output_type": "stream",
          "name": "stderr",
          "text": [
            " 11%|█         | 542/5000 [01:18<09:34,  7.76it/s]"
          ]
        },
        {
          "output_type": "stream",
          "name": "stdout",
          "text": [
            "no. of UEs covered (Reward):  1320.0\n",
            "-----------------------------episode  542 -----------------------------\n",
            "no. of UEs covered (Reward):  1370.0\n",
            "-----------------------------episode  543 -----------------------------\n"
          ]
        },
        {
          "output_type": "stream",
          "name": "stderr",
          "text": [
            " 11%|█         | 544/5000 [01:18<09:43,  7.63it/s]"
          ]
        },
        {
          "output_type": "stream",
          "name": "stdout",
          "text": [
            "no. of UEs covered (Reward):  1290.0\n",
            "-----------------------------episode  544 -----------------------------\n",
            "no. of UEs covered (Reward):  660.0\n",
            "-----------------------------episode  545 -----------------------------\n"
          ]
        },
        {
          "output_type": "stream",
          "name": "stderr",
          "text": [
            " 11%|█         | 546/5000 [01:18<09:38,  7.70it/s]"
          ]
        },
        {
          "output_type": "stream",
          "name": "stdout",
          "text": [
            "no. of UEs covered (Reward):  720.0\n",
            "-----------------------------episode  546 -----------------------------\n",
            "no. of UEs covered (Reward):  1370.0\n",
            "-----------------------------episode  547 -----------------------------\n"
          ]
        },
        {
          "output_type": "stream",
          "name": "stderr",
          "text": [
            " 11%|█         | 548/5000 [01:19<09:28,  7.84it/s]"
          ]
        },
        {
          "output_type": "stream",
          "name": "stdout",
          "text": [
            "no. of UEs covered (Reward):  1230.0\n",
            "-----------------------------episode  548 -----------------------------\n",
            "no. of UEs covered (Reward):  1330.0\n",
            "-----------------------------episode  549 -----------------------------\n"
          ]
        },
        {
          "output_type": "stream",
          "name": "stderr",
          "text": [
            " 11%|█         | 550/5000 [01:19<09:35,  7.73it/s]"
          ]
        },
        {
          "output_type": "stream",
          "name": "stdout",
          "text": [
            "no. of UEs covered (Reward):  1170.0\n",
            "-----------------------------episode  550 -----------------------------\n",
            "no. of UEs covered (Reward):  880.0\n",
            "-----------------------------episode  551 -----------------------------\n"
          ]
        },
        {
          "output_type": "stream",
          "name": "stderr",
          "text": [
            " 11%|█         | 552/5000 [01:19<09:25,  7.87it/s]"
          ]
        },
        {
          "output_type": "stream",
          "name": "stdout",
          "text": [
            "no. of UEs covered (Reward):  1340.0\n",
            "-----------------------------episode  552 -----------------------------\n",
            "no. of UEs covered (Reward):  1370.0\n",
            "-----------------------------episode  553 -----------------------------\n"
          ]
        },
        {
          "output_type": "stream",
          "name": "stderr",
          "text": [
            " 11%|█         | 554/5000 [01:19<09:21,  7.92it/s]"
          ]
        },
        {
          "output_type": "stream",
          "name": "stdout",
          "text": [
            "no. of UEs covered (Reward):  680.0\n",
            "-----------------------------episode  554 -----------------------------\n",
            "no. of UEs covered (Reward):  1280.0\n",
            "-----------------------------episode  555 -----------------------------\n"
          ]
        },
        {
          "output_type": "stream",
          "name": "stderr",
          "text": [
            " 11%|█         | 556/5000 [01:20<10:55,  6.78it/s]"
          ]
        },
        {
          "output_type": "stream",
          "name": "stdout",
          "text": [
            "no. of UEs covered (Reward):  1330.0\n",
            "-----------------------------episode  556 -----------------------------\n",
            "no. of UEs covered (Reward):  910.0\n",
            "-----------------------------episode  557 -----------------------------\n"
          ]
        },
        {
          "output_type": "stream",
          "name": "stderr",
          "text": [
            " 11%|█         | 558/5000 [01:20<12:02,  6.15it/s]"
          ]
        },
        {
          "output_type": "stream",
          "name": "stdout",
          "text": [
            "no. of UEs covered (Reward):  1370.0\n",
            "-----------------------------episode  558 -----------------------------\n",
            "no. of UEs covered (Reward):  1360.0\n",
            "-----------------------------episode  559 -----------------------------\n"
          ]
        },
        {
          "output_type": "stream",
          "name": "stderr",
          "text": [
            " 11%|█         | 560/5000 [01:20<12:51,  5.76it/s]"
          ]
        },
        {
          "output_type": "stream",
          "name": "stdout",
          "text": [
            "no. of UEs covered (Reward):  1290.0\n",
            "-----------------------------episode  560 -----------------------------\n",
            "no. of UEs covered (Reward):  1150.0\n",
            "-----------------------------episode  561 -----------------------------\n"
          ]
        },
        {
          "output_type": "stream",
          "name": "stderr",
          "text": [
            " 11%|█         | 562/5000 [01:21<13:00,  5.69it/s]"
          ]
        },
        {
          "output_type": "stream",
          "name": "stdout",
          "text": [
            "no. of UEs covered (Reward):  1380.0\n",
            "-----------------------------episode  562 -----------------------------\n",
            "no. of UEs covered (Reward):  1300.0\n",
            "-----------------------------episode  563 -----------------------------\n"
          ]
        },
        {
          "output_type": "stream",
          "name": "stderr",
          "text": [
            " 11%|█▏        | 564/5000 [01:21<13:15,  5.58it/s]"
          ]
        },
        {
          "output_type": "stream",
          "name": "stdout",
          "text": [
            "no. of UEs covered (Reward):  850.0\n",
            "-----------------------------episode  564 -----------------------------\n",
            "no. of UEs covered (Reward):  930.0\n",
            "-----------------------------episode  565 -----------------------------\n"
          ]
        },
        {
          "output_type": "stream",
          "name": "stderr",
          "text": [
            " 11%|█▏        | 566/5000 [01:21<13:53,  5.32it/s]"
          ]
        },
        {
          "output_type": "stream",
          "name": "stdout",
          "text": [
            "no. of UEs covered (Reward):  730.0\n",
            "-----------------------------episode  566 -----------------------------\n",
            "no. of UEs covered (Reward):  1310.0\n",
            "-----------------------------episode  567 -----------------------------\n"
          ]
        },
        {
          "output_type": "stream",
          "name": "stderr",
          "text": [
            "\r 11%|█▏        | 567/5000 [01:22<14:16,  5.18it/s]"
          ]
        },
        {
          "output_type": "stream",
          "name": "stdout",
          "text": [
            "no. of UEs covered (Reward):  840.0\n",
            "-----------------------------episode  568 -----------------------------\n"
          ]
        },
        {
          "output_type": "stream",
          "name": "stderr",
          "text": [
            " 11%|█▏        | 569/5000 [01:22<14:22,  5.14it/s]"
          ]
        },
        {
          "output_type": "stream",
          "name": "stdout",
          "text": [
            "no. of UEs covered (Reward):  1170.0\n",
            "-----------------------------episode  569 -----------------------------\n",
            "no. of UEs covered (Reward):  1390.0\n",
            "-----------------------------episode  570 -----------------------------\n"
          ]
        },
        {
          "output_type": "stream",
          "name": "stderr",
          "text": [
            " 11%|█▏        | 571/5000 [01:22<12:01,  6.14it/s]"
          ]
        },
        {
          "output_type": "stream",
          "name": "stdout",
          "text": [
            "no. of UEs covered (Reward):  600.0\n",
            "-----------------------------episode  571 -----------------------------\n",
            "no. of UEs covered (Reward):  1360.0\n",
            "-----------------------------episode  572 -----------------------------\n"
          ]
        },
        {
          "output_type": "stream",
          "name": "stderr",
          "text": [
            " 11%|█▏        | 573/5000 [01:23<10:33,  6.98it/s]"
          ]
        },
        {
          "output_type": "stream",
          "name": "stdout",
          "text": [
            "no. of UEs covered (Reward):  1370.0\n",
            "-----------------------------episode  573 -----------------------------\n",
            "no. of UEs covered (Reward):  1250.0\n",
            "-----------------------------episode  574 -----------------------------\n"
          ]
        },
        {
          "output_type": "stream",
          "name": "stderr",
          "text": [
            " 12%|█▏        | 575/5000 [01:23<10:04,  7.33it/s]"
          ]
        },
        {
          "output_type": "stream",
          "name": "stdout",
          "text": [
            "no. of UEs covered (Reward):  220.0\n",
            "-----------------------------episode  575 -----------------------------\n",
            "no. of UEs covered (Reward):  550.0\n",
            "-----------------------------episode  576 -----------------------------\n"
          ]
        },
        {
          "output_type": "stream",
          "name": "stderr",
          "text": [
            " 12%|█▏        | 577/5000 [01:23<09:46,  7.54it/s]"
          ]
        },
        {
          "output_type": "stream",
          "name": "stdout",
          "text": [
            "no. of UEs covered (Reward):  140.0\n",
            "-----------------------------episode  577 -----------------------------\n",
            "no. of UEs covered (Reward):  500.0\n",
            "-----------------------------episode  578 -----------------------------\n"
          ]
        },
        {
          "output_type": "stream",
          "name": "stderr",
          "text": [
            " 12%|█▏        | 579/5000 [01:23<09:48,  7.52it/s]"
          ]
        },
        {
          "output_type": "stream",
          "name": "stdout",
          "text": [
            "no. of UEs covered (Reward):  260.0\n",
            "-----------------------------episode  579 -----------------------------\n",
            "no. of UEs covered (Reward):  1340.0\n",
            "-----------------------------episode  580 -----------------------------\n"
          ]
        },
        {
          "output_type": "stream",
          "name": "stderr",
          "text": [
            " 12%|█▏        | 581/5000 [01:24<09:18,  7.92it/s]"
          ]
        },
        {
          "output_type": "stream",
          "name": "stdout",
          "text": [
            "no. of UEs covered (Reward):  670.0\n",
            "-----------------------------episode  581 -----------------------------\n",
            "no. of UEs covered (Reward):  1350.0\n",
            "-----------------------------episode  582 -----------------------------\n"
          ]
        },
        {
          "output_type": "stream",
          "name": "stderr",
          "text": [
            " 12%|█▏        | 583/5000 [01:24<09:29,  7.75it/s]"
          ]
        },
        {
          "output_type": "stream",
          "name": "stdout",
          "text": [
            "no. of UEs covered (Reward):  1380.0\n",
            "-----------------------------episode  583 -----------------------------\n",
            "no. of UEs covered (Reward):  1360.0\n",
            "-----------------------------episode  584 -----------------------------\n"
          ]
        },
        {
          "output_type": "stream",
          "name": "stderr",
          "text": [
            " 12%|█▏        | 585/5000 [01:24<09:20,  7.88it/s]"
          ]
        },
        {
          "output_type": "stream",
          "name": "stdout",
          "text": [
            "no. of UEs covered (Reward):  1150.0\n",
            "-----------------------------episode  585 -----------------------------\n",
            "no. of UEs covered (Reward):  950.0\n",
            "-----------------------------episode  586 -----------------------------\n"
          ]
        },
        {
          "output_type": "stream",
          "name": "stderr",
          "text": [
            " 12%|█▏        | 587/5000 [01:24<09:26,  7.79it/s]"
          ]
        },
        {
          "output_type": "stream",
          "name": "stdout",
          "text": [
            "no. of UEs covered (Reward):  270.0\n",
            "-----------------------------episode  587 -----------------------------\n",
            "no. of UEs covered (Reward):  620.0\n",
            "-----------------------------episode  588 -----------------------------\n"
          ]
        },
        {
          "output_type": "stream",
          "name": "stderr",
          "text": [
            " 12%|█▏        | 589/5000 [01:25<09:27,  7.78it/s]"
          ]
        },
        {
          "output_type": "stream",
          "name": "stdout",
          "text": [
            "no. of UEs covered (Reward):  1380.0\n",
            "-----------------------------episode  589 -----------------------------\n",
            "no. of UEs covered (Reward):  1000.0\n",
            "-----------------------------episode  590 -----------------------------\n"
          ]
        },
        {
          "output_type": "stream",
          "name": "stderr",
          "text": [
            " 12%|█▏        | 591/5000 [01:25<09:42,  7.57it/s]"
          ]
        },
        {
          "output_type": "stream",
          "name": "stdout",
          "text": [
            "no. of UEs covered (Reward):  1370.0\n",
            "-----------------------------episode  591 -----------------------------\n",
            "no. of UEs covered (Reward):  1380.0\n",
            "-----------------------------episode  592 -----------------------------\n"
          ]
        },
        {
          "output_type": "stream",
          "name": "stderr",
          "text": [
            " 12%|█▏        | 593/5000 [01:25<09:47,  7.50it/s]"
          ]
        },
        {
          "output_type": "stream",
          "name": "stdout",
          "text": [
            "no. of UEs covered (Reward):  1260.0\n",
            "-----------------------------episode  593 -----------------------------\n",
            "no. of UEs covered (Reward):  1180.0\n",
            "-----------------------------episode  594 -----------------------------\n"
          ]
        },
        {
          "output_type": "stream",
          "name": "stderr",
          "text": [
            " 12%|█▏        | 595/5000 [01:25<09:28,  7.75it/s]"
          ]
        },
        {
          "output_type": "stream",
          "name": "stdout",
          "text": [
            "no. of UEs covered (Reward):  1380.0\n",
            "-----------------------------episode  595 -----------------------------\n",
            "no. of UEs covered (Reward):  460.0\n",
            "-----------------------------episode  596 -----------------------------\n"
          ]
        },
        {
          "output_type": "stream",
          "name": "stderr",
          "text": [
            " 12%|█▏        | 597/5000 [01:26<09:18,  7.89it/s]"
          ]
        },
        {
          "output_type": "stream",
          "name": "stdout",
          "text": [
            "no. of UEs covered (Reward):  1230.0\n",
            "-----------------------------episode  597 -----------------------------\n",
            "no. of UEs covered (Reward):  720.0\n",
            "-----------------------------episode  598 -----------------------------\n"
          ]
        },
        {
          "output_type": "stream",
          "name": "stderr",
          "text": [
            " 12%|█▏        | 599/5000 [01:26<09:16,  7.91it/s]"
          ]
        },
        {
          "output_type": "stream",
          "name": "stdout",
          "text": [
            "no. of UEs covered (Reward):  1360.0\n",
            "-----------------------------episode  599 -----------------------------\n",
            "no. of UEs covered (Reward):  1110.0\n",
            "-----------------------------episode  600 -----------------------------\n"
          ]
        },
        {
          "output_type": "stream",
          "name": "stderr",
          "text": [
            " 12%|█▏        | 601/5000 [01:26<09:06,  8.06it/s]"
          ]
        },
        {
          "output_type": "stream",
          "name": "stdout",
          "text": [
            "no. of UEs covered (Reward):  940.0\n",
            "-----------------------------episode  601 -----------------------------\n",
            "no. of UEs covered (Reward):  1350.0\n",
            "-----------------------------episode  602 -----------------------------\n"
          ]
        },
        {
          "output_type": "stream",
          "name": "stderr",
          "text": [
            " 12%|█▏        | 603/5000 [01:26<09:14,  7.94it/s]"
          ]
        },
        {
          "output_type": "stream",
          "name": "stdout",
          "text": [
            "no. of UEs covered (Reward):  920.0\n",
            "-----------------------------episode  603 -----------------------------\n",
            "no. of UEs covered (Reward):  520.0\n",
            "-----------------------------episode  604 -----------------------------\n"
          ]
        },
        {
          "output_type": "stream",
          "name": "stderr",
          "text": [
            " 12%|█▏        | 605/5000 [01:27<09:13,  7.94it/s]"
          ]
        },
        {
          "output_type": "stream",
          "name": "stdout",
          "text": [
            "no. of UEs covered (Reward):  650.0\n",
            "-----------------------------episode  605 -----------------------------\n",
            "no. of UEs covered (Reward):  1040.0\n",
            "-----------------------------episode  606 -----------------------------\n"
          ]
        },
        {
          "output_type": "stream",
          "name": "stderr",
          "text": [
            " 12%|█▏        | 607/5000 [01:27<09:23,  7.79it/s]"
          ]
        },
        {
          "output_type": "stream",
          "name": "stdout",
          "text": [
            "no. of UEs covered (Reward):  1190.0\n",
            "-----------------------------episode  607 -----------------------------\n",
            "no. of UEs covered (Reward):  1340.0\n",
            "-----------------------------episode  608 -----------------------------\n"
          ]
        },
        {
          "output_type": "stream",
          "name": "stderr",
          "text": [
            " 12%|█▏        | 609/5000 [01:27<09:33,  7.66it/s]"
          ]
        },
        {
          "output_type": "stream",
          "name": "stdout",
          "text": [
            "no. of UEs covered (Reward):  1110.0\n",
            "-----------------------------episode  609 -----------------------------\n",
            "no. of UEs covered (Reward):  1370.0\n",
            "-----------------------------episode  610 -----------------------------\n"
          ]
        },
        {
          "output_type": "stream",
          "name": "stderr",
          "text": [
            " 12%|█▏        | 611/5000 [01:27<09:21,  7.82it/s]"
          ]
        },
        {
          "output_type": "stream",
          "name": "stdout",
          "text": [
            "no. of UEs covered (Reward):  960.0\n",
            "-----------------------------episode  611 -----------------------------\n",
            "no. of UEs covered (Reward):  1350.0\n",
            "-----------------------------episode  612 -----------------------------\n"
          ]
        },
        {
          "output_type": "stream",
          "name": "stderr",
          "text": [
            " 12%|█▏        | 613/5000 [01:28<09:38,  7.58it/s]"
          ]
        },
        {
          "output_type": "stream",
          "name": "stdout",
          "text": [
            "no. of UEs covered (Reward):  1140.0\n",
            "-----------------------------episode  613 -----------------------------\n",
            "no. of UEs covered (Reward):  1370.0\n",
            "-----------------------------episode  614 -----------------------------\n"
          ]
        },
        {
          "output_type": "stream",
          "name": "stderr",
          "text": [
            " 12%|█▏        | 615/5000 [01:28<09:40,  7.56it/s]"
          ]
        },
        {
          "output_type": "stream",
          "name": "stdout",
          "text": [
            "no. of UEs covered (Reward):  1100.0\n",
            "-----------------------------episode  615 -----------------------------\n",
            "no. of UEs covered (Reward):  960.0\n",
            "-----------------------------episode  616 -----------------------------\n"
          ]
        },
        {
          "output_type": "stream",
          "name": "stderr",
          "text": [
            " 12%|█▏        | 617/5000 [01:28<09:46,  7.47it/s]"
          ]
        },
        {
          "output_type": "stream",
          "name": "stdout",
          "text": [
            "no. of UEs covered (Reward):  1220.0\n",
            "-----------------------------episode  617 -----------------------------\n",
            "no. of UEs covered (Reward):  1370.0\n",
            "-----------------------------episode  618 -----------------------------\n"
          ]
        },
        {
          "output_type": "stream",
          "name": "stderr",
          "text": [
            " 12%|█▏        | 619/5000 [01:29<09:47,  7.46it/s]"
          ]
        },
        {
          "output_type": "stream",
          "name": "stdout",
          "text": [
            "no. of UEs covered (Reward):  1360.0\n",
            "-----------------------------episode  619 -----------------------------\n",
            "no. of UEs covered (Reward):  1360.0\n",
            "-----------------------------episode  620 -----------------------------\n"
          ]
        },
        {
          "output_type": "stream",
          "name": "stderr",
          "text": [
            " 12%|█▏        | 621/5000 [01:29<09:45,  7.48it/s]"
          ]
        },
        {
          "output_type": "stream",
          "name": "stdout",
          "text": [
            "no. of UEs covered (Reward):  1370.0\n",
            "-----------------------------episode  621 -----------------------------\n",
            "no. of UEs covered (Reward):  1370.0\n",
            "-----------------------------episode  622 -----------------------------\n"
          ]
        },
        {
          "output_type": "stream",
          "name": "stderr",
          "text": [
            " 12%|█▏        | 623/5000 [01:29<09:57,  7.33it/s]"
          ]
        },
        {
          "output_type": "stream",
          "name": "stdout",
          "text": [
            "no. of UEs covered (Reward):  1240.0\n",
            "-----------------------------episode  623 -----------------------------\n",
            "no. of UEs covered (Reward):  1310.0\n",
            "-----------------------------episode  624 -----------------------------\n"
          ]
        },
        {
          "output_type": "stream",
          "name": "stderr",
          "text": [
            " 12%|█▎        | 625/5000 [01:29<09:37,  7.57it/s]"
          ]
        },
        {
          "output_type": "stream",
          "name": "stdout",
          "text": [
            "no. of UEs covered (Reward):  1050.0\n",
            "-----------------------------episode  625 -----------------------------\n",
            "no. of UEs covered (Reward):  880.0\n",
            "-----------------------------episode  626 -----------------------------\n"
          ]
        },
        {
          "output_type": "stream",
          "name": "stderr",
          "text": [
            " 13%|█▎        | 627/5000 [01:30<09:32,  7.64it/s]"
          ]
        },
        {
          "output_type": "stream",
          "name": "stdout",
          "text": [
            "no. of UEs covered (Reward):  60.0\n",
            "-----------------------------episode  627 -----------------------------\n",
            "no. of UEs covered (Reward):  1370.0\n",
            "-----------------------------episode  628 -----------------------------\n"
          ]
        },
        {
          "output_type": "stream",
          "name": "stderr",
          "text": [
            " 13%|█▎        | 629/5000 [01:30<09:33,  7.63it/s]"
          ]
        },
        {
          "output_type": "stream",
          "name": "stdout",
          "text": [
            "no. of UEs covered (Reward):  70.0\n",
            "-----------------------------episode  629 -----------------------------\n",
            "no. of UEs covered (Reward):  990.0\n",
            "-----------------------------episode  630 -----------------------------\n"
          ]
        },
        {
          "output_type": "stream",
          "name": "stderr",
          "text": [
            " 13%|█▎        | 631/5000 [01:30<09:38,  7.55it/s]"
          ]
        },
        {
          "output_type": "stream",
          "name": "stdout",
          "text": [
            "no. of UEs covered (Reward):  1020.0\n",
            "-----------------------------episode  631 -----------------------------\n",
            "no. of UEs covered (Reward):  1340.0\n",
            "-----------------------------episode  632 -----------------------------\n"
          ]
        },
        {
          "output_type": "stream",
          "name": "stderr",
          "text": [
            " 13%|█▎        | 633/5000 [01:30<09:36,  7.57it/s]"
          ]
        },
        {
          "output_type": "stream",
          "name": "stdout",
          "text": [
            "no. of UEs covered (Reward):  920.0\n",
            "-----------------------------episode  633 -----------------------------\n",
            "no. of UEs covered (Reward):  330.0\n",
            "-----------------------------episode  634 -----------------------------\n"
          ]
        },
        {
          "output_type": "stream",
          "name": "stderr",
          "text": [
            " 13%|█▎        | 635/5000 [01:31<09:34,  7.60it/s]"
          ]
        },
        {
          "output_type": "stream",
          "name": "stdout",
          "text": [
            "no. of UEs covered (Reward):  450.0\n",
            "-----------------------------episode  635 -----------------------------\n",
            "no. of UEs covered (Reward):  1380.0\n",
            "-----------------------------episode  636 -----------------------------\n"
          ]
        },
        {
          "output_type": "stream",
          "name": "stderr",
          "text": [
            " 13%|█▎        | 637/5000 [01:31<09:36,  7.56it/s]"
          ]
        },
        {
          "output_type": "stream",
          "name": "stdout",
          "text": [
            "no. of UEs covered (Reward):  910.0\n",
            "-----------------------------episode  637 -----------------------------\n",
            "no. of UEs covered (Reward):  1260.0\n",
            "-----------------------------episode  638 -----------------------------\n"
          ]
        },
        {
          "output_type": "stream",
          "name": "stderr",
          "text": [
            " 13%|█▎        | 639/5000 [01:31<09:30,  7.64it/s]"
          ]
        },
        {
          "output_type": "stream",
          "name": "stdout",
          "text": [
            "no. of UEs covered (Reward):  860.0\n",
            "-----------------------------episode  639 -----------------------------\n",
            "no. of UEs covered (Reward):  1180.0\n",
            "-----------------------------episode  640 -----------------------------\n"
          ]
        },
        {
          "output_type": "stream",
          "name": "stderr",
          "text": [
            " 13%|█▎        | 641/5000 [01:31<09:47,  7.42it/s]"
          ]
        },
        {
          "output_type": "stream",
          "name": "stdout",
          "text": [
            "no. of UEs covered (Reward):  590.0\n",
            "-----------------------------episode  641 -----------------------------\n",
            "no. of UEs covered (Reward):  790.0\n",
            "-----------------------------episode  642 -----------------------------\n"
          ]
        },
        {
          "output_type": "stream",
          "name": "stderr",
          "text": [
            " 13%|█▎        | 643/5000 [01:32<09:31,  7.62it/s]"
          ]
        },
        {
          "output_type": "stream",
          "name": "stdout",
          "text": [
            "no. of UEs covered (Reward):  1300.0\n",
            "-----------------------------episode  643 -----------------------------\n",
            "no. of UEs covered (Reward):  160.0\n",
            "-----------------------------episode  644 -----------------------------\n"
          ]
        },
        {
          "output_type": "stream",
          "name": "stderr",
          "text": [
            " 13%|█▎        | 645/5000 [01:32<09:22,  7.74it/s]"
          ]
        },
        {
          "output_type": "stream",
          "name": "stdout",
          "text": [
            "no. of UEs covered (Reward):  140.0\n",
            "-----------------------------episode  645 -----------------------------\n",
            "no. of UEs covered (Reward):  1360.0\n",
            "-----------------------------episode  646 -----------------------------\n"
          ]
        },
        {
          "output_type": "stream",
          "name": "stderr",
          "text": [
            " 13%|█▎        | 647/5000 [01:32<11:21,  6.39it/s]"
          ]
        },
        {
          "output_type": "stream",
          "name": "stdout",
          "text": [
            "no. of UEs covered (Reward):  60.0\n",
            "-----------------------------episode  647 -----------------------------\n",
            "no. of UEs covered (Reward):  1360.0\n",
            "-----------------------------episode  648 -----------------------------\n"
          ]
        },
        {
          "output_type": "stream",
          "name": "stderr",
          "text": [
            " 13%|█▎        | 649/5000 [01:33<12:06,  5.99it/s]"
          ]
        },
        {
          "output_type": "stream",
          "name": "stdout",
          "text": [
            "no. of UEs covered (Reward):  1370.0\n",
            "-----------------------------episode  649 -----------------------------\n",
            "no. of UEs covered (Reward):  780.0\n",
            "-----------------------------episode  650 -----------------------------\n"
          ]
        },
        {
          "output_type": "stream",
          "name": "stderr",
          "text": [
            " 13%|█▎        | 651/5000 [01:33<12:44,  5.69it/s]"
          ]
        },
        {
          "output_type": "stream",
          "name": "stdout",
          "text": [
            "no. of UEs covered (Reward):  1160.0\n",
            "-----------------------------episode  651 -----------------------------\n",
            "no. of UEs covered (Reward):  1020.0\n",
            "-----------------------------episode  652 -----------------------------\n"
          ]
        },
        {
          "output_type": "stream",
          "name": "stderr",
          "text": [
            " 13%|█▎        | 653/5000 [01:33<13:03,  5.55it/s]"
          ]
        },
        {
          "output_type": "stream",
          "name": "stdout",
          "text": [
            "no. of UEs covered (Reward):  340.0\n",
            "-----------------------------episode  653 -----------------------------\n",
            "no. of UEs covered (Reward):  500.0\n",
            "-----------------------------episode  654 -----------------------------\n"
          ]
        },
        {
          "output_type": "stream",
          "name": "stderr",
          "text": [
            " 13%|█▎        | 655/5000 [01:34<13:17,  5.45it/s]"
          ]
        },
        {
          "output_type": "stream",
          "name": "stdout",
          "text": [
            "no. of UEs covered (Reward):  810.0\n",
            "-----------------------------episode  655 -----------------------------\n",
            "no. of UEs covered (Reward):  430.0\n",
            "-----------------------------episode  656 -----------------------------\n"
          ]
        },
        {
          "output_type": "stream",
          "name": "stderr",
          "text": [
            " 13%|█▎        | 657/5000 [01:34<13:25,  5.39it/s]"
          ]
        },
        {
          "output_type": "stream",
          "name": "stdout",
          "text": [
            "no. of UEs covered (Reward):  160.0\n",
            "-----------------------------episode  657 -----------------------------\n",
            "no. of UEs covered (Reward):  1360.0\n",
            "-----------------------------episode  658 -----------------------------\n"
          ]
        },
        {
          "output_type": "stream",
          "name": "stderr",
          "text": [
            " 13%|█▎        | 659/5000 [01:35<13:53,  5.21it/s]"
          ]
        },
        {
          "output_type": "stream",
          "name": "stdout",
          "text": [
            "no. of UEs covered (Reward):  690.0\n",
            "-----------------------------episode  659 -----------------------------\n",
            "no. of UEs covered (Reward):  730.0\n",
            "-----------------------------episode "
          ]
        },
        {
          "output_type": "stream",
          "name": "stderr",
          "text": [
            "\r 13%|█▎        | 660/5000 [01:35<12:55,  5.60it/s]"
          ]
        },
        {
          "output_type": "stream",
          "name": "stdout",
          "text": [
            " 660 -----------------------------\n",
            "no. of UEs covered (Reward):  450.0\n",
            "-----------------------------episode  661 -----------------------------\n"
          ]
        },
        {
          "output_type": "stream",
          "name": "stderr",
          "text": [
            " 13%|█▎        | 662/5000 [01:35<11:07,  6.50it/s]"
          ]
        },
        {
          "output_type": "stream",
          "name": "stdout",
          "text": [
            "no. of UEs covered (Reward):  470.0\n",
            "-----------------------------episode  662 -----------------------------\n",
            "no. of UEs covered (Reward):  730.0\n",
            "-----------------------------episode  663 -----------------------------\n"
          ]
        },
        {
          "output_type": "stream",
          "name": "stderr",
          "text": [
            " 13%|█▎        | 664/5000 [01:35<10:22,  6.97it/s]"
          ]
        },
        {
          "output_type": "stream",
          "name": "stdout",
          "text": [
            "no. of UEs covered (Reward):  1210.0\n",
            "-----------------------------episode  664 -----------------------------\n",
            "no. of UEs covered (Reward):  110.0\n",
            "-----------------------------episode  665 -----------------------------\n"
          ]
        },
        {
          "output_type": "stream",
          "name": "stderr",
          "text": [
            " 13%|█▎        | 666/5000 [01:36<09:48,  7.37it/s]"
          ]
        },
        {
          "output_type": "stream",
          "name": "stdout",
          "text": [
            "no. of UEs covered (Reward):  690.0\n",
            "-----------------------------episode  666 -----------------------------\n",
            "no. of UEs covered (Reward):  40.0\n",
            "-----------------------------episode  667 -----------------------------\n"
          ]
        },
        {
          "output_type": "stream",
          "name": "stderr",
          "text": [
            " 13%|█▎        | 668/5000 [01:36<09:33,  7.55it/s]"
          ]
        },
        {
          "output_type": "stream",
          "name": "stdout",
          "text": [
            "no. of UEs covered (Reward):  240.0\n",
            "-----------------------------episode  668 -----------------------------\n",
            "no. of UEs covered (Reward):  780.0\n",
            "-----------------------------episode  669 -----------------------------\n"
          ]
        },
        {
          "output_type": "stream",
          "name": "stderr",
          "text": [
            " 13%|█▎        | 670/5000 [01:36<09:29,  7.61it/s]"
          ]
        },
        {
          "output_type": "stream",
          "name": "stdout",
          "text": [
            "no. of UEs covered (Reward):  770.0\n",
            "-----------------------------episode  670 -----------------------------\n",
            "no. of UEs covered (Reward):  1010.0\n",
            "-----------------------------episode  671 -----------------------------\n"
          ]
        },
        {
          "output_type": "stream",
          "name": "stderr",
          "text": [
            " 13%|█▎        | 672/5000 [01:36<09:25,  7.66it/s]"
          ]
        },
        {
          "output_type": "stream",
          "name": "stdout",
          "text": [
            "no. of UEs covered (Reward):  710.0\n",
            "-----------------------------episode  672 -----------------------------\n",
            "no. of UEs covered (Reward):  510.0\n",
            "-----------------------------episode  673 -----------------------------\n"
          ]
        },
        {
          "output_type": "stream",
          "name": "stderr",
          "text": [
            " 13%|█▎        | 674/5000 [01:37<09:12,  7.84it/s]"
          ]
        },
        {
          "output_type": "stream",
          "name": "stdout",
          "text": [
            "no. of UEs covered (Reward):  700.0\n",
            "-----------------------------episode  674 -----------------------------\n",
            "no. of UEs covered (Reward):  1370.0\n",
            "-----------------------------episode  675 -----------------------------\n"
          ]
        },
        {
          "output_type": "stream",
          "name": "stderr",
          "text": [
            " 14%|█▎        | 676/5000 [01:37<09:10,  7.85it/s]"
          ]
        },
        {
          "output_type": "stream",
          "name": "stdout",
          "text": [
            "no. of UEs covered (Reward):  1380.0\n",
            "-----------------------------episode  676 -----------------------------\n",
            "no. of UEs covered (Reward):  1180.0\n",
            "-----------------------------episode  677 -----------------------------\n"
          ]
        },
        {
          "output_type": "stream",
          "name": "stderr",
          "text": [
            " 14%|█▎        | 678/5000 [01:37<09:02,  7.96it/s]"
          ]
        },
        {
          "output_type": "stream",
          "name": "stdout",
          "text": [
            "no. of UEs covered (Reward):  1130.0\n",
            "-----------------------------episode  678 -----------------------------\n",
            "no. of UEs covered (Reward):  990.0\n",
            "-----------------------------episode  679 -----------------------------\n"
          ]
        },
        {
          "output_type": "stream",
          "name": "stderr",
          "text": [
            " 14%|█▎        | 680/5000 [01:37<09:35,  7.50it/s]"
          ]
        },
        {
          "output_type": "stream",
          "name": "stdout",
          "text": [
            "no. of UEs covered (Reward):  1370.0\n",
            "-----------------------------episode  680 -----------------------------\n",
            "no. of UEs covered (Reward):  330.0\n",
            "-----------------------------episode  681 -----------------------------\n"
          ]
        },
        {
          "output_type": "stream",
          "name": "stderr",
          "text": [
            " 14%|█▎        | 682/5000 [01:38<09:13,  7.80it/s]"
          ]
        },
        {
          "output_type": "stream",
          "name": "stdout",
          "text": [
            "no. of UEs covered (Reward):  740.0\n",
            "-----------------------------episode  682 -----------------------------\n",
            "no. of UEs covered (Reward):  510.0\n",
            "-----------------------------episode  683 -----------------------------\n"
          ]
        },
        {
          "output_type": "stream",
          "name": "stderr",
          "text": [
            " 14%|█▎        | 684/5000 [01:38<09:18,  7.72it/s]"
          ]
        },
        {
          "output_type": "stream",
          "name": "stdout",
          "text": [
            "no. of UEs covered (Reward):  240.0\n",
            "-----------------------------episode  684 -----------------------------\n",
            "no. of UEs covered (Reward):  720.0\n",
            "-----------------------------episode  685 -----------------------------\n"
          ]
        },
        {
          "output_type": "stream",
          "name": "stderr",
          "text": [
            " 14%|█▎        | 686/5000 [01:38<09:12,  7.80it/s]"
          ]
        },
        {
          "output_type": "stream",
          "name": "stdout",
          "text": [
            "no. of UEs covered (Reward):  1320.0\n",
            "-----------------------------episode  686 -----------------------------\n",
            "no. of UEs covered (Reward):  770.0\n",
            "-----------------------------episode  687 -----------------------------\n"
          ]
        },
        {
          "output_type": "stream",
          "name": "stderr",
          "text": [
            " 14%|█▍        | 688/5000 [01:38<09:35,  7.50it/s]"
          ]
        },
        {
          "output_type": "stream",
          "name": "stdout",
          "text": [
            "no. of UEs covered (Reward):  1270.0\n",
            "-----------------------------episode  688 -----------------------------\n",
            "no. of UEs covered (Reward):  1370.0\n",
            "-----------------------------episode  689 -----------------------------\n"
          ]
        },
        {
          "output_type": "stream",
          "name": "stderr",
          "text": [
            " 14%|█▍        | 690/5000 [01:39<09:24,  7.64it/s]"
          ]
        },
        {
          "output_type": "stream",
          "name": "stdout",
          "text": [
            "no. of UEs covered (Reward):  570.0\n",
            "-----------------------------episode  690 -----------------------------\n",
            "no. of UEs covered (Reward):  910.0\n",
            "-----------------------------episode  691 -----------------------------\n"
          ]
        },
        {
          "output_type": "stream",
          "name": "stderr",
          "text": [
            " 14%|█▍        | 692/5000 [01:39<09:29,  7.56it/s]"
          ]
        },
        {
          "output_type": "stream",
          "name": "stdout",
          "text": [
            "no. of UEs covered (Reward):  930.0\n",
            "-----------------------------episode  692 -----------------------------\n",
            "no. of UEs covered (Reward):  1320.0\n",
            "-----------------------------episode  693 -----------------------------\n"
          ]
        },
        {
          "output_type": "stream",
          "name": "stderr",
          "text": [
            " 14%|█▍        | 694/5000 [01:39<09:13,  7.79it/s]"
          ]
        },
        {
          "output_type": "stream",
          "name": "stdout",
          "text": [
            "no. of UEs covered (Reward):  1040.0\n",
            "-----------------------------episode  694 -----------------------------\n",
            "no. of UEs covered (Reward):  1370.0\n",
            "-----------------------------episode  695 -----------------------------\n"
          ]
        },
        {
          "output_type": "stream",
          "name": "stderr",
          "text": [
            " 14%|█▍        | 696/5000 [01:39<09:25,  7.61it/s]"
          ]
        },
        {
          "output_type": "stream",
          "name": "stdout",
          "text": [
            "no. of UEs covered (Reward):  1380.0\n",
            "-----------------------------episode  696 -----------------------------\n",
            "no. of UEs covered (Reward):  1190.0\n",
            "-----------------------------episode  697 -----------------------------\n"
          ]
        },
        {
          "output_type": "stream",
          "name": "stderr",
          "text": [
            " 14%|█▍        | 698/5000 [01:40<09:12,  7.79it/s]"
          ]
        },
        {
          "output_type": "stream",
          "name": "stdout",
          "text": [
            "no. of UEs covered (Reward):  1300.0\n",
            "-----------------------------episode  698 -----------------------------\n",
            "no. of UEs covered (Reward):  1380.0\n",
            "-----------------------------episode  699 -----------------------------\n"
          ]
        },
        {
          "output_type": "stream",
          "name": "stderr",
          "text": [
            " 14%|█▍        | 700/5000 [01:40<09:21,  7.65it/s]"
          ]
        },
        {
          "output_type": "stream",
          "name": "stdout",
          "text": [
            "no. of UEs covered (Reward):  990.0\n",
            "-----------------------------episode  700 -----------------------------\n",
            "no. of UEs covered (Reward):  740.0\n",
            "-----------------------------episode  701 -----------------------------\n"
          ]
        },
        {
          "output_type": "stream",
          "name": "stderr",
          "text": [
            " 14%|█▍        | 702/5000 [01:40<09:17,  7.72it/s]"
          ]
        },
        {
          "output_type": "stream",
          "name": "stdout",
          "text": [
            "no. of UEs covered (Reward):  580.0\n",
            "-----------------------------episode  702 -----------------------------\n",
            "no. of UEs covered (Reward):  940.0\n",
            "-----------------------------episode  703 -----------------------------\n"
          ]
        },
        {
          "output_type": "stream",
          "name": "stderr",
          "text": [
            " 14%|█▍        | 704/5000 [01:40<09:23,  7.63it/s]"
          ]
        },
        {
          "output_type": "stream",
          "name": "stdout",
          "text": [
            "no. of UEs covered (Reward):  1100.0\n",
            "-----------------------------episode  704 -----------------------------\n",
            "no. of UEs covered (Reward):  1030.0\n",
            "-----------------------------episode  705 -----------------------------\n"
          ]
        },
        {
          "output_type": "stream",
          "name": "stderr",
          "text": [
            " 14%|█▍        | 706/5000 [01:41<09:19,  7.67it/s]"
          ]
        },
        {
          "output_type": "stream",
          "name": "stdout",
          "text": [
            "no. of UEs covered (Reward):  630.0\n",
            "-----------------------------episode  706 -----------------------------\n",
            "no. of UEs covered (Reward):  1330.0\n",
            "-----------------------------episode  707 -----------------------------\n"
          ]
        },
        {
          "output_type": "stream",
          "name": "stderr",
          "text": [
            " 14%|█▍        | 708/5000 [01:41<09:18,  7.68it/s]"
          ]
        },
        {
          "output_type": "stream",
          "name": "stdout",
          "text": [
            "no. of UEs covered (Reward):  1330.0\n",
            "-----------------------------episode  708 -----------------------------\n",
            "no. of UEs covered (Reward):  1380.0\n",
            "-----------------------------episode  709 -----------------------------\n"
          ]
        },
        {
          "output_type": "stream",
          "name": "stderr",
          "text": [
            " 14%|█▍        | 710/5000 [01:41<09:17,  7.69it/s]"
          ]
        },
        {
          "output_type": "stream",
          "name": "stdout",
          "text": [
            "no. of UEs covered (Reward):  1390.0\n",
            "-----------------------------episode  710 -----------------------------\n",
            "no. of UEs covered (Reward):  1250.0\n",
            "-----------------------------episode  711 -----------------------------\n"
          ]
        },
        {
          "output_type": "stream",
          "name": "stderr",
          "text": [
            " 14%|█▍        | 712/5000 [01:42<09:17,  7.69it/s]"
          ]
        },
        {
          "output_type": "stream",
          "name": "stdout",
          "text": [
            "no. of UEs covered (Reward):  930.0\n",
            "-----------------------------episode  712 -----------------------------\n",
            "no. of UEs covered (Reward):  980.0\n",
            "-----------------------------episode  713 -----------------------------\n"
          ]
        },
        {
          "output_type": "stream",
          "name": "stderr",
          "text": [
            " 14%|█▍        | 714/5000 [01:42<09:43,  7.34it/s]"
          ]
        },
        {
          "output_type": "stream",
          "name": "stdout",
          "text": [
            "no. of UEs covered (Reward):  1020.0\n",
            "-----------------------------episode  714 -----------------------------\n",
            "no. of UEs covered (Reward):  1350.0\n",
            "-----------------------------episode  715 -----------------------------\n"
          ]
        },
        {
          "output_type": "stream",
          "name": "stderr",
          "text": [
            " 14%|█▍        | 716/5000 [01:42<09:32,  7.48it/s]"
          ]
        },
        {
          "output_type": "stream",
          "name": "stdout",
          "text": [
            "no. of UEs covered (Reward):  770.0\n",
            "-----------------------------episode  716 -----------------------------\n",
            "no. of UEs covered (Reward):  1010.0\n",
            "-----------------------------episode  717 -----------------------------\n"
          ]
        },
        {
          "output_type": "stream",
          "name": "stderr",
          "text": [
            " 14%|█▍        | 718/5000 [01:42<09:18,  7.67it/s]"
          ]
        },
        {
          "output_type": "stream",
          "name": "stdout",
          "text": [
            "no. of UEs covered (Reward):  1360.0\n",
            "-----------------------------episode  718 -----------------------------\n",
            "no. of UEs covered (Reward):  940.0\n",
            "-----------------------------episode  719 -----------------------------\n"
          ]
        },
        {
          "output_type": "stream",
          "name": "stderr",
          "text": [
            " 14%|█▍        | 720/5000 [01:43<09:27,  7.54it/s]"
          ]
        },
        {
          "output_type": "stream",
          "name": "stdout",
          "text": [
            "no. of UEs covered (Reward):  1340.0\n",
            "-----------------------------episode  720 -----------------------------\n",
            "no. of UEs covered (Reward):  1380.0\n",
            "-----------------------------episode  721 -----------------------------\n"
          ]
        },
        {
          "output_type": "stream",
          "name": "stderr",
          "text": [
            " 14%|█▍        | 722/5000 [01:43<09:31,  7.49it/s]"
          ]
        },
        {
          "output_type": "stream",
          "name": "stdout",
          "text": [
            "no. of UEs covered (Reward):  550.0\n",
            "-----------------------------episode  722 -----------------------------\n",
            "no. of UEs covered (Reward):  1380.0\n",
            "-----------------------------episode  723 -----------------------------\n"
          ]
        },
        {
          "output_type": "stream",
          "name": "stderr",
          "text": [
            " 14%|█▍        | 724/5000 [01:43<09:21,  7.62it/s]"
          ]
        },
        {
          "output_type": "stream",
          "name": "stdout",
          "text": [
            "no. of UEs covered (Reward):  950.0\n",
            "-----------------------------episode  724 -----------------------------\n",
            "no. of UEs covered (Reward):  420.0\n",
            "-----------------------------episode  725 -----------------------------\n"
          ]
        },
        {
          "output_type": "stream",
          "name": "stderr",
          "text": [
            " 15%|█▍        | 726/5000 [01:43<09:16,  7.69it/s]"
          ]
        },
        {
          "output_type": "stream",
          "name": "stdout",
          "text": [
            "no. of UEs covered (Reward):  1290.0\n",
            "-----------------------------episode  726 -----------------------------\n",
            "no. of UEs covered (Reward):  290.0\n",
            "-----------------------------episode  727 -----------------------------\n"
          ]
        },
        {
          "output_type": "stream",
          "name": "stderr",
          "text": [
            " 15%|█▍        | 728/5000 [01:44<09:21,  7.61it/s]"
          ]
        },
        {
          "output_type": "stream",
          "name": "stdout",
          "text": [
            "no. of UEs covered (Reward):  1370.0\n",
            "-----------------------------episode  728 -----------------------------\n",
            "no. of UEs covered (Reward):  810.0\n",
            "-----------------------------episode  729 -----------------------------\n"
          ]
        },
        {
          "output_type": "stream",
          "name": "stderr",
          "text": [
            " 15%|█▍        | 730/5000 [01:44<09:18,  7.64it/s]"
          ]
        },
        {
          "output_type": "stream",
          "name": "stdout",
          "text": [
            "no. of UEs covered (Reward):  910.0\n",
            "-----------------------------episode  730 -----------------------------\n",
            "no. of UEs covered (Reward):  1380.0\n",
            "-----------------------------episode  731 -----------------------------\n"
          ]
        },
        {
          "output_type": "stream",
          "name": "stderr",
          "text": [
            " 15%|█▍        | 732/5000 [01:44<09:10,  7.75it/s]"
          ]
        },
        {
          "output_type": "stream",
          "name": "stdout",
          "text": [
            "no. of UEs covered (Reward):  1170.0\n",
            "-----------------------------episode  732 -----------------------------\n",
            "no. of UEs covered (Reward):  910.0\n",
            "-----------------------------episode  733 -----------------------------\n"
          ]
        },
        {
          "output_type": "stream",
          "name": "stderr",
          "text": [
            " 15%|█▍        | 734/5000 [01:44<09:16,  7.66it/s]"
          ]
        },
        {
          "output_type": "stream",
          "name": "stdout",
          "text": [
            "no. of UEs covered (Reward):  1270.0\n",
            "-----------------------------episode  734 -----------------------------\n",
            "no. of UEs covered (Reward):  740.0\n",
            "-----------------------------episode  735 -----------------------------\n"
          ]
        },
        {
          "output_type": "stream",
          "name": "stderr",
          "text": [
            " 15%|█▍        | 736/5000 [01:45<09:37,  7.39it/s]"
          ]
        },
        {
          "output_type": "stream",
          "name": "stdout",
          "text": [
            "no. of UEs covered (Reward):  920.0\n",
            "-----------------------------episode  736 -----------------------------\n",
            "no. of UEs covered (Reward):  1380.0\n",
            "-----------------------------episode  737 -----------------------------\n"
          ]
        },
        {
          "output_type": "stream",
          "name": "stderr",
          "text": [
            " 15%|█▍        | 738/5000 [01:45<11:12,  6.34it/s]"
          ]
        },
        {
          "output_type": "stream",
          "name": "stdout",
          "text": [
            "no. of UEs covered (Reward):  490.0\n",
            "-----------------------------episode  738 -----------------------------\n",
            "no. of UEs covered (Reward):  920.0\n",
            "-----------------------------episode  739 -----------------------------\n"
          ]
        },
        {
          "output_type": "stream",
          "name": "stderr",
          "text": [
            " 15%|█▍        | 740/5000 [01:45<12:00,  5.91it/s]"
          ]
        },
        {
          "output_type": "stream",
          "name": "stdout",
          "text": [
            "no. of UEs covered (Reward):  740.0\n",
            "-----------------------------episode  740 -----------------------------\n",
            "no. of UEs covered (Reward):  1370.0\n",
            "-----------------------------episode  741 -----------------------------\n"
          ]
        },
        {
          "output_type": "stream",
          "name": "stderr",
          "text": [
            " 15%|█▍        | 742/5000 [01:46<12:26,  5.70it/s]"
          ]
        },
        {
          "output_type": "stream",
          "name": "stdout",
          "text": [
            "no. of UEs covered (Reward):  970.0\n",
            "-----------------------------episode  742 -----------------------------\n",
            "no. of UEs covered (Reward):  1300.0\n",
            "-----------------------------episode  743 -----------------------------\n"
          ]
        },
        {
          "output_type": "stream",
          "name": "stderr",
          "text": [
            " 15%|█▍        | 744/5000 [01:46<12:40,  5.60it/s]"
          ]
        },
        {
          "output_type": "stream",
          "name": "stdout",
          "text": [
            "no. of UEs covered (Reward):  840.0\n",
            "-----------------------------episode  744 -----------------------------\n",
            "no. of UEs covered (Reward):  1310.0\n",
            "-----------------------------episode  745 -----------------------------\n"
          ]
        },
        {
          "output_type": "stream",
          "name": "stderr",
          "text": [
            " 15%|█▍        | 746/5000 [01:47<12:31,  5.66it/s]"
          ]
        },
        {
          "output_type": "stream",
          "name": "stdout",
          "text": [
            "no. of UEs covered (Reward):  1300.0\n",
            "-----------------------------episode  746 -----------------------------\n",
            "no. of UEs covered (Reward):  680.0\n",
            "-----------------------------episode  747 -----------------------------\n"
          ]
        },
        {
          "output_type": "stream",
          "name": "stderr",
          "text": [
            " 15%|█▍        | 748/5000 [01:47<12:50,  5.52it/s]"
          ]
        },
        {
          "output_type": "stream",
          "name": "stdout",
          "text": [
            "no. of UEs covered (Reward):  160.0\n",
            "-----------------------------episode  748 -----------------------------\n",
            "no. of UEs covered (Reward):  690.0\n",
            "-----------------------------episode  749 -----------------------------\n"
          ]
        },
        {
          "output_type": "stream",
          "name": "stderr",
          "text": [
            " 15%|█▌        | 750/5000 [01:47<13:04,  5.42it/s]"
          ]
        },
        {
          "output_type": "stream",
          "name": "stdout",
          "text": [
            "no. of UEs covered (Reward):  1110.0\n",
            "-----------------------------episode  750 -----------------------------\n",
            "no. of UEs covered (Reward):  1260.0\n",
            "-----------------------------episode  751 -----------------------------\n"
          ]
        },
        {
          "output_type": "stream",
          "name": "stderr",
          "text": [
            " 15%|█▌        | 752/5000 [01:48<12:10,  5.82it/s]"
          ]
        },
        {
          "output_type": "stream",
          "name": "stdout",
          "text": [
            "no. of UEs covered (Reward):  1110.0\n",
            "-----------------------------episode  752 -----------------------------\n",
            "no. of UEs covered (Reward):  1320.0\n",
            "-----------------------------episode  753 -----------------------------\n"
          ]
        },
        {
          "output_type": "stream",
          "name": "stderr",
          "text": [
            " 15%|█▌        | 754/5000 [01:48<10:47,  6.56it/s]"
          ]
        },
        {
          "output_type": "stream",
          "name": "stdout",
          "text": [
            "no. of UEs covered (Reward):  810.0\n",
            "-----------------------------episode  754 -----------------------------\n",
            "no. of UEs covered (Reward):  1080.0\n",
            "-----------------------------episode  755 -----------------------------\n"
          ]
        },
        {
          "output_type": "stream",
          "name": "stderr",
          "text": [
            " 15%|█▌        | 756/5000 [01:48<10:19,  6.86it/s]"
          ]
        },
        {
          "output_type": "stream",
          "name": "stdout",
          "text": [
            "no. of UEs covered (Reward):  960.0\n",
            "-----------------------------episode  756 -----------------------------\n",
            "no. of UEs covered (Reward):  760.0\n",
            "-----------------------------episode  757 -----------------------------\n"
          ]
        },
        {
          "output_type": "stream",
          "name": "stderr",
          "text": [
            " 15%|█▌        | 758/5000 [01:48<09:37,  7.35it/s]"
          ]
        },
        {
          "output_type": "stream",
          "name": "stdout",
          "text": [
            "no. of UEs covered (Reward):  1380.0\n",
            "-----------------------------episode  758 -----------------------------\n",
            "no. of UEs covered (Reward):  940.0\n",
            "-----------------------------episode  759 -----------------------------\n"
          ]
        },
        {
          "output_type": "stream",
          "name": "stderr",
          "text": [
            " 15%|█▌        | 760/5000 [01:49<09:33,  7.40it/s]"
          ]
        },
        {
          "output_type": "stream",
          "name": "stdout",
          "text": [
            "no. of UEs covered (Reward):  820.0\n",
            "-----------------------------episode  760 -----------------------------\n",
            "no. of UEs covered (Reward):  560.0\n",
            "-----------------------------episode  761 -----------------------------\n"
          ]
        },
        {
          "output_type": "stream",
          "name": "stderr",
          "text": [
            " 15%|█▌        | 762/5000 [01:49<09:16,  7.62it/s]"
          ]
        },
        {
          "output_type": "stream",
          "name": "stdout",
          "text": [
            "no. of UEs covered (Reward):  1060.0\n",
            "-----------------------------episode  762 -----------------------------\n",
            "no. of UEs covered (Reward):  950.0\n",
            "-----------------------------episode  763 -----------------------------\n"
          ]
        },
        {
          "output_type": "stream",
          "name": "stderr",
          "text": [
            " 15%|█▌        | 764/5000 [01:49<09:17,  7.60it/s]"
          ]
        },
        {
          "output_type": "stream",
          "name": "stdout",
          "text": [
            "no. of UEs covered (Reward):  560.0\n",
            "-----------------------------episode  764 -----------------------------\n",
            "no. of UEs covered (Reward):  1380.0\n",
            "-----------------------------episode  765 -----------------------------\n"
          ]
        },
        {
          "output_type": "stream",
          "name": "stderr",
          "text": [
            " 15%|█▌        | 766/5000 [01:49<09:10,  7.69it/s]"
          ]
        },
        {
          "output_type": "stream",
          "name": "stdout",
          "text": [
            "no. of UEs covered (Reward):  1270.0\n",
            "-----------------------------episode  766 -----------------------------\n",
            "no. of UEs covered (Reward):  1180.0\n",
            "-----------------------------episode  767 -----------------------------\n"
          ]
        },
        {
          "output_type": "stream",
          "name": "stderr",
          "text": [
            " 15%|█▌        | 768/5000 [01:50<09:17,  7.59it/s]"
          ]
        },
        {
          "output_type": "stream",
          "name": "stdout",
          "text": [
            "no. of UEs covered (Reward):  770.0\n",
            "-----------------------------episode  768 -----------------------------\n",
            "no. of UEs covered (Reward):  850.0\n",
            "-----------------------------episode  769 -----------------------------\n"
          ]
        },
        {
          "output_type": "stream",
          "name": "stderr",
          "text": [
            " 15%|█▌        | 770/5000 [01:50<09:11,  7.67it/s]"
          ]
        },
        {
          "output_type": "stream",
          "name": "stdout",
          "text": [
            "no. of UEs covered (Reward):  1240.0\n",
            "-----------------------------episode  770 -----------------------------\n",
            "no. of UEs covered (Reward):  1370.0\n",
            "-----------------------------episode  771 -----------------------------\n"
          ]
        },
        {
          "output_type": "stream",
          "name": "stderr",
          "text": [
            " 15%|█▌        | 772/5000 [01:50<09:16,  7.60it/s]"
          ]
        },
        {
          "output_type": "stream",
          "name": "stdout",
          "text": [
            "no. of UEs covered (Reward):  1180.0\n",
            "-----------------------------episode  772 -----------------------------\n",
            "no. of UEs covered (Reward):  620.0\n",
            "-----------------------------episode  773 -----------------------------\n"
          ]
        },
        {
          "output_type": "stream",
          "name": "stderr",
          "text": [
            " 15%|█▌        | 774/5000 [01:51<09:10,  7.68it/s]"
          ]
        },
        {
          "output_type": "stream",
          "name": "stdout",
          "text": [
            "no. of UEs covered (Reward):  1310.0\n",
            "-----------------------------episode  774 -----------------------------\n",
            "no. of UEs covered (Reward):  1260.0\n",
            "-----------------------------episode  775 -----------------------------\n"
          ]
        },
        {
          "output_type": "stream",
          "name": "stderr",
          "text": [
            " 16%|█▌        | 776/5000 [01:51<09:08,  7.70it/s]"
          ]
        },
        {
          "output_type": "stream",
          "name": "stdout",
          "text": [
            "no. of UEs covered (Reward):  620.0\n",
            "-----------------------------episode  776 -----------------------------\n",
            "no. of UEs covered (Reward):  900.0\n",
            "-----------------------------episode  777 -----------------------------\n"
          ]
        },
        {
          "output_type": "stream",
          "name": "stderr",
          "text": [
            " 16%|█▌        | 778/5000 [01:51<09:05,  7.74it/s]"
          ]
        },
        {
          "output_type": "stream",
          "name": "stdout",
          "text": [
            "no. of UEs covered (Reward):  1130.0\n",
            "-----------------------------episode  778 -----------------------------\n",
            "no. of UEs covered (Reward):  1310.0\n",
            "-----------------------------episode  779 -----------------------------\n"
          ]
        },
        {
          "output_type": "stream",
          "name": "stderr",
          "text": [
            " 16%|█▌        | 780/5000 [01:51<09:17,  7.58it/s]"
          ]
        },
        {
          "output_type": "stream",
          "name": "stdout",
          "text": [
            "no. of UEs covered (Reward):  1220.0\n",
            "-----------------------------episode  780 -----------------------------\n",
            "no. of UEs covered (Reward):  1070.0\n",
            "-----------------------------episode  781 -----------------------------\n"
          ]
        },
        {
          "output_type": "stream",
          "name": "stderr",
          "text": [
            " 16%|█▌        | 782/5000 [01:52<09:09,  7.68it/s]"
          ]
        },
        {
          "output_type": "stream",
          "name": "stdout",
          "text": [
            "no. of UEs covered (Reward):  1160.0\n",
            "-----------------------------episode  782 -----------------------------\n",
            "no. of UEs covered (Reward):  790.0\n",
            "-----------------------------episode  783 -----------------------------\n"
          ]
        },
        {
          "output_type": "stream",
          "name": "stderr",
          "text": [
            " 16%|█▌        | 784/5000 [01:52<09:16,  7.58it/s]"
          ]
        },
        {
          "output_type": "stream",
          "name": "stdout",
          "text": [
            "no. of UEs covered (Reward):  850.0\n",
            "-----------------------------episode  784 -----------------------------\n",
            "no. of UEs covered (Reward):  630.0\n",
            "-----------------------------episode  785 -----------------------------\n"
          ]
        },
        {
          "output_type": "stream",
          "name": "stderr",
          "text": [
            " 16%|█▌        | 786/5000 [01:52<09:26,  7.44it/s]"
          ]
        },
        {
          "output_type": "stream",
          "name": "stdout",
          "text": [
            "no. of UEs covered (Reward):  920.0\n",
            "-----------------------------episode  786 -----------------------------\n",
            "no. of UEs covered (Reward):  700.0\n",
            "-----------------------------episode  787 -----------------------------\n"
          ]
        },
        {
          "output_type": "stream",
          "name": "stderr",
          "text": [
            " 16%|█▌        | 788/5000 [01:52<09:22,  7.49it/s]"
          ]
        },
        {
          "output_type": "stream",
          "name": "stdout",
          "text": [
            "no. of UEs covered (Reward):  1380.0\n",
            "-----------------------------episode  788 -----------------------------\n",
            "no. of UEs covered (Reward):  570.0\n",
            "-----------------------------episode  789 -----------------------------\n"
          ]
        },
        {
          "output_type": "stream",
          "name": "stderr",
          "text": [
            " 16%|█▌        | 790/5000 [01:53<09:43,  7.22it/s]"
          ]
        },
        {
          "output_type": "stream",
          "name": "stdout",
          "text": [
            "no. of UEs covered (Reward):  570.0\n",
            "-----------------------------episode  790 -----------------------------\n",
            "no. of UEs covered (Reward):  760.0\n",
            "-----------------------------episode  791 -----------------------------\n"
          ]
        },
        {
          "output_type": "stream",
          "name": "stderr",
          "text": [
            " 16%|█▌        | 792/5000 [01:53<09:44,  7.19it/s]"
          ]
        },
        {
          "output_type": "stream",
          "name": "stdout",
          "text": [
            "no. of UEs covered (Reward):  690.0\n",
            "-----------------------------episode  792 -----------------------------\n",
            "no. of UEs covered (Reward):  700.0\n",
            "-----------------------------episode  793 -----------------------------\n"
          ]
        },
        {
          "output_type": "stream",
          "name": "stderr",
          "text": [
            " 16%|█▌        | 794/5000 [01:53<09:31,  7.35it/s]"
          ]
        },
        {
          "output_type": "stream",
          "name": "stdout",
          "text": [
            "no. of UEs covered (Reward):  470.0\n",
            "-----------------------------episode  794 -----------------------------\n",
            "no. of UEs covered (Reward):  710.0\n",
            "-----------------------------episode  795 -----------------------------\n"
          ]
        },
        {
          "output_type": "stream",
          "name": "stderr",
          "text": [
            " 16%|█▌        | 796/5000 [01:53<09:26,  7.42it/s]"
          ]
        },
        {
          "output_type": "stream",
          "name": "stdout",
          "text": [
            "no. of UEs covered (Reward):  70.0\n",
            "-----------------------------episode  796 -----------------------------\n",
            "no. of UEs covered (Reward):  1380.0\n",
            "-----------------------------episode  797 -----------------------------\n"
          ]
        },
        {
          "output_type": "stream",
          "name": "stderr",
          "text": [
            " 16%|█▌        | 798/5000 [01:54<09:27,  7.40it/s]"
          ]
        },
        {
          "output_type": "stream",
          "name": "stdout",
          "text": [
            "no. of UEs covered (Reward):  1380.0\n",
            "-----------------------------episode  798 -----------------------------\n",
            "no. of UEs covered (Reward):  1110.0\n",
            "-----------------------------episode  799 -----------------------------\n"
          ]
        },
        {
          "output_type": "stream",
          "name": "stderr",
          "text": [
            " 16%|█▌        | 800/5000 [01:54<09:23,  7.46it/s]"
          ]
        },
        {
          "output_type": "stream",
          "name": "stdout",
          "text": [
            "no. of UEs covered (Reward):  120.0\n",
            "-----------------------------episode  800 -----------------------------\n",
            "no. of UEs covered (Reward):  740.0\n",
            "-----------------------------episode  801 -----------------------------\n"
          ]
        },
        {
          "output_type": "stream",
          "name": "stderr",
          "text": [
            " 16%|█▌        | 802/5000 [01:54<09:09,  7.64it/s]"
          ]
        },
        {
          "output_type": "stream",
          "name": "stdout",
          "text": [
            "no. of UEs covered (Reward):  490.0\n",
            "-----------------------------episode  802 -----------------------------\n",
            "no. of UEs covered (Reward):  1150.0\n",
            "-----------------------------episode  803 -----------------------------\n"
          ]
        },
        {
          "output_type": "stream",
          "name": "stderr",
          "text": [
            " 16%|█▌        | 804/5000 [01:55<08:59,  7.78it/s]"
          ]
        },
        {
          "output_type": "stream",
          "name": "stdout",
          "text": [
            "no. of UEs covered (Reward):  1310.0\n",
            "-----------------------------episode  804 -----------------------------\n",
            "no. of UEs covered (Reward):  800.0\n",
            "-----------------------------episode  805 -----------------------------\n"
          ]
        },
        {
          "output_type": "stream",
          "name": "stderr",
          "text": [
            " 16%|█▌        | 806/5000 [01:55<09:17,  7.52it/s]"
          ]
        },
        {
          "output_type": "stream",
          "name": "stdout",
          "text": [
            "no. of UEs covered (Reward):  1250.0\n",
            "-----------------------------episode  806 -----------------------------\n",
            "no. of UEs covered (Reward):  1010.0\n",
            "-----------------------------episode  807 -----------------------------\n"
          ]
        },
        {
          "output_type": "stream",
          "name": "stderr",
          "text": [
            " 16%|█▌        | 808/5000 [01:55<09:15,  7.55it/s]"
          ]
        },
        {
          "output_type": "stream",
          "name": "stdout",
          "text": [
            "no. of UEs covered (Reward):  800.0\n",
            "-----------------------------episode  808 -----------------------------\n",
            "no. of UEs covered (Reward):  1370.0\n",
            "-----------------------------episode  809 -----------------------------\n"
          ]
        },
        {
          "output_type": "stream",
          "name": "stderr",
          "text": [
            " 16%|█▌        | 810/5000 [01:55<09:13,  7.56it/s]"
          ]
        },
        {
          "output_type": "stream",
          "name": "stdout",
          "text": [
            "no. of UEs covered (Reward):  1160.0\n",
            "-----------------------------episode  810 -----------------------------\n",
            "no. of UEs covered (Reward):  760.0\n",
            "-----------------------------episode  811 -----------------------------\n"
          ]
        },
        {
          "output_type": "stream",
          "name": "stderr",
          "text": [
            " 16%|█▌        | 812/5000 [01:56<09:13,  7.57it/s]"
          ]
        },
        {
          "output_type": "stream",
          "name": "stdout",
          "text": [
            "no. of UEs covered (Reward):  1360.0\n",
            "-----------------------------episode  812 -----------------------------\n",
            "no. of UEs covered (Reward):  1110.0\n",
            "-----------------------------episode  813 -----------------------------\n"
          ]
        },
        {
          "output_type": "stream",
          "name": "stderr",
          "text": [
            " 16%|█▋        | 814/5000 [01:56<09:18,  7.50it/s]"
          ]
        },
        {
          "output_type": "stream",
          "name": "stdout",
          "text": [
            "no. of UEs covered (Reward):  1090.0\n",
            "-----------------------------episode  814 -----------------------------\n",
            "no. of UEs covered (Reward):  1050.0\n",
            "-----------------------------episode  815 -----------------------------\n"
          ]
        },
        {
          "output_type": "stream",
          "name": "stderr",
          "text": [
            "\r 16%|█▋        | 815/5000 [01:56<09:18,  7.50it/s]"
          ]
        },
        {
          "output_type": "stream",
          "name": "stdout",
          "text": [
            "no. of UEs covered (Reward):  1380.0\n",
            "-----------------------------episode  816 -----------------------------\n"
          ]
        },
        {
          "output_type": "stream",
          "name": "stderr",
          "text": [
            " 16%|█▋        | 817/5000 [01:56<12:23,  5.63it/s]"
          ]
        },
        {
          "output_type": "stream",
          "name": "stdout",
          "text": [
            "no. of UEs covered (Reward):  1230.0\n",
            "-----------------------------episode  817 -----------------------------\n",
            "no. of UEs covered (Reward):  1370.0\n",
            "-----------------------------episode  818 -----------------------------\n"
          ]
        },
        {
          "output_type": "stream",
          "name": "stderr",
          "text": [
            " 16%|█▋        | 819/5000 [01:57<10:57,  6.36it/s]"
          ]
        },
        {
          "output_type": "stream",
          "name": "stdout",
          "text": [
            "no. of UEs covered (Reward):  1290.0\n",
            "-----------------------------episode  819 -----------------------------\n",
            "no. of UEs covered (Reward):  970.0\n",
            "-----------------------------episode  820 -----------------------------\n"
          ]
        },
        {
          "output_type": "stream",
          "name": "stderr",
          "text": [
            " 16%|█▋        | 821/5000 [01:57<10:19,  6.75it/s]"
          ]
        },
        {
          "output_type": "stream",
          "name": "stdout",
          "text": [
            "no. of UEs covered (Reward):  1340.0\n",
            "-----------------------------episode  821 -----------------------------\n",
            "no. of UEs covered (Reward):  1260.0\n",
            "-----------------------------episode  822 -----------------------------\n"
          ]
        },
        {
          "output_type": "stream",
          "name": "stderr",
          "text": [
            " 16%|█▋        | 823/5000 [01:57<09:42,  7.17it/s]"
          ]
        },
        {
          "output_type": "stream",
          "name": "stdout",
          "text": [
            "no. of UEs covered (Reward):  800.0\n",
            "-----------------------------episode  823 -----------------------------\n",
            "no. of UEs covered (Reward):  1030.0\n",
            "-----------------------------episode  824 -----------------------------\n"
          ]
        },
        {
          "output_type": "stream",
          "name": "stderr",
          "text": [
            " 16%|█▋        | 825/5000 [01:58<10:17,  6.76it/s]"
          ]
        },
        {
          "output_type": "stream",
          "name": "stdout",
          "text": [
            "no. of UEs covered (Reward):  890.0\n",
            "-----------------------------episode  825 -----------------------------\n",
            "no. of UEs covered (Reward):  1320.0\n",
            "-----------------------------episode  826 -----------------------------\n"
          ]
        },
        {
          "output_type": "stream",
          "name": "stderr",
          "text": [
            " 17%|█▋        | 827/5000 [01:58<11:33,  6.02it/s]"
          ]
        },
        {
          "output_type": "stream",
          "name": "stdout",
          "text": [
            "no. of UEs covered (Reward):  1000.0\n",
            "-----------------------------episode  827 -----------------------------\n",
            "no. of UEs covered (Reward):  1360.0\n",
            "-----------------------------episode  828 -----------------------------\n"
          ]
        },
        {
          "output_type": "stream",
          "name": "stderr",
          "text": [
            " 17%|█▋        | 829/5000 [01:58<12:02,  5.77it/s]"
          ]
        },
        {
          "output_type": "stream",
          "name": "stdout",
          "text": [
            "no. of UEs covered (Reward):  520.0\n",
            "-----------------------------episode  829 -----------------------------\n",
            "no. of UEs covered (Reward):  920.0\n",
            "-----------------------------episode  830 -----------------------------\n"
          ]
        },
        {
          "output_type": "stream",
          "name": "stderr",
          "text": [
            " 17%|█▋        | 831/5000 [01:59<12:27,  5.58it/s]"
          ]
        },
        {
          "output_type": "stream",
          "name": "stdout",
          "text": [
            "no. of UEs covered (Reward):  1270.0\n",
            "-----------------------------episode  831 -----------------------------\n",
            "no. of UEs covered (Reward):  1370.0\n",
            "-----------------------------episode  832 -----------------------------\n"
          ]
        },
        {
          "output_type": "stream",
          "name": "stderr",
          "text": [
            " 17%|█▋        | 833/5000 [01:59<12:35,  5.51it/s]"
          ]
        },
        {
          "output_type": "stream",
          "name": "stdout",
          "text": [
            "no. of UEs covered (Reward):  1040.0\n",
            "-----------------------------episode  833 -----------------------------\n",
            "no. of UEs covered (Reward):  1340.0\n",
            "-----------------------------episode  834 -----------------------------\n"
          ]
        },
        {
          "output_type": "stream",
          "name": "stderr",
          "text": [
            " 17%|█▋        | 835/5000 [01:59<12:33,  5.53it/s]"
          ]
        },
        {
          "output_type": "stream",
          "name": "stdout",
          "text": [
            "no. of UEs covered (Reward):  1240.0\n",
            "-----------------------------episode  835 -----------------------------\n",
            "no. of UEs covered (Reward):  1290.0\n",
            "-----------------------------episode  836 -----------------------------\n"
          ]
        },
        {
          "output_type": "stream",
          "name": "stderr",
          "text": [
            " 17%|█▋        | 837/5000 [02:00<12:49,  5.41it/s]"
          ]
        },
        {
          "output_type": "stream",
          "name": "stdout",
          "text": [
            "no. of UEs covered (Reward):  1250.0\n",
            "-----------------------------episode  837 -----------------------------\n",
            "no. of UEs covered (Reward):  950.0\n"
          ]
        },
        {
          "output_type": "stream",
          "name": "stderr",
          "text": [
            "\r 17%|█▋        | 838/5000 [02:00<12:55,  5.37it/s]"
          ]
        },
        {
          "output_type": "stream",
          "name": "stdout",
          "text": [
            "-----------------------------episode  838 -----------------------------\n",
            "no. of UEs covered (Reward):  1270.0\n",
            "-----------------------------episode  839 -----------------------------\n"
          ]
        },
        {
          "output_type": "stream",
          "name": "stderr",
          "text": [
            " 17%|█▋        | 840/5000 [02:00<12:05,  5.73it/s]"
          ]
        },
        {
          "output_type": "stream",
          "name": "stdout",
          "text": [
            "no. of UEs covered (Reward):  1370.0\n",
            "-----------------------------episode  840 -----------------------------\n",
            "no. of UEs covered (Reward):  1350.0\n",
            "-----------------------------episode  841 -----------------------------\n"
          ]
        },
        {
          "output_type": "stream",
          "name": "stderr",
          "text": [
            " 17%|█▋        | 842/5000 [02:01<10:49,  6.40it/s]"
          ]
        },
        {
          "output_type": "stream",
          "name": "stdout",
          "text": [
            "no. of UEs covered (Reward):  1100.0\n",
            "-----------------------------episode  842 -----------------------------\n",
            "no. of UEs covered (Reward):  350.0\n",
            "-----------------------------episode  843 -----------------------------\n"
          ]
        },
        {
          "output_type": "stream",
          "name": "stderr",
          "text": [
            " 17%|█▋        | 844/5000 [02:01<09:56,  6.97it/s]"
          ]
        },
        {
          "output_type": "stream",
          "name": "stdout",
          "text": [
            "no. of UEs covered (Reward):  360.0\n",
            "-----------------------------episode  844 -----------------------------\n",
            "no. of UEs covered (Reward):  1270.0\n",
            "-----------------------------episode  845 -----------------------------\n"
          ]
        },
        {
          "output_type": "stream",
          "name": "stderr",
          "text": [
            " 17%|█▋        | 846/5000 [02:01<09:29,  7.30it/s]"
          ]
        },
        {
          "output_type": "stream",
          "name": "stdout",
          "text": [
            "no. of UEs covered (Reward):  860.0\n",
            "-----------------------------episode  846 -----------------------------\n",
            "no. of UEs covered (Reward):  180.0\n",
            "-----------------------------episode  847 -----------------------------\n"
          ]
        },
        {
          "output_type": "stream",
          "name": "stderr",
          "text": [
            " 17%|█▋        | 848/5000 [02:01<09:14,  7.49it/s]"
          ]
        },
        {
          "output_type": "stream",
          "name": "stdout",
          "text": [
            "no. of UEs covered (Reward):  950.0\n",
            "-----------------------------episode  848 -----------------------------\n",
            "no. of UEs covered (Reward):  1320.0\n",
            "-----------------------------episode  849 -----------------------------\n"
          ]
        },
        {
          "output_type": "stream",
          "name": "stderr",
          "text": [
            " 17%|█▋        | 850/5000 [02:02<09:08,  7.56it/s]"
          ]
        },
        {
          "output_type": "stream",
          "name": "stdout",
          "text": [
            "no. of UEs covered (Reward):  1220.0\n",
            "-----------------------------episode  850 -----------------------------\n",
            "no. of UEs covered (Reward):  1150.0\n",
            "-----------------------------episode  851 -----------------------------\n"
          ]
        },
        {
          "output_type": "stream",
          "name": "stderr",
          "text": [
            " 17%|█▋        | 852/5000 [02:02<09:15,  7.47it/s]"
          ]
        },
        {
          "output_type": "stream",
          "name": "stdout",
          "text": [
            "no. of UEs covered (Reward):  800.0\n",
            "-----------------------------episode  852 -----------------------------\n",
            "no. of UEs covered (Reward):  910.0\n",
            "-----------------------------episode  853 -----------------------------\n"
          ]
        },
        {
          "output_type": "stream",
          "name": "stderr",
          "text": [
            " 17%|█▋        | 854/5000 [02:02<09:17,  7.44it/s]"
          ]
        },
        {
          "output_type": "stream",
          "name": "stdout",
          "text": [
            "no. of UEs covered (Reward):  1370.0\n",
            "-----------------------------episode  854 -----------------------------\n",
            "no. of UEs covered (Reward):  1350.0\n",
            "-----------------------------episode  855 -----------------------------\n"
          ]
        },
        {
          "output_type": "stream",
          "name": "stderr",
          "text": [
            " 17%|█▋        | 856/5000 [02:02<09:02,  7.64it/s]"
          ]
        },
        {
          "output_type": "stream",
          "name": "stdout",
          "text": [
            "no. of UEs covered (Reward):  900.0\n",
            "-----------------------------episode  856 -----------------------------\n",
            "no. of UEs covered (Reward):  1370.0\n",
            "-----------------------------episode  857 -----------------------------\n"
          ]
        },
        {
          "output_type": "stream",
          "name": "stderr",
          "text": [
            " 17%|█▋        | 858/5000 [02:03<08:53,  7.76it/s]"
          ]
        },
        {
          "output_type": "stream",
          "name": "stdout",
          "text": [
            "no. of UEs covered (Reward):  1170.0\n",
            "-----------------------------episode  858 -----------------------------\n",
            "no. of UEs covered (Reward):  1390.0\n",
            "-----------------------------episode  859 -----------------------------\n"
          ]
        },
        {
          "output_type": "stream",
          "name": "stderr",
          "text": [
            " 17%|█▋        | 860/5000 [02:03<09:10,  7.52it/s]"
          ]
        },
        {
          "output_type": "stream",
          "name": "stdout",
          "text": [
            "no. of UEs covered (Reward):  640.0\n",
            "-----------------------------episode  860 -----------------------------\n",
            "no. of UEs covered (Reward):  1360.0\n",
            "-----------------------------episode  861 -----------------------------\n"
          ]
        },
        {
          "output_type": "stream",
          "name": "stderr",
          "text": [
            " 17%|█▋        | 862/5000 [02:03<09:06,  7.57it/s]"
          ]
        },
        {
          "output_type": "stream",
          "name": "stdout",
          "text": [
            "no. of UEs covered (Reward):  590.0\n",
            "-----------------------------episode  862 -----------------------------\n",
            "no. of UEs covered (Reward):  690.0\n",
            "-----------------------------episode  863 -----------------------------\n"
          ]
        },
        {
          "output_type": "stream",
          "name": "stderr",
          "text": [
            " 17%|█▋        | 864/5000 [02:04<09:09,  7.53it/s]"
          ]
        },
        {
          "output_type": "stream",
          "name": "stdout",
          "text": [
            "no. of UEs covered (Reward):  810.0\n",
            "-----------------------------episode  864 -----------------------------\n",
            "no. of UEs covered (Reward):  1040.0\n",
            "-----------------------------episode  865 -----------------------------\n"
          ]
        },
        {
          "output_type": "stream",
          "name": "stderr",
          "text": [
            " 17%|█▋        | 866/5000 [02:04<09:01,  7.64it/s]"
          ]
        },
        {
          "output_type": "stream",
          "name": "stdout",
          "text": [
            "no. of UEs covered (Reward):  1370.0\n",
            "-----------------------------episode  866 -----------------------------\n",
            "no. of UEs covered (Reward):  980.0\n",
            "-----------------------------episode  867 -----------------------------\n"
          ]
        },
        {
          "output_type": "stream",
          "name": "stderr",
          "text": [
            " 17%|█▋        | 868/5000 [02:04<09:03,  7.60it/s]"
          ]
        },
        {
          "output_type": "stream",
          "name": "stdout",
          "text": [
            "no. of UEs covered (Reward):  1120.0\n",
            "-----------------------------episode  868 -----------------------------\n",
            "no. of UEs covered (Reward):  560.0\n",
            "-----------------------------episode  869 -----------------------------\n"
          ]
        },
        {
          "output_type": "stream",
          "name": "stderr",
          "text": [
            " 17%|█▋        | 870/5000 [02:04<09:01,  7.63it/s]"
          ]
        },
        {
          "output_type": "stream",
          "name": "stdout",
          "text": [
            "no. of UEs covered (Reward):  400.0\n",
            "-----------------------------episode  870 -----------------------------\n",
            "no. of UEs covered (Reward):  1020.0\n",
            "-----------------------------episode  871 -----------------------------\n"
          ]
        },
        {
          "output_type": "stream",
          "name": "stderr",
          "text": [
            " 17%|█▋        | 872/5000 [02:05<09:02,  7.61it/s]"
          ]
        },
        {
          "output_type": "stream",
          "name": "stdout",
          "text": [
            "no. of UEs covered (Reward):  1300.0\n",
            "-----------------------------episode  872 -----------------------------\n",
            "no. of UEs covered (Reward):  870.0\n",
            "-----------------------------episode  873 -----------------------------\n"
          ]
        },
        {
          "output_type": "stream",
          "name": "stderr",
          "text": [
            " 17%|█▋        | 874/5000 [02:05<09:01,  7.62it/s]"
          ]
        },
        {
          "output_type": "stream",
          "name": "stdout",
          "text": [
            "no. of UEs covered (Reward):  1020.0\n",
            "-----------------------------episode  874 -----------------------------\n",
            "no. of UEs covered (Reward):  1360.0\n",
            "-----------------------------episode  875 -----------------------------\n"
          ]
        },
        {
          "output_type": "stream",
          "name": "stderr",
          "text": [
            " 18%|█▊        | 876/5000 [02:05<09:10,  7.49it/s]"
          ]
        },
        {
          "output_type": "stream",
          "name": "stdout",
          "text": [
            "no. of UEs covered (Reward):  1360.0\n",
            "-----------------------------episode  876 -----------------------------\n",
            "no. of UEs covered (Reward):  720.0\n",
            "-----------------------------episode  877 -----------------------------\n"
          ]
        },
        {
          "output_type": "stream",
          "name": "stderr",
          "text": [
            " 18%|█▊        | 878/5000 [02:05<09:09,  7.51it/s]"
          ]
        },
        {
          "output_type": "stream",
          "name": "stdout",
          "text": [
            "no. of UEs covered (Reward):  1300.0\n",
            "-----------------------------episode  878 -----------------------------\n",
            "no. of UEs covered (Reward):  1200.0\n",
            "-----------------------------episode  879 -----------------------------\n"
          ]
        },
        {
          "output_type": "stream",
          "name": "stderr",
          "text": [
            " 18%|█▊        | 880/5000 [02:06<09:08,  7.52it/s]"
          ]
        },
        {
          "output_type": "stream",
          "name": "stdout",
          "text": [
            "no. of UEs covered (Reward):  1380.0\n",
            "-----------------------------episode  880 -----------------------------\n",
            "no. of UEs covered (Reward):  1290.0\n",
            "-----------------------------episode  881 -----------------------------\n"
          ]
        },
        {
          "output_type": "stream",
          "name": "stderr",
          "text": [
            " 18%|█▊        | 882/5000 [02:06<09:05,  7.55it/s]"
          ]
        },
        {
          "output_type": "stream",
          "name": "stdout",
          "text": [
            "no. of UEs covered (Reward):  630.0\n",
            "-----------------------------episode  882 -----------------------------\n",
            "no. of UEs covered (Reward):  730.0\n",
            "-----------------------------episode  883 -----------------------------\n"
          ]
        },
        {
          "output_type": "stream",
          "name": "stderr",
          "text": [
            " 18%|█▊        | 884/5000 [02:06<09:40,  7.09it/s]"
          ]
        },
        {
          "output_type": "stream",
          "name": "stdout",
          "text": [
            "no. of UEs covered (Reward):  650.0\n",
            "-----------------------------episode  884 -----------------------------\n",
            "no. of UEs covered (Reward):  1070.0\n",
            "-----------------------------episode  885 -----------------------------\n"
          ]
        },
        {
          "output_type": "stream",
          "name": "stderr",
          "text": [
            " 18%|█▊        | 886/5000 [02:06<09:20,  7.34it/s]"
          ]
        },
        {
          "output_type": "stream",
          "name": "stdout",
          "text": [
            "no. of UEs covered (Reward):  1220.0\n",
            "-----------------------------episode  886 -----------------------------\n",
            "no. of UEs covered (Reward):  1340.0\n",
            "-----------------------------episode  887 -----------------------------\n"
          ]
        },
        {
          "output_type": "stream",
          "name": "stderr",
          "text": [
            " 18%|█▊        | 888/5000 [02:07<09:15,  7.40it/s]"
          ]
        },
        {
          "output_type": "stream",
          "name": "stdout",
          "text": [
            "no. of UEs covered (Reward):  570.0\n",
            "-----------------------------episode  888 -----------------------------\n",
            "no. of UEs covered (Reward):  1070.0\n",
            "-----------------------------episode  889 -----------------------------\n"
          ]
        },
        {
          "output_type": "stream",
          "name": "stderr",
          "text": [
            " 18%|█▊        | 890/5000 [02:07<09:12,  7.44it/s]"
          ]
        },
        {
          "output_type": "stream",
          "name": "stdout",
          "text": [
            "no. of UEs covered (Reward):  1160.0\n",
            "-----------------------------episode  890 -----------------------------\n",
            "no. of UEs covered (Reward):  1300.0\n",
            "-----------------------------episode  891 -----------------------------\n"
          ]
        },
        {
          "output_type": "stream",
          "name": "stderr",
          "text": [
            " 18%|█▊        | 892/5000 [02:07<09:12,  7.44it/s]"
          ]
        },
        {
          "output_type": "stream",
          "name": "stdout",
          "text": [
            "no. of UEs covered (Reward):  450.0\n",
            "-----------------------------episode  892 -----------------------------\n",
            "no. of UEs covered (Reward):  1370.0\n",
            "-----------------------------episode  893 -----------------------------\n"
          ]
        },
        {
          "output_type": "stream",
          "name": "stderr",
          "text": [
            " 18%|█▊        | 894/5000 [02:08<09:08,  7.49it/s]"
          ]
        },
        {
          "output_type": "stream",
          "name": "stdout",
          "text": [
            "no. of UEs covered (Reward):  640.0\n",
            "-----------------------------episode  894 -----------------------------\n",
            "no. of UEs covered (Reward):  1160.0\n",
            "-----------------------------episode  895 -----------------------------\n"
          ]
        },
        {
          "output_type": "stream",
          "name": "stderr",
          "text": [
            " 18%|█▊        | 896/5000 [02:08<09:17,  7.37it/s]"
          ]
        },
        {
          "output_type": "stream",
          "name": "stdout",
          "text": [
            "no. of UEs covered (Reward):  790.0\n",
            "-----------------------------episode  896 -----------------------------\n",
            "no. of UEs covered (Reward):  650.0\n",
            "-----------------------------episode  897 -----------------------------\n"
          ]
        },
        {
          "output_type": "stream",
          "name": "stderr",
          "text": [
            " 18%|█▊        | 898/5000 [02:08<09:12,  7.43it/s]"
          ]
        },
        {
          "output_type": "stream",
          "name": "stdout",
          "text": [
            "no. of UEs covered (Reward):  1260.0\n",
            "-----------------------------episode  898 -----------------------------\n",
            "no. of UEs covered (Reward):  1280.0\n",
            "-----------------------------episode  899 -----------------------------\n"
          ]
        },
        {
          "output_type": "stream",
          "name": "stderr",
          "text": [
            " 18%|█▊        | 900/5000 [02:08<09:23,  7.28it/s]"
          ]
        },
        {
          "output_type": "stream",
          "name": "stdout",
          "text": [
            "no. of UEs covered (Reward):  1160.0\n",
            "-----------------------------episode  900 -----------------------------\n",
            "no. of UEs covered (Reward):  390.0\n",
            "-----------------------------episode  901 -----------------------------\n"
          ]
        },
        {
          "output_type": "stream",
          "name": "stderr",
          "text": [
            " 18%|█▊        | 902/5000 [02:09<09:04,  7.53it/s]"
          ]
        },
        {
          "output_type": "stream",
          "name": "stdout",
          "text": [
            "no. of UEs covered (Reward):  1180.0\n",
            "-----------------------------episode  902 -----------------------------\n",
            "no. of UEs covered (Reward):  1380.0\n",
            "-----------------------------episode  903 -----------------------------\n"
          ]
        },
        {
          "output_type": "stream",
          "name": "stderr",
          "text": [
            " 18%|█▊        | 904/5000 [02:09<09:04,  7.53it/s]"
          ]
        },
        {
          "output_type": "stream",
          "name": "stdout",
          "text": [
            "no. of UEs covered (Reward):  1250.0\n",
            "-----------------------------episode  904 -----------------------------\n",
            "no. of UEs covered (Reward):  470.0\n",
            "-----------------------------episode  905 -----------------------------\n"
          ]
        },
        {
          "output_type": "stream",
          "name": "stderr",
          "text": [
            " 18%|█▊        | 906/5000 [02:09<09:15,  7.37it/s]"
          ]
        },
        {
          "output_type": "stream",
          "name": "stdout",
          "text": [
            "no. of UEs covered (Reward):  1280.0\n",
            "-----------------------------episode  906 -----------------------------\n",
            "no. of UEs covered (Reward):  740.0\n",
            "-----------------------------episode  907 -----------------------------\n"
          ]
        },
        {
          "output_type": "stream",
          "name": "stderr",
          "text": [
            " 18%|█▊        | 908/5000 [02:09<09:15,  7.37it/s]"
          ]
        },
        {
          "output_type": "stream",
          "name": "stdout",
          "text": [
            "no. of UEs covered (Reward):  1190.0\n",
            "-----------------------------episode  908 -----------------------------\n",
            "no. of UEs covered (Reward):  1270.0\n",
            "-----------------------------episode  909 -----------------------------\n"
          ]
        },
        {
          "output_type": "stream",
          "name": "stderr",
          "text": [
            " 18%|█▊        | 910/5000 [02:10<09:05,  7.49it/s]"
          ]
        },
        {
          "output_type": "stream",
          "name": "stdout",
          "text": [
            "no. of UEs covered (Reward):  1370.0\n",
            "-----------------------------episode  910 -----------------------------\n",
            "no. of UEs covered (Reward):  1330.0\n",
            "-----------------------------episode  911 -----------------------------\n"
          ]
        },
        {
          "output_type": "stream",
          "name": "stderr",
          "text": [
            " 18%|█▊        | 912/5000 [02:10<09:03,  7.53it/s]"
          ]
        },
        {
          "output_type": "stream",
          "name": "stdout",
          "text": [
            "no. of UEs covered (Reward):  1190.0\n",
            "-----------------------------episode  912 -----------------------------\n",
            "no. of UEs covered (Reward):  1020.0\n",
            "-----------------------------episode  913 -----------------------------\n"
          ]
        },
        {
          "output_type": "stream",
          "name": "stderr",
          "text": [
            " 18%|█▊        | 914/5000 [02:10<09:48,  6.95it/s]"
          ]
        },
        {
          "output_type": "stream",
          "name": "stdout",
          "text": [
            "no. of UEs covered (Reward):  1390.0\n",
            "-----------------------------episode  914 -----------------------------\n",
            "no. of UEs covered (Reward):  1260.0\n",
            "-----------------------------episode  915 -----------------------------\n"
          ]
        },
        {
          "output_type": "stream",
          "name": "stderr",
          "text": [
            " 18%|█▊        | 916/5000 [02:11<11:09,  6.10it/s]"
          ]
        },
        {
          "output_type": "stream",
          "name": "stdout",
          "text": [
            "no. of UEs covered (Reward):  530.0\n",
            "-----------------------------episode  916 -----------------------------\n",
            "no. of UEs covered (Reward):  980.0\n",
            "-----------------------------episode  917 -----------------------------\n"
          ]
        },
        {
          "output_type": "stream",
          "name": "stderr",
          "text": [
            " 18%|█▊        | 918/5000 [02:11<11:54,  5.71it/s]"
          ]
        },
        {
          "output_type": "stream",
          "name": "stdout",
          "text": [
            "no. of UEs covered (Reward):  710.0\n",
            "-----------------------------episode  918 -----------------------------\n",
            "no. of UEs covered (Reward):  700.0\n",
            "-----------------------------episode  919 -----------------------------\n"
          ]
        },
        {
          "output_type": "stream",
          "name": "stderr",
          "text": [
            "\r 18%|█▊        | 919/5000 [02:11<12:24,  5.48it/s]"
          ]
        },
        {
          "output_type": "stream",
          "name": "stdout",
          "text": [
            "no. of UEs covered (Reward):  100.0\n",
            "-----------------------------episode  920 -----------------------------\n",
            "no. of UEs covered (Reward):  1340.0\n"
          ]
        },
        {
          "output_type": "stream",
          "name": "stderr",
          "text": [
            " 18%|█▊        | 921/5000 [02:12<12:30,  5.43it/s]"
          ]
        },
        {
          "output_type": "stream",
          "name": "stdout",
          "text": [
            "-----------------------------episode  921 -----------------------------\n",
            "no. of UEs covered (Reward):  520.0\n",
            "-----------------------------episode  922 -----------------------------\n"
          ]
        },
        {
          "output_type": "stream",
          "name": "stderr",
          "text": [
            " 18%|█▊        | 923/5000 [02:12<12:31,  5.42it/s]"
          ]
        },
        {
          "output_type": "stream",
          "name": "stdout",
          "text": [
            "no. of UEs covered (Reward):  420.0\n",
            "-----------------------------episode  923 -----------------------------\n",
            "no. of UEs covered (Reward):  1190.0\n",
            "-----------------------------episode  924 -----------------------------\n"
          ]
        },
        {
          "output_type": "stream",
          "name": "stderr",
          "text": [
            " 18%|█▊        | 925/5000 [02:12<12:45,  5.33it/s]"
          ]
        },
        {
          "output_type": "stream",
          "name": "stdout",
          "text": [
            "no. of UEs covered (Reward):  850.0\n",
            "-----------------------------episode  925 -----------------------------\n",
            "no. of UEs covered (Reward):  750.0\n",
            "-----------------------------episode  926 -----------------------------\n"
          ]
        },
        {
          "output_type": "stream",
          "name": "stderr",
          "text": [
            " 19%|█▊        | 927/5000 [02:13<12:47,  5.31it/s]"
          ]
        },
        {
          "output_type": "stream",
          "name": "stdout",
          "text": [
            "no. of UEs covered (Reward):  1390.0\n",
            "-----------------------------episode  927 -----------------------------\n",
            "no. of UEs covered (Reward):  630.0\n",
            "-----------------------------episode  928 -----------------------------\n"
          ]
        },
        {
          "output_type": "stream",
          "name": "stderr",
          "text": [
            " 19%|█▊        | 929/5000 [02:13<11:41,  5.80it/s]"
          ]
        },
        {
          "output_type": "stream",
          "name": "stdout",
          "text": [
            "no. of UEs covered (Reward):  1380.0\n",
            "-----------------------------episode  929 -----------------------------\n",
            "no. of UEs covered (Reward):  540.0\n",
            "-----------------------------episode  930 -----------------------------\n"
          ]
        },
        {
          "output_type": "stream",
          "name": "stderr",
          "text": [
            " 19%|█▊        | 931/5000 [02:13<10:24,  6.52it/s]"
          ]
        },
        {
          "output_type": "stream",
          "name": "stdout",
          "text": [
            "no. of UEs covered (Reward):  350.0\n",
            "-----------------------------episode  931 -----------------------------\n",
            "no. of UEs covered (Reward):  640.0\n",
            "-----------------------------episode  932 -----------------------------\n"
          ]
        },
        {
          "output_type": "stream",
          "name": "stderr",
          "text": [
            " 19%|█▊        | 933/5000 [02:14<09:37,  7.04it/s]"
          ]
        },
        {
          "output_type": "stream",
          "name": "stdout",
          "text": [
            "no. of UEs covered (Reward):  1010.0\n",
            "-----------------------------episode  933 -----------------------------\n",
            "no. of UEs covered (Reward):  490.0\n",
            "-----------------------------episode  934 -----------------------------\n"
          ]
        },
        {
          "output_type": "stream",
          "name": "stderr",
          "text": [
            " 19%|█▊        | 935/5000 [02:14<09:27,  7.17it/s]"
          ]
        },
        {
          "output_type": "stream",
          "name": "stdout",
          "text": [
            "no. of UEs covered (Reward):  150.0\n",
            "-----------------------------episode  935 -----------------------------\n",
            "no. of UEs covered (Reward):  1280.0\n",
            "-----------------------------episode  936 -----------------------------\n"
          ]
        },
        {
          "output_type": "stream",
          "name": "stderr",
          "text": [
            " 19%|█▊        | 937/5000 [02:14<09:09,  7.40it/s]"
          ]
        },
        {
          "output_type": "stream",
          "name": "stdout",
          "text": [
            "no. of UEs covered (Reward):  1370.0\n",
            "-----------------------------episode  937 -----------------------------\n",
            "no. of UEs covered (Reward):  1380.0\n",
            "-----------------------------episode  938 -----------------------------\n"
          ]
        },
        {
          "output_type": "stream",
          "name": "stderr",
          "text": [
            " 19%|█▉        | 939/5000 [02:14<09:07,  7.42it/s]"
          ]
        },
        {
          "output_type": "stream",
          "name": "stdout",
          "text": [
            "no. of UEs covered (Reward):  340.0\n",
            "-----------------------------episode  939 -----------------------------\n",
            "no. of UEs covered (Reward):  70.0\n",
            "-----------------------------episode  940 -----------------------------\n"
          ]
        },
        {
          "output_type": "stream",
          "name": "stderr",
          "text": [
            " 19%|█▉        | 941/5000 [02:15<09:04,  7.46it/s]"
          ]
        },
        {
          "output_type": "stream",
          "name": "stdout",
          "text": [
            "no. of UEs covered (Reward):  1210.0\n",
            "-----------------------------episode  941 -----------------------------\n",
            "no. of UEs covered (Reward):  620.0\n",
            "-----------------------------episode  942 -----------------------------\n"
          ]
        },
        {
          "output_type": "stream",
          "name": "stderr",
          "text": [
            " 19%|█▉        | 943/5000 [02:15<09:06,  7.42it/s]"
          ]
        },
        {
          "output_type": "stream",
          "name": "stdout",
          "text": [
            "no. of UEs covered (Reward):  650.0\n",
            "-----------------------------episode  943 -----------------------------\n",
            "no. of UEs covered (Reward):  1210.0\n",
            "-----------------------------episode  944 -----------------------------\n"
          ]
        },
        {
          "output_type": "stream",
          "name": "stderr",
          "text": [
            " 19%|█▉        | 945/5000 [02:15<09:04,  7.45it/s]"
          ]
        },
        {
          "output_type": "stream",
          "name": "stdout",
          "text": [
            "no. of UEs covered (Reward):  1360.0\n",
            "-----------------------------episode  945 -----------------------------\n",
            "no. of UEs covered (Reward):  410.0\n",
            "-----------------------------episode  946 -----------------------------\n"
          ]
        },
        {
          "output_type": "stream",
          "name": "stderr",
          "text": [
            " 19%|█▉        | 947/5000 [02:15<09:06,  7.41it/s]"
          ]
        },
        {
          "output_type": "stream",
          "name": "stdout",
          "text": [
            "no. of UEs covered (Reward):  300.0\n",
            "-----------------------------episode  947 -----------------------------\n",
            "no. of UEs covered (Reward):  770.0\n",
            "-----------------------------episode  948 -----------------------------\n"
          ]
        },
        {
          "output_type": "stream",
          "name": "stderr",
          "text": [
            " 19%|█▉        | 949/5000 [02:16<08:56,  7.55it/s]"
          ]
        },
        {
          "output_type": "stream",
          "name": "stdout",
          "text": [
            "no. of UEs covered (Reward):  460.0\n",
            "-----------------------------episode  949 -----------------------------\n",
            "no. of UEs covered (Reward):  770.0\n",
            "-----------------------------episode  950 -----------------------------\n"
          ]
        },
        {
          "output_type": "stream",
          "name": "stderr",
          "text": [
            " 19%|█▉        | 951/5000 [02:16<08:58,  7.52it/s]"
          ]
        },
        {
          "output_type": "stream",
          "name": "stdout",
          "text": [
            "no. of UEs covered (Reward):  640.0\n",
            "-----------------------------episode  951 -----------------------------\n",
            "no. of UEs covered (Reward):  500.0\n",
            "-----------------------------episode  952 -----------------------------\n"
          ]
        },
        {
          "output_type": "stream",
          "name": "stderr",
          "text": [
            " 19%|█▉        | 953/5000 [02:16<09:00,  7.49it/s]"
          ]
        },
        {
          "output_type": "stream",
          "name": "stdout",
          "text": [
            "no. of UEs covered (Reward):  670.0\n",
            "-----------------------------episode  953 -----------------------------\n",
            "no. of UEs covered (Reward):  410.0\n",
            "-----------------------------episode  954 -----------------------------\n"
          ]
        },
        {
          "output_type": "stream",
          "name": "stderr",
          "text": [
            " 19%|█▉        | 955/5000 [02:17<09:03,  7.44it/s]"
          ]
        },
        {
          "output_type": "stream",
          "name": "stdout",
          "text": [
            "no. of UEs covered (Reward):  720.0\n",
            "-----------------------------episode  955 -----------------------------\n",
            "no. of UEs covered (Reward):  1370.0\n",
            "-----------------------------episode  956 -----------------------------\n"
          ]
        },
        {
          "output_type": "stream",
          "name": "stderr",
          "text": [
            " 19%|█▉        | 957/5000 [02:17<09:04,  7.43it/s]"
          ]
        },
        {
          "output_type": "stream",
          "name": "stdout",
          "text": [
            "no. of UEs covered (Reward):  100.0\n",
            "-----------------------------episode  957 -----------------------------\n",
            "no. of UEs covered (Reward):  220.0\n",
            "-----------------------------episode  958 -----------------------------\n"
          ]
        },
        {
          "output_type": "stream",
          "name": "stderr",
          "text": [
            " 19%|█▉        | 959/5000 [02:17<08:58,  7.50it/s]"
          ]
        },
        {
          "output_type": "stream",
          "name": "stdout",
          "text": [
            "no. of UEs covered (Reward):  1370.0\n",
            "-----------------------------episode  959 -----------------------------\n",
            "no. of UEs covered (Reward):  1010.0\n",
            "-----------------------------episode  960 -----------------------------\n"
          ]
        },
        {
          "output_type": "stream",
          "name": "stderr",
          "text": [
            " 19%|█▉        | 961/5000 [02:17<09:02,  7.45it/s]"
          ]
        },
        {
          "output_type": "stream",
          "name": "stdout",
          "text": [
            "no. of UEs covered (Reward):  1020.0\n",
            "-----------------------------episode  961 -----------------------------\n",
            "no. of UEs covered (Reward):  210.0\n",
            "-----------------------------episode  962 -----------------------------\n"
          ]
        },
        {
          "output_type": "stream",
          "name": "stderr",
          "text": [
            " 19%|█▉        | 963/5000 [02:18<08:55,  7.53it/s]"
          ]
        },
        {
          "output_type": "stream",
          "name": "stdout",
          "text": [
            "no. of UEs covered (Reward):  670.0\n",
            "-----------------------------episode  963 -----------------------------\n",
            "no. of UEs covered (Reward):  650.0\n",
            "-----------------------------episode  964 -----------------------------\n"
          ]
        },
        {
          "output_type": "stream",
          "name": "stderr",
          "text": [
            " 19%|█▉        | 965/5000 [02:18<08:55,  7.54it/s]"
          ]
        },
        {
          "output_type": "stream",
          "name": "stdout",
          "text": [
            "no. of UEs covered (Reward):  80.0\n",
            "-----------------------------episode  965 -----------------------------\n",
            "no. of UEs covered (Reward):  40.0\n",
            "-----------------------------episode  966 -----------------------------\n"
          ]
        },
        {
          "output_type": "stream",
          "name": "stderr",
          "text": [
            " 19%|█▉        | 967/5000 [02:18<09:04,  7.41it/s]"
          ]
        },
        {
          "output_type": "stream",
          "name": "stdout",
          "text": [
            "no. of UEs covered (Reward):  50.0\n",
            "-----------------------------episode  967 -----------------------------\n",
            "no. of UEs covered (Reward):  50.0\n",
            "-----------------------------episode  968 -----------------------------\n"
          ]
        },
        {
          "output_type": "stream",
          "name": "stderr",
          "text": [
            " 19%|█▉        | 969/5000 [02:18<09:13,  7.29it/s]"
          ]
        },
        {
          "output_type": "stream",
          "name": "stdout",
          "text": [
            "no. of UEs covered (Reward):  110.0\n",
            "-----------------------------episode  969 -----------------------------\n",
            "no. of UEs covered (Reward):  90.0\n",
            "-----------------------------episode  970 -----------------------------\n"
          ]
        },
        {
          "output_type": "stream",
          "name": "stderr",
          "text": [
            " 19%|█▉        | 971/5000 [02:19<09:06,  7.37it/s]"
          ]
        },
        {
          "output_type": "stream",
          "name": "stdout",
          "text": [
            "no. of UEs covered (Reward):  50.0\n",
            "-----------------------------episode  971 -----------------------------\n",
            "no. of UEs covered (Reward):  130.0\n",
            "-----------------------------episode  972 -----------------------------\n"
          ]
        },
        {
          "output_type": "stream",
          "name": "stderr",
          "text": [
            " 19%|█▉        | 973/5000 [02:19<09:00,  7.45it/s]"
          ]
        },
        {
          "output_type": "stream",
          "name": "stdout",
          "text": [
            "no. of UEs covered (Reward):  1070.0\n",
            "-----------------------------episode  973 -----------------------------\n",
            "no. of UEs covered (Reward):  1350.0\n",
            "-----------------------------episode  974 -----------------------------\n"
          ]
        },
        {
          "output_type": "stream",
          "name": "stderr",
          "text": [
            " 20%|█▉        | 975/5000 [02:19<09:09,  7.33it/s]"
          ]
        },
        {
          "output_type": "stream",
          "name": "stdout",
          "text": [
            "no. of UEs covered (Reward):  630.0\n",
            "-----------------------------episode  975 -----------------------------\n",
            "no. of UEs covered (Reward):  370.0\n",
            "-----------------------------episode  976 -----------------------------\n"
          ]
        },
        {
          "output_type": "stream",
          "name": "stderr",
          "text": [
            " 20%|█▉        | 977/5000 [02:20<09:04,  7.39it/s]"
          ]
        },
        {
          "output_type": "stream",
          "name": "stdout",
          "text": [
            "no. of UEs covered (Reward):  490.0\n",
            "-----------------------------episode  977 -----------------------------\n",
            "no. of UEs covered (Reward):  1160.0\n",
            "-----------------------------episode  978 -----------------------------\n"
          ]
        },
        {
          "output_type": "stream",
          "name": "stderr",
          "text": [
            " 20%|█▉        | 979/5000 [02:20<09:08,  7.33it/s]"
          ]
        },
        {
          "output_type": "stream",
          "name": "stdout",
          "text": [
            "no. of UEs covered (Reward):  590.0\n",
            "-----------------------------episode  979 -----------------------------\n",
            "no. of UEs covered (Reward):  1220.0\n",
            "-----------------------------episode  980 -----------------------------\n"
          ]
        },
        {
          "output_type": "stream",
          "name": "stderr",
          "text": [
            " 20%|█▉        | 981/5000 [02:20<08:53,  7.54it/s]"
          ]
        },
        {
          "output_type": "stream",
          "name": "stdout",
          "text": [
            "no. of UEs covered (Reward):  830.0\n",
            "-----------------------------episode  981 -----------------------------\n",
            "no. of UEs covered (Reward):  610.0\n",
            "-----------------------------episode  982 -----------------------------\n"
          ]
        },
        {
          "output_type": "stream",
          "name": "stderr",
          "text": [
            " 20%|█▉        | 983/5000 [02:20<08:55,  7.50it/s]"
          ]
        },
        {
          "output_type": "stream",
          "name": "stdout",
          "text": [
            "no. of UEs covered (Reward):  520.0\n",
            "-----------------------------episode  983 -----------------------------\n",
            "no. of UEs covered (Reward):  550.0\n",
            "-----------------------------episode  984 -----------------------------\n"
          ]
        },
        {
          "output_type": "stream",
          "name": "stderr",
          "text": [
            " 20%|█▉        | 985/5000 [02:21<08:49,  7.58it/s]"
          ]
        },
        {
          "output_type": "stream",
          "name": "stdout",
          "text": [
            "no. of UEs covered (Reward):  840.0\n",
            "-----------------------------episode  985 -----------------------------\n",
            "no. of UEs covered (Reward):  380.0\n",
            "-----------------------------episode  986 -----------------------------\n"
          ]
        },
        {
          "output_type": "stream",
          "name": "stderr",
          "text": [
            " 20%|█▉        | 987/5000 [02:21<08:53,  7.53it/s]"
          ]
        },
        {
          "output_type": "stream",
          "name": "stdout",
          "text": [
            "no. of UEs covered (Reward):  400.0\n",
            "-----------------------------episode  987 -----------------------------\n",
            "no. of UEs covered (Reward):  430.0\n",
            "-----------------------------episode  988 -----------------------------\n"
          ]
        },
        {
          "output_type": "stream",
          "name": "stderr",
          "text": [
            " 20%|█▉        | 989/5000 [02:21<08:46,  7.62it/s]"
          ]
        },
        {
          "output_type": "stream",
          "name": "stdout",
          "text": [
            "no. of UEs covered (Reward):  970.0\n",
            "-----------------------------episode  989 -----------------------------\n",
            "no. of UEs covered (Reward):  790.0\n",
            "-----------------------------episode  990 -----------------------------\n"
          ]
        },
        {
          "output_type": "stream",
          "name": "stderr",
          "text": [
            " 20%|█▉        | 991/5000 [02:21<08:54,  7.50it/s]"
          ]
        },
        {
          "output_type": "stream",
          "name": "stdout",
          "text": [
            "no. of UEs covered (Reward):  470.0\n",
            "-----------------------------episode  991 -----------------------------\n",
            "no. of UEs covered (Reward):  840.0\n",
            "-----------------------------episode  992 -----------------------------\n"
          ]
        },
        {
          "output_type": "stream",
          "name": "stderr",
          "text": [
            " 20%|█▉        | 993/5000 [02:22<08:46,  7.62it/s]"
          ]
        },
        {
          "output_type": "stream",
          "name": "stdout",
          "text": [
            "no. of UEs covered (Reward):  1380.0\n",
            "-----------------------------episode  993 -----------------------------\n",
            "no. of UEs covered (Reward):  1380.0\n",
            "-----------------------------episode  994 -----------------------------\n"
          ]
        },
        {
          "output_type": "stream",
          "name": "stderr",
          "text": [
            " 20%|█▉        | 995/5000 [02:22<08:50,  7.55it/s]"
          ]
        },
        {
          "output_type": "stream",
          "name": "stdout",
          "text": [
            "no. of UEs covered (Reward):  1090.0\n",
            "-----------------------------episode  995 -----------------------------\n",
            "no. of UEs covered (Reward):  1140.0\n",
            "-----------------------------episode  996 -----------------------------\n"
          ]
        },
        {
          "output_type": "stream",
          "name": "stderr",
          "text": [
            " 20%|█▉        | 997/5000 [02:22<08:55,  7.47it/s]"
          ]
        },
        {
          "output_type": "stream",
          "name": "stdout",
          "text": [
            "no. of UEs covered (Reward):  800.0\n",
            "-----------------------------episode  997 -----------------------------\n",
            "no. of UEs covered (Reward):  1370.0\n",
            "-----------------------------episode  998 -----------------------------\n"
          ]
        },
        {
          "output_type": "stream",
          "name": "stderr",
          "text": [
            " 20%|█▉        | 999/5000 [02:22<08:57,  7.44it/s]"
          ]
        },
        {
          "output_type": "stream",
          "name": "stdout",
          "text": [
            "no. of UEs covered (Reward):  870.0\n",
            "-----------------------------episode  999 -----------------------------\n",
            "no. of UEs covered (Reward):  1190.0\n",
            "-----------------------------episode  1000 -----------------------------\n"
          ]
        },
        {
          "output_type": "stream",
          "name": "stderr",
          "text": [
            " 20%|██        | 1001/5000 [02:23<08:55,  7.47it/s]"
          ]
        },
        {
          "output_type": "stream",
          "name": "stdout",
          "text": [
            "no. of UEs covered (Reward):  1060.0\n",
            "-----------------------------episode  1001 -----------------------------\n",
            "no. of UEs covered (Reward):  130.0\n",
            "-----------------------------episode  1002 -----------------------------\n"
          ]
        },
        {
          "output_type": "stream",
          "name": "stderr",
          "text": [
            " 20%|██        | 1003/5000 [02:23<09:50,  6.76it/s]"
          ]
        },
        {
          "output_type": "stream",
          "name": "stdout",
          "text": [
            "no. of UEs covered (Reward):  90.0\n",
            "-----------------------------episode  1003 -----------------------------\n",
            "no. of UEs covered (Reward):  740.0\n",
            "-----------------------------episode  1004 -----------------------------\n"
          ]
        },
        {
          "output_type": "stream",
          "name": "stderr",
          "text": [
            "\r 20%|██        | 1004/5000 [02:23<10:54,  6.10it/s]"
          ]
        },
        {
          "output_type": "stream",
          "name": "stdout",
          "text": [
            "no. of UEs covered (Reward):  650.0\n",
            "-----------------------------episode  1005 -----------------------------\n"
          ]
        },
        {
          "output_type": "stream",
          "name": "stderr",
          "text": [
            " 20%|██        | 1006/5000 [02:24<12:09,  5.48it/s]"
          ]
        },
        {
          "output_type": "stream",
          "name": "stdout",
          "text": [
            "no. of UEs covered (Reward):  360.0\n",
            "-----------------------------episode  1006 -----------------------------\n",
            "no. of UEs covered (Reward):  350.0\n",
            "-----------------------------episode  1007 -----------------------------\n"
          ]
        },
        {
          "output_type": "stream",
          "name": "stderr",
          "text": [
            " 20%|██        | 1008/5000 [02:24<12:24,  5.36it/s]"
          ]
        },
        {
          "output_type": "stream",
          "name": "stdout",
          "text": [
            "no. of UEs covered (Reward):  110.0\n",
            "-----------------------------episode  1008 -----------------------------\n",
            "no. of UEs covered (Reward):  1100.0\n",
            "-----------------------------episode  1009 -----------------------------\n"
          ]
        },
        {
          "output_type": "stream",
          "name": "stderr",
          "text": [
            " 20%|██        | 1010/5000 [02:24<12:14,  5.43it/s]"
          ]
        },
        {
          "output_type": "stream",
          "name": "stdout",
          "text": [
            "no. of UEs covered (Reward):  180.0\n",
            "-----------------------------episode  1010 -----------------------------\n",
            "no. of UEs covered (Reward):  670.0\n",
            "-----------------------------episode  1011 -----------------------------\n"
          ]
        },
        {
          "output_type": "stream",
          "name": "stderr",
          "text": [
            " 20%|██        | 1012/5000 [02:25<12:38,  5.26it/s]"
          ]
        },
        {
          "output_type": "stream",
          "name": "stdout",
          "text": [
            "no. of UEs covered (Reward):  930.0\n",
            "-----------------------------episode  1012 -----------------------------\n",
            "no. of UEs covered (Reward):  550.0\n",
            "-----------------------------episode  1013 -----------------------------\n"
          ]
        },
        {
          "output_type": "stream",
          "name": "stderr",
          "text": [
            " 20%|██        | 1014/5000 [02:25<13:02,  5.10it/s]"
          ]
        },
        {
          "output_type": "stream",
          "name": "stdout",
          "text": [
            "no. of UEs covered (Reward):  820.0\n",
            "-----------------------------episode  1014 -----------------------------\n",
            "no. of UEs covered (Reward):  970.0\n",
            "-----------------------------episode  1015 -----------------------------"
          ]
        },
        {
          "output_type": "stream",
          "name": "stderr",
          "text": [
            "\r 20%|██        | 1015/5000 [02:25<13:00,  5.11it/s]"
          ]
        },
        {
          "output_type": "stream",
          "name": "stdout",
          "text": [
            "\n",
            "no. of UEs covered (Reward):  400.0\n",
            "-----------------------------episode  1016 -----------------------------\n"
          ]
        },
        {
          "output_type": "stream",
          "name": "stderr",
          "text": [
            "\r 20%|██        | 1016/5000 [02:26<13:10,  5.04it/s]"
          ]
        },
        {
          "output_type": "stream",
          "name": "stdout",
          "text": [
            "no. of UEs covered (Reward):  970.0\n",
            "-----------------------------episode  1017 -----------------------------\n"
          ]
        },
        {
          "output_type": "stream",
          "name": "stderr",
          "text": [
            " 20%|██        | 1018/5000 [02:26<12:19,  5.39it/s]"
          ]
        },
        {
          "output_type": "stream",
          "name": "stdout",
          "text": [
            "no. of UEs covered (Reward):  730.0\n",
            "-----------------------------episode  1018 -----------------------------\n",
            "no. of UEs covered (Reward):  690.0\n",
            "-----------------------------episode  1019 -----------------------------\n"
          ]
        },
        {
          "output_type": "stream",
          "name": "stderr",
          "text": [
            " 20%|██        | 1020/5000 [02:26<10:33,  6.29it/s]"
          ]
        },
        {
          "output_type": "stream",
          "name": "stdout",
          "text": [
            "no. of UEs covered (Reward):  1040.0\n",
            "-----------------------------episode  1020 -----------------------------\n",
            "no. of UEs covered (Reward):  1020.0\n",
            "-----------------------------episode  1021 -----------------------------\n"
          ]
        },
        {
          "output_type": "stream",
          "name": "stderr",
          "text": [
            " 20%|██        | 1022/5000 [02:26<09:35,  6.92it/s]"
          ]
        },
        {
          "output_type": "stream",
          "name": "stdout",
          "text": [
            "no. of UEs covered (Reward):  110.0\n",
            "-----------------------------episode  1022 -----------------------------\n",
            "no. of UEs covered (Reward):  620.0\n",
            "-----------------------------episode  1023 -----------------------------\n"
          ]
        },
        {
          "output_type": "stream",
          "name": "stderr",
          "text": [
            " 20%|██        | 1024/5000 [02:27<09:27,  7.01it/s]"
          ]
        },
        {
          "output_type": "stream",
          "name": "stdout",
          "text": [
            "no. of UEs covered (Reward):  1370.0\n",
            "-----------------------------episode  1024 -----------------------------\n",
            "no. of UEs covered (Reward):  1250.0\n",
            "-----------------------------episode  1025 -----------------------------\n"
          ]
        },
        {
          "output_type": "stream",
          "name": "stderr",
          "text": [
            " 21%|██        | 1026/5000 [02:27<09:14,  7.17it/s]"
          ]
        },
        {
          "output_type": "stream",
          "name": "stdout",
          "text": [
            "no. of UEs covered (Reward):  120.0\n",
            "-----------------------------episode  1026 -----------------------------\n",
            "no. of UEs covered (Reward):  1370.0\n",
            "-----------------------------episode  1027 -----------------------------\n"
          ]
        },
        {
          "output_type": "stream",
          "name": "stderr",
          "text": [
            " 21%|██        | 1028/5000 [02:27<08:58,  7.37it/s]"
          ]
        },
        {
          "output_type": "stream",
          "name": "stdout",
          "text": [
            "no. of UEs covered (Reward):  1320.0\n",
            "-----------------------------episode  1028 -----------------------------\n",
            "no. of UEs covered (Reward):  1380.0\n",
            "-----------------------------episode  1029 -----------------------------\n"
          ]
        },
        {
          "output_type": "stream",
          "name": "stderr",
          "text": [
            " 21%|██        | 1030/5000 [02:28<08:56,  7.40it/s]"
          ]
        },
        {
          "output_type": "stream",
          "name": "stdout",
          "text": [
            "no. of UEs covered (Reward):  100.0\n",
            "-----------------------------episode  1030 -----------------------------\n",
            "no. of UEs covered (Reward):  80.0\n",
            "-----------------------------episode  1031 -----------------------------\n"
          ]
        },
        {
          "output_type": "stream",
          "name": "stderr",
          "text": [
            " 21%|██        | 1032/5000 [02:28<08:53,  7.43it/s]"
          ]
        },
        {
          "output_type": "stream",
          "name": "stdout",
          "text": [
            "no. of UEs covered (Reward):  500.0\n",
            "-----------------------------episode  1032 -----------------------------\n",
            "no. of UEs covered (Reward):  100.0\n",
            "-----------------------------episode  1033 -----------------------------\n"
          ]
        },
        {
          "output_type": "stream",
          "name": "stderr",
          "text": [
            " 21%|██        | 1034/5000 [02:28<08:52,  7.45it/s]"
          ]
        },
        {
          "output_type": "stream",
          "name": "stdout",
          "text": [
            "no. of UEs covered (Reward):  680.0\n",
            "-----------------------------episode  1034 -----------------------------\n",
            "no. of UEs covered (Reward):  900.0\n",
            "-----------------------------episode  1035 -----------------------------\n"
          ]
        },
        {
          "output_type": "stream",
          "name": "stderr",
          "text": [
            " 21%|██        | 1036/5000 [02:28<08:48,  7.50it/s]"
          ]
        },
        {
          "output_type": "stream",
          "name": "stdout",
          "text": [
            "no. of UEs covered (Reward):  120.0\n",
            "-----------------------------episode  1036 -----------------------------\n",
            "no. of UEs covered (Reward):  160.0\n",
            "-----------------------------episode  1037 -----------------------------\n"
          ]
        },
        {
          "output_type": "stream",
          "name": "stderr",
          "text": [
            " 21%|██        | 1038/5000 [02:29<08:49,  7.48it/s]"
          ]
        },
        {
          "output_type": "stream",
          "name": "stdout",
          "text": [
            "no. of UEs covered (Reward):  580.0\n",
            "-----------------------------episode  1038 -----------------------------\n",
            "no. of UEs covered (Reward):  210.0\n",
            "-----------------------------episode  1039 -----------------------------\n"
          ]
        },
        {
          "output_type": "stream",
          "name": "stderr",
          "text": [
            " 21%|██        | 1040/5000 [02:29<09:00,  7.33it/s]"
          ]
        },
        {
          "output_type": "stream",
          "name": "stdout",
          "text": [
            "no. of UEs covered (Reward):  50.0\n",
            "-----------------------------episode  1040 -----------------------------\n",
            "no. of UEs covered (Reward):  290.0\n",
            "-----------------------------episode  1041 -----------------------------\n"
          ]
        },
        {
          "output_type": "stream",
          "name": "stderr",
          "text": [
            " 21%|██        | 1042/5000 [02:29<08:53,  7.42it/s]"
          ]
        },
        {
          "output_type": "stream",
          "name": "stdout",
          "text": [
            "no. of UEs covered (Reward):  610.0\n",
            "-----------------------------episode  1042 -----------------------------\n",
            "no. of UEs covered (Reward):  1250.0\n",
            "-----------------------------episode  1043 -----------------------------\n"
          ]
        },
        {
          "output_type": "stream",
          "name": "stderr",
          "text": [
            " 21%|██        | 1044/5000 [02:29<08:41,  7.59it/s]"
          ]
        },
        {
          "output_type": "stream",
          "name": "stdout",
          "text": [
            "no. of UEs covered (Reward):  680.0\n",
            "-----------------------------episode  1044 -----------------------------\n",
            "no. of UEs covered (Reward):  1100.0\n",
            "-----------------------------episode  1045 -----------------------------\n"
          ]
        },
        {
          "output_type": "stream",
          "name": "stderr",
          "text": [
            " 21%|██        | 1046/5000 [02:30<08:46,  7.51it/s]"
          ]
        },
        {
          "output_type": "stream",
          "name": "stdout",
          "text": [
            "no. of UEs covered (Reward):  710.0\n",
            "-----------------------------episode  1046 -----------------------------\n",
            "no. of UEs covered (Reward):  660.0\n",
            "-----------------------------episode  1047 -----------------------------\n"
          ]
        },
        {
          "output_type": "stream",
          "name": "stderr",
          "text": [
            " 21%|██        | 1048/5000 [02:30<08:37,  7.63it/s]"
          ]
        },
        {
          "output_type": "stream",
          "name": "stdout",
          "text": [
            "no. of UEs covered (Reward):  1290.0\n",
            "-----------------------------episode  1048 -----------------------------\n",
            "no. of UEs covered (Reward):  430.0\n",
            "-----------------------------episode  1049 -----------------------------\n"
          ]
        },
        {
          "output_type": "stream",
          "name": "stderr",
          "text": [
            " 21%|██        | 1050/5000 [02:30<08:39,  7.60it/s]"
          ]
        },
        {
          "output_type": "stream",
          "name": "stdout",
          "text": [
            "no. of UEs covered (Reward):  930.0\n",
            "-----------------------------episode  1050 -----------------------------\n",
            "no. of UEs covered (Reward):  620.0\n",
            "-----------------------------episode  1051 -----------------------------\n"
          ]
        },
        {
          "output_type": "stream",
          "name": "stderr",
          "text": [
            " 21%|██        | 1052/5000 [02:31<08:38,  7.61it/s]"
          ]
        },
        {
          "output_type": "stream",
          "name": "stdout",
          "text": [
            "no. of UEs covered (Reward):  90.0\n",
            "-----------------------------episode  1052 -----------------------------\n",
            "no. of UEs covered (Reward):  80.0\n",
            "-----------------------------episode  1053 -----------------------------\n"
          ]
        },
        {
          "output_type": "stream",
          "name": "stderr",
          "text": [
            " 21%|██        | 1054/5000 [02:31<08:56,  7.36it/s]"
          ]
        },
        {
          "output_type": "stream",
          "name": "stdout",
          "text": [
            "no. of UEs covered (Reward):  110.0\n",
            "-----------------------------episode  1054 -----------------------------\n",
            "no. of UEs covered (Reward):  270.0\n",
            "-----------------------------episode  1055 -----------------------------\n"
          ]
        },
        {
          "output_type": "stream",
          "name": "stderr",
          "text": [
            " 21%|██        | 1056/5000 [02:31<08:48,  7.46it/s]"
          ]
        },
        {
          "output_type": "stream",
          "name": "stdout",
          "text": [
            "no. of UEs covered (Reward):  1260.0\n",
            "-----------------------------episode  1056 -----------------------------\n",
            "no. of UEs covered (Reward):  400.0\n",
            "-----------------------------episode  1057 -----------------------------\n"
          ]
        },
        {
          "output_type": "stream",
          "name": "stderr",
          "text": [
            " 21%|██        | 1058/5000 [02:31<08:36,  7.63it/s]"
          ]
        },
        {
          "output_type": "stream",
          "name": "stdout",
          "text": [
            "no. of UEs covered (Reward):  1350.0\n",
            "-----------------------------episode  1058 -----------------------------\n",
            "no. of UEs covered (Reward):  1340.0\n",
            "-----------------------------episode  1059 -----------------------------\n"
          ]
        },
        {
          "output_type": "stream",
          "name": "stderr",
          "text": [
            " 21%|██        | 1060/5000 [02:32<08:43,  7.52it/s]"
          ]
        },
        {
          "output_type": "stream",
          "name": "stdout",
          "text": [
            "no. of UEs covered (Reward):  110.0\n",
            "-----------------------------episode  1060 -----------------------------\n",
            "no. of UEs covered (Reward):  50.0\n",
            "-----------------------------episode  1061 -----------------------------\n"
          ]
        },
        {
          "output_type": "stream",
          "name": "stderr",
          "text": [
            " 21%|██        | 1062/5000 [02:32<08:49,  7.43it/s]"
          ]
        },
        {
          "output_type": "stream",
          "name": "stdout",
          "text": [
            "no. of UEs covered (Reward):  650.0\n",
            "-----------------------------episode  1062 -----------------------------\n",
            "no. of UEs covered (Reward):  880.0\n",
            "-----------------------------episode  1063 -----------------------------\n"
          ]
        },
        {
          "output_type": "stream",
          "name": "stderr",
          "text": [
            " 21%|██▏       | 1064/5000 [02:32<08:56,  7.33it/s]"
          ]
        },
        {
          "output_type": "stream",
          "name": "stdout",
          "text": [
            "no. of UEs covered (Reward):  130.0\n",
            "-----------------------------episode  1064 -----------------------------\n",
            "no. of UEs covered (Reward):  170.0\n",
            "-----------------------------episode  1065 -----------------------------\n"
          ]
        },
        {
          "output_type": "stream",
          "name": "stderr",
          "text": [
            " 21%|██▏       | 1066/5000 [02:32<08:45,  7.49it/s]"
          ]
        },
        {
          "output_type": "stream",
          "name": "stdout",
          "text": [
            "no. of UEs covered (Reward):  70.0\n",
            "-----------------------------episode  1066 -----------------------------\n",
            "no. of UEs covered (Reward):  640.0\n",
            "-----------------------------episode  1067 -----------------------------\n"
          ]
        },
        {
          "output_type": "stream",
          "name": "stderr",
          "text": [
            " 21%|██▏       | 1068/5000 [02:33<08:35,  7.63it/s]"
          ]
        },
        {
          "output_type": "stream",
          "name": "stdout",
          "text": [
            "no. of UEs covered (Reward):  270.0\n",
            "-----------------------------episode  1068 -----------------------------\n",
            "no. of UEs covered (Reward):  60.0\n",
            "-----------------------------episode  1069 -----------------------------\n"
          ]
        },
        {
          "output_type": "stream",
          "name": "stderr",
          "text": [
            " 21%|██▏       | 1070/5000 [02:33<08:50,  7.41it/s]"
          ]
        },
        {
          "output_type": "stream",
          "name": "stdout",
          "text": [
            "no. of UEs covered (Reward):  610.0\n",
            "-----------------------------episode  1070 -----------------------------\n",
            "no. of UEs covered (Reward):  1370.0\n",
            "-----------------------------episode  1071 -----------------------------\n"
          ]
        },
        {
          "output_type": "stream",
          "name": "stderr",
          "text": [
            " 21%|██▏       | 1072/5000 [02:33<08:37,  7.59it/s]"
          ]
        },
        {
          "output_type": "stream",
          "name": "stdout",
          "text": [
            "no. of UEs covered (Reward):  350.0\n",
            "-----------------------------episode  1072 -----------------------------\n",
            "no. of UEs covered (Reward):  730.0\n",
            "-----------------------------episode  1073 -----------------------------\n"
          ]
        },
        {
          "output_type": "stream",
          "name": "stderr",
          "text": [
            " 21%|██▏       | 1074/5000 [02:33<08:36,  7.61it/s]"
          ]
        },
        {
          "output_type": "stream",
          "name": "stdout",
          "text": [
            "no. of UEs covered (Reward):  220.0\n",
            "-----------------------------episode  1074 -----------------------------\n",
            "no. of UEs covered (Reward):  60.0\n",
            "-----------------------------episode  1075 -----------------------------\n"
          ]
        },
        {
          "output_type": "stream",
          "name": "stderr",
          "text": [
            " 22%|██▏       | 1076/5000 [02:34<08:38,  7.56it/s]"
          ]
        },
        {
          "output_type": "stream",
          "name": "stdout",
          "text": [
            "no. of UEs covered (Reward):  210.0\n",
            "-----------------------------episode  1076 -----------------------------\n",
            "no. of UEs covered (Reward):  70.0\n",
            "-----------------------------episode  1077 -----------------------------\n"
          ]
        },
        {
          "output_type": "stream",
          "name": "stderr",
          "text": [
            " 22%|██▏       | 1078/5000 [02:34<09:13,  7.08it/s]"
          ]
        },
        {
          "output_type": "stream",
          "name": "stdout",
          "text": [
            "no. of UEs covered (Reward):  160.0\n",
            "-----------------------------episode  1078 -----------------------------\n",
            "no. of UEs covered (Reward):  80.0\n",
            "-----------------------------episode  1079 -----------------------------\n"
          ]
        },
        {
          "output_type": "stream",
          "name": "stderr",
          "text": [
            " 22%|██▏       | 1080/5000 [02:34<09:15,  7.06it/s]"
          ]
        },
        {
          "output_type": "stream",
          "name": "stdout",
          "text": [
            "no. of UEs covered (Reward):  1370.0\n",
            "-----------------------------episode  1080 -----------------------------\n",
            "no. of UEs covered (Reward):  1210.0\n",
            "-----------------------------episode  1081 -----------------------------\n"
          ]
        },
        {
          "output_type": "stream",
          "name": "stderr",
          "text": [
            " 22%|██▏       | 1082/5000 [02:35<08:54,  7.33it/s]"
          ]
        },
        {
          "output_type": "stream",
          "name": "stdout",
          "text": [
            "no. of UEs covered (Reward):  1150.0\n",
            "-----------------------------episode  1082 -----------------------------\n",
            "no. of UEs covered (Reward):  1290.0\n",
            "-----------------------------episode  1083 -----------------------------\n"
          ]
        },
        {
          "output_type": "stream",
          "name": "stderr",
          "text": [
            " 22%|██▏       | 1084/5000 [02:35<09:16,  7.04it/s]"
          ]
        },
        {
          "output_type": "stream",
          "name": "stdout",
          "text": [
            "no. of UEs covered (Reward):  50.0\n",
            "-----------------------------episode  1084 -----------------------------\n",
            "no. of UEs covered (Reward):  1320.0\n",
            "-----------------------------episode  1085 -----------------------------\n"
          ]
        },
        {
          "output_type": "stream",
          "name": "stderr",
          "text": [
            " 22%|██▏       | 1086/5000 [02:35<09:03,  7.20it/s]"
          ]
        },
        {
          "output_type": "stream",
          "name": "stdout",
          "text": [
            "no. of UEs covered (Reward):  150.0\n",
            "-----------------------------episode  1086 -----------------------------\n",
            "no. of UEs covered (Reward):  120.0\n",
            "-----------------------------episode  1087 -----------------------------\n"
          ]
        },
        {
          "output_type": "stream",
          "name": "stderr",
          "text": [
            " 22%|██▏       | 1088/5000 [02:35<08:49,  7.38it/s]"
          ]
        },
        {
          "output_type": "stream",
          "name": "stdout",
          "text": [
            "no. of UEs covered (Reward):  110.0\n",
            "-----------------------------episode  1088 -----------------------------\n",
            "no. of UEs covered (Reward):  120.0\n",
            "-----------------------------episode  1089 -----------------------------\n"
          ]
        },
        {
          "output_type": "stream",
          "name": "stderr",
          "text": [
            " 22%|██▏       | 1090/5000 [02:36<08:50,  7.36it/s]"
          ]
        },
        {
          "output_type": "stream",
          "name": "stdout",
          "text": [
            "no. of UEs covered (Reward):  1380.0\n",
            "-----------------------------episode  1090 -----------------------------\n",
            "no. of UEs covered (Reward):  370.0\n",
            "-----------------------------episode  1091 -----------------------------\n"
          ]
        },
        {
          "output_type": "stream",
          "name": "stderr",
          "text": [
            " 22%|██▏       | 1092/5000 [02:36<09:55,  6.57it/s]"
          ]
        },
        {
          "output_type": "stream",
          "name": "stdout",
          "text": [
            "no. of UEs covered (Reward):  570.0\n",
            "-----------------------------episode  1092 -----------------------------\n",
            "no. of UEs covered (Reward):  1340.0\n",
            "-----------------------------episode  1093 -----------------------------\n"
          ]
        },
        {
          "output_type": "stream",
          "name": "stderr",
          "text": [
            " 22%|██▏       | 1094/5000 [02:36<10:54,  5.97it/s]"
          ]
        },
        {
          "output_type": "stream",
          "name": "stdout",
          "text": [
            "no. of UEs covered (Reward):  1340.0\n",
            "-----------------------------episode  1094 -----------------------------\n",
            "no. of UEs covered (Reward):  1170.0\n",
            "-----------------------------episode  1095 -----------------------------\n"
          ]
        },
        {
          "output_type": "stream",
          "name": "stderr",
          "text": [
            " 22%|██▏       | 1096/5000 [02:37<11:21,  5.73it/s]"
          ]
        },
        {
          "output_type": "stream",
          "name": "stdout",
          "text": [
            "no. of UEs covered (Reward):  800.0\n",
            "-----------------------------episode  1096 -----------------------------\n",
            "no. of UEs covered (Reward):  660.0\n",
            "-----------------------------episode  1097 -----------------------------\n"
          ]
        },
        {
          "output_type": "stream",
          "name": "stderr",
          "text": [
            " 22%|██▏       | 1098/5000 [02:37<11:50,  5.49it/s]"
          ]
        },
        {
          "output_type": "stream",
          "name": "stdout",
          "text": [
            "no. of UEs covered (Reward):  1350.0\n",
            "-----------------------------episode  1098 -----------------------------\n",
            "no. of UEs covered (Reward):  790.0\n",
            "-----------------------------episode  1099 -----------------------------\n"
          ]
        },
        {
          "output_type": "stream",
          "name": "stderr",
          "text": [
            " 22%|██▏       | 1100/5000 [02:38<11:56,  5.44it/s]"
          ]
        },
        {
          "output_type": "stream",
          "name": "stdout",
          "text": [
            "no. of UEs covered (Reward):  60.0\n",
            "-----------------------------episode  1100 -----------------------------\n",
            "no. of UEs covered (Reward):  460.0\n",
            "-----------------------------episode  1101 -----------------------------\n"
          ]
        },
        {
          "output_type": "stream",
          "name": "stderr",
          "text": [
            " 22%|██▏       | 1102/5000 [02:38<12:04,  5.38it/s]"
          ]
        },
        {
          "output_type": "stream",
          "name": "stdout",
          "text": [
            "no. of UEs covered (Reward):  1380.0\n",
            "-----------------------------episode  1102 -----------------------------\n",
            "no. of UEs covered (Reward):  700.0\n",
            "-----------------------------episode  1103 -----------------------------\n"
          ]
        },
        {
          "output_type": "stream",
          "name": "stderr",
          "text": [
            " 22%|██▏       | 1104/5000 [02:38<12:23,  5.24it/s]"
          ]
        },
        {
          "output_type": "stream",
          "name": "stdout",
          "text": [
            "no. of UEs covered (Reward):  1360.0\n",
            "-----------------------------episode  1104 -----------------------------\n",
            "no. of UEs covered (Reward):  1140.0\n",
            "-----------------------------episode  1105 -----------------------------\n"
          ]
        },
        {
          "output_type": "stream",
          "name": "stderr",
          "text": [
            " 22%|██▏       | 1106/5000 [02:39<12:34,  5.16it/s]"
          ]
        },
        {
          "output_type": "stream",
          "name": "stdout",
          "text": [
            "no. of UEs covered (Reward):  120.0\n",
            "-----------------------------episode  1106 -----------------------------\n",
            "no. of UEs covered (Reward):  110.0\n",
            "-----------------------------episode  1107 -----------------------------\n"
          ]
        },
        {
          "output_type": "stream",
          "name": "stderr",
          "text": [
            " 22%|██▏       | 1108/5000 [02:39<10:52,  5.96it/s]"
          ]
        },
        {
          "output_type": "stream",
          "name": "stdout",
          "text": [
            "no. of UEs covered (Reward):  70.0\n",
            "-----------------------------episode  1108 -----------------------------\n",
            "no. of UEs covered (Reward):  650.0\n",
            "-----------------------------episode  1109 -----------------------------\n"
          ]
        },
        {
          "output_type": "stream",
          "name": "stderr",
          "text": [
            " 22%|██▏       | 1110/5000 [02:39<09:57,  6.51it/s]"
          ]
        },
        {
          "output_type": "stream",
          "name": "stdout",
          "text": [
            "no. of UEs covered (Reward):  380.0\n",
            "-----------------------------episode  1110 -----------------------------\n",
            "no. of UEs covered (Reward):  110.0\n",
            "-----------------------------episode  1111 -----------------------------\n"
          ]
        },
        {
          "output_type": "stream",
          "name": "stderr",
          "text": [
            " 22%|██▏       | 1112/5000 [02:40<09:24,  6.89it/s]"
          ]
        },
        {
          "output_type": "stream",
          "name": "stdout",
          "text": [
            "no. of UEs covered (Reward):  130.0\n",
            "-----------------------------episode  1112 -----------------------------\n",
            "no. of UEs covered (Reward):  1370.0\n",
            "-----------------------------episode  1113 -----------------------------\n"
          ]
        },
        {
          "output_type": "stream",
          "name": "stderr",
          "text": [
            " 22%|██▏       | 1114/5000 [02:40<08:58,  7.21it/s]"
          ]
        },
        {
          "output_type": "stream",
          "name": "stdout",
          "text": [
            "no. of UEs covered (Reward):  130.0\n",
            "-----------------------------episode  1114 -----------------------------\n",
            "no. of UEs covered (Reward):  100.0\n",
            "-----------------------------episode  1115 -----------------------------\n"
          ]
        },
        {
          "output_type": "stream",
          "name": "stderr",
          "text": [
            " 22%|██▏       | 1116/5000 [02:40<08:57,  7.23it/s]"
          ]
        },
        {
          "output_type": "stream",
          "name": "stdout",
          "text": [
            "no. of UEs covered (Reward):  1280.0\n",
            "-----------------------------episode  1116 -----------------------------\n",
            "no. of UEs covered (Reward):  1260.0\n",
            "-----------------------------episode  1117 -----------------------------\n"
          ]
        },
        {
          "output_type": "stream",
          "name": "stderr",
          "text": [
            " 22%|██▏       | 1118/5000 [02:40<08:51,  7.31it/s]"
          ]
        },
        {
          "output_type": "stream",
          "name": "stdout",
          "text": [
            "no. of UEs covered (Reward):  240.0\n",
            "-----------------------------episode  1118 -----------------------------\n",
            "no. of UEs covered (Reward):  60.0\n",
            "-----------------------------episode  1119 -----------------------------\n"
          ]
        },
        {
          "output_type": "stream",
          "name": "stderr",
          "text": [
            " 22%|██▏       | 1120/5000 [02:41<08:43,  7.41it/s]"
          ]
        },
        {
          "output_type": "stream",
          "name": "stdout",
          "text": [
            "no. of UEs covered (Reward):  680.0\n",
            "-----------------------------episode  1120 -----------------------------\n",
            "no. of UEs covered (Reward):  1160.0\n",
            "-----------------------------episode  1121 -----------------------------\n"
          ]
        },
        {
          "output_type": "stream",
          "name": "stderr",
          "text": [
            " 22%|██▏       | 1122/5000 [02:41<08:41,  7.43it/s]"
          ]
        },
        {
          "output_type": "stream",
          "name": "stdout",
          "text": [
            "no. of UEs covered (Reward):  640.0\n",
            "-----------------------------episode  1122 -----------------------------\n",
            "no. of UEs covered (Reward):  1090.0\n",
            "-----------------------------episode  1123 -----------------------------\n"
          ]
        },
        {
          "output_type": "stream",
          "name": "stderr",
          "text": [
            " 22%|██▏       | 1124/5000 [02:41<09:06,  7.10it/s]"
          ]
        },
        {
          "output_type": "stream",
          "name": "stdout",
          "text": [
            "no. of UEs covered (Reward):  1380.0\n",
            "-----------------------------episode  1124 -----------------------------\n",
            "no. of UEs covered (Reward):  1150.0\n",
            "-----------------------------episode  1125 -----------------------------\n"
          ]
        },
        {
          "output_type": "stream",
          "name": "stderr",
          "text": [
            " 23%|██▎       | 1126/5000 [02:41<08:50,  7.30it/s]"
          ]
        },
        {
          "output_type": "stream",
          "name": "stdout",
          "text": [
            "no. of UEs covered (Reward):  1370.0\n",
            "-----------------------------episode  1126 -----------------------------\n",
            "no. of UEs covered (Reward):  760.0\n",
            "-----------------------------episode  1127 -----------------------------\n"
          ]
        },
        {
          "output_type": "stream",
          "name": "stderr",
          "text": [
            " 23%|██▎       | 1128/5000 [02:42<08:51,  7.28it/s]"
          ]
        },
        {
          "output_type": "stream",
          "name": "stdout",
          "text": [
            "no. of UEs covered (Reward):  960.0\n",
            "-----------------------------episode  1128 -----------------------------\n",
            "no. of UEs covered (Reward):  1360.0\n",
            "-----------------------------episode  1129 -----------------------------\n"
          ]
        },
        {
          "output_type": "stream",
          "name": "stderr",
          "text": [
            " 23%|██▎       | 1130/5000 [02:42<09:09,  7.04it/s]"
          ]
        },
        {
          "output_type": "stream",
          "name": "stdout",
          "text": [
            "no. of UEs covered (Reward):  1130.0\n",
            "-----------------------------episode  1130 -----------------------------\n",
            "no. of UEs covered (Reward):  1380.0\n",
            "-----------------------------episode  1131 -----------------------------\n"
          ]
        },
        {
          "output_type": "stream",
          "name": "stderr",
          "text": [
            " 23%|██▎       | 1132/5000 [02:42<08:56,  7.21it/s]"
          ]
        },
        {
          "output_type": "stream",
          "name": "stdout",
          "text": [
            "no. of UEs covered (Reward):  630.0\n",
            "-----------------------------episode  1132 -----------------------------\n",
            "no. of UEs covered (Reward):  640.0\n",
            "-----------------------------episode  1133 -----------------------------\n"
          ]
        },
        {
          "output_type": "stream",
          "name": "stderr",
          "text": [
            " 23%|██▎       | 1134/5000 [02:43<08:45,  7.36it/s]"
          ]
        },
        {
          "output_type": "stream",
          "name": "stdout",
          "text": [
            "no. of UEs covered (Reward):  110.0\n",
            "-----------------------------episode  1134 -----------------------------\n",
            "no. of UEs covered (Reward):  1390.0\n",
            "-----------------------------episode  1135 -----------------------------\n"
          ]
        },
        {
          "output_type": "stream",
          "name": "stderr",
          "text": [
            " 23%|██▎       | 1136/5000 [02:43<08:47,  7.32it/s]"
          ]
        },
        {
          "output_type": "stream",
          "name": "stdout",
          "text": [
            "no. of UEs covered (Reward):  450.0\n",
            "-----------------------------episode  1136 -----------------------------\n",
            "no. of UEs covered (Reward):  260.0\n",
            "-----------------------------episode  1137 -----------------------------\n"
          ]
        },
        {
          "output_type": "stream",
          "name": "stderr",
          "text": [
            " 23%|██▎       | 1138/5000 [02:43<08:53,  7.23it/s]"
          ]
        },
        {
          "output_type": "stream",
          "name": "stdout",
          "text": [
            "no. of UEs covered (Reward):  1370.0\n",
            "-----------------------------episode  1138 -----------------------------\n",
            "no. of UEs covered (Reward):  670.0\n",
            "-----------------------------episode  1139 -----------------------------\n"
          ]
        },
        {
          "output_type": "stream",
          "name": "stderr",
          "text": [
            " 23%|██▎       | 1140/5000 [02:43<08:55,  7.21it/s]"
          ]
        },
        {
          "output_type": "stream",
          "name": "stdout",
          "text": [
            "no. of UEs covered (Reward):  1390.0\n",
            "-----------------------------episode  1140 -----------------------------\n",
            "no. of UEs covered (Reward):  1300.0\n",
            "-----------------------------episode  1141 -----------------------------\n"
          ]
        },
        {
          "output_type": "stream",
          "name": "stderr",
          "text": [
            " 23%|██▎       | 1142/5000 [02:44<08:51,  7.26it/s]"
          ]
        },
        {
          "output_type": "stream",
          "name": "stdout",
          "text": [
            "no. of UEs covered (Reward):  1380.0\n",
            "-----------------------------episode  1142 -----------------------------\n",
            "no. of UEs covered (Reward):  540.0\n",
            "-----------------------------episode  1143 -----------------------------\n"
          ]
        },
        {
          "output_type": "stream",
          "name": "stderr",
          "text": [
            " 23%|██▎       | 1144/5000 [02:44<08:49,  7.29it/s]"
          ]
        },
        {
          "output_type": "stream",
          "name": "stdout",
          "text": [
            "no. of UEs covered (Reward):  540.0\n",
            "-----------------------------episode  1144 -----------------------------\n",
            "no. of UEs covered (Reward):  380.0\n",
            "-----------------------------episode  1145 -----------------------------\n"
          ]
        },
        {
          "output_type": "stream",
          "name": "stderr",
          "text": [
            " 23%|██▎       | 1146/5000 [02:44<08:49,  7.28it/s]"
          ]
        },
        {
          "output_type": "stream",
          "name": "stdout",
          "text": [
            "no. of UEs covered (Reward):  1370.0\n",
            "-----------------------------episode  1146 -----------------------------\n",
            "no. of UEs covered (Reward):  1370.0\n",
            "-----------------------------episode  1147 -----------------------------\n"
          ]
        },
        {
          "output_type": "stream",
          "name": "stderr",
          "text": [
            " 23%|██▎       | 1148/5000 [02:44<08:46,  7.32it/s]"
          ]
        },
        {
          "output_type": "stream",
          "name": "stdout",
          "text": [
            "no. of UEs covered (Reward):  1330.0\n",
            "-----------------------------episode  1148 -----------------------------\n",
            "no. of UEs covered (Reward):  460.0\n",
            "-----------------------------episode  1149 -----------------------------\n"
          ]
        },
        {
          "output_type": "stream",
          "name": "stderr",
          "text": [
            " 23%|██▎       | 1150/5000 [02:45<08:41,  7.39it/s]"
          ]
        },
        {
          "output_type": "stream",
          "name": "stdout",
          "text": [
            "no. of UEs covered (Reward):  1040.0\n",
            "-----------------------------episode  1150 -----------------------------\n",
            "no. of UEs covered (Reward):  30.0\n",
            "-----------------------------episode  1151 -----------------------------\n"
          ]
        },
        {
          "output_type": "stream",
          "name": "stderr",
          "text": [
            " 23%|██▎       | 1152/5000 [02:45<08:42,  7.36it/s]"
          ]
        },
        {
          "output_type": "stream",
          "name": "stdout",
          "text": [
            "no. of UEs covered (Reward):  890.0\n",
            "-----------------------------episode  1152 -----------------------------\n",
            "no. of UEs covered (Reward):  1370.0\n",
            "-----------------------------episode  1153 -----------------------------\n"
          ]
        },
        {
          "output_type": "stream",
          "name": "stderr",
          "text": [
            " 23%|██▎       | 1154/5000 [02:45<08:44,  7.34it/s]"
          ]
        },
        {
          "output_type": "stream",
          "name": "stdout",
          "text": [
            "no. of UEs covered (Reward):  520.0\n",
            "-----------------------------episode  1154 -----------------------------\n",
            "no. of UEs covered (Reward):  460.0\n",
            "-----------------------------episode  1155 -----------------------------\n"
          ]
        },
        {
          "output_type": "stream",
          "name": "stderr",
          "text": [
            " 23%|██▎       | 1156/5000 [02:46<08:51,  7.23it/s]"
          ]
        },
        {
          "output_type": "stream",
          "name": "stdout",
          "text": [
            "no. of UEs covered (Reward):  50.0\n",
            "-----------------------------episode  1156 -----------------------------\n",
            "no. of UEs covered (Reward):  90.0\n",
            "-----------------------------episode  1157 -----------------------------\n"
          ]
        },
        {
          "output_type": "stream",
          "name": "stderr",
          "text": [
            " 23%|██▎       | 1158/5000 [02:46<08:46,  7.30it/s]"
          ]
        },
        {
          "output_type": "stream",
          "name": "stdout",
          "text": [
            "no. of UEs covered (Reward):  1250.0\n",
            "-----------------------------episode  1158 -----------------------------\n",
            "no. of UEs covered (Reward):  770.0\n",
            "-----------------------------episode  1159 -----------------------------\n"
          ]
        },
        {
          "output_type": "stream",
          "name": "stderr",
          "text": [
            " 23%|██▎       | 1160/5000 [02:46<08:55,  7.17it/s]"
          ]
        },
        {
          "output_type": "stream",
          "name": "stdout",
          "text": [
            "no. of UEs covered (Reward):  1310.0\n",
            "-----------------------------episode  1160 -----------------------------\n",
            "no. of UEs covered (Reward):  860.0\n",
            "-----------------------------episode  1161 -----------------------------\n"
          ]
        },
        {
          "output_type": "stream",
          "name": "stderr",
          "text": [
            " 23%|██▎       | 1162/5000 [02:46<08:38,  7.40it/s]"
          ]
        },
        {
          "output_type": "stream",
          "name": "stdout",
          "text": [
            "no. of UEs covered (Reward):  1070.0\n",
            "-----------------------------episode  1162 -----------------------------\n",
            "no. of UEs covered (Reward):  250.0\n",
            "-----------------------------episode  1163 -----------------------------\n"
          ]
        },
        {
          "output_type": "stream",
          "name": "stderr",
          "text": [
            " 23%|██▎       | 1164/5000 [02:47<08:37,  7.42it/s]"
          ]
        },
        {
          "output_type": "stream",
          "name": "stdout",
          "text": [
            "no. of UEs covered (Reward):  1240.0\n",
            "-----------------------------episode  1164 -----------------------------\n",
            "no. of UEs covered (Reward):  930.0\n",
            "-----------------------------episode  1165 -----------------------------\n"
          ]
        },
        {
          "output_type": "stream",
          "name": "stderr",
          "text": [
            " 23%|██▎       | 1166/5000 [02:47<08:38,  7.40it/s]"
          ]
        },
        {
          "output_type": "stream",
          "name": "stdout",
          "text": [
            "no. of UEs covered (Reward):  70.0\n",
            "-----------------------------episode  1166 -----------------------------\n",
            "no. of UEs covered (Reward):  130.0\n",
            "-----------------------------episode  1167 -----------------------------\n"
          ]
        },
        {
          "output_type": "stream",
          "name": "stderr",
          "text": [
            " 23%|██▎       | 1168/5000 [02:47<08:58,  7.11it/s]"
          ]
        },
        {
          "output_type": "stream",
          "name": "stdout",
          "text": [
            "no. of UEs covered (Reward):  810.0\n",
            "-----------------------------episode  1168 -----------------------------\n",
            "no. of UEs covered (Reward):  1340.0\n",
            "-----------------------------episode  1169 -----------------------------\n"
          ]
        },
        {
          "output_type": "stream",
          "name": "stderr",
          "text": [
            " 23%|██▎       | 1170/5000 [02:47<08:40,  7.36it/s]"
          ]
        },
        {
          "output_type": "stream",
          "name": "stdout",
          "text": [
            "no. of UEs covered (Reward):  730.0\n",
            "-----------------------------episode  1170 -----------------------------\n",
            "no. of UEs covered (Reward):  1290.0\n",
            "-----------------------------episode  1171 -----------------------------\n"
          ]
        },
        {
          "output_type": "stream",
          "name": "stderr",
          "text": [
            " 23%|██▎       | 1172/5000 [02:48<08:44,  7.30it/s]"
          ]
        },
        {
          "output_type": "stream",
          "name": "stdout",
          "text": [
            "no. of UEs covered (Reward):  970.0\n",
            "-----------------------------episode  1172 -----------------------------\n",
            "no. of UEs covered (Reward):  490.0\n",
            "-----------------------------episode  1173 -----------------------------\n"
          ]
        },
        {
          "output_type": "stream",
          "name": "stderr",
          "text": [
            " 23%|██▎       | 1174/5000 [02:48<08:42,  7.33it/s]"
          ]
        },
        {
          "output_type": "stream",
          "name": "stdout",
          "text": [
            "no. of UEs covered (Reward):  680.0\n",
            "-----------------------------episode  1174 -----------------------------\n",
            "no. of UEs covered (Reward):  280.0\n",
            "-----------------------------episode  1175 -----------------------------\n"
          ]
        },
        {
          "output_type": "stream",
          "name": "stderr",
          "text": [
            " 24%|██▎       | 1176/5000 [02:48<08:45,  7.27it/s]"
          ]
        },
        {
          "output_type": "stream",
          "name": "stdout",
          "text": [
            "no. of UEs covered (Reward):  810.0\n",
            "-----------------------------episode  1176 -----------------------------\n",
            "no. of UEs covered (Reward):  1300.0\n",
            "-----------------------------episode  1177 -----------------------------\n"
          ]
        },
        {
          "output_type": "stream",
          "name": "stderr",
          "text": [
            " 24%|██▎       | 1178/5000 [02:49<08:42,  7.32it/s]"
          ]
        },
        {
          "output_type": "stream",
          "name": "stdout",
          "text": [
            "no. of UEs covered (Reward):  610.0\n",
            "-----------------------------episode  1178 -----------------------------\n",
            "no. of UEs covered (Reward):  1310.0\n",
            "-----------------------------episode  1179 -----------------------------\n"
          ]
        },
        {
          "output_type": "stream",
          "name": "stderr",
          "text": [
            " 24%|██▎       | 1180/5000 [02:49<15:01,  4.24it/s]"
          ]
        },
        {
          "output_type": "stream",
          "name": "stdout",
          "text": [
            "no. of UEs covered (Reward):  60.0\n",
            "-----------------------------episode  1180 -----------------------------\n",
            "no. of UEs covered (Reward):  260.0\n",
            "-----------------------------episode  1181 -----------------------------\n"
          ]
        },
        {
          "output_type": "stream",
          "name": "stderr",
          "text": [
            "\r 24%|██▎       | 1181/5000 [02:50<14:25,  4.41it/s]"
          ]
        },
        {
          "output_type": "stream",
          "name": "stdout",
          "text": [
            "no. of UEs covered (Reward):  1160.0\n",
            "-----------------------------episode  1182 -----------------------------\n",
            "no. of UEs covered (Reward):  300.0\n"
          ]
        },
        {
          "output_type": "stream",
          "name": "stderr",
          "text": [
            " 24%|██▎       | 1183/5000 [02:50<13:22,  4.75it/s]"
          ]
        },
        {
          "output_type": "stream",
          "name": "stdout",
          "text": [
            "-----------------------------episode  1183 -----------------------------\n",
            "no. of UEs covered (Reward):  1360.0\n",
            "-----------------------------episode  1184 -----------------------------\n"
          ]
        },
        {
          "output_type": "stream",
          "name": "stderr",
          "text": [
            "\r 24%|██▎       | 1184/5000 [02:50<13:04,  4.87it/s]"
          ]
        },
        {
          "output_type": "stream",
          "name": "stdout",
          "text": [
            "no. of UEs covered (Reward):  440.0\n",
            "-----------------------------episode  1185 -----------------------------\n"
          ]
        },
        {
          "output_type": "stream",
          "name": "stderr",
          "text": [
            " 24%|██▎       | 1186/5000 [02:51<12:40,  5.02it/s]"
          ]
        },
        {
          "output_type": "stream",
          "name": "stdout",
          "text": [
            "no. of UEs covered (Reward):  70.0\n",
            "-----------------------------episode  1186 -----------------------------\n",
            "no. of UEs covered (Reward):  110.0\n",
            "-----------------------------episode  1187 -----------------------------\n"
          ]
        },
        {
          "output_type": "stream",
          "name": "stderr",
          "text": [
            " 24%|██▍       | 1188/5000 [02:51<12:17,  5.17it/s]"
          ]
        },
        {
          "output_type": "stream",
          "name": "stdout",
          "text": [
            "no. of UEs covered (Reward):  80.0\n",
            "-----------------------------episode  1188 -----------------------------\n",
            "no. of UEs covered (Reward):  350.0\n",
            "-----------------------------episode  1189 -----------------------------\n"
          ]
        },
        {
          "output_type": "stream",
          "name": "stderr",
          "text": [
            "\r 24%|██▍       | 1189/5000 [02:51<12:23,  5.13it/s]"
          ]
        },
        {
          "output_type": "stream",
          "name": "stdout",
          "text": [
            "no. of UEs covered (Reward):  1050.0\n",
            "-----------------------------episode  1190 -----------------------------\n"
          ]
        },
        {
          "output_type": "stream",
          "name": "stderr",
          "text": [
            " 24%|██▍       | 1191/5000 [02:51<11:59,  5.30it/s]"
          ]
        },
        {
          "output_type": "stream",
          "name": "stdout",
          "text": [
            "no. of UEs covered (Reward):  1160.0\n",
            "-----------------------------episode  1191 -----------------------------\n",
            "no. of UEs covered (Reward):  120.0\n",
            "-----------------------------episode  1192 -----------------------------\n"
          ]
        },
        {
          "output_type": "stream",
          "name": "stderr",
          "text": [
            " 24%|██▍       | 1193/5000 [02:52<10:14,  6.19it/s]"
          ]
        },
        {
          "output_type": "stream",
          "name": "stdout",
          "text": [
            "no. of UEs covered (Reward):  780.0\n",
            "-----------------------------episode  1193 -----------------------------\n",
            "no. of UEs covered (Reward):  180.0\n",
            "-----------------------------episode  1194 -----------------------------\n"
          ]
        },
        {
          "output_type": "stream",
          "name": "stderr",
          "text": [
            " 24%|██▍       | 1195/5000 [02:52<09:23,  6.75it/s]"
          ]
        },
        {
          "output_type": "stream",
          "name": "stdout",
          "text": [
            "no. of UEs covered (Reward):  370.0\n",
            "-----------------------------episode  1195 -----------------------------\n",
            "no. of UEs covered (Reward):  1350.0\n",
            "-----------------------------episode  1196 -----------------------------\n"
          ]
        },
        {
          "output_type": "stream",
          "name": "stderr",
          "text": [
            " 24%|██▍       | 1197/5000 [02:52<09:10,  6.91it/s]"
          ]
        },
        {
          "output_type": "stream",
          "name": "stdout",
          "text": [
            "no. of UEs covered (Reward):  150.0\n",
            "-----------------------------episode  1197 -----------------------------\n",
            "no. of UEs covered (Reward):  1390.0\n",
            "-----------------------------episode  1198 -----------------------------\n"
          ]
        },
        {
          "output_type": "stream",
          "name": "stderr",
          "text": [
            " 24%|██▍       | 1199/5000 [02:53<08:49,  7.18it/s]"
          ]
        },
        {
          "output_type": "stream",
          "name": "stdout",
          "text": [
            "no. of UEs covered (Reward):  90.0\n",
            "-----------------------------episode  1199 -----------------------------\n",
            "no. of UEs covered (Reward):  580.0\n",
            "-----------------------------episode  1200 -----------------------------\n"
          ]
        },
        {
          "output_type": "stream",
          "name": "stderr",
          "text": [
            " 24%|██▍       | 1201/5000 [02:53<08:47,  7.21it/s]"
          ]
        },
        {
          "output_type": "stream",
          "name": "stdout",
          "text": [
            "no. of UEs covered (Reward):  1340.0\n",
            "-----------------------------episode  1201 -----------------------------\n",
            "no. of UEs covered (Reward):  1160.0\n",
            "-----------------------------episode  1202 -----------------------------\n"
          ]
        },
        {
          "output_type": "stream",
          "name": "stderr",
          "text": [
            " 24%|██▍       | 1203/5000 [02:53<08:40,  7.29it/s]"
          ]
        },
        {
          "output_type": "stream",
          "name": "stdout",
          "text": [
            "no. of UEs covered (Reward):  1090.0\n",
            "-----------------------------episode  1203 -----------------------------\n",
            "no. of UEs covered (Reward):  1370.0\n",
            "-----------------------------episode  1204 -----------------------------\n"
          ]
        },
        {
          "output_type": "stream",
          "name": "stderr",
          "text": [
            " 24%|██▍       | 1205/5000 [02:53<08:39,  7.31it/s]"
          ]
        },
        {
          "output_type": "stream",
          "name": "stdout",
          "text": [
            "no. of UEs covered (Reward):  1370.0\n",
            "-----------------------------episode  1205 -----------------------------\n",
            "no. of UEs covered (Reward):  350.0\n",
            "-----------------------------episode  1206 -----------------------------\n"
          ]
        },
        {
          "output_type": "stream",
          "name": "stderr",
          "text": [
            " 24%|██▍       | 1207/5000 [02:54<08:48,  7.18it/s]"
          ]
        },
        {
          "output_type": "stream",
          "name": "stdout",
          "text": [
            "no. of UEs covered (Reward):  1260.0\n",
            "-----------------------------episode  1207 -----------------------------\n",
            "no. of UEs covered (Reward):  1070.0\n",
            "-----------------------------episode  1208 -----------------------------\n"
          ]
        },
        {
          "output_type": "stream",
          "name": "stderr",
          "text": [
            " 24%|██▍       | 1209/5000 [02:54<08:45,  7.22it/s]"
          ]
        },
        {
          "output_type": "stream",
          "name": "stdout",
          "text": [
            "no. of UEs covered (Reward):  120.0\n",
            "-----------------------------episode  1209 -----------------------------\n",
            "no. of UEs covered (Reward):  1350.0\n",
            "-----------------------------episode  1210 -----------------------------\n"
          ]
        },
        {
          "output_type": "stream",
          "name": "stderr",
          "text": [
            " 24%|██▍       | 1211/5000 [02:54<08:38,  7.30it/s]"
          ]
        },
        {
          "output_type": "stream",
          "name": "stdout",
          "text": [
            "no. of UEs covered (Reward):  730.0\n",
            "-----------------------------episode  1211 -----------------------------\n",
            "no. of UEs covered (Reward):  170.0\n",
            "-----------------------------episode  1212 -----------------------------\n"
          ]
        },
        {
          "output_type": "stream",
          "name": "stderr",
          "text": [
            " 24%|██▍       | 1213/5000 [02:54<08:32,  7.39it/s]"
          ]
        },
        {
          "output_type": "stream",
          "name": "stdout",
          "text": [
            "no. of UEs covered (Reward):  920.0\n",
            "-----------------------------episode  1213 -----------------------------\n",
            "no. of UEs covered (Reward):  1300.0\n",
            "-----------------------------episode  1214 -----------------------------\n"
          ]
        },
        {
          "output_type": "stream",
          "name": "stderr",
          "text": [
            " 24%|██▍       | 1215/5000 [02:55<08:27,  7.46it/s]"
          ]
        },
        {
          "output_type": "stream",
          "name": "stdout",
          "text": [
            "no. of UEs covered (Reward):  1020.0\n",
            "-----------------------------episode  1215 -----------------------------\n",
            "no. of UEs covered (Reward):  1330.0\n",
            "-----------------------------episode  1216 -----------------------------\n"
          ]
        },
        {
          "output_type": "stream",
          "name": "stderr",
          "text": [
            " 24%|██▍       | 1217/5000 [02:55<08:22,  7.52it/s]"
          ]
        },
        {
          "output_type": "stream",
          "name": "stdout",
          "text": [
            "no. of UEs covered (Reward):  1000.0\n",
            "-----------------------------episode  1217 -----------------------------\n",
            "no. of UEs covered (Reward):  1350.0\n",
            "-----------------------------episode  1218 -----------------------------\n"
          ]
        },
        {
          "output_type": "stream",
          "name": "stderr",
          "text": [
            " 24%|██▍       | 1219/5000 [02:55<08:34,  7.35it/s]"
          ]
        },
        {
          "output_type": "stream",
          "name": "stdout",
          "text": [
            "no. of UEs covered (Reward):  710.0\n",
            "-----------------------------episode  1219 -----------------------------\n",
            "no. of UEs covered (Reward):  390.0\n",
            "-----------------------------episode  1220 -----------------------------\n"
          ]
        },
        {
          "output_type": "stream",
          "name": "stderr",
          "text": [
            " 24%|██▍       | 1221/5000 [02:56<08:37,  7.30it/s]"
          ]
        },
        {
          "output_type": "stream",
          "name": "stdout",
          "text": [
            "no. of UEs covered (Reward):  1080.0\n",
            "-----------------------------episode  1221 -----------------------------\n",
            "no. of UEs covered (Reward):  1370.0\n",
            "-----------------------------episode  1222 -----------------------------\n"
          ]
        },
        {
          "output_type": "stream",
          "name": "stderr",
          "text": [
            " 24%|██▍       | 1223/5000 [02:56<08:37,  7.30it/s]"
          ]
        },
        {
          "output_type": "stream",
          "name": "stdout",
          "text": [
            "no. of UEs covered (Reward):  390.0\n",
            "-----------------------------episode  1223 -----------------------------\n",
            "no. of UEs covered (Reward):  1360.0\n",
            "-----------------------------episode  1224 -----------------------------\n"
          ]
        },
        {
          "output_type": "stream",
          "name": "stderr",
          "text": [
            " 24%|██▍       | 1225/5000 [02:56<08:42,  7.23it/s]"
          ]
        },
        {
          "output_type": "stream",
          "name": "stdout",
          "text": [
            "no. of UEs covered (Reward):  950.0\n",
            "-----------------------------episode  1225 -----------------------------\n",
            "no. of UEs covered (Reward):  750.0\n",
            "-----------------------------episode  1226 -----------------------------\n"
          ]
        },
        {
          "output_type": "stream",
          "name": "stderr",
          "text": [
            " 25%|██▍       | 1227/5000 [02:56<08:57,  7.02it/s]"
          ]
        },
        {
          "output_type": "stream",
          "name": "stdout",
          "text": [
            "no. of UEs covered (Reward):  590.0\n",
            "-----------------------------episode  1227 -----------------------------\n",
            "no. of UEs covered (Reward):  180.0\n",
            "-----------------------------episode  1228 -----------------------------\n"
          ]
        },
        {
          "output_type": "stream",
          "name": "stderr",
          "text": [
            " 25%|██▍       | 1229/5000 [02:57<09:02,  6.95it/s]"
          ]
        },
        {
          "output_type": "stream",
          "name": "stdout",
          "text": [
            "no. of UEs covered (Reward):  1360.0\n",
            "-----------------------------episode  1229 -----------------------------\n",
            "no. of UEs covered (Reward):  1370.0\n",
            "-----------------------------episode  1230 -----------------------------\n"
          ]
        },
        {
          "output_type": "stream",
          "name": "stderr",
          "text": [
            " 25%|██▍       | 1231/5000 [02:57<08:54,  7.05it/s]"
          ]
        },
        {
          "output_type": "stream",
          "name": "stdout",
          "text": [
            "no. of UEs covered (Reward):  1010.0\n",
            "-----------------------------episode  1231 -----------------------------\n",
            "no. of UEs covered (Reward):  1290.0\n",
            "-----------------------------episode  1232 -----------------------------\n"
          ]
        },
        {
          "output_type": "stream",
          "name": "stderr",
          "text": [
            " 25%|██▍       | 1233/5000 [02:57<08:37,  7.28it/s]"
          ]
        },
        {
          "output_type": "stream",
          "name": "stdout",
          "text": [
            "no. of UEs covered (Reward):  1180.0\n",
            "-----------------------------episode  1233 -----------------------------\n",
            "no. of UEs covered (Reward):  1220.0\n",
            "-----------------------------episode  1234 -----------------------------\n"
          ]
        },
        {
          "output_type": "stream",
          "name": "stderr",
          "text": [
            " 25%|██▍       | 1235/5000 [02:58<08:47,  7.14it/s]"
          ]
        },
        {
          "output_type": "stream",
          "name": "stdout",
          "text": [
            "no. of UEs covered (Reward):  60.0\n",
            "-----------------------------episode  1235 -----------------------------\n",
            "no. of UEs covered (Reward):  950.0\n",
            "-----------------------------episode  1236 -----------------------------\n"
          ]
        },
        {
          "output_type": "stream",
          "name": "stderr",
          "text": [
            " 25%|██▍       | 1237/5000 [02:58<08:29,  7.38it/s]"
          ]
        },
        {
          "output_type": "stream",
          "name": "stdout",
          "text": [
            "no. of UEs covered (Reward):  1140.0\n",
            "-----------------------------episode  1237 -----------------------------\n",
            "no. of UEs covered (Reward):  1110.0\n",
            "-----------------------------episode  1238 -----------------------------\n"
          ]
        },
        {
          "output_type": "stream",
          "name": "stderr",
          "text": [
            " 25%|██▍       | 1239/5000 [02:58<08:28,  7.40it/s]"
          ]
        },
        {
          "output_type": "stream",
          "name": "stdout",
          "text": [
            "no. of UEs covered (Reward):  1350.0\n",
            "-----------------------------episode  1239 -----------------------------\n",
            "no. of UEs covered (Reward):  1190.0\n",
            "-----------------------------episode  1240 -----------------------------\n"
          ]
        },
        {
          "output_type": "stream",
          "name": "stderr",
          "text": [
            " 25%|██▍       | 1241/5000 [02:58<08:36,  7.28it/s]"
          ]
        },
        {
          "output_type": "stream",
          "name": "stdout",
          "text": [
            "no. of UEs covered (Reward):  1190.0\n",
            "-----------------------------episode  1241 -----------------------------\n",
            "no. of UEs covered (Reward):  1310.0\n",
            "-----------------------------episode  1242 -----------------------------\n"
          ]
        },
        {
          "output_type": "stream",
          "name": "stderr",
          "text": [
            " 25%|██▍       | 1243/5000 [02:59<08:26,  7.42it/s]"
          ]
        },
        {
          "output_type": "stream",
          "name": "stdout",
          "text": [
            "no. of UEs covered (Reward):  490.0\n",
            "-----------------------------episode  1243 -----------------------------\n",
            "no. of UEs covered (Reward):  130.0\n",
            "-----------------------------episode  1244 -----------------------------\n"
          ]
        },
        {
          "output_type": "stream",
          "name": "stderr",
          "text": [
            " 25%|██▍       | 1245/5000 [02:59<08:30,  7.36it/s]"
          ]
        },
        {
          "output_type": "stream",
          "name": "stdout",
          "text": [
            "no. of UEs covered (Reward):  640.0\n",
            "-----------------------------episode  1245 -----------------------------\n",
            "no. of UEs covered (Reward):  1370.0\n",
            "-----------------------------episode  1246 -----------------------------\n"
          ]
        },
        {
          "output_type": "stream",
          "name": "stderr",
          "text": [
            " 25%|██▍       | 1247/5000 [02:59<08:38,  7.24it/s]"
          ]
        },
        {
          "output_type": "stream",
          "name": "stdout",
          "text": [
            "no. of UEs covered (Reward):  500.0\n",
            "-----------------------------episode  1247 -----------------------------\n",
            "no. of UEs covered (Reward):  1370.0\n",
            "-----------------------------episode  1248 -----------------------------\n"
          ]
        },
        {
          "output_type": "stream",
          "name": "stderr",
          "text": [
            " 25%|██▍       | 1249/5000 [02:59<08:47,  7.12it/s]"
          ]
        },
        {
          "output_type": "stream",
          "name": "stdout",
          "text": [
            "no. of UEs covered (Reward):  1360.0\n",
            "-----------------------------episode  1249 -----------------------------\n",
            "no. of UEs covered (Reward):  1370.0\n",
            "-----------------------------episode  1250 -----------------------------\n"
          ]
        },
        {
          "output_type": "stream",
          "name": "stderr",
          "text": [
            " 25%|██▌       | 1251/5000 [03:00<08:37,  7.25it/s]"
          ]
        },
        {
          "output_type": "stream",
          "name": "stdout",
          "text": [
            "no. of UEs covered (Reward):  1150.0\n",
            "-----------------------------episode  1251 -----------------------------\n",
            "no. of UEs covered (Reward):  380.0\n",
            "-----------------------------episode  1252 -----------------------------\n"
          ]
        },
        {
          "output_type": "stream",
          "name": "stderr",
          "text": [
            " 25%|██▌       | 1253/5000 [03:00<08:34,  7.28it/s]"
          ]
        },
        {
          "output_type": "stream",
          "name": "stdout",
          "text": [
            "no. of UEs covered (Reward):  1370.0\n",
            "-----------------------------episode  1253 -----------------------------\n",
            "no. of UEs covered (Reward):  520.0\n",
            "-----------------------------episode  1254 -----------------------------\n"
          ]
        },
        {
          "output_type": "stream",
          "name": "stderr",
          "text": [
            " 25%|██▌       | 1255/5000 [03:00<08:33,  7.29it/s]"
          ]
        },
        {
          "output_type": "stream",
          "name": "stdout",
          "text": [
            "no. of UEs covered (Reward):  1130.0\n",
            "-----------------------------episode  1255 -----------------------------\n",
            "no. of UEs covered (Reward):  1350.0\n",
            "-----------------------------episode  1256 -----------------------------\n"
          ]
        },
        {
          "output_type": "stream",
          "name": "stderr",
          "text": [
            " 25%|██▌       | 1257/5000 [03:01<08:28,  7.36it/s]"
          ]
        },
        {
          "output_type": "stream",
          "name": "stdout",
          "text": [
            "no. of UEs covered (Reward):  1120.0\n",
            "-----------------------------episode  1257 -----------------------------\n",
            "no. of UEs covered (Reward):  50.0\n",
            "-----------------------------episode  1258 -----------------------------\n"
          ]
        },
        {
          "output_type": "stream",
          "name": "stderr",
          "text": [
            " 25%|██▌       | 1259/5000 [03:01<08:32,  7.30it/s]"
          ]
        },
        {
          "output_type": "stream",
          "name": "stdout",
          "text": [
            "no. of UEs covered (Reward):  800.0\n",
            "-----------------------------episode  1259 -----------------------------\n",
            "no. of UEs covered (Reward):  1170.0\n",
            "-----------------------------episode  1260 -----------------------------\n"
          ]
        },
        {
          "output_type": "stream",
          "name": "stderr",
          "text": [
            " 25%|██▌       | 1261/5000 [03:01<08:31,  7.31it/s]"
          ]
        },
        {
          "output_type": "stream",
          "name": "stdout",
          "text": [
            "no. of UEs covered (Reward):  1390.0\n",
            "-----------------------------episode  1261 -----------------------------\n",
            "no. of UEs covered (Reward):  1170.0\n",
            "-----------------------------episode  1262 -----------------------------\n"
          ]
        },
        {
          "output_type": "stream",
          "name": "stderr",
          "text": [
            " 25%|██▌       | 1263/5000 [03:01<08:36,  7.23it/s]"
          ]
        },
        {
          "output_type": "stream",
          "name": "stdout",
          "text": [
            "no. of UEs covered (Reward):  1370.0\n",
            "-----------------------------episode  1263 -----------------------------\n",
            "no. of UEs covered (Reward):  1370.0\n",
            "-----------------------------episode  1264 -----------------------------\n"
          ]
        },
        {
          "output_type": "stream",
          "name": "stderr",
          "text": [
            " 25%|██▌       | 1265/5000 [03:02<10:25,  5.97it/s]"
          ]
        },
        {
          "output_type": "stream",
          "name": "stdout",
          "text": [
            "no. of UEs covered (Reward):  1340.0\n",
            "-----------------------------episode  1265 -----------------------------\n",
            "no. of UEs covered (Reward):  1170.0\n",
            "-----------------------------episode  1266 -----------------------------\n"
          ]
        },
        {
          "output_type": "stream",
          "name": "stderr",
          "text": [
            " 25%|██▌       | 1267/5000 [03:02<10:55,  5.69it/s]"
          ]
        },
        {
          "output_type": "stream",
          "name": "stdout",
          "text": [
            "no. of UEs covered (Reward):  630.0\n",
            "-----------------------------episode  1267 -----------------------------\n",
            "no. of UEs covered (Reward):  870.0\n",
            "-----------------------------episode  1268 -----------------------------\n"
          ]
        },
        {
          "output_type": "stream",
          "name": "stderr",
          "text": [
            " 25%|██▌       | 1269/5000 [03:03<11:12,  5.55it/s]"
          ]
        },
        {
          "output_type": "stream",
          "name": "stdout",
          "text": [
            "no. of UEs covered (Reward):  150.0\n",
            "-----------------------------episode  1269 -----------------------------\n",
            "no. of UEs covered (Reward):  680.0\n",
            "-----------------------------episode  1270 -----------------------------\n"
          ]
        },
        {
          "output_type": "stream",
          "name": "stderr",
          "text": [
            " 25%|██▌       | 1271/5000 [03:03<11:48,  5.26it/s]"
          ]
        },
        {
          "output_type": "stream",
          "name": "stdout",
          "text": [
            "no. of UEs covered (Reward):  120.0\n",
            "-----------------------------episode  1271 -----------------------------\n",
            "no. of UEs covered (Reward):  1230.0\n",
            "-----------------------------episode  1272 -----------------------------\n"
          ]
        },
        {
          "output_type": "stream",
          "name": "stderr",
          "text": [
            " 25%|██▌       | 1273/5000 [03:03<11:47,  5.27it/s]"
          ]
        },
        {
          "output_type": "stream",
          "name": "stdout",
          "text": [
            "no. of UEs covered (Reward):  90.0\n",
            "-----------------------------episode  1273 -----------------------------\n",
            "no. of UEs covered (Reward):  160.0\n",
            "-----------------------------episode  1274 -----------------------------\n"
          ]
        },
        {
          "output_type": "stream",
          "name": "stderr",
          "text": [
            " 26%|██▌       | 1275/5000 [03:04<11:44,  5.29it/s]"
          ]
        },
        {
          "output_type": "stream",
          "name": "stdout",
          "text": [
            "no. of UEs covered (Reward):  1090.0\n",
            "-----------------------------episode  1275 -----------------------------\n",
            "no. of UEs covered (Reward):  650.0\n",
            "-----------------------------episode  1276 -----------------------------\n"
          ]
        },
        {
          "output_type": "stream",
          "name": "stderr",
          "text": [
            " 26%|██▌       | 1277/5000 [03:04<11:48,  5.26it/s]"
          ]
        },
        {
          "output_type": "stream",
          "name": "stdout",
          "text": [
            "no. of UEs covered (Reward):  980.0\n",
            "-----------------------------episode  1277 -----------------------------\n",
            "no. of UEs covered (Reward):  500.0\n",
            "-----------------------------episode  1278 -----------------------------\n"
          ]
        },
        {
          "output_type": "stream",
          "name": "stderr",
          "text": [
            " 26%|██▌       | 1279/5000 [03:04<10:57,  5.66it/s]"
          ]
        },
        {
          "output_type": "stream",
          "name": "stdout",
          "text": [
            "no. of UEs covered (Reward):  570.0\n",
            "-----------------------------episode  1279 -----------------------------\n",
            "no. of UEs covered (Reward):  140.0\n",
            "-----------------------------episode  1280 -----------------------------\n"
          ]
        },
        {
          "output_type": "stream",
          "name": "stderr",
          "text": [
            " 26%|██▌       | 1281/5000 [03:05<09:38,  6.43it/s]"
          ]
        },
        {
          "output_type": "stream",
          "name": "stdout",
          "text": [
            "no. of UEs covered (Reward):  530.0\n",
            "-----------------------------episode  1281 -----------------------------\n",
            "no. of UEs covered (Reward):  1370.0\n",
            "-----------------------------episode  1282 -----------------------------\n"
          ]
        },
        {
          "output_type": "stream",
          "name": "stderr",
          "text": [
            " 26%|██▌       | 1283/5000 [03:05<09:00,  6.87it/s]"
          ]
        },
        {
          "output_type": "stream",
          "name": "stdout",
          "text": [
            "no. of UEs covered (Reward):  60.0\n",
            "-----------------------------episode  1283 -----------------------------\n",
            "no. of UEs covered (Reward):  100.0\n",
            "-----------------------------episode  1284 -----------------------------\n"
          ]
        },
        {
          "output_type": "stream",
          "name": "stderr",
          "text": [
            " 26%|██▌       | 1285/5000 [03:05<08:54,  6.95it/s]"
          ]
        },
        {
          "output_type": "stream",
          "name": "stdout",
          "text": [
            "no. of UEs covered (Reward):  1370.0\n",
            "-----------------------------episode  1285 -----------------------------\n",
            "no. of UEs covered (Reward):  510.0\n",
            "-----------------------------episode  1286 -----------------------------\n"
          ]
        },
        {
          "output_type": "stream",
          "name": "stderr",
          "text": [
            " 26%|██▌       | 1287/5000 [03:06<08:38,  7.16it/s]"
          ]
        },
        {
          "output_type": "stream",
          "name": "stdout",
          "text": [
            "no. of UEs covered (Reward):  620.0\n",
            "-----------------------------episode  1287 -----------------------------\n",
            "no. of UEs covered (Reward):  910.0\n",
            "-----------------------------episode  1288 -----------------------------\n"
          ]
        },
        {
          "output_type": "stream",
          "name": "stderr",
          "text": [
            " 26%|██▌       | 1289/5000 [03:06<08:32,  7.24it/s]"
          ]
        },
        {
          "output_type": "stream",
          "name": "stdout",
          "text": [
            "no. of UEs covered (Reward):  140.0\n",
            "-----------------------------episode  1289 -----------------------------\n",
            "no. of UEs covered (Reward):  450.0\n",
            "-----------------------------episode  1290 -----------------------------\n"
          ]
        },
        {
          "output_type": "stream",
          "name": "stderr",
          "text": [
            " 26%|██▌       | 1291/5000 [03:06<08:26,  7.33it/s]"
          ]
        },
        {
          "output_type": "stream",
          "name": "stdout",
          "text": [
            "no. of UEs covered (Reward):  1370.0\n",
            "-----------------------------episode  1291 -----------------------------\n",
            "no. of UEs covered (Reward):  260.0\n",
            "-----------------------------episode  1292 -----------------------------\n"
          ]
        },
        {
          "output_type": "stream",
          "name": "stderr",
          "text": [
            " 26%|██▌       | 1293/5000 [03:06<08:24,  7.35it/s]"
          ]
        },
        {
          "output_type": "stream",
          "name": "stdout",
          "text": [
            "no. of UEs covered (Reward):  1250.0\n",
            "-----------------------------episode  1293 -----------------------------\n",
            "no. of UEs covered (Reward):  1390.0\n",
            "-----------------------------episode  1294 -----------------------------\n"
          ]
        },
        {
          "output_type": "stream",
          "name": "stderr",
          "text": [
            " 26%|██▌       | 1295/5000 [03:07<08:32,  7.22it/s]"
          ]
        },
        {
          "output_type": "stream",
          "name": "stdout",
          "text": [
            "no. of UEs covered (Reward):  150.0\n",
            "-----------------------------episode  1295 -----------------------------\n",
            "no. of UEs covered (Reward):  90.0\n",
            "-----------------------------episode  1296 -----------------------------\n"
          ]
        },
        {
          "output_type": "stream",
          "name": "stderr",
          "text": [
            " 26%|██▌       | 1297/5000 [03:07<08:24,  7.34it/s]"
          ]
        },
        {
          "output_type": "stream",
          "name": "stdout",
          "text": [
            "no. of UEs covered (Reward):  620.0\n",
            "-----------------------------episode  1297 -----------------------------\n",
            "no. of UEs covered (Reward):  1350.0\n",
            "-----------------------------episode  1298 -----------------------------\n"
          ]
        },
        {
          "output_type": "stream",
          "name": "stderr",
          "text": [
            " 26%|██▌       | 1299/5000 [03:07<08:24,  7.34it/s]"
          ]
        },
        {
          "output_type": "stream",
          "name": "stdout",
          "text": [
            "no. of UEs covered (Reward):  800.0\n",
            "-----------------------------episode  1299 -----------------------------\n",
            "no. of UEs covered (Reward):  1100.0\n",
            "-----------------------------episode  1300 -----------------------------\n"
          ]
        },
        {
          "output_type": "stream",
          "name": "stderr",
          "text": [
            " 26%|██▌       | 1301/5000 [03:07<08:40,  7.10it/s]"
          ]
        },
        {
          "output_type": "stream",
          "name": "stdout",
          "text": [
            "no. of UEs covered (Reward):  90.0\n",
            "-----------------------------episode  1301 -----------------------------\n",
            "no. of UEs covered (Reward):  140.0\n",
            "-----------------------------episode  1302 -----------------------------\n"
          ]
        },
        {
          "output_type": "stream",
          "name": "stderr",
          "text": [
            " 26%|██▌       | 1303/5000 [03:08<08:36,  7.16it/s]"
          ]
        },
        {
          "output_type": "stream",
          "name": "stdout",
          "text": [
            "no. of UEs covered (Reward):  1080.0\n",
            "-----------------------------episode  1303 -----------------------------\n",
            "no. of UEs covered (Reward):  560.0\n",
            "-----------------------------episode  1304 -----------------------------\n"
          ]
        },
        {
          "output_type": "stream",
          "name": "stderr",
          "text": [
            " 26%|██▌       | 1305/5000 [03:08<08:31,  7.22it/s]"
          ]
        },
        {
          "output_type": "stream",
          "name": "stdout",
          "text": [
            "no. of UEs covered (Reward):  260.0\n",
            "-----------------------------episode  1305 -----------------------------\n",
            "no. of UEs covered (Reward):  1390.0\n",
            "-----------------------------episode  1306 -----------------------------\n"
          ]
        },
        {
          "output_type": "stream",
          "name": "stderr",
          "text": [
            " 26%|██▌       | 1307/5000 [03:08<08:33,  7.19it/s]"
          ]
        },
        {
          "output_type": "stream",
          "name": "stdout",
          "text": [
            "no. of UEs covered (Reward):  350.0\n",
            "-----------------------------episode  1307 -----------------------------\n",
            "no. of UEs covered (Reward):  1200.0\n",
            "-----------------------------episode  1308 -----------------------------\n"
          ]
        },
        {
          "output_type": "stream",
          "name": "stderr",
          "text": [
            " 26%|██▌       | 1309/5000 [03:09<08:30,  7.22it/s]"
          ]
        },
        {
          "output_type": "stream",
          "name": "stdout",
          "text": [
            "no. of UEs covered (Reward):  1150.0\n",
            "-----------------------------episode  1309 -----------------------------\n",
            "no. of UEs covered (Reward):  370.0\n",
            "-----------------------------episode  1310 -----------------------------\n"
          ]
        },
        {
          "output_type": "stream",
          "name": "stderr",
          "text": [
            " 26%|██▌       | 1311/5000 [03:09<08:33,  7.18it/s]"
          ]
        },
        {
          "output_type": "stream",
          "name": "stdout",
          "text": [
            "no. of UEs covered (Reward):  1380.0\n",
            "-----------------------------episode  1311 -----------------------------\n",
            "no. of UEs covered (Reward):  40.0\n",
            "-----------------------------episode  1312 -----------------------------\n"
          ]
        },
        {
          "output_type": "stream",
          "name": "stderr",
          "text": [
            " 26%|██▋       | 1313/5000 [03:09<08:48,  6.97it/s]"
          ]
        },
        {
          "output_type": "stream",
          "name": "stdout",
          "text": [
            "no. of UEs covered (Reward):  30.0\n",
            "-----------------------------episode  1313 -----------------------------\n",
            "no. of UEs covered (Reward):  730.0\n",
            "-----------------------------episode  1314 -----------------------------\n"
          ]
        },
        {
          "output_type": "stream",
          "name": "stderr",
          "text": [
            " 26%|██▋       | 1315/5000 [03:09<08:44,  7.03it/s]"
          ]
        },
        {
          "output_type": "stream",
          "name": "stdout",
          "text": [
            "no. of UEs covered (Reward):  200.0\n",
            "-----------------------------episode  1315 -----------------------------\n",
            "no. of UEs covered (Reward):  700.0\n",
            "-----------------------------episode  1316 -----------------------------\n"
          ]
        },
        {
          "output_type": "stream",
          "name": "stderr",
          "text": [
            " 26%|██▋       | 1317/5000 [03:10<09:10,  6.69it/s]"
          ]
        },
        {
          "output_type": "stream",
          "name": "stdout",
          "text": [
            "no. of UEs covered (Reward):  690.0\n",
            "-----------------------------episode  1317 -----------------------------\n",
            "no. of UEs covered (Reward):  550.0\n",
            "-----------------------------episode  1318 -----------------------------\n"
          ]
        },
        {
          "output_type": "stream",
          "name": "stderr",
          "text": [
            " 26%|██▋       | 1319/5000 [03:10<09:18,  6.59it/s]"
          ]
        },
        {
          "output_type": "stream",
          "name": "stdout",
          "text": [
            "no. of UEs covered (Reward):  940.0\n",
            "-----------------------------episode  1319 -----------------------------\n",
            "no. of UEs covered (Reward):  500.0\n",
            "-----------------------------episode  1320 -----------------------------\n"
          ]
        },
        {
          "output_type": "stream",
          "name": "stderr",
          "text": [
            " 26%|██▋       | 1321/5000 [03:10<09:08,  6.71it/s]"
          ]
        },
        {
          "output_type": "stream",
          "name": "stdout",
          "text": [
            "no. of UEs covered (Reward):  420.0\n",
            "-----------------------------episode  1321 -----------------------------\n",
            "no. of UEs covered (Reward):  1250.0\n",
            "-----------------------------episode  1322 -----------------------------\n"
          ]
        },
        {
          "output_type": "stream",
          "name": "stderr",
          "text": [
            " 26%|██▋       | 1323/5000 [03:11<08:58,  6.83it/s]"
          ]
        },
        {
          "output_type": "stream",
          "name": "stdout",
          "text": [
            "no. of UEs covered (Reward):  1240.0\n",
            "-----------------------------episode  1323 -----------------------------\n",
            "no. of UEs covered (Reward):  820.0\n",
            "-----------------------------episode  1324 -----------------------------\n"
          ]
        },
        {
          "output_type": "stream",
          "name": "stderr",
          "text": [
            " 26%|██▋       | 1325/5000 [03:11<09:01,  6.78it/s]"
          ]
        },
        {
          "output_type": "stream",
          "name": "stdout",
          "text": [
            "no. of UEs covered (Reward):  1320.0\n",
            "-----------------------------episode  1325 -----------------------------\n",
            "no. of UEs covered (Reward):  1320.0\n",
            "-----------------------------episode  1326 -----------------------------\n"
          ]
        },
        {
          "output_type": "stream",
          "name": "stderr",
          "text": [
            " 27%|██▋       | 1327/5000 [03:11<08:51,  6.91it/s]"
          ]
        },
        {
          "output_type": "stream",
          "name": "stdout",
          "text": [
            "no. of UEs covered (Reward):  1350.0\n",
            "-----------------------------episode  1327 -----------------------------\n",
            "no. of UEs covered (Reward):  1050.0\n",
            "-----------------------------episode  1328 -----------------------------\n"
          ]
        },
        {
          "output_type": "stream",
          "name": "stderr",
          "text": [
            " 27%|██▋       | 1329/5000 [03:12<08:41,  7.04it/s]"
          ]
        },
        {
          "output_type": "stream",
          "name": "stdout",
          "text": [
            "no. of UEs covered (Reward):  1250.0\n",
            "-----------------------------episode  1329 -----------------------------\n",
            "no. of UEs covered (Reward):  1360.0\n",
            "-----------------------------episode  1330 -----------------------------\n"
          ]
        },
        {
          "output_type": "stream",
          "name": "stderr",
          "text": [
            " 27%|██▋       | 1331/5000 [03:12<08:47,  6.95it/s]"
          ]
        },
        {
          "output_type": "stream",
          "name": "stdout",
          "text": [
            "no. of UEs covered (Reward):  120.0\n",
            "-----------------------------episode  1331 -----------------------------\n",
            "no. of UEs covered (Reward):  1380.0\n",
            "-----------------------------episode  1332 -----------------------------\n"
          ]
        },
        {
          "output_type": "stream",
          "name": "stderr",
          "text": [
            " 27%|██▋       | 1333/5000 [03:12<08:52,  6.89it/s]"
          ]
        },
        {
          "output_type": "stream",
          "name": "stdout",
          "text": [
            "no. of UEs covered (Reward):  850.0\n",
            "-----------------------------episode  1333 -----------------------------\n",
            "no. of UEs covered (Reward):  40.0\n",
            "-----------------------------episode  1334 -----------------------------\n"
          ]
        },
        {
          "output_type": "stream",
          "name": "stderr",
          "text": [
            " 27%|██▋       | 1335/5000 [03:12<08:55,  6.84it/s]"
          ]
        },
        {
          "output_type": "stream",
          "name": "stdout",
          "text": [
            "no. of UEs covered (Reward):  300.0\n",
            "-----------------------------episode  1335 -----------------------------\n",
            "no. of UEs covered (Reward):  50.0\n",
            "-----------------------------episode  1336 -----------------------------\n"
          ]
        },
        {
          "output_type": "stream",
          "name": "stderr",
          "text": [
            " 27%|██▋       | 1337/5000 [03:13<08:50,  6.90it/s]"
          ]
        },
        {
          "output_type": "stream",
          "name": "stdout",
          "text": [
            "no. of UEs covered (Reward):  640.0\n",
            "-----------------------------episode  1337 -----------------------------\n",
            "no. of UEs covered (Reward):  1200.0\n",
            "-----------------------------episode  1338 -----------------------------\n"
          ]
        },
        {
          "output_type": "stream",
          "name": "stderr",
          "text": [
            " 27%|██▋       | 1339/5000 [03:13<08:56,  6.83it/s]"
          ]
        },
        {
          "output_type": "stream",
          "name": "stdout",
          "text": [
            "no. of UEs covered (Reward):  1070.0\n",
            "-----------------------------episode  1339 -----------------------------\n",
            "no. of UEs covered (Reward):  380.0\n",
            "-----------------------------episode  1340 -----------------------------\n"
          ]
        },
        {
          "output_type": "stream",
          "name": "stderr",
          "text": [
            " 27%|██▋       | 1341/5000 [03:13<09:02,  6.75it/s]"
          ]
        },
        {
          "output_type": "stream",
          "name": "stdout",
          "text": [
            "no. of UEs covered (Reward):  1050.0\n",
            "-----------------------------episode  1341 -----------------------------\n",
            "no. of UEs covered (Reward):  970.0\n",
            "-----------------------------episode  1342 -----------------------------\n"
          ]
        },
        {
          "output_type": "stream",
          "name": "stderr",
          "text": [
            " 27%|██▋       | 1343/5000 [03:14<08:51,  6.88it/s]"
          ]
        },
        {
          "output_type": "stream",
          "name": "stdout",
          "text": [
            "no. of UEs covered (Reward):  1380.0\n",
            "-----------------------------episode  1343 -----------------------------\n",
            "no. of UEs covered (Reward):  30.0\n",
            "-----------------------------episode  1344 -----------------------------\n"
          ]
        },
        {
          "output_type": "stream",
          "name": "stderr",
          "text": [
            " 27%|██▋       | 1345/5000 [03:14<08:54,  6.84it/s]"
          ]
        },
        {
          "output_type": "stream",
          "name": "stdout",
          "text": [
            "no. of UEs covered (Reward):  1110.0\n",
            "-----------------------------episode  1345 -----------------------------\n",
            "no. of UEs covered (Reward):  370.0\n",
            "-----------------------------episode  1346 -----------------------------\n"
          ]
        },
        {
          "output_type": "stream",
          "name": "stderr",
          "text": [
            " 27%|██▋       | 1347/5000 [03:14<08:53,  6.84it/s]"
          ]
        },
        {
          "output_type": "stream",
          "name": "stdout",
          "text": [
            "no. of UEs covered (Reward):  170.0\n",
            "-----------------------------episode  1347 -----------------------------\n",
            "no. of UEs covered (Reward):  450.0\n",
            "-----------------------------episode  1348 -----------------------------\n"
          ]
        },
        {
          "output_type": "stream",
          "name": "stderr",
          "text": [
            " 27%|██▋       | 1349/5000 [03:14<09:57,  6.11it/s]"
          ]
        },
        {
          "output_type": "stream",
          "name": "stdout",
          "text": [
            "no. of UEs covered (Reward):  980.0\n",
            "-----------------------------episode  1349 -----------------------------\n",
            "no. of UEs covered (Reward):  410.0\n",
            "-----------------------------episode  1350 -----------------------------\n"
          ]
        },
        {
          "output_type": "stream",
          "name": "stderr",
          "text": [
            "\r 27%|██▋       | 1350/5000 [03:15<10:49,  5.62it/s]"
          ]
        },
        {
          "output_type": "stream",
          "name": "stdout",
          "text": [
            "no. of UEs covered (Reward):  830.0\n",
            "-----------------------------episode  1351 -----------------------------\n"
          ]
        },
        {
          "output_type": "stream",
          "name": "stderr",
          "text": [
            "\r 27%|██▋       | 1351/5000 [03:15<11:45,  5.17it/s]"
          ]
        },
        {
          "output_type": "stream",
          "name": "stdout",
          "text": [
            "no. of UEs covered (Reward):  170.0\n",
            "-----------------------------episode  1352 -----------------------------\n"
          ]
        },
        {
          "output_type": "stream",
          "name": "stderr",
          "text": [
            " 27%|██▋       | 1353/5000 [03:15<12:10,  4.99it/s]"
          ]
        },
        {
          "output_type": "stream",
          "name": "stdout",
          "text": [
            "no. of UEs covered (Reward):  1000.0\n",
            "-----------------------------episode  1353 -----------------------------\n",
            "no. of UEs covered (Reward):  1050.0\n",
            "-----------------------------episode  1354 -----------------------------\n"
          ]
        },
        {
          "output_type": "stream",
          "name": "stderr",
          "text": [
            " 27%|██▋       | 1355/5000 [03:16<12:18,  4.93it/s]"
          ]
        },
        {
          "output_type": "stream",
          "name": "stdout",
          "text": [
            "no. of UEs covered (Reward):  790.0\n",
            "-----------------------------episode  1355 -----------------------------\n",
            "no. of UEs covered (Reward):  70.0\n",
            "-----------------------------episode  1356 -----------------------------\n"
          ]
        },
        {
          "output_type": "stream",
          "name": "stderr",
          "text": [
            "\r 27%|██▋       | 1356/5000 [03:16<12:39,  4.80it/s]"
          ]
        },
        {
          "output_type": "stream",
          "name": "stdout",
          "text": [
            "no. of UEs covered (Reward):  110.0\n",
            "-----------------------------episode  1357 -----------------------------\n"
          ]
        },
        {
          "output_type": "stream",
          "name": "stderr",
          "text": [
            "\r 27%|██▋       | 1357/5000 [03:16<12:46,  4.75it/s]"
          ]
        },
        {
          "output_type": "stream",
          "name": "stdout",
          "text": [
            "no. of UEs covered (Reward):  1390.0\n",
            "-----------------------------episode  1358 -----------------------------\n"
          ]
        },
        {
          "output_type": "stream",
          "name": "stderr",
          "text": [
            "\r 27%|██▋       | 1358/5000 [03:16<13:09,  4.61it/s]"
          ]
        },
        {
          "output_type": "stream",
          "name": "stdout",
          "text": [
            "no. of UEs covered (Reward):  1350.0\n",
            "-----------------------------episode  1359 -----------------------------\n"
          ]
        },
        {
          "output_type": "stream",
          "name": "stderr",
          "text": [
            "\r 27%|██▋       | 1359/5000 [03:17<12:58,  4.68it/s]"
          ]
        },
        {
          "output_type": "stream",
          "name": "stdout",
          "text": [
            "no. of UEs covered (Reward):  1320.0\n",
            "-----------------------------episode  1360 -----------------------------\n"
          ]
        },
        {
          "output_type": "stream",
          "name": "stderr",
          "text": [
            "\r 27%|██▋       | 1360/5000 [03:17<13:41,  4.43it/s]"
          ]
        },
        {
          "output_type": "stream",
          "name": "stdout",
          "text": [
            "no. of UEs covered (Reward):  150.0\n",
            "-----------------------------episode  1361 -----------------------------\n"
          ]
        },
        {
          "output_type": "stream",
          "name": "stderr",
          "text": [
            " 27%|██▋       | 1362/5000 [03:17<12:38,  4.80it/s]"
          ]
        },
        {
          "output_type": "stream",
          "name": "stdout",
          "text": [
            "no. of UEs covered (Reward):  870.0\n",
            "-----------------------------episode  1362 -----------------------------\n",
            "no. of UEs covered (Reward):  1250.0\n",
            "-----------------------------episode  1363 -----------------------------\n"
          ]
        },
        {
          "output_type": "stream",
          "name": "stderr",
          "text": [
            " 27%|██▋       | 1364/5000 [03:18<10:34,  5.73it/s]"
          ]
        },
        {
          "output_type": "stream",
          "name": "stdout",
          "text": [
            "no. of UEs covered (Reward):  1270.0\n",
            "-----------------------------episode  1364 -----------------------------\n",
            "no. of UEs covered (Reward):  1180.0\n",
            "-----------------------------episode  1365 -----------------------------\n"
          ]
        },
        {
          "output_type": "stream",
          "name": "stderr",
          "text": [
            " 27%|██▋       | 1366/5000 [03:18<09:29,  6.38it/s]"
          ]
        },
        {
          "output_type": "stream",
          "name": "stdout",
          "text": [
            "no. of UEs covered (Reward):  60.0\n",
            "-----------------------------episode  1366 -----------------------------\n",
            "no. of UEs covered (Reward):  580.0\n",
            "-----------------------------episode  1367 -----------------------------\n"
          ]
        },
        {
          "output_type": "stream",
          "name": "stderr",
          "text": [
            " 27%|██▋       | 1368/5000 [03:18<09:12,  6.57it/s]"
          ]
        },
        {
          "output_type": "stream",
          "name": "stdout",
          "text": [
            "no. of UEs covered (Reward):  480.0\n",
            "-----------------------------episode  1368 -----------------------------\n",
            "no. of UEs covered (Reward):  440.0\n",
            "-----------------------------episode  1369 -----------------------------\n"
          ]
        },
        {
          "output_type": "stream",
          "name": "stderr",
          "text": [
            " 27%|██▋       | 1370/5000 [03:18<09:02,  6.69it/s]"
          ]
        },
        {
          "output_type": "stream",
          "name": "stdout",
          "text": [
            "no. of UEs covered (Reward):  770.0\n",
            "-----------------------------episode  1370 -----------------------------\n",
            "no. of UEs covered (Reward):  150.0\n",
            "-----------------------------episode  1371 -----------------------------\n"
          ]
        },
        {
          "output_type": "stream",
          "name": "stderr",
          "text": [
            " 27%|██▋       | 1372/5000 [03:19<08:50,  6.83it/s]"
          ]
        },
        {
          "output_type": "stream",
          "name": "stdout",
          "text": [
            "no. of UEs covered (Reward):  1160.0\n",
            "-----------------------------episode  1372 -----------------------------\n",
            "no. of UEs covered (Reward):  330.0\n",
            "-----------------------------episode  1373 -----------------------------\n"
          ]
        },
        {
          "output_type": "stream",
          "name": "stderr",
          "text": [
            " 27%|██▋       | 1374/5000 [03:19<08:58,  6.73it/s]"
          ]
        },
        {
          "output_type": "stream",
          "name": "stdout",
          "text": [
            "no. of UEs covered (Reward):  60.0\n",
            "-----------------------------episode  1374 -----------------------------\n",
            "no. of UEs covered (Reward):  120.0\n",
            "-----------------------------episode  1375 -----------------------------\n"
          ]
        },
        {
          "output_type": "stream",
          "name": "stderr",
          "text": [
            " 28%|██▊       | 1376/5000 [03:19<09:00,  6.71it/s]"
          ]
        },
        {
          "output_type": "stream",
          "name": "stdout",
          "text": [
            "no. of UEs covered (Reward):  120.0\n",
            "-----------------------------episode  1376 -----------------------------\n",
            "no. of UEs covered (Reward):  30.0\n",
            "-----------------------------episode  1377 -----------------------------\n"
          ]
        },
        {
          "output_type": "stream",
          "name": "stderr",
          "text": [
            " 28%|██▊       | 1378/5000 [03:20<08:56,  6.75it/s]"
          ]
        },
        {
          "output_type": "stream",
          "name": "stdout",
          "text": [
            "no. of UEs covered (Reward):  20.0\n",
            "-----------------------------episode  1378 -----------------------------\n",
            "no. of UEs covered (Reward):  50.0\n",
            "-----------------------------episode  1379 -----------------------------\n"
          ]
        },
        {
          "output_type": "stream",
          "name": "stderr",
          "text": [
            " 28%|██▊       | 1380/5000 [03:20<09:06,  6.63it/s]"
          ]
        },
        {
          "output_type": "stream",
          "name": "stdout",
          "text": [
            "no. of UEs covered (Reward):  60.0\n",
            "-----------------------------episode  1380 -----------------------------\n",
            "no. of UEs covered (Reward):  50.0\n",
            "-----------------------------episode  1381 -----------------------------\n"
          ]
        },
        {
          "output_type": "stream",
          "name": "stderr",
          "text": [
            " 28%|██▊       | 1382/5000 [03:20<09:04,  6.65it/s]"
          ]
        },
        {
          "output_type": "stream",
          "name": "stdout",
          "text": [
            "no. of UEs covered (Reward):  40.0\n",
            "-----------------------------episode  1382 -----------------------------\n",
            "no. of UEs covered (Reward):  60.0\n",
            "-----------------------------episode  1383 -----------------------------\n"
          ]
        },
        {
          "output_type": "stream",
          "name": "stderr",
          "text": [
            " 28%|██▊       | 1384/5000 [03:21<08:49,  6.83it/s]"
          ]
        },
        {
          "output_type": "stream",
          "name": "stdout",
          "text": [
            "no. of UEs covered (Reward):  110.0\n",
            "-----------------------------episode  1384 -----------------------------\n",
            "no. of UEs covered (Reward):  1250.0\n",
            "-----------------------------episode  1385 -----------------------------\n"
          ]
        },
        {
          "output_type": "stream",
          "name": "stderr",
          "text": [
            " 28%|██▊       | 1386/5000 [03:21<08:42,  6.91it/s]"
          ]
        },
        {
          "output_type": "stream",
          "name": "stdout",
          "text": [
            "no. of UEs covered (Reward):  850.0\n",
            "-----------------------------episode  1386 -----------------------------\n",
            "no. of UEs covered (Reward):  60.0\n",
            "-----------------------------episode  1387 -----------------------------\n"
          ]
        },
        {
          "output_type": "stream",
          "name": "stderr",
          "text": [
            " 28%|██▊       | 1388/5000 [03:21<08:50,  6.81it/s]"
          ]
        },
        {
          "output_type": "stream",
          "name": "stdout",
          "text": [
            "no. of UEs covered (Reward):  70.0\n",
            "-----------------------------episode  1388 -----------------------------\n",
            "no. of UEs covered (Reward):  30.0\n",
            "-----------------------------episode  1389 -----------------------------\n"
          ]
        },
        {
          "output_type": "stream",
          "name": "stderr",
          "text": [
            " 28%|██▊       | 1390/5000 [03:21<09:05,  6.62it/s]"
          ]
        },
        {
          "output_type": "stream",
          "name": "stdout",
          "text": [
            "no. of UEs covered (Reward):  100.0\n",
            "-----------------------------episode  1390 -----------------------------\n",
            "no. of UEs covered (Reward):  50.0\n",
            "-----------------------------episode  1391 -----------------------------\n"
          ]
        },
        {
          "output_type": "stream",
          "name": "stderr",
          "text": [
            " 28%|██▊       | 1392/5000 [03:22<08:59,  6.68it/s]"
          ]
        },
        {
          "output_type": "stream",
          "name": "stdout",
          "text": [
            "no. of UEs covered (Reward):  50.0\n",
            "-----------------------------episode  1392 -----------------------------\n",
            "no. of UEs covered (Reward):  140.0\n",
            "-----------------------------episode  1393 -----------------------------\n"
          ]
        },
        {
          "output_type": "stream",
          "name": "stderr",
          "text": [
            " 28%|██▊       | 1394/5000 [03:22<09:22,  6.42it/s]"
          ]
        },
        {
          "output_type": "stream",
          "name": "stdout",
          "text": [
            "no. of UEs covered (Reward):  60.0\n",
            "-----------------------------episode  1394 -----------------------------\n",
            "no. of UEs covered (Reward):  40.0\n",
            "-----------------------------episode  1395 -----------------------------\n"
          ]
        },
        {
          "output_type": "stream",
          "name": "stderr",
          "text": [
            " 28%|██▊       | 1396/5000 [03:22<09:17,  6.46it/s]"
          ]
        },
        {
          "output_type": "stream",
          "name": "stdout",
          "text": [
            "no. of UEs covered (Reward):  80.0\n",
            "-----------------------------episode  1396 -----------------------------\n",
            "no. of UEs covered (Reward):  90.0\n",
            "-----------------------------episode  1397 -----------------------------\n"
          ]
        },
        {
          "output_type": "stream",
          "name": "stderr",
          "text": [
            " 28%|██▊       | 1398/5000 [03:23<09:01,  6.66it/s]"
          ]
        },
        {
          "output_type": "stream",
          "name": "stdout",
          "text": [
            "no. of UEs covered (Reward):  90.0\n",
            "-----------------------------episode  1398 -----------------------------\n",
            "no. of UEs covered (Reward):  250.0\n",
            "-----------------------------episode  1399 -----------------------------\n"
          ]
        },
        {
          "output_type": "stream",
          "name": "stderr",
          "text": [
            " 28%|██▊       | 1400/5000 [03:23<08:54,  6.73it/s]"
          ]
        },
        {
          "output_type": "stream",
          "name": "stdout",
          "text": [
            "no. of UEs covered (Reward):  60.0\n",
            "-----------------------------episode  1400 -----------------------------\n",
            "no. of UEs covered (Reward):  150.0\n",
            "-----------------------------episode  1401 -----------------------------\n"
          ]
        },
        {
          "output_type": "stream",
          "name": "stderr",
          "text": [
            " 28%|██▊       | 1402/5000 [03:23<08:56,  6.70it/s]"
          ]
        },
        {
          "output_type": "stream",
          "name": "stdout",
          "text": [
            "no. of UEs covered (Reward):  70.0\n",
            "-----------------------------episode  1402 -----------------------------\n",
            "no. of UEs covered (Reward):  50.0\n",
            "-----------------------------episode  1403 -----------------------------\n"
          ]
        },
        {
          "output_type": "stream",
          "name": "stderr",
          "text": [
            " 28%|██▊       | 1404/5000 [03:24<08:48,  6.80it/s]"
          ]
        },
        {
          "output_type": "stream",
          "name": "stdout",
          "text": [
            "no. of UEs covered (Reward):  210.0\n",
            "-----------------------------episode  1404 -----------------------------\n",
            "no. of UEs covered (Reward):  50.0\n",
            "-----------------------------episode  1405 -----------------------------\n"
          ]
        },
        {
          "output_type": "stream",
          "name": "stderr",
          "text": [
            " 28%|██▊       | 1406/5000 [03:24<08:46,  6.82it/s]"
          ]
        },
        {
          "output_type": "stream",
          "name": "stdout",
          "text": [
            "no. of UEs covered (Reward):  50.0\n",
            "-----------------------------episode  1406 -----------------------------\n",
            "no. of UEs covered (Reward):  910.0\n",
            "-----------------------------episode  1407 -----------------------------\n"
          ]
        },
        {
          "output_type": "stream",
          "name": "stderr",
          "text": [
            " 28%|██▊       | 1408/5000 [03:24<08:58,  6.66it/s]"
          ]
        },
        {
          "output_type": "stream",
          "name": "stdout",
          "text": [
            "no. of UEs covered (Reward):  160.0\n",
            "-----------------------------episode  1408 -----------------------------\n",
            "no. of UEs covered (Reward):  850.0\n",
            "-----------------------------episode  1409 -----------------------------\n"
          ]
        },
        {
          "output_type": "stream",
          "name": "stderr",
          "text": [
            " 28%|██▊       | 1410/5000 [03:24<08:47,  6.81it/s]"
          ]
        },
        {
          "output_type": "stream",
          "name": "stdout",
          "text": [
            "no. of UEs covered (Reward):  160.0\n",
            "-----------------------------episode  1410 -----------------------------\n",
            "no. of UEs covered (Reward):  1040.0\n",
            "-----------------------------episode  1411 -----------------------------\n"
          ]
        },
        {
          "output_type": "stream",
          "name": "stderr",
          "text": [
            " 28%|██▊       | 1412/5000 [03:25<08:46,  6.81it/s]"
          ]
        },
        {
          "output_type": "stream",
          "name": "stdout",
          "text": [
            "no. of UEs covered (Reward):  660.0\n",
            "-----------------------------episode  1412 -----------------------------\n",
            "no. of UEs covered (Reward):  1350.0\n",
            "-----------------------------episode  1413 -----------------------------\n"
          ]
        },
        {
          "output_type": "stream",
          "name": "stderr",
          "text": [
            " 28%|██▊       | 1414/5000 [03:25<08:49,  6.77it/s]"
          ]
        },
        {
          "output_type": "stream",
          "name": "stdout",
          "text": [
            "no. of UEs covered (Reward):  520.0\n",
            "-----------------------------episode  1414 -----------------------------\n",
            "no. of UEs covered (Reward):  60.0\n",
            "-----------------------------episode  1415 -----------------------------\n"
          ]
        },
        {
          "output_type": "stream",
          "name": "stderr",
          "text": [
            " 28%|██▊       | 1416/5000 [03:25<08:54,  6.71it/s]"
          ]
        },
        {
          "output_type": "stream",
          "name": "stdout",
          "text": [
            "no. of UEs covered (Reward):  80.0\n",
            "-----------------------------episode  1416 -----------------------------\n",
            "no. of UEs covered (Reward):  240.0\n",
            "-----------------------------episode  1417 -----------------------------\n"
          ]
        },
        {
          "output_type": "stream",
          "name": "stderr",
          "text": [
            " 28%|██▊       | 1418/5000 [03:26<08:54,  6.70it/s]"
          ]
        },
        {
          "output_type": "stream",
          "name": "stdout",
          "text": [
            "no. of UEs covered (Reward):  130.0\n",
            "-----------------------------episode  1418 -----------------------------\n",
            "no. of UEs covered (Reward):  60.0\n",
            "-----------------------------episode  1419 -----------------------------\n"
          ]
        },
        {
          "output_type": "stream",
          "name": "stderr",
          "text": [
            " 28%|██▊       | 1420/5000 [03:26<08:56,  6.67it/s]"
          ]
        },
        {
          "output_type": "stream",
          "name": "stdout",
          "text": [
            "no. of UEs covered (Reward):  70.0\n",
            "-----------------------------episode  1420 -----------------------------\n",
            "no. of UEs covered (Reward):  60.0\n",
            "-----------------------------episode  1421 -----------------------------\n"
          ]
        },
        {
          "output_type": "stream",
          "name": "stderr",
          "text": [
            " 28%|██▊       | 1422/5000 [03:26<09:02,  6.60it/s]"
          ]
        },
        {
          "output_type": "stream",
          "name": "stdout",
          "text": [
            "no. of UEs covered (Reward):  40.0\n",
            "-----------------------------episode  1422 -----------------------------\n",
            "no. of UEs covered (Reward):  30.0\n",
            "-----------------------------episode  1423 -----------------------------\n"
          ]
        },
        {
          "output_type": "stream",
          "name": "stderr",
          "text": [
            " 28%|██▊       | 1424/5000 [03:27<08:59,  6.63it/s]"
          ]
        },
        {
          "output_type": "stream",
          "name": "stdout",
          "text": [
            "no. of UEs covered (Reward):  60.0\n",
            "-----------------------------episode  1424 -----------------------------\n",
            "no. of UEs covered (Reward):  100.0\n",
            "-----------------------------episode  1425 -----------------------------\n"
          ]
        },
        {
          "output_type": "stream",
          "name": "stderr",
          "text": [
            " 29%|██▊       | 1426/5000 [03:27<08:58,  6.64it/s]"
          ]
        },
        {
          "output_type": "stream",
          "name": "stdout",
          "text": [
            "no. of UEs covered (Reward):  40.0\n",
            "-----------------------------episode  1426 -----------------------------\n",
            "no. of UEs covered (Reward):  100.0\n",
            "-----------------------------episode  1427 -----------------------------\n"
          ]
        },
        {
          "output_type": "stream",
          "name": "stderr",
          "text": [
            " 29%|██▊       | 1428/5000 [03:27<09:12,  6.46it/s]"
          ]
        },
        {
          "output_type": "stream",
          "name": "stdout",
          "text": [
            "no. of UEs covered (Reward):  150.0\n",
            "-----------------------------episode  1428 -----------------------------\n",
            "no. of UEs covered (Reward):  50.0\n",
            "-----------------------------episode  1429 -----------------------------\n"
          ]
        },
        {
          "output_type": "stream",
          "name": "stderr",
          "text": [
            "\r 29%|██▊       | 1429/5000 [03:27<10:02,  5.93it/s]"
          ]
        },
        {
          "output_type": "stream",
          "name": "stdout",
          "text": [
            "no. of UEs covered (Reward):  70.0\n",
            "-----------------------------episode  1430 -----------------------------\n"
          ]
        },
        {
          "output_type": "stream",
          "name": "stderr",
          "text": [
            "\r 29%|██▊       | 1430/5000 [03:28<10:51,  5.48it/s]"
          ]
        },
        {
          "output_type": "stream",
          "name": "stdout",
          "text": [
            "no. of UEs covered (Reward):  330.0\n",
            "-----------------------------episode  1431 -----------------------------\n"
          ]
        },
        {
          "output_type": "stream",
          "name": "stderr",
          "text": [
            "\r 29%|██▊       | 1431/5000 [03:28<11:29,  5.17it/s]"
          ]
        },
        {
          "output_type": "stream",
          "name": "stdout",
          "text": [
            "no. of UEs covered (Reward):  860.0\n",
            "-----------------------------episode  1432 -----------------------------\n"
          ]
        },
        {
          "output_type": "stream",
          "name": "stderr",
          "text": [
            "\r 29%|██▊       | 1432/5000 [03:28<12:00,  4.95it/s]"
          ]
        },
        {
          "output_type": "stream",
          "name": "stdout",
          "text": [
            "no. of UEs covered (Reward):  420.0\n",
            "-----------------------------episode  1433 -----------------------------\n"
          ]
        },
        {
          "output_type": "stream",
          "name": "stderr",
          "text": [
            " 29%|██▊       | 1434/5000 [03:28<12:02,  4.93it/s]"
          ]
        },
        {
          "output_type": "stream",
          "name": "stdout",
          "text": [
            "no. of UEs covered (Reward):  40.0\n",
            "-----------------------------episode  1434 -----------------------------\n",
            "no. of UEs covered (Reward):  50.0\n",
            "-----------------------------episode  1435 -----------------------------\n"
          ]
        },
        {
          "output_type": "stream",
          "name": "stderr",
          "text": [
            " 29%|██▊       | 1436/5000 [03:29<12:00,  4.94it/s]"
          ]
        },
        {
          "output_type": "stream",
          "name": "stdout",
          "text": [
            "no. of UEs covered (Reward):  80.0\n",
            "-----------------------------episode  1436 -----------------------------\n",
            "no. of UEs covered (Reward):  1040.0\n",
            "-----------------------------episode  1437 -----------------------------\n"
          ]
        },
        {
          "output_type": "stream",
          "name": "stderr",
          "text": [
            "\r 29%|██▊       | 1437/5000 [03:29<12:08,  4.89it/s]"
          ]
        },
        {
          "output_type": "stream",
          "name": "stdout",
          "text": [
            "no. of UEs covered (Reward):  890.0\n",
            "-----------------------------episode  1438 -----------------------------\n"
          ]
        },
        {
          "output_type": "stream",
          "name": "stderr",
          "text": [
            "\r 29%|██▉       | 1438/5000 [03:29<12:21,  4.80it/s]"
          ]
        },
        {
          "output_type": "stream",
          "name": "stdout",
          "text": [
            "no. of UEs covered (Reward):  1310.0\n",
            "-----------------------------episode  1439 -----------------------------\n"
          ]
        },
        {
          "output_type": "stream",
          "name": "stderr",
          "text": [
            " 29%|██▉       | 1440/5000 [03:30<12:05,  4.91it/s]"
          ]
        },
        {
          "output_type": "stream",
          "name": "stdout",
          "text": [
            "no. of UEs covered (Reward):  780.0\n",
            "-----------------------------episode  1440 -----------------------------\n",
            "no. of UEs covered (Reward):  90.0\n",
            "-----------------------------episode  1441 "
          ]
        },
        {
          "output_type": "stream",
          "name": "stderr",
          "text": [
            "\r 29%|██▉       | 1441/5000 [03:30<11:59,  4.95it/s]"
          ]
        },
        {
          "output_type": "stream",
          "name": "stdout",
          "text": [
            "-----------------------------\n",
            "no. of UEs covered (Reward):  140.0\n",
            "-----------------------------episode  1442 -----------------------------\n"
          ]
        },
        {
          "output_type": "stream",
          "name": "stderr",
          "text": [
            "\r 29%|██▉       | 1442/5000 [03:30<12:03,  4.92it/s]"
          ]
        },
        {
          "output_type": "stream",
          "name": "stdout",
          "text": [
            "no. of UEs covered (Reward):  270.0\n",
            "-----------------------------episode  1443 -----------------------------\n"
          ]
        },
        {
          "output_type": "stream",
          "name": "stderr",
          "text": [
            " 29%|██▉       | 1444/5000 [03:30<11:42,  5.06it/s]"
          ]
        },
        {
          "output_type": "stream",
          "name": "stdout",
          "text": [
            "no. of UEs covered (Reward):  130.0\n",
            "-----------------------------episode  1444 -----------------------------\n",
            "no. of UEs covered (Reward):  1360.0\n",
            "-----------------------------episode  1445 -----------------------------\n"
          ]
        },
        {
          "output_type": "stream",
          "name": "stderr",
          "text": [
            " 29%|██▉       | 1446/5000 [03:31<10:20,  5.72it/s]"
          ]
        },
        {
          "output_type": "stream",
          "name": "stdout",
          "text": [
            "no. of UEs covered (Reward):  160.0\n",
            "-----------------------------episode  1446 -----------------------------\n",
            "no. of UEs covered (Reward):  760.0\n",
            "-----------------------------episode  1447 -----------------------------\n"
          ]
        },
        {
          "output_type": "stream",
          "name": "stderr",
          "text": [
            " 29%|██▉       | 1448/5000 [03:31<09:31,  6.22it/s]"
          ]
        },
        {
          "output_type": "stream",
          "name": "stdout",
          "text": [
            "no. of UEs covered (Reward):  380.0\n",
            "-----------------------------episode  1448 -----------------------------\n",
            "no. of UEs covered (Reward):  510.0\n",
            "-----------------------------episode  1449 -----------------------------\n"
          ]
        },
        {
          "output_type": "stream",
          "name": "stderr",
          "text": [
            " 29%|██▉       | 1450/5000 [03:31<09:22,  6.31it/s]"
          ]
        },
        {
          "output_type": "stream",
          "name": "stdout",
          "text": [
            "no. of UEs covered (Reward):  60.0\n",
            "-----------------------------episode  1450 -----------------------------\n",
            "no. of UEs covered (Reward):  70.0\n",
            "-----------------------------episode  1451 -----------------------------\n"
          ]
        },
        {
          "output_type": "stream",
          "name": "stderr",
          "text": [
            " 29%|██▉       | 1452/5000 [03:32<08:52,  6.66it/s]"
          ]
        },
        {
          "output_type": "stream",
          "name": "stdout",
          "text": [
            "no. of UEs covered (Reward):  110.0\n",
            "-----------------------------episode  1452 -----------------------------\n",
            "no. of UEs covered (Reward):  140.0\n",
            "-----------------------------episode  1453 -----------------------------\n"
          ]
        },
        {
          "output_type": "stream",
          "name": "stderr",
          "text": [
            " 29%|██▉       | 1454/5000 [03:32<08:53,  6.65it/s]"
          ]
        },
        {
          "output_type": "stream",
          "name": "stdout",
          "text": [
            "no. of UEs covered (Reward):  200.0\n",
            "-----------------------------episode  1454 -----------------------------\n",
            "no. of UEs covered (Reward):  40.0\n",
            "-----------------------------episode  1455 -----------------------------\n"
          ]
        },
        {
          "output_type": "stream",
          "name": "stderr",
          "text": [
            " 29%|██▉       | 1456/5000 [03:32<09:04,  6.51it/s]"
          ]
        },
        {
          "output_type": "stream",
          "name": "stdout",
          "text": [
            "no. of UEs covered (Reward):  170.0\n",
            "-----------------------------episode  1456 -----------------------------\n",
            "no. of UEs covered (Reward):  130.0\n",
            "-----------------------------episode  1457 -----------------------------\n"
          ]
        },
        {
          "output_type": "stream",
          "name": "stderr",
          "text": [
            " 29%|██▉       | 1458/5000 [03:33<09:02,  6.53it/s]"
          ]
        },
        {
          "output_type": "stream",
          "name": "stdout",
          "text": [
            "no. of UEs covered (Reward):  80.0\n",
            "-----------------------------episode  1458 -----------------------------\n",
            "no. of UEs covered (Reward):  130.0\n",
            "-----------------------------episode  1459 -----------------------------\n"
          ]
        },
        {
          "output_type": "stream",
          "name": "stderr",
          "text": [
            " 29%|██▉       | 1460/5000 [03:33<08:52,  6.65it/s]"
          ]
        },
        {
          "output_type": "stream",
          "name": "stdout",
          "text": [
            "no. of UEs covered (Reward):  110.0\n",
            "-----------------------------episode  1460 -----------------------------\n",
            "no. of UEs covered (Reward):  80.0\n",
            "-----------------------------episode  1461 -----------------------------\n"
          ]
        },
        {
          "output_type": "stream",
          "name": "stderr",
          "text": [
            " 29%|██▉       | 1462/5000 [03:33<08:35,  6.86it/s]"
          ]
        },
        {
          "output_type": "stream",
          "name": "stdout",
          "text": [
            "no. of UEs covered (Reward):  520.0\n",
            "-----------------------------episode  1462 -----------------------------\n",
            "no. of UEs covered (Reward):  80.0\n",
            "-----------------------------episode  1463 -----------------------------\n"
          ]
        },
        {
          "output_type": "stream",
          "name": "stderr",
          "text": [
            " 29%|██▉       | 1464/5000 [03:33<08:48,  6.69it/s]"
          ]
        },
        {
          "output_type": "stream",
          "name": "stdout",
          "text": [
            "no. of UEs covered (Reward):  130.0\n",
            "-----------------------------episode  1464 -----------------------------\n",
            "no. of UEs covered (Reward):  310.0\n",
            "-----------------------------episode  1465 -----------------------------\n"
          ]
        },
        {
          "output_type": "stream",
          "name": "stderr",
          "text": [
            " 29%|██▉       | 1466/5000 [03:34<08:56,  6.59it/s]"
          ]
        },
        {
          "output_type": "stream",
          "name": "stdout",
          "text": [
            "no. of UEs covered (Reward):  240.0\n",
            "-----------------------------episode  1466 -----------------------------\n",
            "no. of UEs covered (Reward):  10.0\n",
            "-----------------------------episode  1467 -----------------------------\n"
          ]
        },
        {
          "output_type": "stream",
          "name": "stderr",
          "text": [
            " 29%|██▉       | 1468/5000 [03:34<08:51,  6.64it/s]"
          ]
        },
        {
          "output_type": "stream",
          "name": "stdout",
          "text": [
            "no. of UEs covered (Reward):  80.0\n",
            "-----------------------------episode  1468 -----------------------------\n",
            "no. of UEs covered (Reward):  130.0\n",
            "-----------------------------episode  1469 -----------------------------\n"
          ]
        },
        {
          "output_type": "stream",
          "name": "stderr",
          "text": [
            " 29%|██▉       | 1470/5000 [03:34<08:45,  6.71it/s]"
          ]
        },
        {
          "output_type": "stream",
          "name": "stdout",
          "text": [
            "no. of UEs covered (Reward):  250.0\n",
            "-----------------------------episode  1470 -----------------------------\n",
            "no. of UEs covered (Reward):  360.0\n",
            "-----------------------------episode  1471 -----------------------------\n"
          ]
        },
        {
          "output_type": "stream",
          "name": "stderr",
          "text": [
            " 29%|██▉       | 1472/5000 [03:35<08:41,  6.76it/s]"
          ]
        },
        {
          "output_type": "stream",
          "name": "stdout",
          "text": [
            "no. of UEs covered (Reward):  690.0\n",
            "-----------------------------episode  1472 -----------------------------\n",
            "no. of UEs covered (Reward):  150.0\n",
            "-----------------------------episode  1473 -----------------------------\n"
          ]
        },
        {
          "output_type": "stream",
          "name": "stderr",
          "text": [
            " 29%|██▉       | 1474/5000 [03:35<08:56,  6.57it/s]"
          ]
        },
        {
          "output_type": "stream",
          "name": "stdout",
          "text": [
            "no. of UEs covered (Reward):  330.0\n",
            "-----------------------------episode  1474 -----------------------------\n",
            "no. of UEs covered (Reward):  180.0\n",
            "-----------------------------episode  1475 -----------------------------\n"
          ]
        },
        {
          "output_type": "stream",
          "name": "stderr",
          "text": [
            " 30%|██▉       | 1476/5000 [03:35<09:02,  6.49it/s]"
          ]
        },
        {
          "output_type": "stream",
          "name": "stdout",
          "text": [
            "no. of UEs covered (Reward):  970.0\n",
            "-----------------------------episode  1476 -----------------------------\n",
            "no. of UEs covered (Reward):  760.0\n",
            "-----------------------------episode  1477 -----------------------------\n"
          ]
        },
        {
          "output_type": "stream",
          "name": "stderr",
          "text": [
            " 30%|██▉       | 1478/5000 [03:36<08:51,  6.63it/s]"
          ]
        },
        {
          "output_type": "stream",
          "name": "stdout",
          "text": [
            "no. of UEs covered (Reward):  1000.0\n",
            "-----------------------------episode  1478 -----------------------------\n",
            "no. of UEs covered (Reward):  1380.0\n",
            "-----------------------------episode  1479 -----------------------------\n"
          ]
        },
        {
          "output_type": "stream",
          "name": "stderr",
          "text": [
            " 30%|██▉       | 1480/5000 [03:36<08:43,  6.72it/s]"
          ]
        },
        {
          "output_type": "stream",
          "name": "stdout",
          "text": [
            "no. of UEs covered (Reward):  50.0\n",
            "-----------------------------episode  1480 -----------------------------\n",
            "no. of UEs covered (Reward):  60.0\n",
            "-----------------------------episode  1481 -----------------------------\n"
          ]
        },
        {
          "output_type": "stream",
          "name": "stderr",
          "text": [
            " 30%|██▉       | 1482/5000 [03:36<08:36,  6.81it/s]"
          ]
        },
        {
          "output_type": "stream",
          "name": "stdout",
          "text": [
            "no. of UEs covered (Reward):  70.0\n",
            "-----------------------------episode  1482 -----------------------------\n",
            "no. of UEs covered (Reward):  50.0\n",
            "-----------------------------episode  1483 -----------------------------\n"
          ]
        },
        {
          "output_type": "stream",
          "name": "stderr",
          "text": [
            " 30%|██▉       | 1484/5000 [03:36<08:48,  6.66it/s]"
          ]
        },
        {
          "output_type": "stream",
          "name": "stdout",
          "text": [
            "no. of UEs covered (Reward):  70.0\n",
            "-----------------------------episode  1484 -----------------------------\n",
            "no. of UEs covered (Reward):  570.0\n",
            "-----------------------------episode  1485 -----------------------------\n"
          ]
        },
        {
          "output_type": "stream",
          "name": "stderr",
          "text": [
            " 30%|██▉       | 1486/5000 [03:37<08:45,  6.69it/s]"
          ]
        },
        {
          "output_type": "stream",
          "name": "stdout",
          "text": [
            "no. of UEs covered (Reward):  140.0\n",
            "-----------------------------episode  1486 -----------------------------\n",
            "no. of UEs covered (Reward):  70.0\n",
            "-----------------------------episode  1487 -----------------------------\n"
          ]
        },
        {
          "output_type": "stream",
          "name": "stderr",
          "text": [
            " 30%|██▉       | 1488/5000 [03:37<08:43,  6.71it/s]"
          ]
        },
        {
          "output_type": "stream",
          "name": "stdout",
          "text": [
            "no. of UEs covered (Reward):  300.0\n",
            "-----------------------------episode  1488 -----------------------------\n",
            "no. of UEs covered (Reward):  240.0\n",
            "-----------------------------episode  1489 -----------------------------\n"
          ]
        },
        {
          "output_type": "stream",
          "name": "stderr",
          "text": [
            " 30%|██▉       | 1490/5000 [03:37<08:44,  6.69it/s]"
          ]
        },
        {
          "output_type": "stream",
          "name": "stdout",
          "text": [
            "no. of UEs covered (Reward):  70.0\n",
            "-----------------------------episode  1490 -----------------------------\n",
            "no. of UEs covered (Reward):  100.0\n",
            "-----------------------------episode  1491 -----------------------------\n"
          ]
        },
        {
          "output_type": "stream",
          "name": "stderr",
          "text": [
            " 30%|██▉       | 1492/5000 [03:38<08:43,  6.70it/s]"
          ]
        },
        {
          "output_type": "stream",
          "name": "stdout",
          "text": [
            "no. of UEs covered (Reward):  130.0\n",
            "-----------------------------episode  1492 -----------------------------\n",
            "no. of UEs covered (Reward):  90.0\n",
            "-----------------------------episode  1493 -----------------------------\n"
          ]
        },
        {
          "output_type": "stream",
          "name": "stderr",
          "text": [
            " 30%|██▉       | 1494/5000 [03:38<08:41,  6.73it/s]"
          ]
        },
        {
          "output_type": "stream",
          "name": "stdout",
          "text": [
            "no. of UEs covered (Reward):  80.0\n",
            "-----------------------------episode  1494 -----------------------------\n",
            "no. of UEs covered (Reward):  120.0\n",
            "-----------------------------episode  1495 -----------------------------\n"
          ]
        },
        {
          "output_type": "stream",
          "name": "stderr",
          "text": [
            " 30%|██▉       | 1496/5000 [03:38<08:42,  6.70it/s]"
          ]
        },
        {
          "output_type": "stream",
          "name": "stdout",
          "text": [
            "no. of UEs covered (Reward):  60.0\n",
            "-----------------------------episode  1496 -----------------------------\n",
            "no. of UEs covered (Reward):  110.0\n",
            "-----------------------------episode  1497 -----------------------------\n"
          ]
        },
        {
          "output_type": "stream",
          "name": "stderr",
          "text": [
            " 30%|██▉       | 1498/5000 [03:39<08:58,  6.51it/s]"
          ]
        },
        {
          "output_type": "stream",
          "name": "stdout",
          "text": [
            "no. of UEs covered (Reward):  60.0\n",
            "-----------------------------episode  1498 -----------------------------\n",
            "no. of UEs covered (Reward):  90.0\n",
            "-----------------------------episode  1499 -----------------------------\n"
          ]
        },
        {
          "output_type": "stream",
          "name": "stderr",
          "text": [
            " 30%|███       | 1500/5000 [03:39<08:51,  6.59it/s]"
          ]
        },
        {
          "output_type": "stream",
          "name": "stdout",
          "text": [
            "no. of UEs covered (Reward):  1000.0\n",
            "-----------------------------episode  1500 -----------------------------\n",
            "no. of UEs covered (Reward):  140.0\n",
            "-----------------------------episode  1501 -----------------------------\n"
          ]
        },
        {
          "output_type": "stream",
          "name": "stderr",
          "text": [
            " 30%|███       | 1502/5000 [03:39<08:36,  6.77it/s]"
          ]
        },
        {
          "output_type": "stream",
          "name": "stdout",
          "text": [
            "no. of UEs covered (Reward):  70.0\n",
            "-----------------------------episode  1502 -----------------------------\n",
            "no. of UEs covered (Reward):  70.0\n",
            "-----------------------------episode  1503 -----------------------------\n"
          ]
        },
        {
          "output_type": "stream",
          "name": "stderr",
          "text": [
            " 30%|███       | 1504/5000 [03:39<08:35,  6.78it/s]"
          ]
        },
        {
          "output_type": "stream",
          "name": "stdout",
          "text": [
            "no. of UEs covered (Reward):  1290.0\n",
            "-----------------------------episode  1504 -----------------------------\n",
            "no. of UEs covered (Reward):  110.0\n",
            "-----------------------------episode  1505 -----------------------------\n"
          ]
        },
        {
          "output_type": "stream",
          "name": "stderr",
          "text": [
            " 30%|███       | 1506/5000 [03:40<08:51,  6.57it/s]"
          ]
        },
        {
          "output_type": "stream",
          "name": "stdout",
          "text": [
            "no. of UEs covered (Reward):  110.0\n",
            "-----------------------------episode  1506 -----------------------------\n",
            "no. of UEs covered (Reward):  1050.0\n",
            "-----------------------------episode  1507 -----------------------------\n"
          ]
        },
        {
          "output_type": "stream",
          "name": "stderr",
          "text": [
            " 30%|███       | 1508/5000 [03:40<08:42,  6.69it/s]"
          ]
        },
        {
          "output_type": "stream",
          "name": "stdout",
          "text": [
            "no. of UEs covered (Reward):  60.0\n",
            "-----------------------------episode  1508 -----------------------------\n",
            "no. of UEs covered (Reward):  160.0\n",
            "-----------------------------episode  1509 -----------------------------\n"
          ]
        },
        {
          "output_type": "stream",
          "name": "stderr",
          "text": [
            " 30%|███       | 1510/5000 [03:40<09:17,  6.26it/s]"
          ]
        },
        {
          "output_type": "stream",
          "name": "stdout",
          "text": [
            "no. of UEs covered (Reward):  50.0\n",
            "-----------------------------episode  1510 -----------------------------\n",
            "no. of UEs covered (Reward):  140.0\n",
            "-----------------------------episode  1511 -----------------------------\n"
          ]
        },
        {
          "output_type": "stream",
          "name": "stderr",
          "text": [
            "\r 30%|███       | 1511/5000 [03:41<10:21,  5.62it/s]"
          ]
        },
        {
          "output_type": "stream",
          "name": "stdout",
          "text": [
            "no. of UEs covered (Reward):  50.0\n",
            "-----------------------------episode  1512 -----------------------------\n"
          ]
        },
        {
          "output_type": "stream",
          "name": "stderr",
          "text": [
            "\r 30%|███       | 1512/5000 [03:41<10:59,  5.29it/s]"
          ]
        },
        {
          "output_type": "stream",
          "name": "stdout",
          "text": [
            "no. of UEs covered (Reward):  70.0\n",
            "-----------------------------episode  1513 -----------------------------\n"
          ]
        },
        {
          "output_type": "stream",
          "name": "stderr",
          "text": [
            "\r 30%|███       | 1513/5000 [03:41<11:15,  5.16it/s]"
          ]
        },
        {
          "output_type": "stream",
          "name": "stdout",
          "text": [
            "no. of UEs covered (Reward):  50.0\n",
            "-----------------------------episode  1514 -----------------------------\n"
          ]
        },
        {
          "output_type": "stream",
          "name": "stderr",
          "text": [
            "\r 30%|███       | 1514/5000 [03:41<11:33,  5.02it/s]"
          ]
        },
        {
          "output_type": "stream",
          "name": "stdout",
          "text": [
            "no. of UEs covered (Reward):  80.0\n",
            "-----------------------------episode  1515 -----------------------------\n"
          ]
        },
        {
          "output_type": "stream",
          "name": "stderr",
          "text": [
            "\r 30%|███       | 1515/5000 [03:41<11:48,  4.92it/s]"
          ]
        },
        {
          "output_type": "stream",
          "name": "stdout",
          "text": [
            "no. of UEs covered (Reward):  130.0\n",
            "-----------------------------episode  1516 -----------------------------\n"
          ]
        },
        {
          "output_type": "stream",
          "name": "stderr",
          "text": [
            "\r 30%|███       | 1516/5000 [03:42<12:18,  4.72it/s]"
          ]
        },
        {
          "output_type": "stream",
          "name": "stdout",
          "text": [
            "no. of UEs covered (Reward):  1380.0\n",
            "-----------------------------episode  1517 -----------------------------\n"
          ]
        },
        {
          "output_type": "stream",
          "name": "stderr",
          "text": [
            "\r 30%|███       | 1517/5000 [03:42<12:40,  4.58it/s]"
          ]
        },
        {
          "output_type": "stream",
          "name": "stdout",
          "text": [
            "no. of UEs covered (Reward):  620.0\n",
            "-----------------------------episode  1518 -----------------------------\n"
          ]
        },
        {
          "output_type": "stream",
          "name": "stderr",
          "text": [
            " 30%|███       | 1519/5000 [03:42<12:09,  4.77it/s]"
          ]
        },
        {
          "output_type": "stream",
          "name": "stdout",
          "text": [
            "no. of UEs covered (Reward):  90.0\n",
            "-----------------------------episode  1519 -----------------------------\n",
            "no. of UEs covered (Reward):  140.0\n",
            "-----------------------------episode  1520 -----------------------------\n"
          ]
        },
        {
          "output_type": "stream",
          "name": "stderr",
          "text": [
            "\r 30%|███       | 1520/5000 [03:43<12:28,  4.65it/s]"
          ]
        },
        {
          "output_type": "stream",
          "name": "stdout",
          "text": [
            "no. of UEs covered (Reward):  110.0\n",
            "-----------------------------episode  1521 -----------------------------\n"
          ]
        },
        {
          "output_type": "stream",
          "name": "stderr",
          "text": [
            "\r 30%|███       | 1521/5000 [03:43<12:32,  4.62it/s]"
          ]
        },
        {
          "output_type": "stream",
          "name": "stdout",
          "text": [
            "no. of UEs covered (Reward):  150.0\n",
            "-----------------------------episode  1522 -----------------------------\n"
          ]
        },
        {
          "output_type": "stream",
          "name": "stderr",
          "text": [
            "\r 30%|███       | 1522/5000 [03:43<12:25,  4.66it/s]"
          ]
        },
        {
          "output_type": "stream",
          "name": "stdout",
          "text": [
            "no. of UEs covered (Reward):  90.0\n",
            "-----------------------------episode  1523 -----------------------------\n"
          ]
        },
        {
          "output_type": "stream",
          "name": "stderr",
          "text": [
            " 30%|███       | 1524/5000 [03:43<12:13,  4.74it/s]"
          ]
        },
        {
          "output_type": "stream",
          "name": "stdout",
          "text": [
            "no. of UEs covered (Reward):  240.0\n",
            "-----------------------------episode  1524 -----------------------------\n",
            "no. of UEs covered (Reward):  130.0\n",
            "-----------------------------episode  1525 -----------------------------\n"
          ]
        },
        {
          "output_type": "stream",
          "name": "stderr",
          "text": [
            " 31%|███       | 1526/5000 [03:44<10:27,  5.54it/s]"
          ]
        },
        {
          "output_type": "stream",
          "name": "stdout",
          "text": [
            "no. of UEs covered (Reward):  70.0\n",
            "-----------------------------episode  1526 -----------------------------\n",
            "no. of UEs covered (Reward):  60.0\n",
            "-----------------------------episode  1527 -----------------------------\n"
          ]
        },
        {
          "output_type": "stream",
          "name": "stderr",
          "text": [
            " 31%|███       | 1528/5000 [03:44<09:20,  6.19it/s]"
          ]
        },
        {
          "output_type": "stream",
          "name": "stdout",
          "text": [
            "no. of UEs covered (Reward):  80.0\n",
            "-----------------------------episode  1528 -----------------------------\n",
            "no. of UEs covered (Reward):  100.0\n",
            "-----------------------------episode  1529 -----------------------------\n"
          ]
        },
        {
          "output_type": "stream",
          "name": "stderr",
          "text": [
            " 31%|███       | 1530/5000 [03:44<09:14,  6.26it/s]"
          ]
        },
        {
          "output_type": "stream",
          "name": "stdout",
          "text": [
            "no. of UEs covered (Reward):  60.0\n",
            "-----------------------------episode  1530 -----------------------------\n",
            "no. of UEs covered (Reward):  320.0\n",
            "-----------------------------episode  1531 -----------------------------\n"
          ]
        },
        {
          "output_type": "stream",
          "name": "stderr",
          "text": [
            " 31%|███       | 1532/5000 [03:45<08:49,  6.55it/s]"
          ]
        },
        {
          "output_type": "stream",
          "name": "stdout",
          "text": [
            "no. of UEs covered (Reward):  60.0\n",
            "-----------------------------episode  1532 -----------------------------\n",
            "no. of UEs covered (Reward):  60.0\n",
            "-----------------------------episode  1533 -----------------------------\n"
          ]
        },
        {
          "output_type": "stream",
          "name": "stderr",
          "text": [
            " 31%|███       | 1534/5000 [03:45<08:57,  6.45it/s]"
          ]
        },
        {
          "output_type": "stream",
          "name": "stdout",
          "text": [
            "no. of UEs covered (Reward):  50.0\n",
            "-----------------------------episode  1534 -----------------------------\n",
            "no. of UEs covered (Reward):  90.0\n",
            "-----------------------------episode  1535 -----------------------------\n"
          ]
        },
        {
          "output_type": "stream",
          "name": "stderr",
          "text": [
            " 31%|███       | 1536/5000 [03:45<08:43,  6.61it/s]"
          ]
        },
        {
          "output_type": "stream",
          "name": "stdout",
          "text": [
            "no. of UEs covered (Reward):  30.0\n",
            "-----------------------------episode  1536 -----------------------------\n",
            "no. of UEs covered (Reward):  60.0\n",
            "-----------------------------episode  1537 -----------------------------\n"
          ]
        },
        {
          "output_type": "stream",
          "name": "stderr",
          "text": [
            " 31%|███       | 1538/5000 [03:46<08:43,  6.61it/s]"
          ]
        },
        {
          "output_type": "stream",
          "name": "stdout",
          "text": [
            "no. of UEs covered (Reward):  70.0\n",
            "-----------------------------episode  1538 -----------------------------\n",
            "no. of UEs covered (Reward):  290.0\n",
            "-----------------------------episode  1539 -----------------------------\n"
          ]
        },
        {
          "output_type": "stream",
          "name": "stderr",
          "text": [
            " 31%|███       | 1540/5000 [03:46<08:50,  6.52it/s]"
          ]
        },
        {
          "output_type": "stream",
          "name": "stdout",
          "text": [
            "no. of UEs covered (Reward):  330.0\n",
            "-----------------------------episode  1540 -----------------------------\n",
            "no. of UEs covered (Reward):  30.0\n",
            "-----------------------------episode  1541 -----------------------------\n"
          ]
        },
        {
          "output_type": "stream",
          "name": "stderr",
          "text": [
            " 31%|███       | 1542/5000 [03:46<08:34,  6.72it/s]"
          ]
        },
        {
          "output_type": "stream",
          "name": "stdout",
          "text": [
            "no. of UEs covered (Reward):  10.0\n",
            "-----------------------------episode  1542 -----------------------------\n",
            "no. of UEs covered (Reward):  150.0\n",
            "-----------------------------episode  1543 -----------------------------\n"
          ]
        },
        {
          "output_type": "stream",
          "name": "stderr",
          "text": [
            " 31%|███       | 1544/5000 [03:46<08:53,  6.48it/s]"
          ]
        },
        {
          "output_type": "stream",
          "name": "stdout",
          "text": [
            "no. of UEs covered (Reward):  140.0\n",
            "-----------------------------episode  1544 -----------------------------\n",
            "no. of UEs covered (Reward):  40.0\n",
            "-----------------------------episode  1545 -----------------------------\n"
          ]
        },
        {
          "output_type": "stream",
          "name": "stderr",
          "text": [
            " 31%|███       | 1546/5000 [03:47<08:53,  6.47it/s]"
          ]
        },
        {
          "output_type": "stream",
          "name": "stdout",
          "text": [
            "no. of UEs covered (Reward):  60.0\n",
            "-----------------------------episode  1546 -----------------------------\n",
            "no. of UEs covered (Reward):  50.0\n",
            "-----------------------------episode  1547 -----------------------------\n"
          ]
        },
        {
          "output_type": "stream",
          "name": "stderr",
          "text": [
            " 31%|███       | 1548/5000 [03:47<08:42,  6.61it/s]"
          ]
        },
        {
          "output_type": "stream",
          "name": "stdout",
          "text": [
            "no. of UEs covered (Reward):  130.0\n",
            "-----------------------------episode  1548 -----------------------------\n",
            "no. of UEs covered (Reward):  60.0\n",
            "-----------------------------episode  1549 -----------------------------\n"
          ]
        },
        {
          "output_type": "stream",
          "name": "stderr",
          "text": [
            " 31%|███       | 1550/5000 [03:47<08:38,  6.65it/s]"
          ]
        },
        {
          "output_type": "stream",
          "name": "stdout",
          "text": [
            "no. of UEs covered (Reward):  730.0\n",
            "-----------------------------episode  1550 -----------------------------\n",
            "no. of UEs covered (Reward):  110.0\n",
            "-----------------------------episode  1551 -----------------------------\n"
          ]
        },
        {
          "output_type": "stream",
          "name": "stderr",
          "text": [
            " 31%|███       | 1552/5000 [03:48<08:25,  6.82it/s]"
          ]
        },
        {
          "output_type": "stream",
          "name": "stdout",
          "text": [
            "no. of UEs covered (Reward):  430.0\n",
            "-----------------------------episode  1552 -----------------------------\n",
            "no. of UEs covered (Reward):  80.0\n",
            "-----------------------------episode  1553 -----------------------------\n"
          ]
        },
        {
          "output_type": "stream",
          "name": "stderr",
          "text": [
            " 31%|███       | 1554/5000 [03:48<08:51,  6.48it/s]"
          ]
        },
        {
          "output_type": "stream",
          "name": "stdout",
          "text": [
            "no. of UEs covered (Reward):  390.0\n",
            "-----------------------------episode  1554 -----------------------------\n",
            "no. of UEs covered (Reward):  80.0\n",
            "-----------------------------episode  1555 -----------------------------\n"
          ]
        },
        {
          "output_type": "stream",
          "name": "stderr",
          "text": [
            " 31%|███       | 1556/5000 [03:48<08:53,  6.46it/s]"
          ]
        },
        {
          "output_type": "stream",
          "name": "stdout",
          "text": [
            "no. of UEs covered (Reward):  270.0\n",
            "-----------------------------episode  1556 -----------------------------\n",
            "no. of UEs covered (Reward):  910.0\n",
            "-----------------------------episode  1557 -----------------------------\n"
          ]
        },
        {
          "output_type": "stream",
          "name": "stderr",
          "text": [
            " 31%|███       | 1558/5000 [03:49<08:40,  6.61it/s]"
          ]
        },
        {
          "output_type": "stream",
          "name": "stdout",
          "text": [
            "no. of UEs covered (Reward):  90.0\n",
            "-----------------------------episode  1558 -----------------------------\n",
            "no. of UEs covered (Reward):  840.0\n",
            "-----------------------------episode  1559 -----------------------------\n"
          ]
        },
        {
          "output_type": "stream",
          "name": "stderr",
          "text": [
            " 31%|███       | 1560/5000 [03:49<08:43,  6.57it/s]"
          ]
        },
        {
          "output_type": "stream",
          "name": "stdout",
          "text": [
            "no. of UEs covered (Reward):  140.0\n",
            "-----------------------------episode  1560 -----------------------------\n",
            "no. of UEs covered (Reward):  540.0\n",
            "-----------------------------episode  1561 -----------------------------\n"
          ]
        },
        {
          "output_type": "stream",
          "name": "stderr",
          "text": [
            " 31%|███       | 1562/5000 [03:49<08:28,  6.76it/s]"
          ]
        },
        {
          "output_type": "stream",
          "name": "stdout",
          "text": [
            "no. of UEs covered (Reward):  430.0\n",
            "-----------------------------episode  1562 -----------------------------\n",
            "no. of UEs covered (Reward):  860.0\n",
            "-----------------------------episode  1563 -----------------------------\n"
          ]
        },
        {
          "output_type": "stream",
          "name": "stderr",
          "text": [
            " 31%|███▏      | 1564/5000 [03:50<08:35,  6.66it/s]"
          ]
        },
        {
          "output_type": "stream",
          "name": "stdout",
          "text": [
            "no. of UEs covered (Reward):  620.0\n",
            "-----------------------------episode  1564 -----------------------------\n",
            "no. of UEs covered (Reward):  120.0\n",
            "-----------------------------episode  1565 -----------------------------\n"
          ]
        },
        {
          "output_type": "stream",
          "name": "stderr",
          "text": [
            " 31%|███▏      | 1566/5000 [03:50<08:30,  6.72it/s]"
          ]
        },
        {
          "output_type": "stream",
          "name": "stdout",
          "text": [
            "no. of UEs covered (Reward):  80.0\n",
            "-----------------------------episode  1566 -----------------------------\n",
            "no. of UEs covered (Reward):  630.0\n",
            "-----------------------------episode  1567 -----------------------------\n"
          ]
        },
        {
          "output_type": "stream",
          "name": "stderr",
          "text": [
            " 31%|███▏      | 1568/5000 [03:50<08:38,  6.61it/s]"
          ]
        },
        {
          "output_type": "stream",
          "name": "stdout",
          "text": [
            "no. of UEs covered (Reward):  60.0\n",
            "-----------------------------episode  1568 -----------------------------\n",
            "no. of UEs covered (Reward):  200.0\n",
            "-----------------------------episode  1569 -----------------------------\n"
          ]
        },
        {
          "output_type": "stream",
          "name": "stderr",
          "text": [
            " 31%|███▏      | 1570/5000 [03:50<08:33,  6.68it/s]"
          ]
        },
        {
          "output_type": "stream",
          "name": "stdout",
          "text": [
            "no. of UEs covered (Reward):  70.0\n",
            "-----------------------------episode  1570 -----------------------------\n",
            "no. of UEs covered (Reward):  1370.0\n",
            "-----------------------------episode  1571 -----------------------------\n"
          ]
        },
        {
          "output_type": "stream",
          "name": "stderr",
          "text": [
            " 31%|███▏      | 1572/5000 [03:51<08:23,  6.81it/s]"
          ]
        },
        {
          "output_type": "stream",
          "name": "stdout",
          "text": [
            "no. of UEs covered (Reward):  160.0\n",
            "-----------------------------episode  1572 -----------------------------\n",
            "no. of UEs covered (Reward):  230.0\n",
            "-----------------------------episode  1573 -----------------------------\n"
          ]
        },
        {
          "output_type": "stream",
          "name": "stderr",
          "text": [
            " 31%|███▏      | 1574/5000 [03:51<08:34,  6.65it/s]"
          ]
        },
        {
          "output_type": "stream",
          "name": "stdout",
          "text": [
            "no. of UEs covered (Reward):  140.0\n",
            "-----------------------------episode  1574 -----------------------------\n",
            "no. of UEs covered (Reward):  130.0\n",
            "-----------------------------episode  1575 -----------------------------\n"
          ]
        },
        {
          "output_type": "stream",
          "name": "stderr",
          "text": [
            " 32%|███▏      | 1576/5000 [03:51<08:38,  6.60it/s]"
          ]
        },
        {
          "output_type": "stream",
          "name": "stdout",
          "text": [
            "no. of UEs covered (Reward):  140.0\n",
            "-----------------------------episode  1576 -----------------------------\n",
            "no. of UEs covered (Reward):  100.0\n",
            "-----------------------------episode  1577 -----------------------------\n"
          ]
        },
        {
          "output_type": "stream",
          "name": "stderr",
          "text": [
            " 32%|███▏      | 1578/5000 [03:52<08:30,  6.71it/s]"
          ]
        },
        {
          "output_type": "stream",
          "name": "stdout",
          "text": [
            "no. of UEs covered (Reward):  120.0\n",
            "-----------------------------episode  1578 -----------------------------\n",
            "no. of UEs covered (Reward):  40.0\n",
            "-----------------------------episode  1579 -----------------------------\n"
          ]
        },
        {
          "output_type": "stream",
          "name": "stderr",
          "text": [
            " 32%|███▏      | 1580/5000 [03:52<08:22,  6.81it/s]"
          ]
        },
        {
          "output_type": "stream",
          "name": "stdout",
          "text": [
            "no. of UEs covered (Reward):  70.0\n",
            "-----------------------------episode  1580 -----------------------------\n",
            "no. of UEs covered (Reward):  300.0\n",
            "-----------------------------episode  1581 -----------------------------\n"
          ]
        },
        {
          "output_type": "stream",
          "name": "stderr",
          "text": [
            " 32%|███▏      | 1582/5000 [03:52<08:23,  6.79it/s]"
          ]
        },
        {
          "output_type": "stream",
          "name": "stdout",
          "text": [
            "no. of UEs covered (Reward):  240.0\n",
            "-----------------------------episode  1582 -----------------------------\n",
            "no. of UEs covered (Reward):  80.0\n",
            "-----------------------------episode  1583 -----------------------------\n"
          ]
        },
        {
          "output_type": "stream",
          "name": "stderr",
          "text": [
            " 32%|███▏      | 1584/5000 [03:53<08:30,  6.69it/s]"
          ]
        },
        {
          "output_type": "stream",
          "name": "stdout",
          "text": [
            "no. of UEs covered (Reward):  110.0\n",
            "-----------------------------episode  1584 -----------------------------\n",
            "no. of UEs covered (Reward):  370.0\n",
            "-----------------------------episode  1585 -----------------------------\n"
          ]
        },
        {
          "output_type": "stream",
          "name": "stderr",
          "text": [
            " 32%|███▏      | 1586/5000 [03:53<08:42,  6.53it/s]"
          ]
        },
        {
          "output_type": "stream",
          "name": "stdout",
          "text": [
            "no. of UEs covered (Reward):  730.0\n",
            "-----------------------------episode  1586 -----------------------------\n",
            "no. of UEs covered (Reward):  80.0\n",
            "-----------------------------episode  1587 -----------------------------\n"
          ]
        },
        {
          "output_type": "stream",
          "name": "stderr",
          "text": [
            " 32%|███▏      | 1588/5000 [03:53<09:03,  6.27it/s]"
          ]
        },
        {
          "output_type": "stream",
          "name": "stdout",
          "text": [
            "no. of UEs covered (Reward):  120.0\n",
            "-----------------------------episode  1588 -----------------------------\n",
            "no. of UEs covered (Reward):  150.0\n",
            "-----------------------------episode  1589 -----------------------------\n"
          ]
        },
        {
          "output_type": "stream",
          "name": "stderr",
          "text": [
            " 32%|███▏      | 1590/5000 [03:54<09:41,  5.86it/s]"
          ]
        },
        {
          "output_type": "stream",
          "name": "stdout",
          "text": [
            "no. of UEs covered (Reward):  320.0\n",
            "-----------------------------episode  1590 -----------------------------\n",
            "no. of UEs covered (Reward):  400.0\n"
          ]
        },
        {
          "output_type": "stream",
          "name": "stderr",
          "text": [
            "\r 32%|███▏      | 1591/5000 [03:54<10:14,  5.55it/s]"
          ]
        },
        {
          "output_type": "stream",
          "name": "stdout",
          "text": [
            "-----------------------------episode  1591 -----------------------------\n",
            "no. of UEs covered (Reward):  770.0\n",
            "-----------------------------episode "
          ]
        },
        {
          "output_type": "stream",
          "name": "stderr",
          "text": [
            "\r 32%|███▏      | 1592/5000 [03:54<10:31,  5.40it/s]"
          ]
        },
        {
          "output_type": "stream",
          "name": "stdout",
          "text": [
            " 1592 -----------------------------\n",
            "no. of UEs covered (Reward):  50.0\n",
            "-----------------------------episode  1593 -----------------------------\n"
          ]
        },
        {
          "output_type": "stream",
          "name": "stderr",
          "text": [
            "\r 32%|███▏      | 1593/5000 [03:54<10:58,  5.17it/s]"
          ]
        },
        {
          "output_type": "stream",
          "name": "stdout",
          "text": [
            "no. of UEs covered (Reward):  160.0\n",
            "-----------------------------episode  1594 -----------------------------\n",
            "no. of UEs covered (Reward): "
          ]
        },
        {
          "output_type": "stream",
          "name": "stderr",
          "text": [
            " 32%|███▏      | 1595/5000 [03:55<11:10,  5.08it/s]"
          ]
        },
        {
          "output_type": "stream",
          "name": "stdout",
          "text": [
            " 1360.0\n",
            "-----------------------------episode  1595 -----------------------------\n",
            "no. of UEs covered (Reward):  140.0\n",
            "-----------------------------episode  1596 -----------------------------\n"
          ]
        },
        {
          "output_type": "stream",
          "name": "stderr",
          "text": [
            "\r 32%|███▏      | 1596/5000 [03:55<11:36,  4.89it/s]"
          ]
        },
        {
          "output_type": "stream",
          "name": "stdout",
          "text": [
            "no. of UEs covered (Reward):  80.0\n",
            "-----------------------------episode  1597 -----------------------------\n"
          ]
        },
        {
          "output_type": "stream",
          "name": "stderr",
          "text": [
            "\r 32%|███▏      | 1597/5000 [03:55<11:40,  4.85it/s]"
          ]
        },
        {
          "output_type": "stream",
          "name": "stdout",
          "text": [
            "no. of UEs covered (Reward):  80.0\n",
            "-----------------------------episode  1598 -----------------------------\n"
          ]
        },
        {
          "output_type": "stream",
          "name": "stderr",
          "text": [
            "\r 32%|███▏      | 1598/5000 [03:55<11:53,  4.77it/s]"
          ]
        },
        {
          "output_type": "stream",
          "name": "stdout",
          "text": [
            "no. of UEs covered (Reward):  130.0\n",
            "-----------------------------episode  1599 -----------------------------\n"
          ]
        },
        {
          "output_type": "stream",
          "name": "stderr",
          "text": [
            "\r 32%|███▏      | 1599/5000 [03:55<11:55,  4.75it/s]"
          ]
        },
        {
          "output_type": "stream",
          "name": "stdout",
          "text": [
            "no. of UEs covered (Reward):  100.0\n",
            "-----------------------------episode  1600 -----------------------------\n"
          ]
        },
        {
          "output_type": "stream",
          "name": "stderr",
          "text": [
            "\r 32%|███▏      | 1600/5000 [03:56<12:03,  4.70it/s]"
          ]
        },
        {
          "output_type": "stream",
          "name": "stdout",
          "text": [
            "no. of UEs covered (Reward):  80.0\n",
            "-----------------------------episode  1601 -----------------------------\n"
          ]
        },
        {
          "output_type": "stream",
          "name": "stderr",
          "text": [
            "\r 32%|███▏      | 1601/5000 [03:56<12:39,  4.47it/s]"
          ]
        },
        {
          "output_type": "stream",
          "name": "stdout",
          "text": [
            "no. of UEs covered (Reward):  120.0\n",
            "-----------------------------episode  1602 -----------------------------\n"
          ]
        },
        {
          "output_type": "stream",
          "name": "stderr",
          "text": [
            "\r 32%|███▏      | 1602/5000 [03:56<12:39,  4.48it/s]"
          ]
        },
        {
          "output_type": "stream",
          "name": "stdout",
          "text": [
            "no. of UEs covered (Reward):  60.0\n",
            "-----------------------------episode  1603 -----------------------------\n"
          ]
        },
        {
          "output_type": "stream",
          "name": "stderr",
          "text": [
            " 32%|███▏      | 1604/5000 [03:57<12:10,  4.65it/s]"
          ]
        },
        {
          "output_type": "stream",
          "name": "stdout",
          "text": [
            "no. of UEs covered (Reward):  140.0\n",
            "-----------------------------episode  1604 -----------------------------\n",
            "no. of UEs covered (Reward):  140.0\n",
            "-----------------------------episode  1605 -----------------------------\n"
          ]
        },
        {
          "output_type": "stream",
          "name": "stderr",
          "text": [
            " 32%|███▏      | 1606/5000 [03:57<10:18,  5.49it/s]"
          ]
        },
        {
          "output_type": "stream",
          "name": "stdout",
          "text": [
            "no. of UEs covered (Reward):  600.0\n",
            "-----------------------------episode  1606 -----------------------------\n",
            "no. of UEs covered (Reward):  560.0\n",
            "-----------------------------episode  1607 -----------------------------\n"
          ]
        },
        {
          "output_type": "stream",
          "name": "stderr",
          "text": [
            " 32%|███▏      | 1608/5000 [03:57<09:26,  5.98it/s]"
          ]
        },
        {
          "output_type": "stream",
          "name": "stdout",
          "text": [
            "no. of UEs covered (Reward):  70.0\n",
            "-----------------------------episode  1608 -----------------------------\n",
            "no. of UEs covered (Reward):  460.0\n",
            "-----------------------------episode  1609 -----------------------------\n"
          ]
        },
        {
          "output_type": "stream",
          "name": "stderr",
          "text": [
            " 32%|███▏      | 1610/5000 [03:57<09:05,  6.21it/s]"
          ]
        },
        {
          "output_type": "stream",
          "name": "stdout",
          "text": [
            "no. of UEs covered (Reward):  1060.0\n",
            "-----------------------------episode  1610 -----------------------------\n",
            "no. of UEs covered (Reward):  1010.0\n",
            "-----------------------------episode  1611 -----------------------------\n"
          ]
        },
        {
          "output_type": "stream",
          "name": "stderr",
          "text": [
            " 32%|███▏      | 1612/5000 [03:58<08:53,  6.35it/s]"
          ]
        },
        {
          "output_type": "stream",
          "name": "stdout",
          "text": [
            "no. of UEs covered (Reward):  690.0\n",
            "-----------------------------episode  1612 -----------------------------\n",
            "no. of UEs covered (Reward):  140.0\n",
            "-----------------------------episode  1613 -----------------------------\n"
          ]
        },
        {
          "output_type": "stream",
          "name": "stderr",
          "text": [
            " 32%|███▏      | 1614/5000 [03:58<08:52,  6.36it/s]"
          ]
        },
        {
          "output_type": "stream",
          "name": "stdout",
          "text": [
            "no. of UEs covered (Reward):  40.0\n",
            "-----------------------------episode  1614 -----------------------------\n",
            "no. of UEs covered (Reward):  640.0\n",
            "-----------------------------episode  1615 -----------------------------\n"
          ]
        },
        {
          "output_type": "stream",
          "name": "stderr",
          "text": [
            " 32%|███▏      | 1616/5000 [03:58<08:53,  6.34it/s]"
          ]
        },
        {
          "output_type": "stream",
          "name": "stdout",
          "text": [
            "no. of UEs covered (Reward):  1390.0\n",
            "-----------------------------episode  1616 -----------------------------\n",
            "no. of UEs covered (Reward):  780.0\n",
            "-----------------------------episode  1617 -----------------------------\n"
          ]
        },
        {
          "output_type": "stream",
          "name": "stderr",
          "text": [
            " 32%|███▏      | 1618/5000 [03:59<08:50,  6.38it/s]"
          ]
        },
        {
          "output_type": "stream",
          "name": "stdout",
          "text": [
            "no. of UEs covered (Reward):  1160.0\n",
            "-----------------------------episode  1618 -----------------------------\n",
            "no. of UEs covered (Reward):  100.0\n",
            "-----------------------------episode  1619 -----------------------------\n"
          ]
        },
        {
          "output_type": "stream",
          "name": "stderr",
          "text": [
            " 32%|███▏      | 1620/5000 [03:59<08:33,  6.59it/s]"
          ]
        },
        {
          "output_type": "stream",
          "name": "stdout",
          "text": [
            "no. of UEs covered (Reward):  120.0\n",
            "-----------------------------episode  1620 -----------------------------\n",
            "no. of UEs covered (Reward):  980.0\n",
            "-----------------------------episode  1621 -----------------------------\n"
          ]
        },
        {
          "output_type": "stream",
          "name": "stderr",
          "text": [
            " 32%|███▏      | 1622/5000 [03:59<08:37,  6.53it/s]"
          ]
        },
        {
          "output_type": "stream",
          "name": "stdout",
          "text": [
            "no. of UEs covered (Reward):  90.0\n",
            "-----------------------------episode  1622 -----------------------------\n",
            "no. of UEs covered (Reward):  120.0\n",
            "-----------------------------episode  1623 -----------------------------\n"
          ]
        },
        {
          "output_type": "stream",
          "name": "stderr",
          "text": [
            " 32%|███▏      | 1624/5000 [04:00<08:48,  6.39it/s]"
          ]
        },
        {
          "output_type": "stream",
          "name": "stdout",
          "text": [
            "no. of UEs covered (Reward):  140.0\n",
            "-----------------------------episode  1624 -----------------------------\n",
            "no. of UEs covered (Reward):  70.0\n",
            "-----------------------------episode  1625 -----------------------------\n"
          ]
        },
        {
          "output_type": "stream",
          "name": "stderr",
          "text": [
            " 33%|███▎      | 1626/5000 [04:00<08:42,  6.45it/s]"
          ]
        },
        {
          "output_type": "stream",
          "name": "stdout",
          "text": [
            "no. of UEs covered (Reward):  110.0\n",
            "-----------------------------episode  1626 -----------------------------\n",
            "no. of UEs covered (Reward):  120.0\n",
            "-----------------------------episode  1627 -----------------------------\n"
          ]
        },
        {
          "output_type": "stream",
          "name": "stderr",
          "text": [
            " 33%|███▎      | 1628/5000 [04:00<08:50,  6.36it/s]"
          ]
        },
        {
          "output_type": "stream",
          "name": "stdout",
          "text": [
            "no. of UEs covered (Reward):  40.0\n",
            "-----------------------------episode  1628 -----------------------------\n",
            "no. of UEs covered (Reward):  80.0\n",
            "-----------------------------episode  1629 -----------------------------\n"
          ]
        },
        {
          "output_type": "stream",
          "name": "stderr",
          "text": [
            " 33%|███▎      | 1630/5000 [04:01<08:43,  6.44it/s]"
          ]
        },
        {
          "output_type": "stream",
          "name": "stdout",
          "text": [
            "no. of UEs covered (Reward):  120.0\n",
            "-----------------------------episode  1630 -----------------------------\n",
            "no. of UEs covered (Reward):  60.0\n",
            "-----------------------------episode  1631 -----------------------------\n"
          ]
        },
        {
          "output_type": "stream",
          "name": "stderr",
          "text": [
            " 33%|███▎      | 1632/5000 [04:01<08:33,  6.56it/s]"
          ]
        },
        {
          "output_type": "stream",
          "name": "stdout",
          "text": [
            "no. of UEs covered (Reward):  840.0\n",
            "-----------------------------episode  1632 -----------------------------\n",
            "no. of UEs covered (Reward):  280.0\n",
            "-----------------------------episode  1633 -----------------------------\n"
          ]
        },
        {
          "output_type": "stream",
          "name": "stderr",
          "text": [
            " 33%|███▎      | 1634/5000 [04:02<12:47,  4.39it/s]"
          ]
        },
        {
          "output_type": "stream",
          "name": "stdout",
          "text": [
            "no. of UEs covered (Reward):  110.0\n",
            "-----------------------------episode  1634 -----------------------------\n",
            "no. of UEs covered (Reward):  1360.0\n",
            "-----------------------------episode  1635 -----------------------------\n"
          ]
        },
        {
          "output_type": "stream",
          "name": "stderr",
          "text": [
            " 33%|███▎      | 1636/5000 [04:02<10:26,  5.37it/s]"
          ]
        },
        {
          "output_type": "stream",
          "name": "stdout",
          "text": [
            "no. of UEs covered (Reward):  40.0\n",
            "-----------------------------episode  1636 -----------------------------\n",
            "no. of UEs covered (Reward):  70.0\n",
            "-----------------------------episode  1637 -----------------------------\n"
          ]
        },
        {
          "output_type": "stream",
          "name": "stderr",
          "text": [
            " 33%|███▎      | 1638/5000 [04:02<09:19,  6.01it/s]"
          ]
        },
        {
          "output_type": "stream",
          "name": "stdout",
          "text": [
            "no. of UEs covered (Reward):  90.0\n",
            "-----------------------------episode  1638 -----------------------------\n",
            "no. of UEs covered (Reward):  40.0\n",
            "-----------------------------episode  1639 -----------------------------\n"
          ]
        },
        {
          "output_type": "stream",
          "name": "stderr",
          "text": [
            " 33%|███▎      | 1640/5000 [04:02<08:59,  6.23it/s]"
          ]
        },
        {
          "output_type": "stream",
          "name": "stdout",
          "text": [
            "no. of UEs covered (Reward):  120.0\n",
            "-----------------------------episode  1640 -----------------------------\n",
            "no. of UEs covered (Reward):  80.0\n",
            "-----------------------------episode  1641 -----------------------------\n"
          ]
        },
        {
          "output_type": "stream",
          "name": "stderr",
          "text": [
            " 33%|███▎      | 1642/5000 [04:03<08:48,  6.36it/s]"
          ]
        },
        {
          "output_type": "stream",
          "name": "stdout",
          "text": [
            "no. of UEs covered (Reward):  310.0\n",
            "-----------------------------episode  1642 -----------------------------\n",
            "no. of UEs covered (Reward):  750.0\n",
            "-----------------------------episode  1643 -----------------------------\n"
          ]
        },
        {
          "output_type": "stream",
          "name": "stderr",
          "text": [
            " 33%|███▎      | 1644/5000 [04:03<08:37,  6.48it/s]"
          ]
        },
        {
          "output_type": "stream",
          "name": "stdout",
          "text": [
            "no. of UEs covered (Reward):  70.0\n",
            "-----------------------------episode  1644 -----------------------------\n",
            "no. of UEs covered (Reward):  60.0\n",
            "-----------------------------episode  1645 -----------------------------\n"
          ]
        },
        {
          "output_type": "stream",
          "name": "stderr",
          "text": [
            " 33%|███▎      | 1646/5000 [04:03<08:44,  6.39it/s]"
          ]
        },
        {
          "output_type": "stream",
          "name": "stdout",
          "text": [
            "no. of UEs covered (Reward):  90.0\n",
            "-----------------------------episode  1646 -----------------------------\n",
            "no. of UEs covered (Reward):  70.0\n",
            "-----------------------------episode  1647 -----------------------------\n"
          ]
        },
        {
          "output_type": "stream",
          "name": "stderr",
          "text": [
            " 33%|███▎      | 1648/5000 [04:04<08:31,  6.56it/s]"
          ]
        },
        {
          "output_type": "stream",
          "name": "stdout",
          "text": [
            "no. of UEs covered (Reward):  80.0\n",
            "-----------------------------episode  1648 -----------------------------\n",
            "no. of UEs covered (Reward):  80.0\n",
            "-----------------------------episode  1649 -----------------------------\n"
          ]
        },
        {
          "output_type": "stream",
          "name": "stderr",
          "text": [
            " 33%|███▎      | 1650/5000 [04:04<08:40,  6.44it/s]"
          ]
        },
        {
          "output_type": "stream",
          "name": "stdout",
          "text": [
            "no. of UEs covered (Reward):  90.0\n",
            "-----------------------------episode  1650 -----------------------------\n",
            "no. of UEs covered (Reward):  70.0\n",
            "-----------------------------episode  1651 -----------------------------\n"
          ]
        },
        {
          "output_type": "stream",
          "name": "stderr",
          "text": [
            " 33%|███▎      | 1652/5000 [04:04<08:41,  6.42it/s]"
          ]
        },
        {
          "output_type": "stream",
          "name": "stdout",
          "text": [
            "no. of UEs covered (Reward):  1380.0\n",
            "-----------------------------episode  1652 -----------------------------\n",
            "no. of UEs covered (Reward):  50.0\n",
            "-----------------------------episode  1653 -----------------------------\n"
          ]
        },
        {
          "output_type": "stream",
          "name": "stderr",
          "text": [
            " 33%|███▎      | 1654/5000 [04:05<08:27,  6.60it/s]"
          ]
        },
        {
          "output_type": "stream",
          "name": "stdout",
          "text": [
            "no. of UEs covered (Reward):  280.0\n",
            "-----------------------------episode  1654 -----------------------------\n",
            "no. of UEs covered (Reward):  1140.0\n",
            "-----------------------------episode  1655 -----------------------------\n"
          ]
        },
        {
          "output_type": "stream",
          "name": "stderr",
          "text": [
            " 33%|███▎      | 1656/5000 [04:05<08:26,  6.60it/s]"
          ]
        },
        {
          "output_type": "stream",
          "name": "stdout",
          "text": [
            "no. of UEs covered (Reward):  1300.0\n",
            "-----------------------------episode  1656 -----------------------------\n",
            "no. of UEs covered (Reward):  1250.0\n",
            "-----------------------------episode  1657 -----------------------------\n"
          ]
        },
        {
          "output_type": "stream",
          "name": "stderr",
          "text": [
            " 33%|███▎      | 1658/5000 [04:05<08:34,  6.49it/s]"
          ]
        },
        {
          "output_type": "stream",
          "name": "stdout",
          "text": [
            "no. of UEs covered (Reward):  110.0\n",
            "-----------------------------episode  1658 -----------------------------\n",
            "no. of UEs covered (Reward):  80.0\n",
            "-----------------------------episode  1659 -----------------------------\n"
          ]
        },
        {
          "output_type": "stream",
          "name": "stderr",
          "text": [
            " 33%|███▎      | 1660/5000 [04:06<08:44,  6.37it/s]"
          ]
        },
        {
          "output_type": "stream",
          "name": "stdout",
          "text": [
            "no. of UEs covered (Reward):  1220.0\n",
            "-----------------------------episode  1660 -----------------------------\n",
            "no. of UEs covered (Reward):  760.0\n",
            "-----------------------------episode  1661 -----------------------------\n"
          ]
        },
        {
          "output_type": "stream",
          "name": "stderr",
          "text": [
            " 33%|███▎      | 1662/5000 [04:06<08:32,  6.52it/s]"
          ]
        },
        {
          "output_type": "stream",
          "name": "stdout",
          "text": [
            "no. of UEs covered (Reward):  1210.0\n",
            "-----------------------------episode  1662 -----------------------------\n",
            "no. of UEs covered (Reward):  70.0\n",
            "-----------------------------episode  1663 -----------------------------\n"
          ]
        },
        {
          "output_type": "stream",
          "name": "stderr",
          "text": [
            " 33%|███▎      | 1664/5000 [04:06<08:34,  6.48it/s]"
          ]
        },
        {
          "output_type": "stream",
          "name": "stdout",
          "text": [
            "no. of UEs covered (Reward):  270.0\n",
            "-----------------------------episode  1664 -----------------------------\n",
            "no. of UEs covered (Reward):  290.0\n",
            "-----------------------------episode  1665 -----------------------------\n"
          ]
        },
        {
          "output_type": "stream",
          "name": "stderr",
          "text": [
            " 33%|███▎      | 1666/5000 [04:06<08:53,  6.25it/s]"
          ]
        },
        {
          "output_type": "stream",
          "name": "stdout",
          "text": [
            "no. of UEs covered (Reward):  80.0\n",
            "-----------------------------episode  1666 -----------------------------\n",
            "no. of UEs covered (Reward):  1050.0\n",
            "-----------------------------episode  1667 -----------------------------\n"
          ]
        },
        {
          "output_type": "stream",
          "name": "stderr",
          "text": [
            "\r 33%|███▎      | 1667/5000 [04:07<10:04,  5.52it/s]"
          ]
        },
        {
          "output_type": "stream",
          "name": "stdout",
          "text": [
            "no. of UEs covered (Reward):  70.0\n",
            "-----------------------------episode  1668 -----------------------------\n"
          ]
        },
        {
          "output_type": "stream",
          "name": "stderr",
          "text": [
            "\r 33%|███▎      | 1668/5000 [04:07<10:49,  5.13it/s]"
          ]
        },
        {
          "output_type": "stream",
          "name": "stdout",
          "text": [
            "no. of UEs covered (Reward):  790.0\n",
            "-----------------------------episode  1669 -----------------------------\n"
          ]
        },
        {
          "output_type": "stream",
          "name": "stderr",
          "text": [
            "\r 33%|███▎      | 1669/5000 [04:07<11:12,  4.95it/s]"
          ]
        },
        {
          "output_type": "stream",
          "name": "stdout",
          "text": [
            "no. of UEs covered (Reward):  120.0\n",
            "-----------------------------episode  1670 -----------------------------\n"
          ]
        },
        {
          "output_type": "stream",
          "name": "stderr",
          "text": [
            "\r 33%|███▎      | 1670/5000 [04:07<11:44,  4.73it/s]"
          ]
        },
        {
          "output_type": "stream",
          "name": "stdout",
          "text": [
            "no. of UEs covered (Reward):  340.0\n",
            "-----------------------------episode  1671 -----------------------------\n"
          ]
        },
        {
          "output_type": "stream",
          "name": "stderr",
          "text": [
            "\r 33%|███▎      | 1671/5000 [04:08<11:47,  4.71it/s]"
          ]
        },
        {
          "output_type": "stream",
          "name": "stdout",
          "text": [
            "no. of UEs covered (Reward):  1360.0\n",
            "-----------------------------episode  1672 -----------------------------\n"
          ]
        },
        {
          "output_type": "stream",
          "name": "stderr",
          "text": [
            "\r 33%|███▎      | 1672/5000 [04:08<11:52,  4.67it/s]"
          ]
        },
        {
          "output_type": "stream",
          "name": "stdout",
          "text": [
            "no. of UEs covered (Reward):  1370.0\n",
            "-----------------------------episode  1673 -----------------------------\n"
          ]
        },
        {
          "output_type": "stream",
          "name": "stderr",
          "text": [
            "\r 33%|███▎      | 1673/5000 [04:08<12:24,  4.47it/s]"
          ]
        },
        {
          "output_type": "stream",
          "name": "stdout",
          "text": [
            "no. of UEs covered (Reward):  70.0\n",
            "-----------------------------episode  1674 -----------------------------\n"
          ]
        },
        {
          "output_type": "stream",
          "name": "stderr",
          "text": [
            "\r 33%|███▎      | 1674/5000 [04:08<12:13,  4.53it/s]"
          ]
        },
        {
          "output_type": "stream",
          "name": "stdout",
          "text": [
            "no. of UEs covered (Reward):  1370.0\n",
            "-----------------------------episode  1675 -----------------------------\n"
          ]
        },
        {
          "output_type": "stream",
          "name": "stderr",
          "text": [
            "\r 34%|███▎      | 1675/5000 [04:08<12:24,  4.46it/s]"
          ]
        },
        {
          "output_type": "stream",
          "name": "stdout",
          "text": [
            "no. of UEs covered (Reward):  60.0\n",
            "-----------------------------episode  1676 -----------------------------\n"
          ]
        },
        {
          "output_type": "stream",
          "name": "stderr",
          "text": [
            "\r 34%|███▎      | 1676/5000 [04:09<12:18,  4.50it/s]"
          ]
        },
        {
          "output_type": "stream",
          "name": "stdout",
          "text": [
            "no. of UEs covered (Reward):  130.0\n",
            "-----------------------------episode  1677 -----------------------------\n"
          ]
        },
        {
          "output_type": "stream",
          "name": "stderr",
          "text": [
            "\r 34%|███▎      | 1677/5000 [04:09<12:24,  4.46it/s]"
          ]
        },
        {
          "output_type": "stream",
          "name": "stdout",
          "text": [
            "no. of UEs covered (Reward):  60.0\n",
            "-----------------------------episode  1678 -----------------------------\n"
          ]
        },
        {
          "output_type": "stream",
          "name": "stderr",
          "text": [
            "\r 34%|███▎      | 1678/5000 [04:09<12:30,  4.43it/s]"
          ]
        },
        {
          "output_type": "stream",
          "name": "stdout",
          "text": [
            "no. of UEs covered (Reward):  60.0\n",
            "-----------------------------episode  1679 -----------------------------\n"
          ]
        },
        {
          "output_type": "stream",
          "name": "stderr",
          "text": [
            " 34%|███▎      | 1680/5000 [04:10<11:56,  4.63it/s]"
          ]
        },
        {
          "output_type": "stream",
          "name": "stdout",
          "text": [
            "no. of UEs covered (Reward):  1370.0\n",
            "-----------------------------episode  1680 -----------------------------\n",
            "no. of UEs covered (Reward):  70.0\n",
            "-----------------------------episode  1681 -----------------------------\n"
          ]
        },
        {
          "output_type": "stream",
          "name": "stderr",
          "text": [
            " 34%|███▎      | 1682/5000 [04:10<10:15,  5.39it/s]"
          ]
        },
        {
          "output_type": "stream",
          "name": "stdout",
          "text": [
            "no. of UEs covered (Reward):  80.0\n",
            "-----------------------------episode  1682 -----------------------------\n",
            "no. of UEs covered (Reward):  220.0\n",
            "-----------------------------episode  1683 -----------------------------\n"
          ]
        },
        {
          "output_type": "stream",
          "name": "stderr",
          "text": [
            " 34%|███▎      | 1684/5000 [04:10<09:33,  5.78it/s]"
          ]
        },
        {
          "output_type": "stream",
          "name": "stdout",
          "text": [
            "no. of UEs covered (Reward):  1370.0\n",
            "-----------------------------episode  1684 -----------------------------\n",
            "no. of UEs covered (Reward):  840.0\n",
            "-----------------------------episode  1685 -----------------------------\n"
          ]
        },
        {
          "output_type": "stream",
          "name": "stderr",
          "text": [
            " 34%|███▎      | 1686/5000 [04:11<09:01,  6.12it/s]"
          ]
        },
        {
          "output_type": "stream",
          "name": "stdout",
          "text": [
            "no. of UEs covered (Reward):  50.0\n",
            "-----------------------------episode  1686 -----------------------------\n",
            "no. of UEs covered (Reward):  570.0\n",
            "-----------------------------episode  1687 -----------------------------\n"
          ]
        },
        {
          "output_type": "stream",
          "name": "stderr",
          "text": [
            " 34%|███▍      | 1688/5000 [04:11<08:39,  6.38it/s]"
          ]
        },
        {
          "output_type": "stream",
          "name": "stdout",
          "text": [
            "no. of UEs covered (Reward):  580.0\n",
            "-----------------------------episode  1688 -----------------------------\n",
            "no. of UEs covered (Reward):  150.0\n",
            "-----------------------------episode  1689 -----------------------------\n"
          ]
        },
        {
          "output_type": "stream",
          "name": "stderr",
          "text": [
            " 34%|███▍      | 1690/5000 [04:11<08:36,  6.41it/s]"
          ]
        },
        {
          "output_type": "stream",
          "name": "stdout",
          "text": [
            "no. of UEs covered (Reward):  540.0\n",
            "-----------------------------episode  1690 -----------------------------\n",
            "no. of UEs covered (Reward):  1370.0\n",
            "-----------------------------episode  1691 -----------------------------\n"
          ]
        },
        {
          "output_type": "stream",
          "name": "stderr",
          "text": [
            " 34%|███▍      | 1692/5000 [04:11<08:37,  6.39it/s]"
          ]
        },
        {
          "output_type": "stream",
          "name": "stdout",
          "text": [
            "no. of UEs covered (Reward):  70.0\n",
            "-----------------------------episode  1692 -----------------------------\n",
            "no. of UEs covered (Reward):  70.0\n",
            "-----------------------------episode  1693 -----------------------------\n"
          ]
        },
        {
          "output_type": "stream",
          "name": "stderr",
          "text": [
            " 34%|███▍      | 1694/5000 [04:12<08:35,  6.41it/s]"
          ]
        },
        {
          "output_type": "stream",
          "name": "stdout",
          "text": [
            "no. of UEs covered (Reward):  150.0\n",
            "-----------------------------episode  1694 -----------------------------\n",
            "no. of UEs covered (Reward):  80.0\n",
            "-----------------------------episode  1695 -----------------------------\n"
          ]
        },
        {
          "output_type": "stream",
          "name": "stderr",
          "text": [
            " 34%|███▍      | 1696/5000 [04:12<08:29,  6.49it/s]"
          ]
        },
        {
          "output_type": "stream",
          "name": "stdout",
          "text": [
            "no. of UEs covered (Reward):  150.0\n",
            "-----------------------------episode  1696 -----------------------------\n",
            "no. of UEs covered (Reward):  140.0\n",
            "-----------------------------episode  1697 -----------------------------\n"
          ]
        },
        {
          "output_type": "stream",
          "name": "stderr",
          "text": [
            " 34%|███▍      | 1698/5000 [04:12<08:24,  6.54it/s]"
          ]
        },
        {
          "output_type": "stream",
          "name": "stdout",
          "text": [
            "no. of UEs covered (Reward):  1290.0\n",
            "-----------------------------episode  1698 -----------------------------\n",
            "no. of UEs covered (Reward):  100.0\n",
            "-----------------------------episode  1699 -----------------------------\n"
          ]
        },
        {
          "output_type": "stream",
          "name": "stderr",
          "text": [
            " 34%|███▍      | 1700/5000 [04:13<08:29,  6.48it/s]"
          ]
        },
        {
          "output_type": "stream",
          "name": "stdout",
          "text": [
            "no. of UEs covered (Reward):  150.0\n",
            "-----------------------------episode  1700 -----------------------------\n",
            "no. of UEs covered (Reward):  110.0\n",
            "-----------------------------episode  1701 -----------------------------\n"
          ]
        },
        {
          "output_type": "stream",
          "name": "stderr",
          "text": [
            " 34%|███▍      | 1702/5000 [04:13<08:31,  6.45it/s]"
          ]
        },
        {
          "output_type": "stream",
          "name": "stdout",
          "text": [
            "no. of UEs covered (Reward):  140.0\n",
            "-----------------------------episode  1702 -----------------------------\n",
            "no. of UEs covered (Reward):  160.0\n",
            "-----------------------------episode  1703 -----------------------------\n"
          ]
        },
        {
          "output_type": "stream",
          "name": "stderr",
          "text": [
            " 34%|███▍      | 1704/5000 [04:13<08:24,  6.54it/s]"
          ]
        },
        {
          "output_type": "stream",
          "name": "stdout",
          "text": [
            "no. of UEs covered (Reward):  130.0\n",
            "-----------------------------episode  1704 -----------------------------\n",
            "no. of UEs covered (Reward):  1380.0\n",
            "-----------------------------episode  1705 -----------------------------\n"
          ]
        },
        {
          "output_type": "stream",
          "name": "stderr",
          "text": [
            " 34%|███▍      | 1706/5000 [04:14<08:41,  6.32it/s]"
          ]
        },
        {
          "output_type": "stream",
          "name": "stdout",
          "text": [
            "no. of UEs covered (Reward):  520.0\n",
            "-----------------------------episode  1706 -----------------------------\n",
            "no. of UEs covered (Reward):  640.0\n",
            "-----------------------------episode  1707 -----------------------------\n"
          ]
        },
        {
          "output_type": "stream",
          "name": "stderr",
          "text": [
            " 34%|███▍      | 1708/5000 [04:14<08:33,  6.41it/s]"
          ]
        },
        {
          "output_type": "stream",
          "name": "stdout",
          "text": [
            "no. of UEs covered (Reward):  50.0\n",
            "-----------------------------episode  1708 -----------------------------\n",
            "no. of UEs covered (Reward):  1260.0\n",
            "-----------------------------episode  1709 -----------------------------\n"
          ]
        },
        {
          "output_type": "stream",
          "name": "stderr",
          "text": [
            " 34%|███▍      | 1710/5000 [04:14<08:28,  6.47it/s]"
          ]
        },
        {
          "output_type": "stream",
          "name": "stdout",
          "text": [
            "no. of UEs covered (Reward):  70.0\n",
            "-----------------------------episode  1710 -----------------------------\n",
            "no. of UEs covered (Reward):  710.0\n",
            "-----------------------------episode  1711 -----------------------------\n"
          ]
        },
        {
          "output_type": "stream",
          "name": "stderr",
          "text": [
            " 34%|███▍      | 1712/5000 [04:15<08:18,  6.60it/s]"
          ]
        },
        {
          "output_type": "stream",
          "name": "stdout",
          "text": [
            "no. of UEs covered (Reward):  100.0\n",
            "-----------------------------episode  1712 -----------------------------\n",
            "no. of UEs covered (Reward):  310.0\n",
            "-----------------------------episode  1713 -----------------------------\n"
          ]
        },
        {
          "output_type": "stream",
          "name": "stderr",
          "text": [
            " 34%|███▍      | 1714/5000 [04:15<08:31,  6.43it/s]"
          ]
        },
        {
          "output_type": "stream",
          "name": "stdout",
          "text": [
            "no. of UEs covered (Reward):  1380.0\n",
            "-----------------------------episode  1714 -----------------------------\n",
            "no. of UEs covered (Reward):  80.0\n",
            "-----------------------------episode  1715 -----------------------------\n"
          ]
        },
        {
          "output_type": "stream",
          "name": "stderr",
          "text": [
            " 34%|███▍      | 1716/5000 [04:15<08:35,  6.38it/s]"
          ]
        },
        {
          "output_type": "stream",
          "name": "stdout",
          "text": [
            "no. of UEs covered (Reward):  810.0\n",
            "-----------------------------episode  1716 -----------------------------\n",
            "no. of UEs covered (Reward):  60.0\n",
            "-----------------------------episode  1717 -----------------------------\n"
          ]
        },
        {
          "output_type": "stream",
          "name": "stderr",
          "text": [
            " 34%|███▍      | 1718/5000 [04:16<08:29,  6.44it/s]"
          ]
        },
        {
          "output_type": "stream",
          "name": "stdout",
          "text": [
            "no. of UEs covered (Reward):  470.0\n",
            "-----------------------------episode  1718 -----------------------------\n",
            "no. of UEs covered (Reward):  120.0\n",
            "-----------------------------episode  1719 -----------------------------\n"
          ]
        },
        {
          "output_type": "stream",
          "name": "stderr",
          "text": [
            " 34%|███▍      | 1720/5000 [04:16<08:32,  6.40it/s]"
          ]
        },
        {
          "output_type": "stream",
          "name": "stdout",
          "text": [
            "no. of UEs covered (Reward):  900.0\n",
            "-----------------------------episode  1720 -----------------------------\n",
            "no. of UEs covered (Reward):  1370.0\n",
            "-----------------------------episode  1721 -----------------------------\n"
          ]
        },
        {
          "output_type": "stream",
          "name": "stderr",
          "text": [
            " 34%|███▍      | 1722/5000 [04:16<08:30,  6.42it/s]"
          ]
        },
        {
          "output_type": "stream",
          "name": "stdout",
          "text": [
            "no. of UEs covered (Reward):  1370.0\n",
            "-----------------------------episode  1722 -----------------------------\n",
            "no. of UEs covered (Reward):  1310.0\n",
            "-----------------------------episode  1723 -----------------------------\n"
          ]
        },
        {
          "output_type": "stream",
          "name": "stderr",
          "text": [
            " 34%|███▍      | 1724/5000 [04:16<08:22,  6.52it/s]"
          ]
        },
        {
          "output_type": "stream",
          "name": "stdout",
          "text": [
            "no. of UEs covered (Reward):  70.0\n",
            "-----------------------------episode  1724 -----------------------------\n",
            "no. of UEs covered (Reward):  190.0\n",
            "-----------------------------episode  1725 -----------------------------\n"
          ]
        },
        {
          "output_type": "stream",
          "name": "stderr",
          "text": [
            " 35%|███▍      | 1726/5000 [04:17<08:23,  6.50it/s]"
          ]
        },
        {
          "output_type": "stream",
          "name": "stdout",
          "text": [
            "no. of UEs covered (Reward):  110.0\n",
            "-----------------------------episode  1726 -----------------------------\n",
            "no. of UEs covered (Reward):  210.0\n",
            "-----------------------------episode  1727 -----------------------------\n"
          ]
        },
        {
          "output_type": "stream",
          "name": "stderr",
          "text": [
            " 35%|███▍      | 1728/5000 [04:17<08:28,  6.44it/s]"
          ]
        },
        {
          "output_type": "stream",
          "name": "stdout",
          "text": [
            "no. of UEs covered (Reward):  330.0\n",
            "-----------------------------episode  1728 -----------------------------\n",
            "no. of UEs covered (Reward):  860.0\n",
            "-----------------------------episode  1729 -----------------------------\n"
          ]
        },
        {
          "output_type": "stream",
          "name": "stderr",
          "text": [
            " 35%|███▍      | 1730/5000 [04:17<08:29,  6.41it/s]"
          ]
        },
        {
          "output_type": "stream",
          "name": "stdout",
          "text": [
            "no. of UEs covered (Reward):  710.0\n",
            "-----------------------------episode  1730 -----------------------------\n",
            "no. of UEs covered (Reward):  810.0\n",
            "-----------------------------episode  1731 -----------------------------\n"
          ]
        },
        {
          "output_type": "stream",
          "name": "stderr",
          "text": [
            " 35%|███▍      | 1732/5000 [04:18<08:38,  6.31it/s]"
          ]
        },
        {
          "output_type": "stream",
          "name": "stdout",
          "text": [
            "no. of UEs covered (Reward):  100.0\n",
            "-----------------------------episode  1732 -----------------------------\n",
            "no. of UEs covered (Reward):  70.0\n",
            "-----------------------------episode  1733 -----------------------------\n"
          ]
        },
        {
          "output_type": "stream",
          "name": "stderr",
          "text": [
            " 35%|███▍      | 1734/5000 [04:18<08:30,  6.40it/s]"
          ]
        },
        {
          "output_type": "stream",
          "name": "stdout",
          "text": [
            "no. of UEs covered (Reward):  210.0\n",
            "-----------------------------episode  1734 -----------------------------\n",
            "no. of UEs covered (Reward):  1330.0\n",
            "-----------------------------episode  1735 -----------------------------\n"
          ]
        },
        {
          "output_type": "stream",
          "name": "stderr",
          "text": [
            " 35%|███▍      | 1736/5000 [04:18<08:28,  6.41it/s]"
          ]
        },
        {
          "output_type": "stream",
          "name": "stdout",
          "text": [
            "no. of UEs covered (Reward):  90.0\n",
            "-----------------------------episode  1736 -----------------------------\n",
            "no. of UEs covered (Reward):  1170.0\n",
            "-----------------------------episode  1737 -----------------------------\n"
          ]
        },
        {
          "output_type": "stream",
          "name": "stderr",
          "text": [
            " 35%|███▍      | 1738/5000 [04:19<08:31,  6.37it/s]"
          ]
        },
        {
          "output_type": "stream",
          "name": "stdout",
          "text": [
            "no. of UEs covered (Reward):  80.0\n",
            "-----------------------------episode  1738 -----------------------------\n",
            "no. of UEs covered (Reward):  690.0\n",
            "-----------------------------episode  1739 -----------------------------\n"
          ]
        },
        {
          "output_type": "stream",
          "name": "stderr",
          "text": [
            " 35%|███▍      | 1740/5000 [04:19<08:26,  6.43it/s]"
          ]
        },
        {
          "output_type": "stream",
          "name": "stdout",
          "text": [
            "no. of UEs covered (Reward):  750.0\n",
            "-----------------------------episode  1740 -----------------------------\n",
            "no. of UEs covered (Reward):  800.0\n",
            "-----------------------------episode  1741 -----------------------------\n"
          ]
        },
        {
          "output_type": "stream",
          "name": "stderr",
          "text": [
            " 35%|███▍      | 1742/5000 [04:19<08:20,  6.51it/s]"
          ]
        },
        {
          "output_type": "stream",
          "name": "stdout",
          "text": [
            "no. of UEs covered (Reward):  970.0\n",
            "-----------------------------episode  1742 -----------------------------\n",
            "no. of UEs covered (Reward):  430.0\n",
            "-----------------------------episode  1743 -----------------------------\n"
          ]
        },
        {
          "output_type": "stream",
          "name": "stderr",
          "text": [
            " 35%|███▍      | 1744/5000 [04:20<08:48,  6.16it/s]"
          ]
        },
        {
          "output_type": "stream",
          "name": "stdout",
          "text": [
            "no. of UEs covered (Reward):  90.0\n",
            "-----------------------------episode  1744 -----------------------------\n",
            "no. of UEs covered (Reward):  760.0\n",
            "-----------------------------episode  1745 -----------------------------\n"
          ]
        },
        {
          "output_type": "stream",
          "name": "stderr",
          "text": [
            " 35%|███▍      | 1746/5000 [04:20<10:11,  5.32it/s]"
          ]
        },
        {
          "output_type": "stream",
          "name": "stdout",
          "text": [
            "no. of UEs covered (Reward):  940.0\n",
            "-----------------------------episode  1746 -----------------------------\n",
            "no. of UEs covered (Reward):  700.0\n",
            "-----------------------------episode  1747 -----------------------------\n"
          ]
        },
        {
          "output_type": "stream",
          "name": "stderr",
          "text": [
            " 35%|███▍      | 1748/5000 [04:20<10:32,  5.14it/s]"
          ]
        },
        {
          "output_type": "stream",
          "name": "stdout",
          "text": [
            "no. of UEs covered (Reward):  950.0\n",
            "-----------------------------episode  1748 -----------------------------\n",
            "no. of UEs covered (Reward):  940.0\n",
            "-----------------------------episode  1749 -----------------------------\n"
          ]
        },
        {
          "output_type": "stream",
          "name": "stderr",
          "text": [
            "\r 35%|███▍      | 1749/5000 [04:21<10:43,  5.05it/s]"
          ]
        },
        {
          "output_type": "stream",
          "name": "stdout",
          "text": [
            "no. of UEs covered (Reward):  440.0\n",
            "-----------------------------episode  1750 -----------------------------\n"
          ]
        },
        {
          "output_type": "stream",
          "name": "stderr",
          "text": [
            "\r 35%|███▌      | 1750/5000 [04:21<10:53,  4.97it/s]"
          ]
        },
        {
          "output_type": "stream",
          "name": "stdout",
          "text": [
            "no. of UEs covered (Reward):  210.0\n",
            "-----------------------------episode  1751 -----------------------------\n"
          ]
        },
        {
          "output_type": "stream",
          "name": "stderr",
          "text": [
            "\r 35%|███▌      | 1751/5000 [04:21<11:00,  4.92it/s]"
          ]
        },
        {
          "output_type": "stream",
          "name": "stdout",
          "text": [
            "no. of UEs covered (Reward):  870.0\n",
            "-----------------------------episode  1752 -----------------------------\n"
          ]
        },
        {
          "output_type": "stream",
          "name": "stderr",
          "text": [
            "\r 35%|███▌      | 1752/5000 [04:21<11:21,  4.77it/s]"
          ]
        },
        {
          "output_type": "stream",
          "name": "stdout",
          "text": [
            "no. of UEs covered (Reward):  1310.0\n",
            "-----------------------------episode  1753 -----------------------------\n"
          ]
        },
        {
          "output_type": "stream",
          "name": "stderr",
          "text": [
            "\r 35%|███▌      | 1753/5000 [04:21<11:14,  4.82it/s]"
          ]
        },
        {
          "output_type": "stream",
          "name": "stdout",
          "text": [
            "no. of UEs covered (Reward):  960.0\n",
            "-----------------------------episode  1754 -----------------------------\n"
          ]
        },
        {
          "output_type": "stream",
          "name": "stderr",
          "text": [
            "\r 35%|███▌      | 1754/5000 [04:22<11:16,  4.80it/s]"
          ]
        },
        {
          "output_type": "stream",
          "name": "stdout",
          "text": [
            "no. of UEs covered (Reward):  130.0\n",
            "-----------------------------episode  1755 -----------------------------\n"
          ]
        },
        {
          "output_type": "stream",
          "name": "stderr",
          "text": [
            "\r 35%|███▌      | 1755/5000 [04:22<11:44,  4.61it/s]"
          ]
        },
        {
          "output_type": "stream",
          "name": "stdout",
          "text": [
            "no. of UEs covered (Reward):  610.0\n",
            "-----------------------------episode  1756 -----------------------------\n"
          ]
        },
        {
          "output_type": "stream",
          "name": "stderr",
          "text": [
            "\r 35%|███▌      | 1756/5000 [04:22<12:03,  4.48it/s]"
          ]
        },
        {
          "output_type": "stream",
          "name": "stdout",
          "text": [
            "no. of UEs covered (Reward):  100.0\n",
            "-----------------------------episode  1757 -----------------------------\n"
          ]
        },
        {
          "output_type": "stream",
          "name": "stderr",
          "text": [
            "\r 35%|███▌      | 1757/5000 [04:22<12:20,  4.38it/s]"
          ]
        },
        {
          "output_type": "stream",
          "name": "stdout",
          "text": [
            "no. of UEs covered (Reward):  440.0\n",
            "-----------------------------episode  1758 -----------------------------\n"
          ]
        },
        {
          "output_type": "stream",
          "name": "stderr",
          "text": [
            " 35%|███▌      | 1759/5000 [04:23<11:32,  4.68it/s]"
          ]
        },
        {
          "output_type": "stream",
          "name": "stdout",
          "text": [
            "no. of UEs covered (Reward):  1370.0\n",
            "-----------------------------episode  1759 -----------------------------\n",
            "no. of UEs covered (Reward):  740.0\n",
            "-----------------------------episode  1760 -----------------------------\n"
          ]
        },
        {
          "output_type": "stream",
          "name": "stderr",
          "text": [
            " 35%|███▌      | 1761/5000 [04:23<09:57,  5.42it/s]"
          ]
        },
        {
          "output_type": "stream",
          "name": "stdout",
          "text": [
            "no. of UEs covered (Reward):  1190.0\n",
            "-----------------------------episode  1761 -----------------------------\n",
            "no. of UEs covered (Reward):  490.0\n",
            "-----------------------------episode  1762 -----------------------------\n"
          ]
        },
        {
          "output_type": "stream",
          "name": "stderr",
          "text": [
            " 35%|███▌      | 1763/5000 [04:23<08:56,  6.04it/s]"
          ]
        },
        {
          "output_type": "stream",
          "name": "stdout",
          "text": [
            "no. of UEs covered (Reward):  1080.0\n",
            "-----------------------------episode  1763 -----------------------------\n",
            "no. of UEs covered (Reward):  650.0\n",
            "-----------------------------episode  1764 -----------------------------\n"
          ]
        },
        {
          "output_type": "stream",
          "name": "stderr",
          "text": [
            " 35%|███▌      | 1765/5000 [04:24<08:32,  6.31it/s]"
          ]
        },
        {
          "output_type": "stream",
          "name": "stdout",
          "text": [
            "no. of UEs covered (Reward):  360.0\n",
            "-----------------------------episode  1765 -----------------------------\n",
            "no. of UEs covered (Reward):  1380.0\n",
            "-----------------------------episode  1766 -----------------------------\n"
          ]
        },
        {
          "output_type": "stream",
          "name": "stderr",
          "text": [
            " 35%|███▌      | 1767/5000 [04:24<08:38,  6.24it/s]"
          ]
        },
        {
          "output_type": "stream",
          "name": "stdout",
          "text": [
            "no. of UEs covered (Reward):  1370.0\n",
            "-----------------------------episode  1767 -----------------------------\n",
            "no. of UEs covered (Reward):  1020.0\n",
            "-----------------------------episode  1768 -----------------------------\n"
          ]
        },
        {
          "output_type": "stream",
          "name": "stderr",
          "text": [
            " 35%|███▌      | 1769/5000 [04:24<08:27,  6.37it/s]"
          ]
        },
        {
          "output_type": "stream",
          "name": "stdout",
          "text": [
            "no. of UEs covered (Reward):  850.0\n",
            "-----------------------------episode  1769 -----------------------------\n",
            "no. of UEs covered (Reward):  1270.0\n",
            "-----------------------------episode  1770 -----------------------------\n"
          ]
        },
        {
          "output_type": "stream",
          "name": "stderr",
          "text": [
            " 35%|███▌      | 1771/5000 [04:25<08:18,  6.48it/s]"
          ]
        },
        {
          "output_type": "stream",
          "name": "stdout",
          "text": [
            "no. of UEs covered (Reward):  130.0\n",
            "-----------------------------episode  1771 -----------------------------\n",
            "no. of UEs covered (Reward):  750.0\n",
            "-----------------------------episode  1772 -----------------------------\n"
          ]
        },
        {
          "output_type": "stream",
          "name": "stderr",
          "text": [
            " 35%|███▌      | 1773/5000 [04:25<08:19,  6.46it/s]"
          ]
        },
        {
          "output_type": "stream",
          "name": "stdout",
          "text": [
            "no. of UEs covered (Reward):  520.0\n",
            "-----------------------------episode  1773 -----------------------------\n",
            "no. of UEs covered (Reward):  70.0\n",
            "-----------------------------episode  1774 -----------------------------\n"
          ]
        },
        {
          "output_type": "stream",
          "name": "stderr",
          "text": [
            " 36%|███▌      | 1775/5000 [04:25<08:20,  6.44it/s]"
          ]
        },
        {
          "output_type": "stream",
          "name": "stdout",
          "text": [
            "no. of UEs covered (Reward):  60.0\n",
            "-----------------------------episode  1775 -----------------------------\n",
            "no. of UEs covered (Reward):  260.0\n",
            "-----------------------------episode  1776 -----------------------------\n"
          ]
        },
        {
          "output_type": "stream",
          "name": "stderr",
          "text": [
            " 36%|███▌      | 1777/5000 [04:26<08:10,  6.57it/s]"
          ]
        },
        {
          "output_type": "stream",
          "name": "stdout",
          "text": [
            "no. of UEs covered (Reward):  1340.0\n",
            "-----------------------------episode  1777 -----------------------------\n",
            "no. of UEs covered (Reward):  120.0\n",
            "-----------------------------episode  1778 -----------------------------\n"
          ]
        },
        {
          "output_type": "stream",
          "name": "stderr",
          "text": [
            " 36%|███▌      | 1779/5000 [04:26<08:11,  6.56it/s]"
          ]
        },
        {
          "output_type": "stream",
          "name": "stdout",
          "text": [
            "no. of UEs covered (Reward):  370.0\n",
            "-----------------------------episode  1779 -----------------------------\n",
            "no. of UEs covered (Reward):  320.0\n",
            "-----------------------------episode  1780 -----------------------------\n"
          ]
        },
        {
          "output_type": "stream",
          "name": "stderr",
          "text": [
            " 36%|███▌      | 1781/5000 [04:26<08:12,  6.54it/s]"
          ]
        },
        {
          "output_type": "stream",
          "name": "stdout",
          "text": [
            "no. of UEs covered (Reward):  70.0\n",
            "-----------------------------episode  1781 -----------------------------\n",
            "no. of UEs covered (Reward):  660.0\n",
            "-----------------------------episode  1782 -----------------------------\n"
          ]
        },
        {
          "output_type": "stream",
          "name": "stderr",
          "text": [
            " 36%|███▌      | 1783/5000 [04:27<08:08,  6.58it/s]"
          ]
        },
        {
          "output_type": "stream",
          "name": "stdout",
          "text": [
            "no. of UEs covered (Reward):  120.0\n",
            "-----------------------------episode  1783 -----------------------------\n",
            "no. of UEs covered (Reward):  110.0\n",
            "-----------------------------episode  1784 -----------------------------\n"
          ]
        },
        {
          "output_type": "stream",
          "name": "stderr",
          "text": [
            " 36%|███▌      | 1785/5000 [04:27<08:17,  6.46it/s]"
          ]
        },
        {
          "output_type": "stream",
          "name": "stdout",
          "text": [
            "no. of UEs covered (Reward):  440.0\n",
            "-----------------------------episode  1785 -----------------------------\n",
            "no. of UEs covered (Reward):  1000.0\n",
            "-----------------------------episode  1786 -----------------------------\n"
          ]
        },
        {
          "output_type": "stream",
          "name": "stderr",
          "text": [
            " 36%|███▌      | 1787/5000 [04:27<08:25,  6.35it/s]"
          ]
        },
        {
          "output_type": "stream",
          "name": "stdout",
          "text": [
            "no. of UEs covered (Reward):  1070.0\n",
            "-----------------------------episode  1787 -----------------------------\n",
            "no. of UEs covered (Reward):  130.0\n",
            "-----------------------------episode  1788 -----------------------------\n"
          ]
        },
        {
          "output_type": "stream",
          "name": "stderr",
          "text": [
            " 36%|███▌      | 1789/5000 [04:27<08:18,  6.44it/s]"
          ]
        },
        {
          "output_type": "stream",
          "name": "stdout",
          "text": [
            "no. of UEs covered (Reward):  930.0\n",
            "-----------------------------episode  1789 -----------------------------\n",
            "no. of UEs covered (Reward):  90.0\n",
            "-----------------------------episode  1790 -----------------------------\n"
          ]
        },
        {
          "output_type": "stream",
          "name": "stderr",
          "text": [
            " 36%|███▌      | 1791/5000 [04:28<08:27,  6.33it/s]"
          ]
        },
        {
          "output_type": "stream",
          "name": "stdout",
          "text": [
            "no. of UEs covered (Reward):  760.0\n",
            "-----------------------------episode  1791 -----------------------------\n",
            "no. of UEs covered (Reward):  70.0\n",
            "-----------------------------episode  1792 -----------------------------\n"
          ]
        },
        {
          "output_type": "stream",
          "name": "stderr",
          "text": [
            " 36%|███▌      | 1793/5000 [04:28<08:39,  6.17it/s]"
          ]
        },
        {
          "output_type": "stream",
          "name": "stdout",
          "text": [
            "no. of UEs covered (Reward):  100.0\n",
            "-----------------------------episode  1793 -----------------------------\n",
            "no. of UEs covered (Reward):  50.0\n",
            "-----------------------------episode  1794 -----------------------------\n"
          ]
        },
        {
          "output_type": "stream",
          "name": "stderr",
          "text": [
            " 36%|███▌      | 1795/5000 [04:28<08:32,  6.26it/s]"
          ]
        },
        {
          "output_type": "stream",
          "name": "stdout",
          "text": [
            "no. of UEs covered (Reward):  1040.0\n",
            "-----------------------------episode  1795 -----------------------------\n",
            "no. of UEs covered (Reward):  310.0\n",
            "-----------------------------episode  1796 -----------------------------\n"
          ]
        },
        {
          "output_type": "stream",
          "name": "stderr",
          "text": [
            " 36%|███▌      | 1797/5000 [04:29<08:45,  6.09it/s]"
          ]
        },
        {
          "output_type": "stream",
          "name": "stdout",
          "text": [
            "no. of UEs covered (Reward):  260.0\n",
            "-----------------------------episode  1797 -----------------------------\n",
            "no. of UEs covered (Reward):  910.0\n",
            "-----------------------------episode  1798 -----------------------------\n"
          ]
        },
        {
          "output_type": "stream",
          "name": "stderr",
          "text": [
            " 36%|███▌      | 1799/5000 [04:29<08:46,  6.08it/s]"
          ]
        },
        {
          "output_type": "stream",
          "name": "stdout",
          "text": [
            "no. of UEs covered (Reward):  130.0\n",
            "-----------------------------episode  1799 -----------------------------\n",
            "no. of UEs covered (Reward):  140.0\n",
            "-----------------------------episode  1800 -----------------------------\n"
          ]
        },
        {
          "output_type": "stream",
          "name": "stderr",
          "text": [
            " 36%|███▌      | 1801/5000 [04:29<08:30,  6.27it/s]"
          ]
        },
        {
          "output_type": "stream",
          "name": "stdout",
          "text": [
            "no. of UEs covered (Reward):  80.0\n",
            "-----------------------------episode  1801 -----------------------------\n",
            "no. of UEs covered (Reward):  40.0\n",
            "-----------------------------episode  1802 -----------------------------\n"
          ]
        },
        {
          "output_type": "stream",
          "name": "stderr",
          "text": [
            " 36%|███▌      | 1803/5000 [04:30<08:47,  6.06it/s]"
          ]
        },
        {
          "output_type": "stream",
          "name": "stdout",
          "text": [
            "no. of UEs covered (Reward):  60.0\n",
            "-----------------------------episode  1803 -----------------------------\n",
            "no. of UEs covered (Reward):  60.0\n",
            "-----------------------------episode  1804 -----------------------------\n"
          ]
        },
        {
          "output_type": "stream",
          "name": "stderr",
          "text": [
            " 36%|███▌      | 1805/5000 [04:30<08:41,  6.13it/s]"
          ]
        },
        {
          "output_type": "stream",
          "name": "stdout",
          "text": [
            "no. of UEs covered (Reward):  80.0\n",
            "-----------------------------episode  1805 -----------------------------\n",
            "no. of UEs covered (Reward):  800.0\n",
            "-----------------------------episode  1806 -----------------------------\n"
          ]
        },
        {
          "output_type": "stream",
          "name": "stderr",
          "text": [
            " 36%|███▌      | 1807/5000 [04:30<08:27,  6.29it/s]"
          ]
        },
        {
          "output_type": "stream",
          "name": "stdout",
          "text": [
            "no. of UEs covered (Reward):  850.0\n",
            "-----------------------------episode  1807 -----------------------------\n",
            "no. of UEs covered (Reward):  1300.0\n",
            "-----------------------------episode  1808 -----------------------------\n"
          ]
        },
        {
          "output_type": "stream",
          "name": "stderr",
          "text": [
            " 36%|███▌      | 1809/5000 [04:31<08:14,  6.45it/s]"
          ]
        },
        {
          "output_type": "stream",
          "name": "stdout",
          "text": [
            "no. of UEs covered (Reward):  250.0\n",
            "-----------------------------episode  1809 -----------------------------\n",
            "no. of UEs covered (Reward):  60.0\n",
            "-----------------------------episode  1810 -----------------------------\n"
          ]
        },
        {
          "output_type": "stream",
          "name": "stderr",
          "text": [
            " 36%|███▌      | 1811/5000 [04:31<08:07,  6.54it/s]"
          ]
        },
        {
          "output_type": "stream",
          "name": "stdout",
          "text": [
            "no. of UEs covered (Reward):  110.0\n",
            "-----------------------------episode  1811 -----------------------------\n",
            "no. of UEs covered (Reward):  410.0\n",
            "-----------------------------episode  1812 -----------------------------\n"
          ]
        },
        {
          "output_type": "stream",
          "name": "stderr",
          "text": [
            " 36%|███▋      | 1813/5000 [04:31<08:13,  6.45it/s]"
          ]
        },
        {
          "output_type": "stream",
          "name": "stdout",
          "text": [
            "no. of UEs covered (Reward):  390.0\n",
            "-----------------------------episode  1813 -----------------------------\n",
            "no. of UEs covered (Reward):  90.0\n",
            "-----------------------------episode  1814 -----------------------------\n"
          ]
        },
        {
          "output_type": "stream",
          "name": "stderr",
          "text": [
            " 36%|███▋      | 1815/5000 [04:32<08:10,  6.49it/s]"
          ]
        },
        {
          "output_type": "stream",
          "name": "stdout",
          "text": [
            "no. of UEs covered (Reward):  410.0\n",
            "-----------------------------episode  1815 -----------------------------\n",
            "no. of UEs covered (Reward):  420.0\n",
            "-----------------------------episode  1816 -----------------------------\n"
          ]
        },
        {
          "output_type": "stream",
          "name": "stderr",
          "text": [
            " 36%|███▋      | 1817/5000 [04:32<07:58,  6.65it/s]"
          ]
        },
        {
          "output_type": "stream",
          "name": "stdout",
          "text": [
            "no. of UEs covered (Reward):  1220.0\n",
            "-----------------------------episode  1817 -----------------------------\n",
            "no. of UEs covered (Reward):  500.0\n",
            "-----------------------------episode  1818 -----------------------------\n"
          ]
        },
        {
          "output_type": "stream",
          "name": "stderr",
          "text": [
            " 36%|███▋      | 1819/5000 [04:32<07:58,  6.65it/s]"
          ]
        },
        {
          "output_type": "stream",
          "name": "stdout",
          "text": [
            "no. of UEs covered (Reward):  600.0\n",
            "-----------------------------episode  1819 -----------------------------\n",
            "no. of UEs covered (Reward):  80.0\n",
            "-----------------------------episode  1820 -----------------------------\n"
          ]
        },
        {
          "output_type": "stream",
          "name": "stderr",
          "text": [
            " 36%|███▋      | 1821/5000 [04:33<07:42,  6.87it/s]"
          ]
        },
        {
          "output_type": "stream",
          "name": "stdout",
          "text": [
            "no. of UEs covered (Reward):  60.0\n",
            "-----------------------------episode  1821 -----------------------------\n",
            "no. of UEs covered (Reward):  150.0\n",
            "-----------------------------episode  1822 -----------------------------\n"
          ]
        },
        {
          "output_type": "stream",
          "name": "stderr",
          "text": [
            " 36%|███▋      | 1823/5000 [04:33<08:03,  6.57it/s]"
          ]
        },
        {
          "output_type": "stream",
          "name": "stdout",
          "text": [
            "no. of UEs covered (Reward):  260.0\n",
            "-----------------------------episode  1823 -----------------------------\n",
            "no. of UEs covered (Reward):  390.0\n",
            "-----------------------------episode  1824 -----------------------------\n"
          ]
        },
        {
          "output_type": "stream",
          "name": "stderr",
          "text": [
            " 36%|███▋      | 1825/5000 [04:33<09:16,  5.70it/s]"
          ]
        },
        {
          "output_type": "stream",
          "name": "stdout",
          "text": [
            "no. of UEs covered (Reward):  90.0\n",
            "-----------------------------episode  1825 -----------------------------\n",
            "no. of UEs covered (Reward):  450.0\n"
          ]
        },
        {
          "output_type": "stream",
          "name": "stderr",
          "text": [
            "\r 37%|███▋      | 1826/5000 [04:33<09:38,  5.48it/s]"
          ]
        },
        {
          "output_type": "stream",
          "name": "stdout",
          "text": [
            "-----------------------------episode  1826 -----------------------------\n",
            "no. of UEs covered (Reward):  490.0\n",
            "-----------------------------episode  1827 -----------------------------\n"
          ]
        },
        {
          "output_type": "stream",
          "name": "stderr",
          "text": [
            " 37%|███▋      | 1828/5000 [04:34<10:02,  5.26it/s]"
          ]
        },
        {
          "output_type": "stream",
          "name": "stdout",
          "text": [
            "no. of UEs covered (Reward):  470.0\n",
            "-----------------------------episode  1828 -----------------------------\n",
            "no. of UEs covered (Reward):  120.0\n",
            "-----------------------------episode  1829 -----------------------------\n"
          ]
        },
        {
          "output_type": "stream",
          "name": "stderr",
          "text": [
            " 37%|███▋      | 1830/5000 [04:34<09:59,  5.29it/s]"
          ]
        },
        {
          "output_type": "stream",
          "name": "stdout",
          "text": [
            "no. of UEs covered (Reward):  90.0\n",
            "-----------------------------episode  1830 -----------------------------\n",
            "no. of UEs covered (Reward):  70.0\n",
            "-----------------------------episode  1831 -----------------------------\n"
          ]
        },
        {
          "output_type": "stream",
          "name": "stderr",
          "text": [
            " 37%|███▋      | 1832/5000 [04:35<10:10,  5.19it/s]"
          ]
        },
        {
          "output_type": "stream",
          "name": "stdout",
          "text": [
            "no. of UEs covered (Reward):  110.0\n",
            "-----------------------------episode  1832 -----------------------------\n",
            "no. of UEs covered (Reward):  100.0\n",
            "-----------------------------episode  1833 -----------------------------\n"
          ]
        },
        {
          "output_type": "stream",
          "name": "stderr",
          "text": [
            " 37%|███▋      | 1834/5000 [04:35<10:10,  5.19it/s]"
          ]
        },
        {
          "output_type": "stream",
          "name": "stdout",
          "text": [
            "no. of UEs covered (Reward):  500.0\n",
            "-----------------------------episode  1834 -----------------------------\n",
            "no. of UEs covered (Reward):  440.0\n",
            "-----------------------------episode  1835 -----------------------------\n"
          ]
        },
        {
          "output_type": "stream",
          "name": "stderr",
          "text": [
            " 37%|███▋      | 1836/5000 [04:35<10:16,  5.13it/s]"
          ]
        },
        {
          "output_type": "stream",
          "name": "stdout",
          "text": [
            "no. of UEs covered (Reward):  700.0\n",
            "-----------------------------episode  1836 -----------------------------\n",
            "no. of UEs covered (Reward):  800.0\n",
            "-----------------------------episode  1837 -----------------------------\n"
          ]
        },
        {
          "output_type": "stream",
          "name": "stderr",
          "text": [
            " 37%|███▋      | 1838/5000 [04:36<10:23,  5.08it/s]"
          ]
        },
        {
          "output_type": "stream",
          "name": "stdout",
          "text": [
            "no. of UEs covered (Reward):  770.0\n",
            "-----------------------------episode  1838 -----------------------------\n",
            "no. of UEs covered (Reward):  120.0\n",
            "-----------------------------episode  1839 -----------------------------\n"
          ]
        },
        {
          "output_type": "stream",
          "name": "stderr",
          "text": [
            " 37%|███▋      | 1840/5000 [04:36<08:59,  5.86it/s]"
          ]
        },
        {
          "output_type": "stream",
          "name": "stdout",
          "text": [
            "no. of UEs covered (Reward):  300.0\n",
            "-----------------------------episode  1840 -----------------------------\n",
            "no. of UEs covered (Reward):  350.0\n",
            "-----------------------------episode  1841 -----------------------------\n"
          ]
        },
        {
          "output_type": "stream",
          "name": "stderr",
          "text": [
            " 37%|███▋      | 1842/5000 [04:36<08:14,  6.39it/s]"
          ]
        },
        {
          "output_type": "stream",
          "name": "stdout",
          "text": [
            "no. of UEs covered (Reward):  850.0\n",
            "-----------------------------episode  1842 -----------------------------\n",
            "no. of UEs covered (Reward):  770.0\n",
            "-----------------------------episode  1843 -----------------------------\n"
          ]
        },
        {
          "output_type": "stream",
          "name": "stderr",
          "text": [
            " 37%|███▋      | 1844/5000 [04:37<08:00,  6.57it/s]"
          ]
        },
        {
          "output_type": "stream",
          "name": "stdout",
          "text": [
            "no. of UEs covered (Reward):  450.0\n",
            "-----------------------------episode  1844 -----------------------------\n",
            "no. of UEs covered (Reward):  580.0\n",
            "-----------------------------episode  1845 -----------------------------\n"
          ]
        },
        {
          "output_type": "stream",
          "name": "stderr",
          "text": [
            " 37%|███▋      | 1846/5000 [04:37<07:41,  6.84it/s]"
          ]
        },
        {
          "output_type": "stream",
          "name": "stdout",
          "text": [
            "no. of UEs covered (Reward):  620.0\n",
            "-----------------------------episode  1846 -----------------------------\n",
            "no. of UEs covered (Reward):  1110.0\n",
            "-----------------------------episode  1847 -----------------------------\n"
          ]
        },
        {
          "output_type": "stream",
          "name": "stderr",
          "text": [
            " 37%|███▋      | 1848/5000 [04:37<07:32,  6.96it/s]"
          ]
        },
        {
          "output_type": "stream",
          "name": "stdout",
          "text": [
            "no. of UEs covered (Reward):  1000.0\n",
            "-----------------------------episode  1848 -----------------------------\n",
            "no. of UEs covered (Reward):  640.0\n",
            "-----------------------------episode  1849 -----------------------------\n"
          ]
        },
        {
          "output_type": "stream",
          "name": "stderr",
          "text": [
            " 37%|███▋      | 1850/5000 [04:38<07:34,  6.93it/s]"
          ]
        },
        {
          "output_type": "stream",
          "name": "stdout",
          "text": [
            "no. of UEs covered (Reward):  860.0\n",
            "-----------------------------episode  1850 -----------------------------\n",
            "no. of UEs covered (Reward):  900.0\n",
            "-----------------------------episode  1851 -----------------------------\n"
          ]
        },
        {
          "output_type": "stream",
          "name": "stderr",
          "text": [
            " 37%|███▋      | 1852/5000 [04:38<07:32,  6.95it/s]"
          ]
        },
        {
          "output_type": "stream",
          "name": "stdout",
          "text": [
            "no. of UEs covered (Reward):  920.0\n",
            "-----------------------------episode  1852 -----------------------------\n",
            "no. of UEs covered (Reward):  940.0\n",
            "-----------------------------episode  1853 -----------------------------\n"
          ]
        },
        {
          "output_type": "stream",
          "name": "stderr",
          "text": [
            " 37%|███▋      | 1854/5000 [04:38<07:30,  6.98it/s]"
          ]
        },
        {
          "output_type": "stream",
          "name": "stdout",
          "text": [
            "no. of UEs covered (Reward):  1380.0\n",
            "-----------------------------episode  1854 -----------------------------\n",
            "no. of UEs covered (Reward):  280.0\n",
            "-----------------------------episode  1855 -----------------------------\n"
          ]
        },
        {
          "output_type": "stream",
          "name": "stderr",
          "text": [
            " 37%|███▋      | 1856/5000 [04:38<07:46,  6.75it/s]"
          ]
        },
        {
          "output_type": "stream",
          "name": "stdout",
          "text": [
            "no. of UEs covered (Reward):  300.0\n",
            "-----------------------------episode  1856 -----------------------------\n",
            "no. of UEs covered (Reward):  840.0\n",
            "-----------------------------episode  1857 -----------------------------\n"
          ]
        },
        {
          "output_type": "stream",
          "name": "stderr",
          "text": [
            " 37%|███▋      | 1858/5000 [04:39<07:44,  6.76it/s]"
          ]
        },
        {
          "output_type": "stream",
          "name": "stdout",
          "text": [
            "no. of UEs covered (Reward):  750.0\n",
            "-----------------------------episode  1858 -----------------------------\n",
            "no. of UEs covered (Reward):  1050.0\n",
            "-----------------------------episode  1859 -----------------------------\n"
          ]
        },
        {
          "output_type": "stream",
          "name": "stderr",
          "text": [
            " 37%|███▋      | 1860/5000 [04:39<07:44,  6.75it/s]"
          ]
        },
        {
          "output_type": "stream",
          "name": "stdout",
          "text": [
            "no. of UEs covered (Reward):  910.0\n",
            "-----------------------------episode  1860 -----------------------------\n",
            "no. of UEs covered (Reward):  880.0\n",
            "-----------------------------episode  1861 -----------------------------\n"
          ]
        },
        {
          "output_type": "stream",
          "name": "stderr",
          "text": [
            " 37%|███▋      | 1862/5000 [04:39<07:31,  6.95it/s]"
          ]
        },
        {
          "output_type": "stream",
          "name": "stdout",
          "text": [
            "no. of UEs covered (Reward):  1110.0\n",
            "-----------------------------episode  1862 -----------------------------\n",
            "no. of UEs covered (Reward):  870.0\n",
            "-----------------------------episode  1863 -----------------------------\n"
          ]
        },
        {
          "output_type": "stream",
          "name": "stderr",
          "text": [
            " 37%|███▋      | 1864/5000 [04:40<07:35,  6.89it/s]"
          ]
        },
        {
          "output_type": "stream",
          "name": "stdout",
          "text": [
            "no. of UEs covered (Reward):  520.0\n",
            "-----------------------------episode  1864 -----------------------------\n",
            "no. of UEs covered (Reward):  90.0\n",
            "-----------------------------episode  1865 -----------------------------\n"
          ]
        },
        {
          "output_type": "stream",
          "name": "stderr",
          "text": [
            " 37%|███▋      | 1866/5000 [04:40<07:43,  6.75it/s]"
          ]
        },
        {
          "output_type": "stream",
          "name": "stdout",
          "text": [
            "no. of UEs covered (Reward):  1190.0\n",
            "-----------------------------episode  1866 -----------------------------\n",
            "no. of UEs covered (Reward):  1020.0\n",
            "-----------------------------episode  1867 -----------------------------\n"
          ]
        },
        {
          "output_type": "stream",
          "name": "stderr",
          "text": [
            " 37%|███▋      | 1868/5000 [04:40<07:51,  6.65it/s]"
          ]
        },
        {
          "output_type": "stream",
          "name": "stdout",
          "text": [
            "no. of UEs covered (Reward):  950.0\n",
            "-----------------------------episode  1868 -----------------------------\n",
            "no. of UEs covered (Reward):  130.0\n",
            "-----------------------------episode  1869 -----------------------------\n"
          ]
        },
        {
          "output_type": "stream",
          "name": "stderr",
          "text": [
            " 37%|███▋      | 1870/5000 [04:40<07:38,  6.83it/s]"
          ]
        },
        {
          "output_type": "stream",
          "name": "stdout",
          "text": [
            "no. of UEs covered (Reward):  820.0\n",
            "-----------------------------episode  1870 -----------------------------\n",
            "no. of UEs covered (Reward):  50.0\n",
            "-----------------------------episode  1871 -----------------------------\n"
          ]
        },
        {
          "output_type": "stream",
          "name": "stderr",
          "text": [
            " 37%|███▋      | 1872/5000 [04:41<07:34,  6.89it/s]"
          ]
        },
        {
          "output_type": "stream",
          "name": "stdout",
          "text": [
            "no. of UEs covered (Reward):  730.0\n",
            "-----------------------------episode  1872 -----------------------------\n",
            "no. of UEs covered (Reward):  720.0\n",
            "-----------------------------episode  1873 -----------------------------\n"
          ]
        },
        {
          "output_type": "stream",
          "name": "stderr",
          "text": [
            " 37%|███▋      | 1874/5000 [04:41<07:31,  6.93it/s]"
          ]
        },
        {
          "output_type": "stream",
          "name": "stdout",
          "text": [
            "no. of UEs covered (Reward):  1080.0\n",
            "-----------------------------episode  1874 -----------------------------\n",
            "no. of UEs covered (Reward):  1100.0\n",
            "-----------------------------episode  1875 -----------------------------\n"
          ]
        },
        {
          "output_type": "stream",
          "name": "stderr",
          "text": [
            " 38%|███▊      | 1876/5000 [04:41<07:26,  7.00it/s]"
          ]
        },
        {
          "output_type": "stream",
          "name": "stdout",
          "text": [
            "no. of UEs covered (Reward):  850.0\n",
            "-----------------------------episode  1876 -----------------------------\n",
            "no. of UEs covered (Reward):  1080.0\n",
            "-----------------------------episode  1877 -----------------------------\n"
          ]
        },
        {
          "output_type": "stream",
          "name": "stderr",
          "text": [
            " 38%|███▊      | 1878/5000 [04:42<07:31,  6.91it/s]"
          ]
        },
        {
          "output_type": "stream",
          "name": "stdout",
          "text": [
            "no. of UEs covered (Reward):  830.0\n",
            "-----------------------------episode  1878 -----------------------------\n",
            "no. of UEs covered (Reward):  1030.0\n",
            "-----------------------------episode  1879 -----------------------------\n"
          ]
        },
        {
          "output_type": "stream",
          "name": "stderr",
          "text": [
            " 38%|███▊      | 1880/5000 [04:42<07:29,  6.94it/s]"
          ]
        },
        {
          "output_type": "stream",
          "name": "stdout",
          "text": [
            "no. of UEs covered (Reward):  760.0\n",
            "-----------------------------episode  1880 -----------------------------\n",
            "no. of UEs covered (Reward):  940.0\n",
            "-----------------------------episode  1881 -----------------------------\n"
          ]
        },
        {
          "output_type": "stream",
          "name": "stderr",
          "text": [
            " 38%|███▊      | 1882/5000 [04:42<07:40,  6.77it/s]"
          ]
        },
        {
          "output_type": "stream",
          "name": "stdout",
          "text": [
            "no. of UEs covered (Reward):  1370.0\n",
            "-----------------------------episode  1882 -----------------------------\n",
            "no. of UEs covered (Reward):  1370.0\n",
            "-----------------------------episode  1883 -----------------------------\n"
          ]
        },
        {
          "output_type": "stream",
          "name": "stderr",
          "text": [
            " 38%|███▊      | 1884/5000 [04:43<07:37,  6.82it/s]"
          ]
        },
        {
          "output_type": "stream",
          "name": "stdout",
          "text": [
            "no. of UEs covered (Reward):  1370.0\n",
            "-----------------------------episode  1884 -----------------------------\n",
            "no. of UEs covered (Reward):  940.0\n",
            "-----------------------------episode  1885 -----------------------------\n"
          ]
        },
        {
          "output_type": "stream",
          "name": "stderr",
          "text": [
            " 38%|███▊      | 1886/5000 [04:43<07:29,  6.93it/s]"
          ]
        },
        {
          "output_type": "stream",
          "name": "stdout",
          "text": [
            "no. of UEs covered (Reward):  1370.0\n",
            "-----------------------------episode  1886 -----------------------------\n",
            "no. of UEs covered (Reward):  1200.0\n",
            "-----------------------------episode  1887 -----------------------------\n"
          ]
        },
        {
          "output_type": "stream",
          "name": "stderr",
          "text": [
            " 38%|███▊      | 1888/5000 [04:43<07:27,  6.96it/s]"
          ]
        },
        {
          "output_type": "stream",
          "name": "stdout",
          "text": [
            "no. of UEs covered (Reward):  670.0\n",
            "-----------------------------episode  1888 -----------------------------\n",
            "no. of UEs covered (Reward):  850.0\n",
            "-----------------------------episode  1889 -----------------------------\n"
          ]
        },
        {
          "output_type": "stream",
          "name": "stderr",
          "text": [
            " 38%|███▊      | 1890/5000 [04:43<07:23,  7.01it/s]"
          ]
        },
        {
          "output_type": "stream",
          "name": "stdout",
          "text": [
            "no. of UEs covered (Reward):  520.0\n",
            "-----------------------------episode  1890 -----------------------------\n",
            "no. of UEs covered (Reward):  840.0\n",
            "-----------------------------episode  1891 -----------------------------\n"
          ]
        },
        {
          "output_type": "stream",
          "name": "stderr",
          "text": [
            " 38%|███▊      | 1892/5000 [04:44<07:30,  6.90it/s]"
          ]
        },
        {
          "output_type": "stream",
          "name": "stdout",
          "text": [
            "no. of UEs covered (Reward):  1340.0\n",
            "-----------------------------episode  1892 -----------------------------\n",
            "no. of UEs covered (Reward):  640.0\n",
            "-----------------------------episode  1893 -----------------------------\n"
          ]
        },
        {
          "output_type": "stream",
          "name": "stderr",
          "text": [
            " 38%|███▊      | 1894/5000 [04:44<07:36,  6.80it/s]"
          ]
        },
        {
          "output_type": "stream",
          "name": "stdout",
          "text": [
            "no. of UEs covered (Reward):  280.0\n",
            "-----------------------------episode  1894 -----------------------------\n",
            "no. of UEs covered (Reward):  1350.0\n",
            "-----------------------------episode  1895 -----------------------------\n"
          ]
        },
        {
          "output_type": "stream",
          "name": "stderr",
          "text": [
            " 38%|███▊      | 1896/5000 [04:44<07:30,  6.89it/s]"
          ]
        },
        {
          "output_type": "stream",
          "name": "stdout",
          "text": [
            "no. of UEs covered (Reward):  1210.0\n",
            "-----------------------------episode  1896 -----------------------------\n",
            "no. of UEs covered (Reward):  690.0\n",
            "-----------------------------episode  1897 -----------------------------\n"
          ]
        },
        {
          "output_type": "stream",
          "name": "stderr",
          "text": [
            " 38%|███▊      | 1898/5000 [04:45<08:11,  6.32it/s]"
          ]
        },
        {
          "output_type": "stream",
          "name": "stdout",
          "text": [
            "no. of UEs covered (Reward):  840.0\n",
            "-----------------------------episode  1898 -----------------------------\n",
            "no. of UEs covered (Reward):  1380.0\n",
            "-----------------------------episode  1899 -----------------------------\n"
          ]
        },
        {
          "output_type": "stream",
          "name": "stderr",
          "text": [
            " 38%|███▊      | 1900/5000 [04:45<07:52,  6.56it/s]"
          ]
        },
        {
          "output_type": "stream",
          "name": "stdout",
          "text": [
            "no. of UEs covered (Reward):  790.0\n",
            "-----------------------------episode  1900 -----------------------------\n",
            "no. of UEs covered (Reward):  260.0\n",
            "-----------------------------episode  1901 -----------------------------\n"
          ]
        },
        {
          "output_type": "stream",
          "name": "stderr",
          "text": [
            " 38%|███▊      | 1902/5000 [04:45<08:04,  6.39it/s]"
          ]
        },
        {
          "output_type": "stream",
          "name": "stdout",
          "text": [
            "no. of UEs covered (Reward):  1370.0\n",
            "-----------------------------episode  1902 -----------------------------\n",
            "no. of UEs covered (Reward):  1370.0\n",
            "-----------------------------episode  1903 -----------------------------\n"
          ]
        },
        {
          "output_type": "stream",
          "name": "stderr",
          "text": [
            " 38%|███▊      | 1904/5000 [04:46<08:08,  6.33it/s]"
          ]
        },
        {
          "output_type": "stream",
          "name": "stdout",
          "text": [
            "no. of UEs covered (Reward):  720.0\n",
            "-----------------------------episode  1904 -----------------------------\n",
            "no. of UEs covered (Reward):  1000.0\n",
            "-----------------------------episode  1905 -----------------------------\n"
          ]
        },
        {
          "output_type": "stream",
          "name": "stderr",
          "text": [
            " 38%|███▊      | 1906/5000 [04:46<08:22,  6.16it/s]"
          ]
        },
        {
          "output_type": "stream",
          "name": "stdout",
          "text": [
            "no. of UEs covered (Reward):  830.0\n",
            "-----------------------------episode  1906 -----------------------------\n",
            "no. of UEs covered (Reward):  690.0\n",
            "-----------------------------episode  1907 -----------------------------\n"
          ]
        },
        {
          "output_type": "stream",
          "name": "stderr",
          "text": [
            " 38%|███▊      | 1908/5000 [04:46<09:13,  5.59it/s]"
          ]
        },
        {
          "output_type": "stream",
          "name": "stdout",
          "text": [
            "no. of UEs covered (Reward):  740.0\n",
            "-----------------------------episode  1908 -----------------------------\n",
            "no. of UEs covered (Reward):  1360.0\n",
            "-----------------------------episode  1909 -----------------------------\n"
          ]
        },
        {
          "output_type": "stream",
          "name": "stderr",
          "text": [
            "\r 38%|███▊      | 1909/5000 [04:46<09:21,  5.51it/s]"
          ]
        },
        {
          "output_type": "stream",
          "name": "stdout",
          "text": [
            "no. of UEs covered (Reward):  920.0\n",
            "-----------------------------episode  1910 -----------------------------\n"
          ]
        },
        {
          "output_type": "stream",
          "name": "stderr",
          "text": [
            "\r 38%|███▊      | 1910/5000 [04:47<09:40,  5.32it/s]"
          ]
        },
        {
          "output_type": "stream",
          "name": "stdout",
          "text": [
            "no. of UEs covered (Reward):  990.0\n",
            "-----------------------------episode  1911 -----------------------------\n"
          ]
        },
        {
          "output_type": "stream",
          "name": "stderr",
          "text": [
            " 38%|███▊      | 1912/5000 [04:47<10:09,  5.07it/s]"
          ]
        },
        {
          "output_type": "stream",
          "name": "stdout",
          "text": [
            "no. of UEs covered (Reward):  830.0\n",
            "-----------------------------episode  1912 -----------------------------\n",
            "no. of UEs covered (Reward):  800.0\n",
            "-----------------------------episode  1913 -----------------------------\n"
          ]
        },
        {
          "output_type": "stream",
          "name": "stderr",
          "text": [
            " 38%|███▊      | 1914/5000 [04:47<10:10,  5.06it/s]"
          ]
        },
        {
          "output_type": "stream",
          "name": "stdout",
          "text": [
            "no. of UEs covered (Reward):  660.0\n",
            "-----------------------------episode  1914 -----------------------------\n",
            "no. of UEs covered (Reward):  1340.0\n",
            "-----------------------------episode  1915 -----------------------------\n"
          ]
        },
        {
          "output_type": "stream",
          "name": "stderr",
          "text": [
            " 38%|███▊      | 1916/5000 [04:48<10:07,  5.07it/s]"
          ]
        },
        {
          "output_type": "stream",
          "name": "stdout",
          "text": [
            "no. of UEs covered (Reward):  890.0\n",
            "-----------------------------episode  1916 -----------------------------\n",
            "no. of UEs covered (Reward):  1280.0\n",
            "-----------------------------episode  1917 -----------------------------\n"
          ]
        },
        {
          "output_type": "stream",
          "name": "stderr",
          "text": [
            "\r 38%|███▊      | 1917/5000 [04:48<10:09,  5.05it/s]"
          ]
        },
        {
          "output_type": "stream",
          "name": "stdout",
          "text": [
            "no. of UEs covered (Reward):  690.0\n",
            "-----------------------------episode  1918 -----------------------------\n"
          ]
        },
        {
          "output_type": "stream",
          "name": "stderr",
          "text": [
            "\r 38%|███▊      | 1918/5000 [04:48<10:30,  4.89it/s]"
          ]
        },
        {
          "output_type": "stream",
          "name": "stdout",
          "text": [
            "no. of UEs covered (Reward):  920.0\n",
            "-----------------------------episode  1919 -----------------------------\n"
          ]
        },
        {
          "output_type": "stream",
          "name": "stderr",
          "text": [
            "\r 38%|███▊      | 1919/5000 [04:48<10:36,  4.84it/s]"
          ]
        },
        {
          "output_type": "stream",
          "name": "stdout",
          "text": [
            "no. of UEs covered (Reward):  1070.0\n",
            "-----------------------------episode  1920 -----------------------------\n"
          ]
        },
        {
          "output_type": "stream",
          "name": "stderr",
          "text": [
            " 38%|███▊      | 1921/5000 [04:49<10:19,  4.97it/s]"
          ]
        },
        {
          "output_type": "stream",
          "name": "stdout",
          "text": [
            "no. of UEs covered (Reward):  1300.0\n",
            "-----------------------------episode  1921 -----------------------------\n",
            "no. of UEs covered (Reward):  1030.0\n",
            "-----------------------------episode  1922 -----------------------------\n"
          ]
        },
        {
          "output_type": "stream",
          "name": "stderr",
          "text": [
            " 38%|███▊      | 1923/5000 [04:49<08:55,  5.75it/s]"
          ]
        },
        {
          "output_type": "stream",
          "name": "stdout",
          "text": [
            "no. of UEs covered (Reward):  250.0\n",
            "-----------------------------episode  1923 -----------------------------\n",
            "no. of UEs covered (Reward):  950.0\n",
            "-----------------------------episode  1924 -----------------------------\n"
          ]
        },
        {
          "output_type": "stream",
          "name": "stderr",
          "text": [
            " 38%|███▊      | 1925/5000 [04:49<08:15,  6.20it/s]"
          ]
        },
        {
          "output_type": "stream",
          "name": "stdout",
          "text": [
            "no. of UEs covered (Reward):  1170.0\n",
            "-----------------------------episode  1925 -----------------------------\n",
            "no. of UEs covered (Reward):  1330.0\n",
            "-----------------------------episode  1926 -----------------------------\n"
          ]
        },
        {
          "output_type": "stream",
          "name": "stderr",
          "text": [
            " 39%|███▊      | 1927/5000 [04:50<07:49,  6.54it/s]"
          ]
        },
        {
          "output_type": "stream",
          "name": "stdout",
          "text": [
            "no. of UEs covered (Reward):  1370.0\n",
            "-----------------------------episode  1927 -----------------------------\n",
            "no. of UEs covered (Reward):  1070.0\n",
            "-----------------------------episode  1928 -----------------------------\n"
          ]
        },
        {
          "output_type": "stream",
          "name": "stderr",
          "text": [
            " 39%|███▊      | 1929/5000 [04:50<07:42,  6.64it/s]"
          ]
        },
        {
          "output_type": "stream",
          "name": "stdout",
          "text": [
            "no. of UEs covered (Reward):  1330.0\n",
            "-----------------------------episode  1929 -----------------------------\n",
            "no. of UEs covered (Reward):  1390.0\n",
            "-----------------------------episode  1930 -----------------------------\n"
          ]
        },
        {
          "output_type": "stream",
          "name": "stderr",
          "text": [
            " 39%|███▊      | 1931/5000 [04:50<07:36,  6.73it/s]"
          ]
        },
        {
          "output_type": "stream",
          "name": "stdout",
          "text": [
            "no. of UEs covered (Reward):  980.0\n",
            "-----------------------------episode  1931 -----------------------------\n",
            "no. of UEs covered (Reward):  920.0\n",
            "-----------------------------episode  1932 -----------------------------\n"
          ]
        },
        {
          "output_type": "stream",
          "name": "stderr",
          "text": [
            " 39%|███▊      | 1933/5000 [04:51<07:27,  6.85it/s]"
          ]
        },
        {
          "output_type": "stream",
          "name": "stdout",
          "text": [
            "no. of UEs covered (Reward):  1270.0\n",
            "-----------------------------episode  1933 -----------------------------\n",
            "no. of UEs covered (Reward):  1370.0\n",
            "-----------------------------episode  1934 -----------------------------\n"
          ]
        },
        {
          "output_type": "stream",
          "name": "stderr",
          "text": [
            " 39%|███▊      | 1935/5000 [04:51<07:31,  6.79it/s]"
          ]
        },
        {
          "output_type": "stream",
          "name": "stdout",
          "text": [
            "no. of UEs covered (Reward):  470.0\n",
            "-----------------------------episode  1935 -----------------------------\n",
            "no. of UEs covered (Reward):  1280.0\n",
            "-----------------------------episode  1936 -----------------------------\n"
          ]
        },
        {
          "output_type": "stream",
          "name": "stderr",
          "text": [
            " 39%|███▊      | 1937/5000 [04:51<07:37,  6.70it/s]"
          ]
        },
        {
          "output_type": "stream",
          "name": "stdout",
          "text": [
            "no. of UEs covered (Reward):  910.0\n",
            "-----------------------------episode  1937 -----------------------------\n",
            "no. of UEs covered (Reward):  1180.0\n",
            "-----------------------------episode  1938 -----------------------------\n"
          ]
        },
        {
          "output_type": "stream",
          "name": "stderr",
          "text": [
            " 39%|███▉      | 1939/5000 [04:52<07:29,  6.82it/s]"
          ]
        },
        {
          "output_type": "stream",
          "name": "stdout",
          "text": [
            "no. of UEs covered (Reward):  760.0\n",
            "-----------------------------episode  1939 -----------------------------\n",
            "no. of UEs covered (Reward):  1080.0\n",
            "-----------------------------episode  1940 -----------------------------\n"
          ]
        },
        {
          "output_type": "stream",
          "name": "stderr",
          "text": [
            " 39%|███▉      | 1941/5000 [04:52<07:23,  6.90it/s]"
          ]
        },
        {
          "output_type": "stream",
          "name": "stdout",
          "text": [
            "no. of UEs covered (Reward):  1220.0\n",
            "-----------------------------episode  1941 -----------------------------\n",
            "no. of UEs covered (Reward):  860.0\n",
            "-----------------------------episode  1942 -----------------------------\n"
          ]
        },
        {
          "output_type": "stream",
          "name": "stderr",
          "text": [
            " 39%|███▉      | 1943/5000 [04:52<07:29,  6.80it/s]"
          ]
        },
        {
          "output_type": "stream",
          "name": "stdout",
          "text": [
            "no. of UEs covered (Reward):  1220.0\n",
            "-----------------------------episode  1943 -----------------------------\n",
            "no. of UEs covered (Reward):  1380.0\n",
            "-----------------------------episode  1944 -----------------------------\n"
          ]
        },
        {
          "output_type": "stream",
          "name": "stderr",
          "text": [
            " 39%|███▉      | 1945/5000 [04:52<07:23,  6.88it/s]"
          ]
        },
        {
          "output_type": "stream",
          "name": "stdout",
          "text": [
            "no. of UEs covered (Reward):  1370.0\n",
            "-----------------------------episode  1945 -----------------------------\n",
            "no. of UEs covered (Reward):  1310.0\n",
            "-----------------------------episode  1946 -----------------------------\n"
          ]
        },
        {
          "output_type": "stream",
          "name": "stderr",
          "text": [
            " 39%|███▉      | 1947/5000 [04:53<07:30,  6.77it/s]"
          ]
        },
        {
          "output_type": "stream",
          "name": "stdout",
          "text": [
            "no. of UEs covered (Reward):  1380.0\n",
            "-----------------------------episode  1947 -----------------------------\n",
            "no. of UEs covered (Reward):  1090.0\n",
            "-----------------------------episode  1948 -----------------------------\n"
          ]
        },
        {
          "output_type": "stream",
          "name": "stderr",
          "text": [
            " 39%|███▉      | 1949/5000 [04:53<07:33,  6.73it/s]"
          ]
        },
        {
          "output_type": "stream",
          "name": "stdout",
          "text": [
            "no. of UEs covered (Reward):  1050.0\n",
            "-----------------------------episode  1949 -----------------------------\n",
            "no. of UEs covered (Reward):  1050.0\n",
            "-----------------------------episode  1950 -----------------------------\n"
          ]
        },
        {
          "output_type": "stream",
          "name": "stderr",
          "text": [
            " 39%|███▉      | 1951/5000 [04:53<07:31,  6.76it/s]"
          ]
        },
        {
          "output_type": "stream",
          "name": "stdout",
          "text": [
            "no. of UEs covered (Reward):  1340.0\n",
            "-----------------------------episode  1951 -----------------------------\n",
            "no. of UEs covered (Reward):  1370.0\n",
            "-----------------------------episode  1952 -----------------------------\n"
          ]
        },
        {
          "output_type": "stream",
          "name": "stderr",
          "text": [
            " 39%|███▉      | 1953/5000 [04:54<07:28,  6.80it/s]"
          ]
        },
        {
          "output_type": "stream",
          "name": "stdout",
          "text": [
            "no. of UEs covered (Reward):  1340.0\n",
            "-----------------------------episode  1953 -----------------------------\n",
            "no. of UEs covered (Reward):  1340.0\n",
            "-----------------------------episode  1954 -----------------------------\n"
          ]
        },
        {
          "output_type": "stream",
          "name": "stderr",
          "text": [
            " 39%|███▉      | 1955/5000 [04:54<07:42,  6.58it/s]"
          ]
        },
        {
          "output_type": "stream",
          "name": "stdout",
          "text": [
            "no. of UEs covered (Reward):  1240.0\n",
            "-----------------------------episode  1955 -----------------------------\n",
            "no. of UEs covered (Reward):  1110.0\n",
            "-----------------------------episode  1956 -----------------------------\n"
          ]
        },
        {
          "output_type": "stream",
          "name": "stderr",
          "text": [
            " 39%|███▉      | 1957/5000 [04:54<07:35,  6.68it/s]"
          ]
        },
        {
          "output_type": "stream",
          "name": "stdout",
          "text": [
            "no. of UEs covered (Reward):  100.0\n",
            "-----------------------------episode  1957 -----------------------------\n",
            "no. of UEs covered (Reward):  1080.0\n",
            "-----------------------------episode  1958 -----------------------------\n"
          ]
        },
        {
          "output_type": "stream",
          "name": "stderr",
          "text": [
            " 39%|███▉      | 1959/5000 [04:55<07:33,  6.71it/s]"
          ]
        },
        {
          "output_type": "stream",
          "name": "stdout",
          "text": [
            "no. of UEs covered (Reward):  1320.0\n",
            "-----------------------------episode  1959 -----------------------------\n",
            "no. of UEs covered (Reward):  1300.0\n",
            "-----------------------------episode  1960 -----------------------------\n"
          ]
        },
        {
          "output_type": "stream",
          "name": "stderr",
          "text": [
            " 39%|███▉      | 1961/5000 [04:55<07:32,  6.71it/s]"
          ]
        },
        {
          "output_type": "stream",
          "name": "stdout",
          "text": [
            "no. of UEs covered (Reward):  940.0\n",
            "-----------------------------episode  1961 -----------------------------\n",
            "no. of UEs covered (Reward):  80.0\n",
            "-----------------------------episode  1962 -----------------------------\n"
          ]
        },
        {
          "output_type": "stream",
          "name": "stderr",
          "text": [
            " 39%|███▉      | 1963/5000 [04:55<07:31,  6.72it/s]"
          ]
        },
        {
          "output_type": "stream",
          "name": "stdout",
          "text": [
            "no. of UEs covered (Reward):  680.0\n",
            "-----------------------------episode  1963 -----------------------------\n",
            "no. of UEs covered (Reward):  1260.0\n",
            "-----------------------------episode  1964 -----------------------------\n"
          ]
        },
        {
          "output_type": "stream",
          "name": "stderr",
          "text": [
            " 39%|███▉      | 1965/5000 [04:55<07:46,  6.51it/s]"
          ]
        },
        {
          "output_type": "stream",
          "name": "stdout",
          "text": [
            "no. of UEs covered (Reward):  1350.0\n",
            "-----------------------------episode  1965 -----------------------------\n",
            "no. of UEs covered (Reward):  1380.0\n",
            "-----------------------------episode  1966 -----------------------------\n"
          ]
        },
        {
          "output_type": "stream",
          "name": "stderr",
          "text": [
            " 39%|███▉      | 1967/5000 [04:56<07:29,  6.75it/s]"
          ]
        },
        {
          "output_type": "stream",
          "name": "stdout",
          "text": [
            "no. of UEs covered (Reward):  970.0\n",
            "-----------------------------episode  1967 -----------------------------\n",
            "no. of UEs covered (Reward):  790.0\n",
            "-----------------------------episode  1968 -----------------------------\n"
          ]
        },
        {
          "output_type": "stream",
          "name": "stderr",
          "text": [
            " 39%|███▉      | 1969/5000 [04:56<07:28,  6.76it/s]"
          ]
        },
        {
          "output_type": "stream",
          "name": "stdout",
          "text": [
            "no. of UEs covered (Reward):  1370.0\n",
            "-----------------------------episode  1969 -----------------------------\n",
            "no. of UEs covered (Reward):  1340.0\n",
            "-----------------------------episode  1970 -----------------------------\n"
          ]
        },
        {
          "output_type": "stream",
          "name": "stderr",
          "text": [
            " 39%|███▉      | 1971/5000 [04:56<07:36,  6.64it/s]"
          ]
        },
        {
          "output_type": "stream",
          "name": "stdout",
          "text": [
            "no. of UEs covered (Reward):  1350.0\n",
            "-----------------------------episode  1971 -----------------------------\n",
            "no. of UEs covered (Reward):  750.0\n",
            "-----------------------------episode  1972 -----------------------------\n"
          ]
        },
        {
          "output_type": "stream",
          "name": "stderr",
          "text": [
            " 39%|███▉      | 1973/5000 [04:57<07:51,  6.42it/s]"
          ]
        },
        {
          "output_type": "stream",
          "name": "stdout",
          "text": [
            "no. of UEs covered (Reward):  950.0\n",
            "-----------------------------episode  1973 -----------------------------\n",
            "no. of UEs covered (Reward):  120.0\n",
            "-----------------------------episode  1974 -----------------------------\n"
          ]
        },
        {
          "output_type": "stream",
          "name": "stderr",
          "text": [
            " 40%|███▉      | 1975/5000 [04:57<07:53,  6.39it/s]"
          ]
        },
        {
          "output_type": "stream",
          "name": "stdout",
          "text": [
            "no. of UEs covered (Reward):  210.0\n",
            "-----------------------------episode  1975 -----------------------------\n",
            "no. of UEs covered (Reward):  1370.0\n",
            "-----------------------------episode  1976 -----------------------------\n"
          ]
        },
        {
          "output_type": "stream",
          "name": "stderr",
          "text": [
            " 40%|███▉      | 1977/5000 [04:57<07:37,  6.61it/s]"
          ]
        },
        {
          "output_type": "stream",
          "name": "stdout",
          "text": [
            "no. of UEs covered (Reward):  80.0\n",
            "-----------------------------episode  1977 -----------------------------\n",
            "no. of UEs covered (Reward):  1010.0\n",
            "-----------------------------episode  1978 -----------------------------\n"
          ]
        },
        {
          "output_type": "stream",
          "name": "stderr",
          "text": [
            " 40%|███▉      | 1979/5000 [04:58<07:29,  6.71it/s]"
          ]
        },
        {
          "output_type": "stream",
          "name": "stdout",
          "text": [
            "no. of UEs covered (Reward):  560.0\n",
            "-----------------------------episode  1979 -----------------------------\n",
            "no. of UEs covered (Reward):  290.0\n",
            "-----------------------------episode  1980 -----------------------------\n"
          ]
        },
        {
          "output_type": "stream",
          "name": "stderr",
          "text": [
            " 40%|███▉      | 1981/5000 [04:58<07:26,  6.76it/s]"
          ]
        },
        {
          "output_type": "stream",
          "name": "stdout",
          "text": [
            "no. of UEs covered (Reward):  690.0\n",
            "-----------------------------episode  1981 -----------------------------\n",
            "no. of UEs covered (Reward):  1280.0\n",
            "-----------------------------episode  1982 -----------------------------\n"
          ]
        },
        {
          "output_type": "stream",
          "name": "stderr",
          "text": [
            " 40%|███▉      | 1983/5000 [04:58<07:35,  6.62it/s]"
          ]
        },
        {
          "output_type": "stream",
          "name": "stdout",
          "text": [
            "no. of UEs covered (Reward):  1360.0\n",
            "-----------------------------episode  1983 -----------------------------\n",
            "no. of UEs covered (Reward):  850.0\n",
            "-----------------------------episode  1984 -----------------------------\n"
          ]
        },
        {
          "output_type": "stream",
          "name": "stderr",
          "text": [
            " 40%|███▉      | 1985/5000 [04:58<07:13,  6.95it/s]"
          ]
        },
        {
          "output_type": "stream",
          "name": "stdout",
          "text": [
            "no. of UEs covered (Reward):  700.0\n",
            "-----------------------------episode  1985 -----------------------------\n",
            "no. of UEs covered (Reward):  1380.0\n",
            "-----------------------------episode  1986 -----------------------------\n"
          ]
        },
        {
          "output_type": "stream",
          "name": "stderr",
          "text": [
            " 40%|███▉      | 1987/5000 [04:59<07:17,  6.88it/s]"
          ]
        },
        {
          "output_type": "stream",
          "name": "stdout",
          "text": [
            "no. of UEs covered (Reward):  1310.0\n",
            "-----------------------------episode  1987 -----------------------------\n",
            "no. of UEs covered (Reward):  100.0\n",
            "-----------------------------episode  1988 -----------------------------\n"
          ]
        },
        {
          "output_type": "stream",
          "name": "stderr",
          "text": [
            "\r 40%|███▉      | 1988/5000 [04:59<08:20,  6.02it/s]"
          ]
        },
        {
          "output_type": "stream",
          "name": "stdout",
          "text": [
            "no. of UEs covered (Reward):  1220.0\n",
            "-----------------------------episode  1989 -----------------------------\n"
          ]
        },
        {
          "output_type": "stream",
          "name": "stderr",
          "text": [
            "\r 40%|███▉      | 1989/5000 [04:59<09:05,  5.52it/s]"
          ]
        },
        {
          "output_type": "stream",
          "name": "stdout",
          "text": [
            "no. of UEs covered (Reward):  840.0\n",
            "-----------------------------episode  1990 -----------------------------\n"
          ]
        },
        {
          "output_type": "stream",
          "name": "stderr",
          "text": [
            "\r 40%|███▉      | 1990/5000 [04:59<09:41,  5.18it/s]"
          ]
        },
        {
          "output_type": "stream",
          "name": "stdout",
          "text": [
            "no. of UEs covered (Reward):  1390.0\n",
            "-----------------------------episode  1991 -----------------------------\n"
          ]
        },
        {
          "output_type": "stream",
          "name": "stderr",
          "text": [
            "\r 40%|███▉      | 1991/5000 [05:00<09:54,  5.06it/s]"
          ]
        },
        {
          "output_type": "stream",
          "name": "stdout",
          "text": [
            "no. of UEs covered (Reward):  830.0\n",
            "-----------------------------episode  1992 -----------------------------\n"
          ]
        },
        {
          "output_type": "stream",
          "name": "stderr",
          "text": [
            "\r 40%|███▉      | 1992/5000 [05:00<10:03,  4.98it/s]"
          ]
        },
        {
          "output_type": "stream",
          "name": "stdout",
          "text": [
            "no. of UEs covered (Reward):  130.0\n",
            "-----------------------------episode  1993 -----------------------------\n"
          ]
        },
        {
          "output_type": "stream",
          "name": "stderr",
          "text": [
            "\r 40%|███▉      | 1993/5000 [05:00<10:11,  4.92it/s]"
          ]
        },
        {
          "output_type": "stream",
          "name": "stdout",
          "text": [
            "no. of UEs covered (Reward):  1370.0\n",
            "-----------------------------episode  1994 -----------------------------\n"
          ]
        },
        {
          "output_type": "stream",
          "name": "stderr",
          "text": [
            " 40%|███▉      | 1995/5000 [05:00<10:05,  4.96it/s]"
          ]
        },
        {
          "output_type": "stream",
          "name": "stdout",
          "text": [
            "no. of UEs covered (Reward):  150.0\n",
            "-----------------------------episode  1995 -----------------------------\n",
            "no. of UEs covered (Reward):  930.0\n",
            "-----------------------------episode  1996 -----------------------------\n"
          ]
        },
        {
          "output_type": "stream",
          "name": "stderr",
          "text": [
            "\r 40%|███▉      | 1996/5000 [05:01<10:03,  4.98it/s]"
          ]
        },
        {
          "output_type": "stream",
          "name": "stdout",
          "text": [
            "no. of UEs covered (Reward):  1250.0\n",
            "-----------------------------episode  1997 -----------------------------\n"
          ]
        },
        {
          "output_type": "stream",
          "name": "stderr",
          "text": [
            " 40%|███▉      | 1998/5000 [05:01<09:52,  5.06it/s]"
          ]
        },
        {
          "output_type": "stream",
          "name": "stdout",
          "text": [
            "no. of UEs covered (Reward):  600.0\n",
            "-----------------------------episode  1998 -----------------------------\n",
            "no. of UEs covered (Reward):  1280.0\n",
            "-----------------------------episode  1999 -----------------------------\n"
          ]
        },
        {
          "output_type": "stream",
          "name": "stderr",
          "text": [
            " 40%|████      | 2000/5000 [05:01<10:07,  4.94it/s]"
          ]
        },
        {
          "output_type": "stream",
          "name": "stdout",
          "text": [
            "no. of UEs covered (Reward):  1340.0\n",
            "-----------------------------episode  2000 -----------------------------\n",
            "no. of UEs covered (Reward):  1190.0\n",
            "-----------------------------episode  2001 -----------------------------\n"
          ]
        },
        {
          "output_type": "stream",
          "name": "stderr",
          "text": [
            " 40%|████      | 2002/5000 [05:02<10:00,  4.99it/s]"
          ]
        },
        {
          "output_type": "stream",
          "name": "stdout",
          "text": [
            "no. of UEs covered (Reward):  280.0\n",
            "-----------------------------episode  2002 -----------------------------\n",
            "no. of UEs covered (Reward):  370.0\n",
            "-----------------------------episode  2003 -----------------------------\n"
          ]
        },
        {
          "output_type": "stream",
          "name": "stderr",
          "text": [
            " 40%|████      | 2004/5000 [05:02<08:51,  5.63it/s]"
          ]
        },
        {
          "output_type": "stream",
          "name": "stdout",
          "text": [
            "no. of UEs covered (Reward):  60.0\n",
            "-----------------------------episode  2004 -----------------------------\n",
            "no. of UEs covered (Reward):  900.0\n",
            "-----------------------------episode  2005 -----------------------------\n"
          ]
        },
        {
          "output_type": "stream",
          "name": "stderr",
          "text": [
            " 40%|████      | 2006/5000 [05:02<08:03,  6.19it/s]"
          ]
        },
        {
          "output_type": "stream",
          "name": "stdout",
          "text": [
            "no. of UEs covered (Reward):  1260.0\n",
            "-----------------------------episode  2006 -----------------------------\n",
            "no. of UEs covered (Reward):  120.0\n",
            "-----------------------------episode  2007 -----------------------------\n"
          ]
        },
        {
          "output_type": "stream",
          "name": "stderr",
          "text": [
            " 40%|████      | 2008/5000 [05:03<07:40,  6.50it/s]"
          ]
        },
        {
          "output_type": "stream",
          "name": "stdout",
          "text": [
            "no. of UEs covered (Reward):  50.0\n",
            "-----------------------------episode  2008 -----------------------------\n",
            "no. of UEs covered (Reward):  220.0\n",
            "-----------------------------episode  2009 -----------------------------\n"
          ]
        },
        {
          "output_type": "stream",
          "name": "stderr",
          "text": [
            " 40%|████      | 2010/5000 [05:03<07:41,  6.48it/s]"
          ]
        },
        {
          "output_type": "stream",
          "name": "stdout",
          "text": [
            "no. of UEs covered (Reward):  70.0\n",
            "-----------------------------episode  2010 -----------------------------\n",
            "no. of UEs covered (Reward):  1140.0\n",
            "-----------------------------episode  2011 -----------------------------\n"
          ]
        },
        {
          "output_type": "stream",
          "name": "stderr",
          "text": [
            " 40%|████      | 2012/5000 [05:03<07:25,  6.71it/s]"
          ]
        },
        {
          "output_type": "stream",
          "name": "stdout",
          "text": [
            "no. of UEs covered (Reward):  260.0\n",
            "-----------------------------episode  2012 -----------------------------\n",
            "no. of UEs covered (Reward):  730.0\n",
            "-----------------------------episode  2013 -----------------------------\n"
          ]
        },
        {
          "output_type": "stream",
          "name": "stderr",
          "text": [
            " 40%|████      | 2014/5000 [05:04<07:22,  6.75it/s]"
          ]
        },
        {
          "output_type": "stream",
          "name": "stdout",
          "text": [
            "no. of UEs covered (Reward):  1010.0\n",
            "-----------------------------episode  2014 -----------------------------\n",
            "no. of UEs covered (Reward):  970.0\n",
            "-----------------------------episode  2015 -----------------------------\n"
          ]
        },
        {
          "output_type": "stream",
          "name": "stderr",
          "text": [
            " 40%|████      | 2016/5000 [05:04<07:27,  6.67it/s]"
          ]
        },
        {
          "output_type": "stream",
          "name": "stdout",
          "text": [
            "no. of UEs covered (Reward):  870.0\n",
            "-----------------------------episode  2016 -----------------------------\n",
            "no. of UEs covered (Reward):  1140.0\n",
            "-----------------------------episode  2017 -----------------------------\n"
          ]
        },
        {
          "output_type": "stream",
          "name": "stderr",
          "text": [
            " 40%|████      | 2018/5000 [05:04<07:28,  6.65it/s]"
          ]
        },
        {
          "output_type": "stream",
          "name": "stdout",
          "text": [
            "no. of UEs covered (Reward):  1380.0\n",
            "-----------------------------episode  2018 -----------------------------\n",
            "no. of UEs covered (Reward):  1340.0\n",
            "-----------------------------episode  2019 -----------------------------\n"
          ]
        },
        {
          "output_type": "stream",
          "name": "stderr",
          "text": [
            " 40%|████      | 2020/5000 [05:05<07:26,  6.67it/s]"
          ]
        },
        {
          "output_type": "stream",
          "name": "stdout",
          "text": [
            "no. of UEs covered (Reward):  820.0\n",
            "-----------------------------episode  2020 -----------------------------\n",
            "no. of UEs covered (Reward):  480.0\n",
            "-----------------------------episode  2021 -----------------------------\n"
          ]
        },
        {
          "output_type": "stream",
          "name": "stderr",
          "text": [
            " 40%|████      | 2022/5000 [05:05<07:25,  6.68it/s]"
          ]
        },
        {
          "output_type": "stream",
          "name": "stdout",
          "text": [
            "no. of UEs covered (Reward):  90.0\n",
            "-----------------------------episode  2022 -----------------------------\n",
            "no. of UEs covered (Reward):  1070.0\n",
            "-----------------------------episode  2023 -----------------------------\n"
          ]
        },
        {
          "output_type": "stream",
          "name": "stderr",
          "text": [
            " 40%|████      | 2024/5000 [05:05<07:33,  6.56it/s]"
          ]
        },
        {
          "output_type": "stream",
          "name": "stdout",
          "text": [
            "no. of UEs covered (Reward):  1380.0\n",
            "-----------------------------episode  2024 -----------------------------\n",
            "no. of UEs covered (Reward):  680.0\n",
            "-----------------------------episode  2025 -----------------------------\n"
          ]
        },
        {
          "output_type": "stream",
          "name": "stderr",
          "text": [
            " 41%|████      | 2026/5000 [05:05<07:36,  6.51it/s]"
          ]
        },
        {
          "output_type": "stream",
          "name": "stdout",
          "text": [
            "no. of UEs covered (Reward):  1090.0\n",
            "-----------------------------episode  2026 -----------------------------\n",
            "no. of UEs covered (Reward):  1370.0\n",
            "-----------------------------episode  2027 -----------------------------\n"
          ]
        },
        {
          "output_type": "stream",
          "name": "stderr",
          "text": [
            " 41%|████      | 2028/5000 [05:06<07:27,  6.64it/s]"
          ]
        },
        {
          "output_type": "stream",
          "name": "stdout",
          "text": [
            "no. of UEs covered (Reward):  690.0\n",
            "-----------------------------episode  2028 -----------------------------\n",
            "no. of UEs covered (Reward):  580.0\n",
            "-----------------------------episode  2029 -----------------------------\n"
          ]
        },
        {
          "output_type": "stream",
          "name": "stderr",
          "text": [
            " 41%|████      | 2030/5000 [05:06<07:20,  6.75it/s]"
          ]
        },
        {
          "output_type": "stream",
          "name": "stdout",
          "text": [
            "no. of UEs covered (Reward):  40.0\n",
            "-----------------------------episode  2030 -----------------------------\n",
            "no. of UEs covered (Reward):  610.0\n",
            "-----------------------------episode  2031 -----------------------------\n"
          ]
        },
        {
          "output_type": "stream",
          "name": "stderr",
          "text": [
            " 41%|████      | 2032/5000 [05:06<07:27,  6.63it/s]"
          ]
        },
        {
          "output_type": "stream",
          "name": "stdout",
          "text": [
            "no. of UEs covered (Reward):  730.0\n",
            "-----------------------------episode  2032 -----------------------------\n",
            "no. of UEs covered (Reward):  1150.0\n",
            "-----------------------------episode  2033 -----------------------------\n"
          ]
        },
        {
          "output_type": "stream",
          "name": "stderr",
          "text": [
            " 41%|████      | 2034/5000 [05:07<07:20,  6.73it/s]"
          ]
        },
        {
          "output_type": "stream",
          "name": "stdout",
          "text": [
            "no. of UEs covered (Reward):  700.0\n",
            "-----------------------------episode  2034 -----------------------------\n",
            "no. of UEs covered (Reward):  60.0\n",
            "-----------------------------episode  2035 -----------------------------\n"
          ]
        },
        {
          "output_type": "stream",
          "name": "stderr",
          "text": [
            " 41%|████      | 2036/5000 [05:07<07:14,  6.83it/s]"
          ]
        },
        {
          "output_type": "stream",
          "name": "stdout",
          "text": [
            "no. of UEs covered (Reward):  120.0\n",
            "-----------------------------episode  2036 -----------------------------\n",
            "no. of UEs covered (Reward):  1150.0\n",
            "-----------------------------episode  2037 -----------------------------\n"
          ]
        },
        {
          "output_type": "stream",
          "name": "stderr",
          "text": [
            " 41%|████      | 2038/5000 [05:07<07:25,  6.65it/s]"
          ]
        },
        {
          "output_type": "stream",
          "name": "stdout",
          "text": [
            "no. of UEs covered (Reward):  1300.0\n",
            "-----------------------------episode  2038 -----------------------------\n",
            "no. of UEs covered (Reward):  1230.0\n",
            "-----------------------------episode  2039 -----------------------------\n"
          ]
        },
        {
          "output_type": "stream",
          "name": "stderr",
          "text": [
            " 41%|████      | 2040/5000 [05:08<07:22,  6.69it/s]"
          ]
        },
        {
          "output_type": "stream",
          "name": "stdout",
          "text": [
            "no. of UEs covered (Reward):  1000.0\n",
            "-----------------------------episode  2040 -----------------------------\n",
            "no. of UEs covered (Reward):  490.0\n",
            "-----------------------------episode  2041 -----------------------------\n"
          ]
        },
        {
          "output_type": "stream",
          "name": "stderr",
          "text": [
            " 41%|████      | 2042/5000 [05:08<07:17,  6.77it/s]"
          ]
        },
        {
          "output_type": "stream",
          "name": "stdout",
          "text": [
            "no. of UEs covered (Reward):  1380.0\n",
            "-----------------------------episode  2042 -----------------------------\n",
            "no. of UEs covered (Reward):  1370.0\n",
            "-----------------------------episode  2043 -----------------------------\n"
          ]
        },
        {
          "output_type": "stream",
          "name": "stderr",
          "text": [
            " 41%|████      | 2044/5000 [05:08<07:35,  6.49it/s]"
          ]
        },
        {
          "output_type": "stream",
          "name": "stdout",
          "text": [
            "no. of UEs covered (Reward):  1230.0\n",
            "-----------------------------episode  2044 -----------------------------\n",
            "no. of UEs covered (Reward):  390.0\n",
            "-----------------------------episode  2045 -----------------------------\n"
          ]
        },
        {
          "output_type": "stream",
          "name": "stderr",
          "text": [
            " 41%|████      | 2046/5000 [05:08<07:23,  6.65it/s]"
          ]
        },
        {
          "output_type": "stream",
          "name": "stdout",
          "text": [
            "no. of UEs covered (Reward):  140.0\n",
            "-----------------------------episode  2046 -----------------------------\n",
            "no. of UEs covered (Reward):  1350.0\n",
            "-----------------------------episode  2047 -----------------------------\n"
          ]
        },
        {
          "output_type": "stream",
          "name": "stderr",
          "text": [
            " 41%|████      | 2048/5000 [05:09<07:14,  6.80it/s]"
          ]
        },
        {
          "output_type": "stream",
          "name": "stdout",
          "text": [
            "no. of UEs covered (Reward):  90.0\n",
            "-----------------------------episode  2048 -----------------------------\n",
            "no. of UEs covered (Reward):  480.0\n",
            "-----------------------------episode  2049 -----------------------------\n"
          ]
        },
        {
          "output_type": "stream",
          "name": "stderr",
          "text": [
            " 41%|████      | 2050/5000 [05:09<07:13,  6.81it/s]"
          ]
        },
        {
          "output_type": "stream",
          "name": "stdout",
          "text": [
            "no. of UEs covered (Reward):  1210.0\n",
            "-----------------------------episode  2050 -----------------------------\n",
            "no. of UEs covered (Reward):  110.0\n",
            "-----------------------------episode  2051 -----------------------------\n"
          ]
        },
        {
          "output_type": "stream",
          "name": "stderr",
          "text": [
            " 41%|████      | 2052/5000 [05:09<07:11,  6.83it/s]"
          ]
        },
        {
          "output_type": "stream",
          "name": "stdout",
          "text": [
            "no. of UEs covered (Reward):  1320.0\n",
            "-----------------------------episode  2052 -----------------------------\n",
            "no. of UEs covered (Reward):  1240.0\n",
            "-----------------------------episode  2053 -----------------------------\n"
          ]
        },
        {
          "output_type": "stream",
          "name": "stderr",
          "text": [
            " 41%|████      | 2054/5000 [05:10<07:07,  6.89it/s]"
          ]
        },
        {
          "output_type": "stream",
          "name": "stdout",
          "text": [
            "no. of UEs covered (Reward):  1370.0\n",
            "-----------------------------episode  2054 -----------------------------\n",
            "no. of UEs covered (Reward):  1250.0\n",
            "-----------------------------episode  2055 -----------------------------\n"
          ]
        },
        {
          "output_type": "stream",
          "name": "stderr",
          "text": [
            " 41%|████      | 2056/5000 [05:10<07:20,  6.68it/s]"
          ]
        },
        {
          "output_type": "stream",
          "name": "stdout",
          "text": [
            "no. of UEs covered (Reward):  910.0\n",
            "-----------------------------episode  2056 -----------------------------\n",
            "no. of UEs covered (Reward):  110.0\n",
            "-----------------------------episode  2057 -----------------------------\n"
          ]
        },
        {
          "output_type": "stream",
          "name": "stderr",
          "text": [
            " 41%|████      | 2058/5000 [05:10<07:46,  6.31it/s]"
          ]
        },
        {
          "output_type": "stream",
          "name": "stdout",
          "text": [
            "no. of UEs covered (Reward):  1110.0\n",
            "-----------------------------episode  2058 -----------------------------\n",
            "no. of UEs covered (Reward):  1000.0\n",
            "-----------------------------episode  2059 -----------------------------\n"
          ]
        },
        {
          "output_type": "stream",
          "name": "stderr",
          "text": [
            " 41%|████      | 2060/5000 [05:11<07:30,  6.53it/s]"
          ]
        },
        {
          "output_type": "stream",
          "name": "stdout",
          "text": [
            "no. of UEs covered (Reward):  1210.0\n",
            "-----------------------------episode  2060 -----------------------------\n",
            "no. of UEs covered (Reward):  1350.0\n",
            "-----------------------------episode  2061 -----------------------------\n"
          ]
        },
        {
          "output_type": "stream",
          "name": "stderr",
          "text": [
            " 41%|████      | 2062/5000 [05:11<07:27,  6.57it/s]"
          ]
        },
        {
          "output_type": "stream",
          "name": "stdout",
          "text": [
            "no. of UEs covered (Reward):  520.0\n",
            "-----------------------------episode  2062 -----------------------------\n",
            "no. of UEs covered (Reward):  1010.0\n",
            "-----------------------------episode  2063 -----------------------------\n"
          ]
        },
        {
          "output_type": "stream",
          "name": "stderr",
          "text": [
            " 41%|████▏     | 2064/5000 [05:11<07:16,  6.72it/s]"
          ]
        },
        {
          "output_type": "stream",
          "name": "stdout",
          "text": [
            "no. of UEs covered (Reward):  920.0\n",
            "-----------------------------episode  2064 -----------------------------\n",
            "no. of UEs covered (Reward):  1370.0\n",
            "-----------------------------episode  2065 -----------------------------\n"
          ]
        },
        {
          "output_type": "stream",
          "name": "stderr",
          "text": [
            " 41%|████▏     | 2066/5000 [05:11<07:21,  6.65it/s]"
          ]
        },
        {
          "output_type": "stream",
          "name": "stdout",
          "text": [
            "no. of UEs covered (Reward):  840.0\n",
            "-----------------------------episode  2066 -----------------------------\n",
            "no. of UEs covered (Reward):  1370.0\n",
            "-----------------------------episode  2067 -----------------------------\n"
          ]
        },
        {
          "output_type": "stream",
          "name": "stderr",
          "text": [
            " 41%|████▏     | 2068/5000 [05:12<07:13,  6.77it/s]"
          ]
        },
        {
          "output_type": "stream",
          "name": "stdout",
          "text": [
            "no. of UEs covered (Reward):  90.0\n",
            "-----------------------------episode  2068 -----------------------------\n",
            "no. of UEs covered (Reward):  660.0\n",
            "-----------------------------episode  2069 -----------------------------\n"
          ]
        },
        {
          "output_type": "stream",
          "name": "stderr",
          "text": [
            "\r 41%|████▏     | 2069/5000 [05:12<07:58,  6.12it/s]"
          ]
        },
        {
          "output_type": "stream",
          "name": "stdout",
          "text": [
            "no. of UEs covered (Reward):  1330.0\n",
            "-----------------------------episode  2070 -----------------------------\n",
            "no. of UEs covered (Reward):  970.0\n"
          ]
        },
        {
          "output_type": "stream",
          "name": "stderr",
          "text": [
            "\r 41%|████▏     | 2070/5000 [05:12<08:32,  5.71it/s]"
          ]
        },
        {
          "output_type": "stream",
          "name": "stdout",
          "text": [
            "-----------------------------episode  2071 -----------------------------\n"
          ]
        },
        {
          "output_type": "stream",
          "name": "stderr",
          "text": [
            "\r 41%|████▏     | 2071/5000 [05:12<09:02,  5.40it/s]"
          ]
        },
        {
          "output_type": "stream",
          "name": "stdout",
          "text": [
            "no. of UEs covered (Reward):  1380.0\n",
            "-----------------------------episode  2072 -----------------------------\n"
          ]
        },
        {
          "output_type": "stream",
          "name": "stderr",
          "text": [
            " 41%|████▏     | 2073/5000 [05:13<09:29,  5.14it/s]"
          ]
        },
        {
          "output_type": "stream",
          "name": "stdout",
          "text": [
            "no. of UEs covered (Reward):  850.0\n",
            "-----------------------------episode  2073 -----------------------------\n",
            "no. of UEs covered (Reward):  1370.0\n"
          ]
        },
        {
          "output_type": "stream",
          "name": "stderr",
          "text": [
            "\r 41%|████▏     | 2074/5000 [05:13<09:38,  5.06it/s]"
          ]
        },
        {
          "output_type": "stream",
          "name": "stdout",
          "text": [
            "-----------------------------episode  2074 -----------------------------\n",
            "no. of UEs covered (Reward):  1330.0\n",
            "-----------------------------episode  2075 -----------------------------\n"
          ]
        },
        {
          "output_type": "stream",
          "name": "stderr",
          "text": [
            "\r 42%|████▏     | 2075/5000 [05:13<10:08,  4.81it/s]"
          ]
        },
        {
          "output_type": "stream",
          "name": "stdout",
          "text": [
            "no. of UEs covered (Reward):  1330.0\n",
            "-----------------------------episode  2076 -----------------------------\n"
          ]
        },
        {
          "output_type": "stream",
          "name": "stderr",
          "text": [
            " 42%|████▏     | 2077/5000 [05:14<10:06,  4.82it/s]"
          ]
        },
        {
          "output_type": "stream",
          "name": "stdout",
          "text": [
            "no. of UEs covered (Reward):  880.0\n",
            "-----------------------------episode  2077 -----------------------------\n",
            "no. of UEs covered (Reward):  1290.0\n",
            "-----------------------------episode  2078 -----------------------------\n"
          ]
        },
        {
          "output_type": "stream",
          "name": "stderr",
          "text": [
            "\r 42%|████▏     | 2078/5000 [05:14<09:57,  4.89it/s]"
          ]
        },
        {
          "output_type": "stream",
          "name": "stdout",
          "text": [
            "no. of UEs covered (Reward):  1210.0\n",
            "-----------------------------episode  2079 -----------------------------\n"
          ]
        },
        {
          "output_type": "stream",
          "name": "stderr",
          "text": [
            "\r 42%|████▏     | 2079/5000 [05:14<10:06,  4.81it/s]"
          ]
        },
        {
          "output_type": "stream",
          "name": "stdout",
          "text": [
            "no. of UEs covered (Reward):  1340.0\n",
            "-----------------------------episode  2080 -----------------------------\n"
          ]
        },
        {
          "output_type": "stream",
          "name": "stderr",
          "text": [
            "\r 42%|████▏     | 2080/5000 [05:14<10:33,  4.61it/s]"
          ]
        },
        {
          "output_type": "stream",
          "name": "stdout",
          "text": [
            "no. of UEs covered (Reward):  1370.0\n",
            "-----------------------------episode  2081 -----------------------------\n"
          ]
        },
        {
          "output_type": "stream",
          "name": "stderr",
          "text": [
            "\r 42%|████▏     | 2081/5000 [05:14<10:23,  4.68it/s]"
          ]
        },
        {
          "output_type": "stream",
          "name": "stdout",
          "text": [
            "no. of UEs covered (Reward):  1370.0\n",
            "-----------------------------episode  2082 -----------------------------\n"
          ]
        },
        {
          "output_type": "stream",
          "name": "stderr",
          "text": [
            " 42%|████▏     | 2083/5000 [05:15<09:50,  4.94it/s]"
          ]
        },
        {
          "output_type": "stream",
          "name": "stdout",
          "text": [
            "no. of UEs covered (Reward):  1260.0\n",
            "-----------------------------episode  2083 -----------------------------\n",
            "no. of UEs covered (Reward):  1380.0\n",
            "-----------------------------episode  2084 -----------------------------\n"
          ]
        },
        {
          "output_type": "stream",
          "name": "stderr",
          "text": [
            " 42%|████▏     | 2085/5000 [05:15<08:38,  5.62it/s]"
          ]
        },
        {
          "output_type": "stream",
          "name": "stdout",
          "text": [
            "no. of UEs covered (Reward):  950.0\n",
            "-----------------------------episode  2085 -----------------------------\n",
            "no. of UEs covered (Reward):  1380.0\n",
            "-----------------------------episode  2086 -----------------------------\n"
          ]
        },
        {
          "output_type": "stream",
          "name": "stderr",
          "text": [
            " 42%|████▏     | 2087/5000 [05:15<07:54,  6.14it/s]"
          ]
        },
        {
          "output_type": "stream",
          "name": "stdout",
          "text": [
            "no. of UEs covered (Reward):  110.0\n",
            "-----------------------------episode  2087 -----------------------------\n",
            "no. of UEs covered (Reward):  1020.0\n",
            "-----------------------------episode  2088 -----------------------------\n"
          ]
        },
        {
          "output_type": "stream",
          "name": "stderr",
          "text": [
            " 42%|████▏     | 2089/5000 [05:16<07:33,  6.43it/s]"
          ]
        },
        {
          "output_type": "stream",
          "name": "stdout",
          "text": [
            "no. of UEs covered (Reward):  710.0\n",
            "-----------------------------episode  2089 -----------------------------\n",
            "no. of UEs covered (Reward):  980.0\n",
            "-----------------------------episode  2090 -----------------------------\n"
          ]
        },
        {
          "output_type": "stream",
          "name": "stderr",
          "text": [
            " 42%|████▏     | 2091/5000 [05:16<07:21,  6.59it/s]"
          ]
        },
        {
          "output_type": "stream",
          "name": "stdout",
          "text": [
            "no. of UEs covered (Reward):  820.0\n",
            "-----------------------------episode  2091 -----------------------------\n",
            "no. of UEs covered (Reward):  1350.0\n",
            "-----------------------------episode  2092 -----------------------------\n"
          ]
        },
        {
          "output_type": "stream",
          "name": "stderr",
          "text": [
            " 42%|████▏     | 2093/5000 [05:16<07:21,  6.58it/s]"
          ]
        },
        {
          "output_type": "stream",
          "name": "stdout",
          "text": [
            "no. of UEs covered (Reward):  800.0\n",
            "-----------------------------episode  2093 -----------------------------\n",
            "no. of UEs covered (Reward):  1350.0\n",
            "-----------------------------episode  2094 -----------------------------\n"
          ]
        },
        {
          "output_type": "stream",
          "name": "stderr",
          "text": [
            " 42%|████▏     | 2095/5000 [05:17<07:32,  6.43it/s]"
          ]
        },
        {
          "output_type": "stream",
          "name": "stdout",
          "text": [
            "no. of UEs covered (Reward):  100.0\n",
            "-----------------------------episode  2095 -----------------------------\n",
            "no. of UEs covered (Reward):  310.0\n",
            "-----------------------------episode  2096 -----------------------------\n"
          ]
        },
        {
          "output_type": "stream",
          "name": "stderr",
          "text": [
            " 42%|████▏     | 2097/5000 [05:17<07:23,  6.54it/s]"
          ]
        },
        {
          "output_type": "stream",
          "name": "stdout",
          "text": [
            "no. of UEs covered (Reward):  120.0\n",
            "-----------------------------episode  2097 -----------------------------\n",
            "no. of UEs covered (Reward):  830.0\n",
            "-----------------------------episode  2098 -----------------------------\n"
          ]
        },
        {
          "output_type": "stream",
          "name": "stderr",
          "text": [
            " 42%|████▏     | 2099/5000 [05:17<07:14,  6.68it/s]"
          ]
        },
        {
          "output_type": "stream",
          "name": "stdout",
          "text": [
            "no. of UEs covered (Reward):  1170.0\n",
            "-----------------------------episode  2099 -----------------------------\n",
            "no. of UEs covered (Reward):  1330.0\n",
            "-----------------------------episode  2100 -----------------------------\n"
          ]
        },
        {
          "output_type": "stream",
          "name": "stderr",
          "text": [
            " 42%|████▏     | 2101/5000 [05:18<07:08,  6.77it/s]"
          ]
        },
        {
          "output_type": "stream",
          "name": "stdout",
          "text": [
            "no. of UEs covered (Reward):  1320.0\n",
            "-----------------------------episode  2101 -----------------------------\n",
            "no. of UEs covered (Reward):  920.0\n",
            "-----------------------------episode  2102 -----------------------------\n"
          ]
        },
        {
          "output_type": "stream",
          "name": "stderr",
          "text": [
            " 42%|████▏     | 2103/5000 [05:18<07:05,  6.81it/s]"
          ]
        },
        {
          "output_type": "stream",
          "name": "stdout",
          "text": [
            "no. of UEs covered (Reward):  680.0\n",
            "-----------------------------episode  2103 -----------------------------\n",
            "no. of UEs covered (Reward):  1020.0\n",
            "-----------------------------episode  2104 -----------------------------\n"
          ]
        },
        {
          "output_type": "stream",
          "name": "stderr",
          "text": [
            " 42%|████▏     | 2105/5000 [05:18<07:01,  6.86it/s]"
          ]
        },
        {
          "output_type": "stream",
          "name": "stdout",
          "text": [
            "no. of UEs covered (Reward):  1150.0\n",
            "-----------------------------episode  2105 -----------------------------\n",
            "no. of UEs covered (Reward):  1400.0\n",
            "-----------------------------episode  2106 -----------------------------\n"
          ]
        },
        {
          "output_type": "stream",
          "name": "stderr",
          "text": [
            " 42%|████▏     | 2107/5000 [05:18<07:14,  6.66it/s]"
          ]
        },
        {
          "output_type": "stream",
          "name": "stdout",
          "text": [
            "no. of UEs covered (Reward):  1250.0\n",
            "-----------------------------episode  2107 -----------------------------\n",
            "no. of UEs covered (Reward):  1380.0\n",
            "-----------------------------episode  2108 -----------------------------\n"
          ]
        },
        {
          "output_type": "stream",
          "name": "stderr",
          "text": [
            " 42%|████▏     | 2109/5000 [05:19<07:13,  6.67it/s]"
          ]
        },
        {
          "output_type": "stream",
          "name": "stdout",
          "text": [
            "no. of UEs covered (Reward):  1190.0\n",
            "-----------------------------episode  2109 -----------------------------\n",
            "no. of UEs covered (Reward):  1380.0\n",
            "-----------------------------episode  2110 -----------------------------\n"
          ]
        },
        {
          "output_type": "stream",
          "name": "stderr",
          "text": [
            " 42%|████▏     | 2111/5000 [05:19<07:09,  6.72it/s]"
          ]
        },
        {
          "output_type": "stream",
          "name": "stdout",
          "text": [
            "no. of UEs covered (Reward):  1370.0\n",
            "-----------------------------episode  2111 -----------------------------\n",
            "no. of UEs covered (Reward):  1310.0\n",
            "-----------------------------episode  2112 -----------------------------\n"
          ]
        },
        {
          "output_type": "stream",
          "name": "stderr",
          "text": [
            " 42%|████▏     | 2113/5000 [05:19<07:06,  6.77it/s]"
          ]
        },
        {
          "output_type": "stream",
          "name": "stdout",
          "text": [
            "no. of UEs covered (Reward):  910.0\n",
            "-----------------------------episode  2113 -----------------------------\n",
            "no. of UEs covered (Reward):  1330.0\n",
            "-----------------------------episode  2114 -----------------------------\n"
          ]
        },
        {
          "output_type": "stream",
          "name": "stderr",
          "text": [
            " 42%|████▏     | 2115/5000 [05:20<07:13,  6.65it/s]"
          ]
        },
        {
          "output_type": "stream",
          "name": "stdout",
          "text": [
            "no. of UEs covered (Reward):  1310.0\n",
            "-----------------------------episode  2115 -----------------------------\n",
            "no. of UEs covered (Reward):  540.0\n",
            "-----------------------------episode  2116 -----------------------------\n"
          ]
        },
        {
          "output_type": "stream",
          "name": "stderr",
          "text": [
            " 42%|████▏     | 2117/5000 [05:20<07:11,  6.68it/s]"
          ]
        },
        {
          "output_type": "stream",
          "name": "stdout",
          "text": [
            "no. of UEs covered (Reward):  1370.0\n",
            "-----------------------------episode  2117 -----------------------------\n",
            "no. of UEs covered (Reward):  1270.0\n",
            "-----------------------------episode  2118 -----------------------------\n"
          ]
        },
        {
          "output_type": "stream",
          "name": "stderr",
          "text": [
            " 42%|████▏     | 2119/5000 [05:20<07:11,  6.68it/s]"
          ]
        },
        {
          "output_type": "stream",
          "name": "stdout",
          "text": [
            "no. of UEs covered (Reward):  1290.0\n",
            "-----------------------------episode  2119 -----------------------------\n",
            "no. of UEs covered (Reward):  520.0\n",
            "-----------------------------episode  2120 -----------------------------\n"
          ]
        },
        {
          "output_type": "stream",
          "name": "stderr",
          "text": [
            " 42%|████▏     | 2121/5000 [05:21<07:13,  6.64it/s]"
          ]
        },
        {
          "output_type": "stream",
          "name": "stdout",
          "text": [
            "no. of UEs covered (Reward):  850.0\n",
            "-----------------------------episode  2121 -----------------------------\n",
            "no. of UEs covered (Reward):  1100.0\n",
            "-----------------------------episode  2122 -----------------------------\n"
          ]
        },
        {
          "output_type": "stream",
          "name": "stderr",
          "text": [
            " 42%|████▏     | 2123/5000 [05:21<07:10,  6.68it/s]"
          ]
        },
        {
          "output_type": "stream",
          "name": "stdout",
          "text": [
            "no. of UEs covered (Reward):  240.0\n",
            "-----------------------------episode  2123 -----------------------------\n",
            "no. of UEs covered (Reward):  1370.0\n",
            "-----------------------------episode  2124 -----------------------------\n"
          ]
        },
        {
          "output_type": "stream",
          "name": "stderr",
          "text": [
            " 42%|████▎     | 2125/5000 [05:21<07:26,  6.43it/s]"
          ]
        },
        {
          "output_type": "stream",
          "name": "stdout",
          "text": [
            "no. of UEs covered (Reward):  1370.0\n",
            "-----------------------------episode  2125 -----------------------------\n",
            "no. of UEs covered (Reward):  1350.0\n",
            "-----------------------------episode  2126 -----------------------------\n"
          ]
        },
        {
          "output_type": "stream",
          "name": "stderr",
          "text": [
            " 43%|████▎     | 2127/5000 [05:22<07:11,  6.66it/s]"
          ]
        },
        {
          "output_type": "stream",
          "name": "stdout",
          "text": [
            "no. of UEs covered (Reward):  1350.0\n",
            "-----------------------------episode  2127 -----------------------------\n",
            "no. of UEs covered (Reward):  1380.0\n",
            "-----------------------------episode  2128 -----------------------------\n"
          ]
        },
        {
          "output_type": "stream",
          "name": "stderr",
          "text": [
            " 43%|████▎     | 2129/5000 [05:22<07:12,  6.64it/s]"
          ]
        },
        {
          "output_type": "stream",
          "name": "stdout",
          "text": [
            "no. of UEs covered (Reward):  1140.0\n",
            "-----------------------------episode  2129 -----------------------------\n",
            "no. of UEs covered (Reward):  1220.0\n",
            "-----------------------------episode  2130 -----------------------------\n"
          ]
        },
        {
          "output_type": "stream",
          "name": "stderr",
          "text": [
            " 43%|████▎     | 2131/5000 [05:22<07:06,  6.73it/s]"
          ]
        },
        {
          "output_type": "stream",
          "name": "stdout",
          "text": [
            "no. of UEs covered (Reward):  1200.0\n",
            "-----------------------------episode  2131 -----------------------------\n",
            "no. of UEs covered (Reward):  810.0\n",
            "-----------------------------episode  2132 -----------------------------\n"
          ]
        },
        {
          "output_type": "stream",
          "name": "stderr",
          "text": [
            " 43%|████▎     | 2133/5000 [05:22<07:10,  6.67it/s]"
          ]
        },
        {
          "output_type": "stream",
          "name": "stdout",
          "text": [
            "no. of UEs covered (Reward):  440.0\n",
            "-----------------------------episode  2133 -----------------------------\n",
            "no. of UEs covered (Reward):  1370.0\n",
            "-----------------------------episode  2134 -----------------------------\n"
          ]
        },
        {
          "output_type": "stream",
          "name": "stderr",
          "text": [
            " 43%|████▎     | 2135/5000 [05:23<07:11,  6.64it/s]"
          ]
        },
        {
          "output_type": "stream",
          "name": "stdout",
          "text": [
            "no. of UEs covered (Reward):  990.0\n",
            "-----------------------------episode  2135 -----------------------------\n",
            "no. of UEs covered (Reward):  120.0\n",
            "-----------------------------episode  2136 -----------------------------\n"
          ]
        },
        {
          "output_type": "stream",
          "name": "stderr",
          "text": [
            " 43%|████▎     | 2137/5000 [05:23<07:05,  6.72it/s]"
          ]
        },
        {
          "output_type": "stream",
          "name": "stdout",
          "text": [
            "no. of UEs covered (Reward):  90.0\n",
            "-----------------------------episode  2137 -----------------------------\n",
            "no. of UEs covered (Reward):  1340.0\n",
            "-----------------------------episode  2138 -----------------------------\n"
          ]
        },
        {
          "output_type": "stream",
          "name": "stderr",
          "text": [
            " 43%|████▎     | 2139/5000 [05:23<07:06,  6.70it/s]"
          ]
        },
        {
          "output_type": "stream",
          "name": "stdout",
          "text": [
            "no. of UEs covered (Reward):  590.0\n",
            "-----------------------------episode  2139 -----------------------------\n",
            "no. of UEs covered (Reward):  950.0\n",
            "-----------------------------episode  2140 -----------------------------\n"
          ]
        },
        {
          "output_type": "stream",
          "name": "stderr",
          "text": [
            " 43%|████▎     | 2141/5000 [05:24<07:18,  6.52it/s]"
          ]
        },
        {
          "output_type": "stream",
          "name": "stdout",
          "text": [
            "no. of UEs covered (Reward):  1390.0\n",
            "-----------------------------episode  2141 -----------------------------\n",
            "no. of UEs covered (Reward):  740.0\n",
            "-----------------------------episode  2142 -----------------------------\n"
          ]
        },
        {
          "output_type": "stream",
          "name": "stderr",
          "text": [
            " 43%|████▎     | 2143/5000 [05:24<07:12,  6.61it/s]"
          ]
        },
        {
          "output_type": "stream",
          "name": "stdout",
          "text": [
            "no. of UEs covered (Reward):  800.0\n",
            "-----------------------------episode  2143 -----------------------------\n",
            "no. of UEs covered (Reward):  890.0\n",
            "-----------------------------episode  2144 -----------------------------\n"
          ]
        },
        {
          "output_type": "stream",
          "name": "stderr",
          "text": [
            " 43%|████▎     | 2145/5000 [05:24<07:05,  6.71it/s]"
          ]
        },
        {
          "output_type": "stream",
          "name": "stdout",
          "text": [
            "no. of UEs covered (Reward):  1240.0\n",
            "-----------------------------episode  2145 -----------------------------\n",
            "no. of UEs covered (Reward):  1370.0\n",
            "-----------------------------episode  2146 -----------------------------\n"
          ]
        },
        {
          "output_type": "stream",
          "name": "stderr",
          "text": [
            " 43%|████▎     | 2147/5000 [05:25<07:00,  6.78it/s]"
          ]
        },
        {
          "output_type": "stream",
          "name": "stdout",
          "text": [
            "no. of UEs covered (Reward):  1230.0\n",
            "-----------------------------episode  2147 -----------------------------\n",
            "no. of UEs covered (Reward):  1130.0\n",
            "-----------------------------episode  2148 -----------------------------\n"
          ]
        },
        {
          "output_type": "stream",
          "name": "stderr",
          "text": [
            " 43%|████▎     | 2149/5000 [05:25<07:16,  6.54it/s]"
          ]
        },
        {
          "output_type": "stream",
          "name": "stdout",
          "text": [
            "no. of UEs covered (Reward):  1380.0\n",
            "-----------------------------episode  2149 -----------------------------\n",
            "no. of UEs covered (Reward):  890.0\n",
            "-----------------------------episode  2150 -----------------------------\n"
          ]
        },
        {
          "output_type": "stream",
          "name": "stderr",
          "text": [
            "\r 43%|████▎     | 2150/5000 [05:25<08:10,  5.81it/s]"
          ]
        },
        {
          "output_type": "stream",
          "name": "stdout",
          "text": [
            "no. of UEs covered (Reward):  1370.0\n",
            "-----------------------------episode  2151 -----------------------------\n"
          ]
        },
        {
          "output_type": "stream",
          "name": "stderr",
          "text": [
            " 43%|████▎     | 2152/5000 [05:25<08:54,  5.33it/s]"
          ]
        },
        {
          "output_type": "stream",
          "name": "stdout",
          "text": [
            "no. of UEs covered (Reward):  1040.0\n",
            "-----------------------------episode  2152 -----------------------------\n",
            "no. of UEs covered (Reward):  1370.0\n",
            "-----------------------------episode  2153 -----------------------------\n"
          ]
        },
        {
          "output_type": "stream",
          "name": "stderr",
          "text": [
            " 43%|████▎     | 2154/5000 [05:26<09:03,  5.23it/s]"
          ]
        },
        {
          "output_type": "stream",
          "name": "stdout",
          "text": [
            "no. of UEs covered (Reward):  1310.0\n",
            "-----------------------------episode  2154 -----------------------------\n",
            "no. of UEs covered (Reward):  610.0\n",
            "-----------------------------episode  2155 -----------------------------\n"
          ]
        },
        {
          "output_type": "stream",
          "name": "stderr",
          "text": [
            "\r 43%|████▎     | 2155/5000 [05:26<08:58,  5.28it/s]"
          ]
        },
        {
          "output_type": "stream",
          "name": "stdout",
          "text": [
            "no. of UEs covered (Reward):  1360.0\n",
            "-----------------------------episode  2156 -----------------------------\n",
            "no. of UEs covered (Reward):  450.0"
          ]
        },
        {
          "output_type": "stream",
          "name": "stderr",
          "text": [
            " 43%|████▎     | 2157/5000 [05:26<09:02,  5.24it/s]"
          ]
        },
        {
          "output_type": "stream",
          "name": "stdout",
          "text": [
            "\n",
            "-----------------------------episode  2157 -----------------------------\n",
            "no. of UEs covered (Reward):  1260.0\n",
            "-----------------------------episode  2158 -----------------------------\n"
          ]
        },
        {
          "output_type": "stream",
          "name": "stderr",
          "text": [
            "\r 43%|████▎     | 2158/5000 [05:27<09:03,  5.23it/s]"
          ]
        },
        {
          "output_type": "stream",
          "name": "stdout",
          "text": [
            "no. of UEs covered (Reward):  1390.0\n",
            "-----------------------------episode  2159 -----------------------------\n"
          ]
        },
        {
          "output_type": "stream",
          "name": "stderr",
          "text": [
            "\r 43%|████▎     | 2159/5000 [05:27<09:34,  4.95it/s]"
          ]
        },
        {
          "output_type": "stream",
          "name": "stdout",
          "text": [
            "no. of UEs covered (Reward):  1070.0\n",
            "-----------------------------episode  2160 -----------------------------\n"
          ]
        },
        {
          "output_type": "stream",
          "name": "stderr",
          "text": [
            "\r 43%|████▎     | 2160/5000 [05:27<09:58,  4.75it/s]"
          ]
        },
        {
          "output_type": "stream",
          "name": "stdout",
          "text": [
            "no. of UEs covered (Reward):  160.0\n",
            "-----------------------------episode  2161 -----------------------------\n"
          ]
        },
        {
          "output_type": "stream",
          "name": "stderr",
          "text": [
            "\r 43%|████▎     | 2161/5000 [05:27<09:54,  4.78it/s]"
          ]
        },
        {
          "output_type": "stream",
          "name": "stdout",
          "text": [
            "no. of UEs covered (Reward):  1250.0\n",
            "-----------------------------episode  2162 -----------------------------\n"
          ]
        },
        {
          "output_type": "stream",
          "name": "stderr",
          "text": [
            "\r 43%|████▎     | 2162/5000 [05:28<10:07,  4.67it/s]"
          ]
        },
        {
          "output_type": "stream",
          "name": "stdout",
          "text": [
            "no. of UEs covered (Reward):  840.0\n",
            "-----------------------------episode  2163 -----------------------------\n"
          ]
        },
        {
          "output_type": "stream",
          "name": "stderr",
          "text": [
            " 43%|████▎     | 2164/5000 [05:28<09:42,  4.87it/s]"
          ]
        },
        {
          "output_type": "stream",
          "name": "stdout",
          "text": [
            "no. of UEs covered (Reward):  1260.0\n",
            "-----------------------------episode  2164 -----------------------------\n",
            "no. of UEs covered (Reward):  1340.0\n",
            "-----------------------------episode  2165 -----------------------------\n"
          ]
        },
        {
          "output_type": "stream",
          "name": "stderr",
          "text": [
            " 43%|████▎     | 2166/5000 [05:28<08:29,  5.56it/s]"
          ]
        },
        {
          "output_type": "stream",
          "name": "stdout",
          "text": [
            "no. of UEs covered (Reward):  1250.0\n",
            "-----------------------------episode  2166 -----------------------------\n",
            "no. of UEs covered (Reward):  1350.0\n",
            "-----------------------------episode  2167 -----------------------------\n"
          ]
        },
        {
          "output_type": "stream",
          "name": "stderr",
          "text": [
            " 43%|████▎     | 2168/5000 [05:29<07:42,  6.12it/s]"
          ]
        },
        {
          "output_type": "stream",
          "name": "stdout",
          "text": [
            "no. of UEs covered (Reward):  1350.0\n",
            "-----------------------------episode  2168 -----------------------------\n",
            "no. of UEs covered (Reward):  1090.0\n",
            "-----------------------------episode  2169 -----------------------------\n"
          ]
        },
        {
          "output_type": "stream",
          "name": "stderr",
          "text": [
            " 43%|████▎     | 2170/5000 [05:29<07:26,  6.34it/s]"
          ]
        },
        {
          "output_type": "stream",
          "name": "stdout",
          "text": [
            "no. of UEs covered (Reward):  960.0\n",
            "-----------------------------episode  2170 -----------------------------\n",
            "no. of UEs covered (Reward):  1370.0\n",
            "-----------------------------episode  2171 -----------------------------\n"
          ]
        },
        {
          "output_type": "stream",
          "name": "stderr",
          "text": [
            " 43%|████▎     | 2172/5000 [05:29<07:15,  6.49it/s]"
          ]
        },
        {
          "output_type": "stream",
          "name": "stdout",
          "text": [
            "no. of UEs covered (Reward):  1240.0\n",
            "-----------------------------episode  2172 -----------------------------\n",
            "no. of UEs covered (Reward):  1230.0\n",
            "-----------------------------episode  2173 -----------------------------\n"
          ]
        },
        {
          "output_type": "stream",
          "name": "stderr",
          "text": [
            " 43%|████▎     | 2174/5000 [05:29<07:08,  6.60it/s]"
          ]
        },
        {
          "output_type": "stream",
          "name": "stdout",
          "text": [
            "no. of UEs covered (Reward):  1330.0\n",
            "-----------------------------episode  2174 -----------------------------\n",
            "no. of UEs covered (Reward):  1340.0\n",
            "-----------------------------episode  2175 -----------------------------\n"
          ]
        },
        {
          "output_type": "stream",
          "name": "stderr",
          "text": [
            " 44%|████▎     | 2176/5000 [05:30<07:15,  6.49it/s]"
          ]
        },
        {
          "output_type": "stream",
          "name": "stdout",
          "text": [
            "no. of UEs covered (Reward):  1360.0\n",
            "-----------------------------episode  2176 -----------------------------\n",
            "no. of UEs covered (Reward):  1380.0\n",
            "-----------------------------episode  2177 -----------------------------\n"
          ]
        },
        {
          "output_type": "stream",
          "name": "stderr",
          "text": [
            " 44%|████▎     | 2178/5000 [05:30<07:20,  6.40it/s]"
          ]
        },
        {
          "output_type": "stream",
          "name": "stdout",
          "text": [
            "no. of UEs covered (Reward):  1360.0\n",
            "-----------------------------episode  2178 -----------------------------\n",
            "no. of UEs covered (Reward):  1150.0\n",
            "-----------------------------episode  2179 -----------------------------\n"
          ]
        },
        {
          "output_type": "stream",
          "name": "stderr",
          "text": [
            " 44%|████▎     | 2180/5000 [05:30<07:34,  6.21it/s]"
          ]
        },
        {
          "output_type": "stream",
          "name": "stdout",
          "text": [
            "no. of UEs covered (Reward):  1370.0\n",
            "-----------------------------episode  2180 -----------------------------\n",
            "no. of UEs covered (Reward):  1380.0\n",
            "-----------------------------episode  2181 -----------------------------\n"
          ]
        },
        {
          "output_type": "stream",
          "name": "stderr",
          "text": [
            " 44%|████▎     | 2182/5000 [05:31<07:25,  6.32it/s]"
          ]
        },
        {
          "output_type": "stream",
          "name": "stdout",
          "text": [
            "no. of UEs covered (Reward):  1330.0\n",
            "-----------------------------episode  2182 -----------------------------\n",
            "no. of UEs covered (Reward):  890.0\n",
            "-----------------------------episode  2183 -----------------------------\n"
          ]
        },
        {
          "output_type": "stream",
          "name": "stderr",
          "text": [
            " 44%|████▎     | 2184/5000 [05:31<07:21,  6.38it/s]"
          ]
        },
        {
          "output_type": "stream",
          "name": "stdout",
          "text": [
            "no. of UEs covered (Reward):  1360.0\n",
            "-----------------------------episode  2184 -----------------------------\n",
            "no. of UEs covered (Reward):  1000.0\n",
            "-----------------------------episode  2185 -----------------------------\n"
          ]
        },
        {
          "output_type": "stream",
          "name": "stderr",
          "text": [
            " 44%|████▎     | 2186/5000 [05:31<07:10,  6.54it/s]"
          ]
        },
        {
          "output_type": "stream",
          "name": "stdout",
          "text": [
            "no. of UEs covered (Reward):  860.0\n",
            "-----------------------------episode  2186 -----------------------------\n",
            "no. of UEs covered (Reward):  650.0\n",
            "-----------------------------episode  2187 -----------------------------\n"
          ]
        },
        {
          "output_type": "stream",
          "name": "stderr",
          "text": [
            " 44%|████▍     | 2188/5000 [05:32<07:01,  6.66it/s]"
          ]
        },
        {
          "output_type": "stream",
          "name": "stdout",
          "text": [
            "no. of UEs covered (Reward):  740.0\n",
            "-----------------------------episode  2188 -----------------------------\n",
            "no. of UEs covered (Reward):  1190.0\n",
            "-----------------------------episode  2189 -----------------------------\n"
          ]
        },
        {
          "output_type": "stream",
          "name": "stderr",
          "text": [
            " 44%|████▍     | 2190/5000 [05:32<07:04,  6.61it/s]"
          ]
        },
        {
          "output_type": "stream",
          "name": "stdout",
          "text": [
            "no. of UEs covered (Reward):  960.0\n",
            "-----------------------------episode  2190 -----------------------------\n",
            "no. of UEs covered (Reward):  1230.0\n",
            "-----------------------------episode  2191 -----------------------------\n"
          ]
        },
        {
          "output_type": "stream",
          "name": "stderr",
          "text": [
            " 44%|████▍     | 2192/5000 [05:32<07:06,  6.58it/s]"
          ]
        },
        {
          "output_type": "stream",
          "name": "stdout",
          "text": [
            "no. of UEs covered (Reward):  970.0\n",
            "-----------------------------episode  2192 -----------------------------\n",
            "no. of UEs covered (Reward):  1010.0\n",
            "-----------------------------episode  2193 -----------------------------\n"
          ]
        },
        {
          "output_type": "stream",
          "name": "stderr",
          "text": [
            " 44%|████▍     | 2194/5000 [05:33<06:57,  6.72it/s]"
          ]
        },
        {
          "output_type": "stream",
          "name": "stdout",
          "text": [
            "no. of UEs covered (Reward):  1260.0\n",
            "-----------------------------episode  2194 -----------------------------\n",
            "no. of UEs covered (Reward):  1150.0\n",
            "-----------------------------episode  2195 -----------------------------\n"
          ]
        },
        {
          "output_type": "stream",
          "name": "stderr",
          "text": [
            " 44%|████▍     | 2196/5000 [05:33<06:54,  6.76it/s]"
          ]
        },
        {
          "output_type": "stream",
          "name": "stdout",
          "text": [
            "no. of UEs covered (Reward):  1130.0\n",
            "-----------------------------episode  2196 -----------------------------\n",
            "no. of UEs covered (Reward):  1300.0\n",
            "-----------------------------episode  2197 -----------------------------\n"
          ]
        },
        {
          "output_type": "stream",
          "name": "stderr",
          "text": [
            " 44%|████▍     | 2198/5000 [05:33<06:59,  6.67it/s]"
          ]
        },
        {
          "output_type": "stream",
          "name": "stdout",
          "text": [
            "no. of UEs covered (Reward):  1110.0\n",
            "-----------------------------episode  2198 -----------------------------\n",
            "no. of UEs covered (Reward):  770.0\n",
            "-----------------------------episode  2199 -----------------------------\n"
          ]
        },
        {
          "output_type": "stream",
          "name": "stderr",
          "text": [
            " 44%|████▍     | 2200/5000 [05:33<07:00,  6.65it/s]"
          ]
        },
        {
          "output_type": "stream",
          "name": "stdout",
          "text": [
            "no. of UEs covered (Reward):  1370.0\n",
            "-----------------------------episode  2200 -----------------------------\n",
            "no. of UEs covered (Reward):  1390.0\n",
            "-----------------------------episode  2201 -----------------------------\n"
          ]
        },
        {
          "output_type": "stream",
          "name": "stderr",
          "text": [
            " 44%|████▍     | 2202/5000 [05:34<06:53,  6.77it/s]"
          ]
        },
        {
          "output_type": "stream",
          "name": "stdout",
          "text": [
            "no. of UEs covered (Reward):  1370.0\n",
            "-----------------------------episode  2202 -----------------------------\n",
            "no. of UEs covered (Reward):  1340.0\n",
            "-----------------------------episode  2203 -----------------------------\n"
          ]
        },
        {
          "output_type": "stream",
          "name": "stderr",
          "text": [
            " 44%|████▍     | 2204/5000 [05:34<07:01,  6.63it/s]"
          ]
        },
        {
          "output_type": "stream",
          "name": "stdout",
          "text": [
            "no. of UEs covered (Reward):  230.0\n",
            "-----------------------------episode  2204 -----------------------------\n",
            "no. of UEs covered (Reward):  1380.0\n",
            "-----------------------------episode  2205 -----------------------------\n"
          ]
        },
        {
          "output_type": "stream",
          "name": "stderr",
          "text": [
            " 44%|████▍     | 2206/5000 [05:34<07:04,  6.58it/s]"
          ]
        },
        {
          "output_type": "stream",
          "name": "stdout",
          "text": [
            "no. of UEs covered (Reward):  1310.0\n",
            "-----------------------------episode  2206 -----------------------------\n",
            "no. of UEs covered (Reward):  1320.0\n",
            "-----------------------------episode  2207 -----------------------------\n"
          ]
        },
        {
          "output_type": "stream",
          "name": "stderr",
          "text": [
            " 44%|████▍     | 2208/5000 [05:35<07:04,  6.58it/s]"
          ]
        },
        {
          "output_type": "stream",
          "name": "stdout",
          "text": [
            "no. of UEs covered (Reward):  750.0\n",
            "-----------------------------episode  2208 -----------------------------\n",
            "no. of UEs covered (Reward):  1340.0\n",
            "-----------------------------episode  2209 -----------------------------\n"
          ]
        },
        {
          "output_type": "stream",
          "name": "stderr",
          "text": [
            " 44%|████▍     | 2210/5000 [05:35<07:02,  6.60it/s]"
          ]
        },
        {
          "output_type": "stream",
          "name": "stdout",
          "text": [
            "no. of UEs covered (Reward):  1340.0\n",
            "-----------------------------episode  2210 -----------------------------\n",
            "no. of UEs covered (Reward):  860.0\n",
            "-----------------------------episode  2211 -----------------------------\n"
          ]
        },
        {
          "output_type": "stream",
          "name": "stderr",
          "text": [
            " 44%|████▍     | 2212/5000 [05:35<07:04,  6.56it/s]"
          ]
        },
        {
          "output_type": "stream",
          "name": "stdout",
          "text": [
            "no. of UEs covered (Reward):  760.0\n",
            "-----------------------------episode  2212 -----------------------------\n",
            "no. of UEs covered (Reward):  790.0\n",
            "-----------------------------episode  2213 -----------------------------\n"
          ]
        },
        {
          "output_type": "stream",
          "name": "stderr",
          "text": [
            " 44%|████▍     | 2214/5000 [05:36<07:06,  6.54it/s]"
          ]
        },
        {
          "output_type": "stream",
          "name": "stdout",
          "text": [
            "no. of UEs covered (Reward):  930.0\n",
            "-----------------------------episode  2214 -----------------------------\n",
            "no. of UEs covered (Reward):  320.0\n",
            "-----------------------------episode  2215 -----------------------------\n"
          ]
        },
        {
          "output_type": "stream",
          "name": "stderr",
          "text": [
            " 44%|████▍     | 2216/5000 [05:36<06:59,  6.63it/s]"
          ]
        },
        {
          "output_type": "stream",
          "name": "stdout",
          "text": [
            "no. of UEs covered (Reward):  260.0\n",
            "-----------------------------episode  2216 -----------------------------\n",
            "no. of UEs covered (Reward):  740.0\n",
            "-----------------------------episode  2217 -----------------------------\n"
          ]
        },
        {
          "output_type": "stream",
          "name": "stderr",
          "text": [
            " 44%|████▍     | 2218/5000 [05:36<07:01,  6.60it/s]"
          ]
        },
        {
          "output_type": "stream",
          "name": "stdout",
          "text": [
            "no. of UEs covered (Reward):  870.0\n",
            "-----------------------------episode  2218 -----------------------------\n",
            "no. of UEs covered (Reward):  1120.0\n",
            "-----------------------------episode  2219 -----------------------------\n"
          ]
        },
        {
          "output_type": "stream",
          "name": "stderr",
          "text": [
            " 44%|████▍     | 2220/5000 [05:36<06:52,  6.74it/s]"
          ]
        },
        {
          "output_type": "stream",
          "name": "stdout",
          "text": [
            "no. of UEs covered (Reward):  1340.0\n",
            "-----------------------------episode  2220 -----------------------------\n",
            "no. of UEs covered (Reward):  1200.0\n",
            "-----------------------------episode  2221 -----------------------------\n"
          ]
        },
        {
          "output_type": "stream",
          "name": "stderr",
          "text": [
            " 44%|████▍     | 2222/5000 [05:37<06:49,  6.79it/s]"
          ]
        },
        {
          "output_type": "stream",
          "name": "stdout",
          "text": [
            "no. of UEs covered (Reward):  1380.0\n",
            "-----------------------------episode  2222 -----------------------------\n",
            "no. of UEs covered (Reward):  1370.0\n",
            "-----------------------------episode  2223 -----------------------------\n"
          ]
        },
        {
          "output_type": "stream",
          "name": "stderr",
          "text": [
            " 44%|████▍     | 2224/5000 [05:37<06:47,  6.82it/s]"
          ]
        },
        {
          "output_type": "stream",
          "name": "stdout",
          "text": [
            "no. of UEs covered (Reward):  510.0\n",
            "-----------------------------episode  2224 -----------------------------\n",
            "no. of UEs covered (Reward):  290.0\n",
            "-----------------------------episode  2225 -----------------------------\n"
          ]
        },
        {
          "output_type": "stream",
          "name": "stderr",
          "text": [
            " 45%|████▍     | 2226/5000 [05:37<06:44,  6.85it/s]"
          ]
        },
        {
          "output_type": "stream",
          "name": "stdout",
          "text": [
            "no. of UEs covered (Reward):  270.0\n",
            "-----------------------------episode  2226 -----------------------------\n",
            "no. of UEs covered (Reward):  660.0\n",
            "-----------------------------episode  2227 -----------------------------\n"
          ]
        },
        {
          "output_type": "stream",
          "name": "stderr",
          "text": [
            " 45%|████▍     | 2228/5000 [05:38<06:44,  6.86it/s]"
          ]
        },
        {
          "output_type": "stream",
          "name": "stdout",
          "text": [
            "no. of UEs covered (Reward):  1360.0\n",
            "-----------------------------episode  2228 -----------------------------\n",
            "no. of UEs covered (Reward):  900.0\n",
            "-----------------------------episode  2229 -----------------------------\n"
          ]
        },
        {
          "output_type": "stream",
          "name": "stderr",
          "text": [
            " 45%|████▍     | 2230/5000 [05:38<07:23,  6.25it/s]"
          ]
        },
        {
          "output_type": "stream",
          "name": "stdout",
          "text": [
            "no. of UEs covered (Reward):  230.0\n",
            "-----------------------------episode  2230 -----------------------------\n",
            "no. of UEs covered (Reward):  1390.0\n",
            "-----------------------------episode  2231 -----------------------------\n"
          ]
        },
        {
          "output_type": "stream",
          "name": "stderr",
          "text": [
            "\r 45%|████▍     | 2231/5000 [05:38<08:11,  5.63it/s]"
          ]
        },
        {
          "output_type": "stream",
          "name": "stdout",
          "text": [
            "no. of UEs covered (Reward):  890.0\n",
            "-----------------------------episode  2232 -----------------------------\n",
            "no. of UEs covered (Reward):  1380.0"
          ]
        },
        {
          "output_type": "stream",
          "name": "stderr",
          "text": [
            "\r 45%|████▍     | 2232/5000 [05:38<08:36,  5.36it/s]"
          ]
        },
        {
          "output_type": "stream",
          "name": "stdout",
          "text": [
            "\n",
            "-----------------------------episode  2233 -----------------------------\n"
          ]
        },
        {
          "output_type": "stream",
          "name": "stderr",
          "text": [
            " 45%|████▍     | 2234/5000 [05:39<08:50,  5.22it/s]"
          ]
        },
        {
          "output_type": "stream",
          "name": "stdout",
          "text": [
            "no. of UEs covered (Reward):  1380.0\n",
            "-----------------------------episode  2234 -----------------------------\n",
            "no. of UEs covered (Reward):  1370.0\n",
            "-----------------------------episode  2235 -----------------------------\n"
          ]
        },
        {
          "output_type": "stream",
          "name": "stderr",
          "text": [
            "\r 45%|████▍     | 2235/5000 [05:39<08:50,  5.21it/s]"
          ]
        },
        {
          "output_type": "stream",
          "name": "stdout",
          "text": [
            "no. of UEs covered (Reward):  1380.0\n",
            "-----------------------------episode  2236 -----------------------------\n"
          ]
        },
        {
          "output_type": "stream",
          "name": "stderr",
          "text": [
            "\r 45%|████▍     | 2236/5000 [05:39<09:21,  4.92it/s]"
          ]
        },
        {
          "output_type": "stream",
          "name": "stdout",
          "text": [
            "no. of UEs covered (Reward):  1370.0\n",
            "-----------------------------episode  2237 -----------------------------\n"
          ]
        },
        {
          "output_type": "stream",
          "name": "stderr",
          "text": [
            "\r 45%|████▍     | 2237/5000 [05:39<09:36,  4.79it/s]"
          ]
        },
        {
          "output_type": "stream",
          "name": "stdout",
          "text": [
            "no. of UEs covered (Reward):  1360.0\n",
            "-----------------------------episode  2238 -----------------------------\n",
            "no. of UEs covered (Reward): "
          ]
        },
        {
          "output_type": "stream",
          "name": "stderr",
          "text": [
            "\r 45%|████▍     | 2238/5000 [05:40<09:35,  4.80it/s]"
          ]
        },
        {
          "output_type": "stream",
          "name": "stdout",
          "text": [
            " 1360.0\n",
            "-----------------------------episode  2239 -----------------------------\n"
          ]
        },
        {
          "output_type": "stream",
          "name": "stderr",
          "text": [
            "\r 45%|████▍     | 2239/5000 [05:40<09:56,  4.63it/s]"
          ]
        },
        {
          "output_type": "stream",
          "name": "stdout",
          "text": [
            "no. of UEs covered (Reward):  1180.0\n",
            "-----------------------------episode  2240 -----------------------------\n"
          ]
        },
        {
          "output_type": "stream",
          "name": "stderr",
          "text": [
            "\r 45%|████▍     | 2240/5000 [05:40<09:59,  4.61it/s]"
          ]
        },
        {
          "output_type": "stream",
          "name": "stdout",
          "text": [
            "no. of UEs covered (Reward):  1360.0\n",
            "-----------------------------episode  2241 -----------------------------\n"
          ]
        },
        {
          "output_type": "stream",
          "name": "stderr",
          "text": [
            "\r 45%|████▍     | 2241/5000 [05:40<10:18,  4.46it/s]"
          ]
        },
        {
          "output_type": "stream",
          "name": "stdout",
          "text": [
            "no. of UEs covered (Reward):  1160.0\n",
            "-----------------------------episode  2242 -----------------------------\n"
          ]
        },
        {
          "output_type": "stream",
          "name": "stderr",
          "text": [
            "\r 45%|████▍     | 2242/5000 [05:41<10:04,  4.56it/s]"
          ]
        },
        {
          "output_type": "stream",
          "name": "stdout",
          "text": [
            "no. of UEs covered (Reward):  1190.0\n",
            "-----------------------------episode  2243 -----------------------------\n"
          ]
        },
        {
          "output_type": "stream",
          "name": "stderr",
          "text": [
            "\r 45%|████▍     | 2243/5000 [05:41<10:27,  4.39it/s]"
          ]
        },
        {
          "output_type": "stream",
          "name": "stdout",
          "text": [
            "no. of UEs covered (Reward):  1370.0\n",
            "-----------------------------episode  2244 -----------------------------\n"
          ]
        },
        {
          "output_type": "stream",
          "name": "stderr",
          "text": [
            " 45%|████▍     | 2245/5000 [05:41<09:30,  4.83it/s]"
          ]
        },
        {
          "output_type": "stream",
          "name": "stdout",
          "text": [
            "no. of UEs covered (Reward):  570.0\n",
            "-----------------------------episode  2245 -----------------------------\n",
            "no. of UEs covered (Reward):  1390.0\n",
            "-----------------------------episode  2246 -----------------------------\n"
          ]
        },
        {
          "output_type": "stream",
          "name": "stderr",
          "text": [
            " 45%|████▍     | 2247/5000 [05:42<08:32,  5.37it/s]"
          ]
        },
        {
          "output_type": "stream",
          "name": "stdout",
          "text": [
            "no. of UEs covered (Reward):  1360.0\n",
            "-----------------------------episode  2247 -----------------------------\n",
            "no. of UEs covered (Reward):  1380.0\n",
            "-----------------------------episode  2248 -----------------------------\n"
          ]
        },
        {
          "output_type": "stream",
          "name": "stderr",
          "text": [
            " 45%|████▍     | 2249/5000 [05:42<07:53,  5.81it/s]"
          ]
        },
        {
          "output_type": "stream",
          "name": "stdout",
          "text": [
            "no. of UEs covered (Reward):  1390.0\n",
            "-----------------------------episode  2249 -----------------------------\n",
            "no. of UEs covered (Reward):  1400.0\n",
            "-----------------------------episode  2250 -----------------------------\n"
          ]
        },
        {
          "output_type": "stream",
          "name": "stderr",
          "text": [
            " 45%|████▌     | 2251/5000 [05:42<07:47,  5.88it/s]"
          ]
        },
        {
          "output_type": "stream",
          "name": "stdout",
          "text": [
            "no. of UEs covered (Reward):  1270.0\n",
            "-----------------------------episode  2251 -----------------------------\n",
            "no. of UEs covered (Reward):  70.0\n",
            "-----------------------------episode  2252 -----------------------------\n"
          ]
        },
        {
          "output_type": "stream",
          "name": "stderr",
          "text": [
            " 45%|████▌     | 2253/5000 [05:42<07:30,  6.10it/s]"
          ]
        },
        {
          "output_type": "stream",
          "name": "stdout",
          "text": [
            "no. of UEs covered (Reward):  1390.0\n",
            "-----------------------------episode  2253 -----------------------------\n",
            "no. of UEs covered (Reward):  1370.0\n",
            "-----------------------------episode  2254 -----------------------------\n"
          ]
        },
        {
          "output_type": "stream",
          "name": "stderr",
          "text": [
            " 45%|████▌     | 2255/5000 [05:43<07:18,  6.25it/s]"
          ]
        },
        {
          "output_type": "stream",
          "name": "stdout",
          "text": [
            "no. of UEs covered (Reward):  1270.0\n",
            "-----------------------------episode  2255 -----------------------------\n",
            "no. of UEs covered (Reward):  990.0\n",
            "-----------------------------episode  2256 -----------------------------\n"
          ]
        },
        {
          "output_type": "stream",
          "name": "stderr",
          "text": [
            " 45%|████▌     | 2257/5000 [05:43<07:13,  6.33it/s]"
          ]
        },
        {
          "output_type": "stream",
          "name": "stdout",
          "text": [
            "no. of UEs covered (Reward):  1330.0\n",
            "-----------------------------episode  2257 -----------------------------\n",
            "no. of UEs covered (Reward):  830.0\n",
            "-----------------------------episode  2258 -----------------------------\n"
          ]
        },
        {
          "output_type": "stream",
          "name": "stderr",
          "text": [
            " 45%|████▌     | 2259/5000 [05:43<07:09,  6.38it/s]"
          ]
        },
        {
          "output_type": "stream",
          "name": "stdout",
          "text": [
            "no. of UEs covered (Reward):  1130.0\n",
            "-----------------------------episode  2259 -----------------------------\n",
            "no. of UEs covered (Reward):  1210.0\n",
            "-----------------------------episode  2260 -----------------------------\n"
          ]
        },
        {
          "output_type": "stream",
          "name": "stderr",
          "text": [
            " 45%|████▌     | 2261/5000 [05:44<07:05,  6.43it/s]"
          ]
        },
        {
          "output_type": "stream",
          "name": "stdout",
          "text": [
            "no. of UEs covered (Reward):  100.0\n",
            "-----------------------------episode  2261 -----------------------------\n",
            "no. of UEs covered (Reward):  1370.0\n",
            "-----------------------------episode  2262 -----------------------------\n"
          ]
        },
        {
          "output_type": "stream",
          "name": "stderr",
          "text": [
            " 45%|████▌     | 2263/5000 [05:44<07:07,  6.40it/s]"
          ]
        },
        {
          "output_type": "stream",
          "name": "stdout",
          "text": [
            "no. of UEs covered (Reward):  1370.0\n",
            "-----------------------------episode  2263 -----------------------------\n",
            "no. of UEs covered (Reward):  1340.0\n",
            "-----------------------------episode  2264 -----------------------------\n"
          ]
        },
        {
          "output_type": "stream",
          "name": "stderr",
          "text": [
            " 45%|████▌     | 2265/5000 [05:44<07:10,  6.35it/s]"
          ]
        },
        {
          "output_type": "stream",
          "name": "stdout",
          "text": [
            "no. of UEs covered (Reward):  810.0\n",
            "-----------------------------episode  2265 -----------------------------\n",
            "no. of UEs covered (Reward):  1060.0\n",
            "-----------------------------episode  2266 -----------------------------\n"
          ]
        },
        {
          "output_type": "stream",
          "name": "stderr",
          "text": [
            " 45%|████▌     | 2267/5000 [05:45<07:04,  6.43it/s]"
          ]
        },
        {
          "output_type": "stream",
          "name": "stdout",
          "text": [
            "no. of UEs covered (Reward):  1370.0\n",
            "-----------------------------episode  2267 -----------------------------\n",
            "no. of UEs covered (Reward):  1340.0\n",
            "-----------------------------episode  2268 -----------------------------\n"
          ]
        },
        {
          "output_type": "stream",
          "name": "stderr",
          "text": [
            " 45%|████▌     | 2269/5000 [05:45<07:01,  6.47it/s]"
          ]
        },
        {
          "output_type": "stream",
          "name": "stdout",
          "text": [
            "no. of UEs covered (Reward):  960.0\n",
            "-----------------------------episode  2269 -----------------------------\n",
            "no. of UEs covered (Reward):  1030.0\n",
            "-----------------------------episode  2270 -----------------------------\n"
          ]
        },
        {
          "output_type": "stream",
          "name": "stderr",
          "text": [
            " 45%|████▌     | 2271/5000 [05:45<07:13,  6.30it/s]"
          ]
        },
        {
          "output_type": "stream",
          "name": "stdout",
          "text": [
            "no. of UEs covered (Reward):  980.0\n",
            "-----------------------------episode  2271 -----------------------------\n",
            "no. of UEs covered (Reward):  1360.0\n",
            "-----------------------------episode  2272 -----------------------------\n"
          ]
        },
        {
          "output_type": "stream",
          "name": "stderr",
          "text": [
            " 45%|████▌     | 2273/5000 [05:46<07:13,  6.29it/s]"
          ]
        },
        {
          "output_type": "stream",
          "name": "stdout",
          "text": [
            "no. of UEs covered (Reward):  1180.0\n",
            "-----------------------------episode  2273 -----------------------------\n",
            "no. of UEs covered (Reward):  530.0\n",
            "-----------------------------episode  2274 -----------------------------\n"
          ]
        },
        {
          "output_type": "stream",
          "name": "stderr",
          "text": [
            " 46%|████▌     | 2275/5000 [05:46<07:12,  6.31it/s]"
          ]
        },
        {
          "output_type": "stream",
          "name": "stdout",
          "text": [
            "no. of UEs covered (Reward):  1360.0\n",
            "-----------------------------episode  2275 -----------------------------\n",
            "no. of UEs covered (Reward):  1370.0\n",
            "-----------------------------episode  2276 -----------------------------\n"
          ]
        },
        {
          "output_type": "stream",
          "name": "stderr",
          "text": [
            " 46%|████▌     | 2277/5000 [05:46<07:07,  6.37it/s]"
          ]
        },
        {
          "output_type": "stream",
          "name": "stdout",
          "text": [
            "no. of UEs covered (Reward):  780.0\n",
            "-----------------------------episode  2277 -----------------------------\n",
            "no. of UEs covered (Reward):  110.0\n",
            "-----------------------------episode  2278 -----------------------------\n"
          ]
        },
        {
          "output_type": "stream",
          "name": "stderr",
          "text": [
            " 46%|████▌     | 2279/5000 [05:47<07:11,  6.30it/s]"
          ]
        },
        {
          "output_type": "stream",
          "name": "stdout",
          "text": [
            "no. of UEs covered (Reward):  1370.0\n",
            "-----------------------------episode  2279 -----------------------------\n",
            "no. of UEs covered (Reward):  1280.0\n",
            "-----------------------------episode  2280 -----------------------------\n"
          ]
        },
        {
          "output_type": "stream",
          "name": "stderr",
          "text": [
            " 46%|████▌     | 2281/5000 [05:47<07:11,  6.30it/s]"
          ]
        },
        {
          "output_type": "stream",
          "name": "stdout",
          "text": [
            "no. of UEs covered (Reward):  620.0\n",
            "-----------------------------episode  2281 -----------------------------\n",
            "no. of UEs covered (Reward):  1030.0\n",
            "-----------------------------episode  2282 -----------------------------\n"
          ]
        },
        {
          "output_type": "stream",
          "name": "stderr",
          "text": [
            " 46%|████▌     | 2283/5000 [05:47<07:24,  6.12it/s]"
          ]
        },
        {
          "output_type": "stream",
          "name": "stdout",
          "text": [
            "no. of UEs covered (Reward):  1090.0\n",
            "-----------------------------episode  2283 -----------------------------\n",
            "no. of UEs covered (Reward):  260.0\n",
            "-----------------------------episode  2284 -----------------------------\n"
          ]
        },
        {
          "output_type": "stream",
          "name": "stderr",
          "text": [
            " 46%|████▌     | 2285/5000 [05:48<07:21,  6.15it/s]"
          ]
        },
        {
          "output_type": "stream",
          "name": "stdout",
          "text": [
            "no. of UEs covered (Reward):  850.0\n",
            "-----------------------------episode  2285 -----------------------------\n",
            "no. of UEs covered (Reward):  1360.0\n",
            "-----------------------------episode  2286 -----------------------------\n"
          ]
        },
        {
          "output_type": "stream",
          "name": "stderr",
          "text": [
            "\r 46%|████▌     | 2286/5000 [05:48<07:32,  6.00it/s]"
          ]
        },
        {
          "output_type": "stream",
          "name": "stdout",
          "text": [
            "no. of UEs covered (Reward):  1380.0\n",
            "-----------------------------episode  2287 -----------------------------\n"
          ]
        },
        {
          "output_type": "stream",
          "name": "stderr",
          "text": [
            "\r 46%|████▌     | 2287/5000 [05:48<08:16,  5.47it/s]"
          ]
        },
        {
          "output_type": "stream",
          "name": "stdout",
          "text": [
            "no. of UEs covered (Reward):  350.0\n",
            "-----------------------------episode  2288 -----------------------------\n"
          ]
        },
        {
          "output_type": "stream",
          "name": "stderr",
          "text": [
            "\r 46%|████▌     | 2288/5000 [05:48<09:17,  4.87it/s]"
          ]
        },
        {
          "output_type": "stream",
          "name": "stdout",
          "text": [
            "no. of UEs covered (Reward):  1360.0\n",
            "-----------------------------episode  2289 -----------------------------\n"
          ]
        },
        {
          "output_type": "stream",
          "name": "stderr",
          "text": [
            "\r 46%|████▌     | 2289/5000 [05:48<09:41,  4.66it/s]"
          ]
        },
        {
          "output_type": "stream",
          "name": "stdout",
          "text": [
            "no. of UEs covered (Reward):  1260.0\n",
            "-----------------------------episode  2290 -----------------------------\n"
          ]
        },
        {
          "output_type": "stream",
          "name": "stderr",
          "text": [
            "\r 46%|████▌     | 2290/5000 [05:49<09:40,  4.67it/s]"
          ]
        },
        {
          "output_type": "stream",
          "name": "stdout",
          "text": [
            "no. of UEs covered (Reward):  230.0\n",
            "-----------------------------episode  2291 -----------------------------\n"
          ]
        },
        {
          "output_type": "stream",
          "name": "stderr",
          "text": [
            " 46%|████▌     | 2292/5000 [05:49<09:20,  4.83it/s]"
          ]
        },
        {
          "output_type": "stream",
          "name": "stdout",
          "text": [
            "no. of UEs covered (Reward):  330.0\n",
            "-----------------------------episode  2292 -----------------------------\n",
            "no. of UEs covered (Reward):  1090.0\n",
            "-----------------------------episode  2293 -----------------------------\n"
          ]
        },
        {
          "output_type": "stream",
          "name": "stderr",
          "text": [
            "\r 46%|████▌     | 2293/5000 [05:49<09:29,  4.76it/s]"
          ]
        },
        {
          "output_type": "stream",
          "name": "stdout",
          "text": [
            "no. of UEs covered (Reward):  1350.0\n",
            "-----------------------------episode  2294 -----------------------------\n"
          ]
        },
        {
          "output_type": "stream",
          "name": "stderr",
          "text": [
            "\r 46%|████▌     | 2294/5000 [05:50<09:57,  4.53it/s]"
          ]
        },
        {
          "output_type": "stream",
          "name": "stdout",
          "text": [
            "no. of UEs covered (Reward):  820.0\n",
            "-----------------------------episode  2295 -----------------------------\n"
          ]
        },
        {
          "output_type": "stream",
          "name": "stderr",
          "text": [
            "\r 46%|████▌     | 2295/5000 [05:50<17:36,  2.56it/s]"
          ]
        },
        {
          "output_type": "stream",
          "name": "stdout",
          "text": [
            "no. of UEs covered (Reward):  1130.0\n",
            "-----------------------------episode  2296 -----------------------------\n"
          ]
        },
        {
          "output_type": "stream",
          "name": "stderr",
          "text": [
            " 46%|████▌     | 2297/5000 [05:51<13:18,  3.38it/s]"
          ]
        },
        {
          "output_type": "stream",
          "name": "stdout",
          "text": [
            "no. of UEs covered (Reward):  1360.0\n",
            "-----------------------------episode  2297 -----------------------------\n",
            "no. of UEs covered (Reward):  470.0\n",
            "-----------------------------episode  2298 -----------------------------\n"
          ]
        },
        {
          "output_type": "stream",
          "name": "stderr",
          "text": [
            "\r 46%|████▌     | 2298/5000 [05:51<11:32,  3.90it/s]"
          ]
        },
        {
          "output_type": "stream",
          "name": "stdout",
          "text": [
            "no. of UEs covered (Reward):  1000.0\n",
            "-----------------------------episode  2299 -----------------------------\n"
          ]
        },
        {
          "output_type": "stream",
          "name": "stderr",
          "text": [
            "\r 46%|████▌     | 2299/5000 [05:51<10:55,  4.12it/s]"
          ]
        },
        {
          "output_type": "stream",
          "name": "stdout",
          "text": [
            "no. of UEs covered (Reward):  1140.0\n",
            "-----------------------------episode  2300 -----------------------------\n"
          ]
        },
        {
          "output_type": "stream",
          "name": "stderr",
          "text": [
            "\r 46%|████▌     | 2300/5000 [05:51<10:37,  4.24it/s]"
          ]
        },
        {
          "output_type": "stream",
          "name": "stdout",
          "text": [
            "no. of UEs covered (Reward):  1240.0\n",
            "-----------------------------episode  2301 -----------------------------\n"
          ]
        },
        {
          "output_type": "stream",
          "name": "stderr",
          "text": [
            "\r 46%|████▌     | 2301/5000 [05:52<10:21,  4.34it/s]"
          ]
        },
        {
          "output_type": "stream",
          "name": "stdout",
          "text": [
            "no. of UEs covered (Reward):  1300.0\n",
            "-----------------------------episode  2302 -----------------------------\n"
          ]
        },
        {
          "output_type": "stream",
          "name": "stderr",
          "text": [
            "\r 46%|████▌     | 2302/5000 [05:52<10:12,  4.40it/s]"
          ]
        },
        {
          "output_type": "stream",
          "name": "stdout",
          "text": [
            "no. of UEs covered (Reward):  590.0\n",
            "-----------------------------episode  2303 -----------------------------\n"
          ]
        },
        {
          "output_type": "stream",
          "name": "stderr",
          "text": [
            " 46%|████▌     | 2304/5000 [05:52<09:48,  4.58it/s]"
          ]
        },
        {
          "output_type": "stream",
          "name": "stdout",
          "text": [
            "no. of UEs covered (Reward):  120.0\n",
            "-----------------------------episode  2304 -----------------------------\n",
            "no. of UEs covered (Reward):  140.0\n"
          ]
        },
        {
          "output_type": "stream",
          "name": "stderr",
          "text": [
            "\r 46%|████▌     | 2305/5000 [05:52<09:57,  4.51it/s]"
          ]
        },
        {
          "output_type": "stream",
          "name": "stdout",
          "text": [
            "-----------------------------episode  2305 -----------------------------\n",
            "no. of UEs covered (Reward):  110.0\n",
            "-----------------------------episode  2306 -----------------------------\n"
          ]
        },
        {
          "output_type": "stream",
          "name": "stderr",
          "text": [
            "\r 46%|████▌     | 2306/5000 [05:53<09:46,  4.59it/s]"
          ]
        },
        {
          "output_type": "stream",
          "name": "stdout",
          "text": [
            "no. of UEs covered (Reward):  100.0\n",
            "-----------------------------episode  2307 -----------------------------\n",
            "no. of UEs covered (Reward):  "
          ]
        },
        {
          "output_type": "stream",
          "name": "stderr",
          "text": [
            "\r 46%|████▌     | 2307/5000 [05:53<09:36,  4.67it/s]"
          ]
        },
        {
          "output_type": "stream",
          "name": "stdout",
          "text": [
            "60.0\n",
            "-----------------------------episode  2308 -----------------------------\n"
          ]
        },
        {
          "output_type": "stream",
          "name": "stderr",
          "text": [
            "\r 46%|████▌     | 2308/5000 [05:53<09:33,  4.70it/s]"
          ]
        },
        {
          "output_type": "stream",
          "name": "stdout",
          "text": [
            "no. of UEs covered (Reward):  110.0\n",
            "-----------------------------episode  2309 -----------------------------\n"
          ]
        },
        {
          "output_type": "stream",
          "name": "stderr",
          "text": [
            "\r 46%|████▌     | 2309/5000 [05:53<09:45,  4.59it/s]"
          ]
        },
        {
          "output_type": "stream",
          "name": "stdout",
          "text": [
            "no. of UEs covered (Reward):  1280.0\n",
            "-----------------------------episode  2310 -----------------------------\n"
          ]
        },
        {
          "output_type": "stream",
          "name": "stderr",
          "text": [
            "\r 46%|████▌     | 2310/5000 [05:54<09:55,  4.51it/s]"
          ]
        },
        {
          "output_type": "stream",
          "name": "stdout",
          "text": [
            "no. of UEs covered (Reward):  110.0\n",
            "-----------------------------episode  2311 -----------------------------\n"
          ]
        },
        {
          "output_type": "stream",
          "name": "stderr",
          "text": [
            "\r 46%|████▌     | 2311/5000 [05:54<09:55,  4.51it/s]"
          ]
        },
        {
          "output_type": "stream",
          "name": "stdout",
          "text": [
            "no. of UEs covered (Reward):  370.0\n",
            "-----------------------------episode  2312 -----------------------------\n"
          ]
        },
        {
          "output_type": "stream",
          "name": "stderr",
          "text": [
            "\r 46%|████▌     | 2312/5000 [05:54<10:07,  4.43it/s]"
          ]
        },
        {
          "output_type": "stream",
          "name": "stdout",
          "text": [
            "no. of UEs covered (Reward):  1230.0\n",
            "-----------------------------episode  2313 -----------------------------\n"
          ]
        },
        {
          "output_type": "stream",
          "name": "stderr",
          "text": [
            " 46%|████▋     | 2314/5000 [05:54<09:27,  4.73it/s]"
          ]
        },
        {
          "output_type": "stream",
          "name": "stdout",
          "text": [
            "no. of UEs covered (Reward):  70.0\n",
            "-----------------------------episode  2314 -----------------------------\n",
            "no. of UEs covered (Reward):  1360.0\n",
            "-----------------------------episode  2315 -----------------------------\n"
          ]
        },
        {
          "output_type": "stream",
          "name": "stderr",
          "text": [
            " 46%|████▋     | 2316/5000 [05:55<08:19,  5.37it/s]"
          ]
        },
        {
          "output_type": "stream",
          "name": "stdout",
          "text": [
            "no. of UEs covered (Reward):  1030.0\n",
            "-----------------------------episode  2316 -----------------------------\n",
            "no. of UEs covered (Reward):  60.0\n",
            "-----------------------------episode  2317 -----------------------------\n"
          ]
        },
        {
          "output_type": "stream",
          "name": "stderr",
          "text": [
            " 46%|████▋     | 2318/5000 [05:55<07:50,  5.70it/s]"
          ]
        },
        {
          "output_type": "stream",
          "name": "stdout",
          "text": [
            "no. of UEs covered (Reward):  470.0\n",
            "-----------------------------episode  2318 -----------------------------\n",
            "no. of UEs covered (Reward):  80.0\n",
            "-----------------------------episode  2319 -----------------------------\n"
          ]
        },
        {
          "output_type": "stream",
          "name": "stderr",
          "text": [
            " 46%|████▋     | 2320/5000 [05:55<07:22,  6.05it/s]"
          ]
        },
        {
          "output_type": "stream",
          "name": "stdout",
          "text": [
            "no. of UEs covered (Reward):  60.0\n",
            "-----------------------------episode  2320 -----------------------------\n",
            "no. of UEs covered (Reward):  90.0\n",
            "-----------------------------episode  2321 -----------------------------\n"
          ]
        },
        {
          "output_type": "stream",
          "name": "stderr",
          "text": [
            " 46%|████▋     | 2322/5000 [05:56<07:17,  6.11it/s]"
          ]
        },
        {
          "output_type": "stream",
          "name": "stdout",
          "text": [
            "no. of UEs covered (Reward):  110.0\n",
            "-----------------------------episode  2322 -----------------------------\n",
            "no. of UEs covered (Reward):  1190.0\n",
            "-----------------------------episode  2323 -----------------------------\n"
          ]
        },
        {
          "output_type": "stream",
          "name": "stderr",
          "text": [
            " 46%|████▋     | 2324/5000 [05:56<07:13,  6.17it/s]"
          ]
        },
        {
          "output_type": "stream",
          "name": "stdout",
          "text": [
            "no. of UEs covered (Reward):  1010.0\n",
            "-----------------------------episode  2324 -----------------------------\n",
            "no. of UEs covered (Reward):  820.0\n",
            "-----------------------------episode  2325 -----------------------------\n"
          ]
        },
        {
          "output_type": "stream",
          "name": "stderr",
          "text": [
            " 47%|████▋     | 2326/5000 [05:56<07:00,  6.36it/s]"
          ]
        },
        {
          "output_type": "stream",
          "name": "stdout",
          "text": [
            "no. of UEs covered (Reward):  490.0\n",
            "-----------------------------episode  2326 -----------------------------\n",
            "no. of UEs covered (Reward):  1380.0\n",
            "-----------------------------episode  2327 -----------------------------\n"
          ]
        },
        {
          "output_type": "stream",
          "name": "stderr",
          "text": [
            " 47%|████▋     | 2328/5000 [05:57<07:04,  6.30it/s]"
          ]
        },
        {
          "output_type": "stream",
          "name": "stdout",
          "text": [
            "no. of UEs covered (Reward):  120.0\n",
            "-----------------------------episode  2328 -----------------------------\n",
            "no. of UEs covered (Reward):  50.0\n",
            "-----------------------------episode  2329 -----------------------------\n"
          ]
        },
        {
          "output_type": "stream",
          "name": "stderr",
          "text": [
            " 47%|████▋     | 2330/5000 [05:57<07:08,  6.23it/s]"
          ]
        },
        {
          "output_type": "stream",
          "name": "stdout",
          "text": [
            "no. of UEs covered (Reward):  190.0\n",
            "-----------------------------episode  2330 -----------------------------\n",
            "no. of UEs covered (Reward):  70.0\n",
            "-----------------------------episode  2331 -----------------------------\n"
          ]
        },
        {
          "output_type": "stream",
          "name": "stderr",
          "text": [
            " 47%|████▋     | 2332/5000 [05:57<07:16,  6.12it/s]"
          ]
        },
        {
          "output_type": "stream",
          "name": "stdout",
          "text": [
            "no. of UEs covered (Reward):  1300.0\n",
            "-----------------------------episode  2332 -----------------------------\n",
            "no. of UEs covered (Reward):  120.0\n",
            "-----------------------------episode  2333 -----------------------------\n"
          ]
        },
        {
          "output_type": "stream",
          "name": "stderr",
          "text": [
            " 47%|████▋     | 2334/5000 [05:58<07:12,  6.17it/s]"
          ]
        },
        {
          "output_type": "stream",
          "name": "stdout",
          "text": [
            "no. of UEs covered (Reward):  1320.0\n",
            "-----------------------------episode  2334 -----------------------------\n",
            "no. of UEs covered (Reward):  1150.0\n",
            "-----------------------------episode  2335 -----------------------------\n"
          ]
        },
        {
          "output_type": "stream",
          "name": "stderr",
          "text": [
            " 47%|████▋     | 2336/5000 [05:58<07:07,  6.23it/s]"
          ]
        },
        {
          "output_type": "stream",
          "name": "stdout",
          "text": [
            "no. of UEs covered (Reward):  1030.0\n",
            "-----------------------------episode  2336 -----------------------------\n",
            "no. of UEs covered (Reward):  70.0\n",
            "-----------------------------episode  2337 -----------------------------\n"
          ]
        },
        {
          "output_type": "stream",
          "name": "stderr",
          "text": [
            " 47%|████▋     | 2338/5000 [05:58<07:05,  6.25it/s]"
          ]
        },
        {
          "output_type": "stream",
          "name": "stdout",
          "text": [
            "no. of UEs covered (Reward):  40.0\n",
            "-----------------------------episode  2338 -----------------------------\n",
            "no. of UEs covered (Reward):  1220.0\n",
            "-----------------------------episode  2339 -----------------------------\n"
          ]
        },
        {
          "output_type": "stream",
          "name": "stderr",
          "text": [
            " 47%|████▋     | 2340/5000 [05:59<07:05,  6.25it/s]"
          ]
        },
        {
          "output_type": "stream",
          "name": "stdout",
          "text": [
            "no. of UEs covered (Reward):  1360.0\n",
            "-----------------------------episode  2340 -----------------------------\n",
            "no. of UEs covered (Reward):  1080.0\n",
            "-----------------------------episode  2341 -----------------------------\n"
          ]
        },
        {
          "output_type": "stream",
          "name": "stderr",
          "text": [
            " 47%|████▋     | 2342/5000 [05:59<07:05,  6.25it/s]"
          ]
        },
        {
          "output_type": "stream",
          "name": "stdout",
          "text": [
            "no. of UEs covered (Reward):  1380.0\n",
            "-----------------------------episode  2342 -----------------------------\n",
            "no. of UEs covered (Reward):  1360.0\n",
            "-----------------------------episode  2343 -----------------------------\n"
          ]
        },
        {
          "output_type": "stream",
          "name": "stderr",
          "text": [
            " 47%|████▋     | 2344/5000 [05:59<07:05,  6.24it/s]"
          ]
        },
        {
          "output_type": "stream",
          "name": "stdout",
          "text": [
            "no. of UEs covered (Reward):  1340.0\n",
            "-----------------------------episode  2344 -----------------------------\n",
            "no. of UEs covered (Reward):  930.0\n",
            "-----------------------------episode  2345 -----------------------------\n"
          ]
        },
        {
          "output_type": "stream",
          "name": "stderr",
          "text": [
            " 47%|████▋     | 2346/5000 [06:00<07:05,  6.24it/s]"
          ]
        },
        {
          "output_type": "stream",
          "name": "stdout",
          "text": [
            "no. of UEs covered (Reward):  140.0\n",
            "-----------------------------episode  2346 -----------------------------\n",
            "no. of UEs covered (Reward):  100.0\n",
            "-----------------------------episode  2347 -----------------------------\n"
          ]
        },
        {
          "output_type": "stream",
          "name": "stderr",
          "text": [
            " 47%|████▋     | 2348/5000 [06:00<07:09,  6.17it/s]"
          ]
        },
        {
          "output_type": "stream",
          "name": "stdout",
          "text": [
            "no. of UEs covered (Reward):  110.0\n",
            "-----------------------------episode  2348 -----------------------------\n",
            "no. of UEs covered (Reward):  120.0\n",
            "-----------------------------episode  2349 -----------------------------\n"
          ]
        },
        {
          "output_type": "stream",
          "name": "stderr",
          "text": [
            " 47%|████▋     | 2350/5000 [06:00<07:16,  6.08it/s]"
          ]
        },
        {
          "output_type": "stream",
          "name": "stdout",
          "text": [
            "no. of UEs covered (Reward):  580.0\n",
            "-----------------------------episode  2350 -----------------------------\n",
            "no. of UEs covered (Reward):  80.0\n",
            "-----------------------------episode  2351 -----------------------------\n"
          ]
        },
        {
          "output_type": "stream",
          "name": "stderr",
          "text": [
            " 47%|████▋     | 2352/5000 [06:01<07:20,  6.01it/s]"
          ]
        },
        {
          "output_type": "stream",
          "name": "stdout",
          "text": [
            "no. of UEs covered (Reward):  700.0\n",
            "-----------------------------episode  2352 -----------------------------\n",
            "no. of UEs covered (Reward):  1260.0\n",
            "-----------------------------episode  2353 -----------------------------\n"
          ]
        },
        {
          "output_type": "stream",
          "name": "stderr",
          "text": [
            " 47%|████▋     | 2354/5000 [06:01<07:26,  5.93it/s]"
          ]
        },
        {
          "output_type": "stream",
          "name": "stdout",
          "text": [
            "no. of UEs covered (Reward):  70.0\n",
            "-----------------------------episode  2354 -----------------------------\n",
            "no. of UEs covered (Reward):  160.0\n",
            "-----------------------------episode  2355 -----------------------------\n"
          ]
        },
        {
          "output_type": "stream",
          "name": "stderr",
          "text": [
            " 47%|████▋     | 2356/5000 [06:01<07:22,  5.97it/s]"
          ]
        },
        {
          "output_type": "stream",
          "name": "stdout",
          "text": [
            "no. of UEs covered (Reward):  940.0\n",
            "-----------------------------episode  2356 -----------------------------\n",
            "no. of UEs covered (Reward):  540.0\n",
            "-----------------------------episode  2357 -----------------------------\n"
          ]
        },
        {
          "output_type": "stream",
          "name": "stderr",
          "text": [
            " 47%|████▋     | 2358/5000 [06:02<07:15,  6.06it/s]"
          ]
        },
        {
          "output_type": "stream",
          "name": "stdout",
          "text": [
            "no. of UEs covered (Reward):  1360.0\n",
            "-----------------------------episode  2358 -----------------------------\n",
            "no. of UEs covered (Reward):  230.0\n",
            "-----------------------------episode  2359 -----------------------------\n"
          ]
        },
        {
          "output_type": "stream",
          "name": "stderr",
          "text": [
            " 47%|████▋     | 2360/5000 [06:02<07:14,  6.08it/s]"
          ]
        },
        {
          "output_type": "stream",
          "name": "stdout",
          "text": [
            "no. of UEs covered (Reward):  1290.0\n",
            "-----------------------------episode  2360 -----------------------------\n",
            "no. of UEs covered (Reward):  1340.0\n",
            "-----------------------------episode  2361 -----------------------------\n"
          ]
        },
        {
          "output_type": "stream",
          "name": "stderr",
          "text": [
            " 47%|████▋     | 2362/5000 [06:02<07:07,  6.17it/s]"
          ]
        },
        {
          "output_type": "stream",
          "name": "stdout",
          "text": [
            "no. of UEs covered (Reward):  560.0\n",
            "-----------------------------episode  2362 -----------------------------\n",
            "no. of UEs covered (Reward):  1340.0\n",
            "-----------------------------episode  2363 -----------------------------\n"
          ]
        },
        {
          "output_type": "stream",
          "name": "stderr",
          "text": [
            " 47%|████▋     | 2364/5000 [06:03<07:03,  6.23it/s]"
          ]
        },
        {
          "output_type": "stream",
          "name": "stdout",
          "text": [
            "no. of UEs covered (Reward):  490.0\n",
            "-----------------------------episode  2364 -----------------------------\n",
            "no. of UEs covered (Reward):  850.0\n",
            "-----------------------------episode  2365 -----------------------------\n"
          ]
        },
        {
          "output_type": "stream",
          "name": "stderr",
          "text": [
            " 47%|████▋     | 2366/5000 [06:03<07:06,  6.18it/s]"
          ]
        },
        {
          "output_type": "stream",
          "name": "stdout",
          "text": [
            "no. of UEs covered (Reward):  130.0\n",
            "-----------------------------episode  2366 -----------------------------\n",
            "no. of UEs covered (Reward):  660.0\n",
            "-----------------------------episode  2367 -----------------------------\n"
          ]
        },
        {
          "output_type": "stream",
          "name": "stderr",
          "text": [
            " 47%|████▋     | 2368/5000 [06:03<07:08,  6.14it/s]"
          ]
        },
        {
          "output_type": "stream",
          "name": "stdout",
          "text": [
            "no. of UEs covered (Reward):  90.0\n",
            "-----------------------------episode  2368 -----------------------------\n",
            "no. of UEs covered (Reward):  1100.0\n",
            "-----------------------------episode  2369 -----------------------------\n"
          ]
        },
        {
          "output_type": "stream",
          "name": "stderr",
          "text": [
            " 47%|████▋     | 2370/5000 [06:04<07:13,  6.07it/s]"
          ]
        },
        {
          "output_type": "stream",
          "name": "stdout",
          "text": [
            "no. of UEs covered (Reward):  110.0\n",
            "-----------------------------episode  2370 -----------------------------\n",
            "no. of UEs covered (Reward):  90.0\n",
            "-----------------------------episode  2371 -----------------------------\n"
          ]
        },
        {
          "output_type": "stream",
          "name": "stderr",
          "text": [
            "\r 47%|████▋     | 2371/5000 [06:04<07:20,  5.97it/s]"
          ]
        },
        {
          "output_type": "stream",
          "name": "stdout",
          "text": [
            "no. of UEs covered (Reward):  120.0\n",
            "-----------------------------episode  2372 -----------------------------\n"
          ]
        },
        {
          "output_type": "stream",
          "name": "stderr",
          "text": [
            "\r 47%|████▋     | 2372/5000 [06:11<1:45:14,  2.40s/it]"
          ]
        },
        {
          "output_type": "stream",
          "name": "stdout",
          "text": [
            "no. of UEs covered (Reward):  470.0\n",
            "-----------------------------episode  2373 -----------------------------\n"
          ]
        },
        {
          "output_type": "stream",
          "name": "stderr",
          "text": [
            "\r 47%|████▋     | 2372/5000 [08:58<09:56,  4.40it/s]  \n"
          ]
        },
        {
          "output_type": "error",
          "ename": "KeyboardInterrupt",
          "evalue": "ignored",
          "traceback": [
            "\u001b[0;31m---------------------------------------------------------------------------\u001b[0m",
            "\u001b[0;31mKeyboardInterrupt\u001b[0m                         Traceback (most recent call last)",
            "\u001b[0;32m<ipython-input-34-2fa71901ed7f>\u001b[0m in \u001b[0;36m<module>\u001b[0;34m\u001b[0m\n\u001b[0;32m----> 1\u001b[0;31m \u001b[0mstats\u001b[0m \u001b[0;34m=\u001b[0m \u001b[0mdeep_q_learning\u001b[0m\u001b[0;34m(\u001b[0m\u001b[0mq_network\u001b[0m\u001b[0;34m,\u001b[0m \u001b[0mpolicy\u001b[0m\u001b[0;34m,\u001b[0m \u001b[0;36m5000\u001b[0m\u001b[0;34m)\u001b[0m\u001b[0;34m\u001b[0m\u001b[0;34m\u001b[0m\u001b[0m\n\u001b[0m",
            "\u001b[0;32m<ipython-input-33-0109533619bd>\u001b[0m in \u001b[0;36mdeep_q_learning\u001b[0;34m(q_network, policy, episodes, alpha, batch_size, gamma, epsilon)\u001b[0m\n\u001b[1;32m     21\u001b[0m                 \u001b[0mqsa_b\u001b[0m \u001b[0;34m=\u001b[0m \u001b[0mq_network\u001b[0m\u001b[0;34m(\u001b[0m\u001b[0mstate_b\u001b[0m\u001b[0;34m)\u001b[0m\u001b[0;34m.\u001b[0m\u001b[0mgather\u001b[0m\u001b[0;34m(\u001b[0m\u001b[0;36m1\u001b[0m\u001b[0;34m,\u001b[0m \u001b[0maction_b\u001b[0m\u001b[0;34m)\u001b[0m\u001b[0;34m\u001b[0m\u001b[0;34m\u001b[0m\u001b[0m\n\u001b[1;32m     22\u001b[0m \u001b[0;34m\u001b[0m\u001b[0m\n\u001b[0;32m---> 23\u001b[0;31m                 \u001b[0mnext_qsa_b\u001b[0m \u001b[0;34m=\u001b[0m \u001b[0mtarget_q_network\u001b[0m\u001b[0;34m(\u001b[0m\u001b[0mnext_state_b\u001b[0m\u001b[0;34m)\u001b[0m\u001b[0;34m\u001b[0m\u001b[0;34m\u001b[0m\u001b[0m\n\u001b[0m\u001b[1;32m     24\u001b[0m                 \u001b[0mnext_qsa_b\u001b[0m \u001b[0;34m=\u001b[0m \u001b[0mtorch\u001b[0m\u001b[0;34m.\u001b[0m\u001b[0mmax\u001b[0m\u001b[0;34m(\u001b[0m\u001b[0mnext_qsa_b\u001b[0m\u001b[0;34m,\u001b[0m \u001b[0mdim\u001b[0m \u001b[0;34m=\u001b[0m\u001b[0;34m-\u001b[0m\u001b[0;36m1\u001b[0m\u001b[0;34m,\u001b[0m \u001b[0mkeepdim\u001b[0m\u001b[0;34m=\u001b[0m\u001b[0;32mTrue\u001b[0m\u001b[0;34m)\u001b[0m\u001b[0;34m[\u001b[0m\u001b[0;36m0\u001b[0m\u001b[0;34m]\u001b[0m\u001b[0;34m\u001b[0m\u001b[0;34m\u001b[0m\u001b[0m\n\u001b[1;32m     25\u001b[0m \u001b[0;34m\u001b[0m\u001b[0m\n",
            "\u001b[0;32m/usr/local/lib/python3.8/dist-packages/torch/nn/modules/module.py\u001b[0m in \u001b[0;36m_call_impl\u001b[0;34m(self, *input, **kwargs)\u001b[0m\n\u001b[1;32m   1192\u001b[0m         if not (self._backward_hooks or self._forward_hooks or self._forward_pre_hooks or _global_backward_hooks\n\u001b[1;32m   1193\u001b[0m                 or _global_forward_hooks or _global_forward_pre_hooks):\n\u001b[0;32m-> 1194\u001b[0;31m             \u001b[0;32mreturn\u001b[0m \u001b[0mforward_call\u001b[0m\u001b[0;34m(\u001b[0m\u001b[0;34m*\u001b[0m\u001b[0minput\u001b[0m\u001b[0;34m,\u001b[0m \u001b[0;34m**\u001b[0m\u001b[0mkwargs\u001b[0m\u001b[0;34m)\u001b[0m\u001b[0;34m\u001b[0m\u001b[0;34m\u001b[0m\u001b[0m\n\u001b[0m\u001b[1;32m   1195\u001b[0m         \u001b[0;31m# Do not call functions when jit is used\u001b[0m\u001b[0;34m\u001b[0m\u001b[0;34m\u001b[0m\u001b[0;34m\u001b[0m\u001b[0m\n\u001b[1;32m   1196\u001b[0m         \u001b[0mfull_backward_hooks\u001b[0m\u001b[0;34m,\u001b[0m \u001b[0mnon_full_backward_hooks\u001b[0m \u001b[0;34m=\u001b[0m \u001b[0;34m[\u001b[0m\u001b[0;34m]\u001b[0m\u001b[0;34m,\u001b[0m \u001b[0;34m[\u001b[0m\u001b[0;34m]\u001b[0m\u001b[0;34m\u001b[0m\u001b[0;34m\u001b[0m\u001b[0m\n",
            "\u001b[0;32m/usr/local/lib/python3.8/dist-packages/torch/nn/modules/container.py\u001b[0m in \u001b[0;36mforward\u001b[0;34m(self, input)\u001b[0m\n\u001b[1;32m    202\u001b[0m     \u001b[0;32mdef\u001b[0m \u001b[0mforward\u001b[0m\u001b[0;34m(\u001b[0m\u001b[0mself\u001b[0m\u001b[0;34m,\u001b[0m \u001b[0minput\u001b[0m\u001b[0;34m)\u001b[0m\u001b[0;34m:\u001b[0m\u001b[0;34m\u001b[0m\u001b[0;34m\u001b[0m\u001b[0m\n\u001b[1;32m    203\u001b[0m         \u001b[0;32mfor\u001b[0m \u001b[0mmodule\u001b[0m \u001b[0;32min\u001b[0m \u001b[0mself\u001b[0m\u001b[0;34m:\u001b[0m\u001b[0;34m\u001b[0m\u001b[0;34m\u001b[0m\u001b[0m\n\u001b[0;32m--> 204\u001b[0;31m             \u001b[0minput\u001b[0m \u001b[0;34m=\u001b[0m \u001b[0mmodule\u001b[0m\u001b[0;34m(\u001b[0m\u001b[0minput\u001b[0m\u001b[0;34m)\u001b[0m\u001b[0;34m\u001b[0m\u001b[0;34m\u001b[0m\u001b[0m\n\u001b[0m\u001b[1;32m    205\u001b[0m         \u001b[0;32mreturn\u001b[0m \u001b[0minput\u001b[0m\u001b[0;34m\u001b[0m\u001b[0;34m\u001b[0m\u001b[0m\n\u001b[1;32m    206\u001b[0m \u001b[0;34m\u001b[0m\u001b[0m\n",
            "\u001b[0;32m/usr/local/lib/python3.8/dist-packages/torch/nn/modules/module.py\u001b[0m in \u001b[0;36m_call_impl\u001b[0;34m(self, *input, **kwargs)\u001b[0m\n\u001b[1;32m   1192\u001b[0m         if not (self._backward_hooks or self._forward_hooks or self._forward_pre_hooks or _global_backward_hooks\n\u001b[1;32m   1193\u001b[0m                 or _global_forward_hooks or _global_forward_pre_hooks):\n\u001b[0;32m-> 1194\u001b[0;31m             \u001b[0;32mreturn\u001b[0m \u001b[0mforward_call\u001b[0m\u001b[0;34m(\u001b[0m\u001b[0;34m*\u001b[0m\u001b[0minput\u001b[0m\u001b[0;34m,\u001b[0m \u001b[0;34m**\u001b[0m\u001b[0mkwargs\u001b[0m\u001b[0;34m)\u001b[0m\u001b[0;34m\u001b[0m\u001b[0;34m\u001b[0m\u001b[0m\n\u001b[0m\u001b[1;32m   1195\u001b[0m         \u001b[0;31m# Do not call functions when jit is used\u001b[0m\u001b[0;34m\u001b[0m\u001b[0;34m\u001b[0m\u001b[0;34m\u001b[0m\u001b[0m\n\u001b[1;32m   1196\u001b[0m         \u001b[0mfull_backward_hooks\u001b[0m\u001b[0;34m,\u001b[0m \u001b[0mnon_full_backward_hooks\u001b[0m \u001b[0;34m=\u001b[0m \u001b[0;34m[\u001b[0m\u001b[0;34m]\u001b[0m\u001b[0;34m,\u001b[0m \u001b[0;34m[\u001b[0m\u001b[0;34m]\u001b[0m\u001b[0;34m\u001b[0m\u001b[0;34m\u001b[0m\u001b[0m\n",
            "\u001b[0;32m/usr/local/lib/python3.8/dist-packages/torch/nn/modules/linear.py\u001b[0m in \u001b[0;36mforward\u001b[0;34m(self, input)\u001b[0m\n\u001b[1;32m    112\u001b[0m \u001b[0;34m\u001b[0m\u001b[0m\n\u001b[1;32m    113\u001b[0m     \u001b[0;32mdef\u001b[0m \u001b[0mforward\u001b[0m\u001b[0;34m(\u001b[0m\u001b[0mself\u001b[0m\u001b[0;34m,\u001b[0m \u001b[0minput\u001b[0m\u001b[0;34m:\u001b[0m \u001b[0mTensor\u001b[0m\u001b[0;34m)\u001b[0m \u001b[0;34m->\u001b[0m \u001b[0mTensor\u001b[0m\u001b[0;34m:\u001b[0m\u001b[0;34m\u001b[0m\u001b[0;34m\u001b[0m\u001b[0m\n\u001b[0;32m--> 114\u001b[0;31m         \u001b[0;32mreturn\u001b[0m \u001b[0mF\u001b[0m\u001b[0;34m.\u001b[0m\u001b[0mlinear\u001b[0m\u001b[0;34m(\u001b[0m\u001b[0minput\u001b[0m\u001b[0;34m,\u001b[0m \u001b[0mself\u001b[0m\u001b[0;34m.\u001b[0m\u001b[0mweight\u001b[0m\u001b[0;34m,\u001b[0m \u001b[0mself\u001b[0m\u001b[0;34m.\u001b[0m\u001b[0mbias\u001b[0m\u001b[0;34m)\u001b[0m\u001b[0;34m\u001b[0m\u001b[0;34m\u001b[0m\u001b[0m\n\u001b[0m\u001b[1;32m    115\u001b[0m \u001b[0;34m\u001b[0m\u001b[0m\n\u001b[1;32m    116\u001b[0m     \u001b[0;32mdef\u001b[0m \u001b[0mextra_repr\u001b[0m\u001b[0;34m(\u001b[0m\u001b[0mself\u001b[0m\u001b[0;34m)\u001b[0m \u001b[0;34m->\u001b[0m \u001b[0mstr\u001b[0m\u001b[0;34m:\u001b[0m\u001b[0;34m\u001b[0m\u001b[0;34m\u001b[0m\u001b[0m\n",
            "\u001b[0;31mKeyboardInterrupt\u001b[0m: "
          ]
        }
      ],
      "source": [
        "stats = deep_q_learning(q_network, policy, 5000)"
      ]
    },
    {
      "cell_type": "code",
      "execution_count": 35,
      "metadata": {
        "id": "jK4Tm8kKZw4w"
      },
      "outputs": [],
      "source": [
        "def plot_stats1(stats):\n",
        "    rows = len(stats)\n",
        "    cols = 1\n",
        "\n",
        "    fig, ax = plt.subplots(rows, cols, figsize=(12, 6))\n",
        "\n",
        "    for i, key in enumerate(stats):\n",
        "        vals = stats[key]\n",
        "        \n",
        "        for j in range(len(vals)):\n",
        "            if(torch.is_tensor(vals[j])):\n",
        "                vals[j] = vals[j].detach().numpy()\n",
        "        vals = [np.mean(vals[i-10:i+10]) for i in range(10, len(vals)-10)]\n",
        "        if len(stats) > 1:\n",
        "            ax[i].plot(range(len(vals)), vals)\n",
        "            ax[i].set_title(key, size=18)\n",
        "        else:\n",
        "            ax.plot(range(len(vals)), vals)\n",
        "            ax.set_title(key, size=18)\n",
        "    plt.tight_layout()\n",
        "    plt.show()\n"
      ]
    },
    {
      "cell_type": "code",
      "source": [
        "def run_random_episode():\n",
        "  \n",
        "  state = env.reset()\n",
        "  print(\"beginning state: \", state[0][:2])\n",
        "  done = False\n",
        "  UAV_positions_list = [state.numpy().flatten()]\n",
        "  while not done:\n",
        "    action = policy(state, epsilon=0.)\n",
        "    # print(\"action: \", action)\n",
        "    new_state, reward, done, _ = env.step(action)\n",
        "    # print(\"new_state: \", new_state[0][:2])\n",
        "    state = new_state\n",
        "    UAV_positions_list.append(state.numpy().flatten())\n",
        "\n",
        "  print(UAV_positions_list)\n",
        "  env.render_UAV_movement_through_episode(UAV_positions_list = UAV_positions_list)\n",
        "  return\n",
        "\n",
        "run_random_episode()"
      ],
      "metadata": {
        "colab": {
          "base_uri": "https://localhost:8080/",
          "height": 676
        },
        "id": "FZCz5-lo1YU-",
        "outputId": "749d1a90-051f-498c-ee1c-1b9b4f0dbd75"
      },
      "execution_count": 53,
      "outputs": [
        {
          "output_type": "stream",
          "name": "stdout",
          "text": [
            "beginning state:  tensor([140.9028, 142.1310])\n",
            "[array([140.90279, 142.13104], dtype=float32), array([134.90279, 142.13104], dtype=float32), array([128.90279, 142.13104], dtype=float32), array([122.902794, 142.13104 ], dtype=float32), array([116.902794, 142.13104 ], dtype=float32), array([110.902794, 142.13104 ], dtype=float32), array([104.902794, 142.13104 ], dtype=float32), array([ 98.902794, 142.13104 ], dtype=float32), array([ 92.902794, 142.13104 ], dtype=float32), array([ 86.902794, 142.13104 ], dtype=float32), array([ 80.902794, 142.13104 ], dtype=float32), array([ 74.902794, 142.13104 ], dtype=float32), array([ 68.902794, 142.13104 ], dtype=float32), array([ 62.902794, 142.13104 ], dtype=float32), array([ 56.902794, 142.13104 ], dtype=float32), array([ 50.902794, 142.13104 ], dtype=float32), array([ 55.145435, 137.8884  ], dtype=float32), array([ 59.388073, 133.64577 ], dtype=float32), array([ 59.388073, 127.64576 ], dtype=float32), array([ 59.388073, 121.64576 ], dtype=float32), array([ 59.388073, 115.64576 ], dtype=float32), array([ 59.388073, 109.64576 ], dtype=float32), array([ 59.388073, 103.64576 ], dtype=float32), array([59.388073, 97.64576 ], dtype=float32), array([59.388073, 91.64576 ], dtype=float32), array([59.388073, 85.64576 ], dtype=float32), array([59.388073, 79.64576 ], dtype=float32), array([59.388073, 73.64576 ], dtype=float32), array([59.388073, 67.64576 ], dtype=float32), array([59.388073, 61.645763], dtype=float32), array([59.388073, 55.645763], dtype=float32), array([59.388073, 49.645763], dtype=float32), array([59.388073, 43.645763], dtype=float32), array([59.388073, 37.645763], dtype=float32), array([59.388073, 31.645763], dtype=float32), array([53.388073, 31.645763], dtype=float32), array([57.630714, 27.403122], dtype=float32), array([51.630714, 27.403122], dtype=float32), array([55.873356, 23.16048 ], dtype=float32), array([49.873356, 23.16048 ], dtype=float32), array([54.115997, 18.917841], dtype=float32), array([48.115997, 18.917841], dtype=float32), array([52.35864, 14.6752 ], dtype=float32), array([52.35864, 20.6752 ], dtype=float32), array([56.601276, 16.43256 ], dtype=float32), array([50.601276, 16.43256 ], dtype=float32), array([50.601276, 22.43256 ], dtype=float32), array([54.843918, 18.189919], dtype=float32), array([48.843918, 18.189919], dtype=float32), array([53.08656 , 13.947278], dtype=float32), array([53.08656 , 19.947277], dtype=float32)]\n"
          ]
        },
        {
          "output_type": "display_data",
          "data": {
            "text/plain": [
              "<Figure size 720x720 with 1 Axes>"
            ],
            "image/png": "[encoded data removed]"
          },
          "metadata": {
            "needs_background": "light"
          }
        }
      ]
    },
    {
      "cell_type": "code",
      "source": [
        "UAV_positions_list\n",
        "env.render_UAV_movement_through_episode(UAV_positions_list)"
      ],
      "metadata": {
        "id": "LV6-Wmn1w-wJ"
      },
      "execution_count": null,
      "outputs": []
    },
    {
      "cell_type": "code",
      "source": [
        "env.get_count_of_UEs_covered()"
      ],
      "metadata": {
        "colab": {
          "base_uri": "https://localhost:8080/"
        },
        "id": "YECxdnB0R9-O",
        "outputId": "14c98e0e-96fc-4fe3-b43d-0cff00dafcab"
      },
      "execution_count": 51,
      "outputs": [
        {
          "output_type": "execute_result",
          "data": {
            "text/plain": [
              "138"
            ]
          },
          "metadata": {},
          "execution_count": 51
        }
      ]
    },
    {
      "cell_type": "markdown",
      "metadata": {
        "id": "_6qBXCOOZw4w"
      },
      "source": [
        "## Show results"
      ]
    },
    {
      "cell_type": "markdown",
      "metadata": {
        "id": "08wmj1aFZw4w"
      },
      "source": [
        "### Plot execution stats"
      ]
    },
    {
      "cell_type": "code",
      "execution_count": 52,
      "metadata": {
        "colab": {
          "base_uri": "https://localhost:8080/",
          "height": 166
        },
        "id": "FFT-dXQdZw4w",
        "outputId": "a73896a2-e453-4cd9-a44f-25d7b164fd48"
      },
      "outputs": [
        {
          "output_type": "error",
          "ename": "NameError",
          "evalue": "ignored",
          "traceback": [
            "\u001b[0;31m---------------------------------------------------------------------------\u001b[0m",
            "\u001b[0;31mNameError\u001b[0m                                 Traceback (most recent call last)",
            "\u001b[0;32m<ipython-input-52-7a315aa83bdd>\u001b[0m in \u001b[0;36m<module>\u001b[0;34m\u001b[0m\n\u001b[0;32m----> 1\u001b[0;31m \u001b[0mplot_stats1\u001b[0m\u001b[0;34m(\u001b[0m\u001b[0mstats\u001b[0m\u001b[0;34m)\u001b[0m\u001b[0;34m\u001b[0m\u001b[0;34m\u001b[0m\u001b[0m\n\u001b[0m",
            "\u001b[0;31mNameError\u001b[0m: name 'stats' is not defined"
          ]
        }
      ],
      "source": [
        "plot_stats1(stats)"
      ]
    },
    {
      "cell_type": "markdown",
      "metadata": {
        "id": "no0jfGc0Zw4w"
      },
      "source": [
        "### Test the resulting agent"
      ]
    },
    {
      "cell_type": "code",
      "execution_count": null,
      "metadata": {
        "colab": {
          "base_uri": "https://localhost:8080/",
          "height": 166
        },
        "id": "fGXuETsYZw4w",
        "outputId": "9b0a6703-1463-4ae9-9c5b-59ecfd01d11c"
      },
      "outputs": [
        {
          "output_type": "error",
          "ename": "NameError",
          "evalue": "ignored",
          "traceback": [
            "\u001b[0;31m---------------------------------------------------------------------------\u001b[0m",
            "\u001b[0;31mNameError\u001b[0m                                 Traceback (most recent call last)",
            "\u001b[0;32m<ipython-input-84-e6a01ce2437c>\u001b[0m in \u001b[0;36m<module>\u001b[0;34m\u001b[0m\n\u001b[0;32m----> 1\u001b[0;31m \u001b[0mtest_agent\u001b[0m\u001b[0;34m(\u001b[0m\u001b[0menv\u001b[0m\u001b[0;34m,\u001b[0m \u001b[0mpolicy\u001b[0m\u001b[0;34m,\u001b[0m \u001b[0mepisodes\u001b[0m\u001b[0;34m=\u001b[0m\u001b[0;36m2\u001b[0m\u001b[0;34m)\u001b[0m\u001b[0;34m\u001b[0m\u001b[0;34m\u001b[0m\u001b[0m\n\u001b[0m",
            "\u001b[0;31mNameError\u001b[0m: name 'test_agent' is not defined"
          ]
        }
      ],
      "source": [
        "test_agent(env, policy, episodes=2)"
      ]
    },
    {
      "cell_type": "code",
      "execution_count": null,
      "metadata": {
        "id": "cNkcJkZ3Zw4x"
      },
      "outputs": [],
      "source": [
        "env.close()"
      ]
    },
    {
      "cell_type": "markdown",
      "metadata": {
        "id": "cPzpGksXZw4x"
      },
      "source": [
        "## Resources"
      ]
    },
    {
      "cell_type": "markdown",
      "metadata": {
        "id": "xpx00B27Zw4x"
      },
      "source": [
        "[[1] Playing Atari with Deep Reinforcement Learning](https://www.cs.toronto.edu/~vmnih/docs/dqn.pdf)"
      ]
    }
  ],
  "metadata": {
    "kernelspec": {
      "display_name": "Python 3 (ipykernel)",
      "language": "python",
      "name": "python3"
    },
    "language_info": {
      "codemirror_mode": {
        "name": "ipython",
        "version": 3
      },
      "file_extension": ".py",
      "mimetype": "text/x-python",
      "name": "python",
      "nbconvert_exporter": "python",
      "pygments_lexer": "ipython3",
      "version": "3.9.12"
    },
    "colab": {
      "provenance": [],
      "include_colab_link": true
    },
    "accelerator": "GPU",
    "gpuClass": "standard"
  },
  "nbformat": 4,
  "nbformat_minor": 0
}